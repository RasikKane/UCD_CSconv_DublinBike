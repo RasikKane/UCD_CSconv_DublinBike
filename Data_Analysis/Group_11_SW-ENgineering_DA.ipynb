{
 "cells": [
  {
   "cell_type": "markdown",
   "metadata": {},
   "source": [
    "# DATA VISUALISATION for dublin bikes and dublin weather  "
   ]
  },
  {
   "cell_type": "markdown",
   "metadata": {},
   "source": [
    "# Initial Statements, Setup & File access "
   ]
  },
  {
   "cell_type": "markdown",
   "metadata": {},
   "source": [
    "Words \"Column\", \"Features\", \"Feature vectors\" are used synonymously to indicate a feature of data."
   ]
  },
  {
   "cell_type": "code",
   "execution_count": 126,
   "metadata": {},
   "outputs": [],
   "source": [
    "# Import pandas, numpy, matplotlib, seaborn libraries\n",
    "import pandas as pd\n",
    "import numpy as np\n",
    "import matplotlib.pyplot as plt\n",
    "import matplotlib.patches as mpatches\n",
    "import seaborn as sns\n",
    "from matplotlib.backends.backend_pdf import PdfPages\n",
    "from tabulate import tabulate\n",
    "\n",
    "# hide ipykernel warnings \n",
    "import warnings\n",
    "warnings.filterwarnings('ignore')\n",
    "\n",
    "%matplotlib inline"
   ]
  },
  {
   "cell_type": "code",
   "execution_count": 127,
   "metadata": {},
   "outputs": [],
   "source": [
    "# read in data from csv file to pandas dataframe.  \n",
    "bikeStatic = pd.read_csv('dBikeS.csv',  keep_default_na=True, sep=',\\s+', delimiter=',', skipinitialspace=True)\n",
    "bikeDynamic = pd.read_csv('dBikeD.csv',  keep_default_na=True, sep=',\\s+', delimiter=',', skipinitialspace=True)\n",
    "weather = pd.read_csv('dWeatherD.csv',  keep_default_na=True, sep=',\\s+', delimiter=',', skipinitialspace=True)"
   ]
  },
  {
   "cell_type": "markdown",
   "metadata": {},
   "source": [
    "# 1. Data Quality Report"
   ]
  },
  {
   "cell_type": "markdown",
   "metadata": {},
   "source": [
    " - **Scope of stage 1**\n",
    "     - Data is not dropped unless for rows are duplicated.\n",
    "     - Data within a feature is manipulated only with mathematical operation. Data is not altered with reference to data in other features.\n",
    "     - Null values are not treated/ replaced with a unique name. They are preserved for stage2 operations."
   ]
  },
  {
   "cell_type": "markdown",
   "metadata": {},
   "source": [
    "## 1.1 Data view and formatting for Dublin bike dynamic data"
   ]
  },
  {
   "cell_type": "markdown",
   "metadata": {},
   "source": [
    "### 1.1.1 Check details about number of data samples and attributes in data"
   ]
  },
  {
   "cell_type": "code",
   "execution_count": 128,
   "metadata": {},
   "outputs": [
    {
     "data": {
      "text/plain": [
       "(369160, 8)"
      ]
     },
     "execution_count": 128,
     "metadata": {},
     "output_type": "execute_result"
    }
   ],
   "source": [
    "bikeDynamic.shape"
   ]
  },
  {
   "cell_type": "markdown",
   "metadata": {},
   "source": [
    "### 1.1.2 List sample head and tail rows of data"
   ]
  },
  {
   "cell_type": "markdown",
   "metadata": {},
   "source": [
    "#### Sample first 5 rows "
   ]
  },
  {
   "cell_type": "code",
   "execution_count": 129,
   "metadata": {},
   "outputs": [
    {
     "data": {
      "text/html": [
       "<div>\n",
       "<style scoped>\n",
       "    .dataframe tbody tr th:only-of-type {\n",
       "        vertical-align: middle;\n",
       "    }\n",
       "\n",
       "    .dataframe tbody tr th {\n",
       "        vertical-align: top;\n",
       "    }\n",
       "\n",
       "    .dataframe thead th {\n",
       "        text-align: right;\n",
       "    }\n",
       "</style>\n",
       "<table border=\"1\" class=\"dataframe\">\n",
       "  <thead>\n",
       "    <tr style=\"text-align: right;\">\n",
       "      <th></th>\n",
       "      <th>id_Entry</th>\n",
       "      <th>number</th>\n",
       "      <th>status</th>\n",
       "      <th>bike_stands</th>\n",
       "      <th>available_bike_stands</th>\n",
       "      <th>available_bikes</th>\n",
       "      <th>last_update</th>\n",
       "      <th>data_entry_timestamp</th>\n",
       "    </tr>\n",
       "  </thead>\n",
       "  <tbody>\n",
       "    <tr>\n",
       "      <th>0</th>\n",
       "      <td>1745</td>\n",
       "      <td>42</td>\n",
       "      <td>OPEN</td>\n",
       "      <td>30</td>\n",
       "      <td>17</td>\n",
       "      <td>13</td>\n",
       "      <td>2020-02-28 14:55:41</td>\n",
       "      <td>2020-02-28 15:00:04</td>\n",
       "    </tr>\n",
       "    <tr>\n",
       "      <th>1</th>\n",
       "      <td>1746</td>\n",
       "      <td>30</td>\n",
       "      <td>OPEN</td>\n",
       "      <td>20</td>\n",
       "      <td>16</td>\n",
       "      <td>4</td>\n",
       "      <td>2020-02-28 14:59:32</td>\n",
       "      <td>2020-02-28 15:00:04</td>\n",
       "    </tr>\n",
       "    <tr>\n",
       "      <th>2</th>\n",
       "      <td>1747</td>\n",
       "      <td>54</td>\n",
       "      <td>OPEN</td>\n",
       "      <td>33</td>\n",
       "      <td>22</td>\n",
       "      <td>9</td>\n",
       "      <td>2020-02-28 14:54:01</td>\n",
       "      <td>2020-02-28 15:00:04</td>\n",
       "    </tr>\n",
       "    <tr>\n",
       "      <th>3</th>\n",
       "      <td>1748</td>\n",
       "      <td>108</td>\n",
       "      <td>OPEN</td>\n",
       "      <td>40</td>\n",
       "      <td>37</td>\n",
       "      <td>3</td>\n",
       "      <td>2020-02-28 14:59:44</td>\n",
       "      <td>2020-02-28 15:00:04</td>\n",
       "    </tr>\n",
       "    <tr>\n",
       "      <th>4</th>\n",
       "      <td>1749</td>\n",
       "      <td>56</td>\n",
       "      <td>OPEN</td>\n",
       "      <td>40</td>\n",
       "      <td>13</td>\n",
       "      <td>27</td>\n",
       "      <td>2020-02-28 14:52:20</td>\n",
       "      <td>2020-02-28 15:00:04</td>\n",
       "    </tr>\n",
       "  </tbody>\n",
       "</table>\n",
       "</div>"
      ],
      "text/plain": [
       "   id_Entry  number status  bike_stands  available_bike_stands  \\\n",
       "0      1745      42   OPEN           30                     17   \n",
       "1      1746      30   OPEN           20                     16   \n",
       "2      1747      54   OPEN           33                     22   \n",
       "3      1748     108   OPEN           40                     37   \n",
       "4      1749      56   OPEN           40                     13   \n",
       "\n",
       "   available_bikes          last_update data_entry_timestamp  \n",
       "0               13  2020-02-28 14:55:41  2020-02-28 15:00:04  \n",
       "1                4  2020-02-28 14:59:32  2020-02-28 15:00:04  \n",
       "2                9  2020-02-28 14:54:01  2020-02-28 15:00:04  \n",
       "3                3  2020-02-28 14:59:44  2020-02-28 15:00:04  \n",
       "4               27  2020-02-28 14:52:20  2020-02-28 15:00:04  "
      ]
     },
     "execution_count": 129,
     "metadata": {},
     "output_type": "execute_result"
    }
   ],
   "source": [
    "bikeDynamic.head()"
   ]
  },
  {
   "cell_type": "markdown",
   "metadata": {},
   "source": [
    "#### Sample last 5 rows "
   ]
  },
  {
   "cell_type": "code",
   "execution_count": 130,
   "metadata": {},
   "outputs": [
    {
     "data": {
      "text/html": [
       "<div>\n",
       "<style scoped>\n",
       "    .dataframe tbody tr th:only-of-type {\n",
       "        vertical-align: middle;\n",
       "    }\n",
       "\n",
       "    .dataframe tbody tr th {\n",
       "        vertical-align: top;\n",
       "    }\n",
       "\n",
       "    .dataframe thead th {\n",
       "        text-align: right;\n",
       "    }\n",
       "</style>\n",
       "<table border=\"1\" class=\"dataframe\">\n",
       "  <thead>\n",
       "    <tr style=\"text-align: right;\">\n",
       "      <th></th>\n",
       "      <th>id_Entry</th>\n",
       "      <th>number</th>\n",
       "      <th>status</th>\n",
       "      <th>bike_stands</th>\n",
       "      <th>available_bike_stands</th>\n",
       "      <th>available_bikes</th>\n",
       "      <th>last_update</th>\n",
       "      <th>data_entry_timestamp</th>\n",
       "    </tr>\n",
       "  </thead>\n",
       "  <tbody>\n",
       "    <tr>\n",
       "      <th>369155</th>\n",
       "      <td>370900</td>\n",
       "      <td>39</td>\n",
       "      <td>OPEN</td>\n",
       "      <td>20</td>\n",
       "      <td>6</td>\n",
       "      <td>14</td>\n",
       "      <td>2020-03-24 11:37:49</td>\n",
       "      <td>2020-03-24 11:40:02</td>\n",
       "    </tr>\n",
       "    <tr>\n",
       "      <th>369156</th>\n",
       "      <td>370901</td>\n",
       "      <td>83</td>\n",
       "      <td>OPEN</td>\n",
       "      <td>40</td>\n",
       "      <td>27</td>\n",
       "      <td>13</td>\n",
       "      <td>2020-03-24 11:35:57</td>\n",
       "      <td>2020-03-24 11:40:02</td>\n",
       "    </tr>\n",
       "    <tr>\n",
       "      <th>369157</th>\n",
       "      <td>370902</td>\n",
       "      <td>92</td>\n",
       "      <td>OPEN</td>\n",
       "      <td>40</td>\n",
       "      <td>25</td>\n",
       "      <td>15</td>\n",
       "      <td>2020-03-24 11:38:08</td>\n",
       "      <td>2020-03-24 11:40:02</td>\n",
       "    </tr>\n",
       "    <tr>\n",
       "      <th>369158</th>\n",
       "      <td>370903</td>\n",
       "      <td>21</td>\n",
       "      <td>OPEN</td>\n",
       "      <td>30</td>\n",
       "      <td>22</td>\n",
       "      <td>8</td>\n",
       "      <td>2020-03-24 11:31:46</td>\n",
       "      <td>2020-03-24 11:40:02</td>\n",
       "    </tr>\n",
       "    <tr>\n",
       "      <th>369159</th>\n",
       "      <td>370904</td>\n",
       "      <td>88</td>\n",
       "      <td>OPEN</td>\n",
       "      <td>30</td>\n",
       "      <td>9</td>\n",
       "      <td>21</td>\n",
       "      <td>2020-03-24 11:35:03</td>\n",
       "      <td>2020-03-24 11:40:02</td>\n",
       "    </tr>\n",
       "  </tbody>\n",
       "</table>\n",
       "</div>"
      ],
      "text/plain": [
       "        id_Entry  number status  bike_stands  available_bike_stands  \\\n",
       "369155    370900      39   OPEN           20                      6   \n",
       "369156    370901      83   OPEN           40                     27   \n",
       "369157    370902      92   OPEN           40                     25   \n",
       "369158    370903      21   OPEN           30                     22   \n",
       "369159    370904      88   OPEN           30                      9   \n",
       "\n",
       "        available_bikes          last_update data_entry_timestamp  \n",
       "369155               14  2020-03-24 11:37:49  2020-03-24 11:40:02  \n",
       "369156               13  2020-03-24 11:35:57  2020-03-24 11:40:02  \n",
       "369157               15  2020-03-24 11:38:08  2020-03-24 11:40:02  \n",
       "369158                8  2020-03-24 11:31:46  2020-03-24 11:40:02  \n",
       "369159               21  2020-03-24 11:35:03  2020-03-24 11:40:02  "
      ]
     },
     "execution_count": 130,
     "metadata": {},
     "output_type": "execute_result"
    }
   ],
   "source": [
    "bikeDynamic.tail()"
   ]
  },
  {
   "cell_type": "markdown",
   "metadata": {},
   "source": [
    "**Results**:\n",
    " - Column \"id_Entry\" is possibly a key column uniquely identifying a station.\n",
    " - No duplicate column pairs are present in lay man observation\n",
    " - Spreadsheet program shows that all values logged in database are normal and nothing unregulated found."
   ]
  },
  {
   "cell_type": "markdown",
   "metadata": {},
   "source": [
    "### 1.1.3 Convert features to apropriate data types"
   ]
  },
  {
   "cell_type": "markdown",
   "metadata": {},
   "source": [
    "#### 1.1.3.1 Count number of distinct values assumed by data for each feature  "
   ]
  },
  {
   "cell_type": "code",
   "execution_count": 131,
   "metadata": {},
   "outputs": [
    {
     "data": {
      "text/html": [
       "<div>\n",
       "<style scoped>\n",
       "    .dataframe tbody tr th:only-of-type {\n",
       "        vertical-align: middle;\n",
       "    }\n",
       "\n",
       "    .dataframe tbody tr th {\n",
       "        vertical-align: top;\n",
       "    }\n",
       "\n",
       "    .dataframe thead th {\n",
       "        text-align: right;\n",
       "    }\n",
       "</style>\n",
       "<table border=\"1\" class=\"dataframe\">\n",
       "  <thead>\n",
       "    <tr style=\"text-align: right;\">\n",
       "      <th></th>\n",
       "      <th>Features</th>\n",
       "      <th>Instances</th>\n",
       "      <th>Unique Instances</th>\n",
       "      <th>unique instances : Total instances</th>\n",
       "    </tr>\n",
       "  </thead>\n",
       "  <tbody>\n",
       "    <tr>\n",
       "      <th>0</th>\n",
       "      <td>id_Entry</td>\n",
       "      <td>369160</td>\n",
       "      <td>369160</td>\n",
       "      <td>1.000000</td>\n",
       "    </tr>\n",
       "    <tr>\n",
       "      <th>1</th>\n",
       "      <td>number</td>\n",
       "      <td>369160</td>\n",
       "      <td>110</td>\n",
       "      <td>0.000298</td>\n",
       "    </tr>\n",
       "    <tr>\n",
       "      <th>2</th>\n",
       "      <td>status</td>\n",
       "      <td>369160</td>\n",
       "      <td>2</td>\n",
       "      <td>0.000005</td>\n",
       "    </tr>\n",
       "    <tr>\n",
       "      <th>3</th>\n",
       "      <td>bike_stands</td>\n",
       "      <td>369160</td>\n",
       "      <td>17</td>\n",
       "      <td>0.000046</td>\n",
       "    </tr>\n",
       "    <tr>\n",
       "      <th>4</th>\n",
       "      <td>available_bike_stands</td>\n",
       "      <td>369160</td>\n",
       "      <td>41</td>\n",
       "      <td>0.000111</td>\n",
       "    </tr>\n",
       "    <tr>\n",
       "      <th>5</th>\n",
       "      <td>available_bikes</td>\n",
       "      <td>369160</td>\n",
       "      <td>41</td>\n",
       "      <td>0.000111</td>\n",
       "    </tr>\n",
       "    <tr>\n",
       "      <th>6</th>\n",
       "      <td>last_update</td>\n",
       "      <td>369160</td>\n",
       "      <td>311646</td>\n",
       "      <td>0.844203</td>\n",
       "    </tr>\n",
       "    <tr>\n",
       "      <th>7</th>\n",
       "      <td>data_entry_timestamp</td>\n",
       "      <td>369160</td>\n",
       "      <td>3356</td>\n",
       "      <td>0.009091</td>\n",
       "    </tr>\n",
       "  </tbody>\n",
       "</table>\n",
       "</div>"
      ],
      "text/plain": [
       "                Features Instances Unique Instances  \\\n",
       "0               id_Entry    369160           369160   \n",
       "1                 number    369160              110   \n",
       "2                 status    369160                2   \n",
       "3            bike_stands    369160               17   \n",
       "4  available_bike_stands    369160               41   \n",
       "5        available_bikes    369160               41   \n",
       "6            last_update    369160           311646   \n",
       "7   data_entry_timestamp    369160             3356   \n",
       "\n",
       "   unique instances : Total instances  \n",
       "0                            1.000000  \n",
       "1                            0.000298  \n",
       "2                            0.000005  \n",
       "3                            0.000046  \n",
       "4                            0.000111  \n",
       "5                            0.000111  \n",
       "6                            0.844203  \n",
       "7                            0.009091  "
      ]
     },
     "execution_count": 131,
     "metadata": {},
     "output_type": "execute_result"
    }
   ],
   "source": [
    "# Gather information related to identifiers for instacnes, count of instances and count of unique instances for all features. \n",
    "# This information is stored into a csv.  \n",
    "\n",
    "bikeDynamic_count = pd.DataFrame(\n",
    "    [column, str(bikeDynamic[column].count()), str(len(bikeDynamic[column].unique())),\\\n",
    "    round((len(bikeDynamic[column].unique()) / bikeDynamic[column].count()),6)] for column in bikeDynamic.columns.values\\\n",
    "    )\n",
    "bikeDynamic_count.columns = ['Features', 'Instances', 'Unique Instances','unique instances : Total instances']\n",
    "\n",
    "bikeDynamic_count"
   ]
  },
  {
   "cell_type": "markdown",
   "metadata": {},
   "source": [
    "#### 1.1.3.2 Enlist preassigned data types "
   ]
  },
  {
   "cell_type": "code",
   "execution_count": 132,
   "metadata": {},
   "outputs": [
    {
     "name": "stdout",
     "output_type": "stream",
     "text": [
      "Feature                Data Type\n",
      "---------------------  -----------\n",
      "id_Entry               int64\n",
      "number                 int64\n",
      "status                 object\n",
      "bike_stands            int64\n",
      "available_bike_stands  int64\n",
      "available_bikes        int64\n",
      "last_update            object\n",
      "data_entry_timestamp   object \n",
      "\n",
      "\n",
      "\n"
     ]
    }
   ],
   "source": [
    "print(tabulate(pd.DataFrame(bikeDynamic.dtypes), headers=[\"Feature\", \"Data Type\"]), \"\\n\\n\\n\")"
   ]
  },
  {
   "cell_type": "markdown",
   "metadata": {},
   "source": [
    "#### 1.1.3.3 Decide data types to be assigned to each feature "
   ]
  },
  {
   "cell_type": "markdown",
   "metadata": {},
   "source": [
    " - id_Entry is primary keey for the dataset.\n",
    " - Examination of CSV as a spreadsheet helps to **substantiate speculation** about actual data types: <br>\n",
    "\n",
    "| Features                  | Data Classification| Subtype    | Discription    |\n",
    "|:------------------------- |:------------------ |:---------- |:-------------- | \n",
    "| id_Entry                  | numeric            | discrete | Primary key for database|\n",
    "| number                    | numeric            | discrete | staion id|\n",
    "| status                    | catagorical        | nominal    | station is operational or closed |\n",
    "| bike_stands               | numeric            | discrete   | total number of stands at station|\n",
    "| available_bike_stands     | numeric            | discrete   | available bikes at station|\n",
    "| available_bikes           | numeric            | discrete   | available parking slots at station|\n",
    "| last_update               | datetime           | discrete   | last update to API serivce server by station|\n",
    "| data_entry_timestamp      | datetime           | discrete   | time of data entry into server; not relevent for analysis|"
   ]
  },
  {
   "cell_type": "markdown",
   "metadata": {},
   "source": [
    "#### 1.1.3.4 Convert to decided data type "
   ]
  },
  {
   "cell_type": "code",
   "execution_count": 133,
   "metadata": {},
   "outputs": [],
   "source": [
    "#CATAGORICAL DATA\n",
    "\n",
    "# Select columns containing categorical data\n",
    "categorical_columns = bikeDynamic[['status']].columns\n",
    "\n",
    "# Assign data type category to columns listed in categorical_columns\n",
    "for column in categorical_columns:\n",
    "    bikeDynamic[column] = bikeDynamic[column].astype('category') "
   ]
  },
  {
   "cell_type": "code",
   "execution_count": 134,
   "metadata": {},
   "outputs": [],
   "source": [
    "#CONTINUOUS DATA\n",
    "\n",
    "# Select columns containing continuous data\n",
    "continous_columns = bikeDynamic[['id_Entry', 'number','bike_stands','available_bike_stands','available_bikes']].columns\n",
    "\n",
    "# Assign data type int64 to columns listed in continuous_columns\n",
    "for column in continous_columns:\n",
    "    bikeDynamic[column] = bikeDynamic[column].astype('int64')"
   ]
  },
  {
   "cell_type": "code",
   "execution_count": 135,
   "metadata": {},
   "outputs": [],
   "source": [
    "#DATETIME DATA\n",
    "\n",
    "# Select columns containing datetime data\n",
    "continous_date_columns = bikeDynamic[['last_update', 'data_entry_timestamp']].columns\n",
    "\n",
    "# Assign object type datetime to columns enlisted in continous_date_columns\n",
    "for column in continous_date_columns:\n",
    "    bikeDynamic[column] = pd.to_datetime(bikeDynamic[column])"
   ]
  },
  {
   "cell_type": "markdown",
   "metadata": {},
   "source": [
    "#### 1.1.3.5 Varify correct data type casting of features "
   ]
  },
  {
   "cell_type": "code",
   "execution_count": 136,
   "metadata": {},
   "outputs": [
    {
     "name": "stdout",
     "output_type": "stream",
     "text": [
      "Feature                Data Type\n",
      "---------------------  --------------\n",
      "id_Entry               int64\n",
      "number                 int64\n",
      "status                 category\n",
      "bike_stands            int64\n",
      "available_bike_stands  int64\n",
      "available_bikes        int64\n",
      "last_update            datetime64[ns]\n",
      "data_entry_timestamp   datetime64[ns] \n",
      "\n",
      "\n",
      "\n"
     ]
    }
   ],
   "source": [
    "print(tabulate(pd.DataFrame(bikeDynamic.dtypes), headers=[\"Feature\", \"Data Type\"]), \"\\n\\n\\n\")"
   ]
  },
  {
   "cell_type": "markdown",
   "metadata": {},
   "source": [
    "### 1.1.4 Drop duplicates"
   ]
  },
  {
   "cell_type": "code",
   "execution_count": 137,
   "metadata": {},
   "outputs": [
    {
     "name": "stdout",
     "output_type": "stream",
     "text": [
      "Number of duplicate (excluding first) rows in the table is:  0\n",
      "Number of duplicate rows (including first) in the table is: 0\n"
     ]
    }
   ],
   "source": [
    "# Check for duplicate rows\n",
    "#Print the number of duplicate rows, without the original rows that were duplicated\n",
    "\n",
    "# Check for duplicate rows for primary key \"id_Entry\"\n",
    "print('Number of duplicate (excluding first) rows in the table is: ', bikeDynamic.duplicated(subset = \"id_Entry\").sum()) \n",
    "\n",
    "# Use \"keep=False\" to mark all duplicates as true, including the original rows that were duplicated.\n",
    "print('Number of duplicate rows (including first) in the table is:', bikeDynamic[bikeDynamic.duplicated(subset = \"id_Entry\",keep=False)].shape[0])\n"
   ]
  },
  {
   "cell_type": "code",
   "execution_count": 138,
   "metadata": {},
   "outputs": [
    {
     "name": "stdout",
     "output_type": "stream",
     "text": [
      "Number of duplicate (excluding first) columns in the table is:  0\n",
      "Number of duplicate (including first) columns in the table is:  0\n"
     ]
    }
   ],
   "source": [
    "# Check for duplicate columns\n",
    "#First transpose the df so columns become rows, then apply the same check as above\n",
    "# Since cardinality of data is huge and ever increasing; and we just need to see if NO DUPLICATES EXIST; hence subset of database is taken.\n",
    "\n",
    "bikeDynamicT = bikeDynamic.head(1000).T\n",
    "\n",
    "# Check for duplicate columns.\n",
    "print(\"Number of duplicate (excluding first) columns in the table is: \", bikeDynamicT.duplicated().sum())\n",
    "\n",
    "#Print the number of duplicates, including the original columns that were duplicated\n",
    "print(\"Number of duplicate (including first) columns in the table is: \",  bikeDynamicT[bikeDynamicT.duplicated(keep=False)].shape[0])"
   ]
  },
  {
   "cell_type": "markdown",
   "metadata": {},
   "source": [
    "**Result : Duplicate columns (features) do exist**\n",
    " - Rows : Duplicate samples do not exist. id_Entry has (unique values : total values ratio) = 1. Logically, its a primary key for the dataset. Hence, duplicacies are checked with its respect and none are found.\n",
    " - Columns : Duplicate samples do not exist. "
   ]
  },
  {
   "cell_type": "markdown",
   "metadata": {},
   "source": [
    "### 1.1.5 Check constant features"
   ]
  },
  {
   "cell_type": "markdown",
   "metadata": {},
   "source": [
    "#### 1.1.5.1 Catagorical features "
   ]
  },
  {
   "cell_type": "code",
   "execution_count": 139,
   "metadata": {},
   "outputs": [
    {
     "data": {
      "text/html": [
       "<div>\n",
       "<style scoped>\n",
       "    .dataframe tbody tr th:only-of-type {\n",
       "        vertical-align: middle;\n",
       "    }\n",
       "\n",
       "    .dataframe tbody tr th {\n",
       "        vertical-align: top;\n",
       "    }\n",
       "\n",
       "    .dataframe thead th {\n",
       "        text-align: right;\n",
       "    }\n",
       "</style>\n",
       "<table border=\"1\" class=\"dataframe\">\n",
       "  <thead>\n",
       "    <tr style=\"text-align: right;\">\n",
       "      <th></th>\n",
       "      <th>count</th>\n",
       "      <th>unique</th>\n",
       "      <th>top</th>\n",
       "      <th>freq</th>\n",
       "    </tr>\n",
       "  </thead>\n",
       "  <tbody>\n",
       "    <tr>\n",
       "      <th>status</th>\n",
       "      <td>369160</td>\n",
       "      <td>2</td>\n",
       "      <td>OPEN</td>\n",
       "      <td>368762</td>\n",
       "    </tr>\n",
       "  </tbody>\n",
       "</table>\n",
       "</div>"
      ],
      "text/plain": [
       "         count unique   top    freq\n",
       "status  369160      2  OPEN  368762"
      ]
     },
     "execution_count": 139,
     "metadata": {},
     "output_type": "execute_result"
    }
   ],
   "source": [
    "# Print table with categorical statistics\n",
    "bikeDynamic.select_dtypes(['category']).describe().T"
   ]
  },
  {
   "cell_type": "markdown",
   "metadata": {},
   "source": [
    "**Categorical Data** \n",
    "- Reviewing the categorical data below we can see all unique values > 1\n",
    "\n"
   ]
  },
  {
   "cell_type": "markdown",
   "metadata": {},
   "source": [
    "#### 1.1.5.2 Continuous features "
   ]
  },
  {
   "cell_type": "code",
   "execution_count": 140,
   "metadata": {},
   "outputs": [
    {
     "data": {
      "text/html": [
       "<div>\n",
       "<style scoped>\n",
       "    .dataframe tbody tr th:only-of-type {\n",
       "        vertical-align: middle;\n",
       "    }\n",
       "\n",
       "    .dataframe tbody tr th {\n",
       "        vertical-align: top;\n",
       "    }\n",
       "\n",
       "    .dataframe thead th {\n",
       "        text-align: right;\n",
       "    }\n",
       "</style>\n",
       "<table border=\"1\" class=\"dataframe\">\n",
       "  <thead>\n",
       "    <tr style=\"text-align: right;\">\n",
       "      <th></th>\n",
       "      <th>count</th>\n",
       "      <th>mean</th>\n",
       "      <th>std</th>\n",
       "      <th>min</th>\n",
       "      <th>25%</th>\n",
       "      <th>50%</th>\n",
       "      <th>75%</th>\n",
       "      <th>max</th>\n",
       "    </tr>\n",
       "  </thead>\n",
       "  <tbody>\n",
       "    <tr>\n",
       "      <th>id_Entry</th>\n",
       "      <td>369160.0</td>\n",
       "      <td>186324.500000</td>\n",
       "      <td>106567.457024</td>\n",
       "      <td>1745.0</td>\n",
       "      <td>94034.75</td>\n",
       "      <td>186324.5</td>\n",
       "      <td>278614.25</td>\n",
       "      <td>370904.0</td>\n",
       "    </tr>\n",
       "    <tr>\n",
       "      <th>number</th>\n",
       "      <td>369160.0</td>\n",
       "      <td>60.518182</td>\n",
       "      <td>33.767629</td>\n",
       "      <td>2.0</td>\n",
       "      <td>31.00</td>\n",
       "      <td>61.5</td>\n",
       "      <td>90.00</td>\n",
       "      <td>117.0</td>\n",
       "    </tr>\n",
       "    <tr>\n",
       "      <th>bike_stands</th>\n",
       "      <td>369160.0</td>\n",
       "      <td>32.181818</td>\n",
       "      <td>7.650538</td>\n",
       "      <td>16.0</td>\n",
       "      <td>29.00</td>\n",
       "      <td>30.0</td>\n",
       "      <td>40.00</td>\n",
       "      <td>40.0</td>\n",
       "    </tr>\n",
       "    <tr>\n",
       "      <th>available_bike_stands</th>\n",
       "      <td>369160.0</td>\n",
       "      <td>20.243837</td>\n",
       "      <td>10.777296</td>\n",
       "      <td>0.0</td>\n",
       "      <td>12.00</td>\n",
       "      <td>20.0</td>\n",
       "      <td>29.00</td>\n",
       "      <td>40.0</td>\n",
       "    </tr>\n",
       "    <tr>\n",
       "      <th>available_bikes</th>\n",
       "      <td>369160.0</td>\n",
       "      <td>11.845671</td>\n",
       "      <td>9.533751</td>\n",
       "      <td>0.0</td>\n",
       "      <td>4.00</td>\n",
       "      <td>10.0</td>\n",
       "      <td>18.00</td>\n",
       "      <td>40.0</td>\n",
       "    </tr>\n",
       "  </tbody>\n",
       "</table>\n",
       "</div>"
      ],
      "text/plain": [
       "                          count           mean            std     min  \\\n",
       "id_Entry               369160.0  186324.500000  106567.457024  1745.0   \n",
       "number                 369160.0      60.518182      33.767629     2.0   \n",
       "bike_stands            369160.0      32.181818       7.650538    16.0   \n",
       "available_bike_stands  369160.0      20.243837      10.777296     0.0   \n",
       "available_bikes        369160.0      11.845671       9.533751     0.0   \n",
       "\n",
       "                            25%       50%        75%       max  \n",
       "id_Entry               94034.75  186324.5  278614.25  370904.0  \n",
       "number                    31.00      61.5      90.00     117.0  \n",
       "bike_stands               29.00      30.0      40.00      40.0  \n",
       "available_bike_stands     12.00      20.0      29.00      40.0  \n",
       "available_bikes            4.00      10.0      18.00      40.0  "
      ]
     },
     "execution_count": 140,
     "metadata": {},
     "output_type": "execute_result"
    }
   ],
   "source": [
    "# Print table with continuous statistics\n",
    "bikeDynamic.select_dtypes(include=['int64']).describe().T"
   ]
  },
  {
   "cell_type": "markdown",
   "metadata": {},
   "source": [
    "**Continuous Data** \n",
    "- No continuous feature has a non zero standard deviation.  \n",
    "- This implies that feature does not contain a single constant value in all of the rows. Thus in this case, none of the continuous features are constant.\n",
    "- Result - No constant columns"
   ]
  },
  {
   "cell_type": "markdown",
   "metadata": {},
   "source": [
    "#### 1.1.5.3 DateTime features "
   ]
  },
  {
   "cell_type": "code",
   "execution_count": 141,
   "metadata": {},
   "outputs": [
    {
     "data": {
      "text/html": [
       "<div>\n",
       "<style scoped>\n",
       "    .dataframe tbody tr th:only-of-type {\n",
       "        vertical-align: middle;\n",
       "    }\n",
       "\n",
       "    .dataframe tbody tr th {\n",
       "        vertical-align: top;\n",
       "    }\n",
       "\n",
       "    .dataframe thead th {\n",
       "        text-align: right;\n",
       "    }\n",
       "</style>\n",
       "<table border=\"1\" class=\"dataframe\">\n",
       "  <thead>\n",
       "    <tr style=\"text-align: right;\">\n",
       "      <th></th>\n",
       "      <th>count</th>\n",
       "      <th>unique</th>\n",
       "      <th>top</th>\n",
       "      <th>freq</th>\n",
       "      <th>first</th>\n",
       "      <th>last</th>\n",
       "    </tr>\n",
       "  </thead>\n",
       "  <tbody>\n",
       "    <tr>\n",
       "      <th>last_update</th>\n",
       "      <td>369160</td>\n",
       "      <td>311646</td>\n",
       "      <td>2020-03-13 21:14:38</td>\n",
       "      <td>116</td>\n",
       "      <td>2020-02-28 14:49:57</td>\n",
       "      <td>2020-03-24 11:39:04</td>\n",
       "    </tr>\n",
       "    <tr>\n",
       "      <th>data_entry_timestamp</th>\n",
       "      <td>369160</td>\n",
       "      <td>3356</td>\n",
       "      <td>2020-03-19 03:40:02</td>\n",
       "      <td>110</td>\n",
       "      <td>2020-02-28 15:00:04</td>\n",
       "      <td>2020-03-24 11:40:02</td>\n",
       "    </tr>\n",
       "  </tbody>\n",
       "</table>\n",
       "</div>"
      ],
      "text/plain": [
       "                       count  unique                 top freq  \\\n",
       "last_update           369160  311646 2020-03-13 21:14:38  116   \n",
       "data_entry_timestamp  369160    3356 2020-03-19 03:40:02  110   \n",
       "\n",
       "                                   first                last  \n",
       "last_update          2020-02-28 14:49:57 2020-03-24 11:39:04  \n",
       "data_entry_timestamp 2020-02-28 15:00:04 2020-03-24 11:40:02  "
      ]
     },
     "execution_count": 141,
     "metadata": {},
     "output_type": "execute_result"
    }
   ],
   "source": [
    "# Print table with continuous statistics\n",
    "bikeDynamic.select_dtypes(include=['datetime']).describe().T"
   ]
  },
  {
   "cell_type": "markdown",
   "metadata": {},
   "source": [
    "**DateTime Data** \n",
    "- Reviewing the datetime data below we can see all unique values > 1 \n",
    "\n",
    "Though this is not catagorical data, it is valid to say that last_update being same for multiple stations is a likely possibility. So is case for data_entry_timestamp; which represents time of data entry into database by data scraper."
   ]
  },
  {
   "cell_type": "markdown",
   "metadata": {},
   "source": [
    "**Result : No constant Features found in dataset**"
   ]
  },
  {
   "cell_type": "markdown",
   "metadata": {},
   "source": [
    "### 1.1.6 Check for null values in features"
   ]
  },
  {
   "cell_type": "code",
   "execution_count": 142,
   "metadata": {},
   "outputs": [
    {
     "name": "stdout",
     "output_type": "stream",
     "text": [
      "Features             Null instances \n",
      "\n",
      "\n"
     ]
    },
    {
     "data": {
      "text/plain": [
       "id_Entry                 0\n",
       "number                   0\n",
       "status                   0\n",
       "bike_stands              0\n",
       "available_bike_stands    0\n",
       "available_bikes          0\n",
       "last_update              0\n",
       "data_entry_timestamp     0\n",
       "dtype: int64"
      ]
     },
     "execution_count": 142,
     "metadata": {},
     "output_type": "execute_result"
    }
   ],
   "source": [
    "print(\"Features\".ljust(20,\" \"),\"Null instances\",\"\\n\\n\")\n",
    "bikeDynamic.isnull().sum()"
   ]
  },
  {
   "cell_type": "markdown",
   "metadata": {},
   "source": [
    "**Result : No null values found**"
   ]
  },
  {
   "cell_type": "markdown",
   "metadata": {},
   "source": [
    "## 1.2 Data cleansing and discriptive statistics"
   ]
  },
  {
   "cell_type": "markdown",
   "metadata": {},
   "source": [
    "### 1.2.1 Varify cardinality "
   ]
  },
  {
   "cell_type": "markdown",
   "metadata": {},
   "source": [
    "#### 1.2.1.1 Catagorical features "
   ]
  },
  {
   "cell_type": "code",
   "execution_count": 143,
   "metadata": {},
   "outputs": [
    {
     "name": "stdout",
     "output_type": "stream",
     "text": [
      "Feature: status \tCardinality: 2 \n",
      " [OPEN, CLOSED]\n",
      "Categories (2, object): [OPEN, CLOSED] \n",
      "\n",
      "\n"
     ]
    }
   ],
   "source": [
    "# Check for irregular cardinality & permitted values in categorical features.\n",
    "columns = list(bikeDynamic.select_dtypes(['category']).columns.values)\n",
    "for column in columns: \n",
    "    print(\"Feature:\",column,\"\\tCardinality:\",str(len(bikeDynamic[column].unique())),\"\\n\",pd.unique(bikeDynamic[column].ravel()),\"\\n\\n\")"
   ]
  },
  {
   "cell_type": "code",
   "execution_count": 144,
   "metadata": {},
   "outputs": [
    {
     "name": "stdout",
     "output_type": "stream",
     "text": [
      "status   Cardinality:2 \n",
      "----------------------\n",
      "\n",
      "Instance      Number of Instances\n",
      "----------  ---------------------\n",
      "OPEN                       368762\n",
      "CLOSED                        398 \n",
      "\n",
      "\n",
      "\n"
     ]
    }
   ],
   "source": [
    "# For each catagorical feature, display the number of instances each of its values has.\n",
    "columns = list(bikeDynamic.select_dtypes(['category']).columns.values)\n",
    "for column in columns:\n",
    "    featureDetail = column+\"   Cardinality:\"+str(len(bikeDynamic[column].unique()))\n",
    "    print(featureDetail,\"\\n{}\\n\".format('-'*len(str(featureDetail))))\n",
    "    print(tabulate(pd.DataFrame(bikeDynamic[column].value_counts().nlargest(15)), headers=[\"Instance\", \"Number of Instances\"]), \"\\n\\n\\n\")\n"
   ]
  },
  {
   "cell_type": "markdown",
   "metadata": {},
   "source": [
    "**Values of cardinality of catagorical features are regular and within normal consideration.** \n",
    " - Almost stations are 'OPEN'.\n",
    " - Only 0.1% times station entry is 'CLOSED'"
   ]
  },
  {
   "cell_type": "markdown",
   "metadata": {},
   "source": [
    "#### 1.2.1.2 Continuous features "
   ]
  },
  {
   "cell_type": "code",
   "execution_count": 145,
   "metadata": {},
   "outputs": [
    {
     "name": "stdout",
     "output_type": "stream",
     "text": [
      "Feature: id_Entry \tCardinality: 369160 \n",
      " [  1745   1746   1747 ... 370902 370903 370904] \n",
      "\n",
      "\n",
      "\n",
      "Feature: number \tCardinality: 110 \n",
      " [  2   3   4   5   6   7   8   9  10  11  12  13  15  16  17  18  19  21\n",
      "  22  23  24  25  26  27  28  29  30  31  32  33  34  36  37  38  39  40\n",
      "  41  42  43  44  45  47  48  49  50  51  52  53  54  55  56  57  58  59\n",
      "  61  62  63  64  65  66  67  68  69  71  72  73  74  75  76  77  78  79\n",
      "  80  81  82  83  84  85  86  87  88  89  90  91  92  93  94  95  96  97\n",
      "  98  99 100 101 102 103 104 105 106 107 108 109 110 111 112 113 114 115\n",
      " 116 117] \n",
      "\n",
      "\n",
      "\n",
      "Feature: bike_stands \tCardinality: 17 \n",
      " [16 20 21 22 23 24 25 27 29 30 31 32 33 35 36 38 40] \n",
      "\n",
      "\n",
      "\n",
      "Feature: available_bike_stands \tCardinality: 41 \n",
      " [ 0  1  2  3  4  5  6  7  8  9 10 11 12 13 14 15 16 17 18 19 20 21 22 23\n",
      " 24 25 26 27 28 29 30 31 32 33 34 35 36 37 38 39 40] \n",
      "\n",
      "\n",
      "\n",
      "Feature: available_bikes \tCardinality: 41 \n",
      " [ 0  1  2  3  4  5  6  7  8  9 10 11 12 13 14 15 16 17 18 19 20 21 22 23\n",
      " 24 25 26 27 28 29 30 31 32 33 34 35 36 37 38 39 40] \n",
      "\n",
      "\n",
      "\n"
     ]
    }
   ],
   "source": [
    "# Check for irregular cardinality & permitted values in continuous features.\n",
    "columns = list(bikeDynamic.select_dtypes(['int64']).columns.values)\n",
    "for column in columns: \n",
    "    print(\"Feature:\",column,\"\\tCardinality:\",str(len(bikeDynamic[column].unique())),\"\\n\",pd.unique(sorted(bikeDynamic[column].ravel())),\"\\n\\n\\n\")"
   ]
  },
  {
   "cell_type": "code",
   "execution_count": 146,
   "metadata": {
    "scrolled": true
   },
   "outputs": [
    {
     "name": "stdout",
     "output_type": "stream",
     "text": [
      "id_Entry \n",
      "--------\n",
      "\n",
      "  Feature    Number of Instances\n",
      "---------  ---------------------\n",
      "     2047                      1\n",
      "   326346                      1\n",
      "   314060                      1\n",
      "   312013                      1\n",
      "   318158                      1\n",
      "   316111                      1\n",
      "   273104                      1\n",
      "   271057                      1\n",
      "   277202                      1\n",
      "   275155                      1\n",
      "   264916                      1\n",
      "   262869                      1\n",
      "   269014                      1\n",
      "   266967                      1\n",
      "   289496                      1 \n",
      "\n",
      "\n",
      "\n",
      "number \n",
      "------\n",
      "\n",
      "  Feature    Number of Instances\n",
      "---------  ---------------------\n",
      "      117                   3356\n",
      "       45                   3356\n",
      "       33                   3356\n",
      "       34                   3356\n",
      "       36                   3356\n",
      "       37                   3356\n",
      "       38                   3356\n",
      "       39                   3356\n",
      "       40                   3356\n",
      "       41                   3356\n",
      "       42                   3356\n",
      "       43                   3356\n",
      "       44                   3356\n",
      "       47                   3356\n",
      "       31                   3356 \n",
      "\n",
      "\n",
      "\n",
      "bike_stands \n",
      "-----------\n",
      "\n",
      "  Feature    Number of Instances\n",
      "---------  ---------------------\n",
      "       40                 144308\n",
      "       30                  90612\n",
      "       20                  53696\n",
      "       29                  13424\n",
      "       38                  10068\n",
      "       35                   6712\n",
      "       25                   6712\n",
      "       23                   6712\n",
      "       36                   6712\n",
      "       16                   6712\n",
      "       33                   3356\n",
      "       32                   3356\n",
      "       31                   3356\n",
      "       27                   3356\n",
      "       24                   3356 \n",
      "\n",
      "\n",
      "\n",
      "available_bike_stands \n",
      "---------------------\n",
      "\n",
      "  Feature    Number of Instances\n",
      "---------  ---------------------\n",
      "       20                  16186\n",
      "       30                  14222\n",
      "       40                  13225\n",
      "       19                  13220\n",
      "       18                  12643\n",
      "       17                  12592\n",
      "       16                  12322\n",
      "       29                  11794\n",
      "       27                  11118\n",
      "       28                  11024\n",
      "       14                  10502\n",
      "       15                  10485\n",
      "       13                  10298\n",
      "       26                  10046\n",
      "       21                  10027 \n",
      "\n",
      "\n",
      "\n",
      "available_bikes \n",
      "---------------\n",
      "\n",
      "  Feature    Number of Instances\n",
      "---------  ---------------------\n",
      "        0                  37541\n",
      "        1                  18357\n",
      "        2                  16599\n",
      "        3                  15273\n",
      "        4                  14931\n",
      "        9                  14789\n",
      "        7                  14492\n",
      "        6                  14447\n",
      "       10                  14367\n",
      "        8                  14250\n",
      "       11                  14144\n",
      "        5                  13636\n",
      "       12                  13363\n",
      "       13                  11978\n",
      "       14                  11836 \n",
      "\n",
      "\n",
      "\n"
     ]
    }
   ],
   "source": [
    "# For each continuous feature, display the number of instances each of its values has.\n",
    "columns = list(bikeDynamic.select_dtypes(['int64']).columns.values)\n",
    "for column in columns:\n",
    "    print(column,\"\\n{}\\n\".format('-'*len(str(column))))\n",
    "    print(tabulate(pd.DataFrame(bikeDynamic[column].value_counts().nlargest(15)), headers=[\"Feature\", \"Number of Instances\"]), \"\\n\\n\\n\")\n"
   ]
  },
  {
   "cell_type": "markdown",
   "metadata": {},
   "source": [
    "**Values of cardinality of Continuous features are regular and within normal consideration.** \n",
    " - No irregularity is found\n",
    " - Refering to quartile ranges and permissible values, it is evident that for both bike_stands, available_bike_stands and available_bikes features: \n",
    "     - On average, nearly 35% of stands have 0 available bikes at any time\n",
    "     - 70% Bike stands have capacity greater than 29; 39% Bike stands have capcity of 40 bikes"
   ]
  },
  {
   "cell_type": "markdown",
   "metadata": {},
   "source": [
    "#### 1.2.1.3 DateTime features "
   ]
  },
  {
   "cell_type": "code",
   "execution_count": 147,
   "metadata": {},
   "outputs": [
    {
     "name": "stdout",
     "output_type": "stream",
     "text": [
      "Feature: last_update \tCardinality: 311646 \n",
      " ['2020-02-28T14:49:57.000000000' '2020-02-28T14:50:00.000000000'\n",
      " '2020-02-28T14:50:08.000000000' ... '2020-03-24T11:38:57.000000000'\n",
      " '2020-03-24T11:39:03.000000000' '2020-03-24T11:39:04.000000000'] \n",
      "\n",
      "\n",
      "\n",
      "Feature: data_entry_timestamp \tCardinality: 3356 \n",
      " ['2020-02-28T15:00:04.000000000' '2020-02-28T15:10:02.000000000'\n",
      " '2020-02-28T15:20:02.000000000' ... '2020-03-24T11:20:01.000000000'\n",
      " '2020-03-24T11:30:02.000000000' '2020-03-24T11:40:02.000000000'] \n",
      "\n",
      "\n",
      "\n"
     ]
    }
   ],
   "source": [
    "# Check for irregular cardinality & permitted values in datetime features.\n",
    "columns = list(bikeDynamic.select_dtypes(['datetime64']).columns.values)\n",
    "for column in columns: \n",
    "    print(\"Feature:\",column,\"\\tCardinality:\",str(len(bikeDynamic[column].unique())),\"\\n\",pd.unique(sorted(bikeDynamic[column].ravel())),\"\\n\\n\\n\")"
   ]
  },
  {
   "cell_type": "code",
   "execution_count": 148,
   "metadata": {
    "scrolled": true
   },
   "outputs": [
    {
     "name": "stdout",
     "output_type": "stream",
     "text": [
      "last_update \n",
      "-----------\n",
      "\n",
      "Feature                Number of Instances\n",
      "-------------------  ---------------------\n",
      "2020-03-13 21:14:38                    116\n",
      "2020-03-06 19:32:44                     41\n",
      "2020-03-14 04:06:25                     40\n",
      "2020-03-16 03:55:32                     21\n",
      "2020-03-16 19:33:46                     18\n",
      "2020-03-12 15:31:12                     16\n",
      "2020-03-13 06:58:33                     15\n",
      "2020-03-16 03:55:04                     15\n",
      "2020-03-16 03:59:52                     15\n",
      "2020-03-16 19:26:53                     14 \n",
      "\n",
      "\n",
      "\n",
      "data_entry_timestamp \n",
      "--------------------\n",
      "\n",
      "Feature                Number of Instances\n",
      "-------------------  ---------------------\n",
      "2020-03-19 03:40:02                    110\n",
      "2020-03-08 22:00:04                    110\n",
      "2020-03-16 00:00:05                    110\n",
      "2020-03-15 20:20:02                    110\n",
      "2020-03-18 06:40:02                    110\n",
      "2020-03-04 23:50:02                    110\n",
      "2020-03-20 16:00:06                    110\n",
      "2020-03-19 15:10:02                    110\n",
      "2020-03-04 03:30:02                    110\n",
      "2020-03-15 02:40:02                    110 \n",
      "\n",
      "\n",
      "\n"
     ]
    }
   ],
   "source": [
    "# For each datetime feature, display the number of instances each of its values has.\n",
    "columns = list(bikeDynamic.select_dtypes(['datetime64']).columns.values)\n",
    "for column in columns:\n",
    "    print(column,\"\\n{}\\n\".format('-'*len(str(column))))\n",
    "    print(tabulate(pd.DataFrame(bikeDynamic[column].value_counts().nlargest(10)), headers=[\"Feature\", \"Number of Instances\"]), \"\\n\\n\\n\")\n"
   ]
  },
  {
   "cell_type": "markdown",
   "metadata": {},
   "source": [
    "**Values of cardinality of DateTime features are regular and within normal consideration.** \n",
    "- As expected, data_entry_timestamp has fixed number of instances for each entry since data is entered for each station exactly once\n",
    "- last_update feature shows 116 instances for a perticular \"2020-03-13 21:14:38\" which is an eye catcher."
   ]
  },
  {
   "cell_type": "markdown",
   "metadata": {},
   "source": [
    "### 1.2.2 Check logical integrity of data "
   ]
  },
  {
   "cell_type": "markdown",
   "metadata": {},
   "source": [
    "**Data integrity is checked for following cases:**\n",
    " - is \"bike_stands\" $>=$ \"available_bike_stands\" $+$ \"available_bikes\"  [Any other sequence is incorrect]\n",
    " - is \"last_update\" $<=$ \"data_entry_timestamp\" [Any other sequence is incorrect]"
   ]
  },
  {
   "cell_type": "markdown",
   "metadata": {},
   "source": [
    "Date of birth for an animal must always be smaller than or equal to date of intake into shelter."
   ]
  },
  {
   "cell_type": "code",
   "execution_count": 149,
   "metadata": {},
   "outputs": [
    {
     "name": "stdout",
     "output_type": "stream",
     "text": [
      "Number of rows failing the test:  18\n"
     ]
    },
    {
     "data": {
      "text/html": [
       "<div>\n",
       "<style scoped>\n",
       "    .dataframe tbody tr th:only-of-type {\n",
       "        vertical-align: middle;\n",
       "    }\n",
       "\n",
       "    .dataframe tbody tr th {\n",
       "        vertical-align: top;\n",
       "    }\n",
       "\n",
       "    .dataframe thead th {\n",
       "        text-align: right;\n",
       "    }\n",
       "</style>\n",
       "<table border=\"1\" class=\"dataframe\">\n",
       "  <thead>\n",
       "    <tr style=\"text-align: right;\">\n",
       "      <th></th>\n",
       "      <th>available_bike_stands</th>\n",
       "      <th>available_bikes</th>\n",
       "      <th>bike_stands</th>\n",
       "    </tr>\n",
       "  </thead>\n",
       "  <tbody>\n",
       "    <tr>\n",
       "      <th>63885</th>\n",
       "      <td>17</td>\n",
       "      <td>0</td>\n",
       "      <td>16</td>\n",
       "    </tr>\n",
       "    <tr>\n",
       "      <th>248795</th>\n",
       "      <td>16</td>\n",
       "      <td>1</td>\n",
       "      <td>16</td>\n",
       "    </tr>\n",
       "    <tr>\n",
       "      <th>248905</th>\n",
       "      <td>16</td>\n",
       "      <td>1</td>\n",
       "      <td>16</td>\n",
       "    </tr>\n",
       "    <tr>\n",
       "      <th>249125</th>\n",
       "      <td>16</td>\n",
       "      <td>1</td>\n",
       "      <td>16</td>\n",
       "    </tr>\n",
       "    <tr>\n",
       "      <th>249235</th>\n",
       "      <td>16</td>\n",
       "      <td>1</td>\n",
       "      <td>16</td>\n",
       "    </tr>\n",
       "  </tbody>\n",
       "</table>\n",
       "</div>"
      ],
      "text/plain": [
       "        available_bike_stands  available_bikes  bike_stands\n",
       "63885                      17                0           16\n",
       "248795                     16                1           16\n",
       "248905                     16                1           16\n",
       "249125                     16                1           16\n",
       "249235                     16                1           16"
      ]
     },
     "execution_count": 149,
     "metadata": {},
     "output_type": "execute_result"
    }
   ],
   "source": [
    "test_1 = bikeDynamic[[\"available_bike_stands\",\"available_bikes\",\"bike_stands\"]][bikeDynamic[\"available_bike_stands\"].add(bikeDynamic[\"available_bikes\"], axis=0)  >  bikeDynamic[\"bike_stands\"]]\n",
    "print(\"Number of rows failing the test: \", test_1.shape[0])\n",
    "test_1.head(5)"
   ]
  },
  {
   "cell_type": "markdown",
   "metadata": {},
   "source": [
    "Date of birth for an animal must always be smaller than or equal to date of Outcome from shelter."
   ]
  },
  {
   "cell_type": "code",
   "execution_count": 150,
   "metadata": {},
   "outputs": [
    {
     "name": "stdout",
     "output_type": "stream",
     "text": [
      "Number of rows failing the test:  0\n"
     ]
    },
    {
     "data": {
      "text/html": [
       "<div>\n",
       "<style scoped>\n",
       "    .dataframe tbody tr th:only-of-type {\n",
       "        vertical-align: middle;\n",
       "    }\n",
       "\n",
       "    .dataframe tbody tr th {\n",
       "        vertical-align: top;\n",
       "    }\n",
       "\n",
       "    .dataframe thead th {\n",
       "        text-align: right;\n",
       "    }\n",
       "</style>\n",
       "<table border=\"1\" class=\"dataframe\">\n",
       "  <thead>\n",
       "    <tr style=\"text-align: right;\">\n",
       "      <th></th>\n",
       "      <th>last_update</th>\n",
       "      <th>data_entry_timestamp</th>\n",
       "    </tr>\n",
       "  </thead>\n",
       "  <tbody>\n",
       "  </tbody>\n",
       "</table>\n",
       "</div>"
      ],
      "text/plain": [
       "Empty DataFrame\n",
       "Columns: [last_update, data_entry_timestamp]\n",
       "Index: []"
      ]
     },
     "execution_count": 150,
     "metadata": {},
     "output_type": "execute_result"
    }
   ],
   "source": [
    "test_2 = bikeDynamic[[\"last_update\",\"data_entry_timestamp\"]][bikeDynamic[\"data_entry_timestamp\"]  <  bikeDynamic[\"last_update\"]]\n",
    "print(\"Number of rows failing the test: \", test_2.shape[0])\n",
    "test_2.head(5)"
   ]
  },
  {
   "cell_type": "markdown",
   "metadata": {},
   "source": [
    "### 1.2.3  Save discriptive statistics into CSV for data quality report"
   ]
  },
  {
   "cell_type": "markdown",
   "metadata": {},
   "source": [
    "#### 1.2.3.1 Discriptive statistics for Catagorical Data"
   ]
  },
  {
   "cell_type": "code",
   "execution_count": 151,
   "metadata": {},
   "outputs": [
    {
     "data": {
      "text/html": [
       "<div>\n",
       "<style scoped>\n",
       "    .dataframe tbody tr th:only-of-type {\n",
       "        vertical-align: middle;\n",
       "    }\n",
       "\n",
       "    .dataframe tbody tr th {\n",
       "        vertical-align: top;\n",
       "    }\n",
       "\n",
       "    .dataframe thead th {\n",
       "        text-align: right;\n",
       "    }\n",
       "</style>\n",
       "<table border=\"1\" class=\"dataframe\">\n",
       "  <thead>\n",
       "    <tr style=\"text-align: right;\">\n",
       "      <th></th>\n",
       "      <th>count</th>\n",
       "      <th>unique</th>\n",
       "      <th>top</th>\n",
       "      <th>freq</th>\n",
       "    </tr>\n",
       "  </thead>\n",
       "  <tbody>\n",
       "    <tr>\n",
       "      <th>status</th>\n",
       "      <td>369160</td>\n",
       "      <td>2</td>\n",
       "      <td>OPEN</td>\n",
       "      <td>368762</td>\n",
       "    </tr>\n",
       "  </tbody>\n",
       "</table>\n",
       "</div>"
      ],
      "text/plain": [
       "         count unique   top    freq\n",
       "status  369160      2  OPEN  368762"
      ]
     },
     "execution_count": 151,
     "metadata": {},
     "output_type": "execute_result"
    }
   ],
   "source": [
    "# Print table with categorical statistics and preserve in a csv\n",
    "dStat_catagorical = bikeDynamic.select_dtypes(['category']).describe().T\n",
    "dStat_catagorical.to_csv(\"categoricalFeatureDescription.csv\")\n",
    "dStat_catagorical"
   ]
  },
  {
   "cell_type": "markdown",
   "metadata": {},
   "source": [
    "#### 1.2.3.2 Discriptive statistics for Continuous Data"
   ]
  },
  {
   "cell_type": "code",
   "execution_count": 152,
   "metadata": {},
   "outputs": [
    {
     "data": {
      "text/html": [
       "<div>\n",
       "<style scoped>\n",
       "    .dataframe tbody tr th:only-of-type {\n",
       "        vertical-align: middle;\n",
       "    }\n",
       "\n",
       "    .dataframe tbody tr th {\n",
       "        vertical-align: top;\n",
       "    }\n",
       "\n",
       "    .dataframe thead th {\n",
       "        text-align: right;\n",
       "    }\n",
       "</style>\n",
       "<table border=\"1\" class=\"dataframe\">\n",
       "  <thead>\n",
       "    <tr style=\"text-align: right;\">\n",
       "      <th></th>\n",
       "      <th>count</th>\n",
       "      <th>mean</th>\n",
       "      <th>std</th>\n",
       "      <th>min</th>\n",
       "      <th>25%</th>\n",
       "      <th>50%</th>\n",
       "      <th>75%</th>\n",
       "      <th>max</th>\n",
       "    </tr>\n",
       "  </thead>\n",
       "  <tbody>\n",
       "    <tr>\n",
       "      <th>id_Entry</th>\n",
       "      <td>369160.0</td>\n",
       "      <td>186324.500000</td>\n",
       "      <td>106567.457024</td>\n",
       "      <td>1745.0</td>\n",
       "      <td>94034.75</td>\n",
       "      <td>186324.5</td>\n",
       "      <td>278614.25</td>\n",
       "      <td>370904.0</td>\n",
       "    </tr>\n",
       "    <tr>\n",
       "      <th>number</th>\n",
       "      <td>369160.0</td>\n",
       "      <td>60.518182</td>\n",
       "      <td>33.767629</td>\n",
       "      <td>2.0</td>\n",
       "      <td>31.00</td>\n",
       "      <td>61.5</td>\n",
       "      <td>90.00</td>\n",
       "      <td>117.0</td>\n",
       "    </tr>\n",
       "    <tr>\n",
       "      <th>bike_stands</th>\n",
       "      <td>369160.0</td>\n",
       "      <td>32.181818</td>\n",
       "      <td>7.650538</td>\n",
       "      <td>16.0</td>\n",
       "      <td>29.00</td>\n",
       "      <td>30.0</td>\n",
       "      <td>40.00</td>\n",
       "      <td>40.0</td>\n",
       "    </tr>\n",
       "    <tr>\n",
       "      <th>available_bike_stands</th>\n",
       "      <td>369160.0</td>\n",
       "      <td>20.243837</td>\n",
       "      <td>10.777296</td>\n",
       "      <td>0.0</td>\n",
       "      <td>12.00</td>\n",
       "      <td>20.0</td>\n",
       "      <td>29.00</td>\n",
       "      <td>40.0</td>\n",
       "    </tr>\n",
       "    <tr>\n",
       "      <th>available_bikes</th>\n",
       "      <td>369160.0</td>\n",
       "      <td>11.845671</td>\n",
       "      <td>9.533751</td>\n",
       "      <td>0.0</td>\n",
       "      <td>4.00</td>\n",
       "      <td>10.0</td>\n",
       "      <td>18.00</td>\n",
       "      <td>40.0</td>\n",
       "    </tr>\n",
       "  </tbody>\n",
       "</table>\n",
       "</div>"
      ],
      "text/plain": [
       "                          count           mean            std     min  \\\n",
       "id_Entry               369160.0  186324.500000  106567.457024  1745.0   \n",
       "number                 369160.0      60.518182      33.767629     2.0   \n",
       "bike_stands            369160.0      32.181818       7.650538    16.0   \n",
       "available_bike_stands  369160.0      20.243837      10.777296     0.0   \n",
       "available_bikes        369160.0      11.845671       9.533751     0.0   \n",
       "\n",
       "                            25%       50%        75%       max  \n",
       "id_Entry               94034.75  186324.5  278614.25  370904.0  \n",
       "number                    31.00      61.5      90.00     117.0  \n",
       "bike_stands               29.00      30.0      40.00      40.0  \n",
       "available_bike_stands     12.00      20.0      29.00      40.0  \n",
       "available_bikes            4.00      10.0      18.00      40.0  "
      ]
     },
     "execution_count": 152,
     "metadata": {},
     "output_type": "execute_result"
    }
   ],
   "source": [
    "# Print table with continuous statistics and preserve in a csv\n",
    "dStat_continuous = bikeDynamic.select_dtypes(['int64']).describe().T\n",
    "dStat_continuous.to_csv(\"continuousFeatureDescription.csv\")\n",
    "dStat_continuous"
   ]
  },
  {
   "cell_type": "markdown",
   "metadata": {},
   "source": [
    "#### 1.2.3.3 Discriptive statistics for DateTime Data"
   ]
  },
  {
   "cell_type": "markdown",
   "metadata": {},
   "source": [
    "#### 1.2.3.4 Save final CSV from stage 1"
   ]
  },
  {
   "cell_type": "code",
   "execution_count": 153,
   "metadata": {},
   "outputs": [
    {
     "data": {
      "text/html": [
       "<div>\n",
       "<style scoped>\n",
       "    .dataframe tbody tr th:only-of-type {\n",
       "        vertical-align: middle;\n",
       "    }\n",
       "\n",
       "    .dataframe tbody tr th {\n",
       "        vertical-align: top;\n",
       "    }\n",
       "\n",
       "    .dataframe thead th {\n",
       "        text-align: right;\n",
       "    }\n",
       "</style>\n",
       "<table border=\"1\" class=\"dataframe\">\n",
       "  <thead>\n",
       "    <tr style=\"text-align: right;\">\n",
       "      <th></th>\n",
       "      <th>count</th>\n",
       "      <th>unique</th>\n",
       "      <th>top</th>\n",
       "      <th>freq</th>\n",
       "      <th>first</th>\n",
       "      <th>last</th>\n",
       "    </tr>\n",
       "  </thead>\n",
       "  <tbody>\n",
       "    <tr>\n",
       "      <th>last_update</th>\n",
       "      <td>369160</td>\n",
       "      <td>311646</td>\n",
       "      <td>2020-03-13 21:14:38</td>\n",
       "      <td>116</td>\n",
       "      <td>2020-02-28 14:49:57</td>\n",
       "      <td>2020-03-24 11:39:04</td>\n",
       "    </tr>\n",
       "    <tr>\n",
       "      <th>data_entry_timestamp</th>\n",
       "      <td>369160</td>\n",
       "      <td>3356</td>\n",
       "      <td>2020-03-19 03:40:02</td>\n",
       "      <td>110</td>\n",
       "      <td>2020-02-28 15:00:04</td>\n",
       "      <td>2020-03-24 11:40:02</td>\n",
       "    </tr>\n",
       "  </tbody>\n",
       "</table>\n",
       "</div>"
      ],
      "text/plain": [
       "                       count  unique                 top freq  \\\n",
       "last_update           369160  311646 2020-03-13 21:14:38  116   \n",
       "data_entry_timestamp  369160    3356 2020-03-19 03:40:02  110   \n",
       "\n",
       "                                   first                last  \n",
       "last_update          2020-02-28 14:49:57 2020-03-24 11:39:04  \n",
       "data_entry_timestamp 2020-02-28 15:00:04 2020-03-24 11:40:02  "
      ]
     },
     "execution_count": 153,
     "metadata": {},
     "output_type": "execute_result"
    }
   ],
   "source": [
    "# Print table with datetime statistics and preserve in a csv\n",
    "dStat_datetime = bikeDynamic.select_dtypes(['datetime64']).describe().T\n",
    "dStat_datetime.to_csv(\"datetimeFeatureDescription.csv\")\n",
    "dStat_datetime"
   ]
  },
  {
   "cell_type": "markdown",
   "metadata": {},
   "source": [
    "## 1.3 Graphs "
   ]
  },
  {
   "cell_type": "markdown",
   "metadata": {},
   "source": [
    "### 1.3.1 Save Histogram summary sheets for Continuous features into  pdf file"
   ]
  },
  {
   "cell_type": "code",
   "execution_count": 154,
   "metadata": {},
   "outputs": [
    {
     "data": {
      "image/png": "[encoded data removed]",
      "text/plain": [
       "<Figure size 2160x720 with 6 Axes>"
      ]
     },
     "metadata": {
      "needs_background": "light"
     },
     "output_type": "display_data"
    }
   ],
   "source": [
    "# Plot a histogram summary sheet of the continuous features and save in a pdf file\n",
    "columns = list(bikeDynamic.select_dtypes(['int64']).columns.values)\n",
    "bikeDynamic[columns].hist(layout=(2, 3), figsize=(30,10), bins=20)\n",
    "plt.savefig('continuous_histograms_1-1.pdf')"
   ]
  },
  {
   "cell_type": "markdown",
   "metadata": {},
   "source": [
    "### 1.3.2 Save Box plot summary sheets for Continuous features into pdf file"
   ]
  },
  {
   "cell_type": "code",
   "execution_count": 155,
   "metadata": {},
   "outputs": [
    {
     "data": {
      "image/png": "[encoded data removed]",
      "text/plain": [
       "<Figure size 2160x1440 with 6 Axes>"
      ]
     },
     "metadata": {
      "needs_background": "light"
     },
     "output_type": "display_data"
    }
   ],
   "source": [
    "# Plot a histogram summary sheet of the continuous features and save in a pdf file\n",
    "columns = list(bikeDynamic.select_dtypes(['int64']).columns.values)\n",
    "bikeDynamic[columns].plot(kind='box', subplots=True, figsize=(30,20), layout=(2,3), sharex=False, sharey=False)\n",
    "plt.savefig('continuous_box_1-1.pdf')"
   ]
  },
  {
   "cell_type": "markdown",
   "metadata": {},
   "source": [
    "### 1.3.5 Save Bar plot summary sheets for Catagorical features into pdf file"
   ]
  },
  {
   "cell_type": "code",
   "execution_count": 156,
   "metadata": {},
   "outputs": [
    {
     "data": {
      "image/png": "[encoded data removed]",
      "text/plain": [
       "<Figure size 576x576 with 1 Axes>"
      ]
     },
     "metadata": {
      "needs_background": "light"
     },
     "output_type": "display_data"
    }
   ],
   "source": [
    "# Plot bar plots for all the catagorical features and save them in a single PDF file\n",
    "columns = list(bikeDynamic.select_dtypes(['category']).columns.values)\n",
    "with PdfPages('categorical_bar_1-1.pdf') as pp:\n",
    "    for column in columns:\n",
    "        f = bikeDynamic[column].value_counts().plot(kind='bar', figsize=(8,8))\n",
    "        plt.title(column)\n",
    "        pp.savefig(f.get_figure())\n",
    "        plt.show()"
   ]
  },
  {
   "cell_type": "markdown",
   "metadata": {},
   "source": [
    "# 2. Data Quality Plan"
   ]
  },
  {
   "cell_type": "markdown",
   "metadata": {},
   "source": [
    "## 2.1 Data findings  "
   ]
  },
  {
   "cell_type": "markdown",
   "metadata": {},
   "source": [
    "### 2.1.1 Summary of list of issues found in Data Quality Report  "
   ]
  },
  {
   "cell_type": "markdown",
   "metadata": {},
   "source": [
    "- test_1 states that 18 entries have bad data regarding total number of bike stands at a station.\n"
   ]
  },
  {
   "cell_type": "markdown",
   "metadata": {},
   "source": [
    "### 2.1.2 Proposed solutions to rectify identified problems   "
   ]
  },
  {
   "cell_type": "markdown",
   "metadata": {},
   "source": [
    "- Replace feature bike_stands with value '255' which is greater than maximum value for feature [40] "
   ]
  },
  {
   "cell_type": "markdown",
   "metadata": {},
   "source": [
    "## 2.2 Apply solutions to address data quality issues"
   ]
  },
  {
   "cell_type": "markdown",
   "metadata": {},
   "source": [
    "### 2.2.1 DateTime Intake > DateTime Outcome"
   ]
  },
  {
   "cell_type": "code",
   "execution_count": 157,
   "metadata": {},
   "outputs": [
    {
     "name": "stdout",
     "output_type": "stream",
     "text": [
      "Number of rows failing the test:  18\n"
     ]
    },
    {
     "data": {
      "text/html": [
       "<div>\n",
       "<style scoped>\n",
       "    .dataframe tbody tr th:only-of-type {\n",
       "        vertical-align: middle;\n",
       "    }\n",
       "\n",
       "    .dataframe tbody tr th {\n",
       "        vertical-align: top;\n",
       "    }\n",
       "\n",
       "    .dataframe thead th {\n",
       "        text-align: right;\n",
       "    }\n",
       "</style>\n",
       "<table border=\"1\" class=\"dataframe\">\n",
       "  <thead>\n",
       "    <tr style=\"text-align: right;\">\n",
       "      <th></th>\n",
       "      <th>id_Entry</th>\n",
       "      <th>available_bike_stands</th>\n",
       "      <th>available_bikes</th>\n",
       "      <th>bike_stands</th>\n",
       "    </tr>\n",
       "  </thead>\n",
       "  <tbody>\n",
       "    <tr>\n",
       "      <th>63885</th>\n",
       "      <td>65630</td>\n",
       "      <td>17</td>\n",
       "      <td>0</td>\n",
       "      <td>16</td>\n",
       "    </tr>\n",
       "    <tr>\n",
       "      <th>248795</th>\n",
       "      <td>250540</td>\n",
       "      <td>16</td>\n",
       "      <td>1</td>\n",
       "      <td>16</td>\n",
       "    </tr>\n",
       "    <tr>\n",
       "      <th>248905</th>\n",
       "      <td>250650</td>\n",
       "      <td>16</td>\n",
       "      <td>1</td>\n",
       "      <td>16</td>\n",
       "    </tr>\n",
       "    <tr>\n",
       "      <th>249125</th>\n",
       "      <td>250870</td>\n",
       "      <td>16</td>\n",
       "      <td>1</td>\n",
       "      <td>16</td>\n",
       "    </tr>\n",
       "    <tr>\n",
       "      <th>249235</th>\n",
       "      <td>250980</td>\n",
       "      <td>16</td>\n",
       "      <td>1</td>\n",
       "      <td>16</td>\n",
       "    </tr>\n",
       "  </tbody>\n",
       "</table>\n",
       "</div>"
      ],
      "text/plain": [
       "        id_Entry  available_bike_stands  available_bikes  bike_stands\n",
       "63885      65630                     17                0           16\n",
       "248795    250540                     16                1           16\n",
       "248905    250650                     16                1           16\n",
       "249125    250870                     16                1           16\n",
       "249235    250980                     16                1           16"
      ]
     },
     "execution_count": 157,
     "metadata": {},
     "output_type": "execute_result"
    }
   ],
   "source": [
    "dTest = bikeDynamic[[\"id_Entry\",\"available_bike_stands\",\"available_bikes\",\"bike_stands\"]][bikeDynamic[\"available_bike_stands\"].add(bikeDynamic[\"available_bikes\"], axis=0)  >  bikeDynamic[\"bike_stands\"]]\n",
    "print(\"Number of rows failing the test: \", dTest.shape[0])\n",
    "dTest.head(5)"
   ]
  },
  {
   "cell_type": "markdown",
   "metadata": {},
   "source": [
    "**Replacing corresponding entries for feature \"bike_stands\":**"
   ]
  },
  {
   "cell_type": "code",
   "execution_count": 158,
   "metadata": {},
   "outputs": [],
   "source": [
    "dTest_1 = dTest[\"id_Entry\"]\n",
    "\n",
    "for data in dTest_1: \n",
    "    bikeDynamic.loc[(bikeDynamic.id_Entry == data),'bike_stands']=255"
   ]
  },
  {
   "cell_type": "code",
   "execution_count": 159,
   "metadata": {},
   "outputs": [
    {
     "name": "stdout",
     "output_type": "stream",
     "text": [
      "Number of rows failing the test:  0\n"
     ]
    },
    {
     "data": {
      "text/html": [
       "<div>\n",
       "<style scoped>\n",
       "    .dataframe tbody tr th:only-of-type {\n",
       "        vertical-align: middle;\n",
       "    }\n",
       "\n",
       "    .dataframe tbody tr th {\n",
       "        vertical-align: top;\n",
       "    }\n",
       "\n",
       "    .dataframe thead th {\n",
       "        text-align: right;\n",
       "    }\n",
       "</style>\n",
       "<table border=\"1\" class=\"dataframe\">\n",
       "  <thead>\n",
       "    <tr style=\"text-align: right;\">\n",
       "      <th></th>\n",
       "      <th>id_Entry</th>\n",
       "      <th>available_bike_stands</th>\n",
       "      <th>available_bikes</th>\n",
       "      <th>bike_stands</th>\n",
       "    </tr>\n",
       "  </thead>\n",
       "  <tbody>\n",
       "  </tbody>\n",
       "</table>\n",
       "</div>"
      ],
      "text/plain": [
       "Empty DataFrame\n",
       "Columns: [id_Entry, available_bike_stands, available_bikes, bike_stands]\n",
       "Index: []"
      ]
     },
     "execution_count": 159,
     "metadata": {},
     "output_type": "execute_result"
    }
   ],
   "source": [
    "dTest = bikeDynamic[[\"id_Entry\",\"available_bike_stands\",\"available_bikes\",\"bike_stands\"]][bikeDynamic[\"available_bike_stands\"].add(bikeDynamic[\"available_bikes\"], axis=0)  >  bikeDynamic[\"bike_stands\"]]\n",
    "print(\"Number of rows failing the test: \", dTest.shape[0])\n",
    "dTest.head(5)"
   ]
  },
  {
   "cell_type": "markdown",
   "metadata": {},
   "source": [
    "## 2.3 Summary of data quality plan"
   ]
  },
  {
   "cell_type": "markdown",
   "metadata": {},
   "source": [
    "\n",
    "\n",
    "| Feature                  | Data Quality issue | Solution Strategy    |\n",
    "|:-------------------------|:------------------ |:---------- | \n",
    "| id_Entry                 | [Primary key]      | Do nothing    |\n",
    "| number                   | Nothing            | Do nothing    |\n",
    "| status                   | Nothing            | Do nothing    |\n",
    "| bike_stands              | Value inconsistancy for 18 entires | Replace with 255|\n",
    "| available_bike_stands    | Nothing            | Do nothing    |\n",
    "| available_bikes          | Nothing            | Do nothing    |\n",
    "| last_update              | Nothing            | Do nothing    |\n",
    "| data_entry_timestamp     | Nothing            | Do nothing    |\n"
   ]
  },
  {
   "cell_type": "markdown",
   "metadata": {},
   "source": [
    "## 2.4 Save cleaned data to new CSV "
   ]
  },
  {
   "cell_type": "code",
   "execution_count": 160,
   "metadata": {},
   "outputs": [],
   "source": [
    "bikeDynamic.to_csv('dBikeD_2.4_cleaned.csv', index=False, index_label = True)"
   ]
  },
  {
   "cell_type": "markdown",
   "metadata": {},
   "source": [
    "# 3. Feature Exploration"
   ]
  },
  {
   "cell_type": "markdown",
   "metadata": {},
   "source": [
    "## 3.1 Time series view "
   ]
  },
  {
   "cell_type": "markdown",
   "metadata": {},
   "source": [
    "# 4. Feature Engineering"
   ]
  },
  {
   "cell_type": "markdown",
   "metadata": {},
   "source": [
    "## 4.1 new feature set 1"
   ]
  },
  {
   "cell_type": "markdown",
   "metadata": {},
   "source": [
    "## 4.2 new feature set 2 "
   ]
  },
  {
   "cell_type": "markdown",
   "metadata": {},
   "source": [
    "## 4.5 Post processing"
   ]
  },
  {
   "cell_type": "markdown",
   "metadata": {},
   "source": [
    "### 4.5.1 Print data types "
   ]
  },
  {
   "cell_type": "markdown",
   "metadata": {},
   "source": [
    "### 4.5.2 Print discriptive statistics "
   ]
  },
  {
   "cell_type": "markdown",
   "metadata": {},
   "source": [
    "**Print statistics for catagorical data**"
   ]
  },
  {
   "cell_type": "markdown",
   "metadata": {},
   "source": [
    "**Print statistics for continuous data**"
   ]
  },
  {
   "cell_type": "markdown",
   "metadata": {},
   "source": [
    "**Print statistics for datetime data**"
   ]
  },
  {
   "cell_type": "markdown",
   "metadata": {},
   "source": [
    "### 4.5.3 Save preprocessed data into new CSV for further analystics stage "
   ]
  }
 ],
 "metadata": {
  "kernelspec": {
   "display_name": "Python 3",
   "language": "python",
   "name": "python3"
  },
  "language_info": {
   "codemirror_mode": {
    "name": "ipython",
    "version": 3
   },
   "file_extension": ".py",
   "mimetype": "text/x-python",
   "name": "python",
   "nbconvert_exporter": "python",
   "pygments_lexer": "ipython3",
   "version": "3.7.6"
  }
 },
 "nbformat": 4,
 "nbformat_minor": 1
}
