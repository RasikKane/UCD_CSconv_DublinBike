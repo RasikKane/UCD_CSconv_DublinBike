{
 "cells": [
  {
   "cell_type": "markdown",
   "metadata": {},
   "source": [
    "# DATA VISUALISATION for dublin bikes and dublin weather  "
   ]
  },
  {
   "cell_type": "markdown",
   "metadata": {},
   "source": [
    "# Initial Statements, Setup & File access "
   ]
  },
  {
   "cell_type": "markdown",
   "metadata": {},
   "source": [
    "Words \"Column\", \"Features\", \"Feature vectors\" are used synonymously to indicate a feature of data."
   ]
  },
  {
   "cell_type": "code",
   "execution_count": 1,
   "metadata": {},
   "outputs": [],
   "source": [
    "# Import pandas, numpy, matplotlib, seaborn libraries\n",
    "import pandas as pd\n",
    "import numpy as np\n",
    "import matplotlib.pyplot as plt\n",
    "import matplotlib.patches as mpatches\n",
    "import seaborn as sns\n",
    "from matplotlib.backends.backend_pdf import PdfPages\n",
    "from tabulate import tabulate\n",
    "import datetime\n",
    "import tensorflow as tf\n",
    "\n",
    "# hide ipykernel warnings \n",
    "import warnings\n",
    "warnings.filterwarnings('ignore')\n",
    "\n",
    "%matplotlib inline"
   ]
  },
  {
   "cell_type": "code",
   "execution_count": 2,
   "metadata": {},
   "outputs": [],
   "source": [
    "# read in data from csv file to pandas dataframe.  \n",
    "bikeStatic = pd.read_csv('dBikeS.csv',  keep_default_na=True, sep=',\\s+', delimiter=',', skipinitialspace=True)\n",
    "bikeDynamic = pd.read_csv('dBikeD.csv',  keep_default_na=True, sep=',\\s+', delimiter=',', skipinitialspace=True)\n",
    "weather = pd.read_csv('dWeatherD.csv',  keep_default_na=True, sep=',\\s+', delimiter=',', skipinitialspace=True)"
   ]
  },
  {
   "cell_type": "markdown",
   "metadata": {},
   "source": [
    "# 1. Data Quality Report"
   ]
  },
  {
   "cell_type": "markdown",
   "metadata": {},
   "source": [
    " - **Scope of stage 1**\n",
    "     - Data is not dropped unless for rows are duplicated.\n",
    "     - Data within a feature is manipulated only with mathematical operation. Data is not altered with reference to data in other features.\n",
    "     - Null values are not treated/ replaced with a unique name. They are preserved for stage2 operations."
   ]
  },
  {
   "cell_type": "markdown",
   "metadata": {},
   "source": [
    "## 1.1 Data view and formatting for Dublin bike dynamic data"
   ]
  },
  {
   "cell_type": "markdown",
   "metadata": {},
   "source": [
    "### 1.1.1 Check details about number of data samples and attributes in data"
   ]
  },
  {
   "cell_type": "code",
   "execution_count": 3,
   "metadata": {},
   "outputs": [
    {
     "data": {
      "text/plain": [
       "(369160, 8)"
      ]
     },
     "execution_count": 3,
     "metadata": {},
     "output_type": "execute_result"
    }
   ],
   "source": [
    "bikeDynamic.shape"
   ]
  },
  {
   "cell_type": "markdown",
   "metadata": {},
   "source": [
    "### 1.1.2 List sample head and tail rows of data"
   ]
  },
  {
   "cell_type": "markdown",
   "metadata": {},
   "source": [
    "#### Sample first 5 rows "
   ]
  },
  {
   "cell_type": "code",
   "execution_count": 4,
   "metadata": {},
   "outputs": [
    {
     "data": {
      "text/html": [
       "<div>\n",
       "<style scoped>\n",
       "    .dataframe tbody tr th:only-of-type {\n",
       "        vertical-align: middle;\n",
       "    }\n",
       "\n",
       "    .dataframe tbody tr th {\n",
       "        vertical-align: top;\n",
       "    }\n",
       "\n",
       "    .dataframe thead th {\n",
       "        text-align: right;\n",
       "    }\n",
       "</style>\n",
       "<table border=\"1\" class=\"dataframe\">\n",
       "  <thead>\n",
       "    <tr style=\"text-align: right;\">\n",
       "      <th></th>\n",
       "      <th>id_Entry</th>\n",
       "      <th>number</th>\n",
       "      <th>status</th>\n",
       "      <th>bike_stands</th>\n",
       "      <th>available_bike_stands</th>\n",
       "      <th>available_bikes</th>\n",
       "      <th>last_update</th>\n",
       "      <th>data_entry_timestamp</th>\n",
       "    </tr>\n",
       "  </thead>\n",
       "  <tbody>\n",
       "    <tr>\n",
       "      <th>0</th>\n",
       "      <td>1745</td>\n",
       "      <td>42</td>\n",
       "      <td>OPEN</td>\n",
       "      <td>30</td>\n",
       "      <td>17</td>\n",
       "      <td>13</td>\n",
       "      <td>2020-02-28 14:55:41</td>\n",
       "      <td>2020-02-28 15:00:04</td>\n",
       "    </tr>\n",
       "    <tr>\n",
       "      <th>1</th>\n",
       "      <td>1746</td>\n",
       "      <td>30</td>\n",
       "      <td>OPEN</td>\n",
       "      <td>20</td>\n",
       "      <td>16</td>\n",
       "      <td>4</td>\n",
       "      <td>2020-02-28 14:59:32</td>\n",
       "      <td>2020-02-28 15:00:04</td>\n",
       "    </tr>\n",
       "    <tr>\n",
       "      <th>2</th>\n",
       "      <td>1747</td>\n",
       "      <td>54</td>\n",
       "      <td>OPEN</td>\n",
       "      <td>33</td>\n",
       "      <td>22</td>\n",
       "      <td>9</td>\n",
       "      <td>2020-02-28 14:54:01</td>\n",
       "      <td>2020-02-28 15:00:04</td>\n",
       "    </tr>\n",
       "    <tr>\n",
       "      <th>3</th>\n",
       "      <td>1748</td>\n",
       "      <td>108</td>\n",
       "      <td>OPEN</td>\n",
       "      <td>40</td>\n",
       "      <td>37</td>\n",
       "      <td>3</td>\n",
       "      <td>2020-02-28 14:59:44</td>\n",
       "      <td>2020-02-28 15:00:04</td>\n",
       "    </tr>\n",
       "    <tr>\n",
       "      <th>4</th>\n",
       "      <td>1749</td>\n",
       "      <td>56</td>\n",
       "      <td>OPEN</td>\n",
       "      <td>40</td>\n",
       "      <td>13</td>\n",
       "      <td>27</td>\n",
       "      <td>2020-02-28 14:52:20</td>\n",
       "      <td>2020-02-28 15:00:04</td>\n",
       "    </tr>\n",
       "  </tbody>\n",
       "</table>\n",
       "</div>"
      ],
      "text/plain": [
       "   id_Entry  number status  bike_stands  available_bike_stands  \\\n",
       "0      1745      42   OPEN           30                     17   \n",
       "1      1746      30   OPEN           20                     16   \n",
       "2      1747      54   OPEN           33                     22   \n",
       "3      1748     108   OPEN           40                     37   \n",
       "4      1749      56   OPEN           40                     13   \n",
       "\n",
       "   available_bikes          last_update data_entry_timestamp  \n",
       "0               13  2020-02-28 14:55:41  2020-02-28 15:00:04  \n",
       "1                4  2020-02-28 14:59:32  2020-02-28 15:00:04  \n",
       "2                9  2020-02-28 14:54:01  2020-02-28 15:00:04  \n",
       "3                3  2020-02-28 14:59:44  2020-02-28 15:00:04  \n",
       "4               27  2020-02-28 14:52:20  2020-02-28 15:00:04  "
      ]
     },
     "execution_count": 4,
     "metadata": {},
     "output_type": "execute_result"
    }
   ],
   "source": [
    "bikeDynamic.head()"
   ]
  },
  {
   "cell_type": "markdown",
   "metadata": {},
   "source": [
    "#### Sample last 5 rows "
   ]
  },
  {
   "cell_type": "code",
   "execution_count": 5,
   "metadata": {},
   "outputs": [
    {
     "data": {
      "text/html": [
       "<div>\n",
       "<style scoped>\n",
       "    .dataframe tbody tr th:only-of-type {\n",
       "        vertical-align: middle;\n",
       "    }\n",
       "\n",
       "    .dataframe tbody tr th {\n",
       "        vertical-align: top;\n",
       "    }\n",
       "\n",
       "    .dataframe thead th {\n",
       "        text-align: right;\n",
       "    }\n",
       "</style>\n",
       "<table border=\"1\" class=\"dataframe\">\n",
       "  <thead>\n",
       "    <tr style=\"text-align: right;\">\n",
       "      <th></th>\n",
       "      <th>id_Entry</th>\n",
       "      <th>number</th>\n",
       "      <th>status</th>\n",
       "      <th>bike_stands</th>\n",
       "      <th>available_bike_stands</th>\n",
       "      <th>available_bikes</th>\n",
       "      <th>last_update</th>\n",
       "      <th>data_entry_timestamp</th>\n",
       "    </tr>\n",
       "  </thead>\n",
       "  <tbody>\n",
       "    <tr>\n",
       "      <th>369155</th>\n",
       "      <td>370900</td>\n",
       "      <td>39</td>\n",
       "      <td>OPEN</td>\n",
       "      <td>20</td>\n",
       "      <td>6</td>\n",
       "      <td>14</td>\n",
       "      <td>2020-03-24 11:37:49</td>\n",
       "      <td>2020-03-24 11:40:02</td>\n",
       "    </tr>\n",
       "    <tr>\n",
       "      <th>369156</th>\n",
       "      <td>370901</td>\n",
       "      <td>83</td>\n",
       "      <td>OPEN</td>\n",
       "      <td>40</td>\n",
       "      <td>27</td>\n",
       "      <td>13</td>\n",
       "      <td>2020-03-24 11:35:57</td>\n",
       "      <td>2020-03-24 11:40:02</td>\n",
       "    </tr>\n",
       "    <tr>\n",
       "      <th>369157</th>\n",
       "      <td>370902</td>\n",
       "      <td>92</td>\n",
       "      <td>OPEN</td>\n",
       "      <td>40</td>\n",
       "      <td>25</td>\n",
       "      <td>15</td>\n",
       "      <td>2020-03-24 11:38:08</td>\n",
       "      <td>2020-03-24 11:40:02</td>\n",
       "    </tr>\n",
       "    <tr>\n",
       "      <th>369158</th>\n",
       "      <td>370903</td>\n",
       "      <td>21</td>\n",
       "      <td>OPEN</td>\n",
       "      <td>30</td>\n",
       "      <td>22</td>\n",
       "      <td>8</td>\n",
       "      <td>2020-03-24 11:31:46</td>\n",
       "      <td>2020-03-24 11:40:02</td>\n",
       "    </tr>\n",
       "    <tr>\n",
       "      <th>369159</th>\n",
       "      <td>370904</td>\n",
       "      <td>88</td>\n",
       "      <td>OPEN</td>\n",
       "      <td>30</td>\n",
       "      <td>9</td>\n",
       "      <td>21</td>\n",
       "      <td>2020-03-24 11:35:03</td>\n",
       "      <td>2020-03-24 11:40:02</td>\n",
       "    </tr>\n",
       "  </tbody>\n",
       "</table>\n",
       "</div>"
      ],
      "text/plain": [
       "        id_Entry  number status  bike_stands  available_bike_stands  \\\n",
       "369155    370900      39   OPEN           20                      6   \n",
       "369156    370901      83   OPEN           40                     27   \n",
       "369157    370902      92   OPEN           40                     25   \n",
       "369158    370903      21   OPEN           30                     22   \n",
       "369159    370904      88   OPEN           30                      9   \n",
       "\n",
       "        available_bikes          last_update data_entry_timestamp  \n",
       "369155               14  2020-03-24 11:37:49  2020-03-24 11:40:02  \n",
       "369156               13  2020-03-24 11:35:57  2020-03-24 11:40:02  \n",
       "369157               15  2020-03-24 11:38:08  2020-03-24 11:40:02  \n",
       "369158                8  2020-03-24 11:31:46  2020-03-24 11:40:02  \n",
       "369159               21  2020-03-24 11:35:03  2020-03-24 11:40:02  "
      ]
     },
     "execution_count": 5,
     "metadata": {},
     "output_type": "execute_result"
    }
   ],
   "source": [
    "bikeDynamic.tail()"
   ]
  },
  {
   "cell_type": "markdown",
   "metadata": {},
   "source": [
    "**Results**:\n",
    " - Column \"id_Entry\" is possibly a key column uniquely identifying a station.\n",
    " - No duplicate column pairs are present in lay man observation\n",
    " - Spreadsheet program shows that all values logged in database are normal and nothing unregulated found."
   ]
  },
  {
   "cell_type": "markdown",
   "metadata": {},
   "source": [
    "**Observation on spreadsheet state that results for date 28 February and 24 March are patial. Hence, they are to be dropped for data consistency.** "
   ]
  },
  {
   "cell_type": "code",
   "execution_count": 6,
   "metadata": {},
   "outputs": [],
   "source": [
    "#DATETIME DATA\n",
    "\n",
    "# Select columns containing datetime data\n",
    "continous_date_columns = bikeDynamic[['last_update', 'data_entry_timestamp']].columns\n",
    "\n",
    "# Assign object type datetime to columns enlisted in continous_date_columns\n",
    "for column in continous_date_columns:\n",
    "    bikeDynamic[column] = pd.to_datetime(bikeDynamic[column])\n",
    "    \n",
    "d1 = datetime.datetime.strptime('2020-03-24 11:37:49','%Y-%m-%d %H:%M:%S')\n",
    "d2 = datetime.datetime.strptime('2020-02-28 11:37:49','%Y-%m-%d %H:%M:%S')\n",
    "\n",
    "bikeDynamic = bikeDynamic[(bikeDynamic['data_entry_timestamp'].dt.date != d1.date()) & (bikeDynamic['data_entry_timestamp'].dt.date != d2.date())]"
   ]
  },
  {
   "cell_type": "markdown",
   "metadata": {},
   "source": [
    "### 1.1.3 Convert features to apropriate data types"
   ]
  },
  {
   "cell_type": "markdown",
   "metadata": {},
   "source": [
    "#### 1.1.3.1 Count number of distinct values assumed by data for each feature  "
   ]
  },
  {
   "cell_type": "code",
   "execution_count": 7,
   "metadata": {},
   "outputs": [
    {
     "data": {
      "text/html": [
       "<div>\n",
       "<style scoped>\n",
       "    .dataframe tbody tr th:only-of-type {\n",
       "        vertical-align: middle;\n",
       "    }\n",
       "\n",
       "    .dataframe tbody tr th {\n",
       "        vertical-align: top;\n",
       "    }\n",
       "\n",
       "    .dataframe thead th {\n",
       "        text-align: right;\n",
       "    }\n",
       "</style>\n",
       "<table border=\"1\" class=\"dataframe\">\n",
       "  <thead>\n",
       "    <tr style=\"text-align: right;\">\n",
       "      <th></th>\n",
       "      <th>Features</th>\n",
       "      <th>Instances</th>\n",
       "      <th>Unique Instances</th>\n",
       "      <th>unique instances : Total instances</th>\n",
       "    </tr>\n",
       "  </thead>\n",
       "  <tbody>\n",
       "    <tr>\n",
       "      <th>0</th>\n",
       "      <td>id_Entry</td>\n",
       "      <td>355410</td>\n",
       "      <td>355410</td>\n",
       "      <td>1.000000</td>\n",
       "    </tr>\n",
       "    <tr>\n",
       "      <th>1</th>\n",
       "      <td>number</td>\n",
       "      <td>355410</td>\n",
       "      <td>110</td>\n",
       "      <td>0.000310</td>\n",
       "    </tr>\n",
       "    <tr>\n",
       "      <th>2</th>\n",
       "      <td>status</td>\n",
       "      <td>355410</td>\n",
       "      <td>2</td>\n",
       "      <td>0.000006</td>\n",
       "    </tr>\n",
       "    <tr>\n",
       "      <th>3</th>\n",
       "      <td>bike_stands</td>\n",
       "      <td>355410</td>\n",
       "      <td>17</td>\n",
       "      <td>0.000048</td>\n",
       "    </tr>\n",
       "    <tr>\n",
       "      <th>4</th>\n",
       "      <td>available_bike_stands</td>\n",
       "      <td>355410</td>\n",
       "      <td>41</td>\n",
       "      <td>0.000115</td>\n",
       "    </tr>\n",
       "    <tr>\n",
       "      <th>5</th>\n",
       "      <td>available_bikes</td>\n",
       "      <td>355410</td>\n",
       "      <td>41</td>\n",
       "      <td>0.000115</td>\n",
       "    </tr>\n",
       "    <tr>\n",
       "      <th>6</th>\n",
       "      <td>last_update</td>\n",
       "      <td>355410</td>\n",
       "      <td>300353</td>\n",
       "      <td>0.845089</td>\n",
       "    </tr>\n",
       "    <tr>\n",
       "      <th>7</th>\n",
       "      <td>data_entry_timestamp</td>\n",
       "      <td>355410</td>\n",
       "      <td>3231</td>\n",
       "      <td>0.009091</td>\n",
       "    </tr>\n",
       "  </tbody>\n",
       "</table>\n",
       "</div>"
      ],
      "text/plain": [
       "                Features Instances Unique Instances  \\\n",
       "0               id_Entry    355410           355410   \n",
       "1                 number    355410              110   \n",
       "2                 status    355410                2   \n",
       "3            bike_stands    355410               17   \n",
       "4  available_bike_stands    355410               41   \n",
       "5        available_bikes    355410               41   \n",
       "6            last_update    355410           300353   \n",
       "7   data_entry_timestamp    355410             3231   \n",
       "\n",
       "   unique instances : Total instances  \n",
       "0                            1.000000  \n",
       "1                            0.000310  \n",
       "2                            0.000006  \n",
       "3                            0.000048  \n",
       "4                            0.000115  \n",
       "5                            0.000115  \n",
       "6                            0.845089  \n",
       "7                            0.009091  "
      ]
     },
     "execution_count": 7,
     "metadata": {},
     "output_type": "execute_result"
    }
   ],
   "source": [
    "# Gather information related to identifiers for instacnes, count of instances and count of unique instances for all features. \n",
    "# This information is stored into a csv.  \n",
    "\n",
    "bikeDynamic_count = pd.DataFrame(\n",
    "    [column, str(bikeDynamic[column].count()), str(len(bikeDynamic[column].unique())),\\\n",
    "    round((len(bikeDynamic[column].unique()) / bikeDynamic[column].count()),6)] for column in bikeDynamic.columns.values\\\n",
    "    )\n",
    "bikeDynamic_count.columns = ['Features', 'Instances', 'Unique Instances','unique instances : Total instances']\n",
    "\n",
    "bikeDynamic_count"
   ]
  },
  {
   "cell_type": "markdown",
   "metadata": {},
   "source": [
    "#### 1.1.3.2 Enlist preassigned data types "
   ]
  },
  {
   "cell_type": "code",
   "execution_count": 8,
   "metadata": {},
   "outputs": [
    {
     "name": "stdout",
     "output_type": "stream",
     "text": [
      "Feature                Data Type\n",
      "---------------------  --------------\n",
      "id_Entry               int64\n",
      "number                 int64\n",
      "status                 object\n",
      "bike_stands            int64\n",
      "available_bike_stands  int64\n",
      "available_bikes        int64\n",
      "last_update            datetime64[ns]\n",
      "data_entry_timestamp   datetime64[ns] \n",
      "\n",
      "\n",
      "\n"
     ]
    }
   ],
   "source": [
    "print(tabulate(pd.DataFrame(bikeDynamic.dtypes), headers=[\"Feature\", \"Data Type\"]), \"\\n\\n\\n\")"
   ]
  },
  {
   "cell_type": "markdown",
   "metadata": {},
   "source": [
    "#### 1.1.3.3 Decide data types to be assigned to each feature "
   ]
  },
  {
   "cell_type": "markdown",
   "metadata": {},
   "source": [
    " - id_Entry is primary keey for the dataset.\n",
    " - Examination of CSV as a spreadsheet helps to **substantiate speculation** about actual data types: <br>\n",
    "\n",
    "| Features                  | Data Classification| Subtype    | Discription    |\n",
    "|:------------------------- |:------------------ |:---------- |:-------------- | \n",
    "| id_Entry                  | numeric            | discrete | Primary key for database|\n",
    "| number                    | numeric            | discrete | staion id|\n",
    "| status                    | catagorical        | nominal    | station is operational or closed |\n",
    "| bike_stands               | numeric            | discrete   | total number of stands at station|\n",
    "| available_bike_stands     | numeric            | discrete   | available bikes at station|\n",
    "| available_bikes           | numeric            | discrete   | available parking slots at station|\n",
    "| last_update               | datetime           | discrete   | last update to API serivce server by station|\n",
    "| data_entry_timestamp      | datetime           | discrete   | time of data entry into server; not relevent for analysis|"
   ]
  },
  {
   "cell_type": "markdown",
   "metadata": {},
   "source": [
    "#### 1.1.3.4 Convert to decided data type "
   ]
  },
  {
   "cell_type": "code",
   "execution_count": 9,
   "metadata": {},
   "outputs": [],
   "source": [
    "#CATAGORICAL DATA\n",
    "\n",
    "# Select columns containing categorical data\n",
    "categorical_columns = bikeDynamic[['status']].columns\n",
    "\n",
    "# Assign data type category to columns listed in categorical_columns\n",
    "for column in categorical_columns:\n",
    "    bikeDynamic[column] = bikeDynamic[column].astype('category') "
   ]
  },
  {
   "cell_type": "code",
   "execution_count": 10,
   "metadata": {},
   "outputs": [],
   "source": [
    "#CONTINUOUS DATA\n",
    "\n",
    "# Select columns containing continuous data\n",
    "continous_columns = bikeDynamic[['id_Entry', 'number','bike_stands','available_bike_stands','available_bikes']].columns\n",
    "\n",
    "# Assign data type int64 to columns listed in continuous_columns\n",
    "for column in continous_columns:\n",
    "    bikeDynamic[column] = bikeDynamic[column].astype('int64')"
   ]
  },
  {
   "cell_type": "markdown",
   "metadata": {},
   "source": [
    "#### 1.1.3.5 Varify correct data type casting of features "
   ]
  },
  {
   "cell_type": "code",
   "execution_count": 11,
   "metadata": {},
   "outputs": [
    {
     "name": "stdout",
     "output_type": "stream",
     "text": [
      "Feature                Data Type\n",
      "---------------------  --------------\n",
      "id_Entry               int64\n",
      "number                 int64\n",
      "status                 category\n",
      "bike_stands            int64\n",
      "available_bike_stands  int64\n",
      "available_bikes        int64\n",
      "last_update            datetime64[ns]\n",
      "data_entry_timestamp   datetime64[ns] \n",
      "\n",
      "\n",
      "\n"
     ]
    }
   ],
   "source": [
    "print(tabulate(pd.DataFrame(bikeDynamic.dtypes), headers=[\"Feature\", \"Data Type\"]), \"\\n\\n\\n\")"
   ]
  },
  {
   "cell_type": "markdown",
   "metadata": {},
   "source": [
    "### 1.1.4 Drop duplicates"
   ]
  },
  {
   "cell_type": "code",
   "execution_count": 12,
   "metadata": {},
   "outputs": [
    {
     "name": "stdout",
     "output_type": "stream",
     "text": [
      "Number of duplicate (excluding first) rows in the table is:  0\n",
      "Number of duplicate rows (including first) in the table is: 0\n"
     ]
    }
   ],
   "source": [
    "# Check for duplicate rows\n",
    "#Print the number of duplicate rows, without the original rows that were duplicated\n",
    "\n",
    "# Check for duplicate rows for primary key \"id_Entry\"\n",
    "print('Number of duplicate (excluding first) rows in the table is: ', bikeDynamic.duplicated(subset = \"id_Entry\").sum()) \n",
    "\n",
    "# Use \"keep=False\" to mark all duplicates as true, including the original rows that were duplicated.\n",
    "print('Number of duplicate rows (including first) in the table is:', bikeDynamic[bikeDynamic.duplicated(subset = \"id_Entry\",keep=False)].shape[0])\n"
   ]
  },
  {
   "cell_type": "code",
   "execution_count": 13,
   "metadata": {},
   "outputs": [
    {
     "name": "stdout",
     "output_type": "stream",
     "text": [
      "Number of duplicate (excluding first) columns in the table is:  0\n",
      "Number of duplicate (including first) columns in the table is:  0\n"
     ]
    }
   ],
   "source": [
    "# Check for duplicate columns\n",
    "#First transpose the df so columns become rows, then apply the same check as above\n",
    "# Since cardinality of data is huge and ever increasing; and we just need to see if NO DUPLICATES EXIST; hence subset of database is taken.\n",
    "\n",
    "bikeDynamicT = bikeDynamic.head(1000).T\n",
    "\n",
    "# Check for duplicate columns.\n",
    "print(\"Number of duplicate (excluding first) columns in the table is: \", bikeDynamicT.duplicated().sum())\n",
    "\n",
    "#Print the number of duplicates, including the original columns that were duplicated\n",
    "print(\"Number of duplicate (including first) columns in the table is: \",  bikeDynamicT[bikeDynamicT.duplicated(keep=False)].shape[0])"
   ]
  },
  {
   "cell_type": "markdown",
   "metadata": {},
   "source": [
    "**Result : Duplicate columns (features) do exist**\n",
    " - Rows : Duplicate samples do not exist. id_Entry has (unique values : total values ratio) = 1. Logically, its a primary key for the dataset. Hence, duplicacies are checked with its respect and none are found.\n",
    " - Columns : Duplicate samples do not exist. "
   ]
  },
  {
   "cell_type": "markdown",
   "metadata": {},
   "source": [
    "### 1.1.5 Check constant features"
   ]
  },
  {
   "cell_type": "markdown",
   "metadata": {},
   "source": [
    "#### 1.1.5.1 Catagorical features "
   ]
  },
  {
   "cell_type": "code",
   "execution_count": 14,
   "metadata": {},
   "outputs": [
    {
     "data": {
      "text/html": [
       "<div>\n",
       "<style scoped>\n",
       "    .dataframe tbody tr th:only-of-type {\n",
       "        vertical-align: middle;\n",
       "    }\n",
       "\n",
       "    .dataframe tbody tr th {\n",
       "        vertical-align: top;\n",
       "    }\n",
       "\n",
       "    .dataframe thead th {\n",
       "        text-align: right;\n",
       "    }\n",
       "</style>\n",
       "<table border=\"1\" class=\"dataframe\">\n",
       "  <thead>\n",
       "    <tr style=\"text-align: right;\">\n",
       "      <th></th>\n",
       "      <th>count</th>\n",
       "      <th>unique</th>\n",
       "      <th>top</th>\n",
       "      <th>freq</th>\n",
       "    </tr>\n",
       "  </thead>\n",
       "  <tbody>\n",
       "    <tr>\n",
       "      <th>status</th>\n",
       "      <td>355410</td>\n",
       "      <td>2</td>\n",
       "      <td>OPEN</td>\n",
       "      <td>355066</td>\n",
       "    </tr>\n",
       "  </tbody>\n",
       "</table>\n",
       "</div>"
      ],
      "text/plain": [
       "         count unique   top    freq\n",
       "status  355410      2  OPEN  355066"
      ]
     },
     "execution_count": 14,
     "metadata": {},
     "output_type": "execute_result"
    }
   ],
   "source": [
    "# Print table with categorical statistics\n",
    "bikeDynamic.select_dtypes(['category']).describe().T"
   ]
  },
  {
   "cell_type": "markdown",
   "metadata": {},
   "source": [
    "**Categorical Data** \n",
    "- Reviewing the categorical data below we can see all unique values > 1\n",
    "\n"
   ]
  },
  {
   "cell_type": "markdown",
   "metadata": {},
   "source": [
    "#### 1.1.5.2 Continuous features "
   ]
  },
  {
   "cell_type": "code",
   "execution_count": 15,
   "metadata": {},
   "outputs": [
    {
     "data": {
      "text/html": [
       "<div>\n",
       "<style scoped>\n",
       "    .dataframe tbody tr th:only-of-type {\n",
       "        vertical-align: middle;\n",
       "    }\n",
       "\n",
       "    .dataframe tbody tr th {\n",
       "        vertical-align: top;\n",
       "    }\n",
       "\n",
       "    .dataframe thead th {\n",
       "        text-align: right;\n",
       "    }\n",
       "</style>\n",
       "<table border=\"1\" class=\"dataframe\">\n",
       "  <thead>\n",
       "    <tr style=\"text-align: right;\">\n",
       "      <th></th>\n",
       "      <th>count</th>\n",
       "      <th>mean</th>\n",
       "      <th>std</th>\n",
       "      <th>min</th>\n",
       "      <th>25%</th>\n",
       "      <th>50%</th>\n",
       "      <th>75%</th>\n",
       "      <th>max</th>\n",
       "    </tr>\n",
       "  </thead>\n",
       "  <tbody>\n",
       "    <tr>\n",
       "      <th>id_Entry</th>\n",
       "      <td>355410.0</td>\n",
       "      <td>185389.500000</td>\n",
       "      <td>102598.173924</td>\n",
       "      <td>7685.0</td>\n",
       "      <td>96537.25</td>\n",
       "      <td>185389.5</td>\n",
       "      <td>274241.75</td>\n",
       "      <td>363094.0</td>\n",
       "    </tr>\n",
       "    <tr>\n",
       "      <th>number</th>\n",
       "      <td>355410.0</td>\n",
       "      <td>60.518182</td>\n",
       "      <td>33.767631</td>\n",
       "      <td>2.0</td>\n",
       "      <td>31.00</td>\n",
       "      <td>61.5</td>\n",
       "      <td>90.00</td>\n",
       "      <td>117.0</td>\n",
       "    </tr>\n",
       "    <tr>\n",
       "      <th>bike_stands</th>\n",
       "      <td>355410.0</td>\n",
       "      <td>32.181818</td>\n",
       "      <td>7.650539</td>\n",
       "      <td>16.0</td>\n",
       "      <td>29.00</td>\n",
       "      <td>30.0</td>\n",
       "      <td>40.00</td>\n",
       "      <td>40.0</td>\n",
       "    </tr>\n",
       "    <tr>\n",
       "      <th>available_bike_stands</th>\n",
       "      <td>355410.0</td>\n",
       "      <td>20.249658</td>\n",
       "      <td>10.792020</td>\n",
       "      <td>0.0</td>\n",
       "      <td>12.00</td>\n",
       "      <td>20.0</td>\n",
       "      <td>29.00</td>\n",
       "      <td>40.0</td>\n",
       "    </tr>\n",
       "    <tr>\n",
       "      <th>available_bikes</th>\n",
       "      <td>355410.0</td>\n",
       "      <td>11.842146</td>\n",
       "      <td>9.583294</td>\n",
       "      <td>0.0</td>\n",
       "      <td>4.00</td>\n",
       "      <td>10.0</td>\n",
       "      <td>18.00</td>\n",
       "      <td>40.0</td>\n",
       "    </tr>\n",
       "  </tbody>\n",
       "</table>\n",
       "</div>"
      ],
      "text/plain": [
       "                          count           mean            std     min  \\\n",
       "id_Entry               355410.0  185389.500000  102598.173924  7685.0   \n",
       "number                 355410.0      60.518182      33.767631     2.0   \n",
       "bike_stands            355410.0      32.181818       7.650539    16.0   \n",
       "available_bike_stands  355410.0      20.249658      10.792020     0.0   \n",
       "available_bikes        355410.0      11.842146       9.583294     0.0   \n",
       "\n",
       "                            25%       50%        75%       max  \n",
       "id_Entry               96537.25  185389.5  274241.75  363094.0  \n",
       "number                    31.00      61.5      90.00     117.0  \n",
       "bike_stands               29.00      30.0      40.00      40.0  \n",
       "available_bike_stands     12.00      20.0      29.00      40.0  \n",
       "available_bikes            4.00      10.0      18.00      40.0  "
      ]
     },
     "execution_count": 15,
     "metadata": {},
     "output_type": "execute_result"
    }
   ],
   "source": [
    "# Print table with continuous statistics\n",
    "bikeDynamic.select_dtypes(include=['int64']).describe().T"
   ]
  },
  {
   "cell_type": "markdown",
   "metadata": {},
   "source": [
    "**Continuous Data** \n",
    "- No continuous feature has a non zero standard deviation.  \n",
    "- This implies that feature does not contain a single constant value in all of the rows. Thus in this case, none of the continuous features are constant.\n",
    "- Result - No constant columns"
   ]
  },
  {
   "cell_type": "markdown",
   "metadata": {},
   "source": [
    "#### 1.1.5.3 DateTime features "
   ]
  },
  {
   "cell_type": "code",
   "execution_count": 16,
   "metadata": {},
   "outputs": [
    {
     "data": {
      "text/html": [
       "<div>\n",
       "<style scoped>\n",
       "    .dataframe tbody tr th:only-of-type {\n",
       "        vertical-align: middle;\n",
       "    }\n",
       "\n",
       "    .dataframe tbody tr th {\n",
       "        vertical-align: top;\n",
       "    }\n",
       "\n",
       "    .dataframe thead th {\n",
       "        text-align: right;\n",
       "    }\n",
       "</style>\n",
       "<table border=\"1\" class=\"dataframe\">\n",
       "  <thead>\n",
       "    <tr style=\"text-align: right;\">\n",
       "      <th></th>\n",
       "      <th>count</th>\n",
       "      <th>unique</th>\n",
       "      <th>top</th>\n",
       "      <th>freq</th>\n",
       "      <th>first</th>\n",
       "      <th>last</th>\n",
       "    </tr>\n",
       "  </thead>\n",
       "  <tbody>\n",
       "    <tr>\n",
       "      <th>last_update</th>\n",
       "      <td>355410</td>\n",
       "      <td>300353</td>\n",
       "      <td>2020-03-13 21:14:38</td>\n",
       "      <td>116</td>\n",
       "      <td>2020-02-28 22:57:37</td>\n",
       "      <td>2020-03-23 23:49:05</td>\n",
       "    </tr>\n",
       "    <tr>\n",
       "      <th>data_entry_timestamp</th>\n",
       "      <td>355410</td>\n",
       "      <td>3231</td>\n",
       "      <td>2020-03-19 03:40:02</td>\n",
       "      <td>110</td>\n",
       "      <td>2020-02-29 00:00:06</td>\n",
       "      <td>2020-03-23 23:50:02</td>\n",
       "    </tr>\n",
       "  </tbody>\n",
       "</table>\n",
       "</div>"
      ],
      "text/plain": [
       "                       count  unique                 top freq  \\\n",
       "last_update           355410  300353 2020-03-13 21:14:38  116   \n",
       "data_entry_timestamp  355410    3231 2020-03-19 03:40:02  110   \n",
       "\n",
       "                                   first                last  \n",
       "last_update          2020-02-28 22:57:37 2020-03-23 23:49:05  \n",
       "data_entry_timestamp 2020-02-29 00:00:06 2020-03-23 23:50:02  "
      ]
     },
     "execution_count": 16,
     "metadata": {},
     "output_type": "execute_result"
    }
   ],
   "source": [
    "# Print table with continuous statistics\n",
    "bikeDynamic.select_dtypes(include=['datetime']).describe().T"
   ]
  },
  {
   "cell_type": "markdown",
   "metadata": {},
   "source": [
    "**DateTime Data** \n",
    "- Reviewing the datetime data below we can see all unique values > 1 \n",
    "\n",
    "Though this is not catagorical data, it is valid to say that last_update being same for multiple stations is a likely possibility. So is case for data_entry_timestamp; which represents time of data entry into database by data scraper."
   ]
  },
  {
   "cell_type": "markdown",
   "metadata": {},
   "source": [
    "**Result : No constant Features found in dataset**"
   ]
  },
  {
   "cell_type": "markdown",
   "metadata": {},
   "source": [
    "### 1.1.6 Check for null values in features"
   ]
  },
  {
   "cell_type": "code",
   "execution_count": 17,
   "metadata": {},
   "outputs": [
    {
     "name": "stdout",
     "output_type": "stream",
     "text": [
      "Features             Null instances \n",
      "\n",
      "\n"
     ]
    },
    {
     "data": {
      "text/plain": [
       "id_Entry                 0\n",
       "number                   0\n",
       "status                   0\n",
       "bike_stands              0\n",
       "available_bike_stands    0\n",
       "available_bikes          0\n",
       "last_update              0\n",
       "data_entry_timestamp     0\n",
       "dtype: int64"
      ]
     },
     "execution_count": 17,
     "metadata": {},
     "output_type": "execute_result"
    }
   ],
   "source": [
    "print(\"Features\".ljust(20,\" \"),\"Null instances\",\"\\n\\n\")\n",
    "bikeDynamic.isnull().sum()"
   ]
  },
  {
   "cell_type": "markdown",
   "metadata": {},
   "source": [
    "**Result : No null values found**"
   ]
  },
  {
   "cell_type": "markdown",
   "metadata": {},
   "source": [
    "## 1.2 Data cleansing and discriptive statistics"
   ]
  },
  {
   "cell_type": "markdown",
   "metadata": {},
   "source": [
    "### 1.2.1 Varify cardinality "
   ]
  },
  {
   "cell_type": "markdown",
   "metadata": {},
   "source": [
    "#### 1.2.1.1 Catagorical features "
   ]
  },
  {
   "cell_type": "code",
   "execution_count": 18,
   "metadata": {},
   "outputs": [
    {
     "name": "stdout",
     "output_type": "stream",
     "text": [
      "Feature: status \tCardinality: 2 \n",
      " [OPEN, CLOSED]\n",
      "Categories (2, object): [OPEN, CLOSED] \n",
      "\n",
      "\n"
     ]
    }
   ],
   "source": [
    "# Check for irregular cardinality & permitted values in categorical features.\n",
    "columns = list(bikeDynamic.select_dtypes(['category']).columns.values)\n",
    "for column in columns: \n",
    "    print(\"Feature:\",column,\"\\tCardinality:\",str(len(bikeDynamic[column].unique())),\"\\n\",pd.unique(bikeDynamic[column].ravel()),\"\\n\\n\")"
   ]
  },
  {
   "cell_type": "code",
   "execution_count": 19,
   "metadata": {},
   "outputs": [
    {
     "name": "stdout",
     "output_type": "stream",
     "text": [
      "status   Cardinality:2 \n",
      "----------------------\n",
      "\n",
      "Instance      Number of Instances\n",
      "----------  ---------------------\n",
      "OPEN                       355066\n",
      "CLOSED                        344 \n",
      "\n",
      "\n",
      "\n"
     ]
    }
   ],
   "source": [
    "# For each catagorical feature, display the number of instances each of its values has.\n",
    "columns = list(bikeDynamic.select_dtypes(['category']).columns.values)\n",
    "for column in columns:\n",
    "    featureDetail = column+\"   Cardinality:\"+str(len(bikeDynamic[column].unique()))\n",
    "    print(featureDetail,\"\\n{}\\n\".format('-'*len(str(featureDetail))))\n",
    "    print(tabulate(pd.DataFrame(bikeDynamic[column].value_counts().nlargest(15)), headers=[\"Instance\", \"Number of Instances\"]), \"\\n\\n\\n\")\n"
   ]
  },
  {
   "cell_type": "markdown",
   "metadata": {},
   "source": [
    "**Values of cardinality of catagorical features are regular and within normal consideration.** \n",
    " - Almost stations are 'OPEN'.\n",
    " - Only 0.1% times station entry is 'CLOSED'"
   ]
  },
  {
   "cell_type": "markdown",
   "metadata": {},
   "source": [
    "#### 1.2.1.2 Continuous features "
   ]
  },
  {
   "cell_type": "code",
   "execution_count": 20,
   "metadata": {},
   "outputs": [
    {
     "name": "stdout",
     "output_type": "stream",
     "text": [
      "Feature: id_Entry \tCardinality: 355410 \n",
      " [  7685   7686   7687 ... 363092 363093 363094] \n",
      "\n",
      "\n",
      "\n",
      "Feature: number \tCardinality: 110 \n",
      " [  2   3   4   5   6   7   8   9  10  11  12  13  15  16  17  18  19  21\n",
      "  22  23  24  25  26  27  28  29  30  31  32  33  34  36  37  38  39  40\n",
      "  41  42  43  44  45  47  48  49  50  51  52  53  54  55  56  57  58  59\n",
      "  61  62  63  64  65  66  67  68  69  71  72  73  74  75  76  77  78  79\n",
      "  80  81  82  83  84  85  86  87  88  89  90  91  92  93  94  95  96  97\n",
      "  98  99 100 101 102 103 104 105 106 107 108 109 110 111 112 113 114 115\n",
      " 116 117] \n",
      "\n",
      "\n",
      "\n",
      "Feature: bike_stands \tCardinality: 17 \n",
      " [16 20 21 22 23 24 25 27 29 30 31 32 33 35 36 38 40] \n",
      "\n",
      "\n",
      "\n",
      "Feature: available_bike_stands \tCardinality: 41 \n",
      " [ 0  1  2  3  4  5  6  7  8  9 10 11 12 13 14 15 16 17 18 19 20 21 22 23\n",
      " 24 25 26 27 28 29 30 31 32 33 34 35 36 37 38 39 40] \n",
      "\n",
      "\n",
      "\n",
      "Feature: available_bikes \tCardinality: 41 \n",
      " [ 0  1  2  3  4  5  6  7  8  9 10 11 12 13 14 15 16 17 18 19 20 21 22 23\n",
      " 24 25 26 27 28 29 30 31 32 33 34 35 36 37 38 39 40] \n",
      "\n",
      "\n",
      "\n"
     ]
    }
   ],
   "source": [
    "# Check for irregular cardinality & permitted values in continuous features.\n",
    "columns = list(bikeDynamic.select_dtypes(['int64']).columns.values)\n",
    "for column in columns: \n",
    "    print(\"Feature:\",column,\"\\tCardinality:\",str(len(bikeDynamic[column].unique())),\"\\n\",pd.unique(sorted(bikeDynamic[column].ravel())),\"\\n\\n\\n\")"
   ]
  },
  {
   "cell_type": "code",
   "execution_count": 21,
   "metadata": {
    "scrolled": true
   },
   "outputs": [
    {
     "name": "stdout",
     "output_type": "stream",
     "text": [
      "id_Entry \n",
      "--------\n",
      "\n",
      "  Feature    Number of Instances\n",
      "---------  ---------------------\n",
      "     8188                      1\n",
      "   287449                      1\n",
      "   271057                      1\n",
      "   277202                      1\n",
      "   275155                      1\n",
      "   264916                      1\n",
      "   262869                      1\n",
      "   269014                      1\n",
      "   266967                      1\n",
      "   289496                      1\n",
      "   293594                      1\n",
      "   316111                      1\n",
      "   291547                      1\n",
      "   281308                      1\n",
      "   279261                      1 \n",
      "\n",
      "\n",
      "\n",
      "number \n",
      "------\n",
      "\n",
      "  Feature    Number of Instances\n",
      "---------  ---------------------\n",
      "      117                   3231\n",
      "       45                   3231\n",
      "       33                   3231\n",
      "       34                   3231\n",
      "       36                   3231\n",
      "       37                   3231\n",
      "       38                   3231\n",
      "       39                   3231\n",
      "       40                   3231\n",
      "       41                   3231\n",
      "       42                   3231\n",
      "       43                   3231\n",
      "       44                   3231\n",
      "       47                   3231\n",
      "       31                   3231 \n",
      "\n",
      "\n",
      "\n",
      "bike_stands \n",
      "-----------\n",
      "\n",
      "  Feature    Number of Instances\n",
      "---------  ---------------------\n",
      "       40                 138933\n",
      "       30                  87237\n",
      "       20                  51696\n",
      "       29                  12924\n",
      "       38                   9693\n",
      "       35                   6462\n",
      "       25                   6462\n",
      "       23                   6462\n",
      "       36                   6462\n",
      "       16                   6462\n",
      "       33                   3231\n",
      "       32                   3231\n",
      "       31                   3231\n",
      "       27                   3231\n",
      "       24                   3231 \n",
      "\n",
      "\n",
      "\n",
      "available_bike_stands \n",
      "---------------------\n",
      "\n",
      "  Feature    Number of Instances\n",
      "---------  ---------------------\n",
      "       20                  15713\n",
      "       30                  13632\n",
      "       40                  12793\n",
      "       19                  12684\n",
      "       17                  12199\n",
      "       18                  12105\n",
      "       16                  11880\n",
      "       29                  11317\n",
      "       27                  10815\n",
      "       28                  10763\n",
      "       14                  10048\n",
      "       15                   9963\n",
      "       13                   9763\n",
      "       26                   9756\n",
      "       23                   9735 \n",
      "\n",
      "\n",
      "\n",
      "available_bikes \n",
      "---------------\n",
      "\n",
      "  Feature    Number of Instances\n",
      "---------  ---------------------\n",
      "        0                  36620\n",
      "        1                  17788\n",
      "        2                  16171\n",
      "        3                  14873\n",
      "        4                  14343\n",
      "        9                  14273\n",
      "        6                  14053\n",
      "        7                  13839\n",
      "        8                  13592\n",
      "       10                  13546\n",
      "       11                  13496\n",
      "        5                  13048\n",
      "       12                  12804\n",
      "       13                  11438\n",
      "       14                  11377 \n",
      "\n",
      "\n",
      "\n"
     ]
    }
   ],
   "source": [
    "# For each continuous feature, display the number of instances each of its values has.\n",
    "columns = list(bikeDynamic.select_dtypes(['int64']).columns.values)\n",
    "for column in columns:\n",
    "    print(column,\"\\n{}\\n\".format('-'*len(str(column))))\n",
    "    print(tabulate(pd.DataFrame(bikeDynamic[column].value_counts().nlargest(15)), headers=[\"Feature\", \"Number of Instances\"]), \"\\n\\n\\n\")\n"
   ]
  },
  {
   "cell_type": "markdown",
   "metadata": {},
   "source": [
    "**Values of cardinality of Continuous features are regular and within normal consideration.** \n",
    " - No irregularity is found\n",
    " - Refering to quartile ranges and permissible values, it is evident that for both bike_stands, available_bike_stands and available_bikes features: \n",
    "     - On average, nearly 35% of stands have 0 available bikes at any time\n",
    "     - 70% Bike stands have capacity greater than 29; 39% Bike stands have capcity of 40 bikes"
   ]
  },
  {
   "cell_type": "markdown",
   "metadata": {},
   "source": [
    "#### 1.2.1.3 DateTime features "
   ]
  },
  {
   "cell_type": "code",
   "execution_count": 22,
   "metadata": {},
   "outputs": [
    {
     "name": "stdout",
     "output_type": "stream",
     "text": [
      "Feature: last_update \tCardinality: 300353 \n",
      " ['2020-02-28T22:57:37.000000000' '2020-02-28T23:50:00.000000000'\n",
      " '2020-02-28T23:50:12.000000000' ... '2020-03-23T23:48:59.000000000'\n",
      " '2020-03-23T23:49:02.000000000' '2020-03-23T23:49:05.000000000'] \n",
      "\n",
      "\n",
      "\n",
      "Feature: data_entry_timestamp \tCardinality: 3231 \n",
      " ['2020-02-29T00:00:06.000000000' '2020-02-29T00:10:02.000000000'\n",
      " '2020-02-29T00:20:02.000000000' ... '2020-03-23T23:30:02.000000000'\n",
      " '2020-03-23T23:40:02.000000000' '2020-03-23T23:50:02.000000000'] \n",
      "\n",
      "\n",
      "\n"
     ]
    }
   ],
   "source": [
    "# Check for irregular cardinality & permitted values in datetime features.\n",
    "columns = list(bikeDynamic.select_dtypes(['datetime64']).columns.values)\n",
    "for column in columns: \n",
    "    print(\"Feature:\",column,\"\\tCardinality:\",str(len(bikeDynamic[column].unique())),\"\\n\",pd.unique(sorted(bikeDynamic[column].ravel())),\"\\n\\n\\n\")"
   ]
  },
  {
   "cell_type": "code",
   "execution_count": 23,
   "metadata": {
    "scrolled": true
   },
   "outputs": [
    {
     "name": "stdout",
     "output_type": "stream",
     "text": [
      "last_update \n",
      "-----------\n",
      "\n",
      "Feature                Number of Instances\n",
      "-------------------  ---------------------\n",
      "2020-03-13 21:14:38                    116\n",
      "2020-03-06 19:32:44                     41\n",
      "2020-03-14 04:06:25                     40\n",
      "2020-03-16 03:55:32                     21\n",
      "2020-03-16 19:33:46                     18\n",
      "2020-03-12 15:31:12                     16\n",
      "2020-03-16 03:55:04                     15\n",
      "2020-03-16 03:59:52                     15\n",
      "2020-03-13 06:58:33                     15\n",
      "2020-03-16 03:54:54                     14 \n",
      "\n",
      "\n",
      "\n",
      "data_entry_timestamp \n",
      "--------------------\n",
      "\n",
      "Feature                Number of Instances\n",
      "-------------------  ---------------------\n",
      "2020-03-19 03:40:02                    110\n",
      "2020-03-07 22:30:02                    110\n",
      "2020-03-07 07:30:02                    110\n",
      "2020-03-07 05:00:04                    110\n",
      "2020-03-16 00:00:05                    110\n",
      "2020-03-15 20:20:02                    110\n",
      "2020-03-18 06:40:02                    110\n",
      "2020-03-04 23:50:02                    110\n",
      "2020-03-20 16:00:06                    110\n",
      "2020-03-19 15:10:02                    110 \n",
      "\n",
      "\n",
      "\n"
     ]
    }
   ],
   "source": [
    "# For each datetime feature, display the number of instances each of its values has.\n",
    "columns = list(bikeDynamic.select_dtypes(['datetime64']).columns.values)\n",
    "for column in columns:\n",
    "    print(column,\"\\n{}\\n\".format('-'*len(str(column))))\n",
    "    print(tabulate(pd.DataFrame(bikeDynamic[column].value_counts().nlargest(10)), headers=[\"Feature\", \"Number of Instances\"]), \"\\n\\n\\n\")\n"
   ]
  },
  {
   "cell_type": "markdown",
   "metadata": {},
   "source": [
    "**Values of cardinality of DateTime features are regular and within normal consideration.** \n",
    "- As expected, data_entry_timestamp has fixed number of instances for each entry since data is entered for each station exactly once\n",
    "- last_update feature shows 116 instances for a perticular \"2020-03-13 21:14:38\" which is an eye catcher."
   ]
  },
  {
   "cell_type": "markdown",
   "metadata": {},
   "source": [
    "### 1.2.2 Check logical integrity of data "
   ]
  },
  {
   "cell_type": "markdown",
   "metadata": {},
   "source": [
    "**Data integrity is checked for following cases:**\n",
    " - is \"bike_stands\" $>=$ \"available_bike_stands\" $+$ \"available_bikes\"  [Any other sequence is incorrect]\n",
    " - is \"last_update\" $<=$ \"data_entry_timestamp\" [Any other sequence is incorrect]"
   ]
  },
  {
   "cell_type": "markdown",
   "metadata": {},
   "source": [
    "Date of birth for an animal must always be smaller than or equal to date of intake into shelter."
   ]
  },
  {
   "cell_type": "code",
   "execution_count": 24,
   "metadata": {},
   "outputs": [
    {
     "name": "stdout",
     "output_type": "stream",
     "text": [
      "Number of rows failing the test:  18\n"
     ]
    },
    {
     "data": {
      "text/html": [
       "<div>\n",
       "<style scoped>\n",
       "    .dataframe tbody tr th:only-of-type {\n",
       "        vertical-align: middle;\n",
       "    }\n",
       "\n",
       "    .dataframe tbody tr th {\n",
       "        vertical-align: top;\n",
       "    }\n",
       "\n",
       "    .dataframe thead th {\n",
       "        text-align: right;\n",
       "    }\n",
       "</style>\n",
       "<table border=\"1\" class=\"dataframe\">\n",
       "  <thead>\n",
       "    <tr style=\"text-align: right;\">\n",
       "      <th></th>\n",
       "      <th>available_bike_stands</th>\n",
       "      <th>available_bikes</th>\n",
       "      <th>bike_stands</th>\n",
       "    </tr>\n",
       "  </thead>\n",
       "  <tbody>\n",
       "    <tr>\n",
       "      <th>63885</th>\n",
       "      <td>17</td>\n",
       "      <td>0</td>\n",
       "      <td>16</td>\n",
       "    </tr>\n",
       "    <tr>\n",
       "      <th>248795</th>\n",
       "      <td>16</td>\n",
       "      <td>1</td>\n",
       "      <td>16</td>\n",
       "    </tr>\n",
       "    <tr>\n",
       "      <th>248905</th>\n",
       "      <td>16</td>\n",
       "      <td>1</td>\n",
       "      <td>16</td>\n",
       "    </tr>\n",
       "    <tr>\n",
       "      <th>249125</th>\n",
       "      <td>16</td>\n",
       "      <td>1</td>\n",
       "      <td>16</td>\n",
       "    </tr>\n",
       "    <tr>\n",
       "      <th>249235</th>\n",
       "      <td>16</td>\n",
       "      <td>1</td>\n",
       "      <td>16</td>\n",
       "    </tr>\n",
       "  </tbody>\n",
       "</table>\n",
       "</div>"
      ],
      "text/plain": [
       "        available_bike_stands  available_bikes  bike_stands\n",
       "63885                      17                0           16\n",
       "248795                     16                1           16\n",
       "248905                     16                1           16\n",
       "249125                     16                1           16\n",
       "249235                     16                1           16"
      ]
     },
     "execution_count": 24,
     "metadata": {},
     "output_type": "execute_result"
    }
   ],
   "source": [
    "test_1 = bikeDynamic[[\"available_bike_stands\",\"available_bikes\",\"bike_stands\"]][bikeDynamic[\"available_bike_stands\"].add(bikeDynamic[\"available_bikes\"], axis=0)  >  bikeDynamic[\"bike_stands\"]]\n",
    "print(\"Number of rows failing the test: \", test_1.shape[0])\n",
    "test_1.head(5)"
   ]
  },
  {
   "cell_type": "markdown",
   "metadata": {},
   "source": [
    "Date of birth for an animal must always be smaller than or equal to date of Outcome from shelter."
   ]
  },
  {
   "cell_type": "code",
   "execution_count": 25,
   "metadata": {},
   "outputs": [
    {
     "name": "stdout",
     "output_type": "stream",
     "text": [
      "Number of rows failing the test:  0\n"
     ]
    },
    {
     "data": {
      "text/html": [
       "<div>\n",
       "<style scoped>\n",
       "    .dataframe tbody tr th:only-of-type {\n",
       "        vertical-align: middle;\n",
       "    }\n",
       "\n",
       "    .dataframe tbody tr th {\n",
       "        vertical-align: top;\n",
       "    }\n",
       "\n",
       "    .dataframe thead th {\n",
       "        text-align: right;\n",
       "    }\n",
       "</style>\n",
       "<table border=\"1\" class=\"dataframe\">\n",
       "  <thead>\n",
       "    <tr style=\"text-align: right;\">\n",
       "      <th></th>\n",
       "      <th>last_update</th>\n",
       "      <th>data_entry_timestamp</th>\n",
       "    </tr>\n",
       "  </thead>\n",
       "  <tbody>\n",
       "  </tbody>\n",
       "</table>\n",
       "</div>"
      ],
      "text/plain": [
       "Empty DataFrame\n",
       "Columns: [last_update, data_entry_timestamp]\n",
       "Index: []"
      ]
     },
     "execution_count": 25,
     "metadata": {},
     "output_type": "execute_result"
    }
   ],
   "source": [
    "test_2 = bikeDynamic[[\"last_update\",\"data_entry_timestamp\"]][bikeDynamic[\"data_entry_timestamp\"]  <  bikeDynamic[\"last_update\"]]\n",
    "print(\"Number of rows failing the test: \", test_2.shape[0])\n",
    "test_2.head(5)"
   ]
  },
  {
   "cell_type": "markdown",
   "metadata": {},
   "source": [
    "### 1.2.3  Save discriptive statistics into CSV for data quality report"
   ]
  },
  {
   "cell_type": "markdown",
   "metadata": {},
   "source": [
    "#### 1.2.3.1 Discriptive statistics for Catagorical Data"
   ]
  },
  {
   "cell_type": "code",
   "execution_count": 26,
   "metadata": {},
   "outputs": [
    {
     "data": {
      "text/html": [
       "<div>\n",
       "<style scoped>\n",
       "    .dataframe tbody tr th:only-of-type {\n",
       "        vertical-align: middle;\n",
       "    }\n",
       "\n",
       "    .dataframe tbody tr th {\n",
       "        vertical-align: top;\n",
       "    }\n",
       "\n",
       "    .dataframe thead th {\n",
       "        text-align: right;\n",
       "    }\n",
       "</style>\n",
       "<table border=\"1\" class=\"dataframe\">\n",
       "  <thead>\n",
       "    <tr style=\"text-align: right;\">\n",
       "      <th></th>\n",
       "      <th>count</th>\n",
       "      <th>unique</th>\n",
       "      <th>top</th>\n",
       "      <th>freq</th>\n",
       "    </tr>\n",
       "  </thead>\n",
       "  <tbody>\n",
       "    <tr>\n",
       "      <th>status</th>\n",
       "      <td>355410</td>\n",
       "      <td>2</td>\n",
       "      <td>OPEN</td>\n",
       "      <td>355066</td>\n",
       "    </tr>\n",
       "  </tbody>\n",
       "</table>\n",
       "</div>"
      ],
      "text/plain": [
       "         count unique   top    freq\n",
       "status  355410      2  OPEN  355066"
      ]
     },
     "execution_count": 26,
     "metadata": {},
     "output_type": "execute_result"
    }
   ],
   "source": [
    "# Print table with categorical statistics and preserve in a csv\n",
    "dStat_catagorical = bikeDynamic.select_dtypes(['category']).describe().T\n",
    "dStat_catagorical.to_csv(\"categoricalFeatureDescription.csv\")\n",
    "dStat_catagorical"
   ]
  },
  {
   "cell_type": "markdown",
   "metadata": {},
   "source": [
    "#### 1.2.3.2 Discriptive statistics for Continuous Data"
   ]
  },
  {
   "cell_type": "code",
   "execution_count": 27,
   "metadata": {},
   "outputs": [
    {
     "data": {
      "text/html": [
       "<div>\n",
       "<style scoped>\n",
       "    .dataframe tbody tr th:only-of-type {\n",
       "        vertical-align: middle;\n",
       "    }\n",
       "\n",
       "    .dataframe tbody tr th {\n",
       "        vertical-align: top;\n",
       "    }\n",
       "\n",
       "    .dataframe thead th {\n",
       "        text-align: right;\n",
       "    }\n",
       "</style>\n",
       "<table border=\"1\" class=\"dataframe\">\n",
       "  <thead>\n",
       "    <tr style=\"text-align: right;\">\n",
       "      <th></th>\n",
       "      <th>count</th>\n",
       "      <th>mean</th>\n",
       "      <th>std</th>\n",
       "      <th>min</th>\n",
       "      <th>25%</th>\n",
       "      <th>50%</th>\n",
       "      <th>75%</th>\n",
       "      <th>max</th>\n",
       "    </tr>\n",
       "  </thead>\n",
       "  <tbody>\n",
       "    <tr>\n",
       "      <th>id_Entry</th>\n",
       "      <td>355410.0</td>\n",
       "      <td>185389.500000</td>\n",
       "      <td>102598.173924</td>\n",
       "      <td>7685.0</td>\n",
       "      <td>96537.25</td>\n",
       "      <td>185389.5</td>\n",
       "      <td>274241.75</td>\n",
       "      <td>363094.0</td>\n",
       "    </tr>\n",
       "    <tr>\n",
       "      <th>number</th>\n",
       "      <td>355410.0</td>\n",
       "      <td>60.518182</td>\n",
       "      <td>33.767631</td>\n",
       "      <td>2.0</td>\n",
       "      <td>31.00</td>\n",
       "      <td>61.5</td>\n",
       "      <td>90.00</td>\n",
       "      <td>117.0</td>\n",
       "    </tr>\n",
       "    <tr>\n",
       "      <th>bike_stands</th>\n",
       "      <td>355410.0</td>\n",
       "      <td>32.181818</td>\n",
       "      <td>7.650539</td>\n",
       "      <td>16.0</td>\n",
       "      <td>29.00</td>\n",
       "      <td>30.0</td>\n",
       "      <td>40.00</td>\n",
       "      <td>40.0</td>\n",
       "    </tr>\n",
       "    <tr>\n",
       "      <th>available_bike_stands</th>\n",
       "      <td>355410.0</td>\n",
       "      <td>20.249658</td>\n",
       "      <td>10.792020</td>\n",
       "      <td>0.0</td>\n",
       "      <td>12.00</td>\n",
       "      <td>20.0</td>\n",
       "      <td>29.00</td>\n",
       "      <td>40.0</td>\n",
       "    </tr>\n",
       "    <tr>\n",
       "      <th>available_bikes</th>\n",
       "      <td>355410.0</td>\n",
       "      <td>11.842146</td>\n",
       "      <td>9.583294</td>\n",
       "      <td>0.0</td>\n",
       "      <td>4.00</td>\n",
       "      <td>10.0</td>\n",
       "      <td>18.00</td>\n",
       "      <td>40.0</td>\n",
       "    </tr>\n",
       "  </tbody>\n",
       "</table>\n",
       "</div>"
      ],
      "text/plain": [
       "                          count           mean            std     min  \\\n",
       "id_Entry               355410.0  185389.500000  102598.173924  7685.0   \n",
       "number                 355410.0      60.518182      33.767631     2.0   \n",
       "bike_stands            355410.0      32.181818       7.650539    16.0   \n",
       "available_bike_stands  355410.0      20.249658      10.792020     0.0   \n",
       "available_bikes        355410.0      11.842146       9.583294     0.0   \n",
       "\n",
       "                            25%       50%        75%       max  \n",
       "id_Entry               96537.25  185389.5  274241.75  363094.0  \n",
       "number                    31.00      61.5      90.00     117.0  \n",
       "bike_stands               29.00      30.0      40.00      40.0  \n",
       "available_bike_stands     12.00      20.0      29.00      40.0  \n",
       "available_bikes            4.00      10.0      18.00      40.0  "
      ]
     },
     "execution_count": 27,
     "metadata": {},
     "output_type": "execute_result"
    }
   ],
   "source": [
    "# Print table with continuous statistics and preserve in a csv\n",
    "dStat_continuous = bikeDynamic.select_dtypes(['int64']).describe().T\n",
    "dStat_continuous.to_csv(\"continuousFeatureDescription.csv\")\n",
    "dStat_continuous"
   ]
  },
  {
   "cell_type": "markdown",
   "metadata": {},
   "source": [
    "#### 1.2.3.3 Discriptive statistics for DateTime Data"
   ]
  },
  {
   "cell_type": "markdown",
   "metadata": {},
   "source": [
    "#### 1.2.3.4 Save final CSV from stage 1"
   ]
  },
  {
   "cell_type": "code",
   "execution_count": 28,
   "metadata": {},
   "outputs": [
    {
     "data": {
      "text/html": [
       "<div>\n",
       "<style scoped>\n",
       "    .dataframe tbody tr th:only-of-type {\n",
       "        vertical-align: middle;\n",
       "    }\n",
       "\n",
       "    .dataframe tbody tr th {\n",
       "        vertical-align: top;\n",
       "    }\n",
       "\n",
       "    .dataframe thead th {\n",
       "        text-align: right;\n",
       "    }\n",
       "</style>\n",
       "<table border=\"1\" class=\"dataframe\">\n",
       "  <thead>\n",
       "    <tr style=\"text-align: right;\">\n",
       "      <th></th>\n",
       "      <th>count</th>\n",
       "      <th>unique</th>\n",
       "      <th>top</th>\n",
       "      <th>freq</th>\n",
       "      <th>first</th>\n",
       "      <th>last</th>\n",
       "    </tr>\n",
       "  </thead>\n",
       "  <tbody>\n",
       "    <tr>\n",
       "      <th>last_update</th>\n",
       "      <td>355410</td>\n",
       "      <td>300353</td>\n",
       "      <td>2020-03-13 21:14:38</td>\n",
       "      <td>116</td>\n",
       "      <td>2020-02-28 22:57:37</td>\n",
       "      <td>2020-03-23 23:49:05</td>\n",
       "    </tr>\n",
       "    <tr>\n",
       "      <th>data_entry_timestamp</th>\n",
       "      <td>355410</td>\n",
       "      <td>3231</td>\n",
       "      <td>2020-03-19 03:40:02</td>\n",
       "      <td>110</td>\n",
       "      <td>2020-02-29 00:00:06</td>\n",
       "      <td>2020-03-23 23:50:02</td>\n",
       "    </tr>\n",
       "  </tbody>\n",
       "</table>\n",
       "</div>"
      ],
      "text/plain": [
       "                       count  unique                 top freq  \\\n",
       "last_update           355410  300353 2020-03-13 21:14:38  116   \n",
       "data_entry_timestamp  355410    3231 2020-03-19 03:40:02  110   \n",
       "\n",
       "                                   first                last  \n",
       "last_update          2020-02-28 22:57:37 2020-03-23 23:49:05  \n",
       "data_entry_timestamp 2020-02-29 00:00:06 2020-03-23 23:50:02  "
      ]
     },
     "execution_count": 28,
     "metadata": {},
     "output_type": "execute_result"
    }
   ],
   "source": [
    "# Print table with datetime statistics and preserve in a csv\n",
    "dStat_datetime = bikeDynamic.select_dtypes(['datetime64']).describe().T\n",
    "dStat_datetime.to_csv(\"datetimeFeatureDescription.csv\")\n",
    "dStat_datetime"
   ]
  },
  {
   "cell_type": "markdown",
   "metadata": {},
   "source": [
    "## 1.3 Graphs "
   ]
  },
  {
   "cell_type": "markdown",
   "metadata": {},
   "source": [
    "### 1.3.1 Save Histogram summary sheets for Continuous features into  pdf file"
   ]
  },
  {
   "cell_type": "code",
   "execution_count": 29,
   "metadata": {},
   "outputs": [
    {
     "data": {
      "image/png": "[encoded data removed]",
      "text/plain": [
       "<Figure size 2160x720 with 6 Axes>"
      ]
     },
     "metadata": {
      "needs_background": "light"
     },
     "output_type": "display_data"
    }
   ],
   "source": [
    "# Plot a histogram summary sheet of the continuous features and save in a pdf file\n",
    "columns = list(bikeDynamic.select_dtypes(['int64']).columns.values)\n",
    "bikeDynamic[columns].hist(layout=(2, 3), figsize=(30,10), bins=20)\n",
    "plt.savefig('continuous_histograms_1-1.pdf')"
   ]
  },
  {
   "cell_type": "markdown",
   "metadata": {},
   "source": [
    "### 1.3.2 Save Box plot summary sheets for Continuous features into pdf file"
   ]
  },
  {
   "cell_type": "code",
   "execution_count": 30,
   "metadata": {},
   "outputs": [
    {
     "data": {
      "image/png": "[encoded data removed]",
      "text/plain": [
       "<Figure size 2160x1440 with 6 Axes>"
      ]
     },
     "metadata": {
      "needs_background": "light"
     },
     "output_type": "display_data"
    }
   ],
   "source": [
    "# Plot a histogram summary sheet of the continuous features and save in a pdf file\n",
    "columns = list(bikeDynamic.select_dtypes(['int64']).columns.values)\n",
    "bikeDynamic[columns].plot(kind='box', subplots=True, figsize=(30,20), layout=(2,3), sharex=False, sharey=False)\n",
    "plt.savefig('continuous_box_1-1.pdf')"
   ]
  },
  {
   "cell_type": "markdown",
   "metadata": {},
   "source": [
    "### 1.3.5 Save Bar plot summary sheets for Catagorical features into pdf file"
   ]
  },
  {
   "cell_type": "code",
   "execution_count": 31,
   "metadata": {},
   "outputs": [
    {
     "data": {
      "image/png": "[encoded data removed]",
      "text/plain": [
       "<Figure size 576x576 with 1 Axes>"
      ]
     },
     "metadata": {
      "needs_background": "light"
     },
     "output_type": "display_data"
    }
   ],
   "source": [
    "# Plot bar plots for all the catagorical features and save them in a single PDF file\n",
    "columns = list(bikeDynamic.select_dtypes(['category']).columns.values)\n",
    "with PdfPages('categorical_bar_1-1.pdf') as pp:\n",
    "    for column in columns:\n",
    "        f = bikeDynamic[column].value_counts().plot(kind='bar', figsize=(8,8))\n",
    "        plt.title(column)\n",
    "        pp.savefig(f.get_figure())\n",
    "        plt.show()"
   ]
  },
  {
   "cell_type": "markdown",
   "metadata": {},
   "source": [
    "# 2. Data Quality Plan"
   ]
  },
  {
   "cell_type": "markdown",
   "metadata": {},
   "source": [
    "## 2.1 Data findings  "
   ]
  },
  {
   "cell_type": "markdown",
   "metadata": {},
   "source": [
    "### 2.1.1 Summary of list of issues found in Data Quality Report  "
   ]
  },
  {
   "cell_type": "markdown",
   "metadata": {},
   "source": [
    "- test_1 states that 18 entries have bad data regarding total number of bike stands at a station.\n"
   ]
  },
  {
   "cell_type": "markdown",
   "metadata": {},
   "source": [
    "### 2.1.2 Proposed solutions to rectify identified problems   "
   ]
  },
  {
   "cell_type": "markdown",
   "metadata": {},
   "source": [
    "- Replace feature bike_stands with value '255' which is greater than maximum value for feature [40] "
   ]
  },
  {
   "cell_type": "markdown",
   "metadata": {},
   "source": [
    "## 2.2 Apply solutions to address data quality issues"
   ]
  },
  {
   "cell_type": "markdown",
   "metadata": {},
   "source": [
    "### 2.2.1 DateTime Intake > DateTime Outcome"
   ]
  },
  {
   "cell_type": "code",
   "execution_count": 32,
   "metadata": {},
   "outputs": [
    {
     "name": "stdout",
     "output_type": "stream",
     "text": [
      "Number of rows failing the test:  18\n"
     ]
    },
    {
     "data": {
      "text/html": [
       "<div>\n",
       "<style scoped>\n",
       "    .dataframe tbody tr th:only-of-type {\n",
       "        vertical-align: middle;\n",
       "    }\n",
       "\n",
       "    .dataframe tbody tr th {\n",
       "        vertical-align: top;\n",
       "    }\n",
       "\n",
       "    .dataframe thead th {\n",
       "        text-align: right;\n",
       "    }\n",
       "</style>\n",
       "<table border=\"1\" class=\"dataframe\">\n",
       "  <thead>\n",
       "    <tr style=\"text-align: right;\">\n",
       "      <th></th>\n",
       "      <th>id_Entry</th>\n",
       "      <th>available_bike_stands</th>\n",
       "      <th>available_bikes</th>\n",
       "      <th>bike_stands</th>\n",
       "    </tr>\n",
       "  </thead>\n",
       "  <tbody>\n",
       "    <tr>\n",
       "      <th>63885</th>\n",
       "      <td>65630</td>\n",
       "      <td>17</td>\n",
       "      <td>0</td>\n",
       "      <td>16</td>\n",
       "    </tr>\n",
       "    <tr>\n",
       "      <th>248795</th>\n",
       "      <td>250540</td>\n",
       "      <td>16</td>\n",
       "      <td>1</td>\n",
       "      <td>16</td>\n",
       "    </tr>\n",
       "    <tr>\n",
       "      <th>248905</th>\n",
       "      <td>250650</td>\n",
       "      <td>16</td>\n",
       "      <td>1</td>\n",
       "      <td>16</td>\n",
       "    </tr>\n",
       "    <tr>\n",
       "      <th>249125</th>\n",
       "      <td>250870</td>\n",
       "      <td>16</td>\n",
       "      <td>1</td>\n",
       "      <td>16</td>\n",
       "    </tr>\n",
       "    <tr>\n",
       "      <th>249235</th>\n",
       "      <td>250980</td>\n",
       "      <td>16</td>\n",
       "      <td>1</td>\n",
       "      <td>16</td>\n",
       "    </tr>\n",
       "  </tbody>\n",
       "</table>\n",
       "</div>"
      ],
      "text/plain": [
       "        id_Entry  available_bike_stands  available_bikes  bike_stands\n",
       "63885      65630                     17                0           16\n",
       "248795    250540                     16                1           16\n",
       "248905    250650                     16                1           16\n",
       "249125    250870                     16                1           16\n",
       "249235    250980                     16                1           16"
      ]
     },
     "execution_count": 32,
     "metadata": {},
     "output_type": "execute_result"
    }
   ],
   "source": [
    "dTest = bikeDynamic[[\"id_Entry\",\"available_bike_stands\",\"available_bikes\",\"bike_stands\"]][bikeDynamic[\"available_bike_stands\"].add(bikeDynamic[\"available_bikes\"], axis=0)  >  bikeDynamic[\"bike_stands\"]]\n",
    "print(\"Number of rows failing the test: \", dTest.shape[0])\n",
    "dTest.head(5)"
   ]
  },
  {
   "cell_type": "markdown",
   "metadata": {},
   "source": [
    "**Replacing corresponding entries for feature \"bike_stands\":**"
   ]
  },
  {
   "cell_type": "code",
   "execution_count": 33,
   "metadata": {},
   "outputs": [],
   "source": [
    "dTest_1 = dTest[\"id_Entry\"]\n",
    "\n",
    "for data in dTest_1: \n",
    "    bikeDynamic.loc[(bikeDynamic.id_Entry == data),'bike_stands'] = bikeDynamic.loc[(bikeDynamic.id_Entry == data),'available_bikes'] + bikeDynamic.loc[(bikeDynamic.id_Entry == data),'available_bike_stands']"
   ]
  },
  {
   "cell_type": "code",
   "execution_count": 34,
   "metadata": {},
   "outputs": [
    {
     "name": "stdout",
     "output_type": "stream",
     "text": [
      "Number of rows failing the test:  0\n"
     ]
    },
    {
     "data": {
      "text/html": [
       "<div>\n",
       "<style scoped>\n",
       "    .dataframe tbody tr th:only-of-type {\n",
       "        vertical-align: middle;\n",
       "    }\n",
       "\n",
       "    .dataframe tbody tr th {\n",
       "        vertical-align: top;\n",
       "    }\n",
       "\n",
       "    .dataframe thead th {\n",
       "        text-align: right;\n",
       "    }\n",
       "</style>\n",
       "<table border=\"1\" class=\"dataframe\">\n",
       "  <thead>\n",
       "    <tr style=\"text-align: right;\">\n",
       "      <th></th>\n",
       "      <th>id_Entry</th>\n",
       "      <th>available_bike_stands</th>\n",
       "      <th>available_bikes</th>\n",
       "      <th>bike_stands</th>\n",
       "    </tr>\n",
       "  </thead>\n",
       "  <tbody>\n",
       "  </tbody>\n",
       "</table>\n",
       "</div>"
      ],
      "text/plain": [
       "Empty DataFrame\n",
       "Columns: [id_Entry, available_bike_stands, available_bikes, bike_stands]\n",
       "Index: []"
      ]
     },
     "execution_count": 34,
     "metadata": {},
     "output_type": "execute_result"
    }
   ],
   "source": [
    "dTest = bikeDynamic[[\"id_Entry\",\"available_bike_stands\",\"available_bikes\",\"bike_stands\"]][bikeDynamic[\"available_bike_stands\"].add(bikeDynamic[\"available_bikes\"], axis=0)  >  bikeDynamic[\"bike_stands\"]]\n",
    "print(\"Number of rows failing the test: \", dTest.shape[0])\n",
    "dTest.head(5)"
   ]
  },
  {
   "cell_type": "markdown",
   "metadata": {},
   "source": [
    "## 2.3 Summary of data quality plan"
   ]
  },
  {
   "cell_type": "markdown",
   "metadata": {},
   "source": [
    "\n",
    "\n",
    "| Feature                  | Data Quality issue | Solution Strategy    |\n",
    "|:-------------------------|:------------------ |:---------- | \n",
    "| id_Entry                 | [Primary key]      | Do nothing    |\n",
    "| number                   | Nothing            | Do nothing    |\n",
    "| status                   | Nothing            | Do nothing    |\n",
    "| bike_stands              | Value inconsistancy for 18 entires | increment by 1|\n",
    "| available_bike_stands    | Nothing            | Do nothing    |\n",
    "| available_bikes          | Nothing            | Do nothing    |\n",
    "| last_update              | Nothing            | Do nothing    |\n",
    "| data_entry_timestamp     | Nothing            | Do nothing    |\n"
   ]
  },
  {
   "cell_type": "markdown",
   "metadata": {},
   "source": [
    "## 2.4 Save cleaned data to new CSV "
   ]
  },
  {
   "cell_type": "code",
   "execution_count": 35,
   "metadata": {},
   "outputs": [],
   "source": [
    "bikeDynamic.to_csv('dBikeD_2.4_cleaned.csv', index=False, index_label = True)"
   ]
  },
  {
   "cell_type": "markdown",
   "metadata": {},
   "source": [
    "# 3. Feature Exploration"
   ]
  },
  {
   "cell_type": "markdown",
   "metadata": {},
   "source": [
    "## 3.1 Time series view "
   ]
  },
  {
   "cell_type": "code",
   "execution_count": 36,
   "metadata": {
    "scrolled": true
   },
   "outputs": [],
   "source": [
    "# bikeDynamicTS = bikeDynamic\n",
    "# bikeDynamicTS['date_last_update'] = [d.date() for d in bikeDynamicTS['last_update']]\n",
    "# bikeDynamicTS['time_last_update'] = [d.time() for d in bikeDynamicTS['last_update']]\n",
    "# bikeDynamicTS['day_of_week'] = bikeDynamicTS['last_update'].dt.day_name()\n",
    "# bikeDynamicTS['dayNumber'] = bikeDynamicTS['last_update'].dt.dayofweek\n",
    "# bikeDynamicTS.head()"
   ]
  },
  {
   "cell_type": "code",
   "execution_count": 37,
   "metadata": {
    "scrolled": true
   },
   "outputs": [
    {
     "data": {
      "text/html": [
       "<div>\n",
       "<style scoped>\n",
       "    .dataframe tbody tr th:only-of-type {\n",
       "        vertical-align: middle;\n",
       "    }\n",
       "\n",
       "    .dataframe tbody tr th {\n",
       "        vertical-align: top;\n",
       "    }\n",
       "\n",
       "    .dataframe thead th {\n",
       "        text-align: right;\n",
       "    }\n",
       "</style>\n",
       "<table border=\"1\" class=\"dataframe\">\n",
       "  <thead>\n",
       "    <tr style=\"text-align: right;\">\n",
       "      <th></th>\n",
       "      <th>id_Entry</th>\n",
       "      <th>number</th>\n",
       "      <th>status</th>\n",
       "      <th>bike_stands</th>\n",
       "      <th>available_bike_stands</th>\n",
       "      <th>available_bikes</th>\n",
       "      <th>last_update</th>\n",
       "      <th>data_entry_timestamp</th>\n",
       "      <th>date_last_update</th>\n",
       "      <th>time_last_update</th>\n",
       "      <th>day_of_week</th>\n",
       "      <th>dayNumber</th>\n",
       "    </tr>\n",
       "  </thead>\n",
       "  <tbody>\n",
       "    <tr>\n",
       "      <th>5940</th>\n",
       "      <td>7685</td>\n",
       "      <td>42</td>\n",
       "      <td>OPEN</td>\n",
       "      <td>30</td>\n",
       "      <td>10</td>\n",
       "      <td>20</td>\n",
       "      <td>2020-02-28 23:52:29</td>\n",
       "      <td>2020-02-29 00:00:06</td>\n",
       "      <td>2020-02-29</td>\n",
       "      <td>00:00:06</td>\n",
       "      <td>Friday</td>\n",
       "      <td>4</td>\n",
       "    </tr>\n",
       "    <tr>\n",
       "      <th>5941</th>\n",
       "      <td>7686</td>\n",
       "      <td>30</td>\n",
       "      <td>OPEN</td>\n",
       "      <td>20</td>\n",
       "      <td>20</td>\n",
       "      <td>0</td>\n",
       "      <td>2020-02-28 23:53:40</td>\n",
       "      <td>2020-02-29 00:00:06</td>\n",
       "      <td>2020-02-29</td>\n",
       "      <td>00:00:06</td>\n",
       "      <td>Friday</td>\n",
       "      <td>4</td>\n",
       "    </tr>\n",
       "    <tr>\n",
       "      <th>5942</th>\n",
       "      <td>7687</td>\n",
       "      <td>54</td>\n",
       "      <td>OPEN</td>\n",
       "      <td>33</td>\n",
       "      <td>29</td>\n",
       "      <td>4</td>\n",
       "      <td>2020-02-28 23:54:52</td>\n",
       "      <td>2020-02-29 00:00:06</td>\n",
       "      <td>2020-02-29</td>\n",
       "      <td>00:00:06</td>\n",
       "      <td>Friday</td>\n",
       "      <td>4</td>\n",
       "    </tr>\n",
       "    <tr>\n",
       "      <th>5943</th>\n",
       "      <td>7688</td>\n",
       "      <td>108</td>\n",
       "      <td>OPEN</td>\n",
       "      <td>40</td>\n",
       "      <td>31</td>\n",
       "      <td>9</td>\n",
       "      <td>2020-02-28 22:57:37</td>\n",
       "      <td>2020-02-29 00:00:06</td>\n",
       "      <td>2020-02-29</td>\n",
       "      <td>00:00:06</td>\n",
       "      <td>Friday</td>\n",
       "      <td>4</td>\n",
       "    </tr>\n",
       "    <tr>\n",
       "      <th>5944</th>\n",
       "      <td>7689</td>\n",
       "      <td>56</td>\n",
       "      <td>OPEN</td>\n",
       "      <td>40</td>\n",
       "      <td>37</td>\n",
       "      <td>3</td>\n",
       "      <td>2020-02-28 23:50:26</td>\n",
       "      <td>2020-02-29 00:00:06</td>\n",
       "      <td>2020-02-29</td>\n",
       "      <td>00:00:06</td>\n",
       "      <td>Friday</td>\n",
       "      <td>4</td>\n",
       "    </tr>\n",
       "  </tbody>\n",
       "</table>\n",
       "</div>"
      ],
      "text/plain": [
       "      id_Entry  number status  bike_stands  available_bike_stands  \\\n",
       "5940      7685      42   OPEN           30                     10   \n",
       "5941      7686      30   OPEN           20                     20   \n",
       "5942      7687      54   OPEN           33                     29   \n",
       "5943      7688     108   OPEN           40                     31   \n",
       "5944      7689      56   OPEN           40                     37   \n",
       "\n",
       "      available_bikes         last_update data_entry_timestamp  \\\n",
       "5940               20 2020-02-28 23:52:29  2020-02-29 00:00:06   \n",
       "5941                0 2020-02-28 23:53:40  2020-02-29 00:00:06   \n",
       "5942                4 2020-02-28 23:54:52  2020-02-29 00:00:06   \n",
       "5943                9 2020-02-28 22:57:37  2020-02-29 00:00:06   \n",
       "5944                3 2020-02-28 23:50:26  2020-02-29 00:00:06   \n",
       "\n",
       "     date_last_update time_last_update day_of_week  dayNumber  \n",
       "5940       2020-02-29         00:00:06      Friday          4  \n",
       "5941       2020-02-29         00:00:06      Friday          4  \n",
       "5942       2020-02-29         00:00:06      Friday          4  \n",
       "5943       2020-02-29         00:00:06      Friday          4  \n",
       "5944       2020-02-29         00:00:06      Friday          4  "
      ]
     },
     "execution_count": 37,
     "metadata": {},
     "output_type": "execute_result"
    }
   ],
   "source": [
    "bikeDynamicTS = bikeDynamic\n",
    "bikeDynamicTS['date_last_update'] = [d.date() for d in bikeDynamicTS['data_entry_timestamp']]\n",
    "bikeDynamicTS['time_last_update'] = [d.time() for d in bikeDynamicTS['data_entry_timestamp']]\n",
    "bikeDynamicTS['day_of_week'] = bikeDynamicTS['last_update'].dt.day_name()\n",
    "bikeDynamicTS['dayNumber'] = bikeDynamicTS['last_update'].dt.dayofweek\n",
    "bikeDynamicTS.head()"
   ]
  },
  {
   "cell_type": "code",
   "execution_count": 38,
   "metadata": {},
   "outputs": [],
   "source": [
    "# bikeDynamic.to_csv('dBikeD_3.1_cleaned.csv', index=False, index_label = True)"
   ]
  },
  {
   "cell_type": "code",
   "execution_count": 39,
   "metadata": {},
   "outputs": [],
   "source": [
    "bikeDynamic.to_csv('dBikeD_3.1_1_cleaned.csv', index=False, index_label = True)"
   ]
  },
  {
   "cell_type": "code",
   "execution_count": 40,
   "metadata": {},
   "outputs": [
    {
     "name": "stdout",
     "output_type": "stream",
     "text": [
      "[datetime.date(2020, 2, 29) datetime.date(2020, 3, 1)\n",
      " datetime.date(2020, 3, 2) datetime.date(2020, 3, 3)\n",
      " datetime.date(2020, 3, 4) datetime.date(2020, 3, 5)\n",
      " datetime.date(2020, 3, 6) datetime.date(2020, 3, 7)\n",
      " datetime.date(2020, 3, 8) datetime.date(2020, 3, 9)\n",
      " datetime.date(2020, 3, 10) datetime.date(2020, 3, 11)\n",
      " datetime.date(2020, 3, 12) datetime.date(2020, 3, 13)\n",
      " datetime.date(2020, 3, 14) datetime.date(2020, 3, 15)\n",
      " datetime.date(2020, 3, 16) datetime.date(2020, 3, 17)\n",
      " datetime.date(2020, 3, 18) datetime.date(2020, 3, 19)\n",
      " datetime.date(2020, 3, 20) datetime.date(2020, 3, 21)\n",
      " datetime.date(2020, 3, 22) datetime.date(2020, 3, 23)]\n"
     ]
    }
   ],
   "source": [
    "dates = bikeDynamicTS['date_last_update'].unique()\n",
    "print(dates)\n",
    "# time = []\n",
    "# available_bike_stands = []\n",
    "\n",
    "# for date in dates:\n",
    "#     tempTime = bikeDynamicTS.loc[(bikeDynamicTS.date_last_update == date)]['time_last_update'].values.tolist()\n",
    "#     tempStands = bikeDynamicTS.loc[(bikeDynamicTS.date_last_update == date)]['available_bike_stands'].values.tolist() \n",
    "#     time.append(tempTime)\n",
    "#     available_bike_stands.append(tempStands)"
   ]
  },
  {
   "cell_type": "code",
   "execution_count": 41,
   "metadata": {},
   "outputs": [],
   "source": [
    "stationNumbers = bikeDynamicTS['number'].unique()\n",
    "timeT = []\n",
    "dateD = []\n",
    "available_bike_stands = []\n",
    "\n",
    "for station in stationNumbers:\n",
    "    tempTime = bikeDynamicTS.loc[(bikeDynamicTS.number == station)]['time_last_update'].values.tolist()\n",
    "    tempDate = bikeDynamicTS.loc[(bikeDynamicTS.number == station)]['date_last_update'].values.tolist()\n",
    "    tempStands = bikeDynamicTS.loc[(bikeDynamicTS.number == station)]['available_bike_stands'].values.tolist() \n",
    "    timeT.append(tempTime)\n",
    "    dateD.append(tempDate)\n",
    "    available_bike_stands.append(tempStands)"
   ]
  },
  {
   "cell_type": "markdown",
   "metadata": {},
   "source": [
    "### Bikestand availability for a day"
   ]
  },
  {
   "cell_type": "code",
   "execution_count": 42,
   "metadata": {},
   "outputs": [],
   "source": [
    "# t,s = time[0],available_bike_stands[0]\n",
    "\n",
    "# # split_time = len(t)*0.7\n",
    "# split_time = 10\n",
    "# time_train = t[:split_time]\n",
    "# x_train = s[:split_time]\n",
    "# time_valid = t[split_time:]\n",
    "# x_valid = s[split_time:]\n",
    "\n",
    "# plt.plot(x_train)\n",
    "# plt.xticks(range(len(time_train)), time_train)\n",
    "# plt.xlabel('Available stands')\n",
    "# plt.ylabel('Time')\n",
    "# plt.show()"
   ]
  },
  {
   "cell_type": "code",
   "execution_count": 43,
   "metadata": {},
   "outputs": [],
   "source": [
    "# time = [item for sublist in time for item in tempTime]\n",
    "# available_bike_stands = [item for sublist in available_bike_stands for item in sublist]"
   ]
  },
  {
   "cell_type": "code",
   "execution_count": 44,
   "metadata": {},
   "outputs": [],
   "source": [
    "# # split_time = 10\n",
    "# split_time = len(time)*0.7\n",
    "# time_train = time[:split_time]\n",
    "# x_train = available_bike_stands[:split_time]\n",
    "# time_valid = time[split_time:]\n",
    "# x_valid = available_bike_stands[split_time:]\n",
    "\n",
    "# plt.plot(x_train)\n",
    "# plt.xticks(range(len(time_train)), time_train)\n",
    "# plt.xlabel('Available stands')\n",
    "# plt.ylabel('Time')\n",
    "# plt.show()"
   ]
  },
  {
   "cell_type": "code",
   "execution_count": 45,
   "metadata": {},
   "outputs": [
    {
     "data": {
      "image/png": "[encoded data removed]",
      "text/plain": [
       "<Figure size 432x288 with 1 Axes>"
      ]
     },
     "metadata": {
      "needs_background": "light"
     },
     "output_type": "display_data"
    }
   ],
   "source": [
    "time,date,series = timeT[0],dateD[0],available_bike_stands[0]\n",
    "\n",
    "tLen = len(time)\n",
    "split_time = tLen - int(tLen*0.3) \n",
    "time_train = time[:split_time]\n",
    "x_train = series[:split_time]\n",
    "time_valid = time[split_time:]\n",
    "x_valid = series[split_time:]\n",
    "\n",
    "plt.plot(x_train)\n",
    "# plt.xticks(range(len(time_train)), time_train)\n",
    "plt.xlabel('Time')\n",
    "plt.ylabel('Available stands')\n",
    "plt.show()\n",
    "\n",
    "window_size = 30\n",
    "batch_size = 32\n",
    "shuffle_buffer_size = 1000"
   ]
  },
  {
   "cell_type": "code",
   "execution_count": 46,
   "metadata": {},
   "outputs": [],
   "source": [
    "def windowed_dataset(series, window_size, batch_size, shuffle_buffer):\n",
    "    series = tf.expand_dims(series, axis=-1)\n",
    "    ds = tf.data.Dataset.from_tensor_slices(series)\n",
    "    ds = ds.window(window_size + 1, shift=1, drop_remainder=True)\n",
    "    ds = ds.flat_map(lambda w: w.batch(window_size + 1))\n",
    "    ds = ds.shuffle(shuffle_buffer)\n",
    "    ds = ds.map(lambda w: (w[:-1], w[1:]))\n",
    "    return ds.batch(batch_size).prefetch(1)"
   ]
  },
  {
   "cell_type": "code",
   "execution_count": 47,
   "metadata": {},
   "outputs": [],
   "source": [
    "def model_forecast(model, series, window_size):\n",
    "    ds = tf.data.Dataset.from_tensor_slices(series)\n",
    "    ds = ds.window(window_size, shift=1, drop_remainder=True)\n",
    "    ds = ds.flat_map(lambda w: w.batch(window_size))\n",
    "    ds = ds.batch(32).prefetch(1)\n",
    "    forecast = model.predict(ds)\n",
    "    return forecast"
   ]
  },
  {
   "cell_type": "code",
   "execution_count": 49,
   "metadata": {},
   "outputs": [
    {
     "name": "stdout",
     "output_type": "stream",
     "text": [
      "<PrefetchDataset shapes: ((None, None, 1), (None, None, 1)), types: (tf.int32, tf.int32)>\n",
      "Epoch 1/100\n",
      "9/9 [==============================] - 3s 348ms/step - loss: 22.9442 - mae: 23.3362\n",
      "Epoch 2/100\n",
      "9/9 [==============================] - 1s 145ms/step - loss: 22.6389 - mae: 23.1005\n",
      "Epoch 3/100\n",
      "9/9 [==============================] - 1s 143ms/step - loss: 22.2967 - mae: 22.7342\n",
      "Epoch 4/100\n",
      "9/9 [==============================] - 1s 144ms/step - loss: 21.8260 - mae: 22.2961\n",
      "Epoch 5/100\n",
      "9/9 [==============================] - 1s 149ms/step - loss: 21.4155 - mae: 21.7956\n",
      "Epoch 6/100\n",
      "9/9 [==============================] - 1s 146ms/step - loss: 20.8182 - mae: 21.2412\n",
      "Epoch 7/100\n",
      "9/9 [==============================] - 1s 145ms/step - loss: 20.2570 - mae: 20.6330\n",
      "Epoch 8/100\n",
      "9/9 [==============================] - 1s 147ms/step - loss: 19.4966 - mae: 19.9556\n",
      "Epoch 9/100\n",
      "9/9 [==============================] - 1s 147ms/step - loss: 18.7200 - mae: 19.2062\n",
      "Epoch 10/100\n",
      "9/9 [==============================] - 1s 147ms/step - loss: 17.9477 - mae: 18.3847\n",
      "Epoch 11/100\n",
      "9/9 [==============================] - 1s 146ms/step - loss: 16.9963 - mae: 17.4713\n",
      "Epoch 12/100\n",
      "9/9 [==============================] - 1s 146ms/step - loss: 15.9623 - mae: 16.4504\n",
      "Epoch 13/100\n",
      "9/9 [==============================] - 1s 151ms/step - loss: 14.8448 - mae: 15.3314\n",
      "Epoch 14/100\n",
      "9/9 [==============================] - 1s 144ms/step - loss: 13.6148 - mae: 14.1159\n",
      "Epoch 15/100\n",
      "9/9 [==============================] - 1s 144ms/step - loss: 12.3162 - mae: 12.8015\n",
      "Epoch 16/100\n",
      "9/9 [==============================] - 1s 147ms/step - loss: 10.9476 - mae: 11.4672\n",
      "Epoch 17/100\n",
      "9/9 [==============================] - 1s 157ms/step - loss: 9.6596 - mae: 10.1581\n",
      "Epoch 18/100\n",
      "9/9 [==============================] - 1s 161ms/step - loss: 8.4909 - mae: 8.9795\n",
      "Epoch 19/100\n",
      "9/9 [==============================] - 2s 169ms/step - loss: 7.6225 - mae: 8.0900\n",
      "Epoch 20/100\n",
      "9/9 [==============================] - 1s 163ms/step - loss: 7.0874 - mae: 7.5764\n",
      "Epoch 21/100\n",
      "9/9 [==============================] - 1s 162ms/step - loss: 6.7714 - mae: 7.2788\n",
      "Epoch 22/100\n",
      "9/9 [==============================] - 1s 160ms/step - loss: 6.5049 - mae: 6.9782\n",
      "Epoch 23/100\n",
      "9/9 [==============================] - 1s 160ms/step - loss: 6.1474 - mae: 6.6325\n",
      "Epoch 24/100\n",
      "9/9 [==============================] - 1s 165ms/step - loss: 5.8062 - mae: 6.2908\n",
      "Epoch 25/100\n",
      "9/9 [==============================] - 1s 160ms/step - loss: 5.4795 - mae: 5.9645\n",
      "Epoch 26/100\n",
      "9/9 [==============================] - 1s 162ms/step - loss: 5.2042 - mae: 5.6615\n",
      "Epoch 27/100\n",
      "9/9 [==============================] - 1s 160ms/step - loss: 4.9362 - mae: 5.3996\n",
      "Epoch 28/100\n",
      "9/9 [==============================] - 1s 162ms/step - loss: 4.6951 - mae: 5.1702\n",
      "Epoch 29/100\n",
      "9/9 [==============================] - 1s 162ms/step - loss: 4.4602 - mae: 4.9364\n",
      "Epoch 30/100\n",
      "9/9 [==============================] - 1s 160ms/step - loss: 4.1933 - mae: 4.6656\n",
      "Epoch 31/100\n",
      "9/9 [==============================] - 1s 165ms/step - loss: 3.7718 - mae: 4.2426\n",
      "Epoch 32/100\n",
      "9/9 [==============================] - 1s 156ms/step - loss: 3.5221 - mae: 3.9981\n",
      "Epoch 33/100\n",
      "9/9 [==============================] - 1s 160ms/step - loss: 3.2885 - mae: 3.7540\n",
      "Epoch 34/100\n",
      "9/9 [==============================] - 1s 161ms/step - loss: 3.1121 - mae: 3.5657\n",
      "Epoch 35/100\n",
      "9/9 [==============================] - 1s 165ms/step - loss: 2.9751 - mae: 3.4196\n",
      "Epoch 36/100\n",
      "9/9 [==============================] - 1s 160ms/step - loss: 2.8561 - mae: 3.3087\n",
      "Epoch 37/100\n",
      "9/9 [==============================] - 1s 158ms/step - loss: 2.7814 - mae: 3.2270\n",
      "Epoch 38/100\n",
      "9/9 [==============================] - 1s 163ms/step - loss: 2.6970 - mae: 3.1492\n",
      "Epoch 39/100\n",
      "9/9 [==============================] - 1s 161ms/step - loss: 2.6284 - mae: 3.0787\n",
      "Epoch 40/100\n",
      "9/9 [==============================] - 1s 162ms/step - loss: 2.5525 - mae: 3.0072\n",
      "Epoch 41/100\n",
      "9/9 [==============================] - 1s 161ms/step - loss: 2.4989 - mae: 2.9451\n",
      "Epoch 42/100\n",
      "9/9 [==============================] - 1s 162ms/step - loss: 2.4370 - mae: 2.8845\n",
      "Epoch 43/100\n",
      "9/9 [==============================] - 1s 160ms/step - loss: 2.3815 - mae: 2.8238\n",
      "Epoch 44/100\n",
      "9/9 [==============================] - 1s 161ms/step - loss: 2.3114 - mae: 2.7553\n",
      "Epoch 45/100\n",
      "9/9 [==============================] - 1s 160ms/step - loss: 2.2509 - mae: 2.6961\n",
      "Epoch 46/100\n",
      "9/9 [==============================] - 1s 162ms/step - loss: 2.2029 - mae: 2.6472\n",
      "Epoch 47/100\n",
      "9/9 [==============================] - 1s 163ms/step - loss: 2.1649 - mae: 2.6087\n",
      "Epoch 48/100\n",
      "9/9 [==============================] - 1s 158ms/step - loss: 2.0846 - mae: 2.5282\n",
      "Epoch 49/100\n",
      "9/9 [==============================] - 1s 164ms/step - loss: 2.0366 - mae: 2.4756\n",
      "Epoch 50/100\n",
      "9/9 [==============================] - 1s 163ms/step - loss: 1.9825 - mae: 2.4200\n",
      "Epoch 51/100\n",
      "9/9 [==============================] - 1s 159ms/step - loss: 1.9395 - mae: 2.3739\n",
      "Epoch 52/100\n",
      "9/9 [==============================] - 1s 162ms/step - loss: 1.8867 - mae: 2.3203\n",
      "Epoch 53/100\n",
      "9/9 [==============================] - 1s 165ms/step - loss: 1.8755 - mae: 2.3105\n",
      "Epoch 54/100\n",
      "9/9 [==============================] - 1s 159ms/step - loss: 1.8883 - mae: 2.3307\n",
      "Epoch 55/100\n",
      "9/9 [==============================] - 1s 155ms/step - loss: 1.9503 - mae: 2.3849\n",
      "Epoch 56/100\n",
      "9/9 [==============================] - 1s 162ms/step - loss: 1.8933 - mae: 2.3474\n",
      "Epoch 57/100\n",
      "9/9 [==============================] - 1s 159ms/step - loss: 1.8964 - mae: 2.3481\n",
      "Epoch 58/100\n",
      "9/9 [==============================] - 1s 162ms/step - loss: 1.6115 - mae: 2.0380\n",
      "Epoch 59/100\n",
      "9/9 [==============================] - 1s 161ms/step - loss: 1.7867 - mae: 2.2310\n",
      "Epoch 60/100\n",
      "9/9 [==============================] - 1s 160ms/step - loss: 1.7623 - mae: 2.2136\n",
      "Epoch 61/100\n",
      "9/9 [==============================] - 1s 156ms/step - loss: 2.0368 - mae: 2.4884\n",
      "Epoch 62/100\n",
      "9/9 [==============================] - 1s 163ms/step - loss: 2.3505 - mae: 2.7623\n",
      "Epoch 63/100\n",
      "9/9 [==============================] - 1s 164ms/step - loss: 2.3488 - mae: 2.8146\n",
      "Epoch 64/100\n",
      "9/9 [==============================] - 1s 165ms/step - loss: 3.0729 - mae: 3.4452\n",
      "Epoch 65/100\n",
      "9/9 [==============================] - 1s 160ms/step - loss: 2.4200 - mae: 2.8440\n",
      "Epoch 66/100\n",
      "9/9 [==============================] - 1s 159ms/step - loss: 2.4242 - mae: 2.9054\n",
      "Epoch 67/100\n",
      "9/9 [==============================] - 1s 162ms/step - loss: 2.8723 - mae: 3.3497\n",
      "Epoch 68/100\n",
      "9/9 [==============================] - 1s 154ms/step - loss: 2.5283 - mae: 2.9872\n",
      "Epoch 69/100\n",
      "9/9 [==============================] - 1s 159ms/step - loss: 2.6475 - mae: 3.1710\n",
      "Epoch 70/100\n",
      "9/9 [==============================] - 1s 158ms/step - loss: 2.7651 - mae: 3.2722\n",
      "Epoch 71/100\n",
      "9/9 [==============================] - 1s 163ms/step - loss: 3.8685 - mae: 3.9882\n",
      "Epoch 72/100\n",
      "9/9 [==============================] - 1s 160ms/step - loss: 6.8572 - mae: 7.4578\n",
      "Epoch 73/100\n",
      "9/9 [==============================] - 1s 154ms/step - loss: 4.0219 - mae: 4.5441\n",
      "Epoch 74/100\n",
      "9/9 [==============================] - 1s 162ms/step - loss: 2.4262 - mae: 2.8962\n",
      "Epoch 75/100\n",
      "9/9 [==============================] - 1s 159ms/step - loss: 2.6665 - mae: 3.0406\n",
      "Epoch 76/100\n",
      "9/9 [==============================] - 1s 152ms/step - loss: 3.0034 - mae: 3.4240\n",
      "Epoch 77/100\n",
      "9/9 [==============================] - 1s 158ms/step - loss: 2.2862 - mae: 2.7785\n",
      "Epoch 78/100\n",
      "9/9 [==============================] - 1s 163ms/step - loss: 3.8182 - mae: 4.3353\n",
      "Epoch 79/100\n",
      "9/9 [==============================] - 1s 158ms/step - loss: 3.4461 - mae: 3.9488\n",
      "Epoch 80/100\n",
      "9/9 [==============================] - 1s 158ms/step - loss: 5.2563 - mae: 5.5483\n",
      "Epoch 81/100\n",
      "9/9 [==============================] - 1s 152ms/step - loss: 7.7456 - mae: 8.4004\n",
      "Epoch 82/100\n",
      "9/9 [==============================] - 1s 162ms/step - loss: 12.3676 - mae: 12.9600\n",
      "Epoch 83/100\n",
      "9/9 [==============================] - 1s 160ms/step - loss: 12.3366 - mae: 12.6693\n",
      "Epoch 84/100\n",
      "9/9 [==============================] - 1s 156ms/step - loss: 22.5023 - mae: 22.7292\n",
      "Epoch 85/100\n",
      "9/9 [==============================] - 1s 160ms/step - loss: 23.6870 - mae: 24.3424\n"
     ]
    },
    {
     "name": "stdout",
     "output_type": "stream",
     "text": [
      "Epoch 86/100\n",
      "9/9 [==============================] - 1s 160ms/step - loss: 9.0324 - mae: 9.3137\n",
      "Epoch 87/100\n",
      "9/9 [==============================] - 1s 159ms/step - loss: 9.4315 - mae: 10.0681\n",
      "Epoch 88/100\n",
      "9/9 [==============================] - 1s 158ms/step - loss: 8.8456 - mae: 9.4060\n",
      "Epoch 89/100\n",
      "9/9 [==============================] - 1s 159ms/step - loss: 9.3465 - mae: 9.6465\n",
      "Epoch 90/100\n",
      "9/9 [==============================] - 1s 162ms/step - loss: 11.0656 - mae: 11.2442\n",
      "Epoch 91/100\n",
      "9/9 [==============================] - 1s 160ms/step - loss: 12.7196 - mae: 13.3068\n",
      "Epoch 92/100\n",
      "9/9 [==============================] - 1s 163ms/step - loss: 26.2926 - mae: 25.5619\n",
      "Epoch 93/100\n",
      "9/9 [==============================] - 1s 165ms/step - loss: 76.0875 - mae: 75.2461\n",
      "Epoch 94/100\n",
      "9/9 [==============================] - 1s 154ms/step - loss: 116.7786 - mae: 114.5641\n",
      "Epoch 95/100\n",
      "9/9 [==============================] - 1s 161ms/step - loss: 129.4381 - mae: 127.7675\n",
      "Epoch 96/100\n",
      "9/9 [==============================] - 1s 163ms/step - loss: 121.5599 - mae: 124.6701\n",
      "Epoch 97/100\n",
      "9/9 [==============================] - 1s 160ms/step - loss: 161.2341 - mae: 165.2343\n",
      "Epoch 98/100\n",
      "9/9 [==============================] - 1s 159ms/step - loss: 75.9564 - mae: 79.0347\n",
      "Epoch 99/100\n",
      "9/9 [==============================] - 1s 158ms/step - loss: 94.2388 - mae: 97.2517\n",
      "Epoch 100/100\n",
      "9/9 [==============================] - 1s 162ms/step - loss: 75.7177 - mae: 78.1247\n"
     ]
    }
   ],
   "source": [
    "tf.keras.backend.clear_session()\n",
    "tf.random.set_seed(51)\n",
    "np.random.seed(51)\n",
    "window_size = 64\n",
    "batch_size = 256\n",
    "train_set = windowed_dataset(x_train, window_size, batch_size, shuffle_buffer_size)\n",
    "print(train_set)\n",
    "# print(x_train.shape)\n",
    "\n",
    "model = tf.keras.models.Sequential([\n",
    "  tf.keras.layers.Conv1D(filters=32, kernel_size=5,\n",
    "                      strides=1, padding=\"causal\",\n",
    "                      activation=\"relu\",\n",
    "                      input_shape=[None, 1]),\n",
    "  tf.keras.layers.LSTM(64, return_sequences=True),\n",
    "  tf.keras.layers.LSTM(64, return_sequences=True),\n",
    "  tf.keras.layers.Dense(30, activation=\"relu\"),\n",
    "  tf.keras.layers.Dense(10, activation=\"relu\"),\n",
    "  tf.keras.layers.Dense(1),\n",
    "  tf.keras.layers.Lambda(lambda x: x * 400)\n",
    "])\n",
    "\n",
    "lr_schedule = tf.keras.callbacks.LearningRateScheduler(\n",
    "    lambda epoch: 1e-8 * 10**(epoch / 20))\n",
    "optimizer = tf.keras.optimizers.SGD(lr=1e-8, momentum=0.9)\n",
    "model.compile(loss=tf.keras.losses.Huber(),\n",
    "              optimizer=optimizer,\n",
    "              metrics=[\"mae\"])\n",
    "history = model.fit(train_set, epochs=100, callbacks=[lr_schedule])"
   ]
  },
  {
   "cell_type": "code",
   "execution_count": 50,
   "metadata": {},
   "outputs": [
    {
     "data": {
      "text/plain": [
       "[1e-08, 0.0001, 0, 60]"
      ]
     },
     "execution_count": 50,
     "metadata": {},
     "output_type": "execute_result"
    },
    {
     "data": {
      "image/png": "[encoded data removed]",
      "text/plain": [
       "<Figure size 432x288 with 1 Axes>"
      ]
     },
     "metadata": {
      "needs_background": "light"
     },
     "output_type": "display_data"
    }
   ],
   "source": [
    "plt.semilogx(history.history[\"lr\"], history.history[\"loss\"])\n",
    "plt.axis([1e-8, 1e-4, 0, 60])"
   ]
  },
  {
   "cell_type": "code",
   "execution_count": 51,
   "metadata": {},
   "outputs": [
    {
     "name": "stdout",
     "output_type": "stream",
     "text": [
      "Epoch 1/500\n",
      "23/23 [==============================] - 3s 135ms/step - loss: 8.6187 - mae: 9.3265\n",
      "Epoch 2/500\n",
      "23/23 [==============================] - 1s 64ms/step - loss: 2.8994 - mae: 3.4030: 0s - loss: 3.1710 - mae: \n",
      "Epoch 3/500\n",
      "23/23 [==============================] - 2s 68ms/step - loss: 1.8980 - mae: 2.3657\n",
      "Epoch 4/500\n",
      "23/23 [==============================] - 2s 67ms/step - loss: 1.4287 - mae: 1.8365\n",
      "Epoch 5/500\n",
      "23/23 [==============================] - 2s 67ms/step - loss: 1.4018 - mae: 1.8338\n",
      "Epoch 6/500\n",
      "23/23 [==============================] - 2s 69ms/step - loss: 1.2165 - mae: 1.6266\n",
      "Epoch 7/500\n",
      "23/23 [==============================] - 2s 66ms/step - loss: 1.1749 - mae: 1.5772\n",
      "Epoch 8/500\n",
      "23/23 [==============================] - 2s 69ms/step - loss: 1.2789 - mae: 1.7126\n",
      "Epoch 9/500\n",
      "23/23 [==============================] - 2s 71ms/step - loss: 1.1684 - mae: 1.5877\n",
      "Epoch 10/500\n",
      "23/23 [==============================] - 2s 67ms/step - loss: 1.0179 - mae: 1.4122\n",
      "Epoch 11/500\n",
      "23/23 [==============================] - 2s 68ms/step - loss: 1.0124 - mae: 1.4058\n",
      "Epoch 12/500\n",
      "23/23 [==============================] - 2s 69ms/step - loss: 1.0162 - mae: 1.4113: 0s - loss: 1.0566 - ma\n",
      "Epoch 13/500\n",
      "23/23 [==============================] - 2s 70ms/step - loss: 0.9847 - mae: 1.3905\n",
      "Epoch 14/500\n",
      "23/23 [==============================] - 2s 69ms/step - loss: 0.9545 - mae: 1.3636\n",
      "Epoch 15/500\n",
      "23/23 [==============================] - 2s 68ms/step - loss: 0.9268 - mae: 1.3019\n",
      "Epoch 16/500\n",
      "23/23 [==============================] - 2s 69ms/step - loss: 1.3771 - mae: 1.8252\n",
      "Epoch 17/500\n",
      "23/23 [==============================] - 2s 68ms/step - loss: 0.9727 - mae: 1.3601\n",
      "Epoch 18/500\n",
      "23/23 [==============================] - 2s 68ms/step - loss: 0.8600 - mae: 1.2492\n",
      "Epoch 19/500\n",
      "23/23 [==============================] - 2s 71ms/step - loss: 0.8664 - mae: 1.2391\n",
      "Epoch 20/500\n",
      "23/23 [==============================] - 2s 67ms/step - loss: 0.8476 - mae: 1.2295\n",
      "Epoch 21/500\n",
      "23/23 [==============================] - 2s 67ms/step - loss: 0.8314 - mae: 1.2359\n",
      "Epoch 22/500\n",
      "23/23 [==============================] - 2s 69ms/step - loss: 0.9258 - mae: 1.3461\n",
      "Epoch 23/500\n",
      "23/23 [==============================] - 2s 69ms/step - loss: 0.8203 - mae: 1.1788\n",
      "Epoch 24/500\n",
      "23/23 [==============================] - 2s 66ms/step - loss: 0.7957 - mae: 1.1726\n",
      "Epoch 25/500\n",
      "23/23 [==============================] - 2s 66ms/step - loss: 0.8222 - mae: 1.2017\n",
      "Epoch 26/500\n",
      "23/23 [==============================] - 2s 67ms/step - loss: 0.7771 - mae: 1.1530\n",
      "Epoch 27/500\n",
      "23/23 [==============================] - 2s 65ms/step - loss: 0.8067 - mae: 1.1723\n",
      "Epoch 28/500\n",
      "23/23 [==============================] - 2s 68ms/step - loss: 0.8677 - mae: 1.2537\n",
      "Epoch 29/500\n",
      "23/23 [==============================] - 2s 69ms/step - loss: 0.7746 - mae: 1.1628\n",
      "Epoch 30/500\n",
      "23/23 [==============================] - 2s 67ms/step - loss: 0.7738 - mae: 1.1551\n",
      "Epoch 31/500\n",
      "23/23 [==============================] - 2s 66ms/step - loss: 0.7756 - mae: 1.1518\n",
      "Epoch 32/500\n",
      "23/23 [==============================] - 2s 67ms/step - loss: 0.7520 - mae: 1.1242\n",
      "Epoch 33/500\n",
      "23/23 [==============================] - 2s 68ms/step - loss: 0.7367 - mae: 1.1126\n",
      "Epoch 34/500\n",
      "23/23 [==============================] - 2s 66ms/step - loss: 0.7260 - mae: 1.0892\n",
      "Epoch 35/500\n",
      "23/23 [==============================] - 2s 66ms/step - loss: 0.7613 - mae: 1.1216\n",
      "Epoch 36/500\n",
      "23/23 [==============================] - 2s 66ms/step - loss: 0.7238 - mae: 1.0906\n",
      "Epoch 37/500\n",
      "23/23 [==============================] - 2s 66ms/step - loss: 0.7440 - mae: 1.1045\n",
      "Epoch 38/500\n",
      "23/23 [==============================] - 2s 67ms/step - loss: 0.9274 - mae: 1.3409\n",
      "Epoch 39/500\n",
      "23/23 [==============================] - 2s 67ms/step - loss: 0.9352 - mae: 1.3376: 0s - loss: 0.9905 -\n",
      "Epoch 40/500\n",
      "23/23 [==============================] - 2s 68ms/step - loss: 1.6117 - mae: 2.0863\n",
      "Epoch 41/500\n",
      "23/23 [==============================] - 2s 66ms/step - loss: 1.6107 - mae: 2.0638\n",
      "Epoch 42/500\n",
      "23/23 [==============================] - 2s 66ms/step - loss: 1.5074 - mae: 1.9545\n",
      "Epoch 43/500\n",
      "23/23 [==============================] - 2s 67ms/step - loss: 1.4889 - mae: 1.9255\n",
      "Epoch 44/500\n",
      "23/23 [==============================] - 2s 65ms/step - loss: 1.0064 - mae: 1.4297\n",
      "Epoch 45/500\n",
      "23/23 [==============================] - 2s 70ms/step - loss: 0.7349 - mae: 1.1156\n",
      "Epoch 46/500\n",
      "23/23 [==============================] - 2s 69ms/step - loss: 0.6958 - mae: 1.0435\n",
      "Epoch 47/500\n",
      "23/23 [==============================] - 2s 67ms/step - loss: 0.6593 - mae: 1.0330\n",
      "Epoch 48/500\n",
      "23/23 [==============================] - 2s 68ms/step - loss: 0.6673 - mae: 1.0409\n",
      "Epoch 49/500\n",
      "23/23 [==============================] - 2s 67ms/step - loss: 0.6793 - mae: 1.0290\n",
      "Epoch 50/500\n",
      "23/23 [==============================] - 2s 68ms/step - loss: 0.6544 - mae: 1.0347\n",
      "Epoch 51/500\n",
      "23/23 [==============================] - 2s 67ms/step - loss: 0.6730 - mae: 1.0235\n",
      "Epoch 52/500\n",
      "23/23 [==============================] - 2s 66ms/step - loss: 0.6507 - mae: 1.0023\n",
      "Epoch 53/500\n",
      "23/23 [==============================] - 2s 67ms/step - loss: 0.6430 - mae: 1.0020\n",
      "Epoch 54/500\n",
      "23/23 [==============================] - 1s 65ms/step - loss: 0.6510 - mae: 1.0176: 0s - loss: 0.6680 - mae: 1.0\n",
      "Epoch 55/500\n",
      "23/23 [==============================] - 2s 68ms/step - loss: 0.6516 - mae: 0.9919\n",
      "Epoch 56/500\n",
      "23/23 [==============================] - 2s 69ms/step - loss: 0.6355 - mae: 0.9824\n",
      "Epoch 57/500\n",
      "23/23 [==============================] - 2s 66ms/step - loss: 0.6614 - mae: 1.0197\n",
      "Epoch 58/500\n",
      "23/23 [==============================] - 2s 67ms/step - loss: 0.6230 - mae: 0.9778\n",
      "Epoch 59/500\n",
      "23/23 [==============================] - 2s 66ms/step - loss: 0.6649 - mae: 1.0210\n",
      "Epoch 60/500\n",
      "23/23 [==============================] - 2s 67ms/step - loss: 0.6730 - mae: 1.0494\n",
      "Epoch 61/500\n",
      "23/23 [==============================] - 2s 66ms/step - loss: 0.6265 - mae: 0.9638\n",
      "Epoch 62/500\n",
      "23/23 [==============================] - 2s 66ms/step - loss: 0.6360 - mae: 0.9702\n",
      "Epoch 63/500\n",
      "23/23 [==============================] - 2s 68ms/step - loss: 0.6300 - mae: 0.9865\n",
      "Epoch 64/500\n",
      "23/23 [==============================] - 2s 66ms/step - loss: 0.6545 - mae: 1.0211\n",
      "Epoch 65/500\n",
      "23/23 [==============================] - 2s 67ms/step - loss: 0.7130 - mae: 1.1059\n",
      "Epoch 66/500\n",
      "23/23 [==============================] - 2s 68ms/step - loss: 0.6274 - mae: 0.9796\n",
      "Epoch 67/500\n",
      "23/23 [==============================] - 2s 67ms/step - loss: 0.6248 - mae: 0.9691\n",
      "Epoch 68/500\n",
      "23/23 [==============================] - 2s 68ms/step - loss: 0.6223 - mae: 0.9732\n",
      "Epoch 69/500\n",
      "23/23 [==============================] - 2s 68ms/step - loss: 0.6062 - mae: 0.9452\n",
      "Epoch 70/500\n",
      "23/23 [==============================] - 2s 69ms/step - loss: 0.6272 - mae: 0.9867\n",
      "Epoch 71/500\n",
      "23/23 [==============================] - 2s 67ms/step - loss: 0.6360 - mae: 0.9971\n",
      "Epoch 72/500\n",
      "23/23 [==============================] - 2s 68ms/step - loss: 0.6036 - mae: 0.9613\n",
      "Epoch 73/500\n",
      "23/23 [==============================] - 2s 71ms/step - loss: 0.6222 - mae: 0.9699\n",
      "Epoch 74/500\n",
      "23/23 [==============================] - 2s 68ms/step - loss: 0.5869 - mae: 0.9397\n",
      "Epoch 75/500\n",
      "23/23 [==============================] - 2s 67ms/step - loss: 0.6038 - mae: 0.9452\n",
      "Epoch 76/500\n",
      "23/23 [==============================] - 2s 67ms/step - loss: 0.5941 - mae: 0.9554\n",
      "Epoch 77/500\n",
      "23/23 [==============================] - 2s 68ms/step - loss: 0.6452 - mae: 1.0156\n",
      "Epoch 78/500\n",
      "23/23 [==============================] - 2s 67ms/step - loss: 0.6297 - mae: 0.9796\n",
      "Epoch 79/500\n",
      "23/23 [==============================] - 2s 68ms/step - loss: 0.7274 - mae: 1.1197\n",
      "Epoch 80/500\n",
      "23/23 [==============================] - 2s 68ms/step - loss: 0.7077 - mae: 1.0902\n",
      "Epoch 81/500\n",
      "23/23 [==============================] - 2s 67ms/step - loss: 0.6225 - mae: 0.9945\n",
      "Epoch 82/500\n",
      "23/23 [==============================] - 2s 70ms/step - loss: 0.7009 - mae: 1.0937\n",
      "Epoch 83/500\n",
      "23/23 [==============================] - 2s 68ms/step - loss: 0.6059 - mae: 0.9497\n",
      "Epoch 84/500\n",
      "23/23 [==============================] - 2s 67ms/step - loss: 0.5884 - mae: 0.9210\n",
      "Epoch 85/500\n"
     ]
    },
    {
     "name": "stdout",
     "output_type": "stream",
     "text": [
      "23/23 [==============================] - 2s 68ms/step - loss: 0.6021 - mae: 0.9569\n",
      "Epoch 86/500\n",
      "23/23 [==============================] - 2s 68ms/step - loss: 0.5757 - mae: 0.9214\n",
      "Epoch 87/500\n",
      "23/23 [==============================] - 2s 67ms/step - loss: 0.5807 - mae: 0.9251\n",
      "Epoch 88/500\n",
      "23/23 [==============================] - 2s 67ms/step - loss: 0.5748 - mae: 0.9220: 0s - loss: 0.5983 - mae\n",
      "Epoch 89/500\n",
      "23/23 [==============================] - 2s 68ms/step - loss: 0.6276 - mae: 0.9941\n",
      "Epoch 90/500\n",
      "23/23 [==============================] - 2s 68ms/step - loss: 0.6182 - mae: 0.9823\n",
      "Epoch 91/500\n",
      "23/23 [==============================] - 2s 71ms/step - loss: 0.6131 - mae: 0.9700\n",
      "Epoch 92/500\n",
      "23/23 [==============================] - 2s 67ms/step - loss: 0.6234 - mae: 0.9928\n",
      "Epoch 93/500\n",
      "23/23 [==============================] - 2s 68ms/step - loss: 0.6075 - mae: 0.9629\n",
      "Epoch 94/500\n",
      "23/23 [==============================] - 2s 66ms/step - loss: 0.5999 - mae: 0.9587\n",
      "Epoch 95/500\n",
      "23/23 [==============================] - 2s 67ms/step - loss: 0.6049 - mae: 0.9472\n",
      "Epoch 96/500\n",
      "23/23 [==============================] - 2s 66ms/step - loss: 0.6136 - mae: 0.9815\n",
      "Epoch 97/500\n",
      "23/23 [==============================] - 2s 67ms/step - loss: 0.5706 - mae: 0.9230\n",
      "Epoch 98/500\n",
      "23/23 [==============================] - 2s 66ms/step - loss: 0.6167 - mae: 0.9632\n",
      "Epoch 99/500\n",
      "23/23 [==============================] - 2s 66ms/step - loss: 0.5788 - mae: 0.9256\n",
      "Epoch 100/500\n",
      "23/23 [==============================] - 2s 68ms/step - loss: 0.5861 - mae: 0.9264\n",
      "Epoch 101/500\n",
      "23/23 [==============================] - 2s 66ms/step - loss: 0.5621 - mae: 0.9116\n",
      "Epoch 102/500\n",
      "23/23 [==============================] - 2s 67ms/step - loss: 0.5654 - mae: 0.8951\n",
      "Epoch 103/500\n",
      "23/23 [==============================] - 2s 67ms/step - loss: 0.5719 - mae: 0.9375\n",
      "Epoch 104/500\n",
      "23/23 [==============================] - 2s 66ms/step - loss: 0.5709 - mae: 0.9021\n",
      "Epoch 105/500\n",
      "23/23 [==============================] - 2s 65ms/step - loss: 0.5708 - mae: 0.9019\n",
      "Epoch 106/500\n",
      "23/23 [==============================] - 2s 67ms/step - loss: 0.5984 - mae: 0.9672\n",
      "Epoch 107/500\n",
      "23/23 [==============================] - 2s 66ms/step - loss: 0.5860 - mae: 0.9483\n",
      "Epoch 108/500\n",
      "23/23 [==============================] - 1s 64ms/step - loss: 0.5801 - mae: 0.9187\n",
      "Epoch 109/500\n",
      "23/23 [==============================] - 2s 65ms/step - loss: 0.5762 - mae: 0.9124\n",
      "Epoch 110/500\n",
      "23/23 [==============================] - 1s 64ms/step - loss: 0.5707 - mae: 0.8995\n",
      "Epoch 111/500\n",
      "23/23 [==============================] - 2s 66ms/step - loss: 0.5792 - mae: 0.9354\n",
      "Epoch 112/500\n",
      "23/23 [==============================] - 1s 65ms/step - loss: 0.5973 - mae: 0.9443\n",
      "Epoch 113/500\n",
      "23/23 [==============================] - 2s 65ms/step - loss: 0.5676 - mae: 0.9081: 0s - loss: 0.5720 - mae: 0\n",
      "Epoch 114/500\n",
      "23/23 [==============================] - 2s 66ms/step - loss: 0.5984 - mae: 0.9726\n",
      "Epoch 115/500\n",
      "23/23 [==============================] - 2s 66ms/step - loss: 0.5617 - mae: 0.9101\n",
      "Epoch 116/500\n",
      "23/23 [==============================] - 2s 66ms/step - loss: 0.5612 - mae: 0.9056\n",
      "Epoch 117/500\n",
      "23/23 [==============================] - 1s 65ms/step - loss: 0.5565 - mae: 0.8880\n",
      "Epoch 118/500\n",
      "23/23 [==============================] - 2s 66ms/step - loss: 0.5538 - mae: 0.9085\n",
      "Epoch 119/500\n",
      "23/23 [==============================] - 2s 66ms/step - loss: 0.5575 - mae: 0.8814\n",
      "Epoch 120/500\n",
      "23/23 [==============================] - 1s 64ms/step - loss: 0.5685 - mae: 0.8855\n",
      "Epoch 121/500\n",
      "23/23 [==============================] - 2s 66ms/step - loss: 0.5490 - mae: 0.8841\n",
      "Epoch 122/500\n",
      "23/23 [==============================] - 1s 65ms/step - loss: 0.5969 - mae: 0.9375\n",
      "Epoch 123/500\n",
      "23/23 [==============================] - 1s 65ms/step - loss: 0.5645 - mae: 0.8921\n",
      "Epoch 124/500\n",
      "23/23 [==============================] - 2s 66ms/step - loss: 0.5454 - mae: 0.8909\n",
      "Epoch 125/500\n",
      "23/23 [==============================] - 1s 65ms/step - loss: 0.5615 - mae: 0.9104\n",
      "Epoch 126/500\n",
      "23/23 [==============================] - 1s 65ms/step - loss: 0.5949 - mae: 0.9628\n",
      "Epoch 127/500\n",
      "23/23 [==============================] - 1s 64ms/step - loss: 0.5576 - mae: 0.8970\n",
      "Epoch 128/500\n",
      "23/23 [==============================] - 2s 67ms/step - loss: 0.5700 - mae: 0.9061\n",
      "Epoch 129/500\n",
      "23/23 [==============================] - 2s 65ms/step - loss: 0.5611 - mae: 0.8906\n",
      "Epoch 130/500\n",
      "23/23 [==============================] - 1s 64ms/step - loss: 0.6480 - mae: 1.0411\n",
      "Epoch 131/500\n",
      "23/23 [==============================] - 2s 65ms/step - loss: 0.5733 - mae: 0.9176\n",
      "Epoch 132/500\n",
      "23/23 [==============================] - 2s 66ms/step - loss: 0.5672 - mae: 0.8916\n",
      "Epoch 133/500\n",
      "23/23 [==============================] - 1s 65ms/step - loss: 0.5842 - mae: 0.9353\n",
      "Epoch 134/500\n",
      "23/23 [==============================] - 1s 65ms/step - loss: 0.5919 - mae: 0.9542\n",
      "Epoch 135/500\n",
      "23/23 [==============================] - 2s 66ms/step - loss: 0.5715 - mae: 0.9249\n",
      "Epoch 136/500\n",
      "23/23 [==============================] - 2s 65ms/step - loss: 0.5686 - mae: 0.9290\n",
      "Epoch 137/500\n",
      "23/23 [==============================] - 1s 65ms/step - loss: 0.5530 - mae: 0.8738\n",
      "Epoch 138/500\n",
      "23/23 [==============================] - 2s 66ms/step - loss: 0.5642 - mae: 0.9138\n",
      "Epoch 139/500\n",
      "23/23 [==============================] - 2s 66ms/step - loss: 0.5495 - mae: 0.8780\n",
      "Epoch 140/500\n",
      "23/23 [==============================] - 1s 64ms/step - loss: 0.5465 - mae: 0.8844: 1s - loss: 0.5\n",
      "Epoch 141/500\n",
      "23/23 [==============================] - 1s 65ms/step - loss: 0.5528 - mae: 0.8760\n",
      "Epoch 142/500\n",
      "23/23 [==============================] - 2s 67ms/step - loss: 0.5758 - mae: 0.9332\n",
      "Epoch 143/500\n",
      "23/23 [==============================] - 1s 65ms/step - loss: 0.5603 - mae: 0.8718\n",
      "Epoch 144/500\n",
      "23/23 [==============================] - 2s 66ms/step - loss: 0.5525 - mae: 0.8976\n",
      "Epoch 145/500\n",
      "23/23 [==============================] - 2s 67ms/step - loss: 0.5702 - mae: 0.9214\n",
      "Epoch 146/500\n",
      "23/23 [==============================] - 1s 65ms/step - loss: 0.5805 - mae: 0.9184\n",
      "Epoch 147/500\n",
      "23/23 [==============================] - 1s 64ms/step - loss: 0.5524 - mae: 0.8866\n",
      "Epoch 148/500\n",
      "23/23 [==============================] - 2s 65ms/step - loss: 0.5364 - mae: 0.8834\n",
      "Epoch 149/500\n",
      "23/23 [==============================] - 2s 67ms/step - loss: 0.5360 - mae: 0.8837\n",
      "Epoch 150/500\n",
      "23/23 [==============================] - 2s 66ms/step - loss: 0.6166 - mae: 0.9937\n",
      "Epoch 151/500\n",
      "23/23 [==============================] - 2s 65ms/step - loss: 0.5829 - mae: 0.9465\n",
      "Epoch 152/500\n",
      "23/23 [==============================] - 2s 67ms/step - loss: 0.5494 - mae: 0.8779\n",
      "Epoch 153/500\n",
      "23/23 [==============================] - 1s 65ms/step - loss: 0.6326 - mae: 1.0100\n",
      "Epoch 154/500\n",
      "23/23 [==============================] - 1s 65ms/step - loss: 0.5993 - mae: 0.9729\n",
      "Epoch 155/500\n",
      "23/23 [==============================] - 2s 67ms/step - loss: 0.5730 - mae: 0.9370\n",
      "Epoch 156/500\n",
      "23/23 [==============================] - 2s 66ms/step - loss: 0.5878 - mae: 0.9509\n",
      "Epoch 157/500\n",
      "23/23 [==============================] - 1s 65ms/step - loss: 0.5826 - mae: 0.9437\n",
      "Epoch 158/500\n",
      "23/23 [==============================] - 2s 66ms/step - loss: 0.5647 - mae: 0.9055\n",
      "Epoch 159/500\n",
      "23/23 [==============================] - 2s 66ms/step - loss: 0.5801 - mae: 0.9424\n",
      "Epoch 160/500\n",
      "23/23 [==============================] - 2s 65ms/step - loss: 0.5575 - mae: 0.8966\n",
      "Epoch 161/500\n",
      "23/23 [==============================] - 1s 64ms/step - loss: 0.5864 - mae: 0.9517\n",
      "Epoch 162/500\n",
      "23/23 [==============================] - 2s 66ms/step - loss: 0.6259 - mae: 0.9880\n",
      "Epoch 163/500\n",
      "23/23 [==============================] - 1s 65ms/step - loss: 0.5730 - mae: 0.9370\n",
      "Epoch 164/500\n",
      "23/23 [==============================] - 1s 65ms/step - loss: 0.5549 - mae: 0.9143\n",
      "Epoch 165/500\n",
      "23/23 [==============================] - 2s 69ms/step - loss: 0.6205 - mae: 0.9858\n",
      "Epoch 166/500\n",
      "23/23 [==============================] - 2s 67ms/step - loss: 0.5821 - mae: 0.9272\n",
      "Epoch 167/500\n",
      "23/23 [==============================] - 1s 64ms/step - loss: 0.5412 - mae: 0.8735\n",
      "Epoch 168/500\n",
      "23/23 [==============================] - 2s 66ms/step - loss: 0.5809 - mae: 0.9380\n",
      "Epoch 169/500\n"
     ]
    },
    {
     "name": "stdout",
     "output_type": "stream",
     "text": [
      "23/23 [==============================] - 2s 66ms/step - loss: 0.5428 - mae: 0.8704\n",
      "Epoch 170/500\n",
      "23/23 [==============================] - 1s 65ms/step - loss: 0.5470 - mae: 0.8692\n",
      "Epoch 171/500\n",
      "23/23 [==============================] - 1s 65ms/step - loss: 0.5436 - mae: 0.8672: 1s - loss: 0\n",
      "Epoch 172/500\n",
      "23/23 [==============================] - 1s 64ms/step - loss: 0.5528 - mae: 0.8774\n",
      "Epoch 173/500\n",
      "23/23 [==============================] - 1s 65ms/step - loss: 0.7123 - mae: 1.1083\n",
      "Epoch 174/500\n",
      "23/23 [==============================] - 1s 65ms/step - loss: 0.6122 - mae: 0.9924\n",
      "Epoch 175/500\n",
      "23/23 [==============================] - 1s 65ms/step - loss: 0.5754 - mae: 0.9355\n",
      "Epoch 176/500\n",
      "23/23 [==============================] - 2s 66ms/step - loss: 0.5477 - mae: 0.8933\n",
      "Epoch 177/500\n",
      "23/23 [==============================] - 1s 63ms/step - loss: 0.5702 - mae: 0.9302\n",
      "Epoch 178/500\n",
      "23/23 [==============================] - 1s 65ms/step - loss: 0.5540 - mae: 0.8928\n",
      "Epoch 179/500\n",
      "23/23 [==============================] - 1s 65ms/step - loss: 0.5265 - mae: 0.8555\n",
      "Epoch 180/500\n",
      "23/23 [==============================] - 2s 66ms/step - loss: 0.5322 - mae: 0.8864\n",
      "Epoch 181/500\n",
      "23/23 [==============================] - 1s 65ms/step - loss: 0.5682 - mae: 0.9296\n",
      "Epoch 182/500\n",
      "23/23 [==============================] - 1s 65ms/step - loss: 0.6968 - mae: 1.0908: 0s - loss: 0.6916 - mae: 1.07\n",
      "Epoch 183/500\n",
      "23/23 [==============================] - 1s 65ms/step - loss: 0.5725 - mae: 0.9209\n",
      "Epoch 184/500\n",
      "23/23 [==============================] - 1s 64ms/step - loss: 0.5570 - mae: 0.8824\n",
      "Epoch 185/500\n",
      "23/23 [==============================] - 1s 65ms/step - loss: 0.5286 - mae: 0.8601\n",
      "Epoch 186/500\n",
      "23/23 [==============================] - 2s 65ms/step - loss: 0.5126 - mae: 0.8476\n",
      "Epoch 187/500\n",
      "23/23 [==============================] - 2s 65ms/step - loss: 0.5396 - mae: 0.8611\n",
      "Epoch 188/500\n",
      "23/23 [==============================] - 1s 65ms/step - loss: 0.5525 - mae: 0.9076: 0s - loss: 0.5606 - mae: 0.907\n",
      "Epoch 189/500\n",
      "23/23 [==============================] - 2s 65ms/step - loss: 0.5298 - mae: 0.8514: 0s - loss: 0.5353 - mae: 0.\n",
      "Epoch 190/500\n",
      "23/23 [==============================] - 1s 65ms/step - loss: 0.5478 - mae: 0.8944\n",
      "Epoch 191/500\n",
      "23/23 [==============================] - 1s 65ms/step - loss: 0.5799 - mae: 0.9282\n",
      "Epoch 192/500\n",
      "23/23 [==============================] - 2s 66ms/step - loss: 0.5563 - mae: 0.8916\n",
      "Epoch 193/500\n",
      "23/23 [==============================] - 1s 64ms/step - loss: 0.5290 - mae: 0.8558\n",
      "Epoch 194/500\n",
      "23/23 [==============================] - 2s 66ms/step - loss: 0.5352 - mae: 0.8525\n",
      "Epoch 195/500\n",
      "23/23 [==============================] - 1s 65ms/step - loss: 0.5365 - mae: 0.8605\n",
      "Epoch 196/500\n",
      "23/23 [==============================] - 1s 65ms/step - loss: 0.5867 - mae: 0.9420\n",
      "Epoch 197/500\n",
      "23/23 [==============================] - 2s 66ms/step - loss: 0.5543 - mae: 0.9103\n",
      "Epoch 198/500\n",
      "23/23 [==============================] - 1s 65ms/step - loss: 0.5484 - mae: 0.8878: 1s - loss: 0\n",
      "Epoch 199/500\n",
      "23/23 [==============================] - 2s 66ms/step - loss: 0.5564 - mae: 0.8982\n",
      "Epoch 200/500\n",
      "23/23 [==============================] - 1s 64ms/step - loss: 0.5327 - mae: 0.8488\n",
      "Epoch 201/500\n",
      "23/23 [==============================] - 2s 67ms/step - loss: 0.5877 - mae: 0.9499\n",
      "Epoch 202/500\n",
      "23/23 [==============================] - 2s 66ms/step - loss: 0.6243 - mae: 1.0071\n",
      "Epoch 203/500\n",
      "23/23 [==============================] - 1s 64ms/step - loss: 0.5752 - mae: 0.9468\n",
      "Epoch 204/500\n",
      "23/23 [==============================] - 1s 65ms/step - loss: 0.5664 - mae: 0.9112\n",
      "Epoch 205/500\n",
      "23/23 [==============================] - 1s 65ms/step - loss: 0.5496 - mae: 0.8926\n",
      "Epoch 206/500\n",
      "23/23 [==============================] - 1s 64ms/step - loss: 0.5173 - mae: 0.8554\n",
      "Epoch 207/500\n",
      "23/23 [==============================] - 1s 65ms/step - loss: 0.5338 - mae: 0.8664: 0s - loss: 0.5506 - mae: \n",
      "Epoch 208/500\n",
      "23/23 [==============================] - 2s 67ms/step - loss: 0.5271 - mae: 0.8470\n",
      "Epoch 209/500\n",
      "23/23 [==============================] - 1s 65ms/step - loss: 0.5715 - mae: 0.9266\n",
      "Epoch 210/500\n",
      "23/23 [==============================] - 1s 65ms/step - loss: 0.5683 - mae: 0.9315\n",
      "Epoch 211/500\n",
      "23/23 [==============================] - 2s 67ms/step - loss: 0.5370 - mae: 0.8714\n",
      "Epoch 212/500\n",
      "23/23 [==============================] - 2s 66ms/step - loss: 0.5248 - mae: 0.8440\n",
      "Epoch 213/500\n",
      "23/23 [==============================] - 1s 64ms/step - loss: 0.5280 - mae: 0.8686\n",
      "Epoch 214/500\n",
      "23/23 [==============================] - 1s 65ms/step - loss: 0.5285 - mae: 0.8623\n",
      "Epoch 215/500\n",
      "23/23 [==============================] - 2s 68ms/step - loss: 0.5413 - mae: 0.8610\n",
      "Epoch 216/500\n",
      "23/23 [==============================] - 1s 65ms/step - loss: 0.5587 - mae: 0.9047\n",
      "Epoch 217/500\n",
      "23/23 [==============================] - 1s 65ms/step - loss: 0.5449 - mae: 0.8833\n",
      "Epoch 218/500\n",
      "23/23 [==============================] - 2s 67ms/step - loss: 0.5372 - mae: 0.8591\n",
      "Epoch 219/500\n",
      "23/23 [==============================] - 1s 65ms/step - loss: 0.5299 - mae: 0.8643\n",
      "Epoch 220/500\n",
      "23/23 [==============================] - 1s 65ms/step - loss: 0.5368 - mae: 0.8757\n",
      "Epoch 221/500\n",
      "23/23 [==============================] - 2s 66ms/step - loss: 0.5487 - mae: 0.8854\n",
      "Epoch 222/500\n",
      "23/23 [==============================] - 2s 66ms/step - loss: 0.5069 - mae: 0.8409\n",
      "Epoch 223/500\n",
      "23/23 [==============================] - 1s 65ms/step - loss: 0.5306 - mae: 0.8538\n",
      "Epoch 224/500\n",
      "23/23 [==============================] - 1s 65ms/step - loss: 0.5416 - mae: 0.8645\n",
      "Epoch 225/500\n",
      "23/23 [==============================] - 2s 67ms/step - loss: 0.5255 - mae: 0.8451\n",
      "Epoch 226/500\n",
      "23/23 [==============================] - 1s 65ms/step - loss: 0.5307 - mae: 0.8588\n",
      "Epoch 227/500\n",
      "23/23 [==============================] - 2s 65ms/step - loss: 0.5484 - mae: 0.8887\n",
      "Epoch 228/500\n",
      "23/23 [==============================] - 2s 68ms/step - loss: 0.5614 - mae: 0.9046\n",
      "Epoch 229/500\n",
      "23/23 [==============================] - 1s 65ms/step - loss: 0.5377 - mae: 0.8696\n",
      "Epoch 230/500\n",
      "23/23 [==============================] - 1s 64ms/step - loss: 0.5647 - mae: 0.9326\n",
      "Epoch 231/500\n",
      "23/23 [==============================] - 2s 66ms/step - loss: 0.5848 - mae: 0.9558\n",
      "Epoch 232/500\n",
      "23/23 [==============================] - 2s 67ms/step - loss: 0.5386 - mae: 0.8706\n",
      "Epoch 233/500\n",
      "23/23 [==============================] - 2s 66ms/step - loss: 0.5340 - mae: 0.8753\n",
      "Epoch 234/500\n",
      "23/23 [==============================] - 1s 65ms/step - loss: 0.5313 - mae: 0.8436\n",
      "Epoch 235/500\n",
      "23/23 [==============================] - 2s 68ms/step - loss: 0.5270 - mae: 0.8430\n",
      "Epoch 236/500\n",
      "23/23 [==============================] - 1s 65ms/step - loss: 0.5210 - mae: 0.8402\n",
      "Epoch 237/500\n",
      "23/23 [==============================] - 2s 65ms/step - loss: 0.5162 - mae: 0.8470\n",
      "Epoch 238/500\n",
      "23/23 [==============================] - 2s 67ms/step - loss: 0.5370 - mae: 0.8677\n",
      "Epoch 239/500\n",
      "23/23 [==============================] - 2s 67ms/step - loss: 0.5237 - mae: 0.8575\n",
      "Epoch 240/500\n",
      "23/23 [==============================] - 1s 65ms/step - loss: 0.5244 - mae: 0.8497\n",
      "Epoch 241/500\n",
      "23/23 [==============================] - 2s 66ms/step - loss: 0.5295 - mae: 0.8702\n",
      "Epoch 242/500\n",
      "23/23 [==============================] - 2s 67ms/step - loss: 0.5249 - mae: 0.8602\n",
      "Epoch 243/500\n",
      "23/23 [==============================] - 2s 66ms/step - loss: 0.5588 - mae: 0.8844\n",
      "Epoch 244/500\n",
      "23/23 [==============================] - 2s 67ms/step - loss: 0.5368 - mae: 0.8664\n",
      "Epoch 245/500\n",
      "23/23 [==============================] - 2s 67ms/step - loss: 0.5663 - mae: 0.9207\n",
      "Epoch 246/500\n",
      "23/23 [==============================] - 2s 66ms/step - loss: 0.5747 - mae: 0.9342\n",
      "Epoch 247/500\n",
      "23/23 [==============================] - 2s 66ms/step - loss: 0.5150 - mae: 0.8487\n",
      "Epoch 248/500\n",
      "23/23 [==============================] - 2s 65ms/step - loss: 0.5238 - mae: 0.8504\n",
      "Epoch 249/500\n",
      "23/23 [==============================] - 2s 67ms/step - loss: 0.5160 - mae: 0.8411\n",
      "Epoch 250/500\n",
      "23/23 [==============================] - 1s 64ms/step - loss: 0.5185 - mae: 0.8391\n",
      "Epoch 251/500\n",
      "23/23 [==============================] - 2s 66ms/step - loss: 0.5211 - mae: 0.8566\n",
      "Epoch 252/500\n"
     ]
    },
    {
     "name": "stdout",
     "output_type": "stream",
     "text": [
      "23/23 [==============================] - 2s 66ms/step - loss: 0.5611 - mae: 0.9243\n",
      "Epoch 253/500\n",
      "23/23 [==============================] - 1s 65ms/step - loss: 0.5247 - mae: 0.8648\n",
      "Epoch 254/500\n",
      "23/23 [==============================] - 2s 65ms/step - loss: 0.5296 - mae: 0.8578\n",
      "Epoch 255/500\n",
      "23/23 [==============================] - 2s 65ms/step - loss: 0.5690 - mae: 0.9253: 0s - loss: 0.5945 - ma\n",
      "Epoch 256/500\n",
      "23/23 [==============================] - 2s 65ms/step - loss: 0.5406 - mae: 0.8814\n",
      "Epoch 257/500\n",
      "23/23 [==============================] - 1s 65ms/step - loss: 0.5683 - mae: 0.9247\n",
      "Epoch 258/500\n",
      "23/23 [==============================] - 1s 65ms/step - loss: 0.5334 - mae: 0.8540\n",
      "Epoch 259/500\n",
      "23/23 [==============================] - 2s 66ms/step - loss: 0.5379 - mae: 0.8769\n",
      "Epoch 260/500\n",
      "23/23 [==============================] - 2s 65ms/step - loss: 0.5206 - mae: 0.8342\n",
      "Epoch 261/500\n",
      "23/23 [==============================] - 2s 66ms/step - loss: 0.5384 - mae: 0.8575\n",
      "Epoch 262/500\n",
      "23/23 [==============================] - 2s 66ms/step - loss: 0.5168 - mae: 0.8425\n",
      "Epoch 263/500\n",
      "23/23 [==============================] - 1s 65ms/step - loss: 0.5168 - mae: 0.8471\n",
      "Epoch 264/500\n",
      "23/23 [==============================] - 1s 65ms/step - loss: 0.5552 - mae: 0.8924\n",
      "Epoch 265/500\n",
      "23/23 [==============================] - 2s 66ms/step - loss: 0.6281 - mae: 0.9870\n",
      "Epoch 266/500\n",
      "23/23 [==============================] - 1s 65ms/step - loss: 0.6297 - mae: 1.0083\n",
      "Epoch 267/500\n",
      "23/23 [==============================] - 1s 65ms/step - loss: 0.5330 - mae: 0.8710\n",
      "Epoch 268/500\n",
      "23/23 [==============================] - 1s 65ms/step - loss: 0.5372 - mae: 0.8756\n",
      "Epoch 269/500\n",
      "23/23 [==============================] - 1s 65ms/step - loss: 0.5188 - mae: 0.8453\n",
      "Epoch 270/500\n",
      "23/23 [==============================] - 2s 66ms/step - loss: 0.5205 - mae: 0.8384\n",
      "Epoch 271/500\n",
      "23/23 [==============================] - 2s 66ms/step - loss: 0.5177 - mae: 0.8549\n",
      "Epoch 272/500\n",
      "23/23 [==============================] - 2s 66ms/step - loss: 0.5244 - mae: 0.8510\n",
      "Epoch 273/500\n",
      "23/23 [==============================] - 2s 65ms/step - loss: 0.5502 - mae: 0.8973\n",
      "Epoch 274/500\n",
      "23/23 [==============================] - 2s 66ms/step - loss: 0.5434 - mae: 0.8845\n",
      "Epoch 275/500\n",
      "23/23 [==============================] - 2s 65ms/step - loss: 0.5539 - mae: 0.9034\n",
      "Epoch 276/500\n",
      "23/23 [==============================] - 1s 64ms/step - loss: 0.5314 - mae: 0.8548\n",
      "Epoch 277/500\n",
      "23/23 [==============================] - 2s 65ms/step - loss: 0.5244 - mae: 0.8532\n",
      "Epoch 278/500\n",
      "23/23 [==============================] - 2s 66ms/step - loss: 0.5325 - mae: 0.8668\n",
      "Epoch 279/500\n",
      "23/23 [==============================] - 1s 65ms/step - loss: 0.5556 - mae: 0.8908\n",
      "Epoch 280/500\n",
      "23/23 [==============================] - 2s 66ms/step - loss: 0.5216 - mae: 0.8475\n",
      "Epoch 281/500\n",
      "23/23 [==============================] - 2s 66ms/step - loss: 0.5175 - mae: 0.8572\n",
      "Epoch 282/500\n",
      "23/23 [==============================] - 2s 66ms/step - loss: 0.5656 - mae: 0.9302\n",
      "Epoch 283/500\n",
      "23/23 [==============================] - 2s 66ms/step - loss: 0.5229 - mae: 0.8312: 0s - loss: 0.5335 - ma\n",
      "Epoch 284/500\n",
      "23/23 [==============================] - 2s 67ms/step - loss: 0.5375 - mae: 0.8756\n",
      "Epoch 285/500\n",
      "23/23 [==============================] - 2s 66ms/step - loss: 0.5096 - mae: 0.8375\n",
      "Epoch 286/500\n",
      "23/23 [==============================] - 2s 65ms/step - loss: 0.5493 - mae: 0.8944\n",
      "Epoch 287/500\n",
      "23/23 [==============================] - 2s 66ms/step - loss: 0.5642 - mae: 0.9199: 0s - loss: 0.5931 \n",
      "Epoch 288/500\n",
      "23/23 [==============================] - 2s 67ms/step - loss: 0.5159 - mae: 0.8401\n",
      "Epoch 289/500\n",
      "23/23 [==============================] - 1s 65ms/step - loss: 0.5154 - mae: 0.8362\n",
      "Epoch 290/500\n",
      "23/23 [==============================] - 2s 66ms/step - loss: 0.5237 - mae: 0.8411\n",
      "Epoch 291/500\n",
      "23/23 [==============================] - 2s 67ms/step - loss: 0.5259 - mae: 0.8769\n",
      "Epoch 292/500\n",
      "23/23 [==============================] - 2s 66ms/step - loss: 0.5205 - mae: 0.8386\n",
      "Epoch 293/500\n",
      "23/23 [==============================] - 2s 65ms/step - loss: 0.5179 - mae: 0.8391\n",
      "Epoch 294/500\n",
      "23/23 [==============================] - 2s 67ms/step - loss: 0.5286 - mae: 0.8499\n",
      "Epoch 295/500\n",
      "23/23 [==============================] - 2s 66ms/step - loss: 0.5277 - mae: 0.8516\n",
      "Epoch 296/500\n",
      "23/23 [==============================] - 2s 66ms/step - loss: 0.5204 - mae: 0.8420\n",
      "Epoch 297/500\n",
      "23/23 [==============================] - 2s 66ms/step - loss: 0.5375 - mae: 0.8937\n",
      "Epoch 298/500\n",
      "23/23 [==============================] - 2s 67ms/step - loss: 0.5241 - mae: 0.8532\n",
      "Epoch 299/500\n",
      "23/23 [==============================] - 2s 65ms/step - loss: 0.5165 - mae: 0.8368\n",
      "Epoch 300/500\n",
      "23/23 [==============================] - 2s 66ms/step - loss: 0.5269 - mae: 0.8519\n",
      "Epoch 301/500\n",
      "23/23 [==============================] - 2s 69ms/step - loss: 0.5172 - mae: 0.8370\n",
      "Epoch 302/500\n",
      "23/23 [==============================] - 1s 65ms/step - loss: 0.5053 - mae: 0.8350\n",
      "Epoch 303/500\n",
      "23/23 [==============================] - 1s 65ms/step - loss: 0.5200 - mae: 0.8522\n",
      "Epoch 304/500\n",
      "23/23 [==============================] - 2s 67ms/step - loss: 0.5140 - mae: 0.8467\n",
      "Epoch 305/500\n",
      "23/23 [==============================] - 1s 65ms/step - loss: 0.5033 - mae: 0.8345\n",
      "Epoch 306/500\n",
      "23/23 [==============================] - 2s 66ms/step - loss: 0.5487 - mae: 0.8960\n",
      "Epoch 307/500\n",
      "23/23 [==============================] - 2s 73ms/step - loss: 0.5250 - mae: 0.8331\n",
      "Epoch 308/500\n",
      "23/23 [==============================] - 2s 67ms/step - loss: 0.5052 - mae: 0.8342\n",
      "Epoch 309/500\n",
      "23/23 [==============================] - 1s 65ms/step - loss: 0.5160 - mae: 0.8345\n",
      "Epoch 310/500\n",
      "23/23 [==============================] - 1s 65ms/step - loss: 0.5196 - mae: 0.8400\n",
      "Epoch 311/500\n",
      "23/23 [==============================] - 2s 67ms/step - loss: 0.5610 - mae: 0.9271\n",
      "Epoch 312/500\n",
      "23/23 [==============================] - 2s 66ms/step - loss: 0.5377 - mae: 0.8828\n",
      "Epoch 313/500\n",
      "23/23 [==============================] - 1s 64ms/step - loss: 0.5257 - mae: 0.8454\n",
      "Epoch 314/500\n",
      "23/23 [==============================] - 2s 67ms/step - loss: 0.5394 - mae: 0.8718\n",
      "Epoch 315/500\n",
      "23/23 [==============================] - 2s 66ms/step - loss: 0.5473 - mae: 0.9152\n",
      "Epoch 316/500\n",
      "23/23 [==============================] - 2s 66ms/step - loss: 0.5332 - mae: 0.8570\n",
      "Epoch 317/500\n",
      "23/23 [==============================] - 2s 66ms/step - loss: 0.5198 - mae: 0.8457\n",
      "Epoch 318/500\n",
      "23/23 [==============================] - 2s 67ms/step - loss: 0.5259 - mae: 0.8500\n",
      "Epoch 319/500\n",
      "23/23 [==============================] - 2s 66ms/step - loss: 0.5211 - mae: 0.8411\n",
      "Epoch 320/500\n",
      "23/23 [==============================] - 2s 65ms/step - loss: 0.5374 - mae: 0.8781: 1s - loss: 0.58\n",
      "Epoch 321/500\n",
      "23/23 [==============================] - 2s 68ms/step - loss: 0.5252 - mae: 0.8687\n",
      "Epoch 322/500\n",
      "23/23 [==============================] - 2s 66ms/step - loss: 0.5250 - mae: 0.8310\n",
      "Epoch 323/500\n",
      "23/23 [==============================] - 2s 66ms/step - loss: 0.5193 - mae: 0.8493: 0s - loss: 0.5502 - \n",
      "Epoch 324/500\n",
      "23/23 [==============================] - 2s 68ms/step - loss: 0.5272 - mae: 0.8488\n",
      "Epoch 325/500\n",
      "23/23 [==============================] - 2s 69ms/step - loss: 0.5303 - mae: 0.8421\n",
      "Epoch 326/500\n",
      "23/23 [==============================] - 1s 64ms/step - loss: 0.5046 - mae: 0.8380\n",
      "Epoch 327/500\n",
      "23/23 [==============================] - 2s 67ms/step - loss: 0.5119 - mae: 0.8392\n",
      "Epoch 328/500\n",
      "23/23 [==============================] - 2s 67ms/step - loss: 0.5247 - mae: 0.8620\n",
      "Epoch 329/500\n",
      "23/23 [==============================] - 1s 65ms/step - loss: 0.5077 - mae: 0.8271\n",
      "Epoch 330/500\n",
      "23/23 [==============================] - 2s 66ms/step - loss: 0.5590 - mae: 0.9001\n",
      "Epoch 331/500\n",
      "23/23 [==============================] - 2s 68ms/step - loss: 0.5290 - mae: 0.8561\n",
      "Epoch 332/500\n",
      "23/23 [==============================] - 2s 66ms/step - loss: 0.5178 - mae: 0.8498\n",
      "Epoch 333/500\n",
      "23/23 [==============================] - 1s 65ms/step - loss: 0.5544 - mae: 0.9167: 1s - loss: 0.5957\n",
      "Epoch 334/500\n",
      "23/23 [==============================] - 2s 67ms/step - loss: 0.5219 - mae: 0.8394\n",
      "Epoch 335/500\n"
     ]
    },
    {
     "name": "stdout",
     "output_type": "stream",
     "text": [
      "23/23 [==============================] - 2s 67ms/step - loss: 0.5186 - mae: 0.8536\n",
      "Epoch 336/500\n",
      "23/23 [==============================] - 1s 65ms/step - loss: 0.5393 - mae: 0.8760\n",
      "Epoch 337/500\n",
      "23/23 [==============================] - 2s 66ms/step - loss: 0.5165 - mae: 0.8311\n",
      "Epoch 338/500\n",
      "23/23 [==============================] - 2s 67ms/step - loss: 0.5034 - mae: 0.8316: 1s - loss: 0.547\n",
      "Epoch 339/500\n",
      "23/23 [==============================] - 1s 64ms/step - loss: 0.5292 - mae: 0.8605\n",
      "Epoch 340/500\n",
      "23/23 [==============================] - 2s 66ms/step - loss: 0.5114 - mae: 0.8376\n",
      "Epoch 341/500\n",
      "23/23 [==============================] - 2s 66ms/step - loss: 0.5479 - mae: 0.8839\n",
      "Epoch 342/500\n",
      "23/23 [==============================] - 2s 67ms/step - loss: 0.5331 - mae: 0.8684\n",
      "Epoch 343/500\n",
      "23/23 [==============================] - 2s 66ms/step - loss: 0.5695 - mae: 0.9354: 0s - loss: 0.5834 - mae: 0.\n",
      "Epoch 344/500\n",
      "23/23 [==============================] - 2s 66ms/step - loss: 0.6055 - mae: 0.9761\n",
      "Epoch 345/500\n",
      "23/23 [==============================] - 2s 67ms/step - loss: 0.5449 - mae: 0.9126\n",
      "Epoch 346/500\n",
      "23/23 [==============================] - 1s 65ms/step - loss: 0.5158 - mae: 0.8333\n",
      "Epoch 347/500\n",
      "23/23 [==============================] - 2s 67ms/step - loss: 0.5050 - mae: 0.8374\n",
      "Epoch 348/500\n",
      "23/23 [==============================] - 2s 66ms/step - loss: 0.5554 - mae: 0.9134\n",
      "Epoch 349/500\n",
      "23/23 [==============================] - 1s 65ms/step - loss: 0.7019 - mae: 1.0924\n",
      "Epoch 350/500\n",
      "23/23 [==============================] - 1s 65ms/step - loss: 0.5498 - mae: 0.9007\n",
      "Epoch 351/500\n",
      "23/23 [==============================] - 2s 67ms/step - loss: 0.5215 - mae: 0.8520\n",
      "Epoch 352/500\n",
      "23/23 [==============================] - 2s 67ms/step - loss: 0.5200 - mae: 0.8483\n",
      "Epoch 353/500\n",
      "23/23 [==============================] - 2s 66ms/step - loss: 0.5246 - mae: 0.8429\n",
      "Epoch 354/500\n",
      "23/23 [==============================] - 2s 67ms/step - loss: 0.5224 - mae: 0.8506\n",
      "Epoch 355/500\n",
      "23/23 [==============================] - 2s 66ms/step - loss: 0.5193 - mae: 0.8409\n",
      "Epoch 356/500\n",
      "23/23 [==============================] - 1s 65ms/step - loss: 0.5170 - mae: 0.8613\n",
      "Epoch 357/500\n",
      "23/23 [==============================] - 2s 66ms/step - loss: 0.5452 - mae: 0.8622\n",
      "Epoch 358/500\n",
      "23/23 [==============================] - 2s 66ms/step - loss: 0.5315 - mae: 0.8612\n",
      "Epoch 359/500\n",
      "23/23 [==============================] - 2s 66ms/step - loss: 0.5411 - mae: 0.8806\n",
      "Epoch 360/500\n",
      "23/23 [==============================] - 2s 65ms/step - loss: 0.5325 - mae: 0.8815\n",
      "Epoch 361/500\n",
      "23/23 [==============================] - 2s 67ms/step - loss: 0.5306 - mae: 0.8616\n",
      "Epoch 362/500\n",
      "23/23 [==============================] - 2s 66ms/step - loss: 0.5605 - mae: 0.9258\n",
      "Epoch 363/500\n",
      "23/23 [==============================] - 2s 65ms/step - loss: 0.5215 - mae: 0.8536\n",
      "Epoch 364/500\n",
      "23/23 [==============================] - 2s 66ms/step - loss: 0.5268 - mae: 0.8525\n",
      "Epoch 365/500\n",
      "23/23 [==============================] - 1s 65ms/step - loss: 0.5119 - mae: 0.8294\n",
      "Epoch 366/500\n",
      "23/23 [==============================] - 2s 66ms/step - loss: 0.5080 - mae: 0.8396\n",
      "Epoch 367/500\n",
      "23/23 [==============================] - 2s 66ms/step - loss: 0.5104 - mae: 0.8433\n",
      "Epoch 368/500\n",
      "23/23 [==============================] - 2s 66ms/step - loss: 0.5148 - mae: 0.8312\n",
      "Epoch 369/500\n",
      "23/23 [==============================] - 2s 67ms/step - loss: 0.5149 - mae: 0.8516\n",
      "Epoch 370/500\n",
      "23/23 [==============================] - 1s 65ms/step - loss: 0.5213 - mae: 0.8717\n",
      "Epoch 371/500\n",
      "23/23 [==============================] - 2s 67ms/step - loss: 0.5835 - mae: 0.9515: 1s - loss: 0.6\n",
      "Epoch 372/500\n",
      "23/23 [==============================] - 1s 65ms/step - loss: 0.5405 - mae: 0.8725\n",
      "Epoch 373/500\n",
      "23/23 [==============================] - 2s 67ms/step - loss: 0.5242 - mae: 0.8368\n",
      "Epoch 374/500\n",
      "23/23 [==============================] - 2s 66ms/step - loss: 0.5298 - mae: 0.8715\n",
      "Epoch 375/500\n",
      "23/23 [==============================] - 1s 65ms/step - loss: 0.5185 - mae: 0.8460\n",
      "Epoch 376/500\n",
      "23/23 [==============================] - 2s 66ms/step - loss: 0.5717 - mae: 0.9353\n",
      "Epoch 377/500\n",
      "23/23 [==============================] - 2s 65ms/step - loss: 0.5078 - mae: 0.8362\n",
      "Epoch 378/500\n",
      "23/23 [==============================] - 2s 65ms/step - loss: 0.5024 - mae: 0.8222\n",
      "Epoch 379/500\n",
      "23/23 [==============================] - 2s 67ms/step - loss: 0.5248 - mae: 0.8618\n",
      "Epoch 380/500\n",
      "23/23 [==============================] - 1s 65ms/step - loss: 0.5306 - mae: 0.8742\n",
      "Epoch 381/500\n",
      "23/23 [==============================] - 2s 67ms/step - loss: 0.5078 - mae: 0.8279\n",
      "Epoch 382/500\n",
      "23/23 [==============================] - 2s 65ms/step - loss: 0.5016 - mae: 0.8250\n",
      "Epoch 383/500\n",
      "23/23 [==============================] - 2s 66ms/step - loss: 0.5110 - mae: 0.8258\n",
      "Epoch 384/500\n",
      "23/23 [==============================] - 2s 66ms/step - loss: 0.5319 - mae: 0.8589\n",
      "Epoch 385/500\n",
      "23/23 [==============================] - 2s 66ms/step - loss: 0.5028 - mae: 0.8249\n",
      "Epoch 386/500\n",
      "23/23 [==============================] - 2s 66ms/step - loss: 0.5202 - mae: 0.8516\n",
      "Epoch 387/500\n",
      "23/23 [==============================] - 2s 66ms/step - loss: 0.5083 - mae: 0.8283\n",
      "Epoch 388/500\n",
      "23/23 [==============================] - 2s 67ms/step - loss: 0.5332 - mae: 0.8714\n",
      "Epoch 389/500\n",
      "23/23 [==============================] - 2s 66ms/step - loss: 0.5158 - mae: 0.8385\n",
      "Epoch 390/500\n",
      "23/23 [==============================] - 2s 67ms/step - loss: 0.5150 - mae: 0.8431\n",
      "Epoch 391/500\n",
      "23/23 [==============================] - 2s 66ms/step - loss: 0.5517 - mae: 0.8884\n",
      "Epoch 392/500\n",
      "23/23 [==============================] - 2s 65ms/step - loss: 0.5266 - mae: 0.8702\n",
      "Epoch 393/500\n",
      "23/23 [==============================] - 2s 66ms/step - loss: 0.5692 - mae: 0.9481\n",
      "Epoch 394/500\n",
      "23/23 [==============================] - 2s 66ms/step - loss: 0.5457 - mae: 0.8977\n",
      "Epoch 395/500\n",
      "23/23 [==============================] - 2s 66ms/step - loss: 0.5304 - mae: 0.8569\n",
      "Epoch 396/500\n",
      "23/23 [==============================] - 1s 64ms/step - loss: 0.5101 - mae: 0.8275\n",
      "Epoch 397/500\n",
      "23/23 [==============================] - 2s 67ms/step - loss: 0.5170 - mae: 0.8301\n",
      "Epoch 398/500\n",
      "23/23 [==============================] - 2s 66ms/step - loss: 0.5222 - mae: 0.8280\n",
      "Epoch 399/500\n",
      "23/23 [==============================] - 1s 65ms/step - loss: 0.5099 - mae: 0.8318\n",
      "Epoch 400/500\n",
      "23/23 [==============================] - 2s 67ms/step - loss: 0.5110 - mae: 0.8272: 0s - loss: 0.5163 - mae: 0.\n",
      "Epoch 401/500\n",
      "23/23 [==============================] - 2s 66ms/step - loss: 0.5153 - mae: 0.8399\n",
      "Epoch 402/500\n",
      "23/23 [==============================] - 2s 67ms/step - loss: 0.5161 - mae: 0.8333\n",
      "Epoch 403/500\n",
      "23/23 [==============================] - 2s 68ms/step - loss: 0.5351 - mae: 0.8710\n",
      "Epoch 404/500\n",
      "23/23 [==============================] - 2s 66ms/step - loss: 0.5147 - mae: 0.8533\n",
      "Epoch 405/500\n",
      "23/23 [==============================] - 2s 66ms/step - loss: 0.5115 - mae: 0.8465\n",
      "Epoch 406/500\n",
      "23/23 [==============================] - 1s 64ms/step - loss: 0.5305 - mae: 0.8664\n",
      "Epoch 407/500\n",
      "23/23 [==============================] - 2s 67ms/step - loss: 0.5297 - mae: 0.8479\n",
      "Epoch 408/500\n",
      "23/23 [==============================] - 2s 66ms/step - loss: 0.5750 - mae: 0.9467\n",
      "Epoch 409/500\n",
      "23/23 [==============================] - 1s 65ms/step - loss: 0.5601 - mae: 0.9223\n",
      "Epoch 410/500\n",
      "23/23 [==============================] - 2s 69ms/step - loss: 0.5376 - mae: 0.8767\n",
      "Epoch 411/500\n",
      "23/23 [==============================] - 2s 68ms/step - loss: 0.5266 - mae: 0.8534\n",
      "Epoch 412/500\n",
      "23/23 [==============================] - 2s 66ms/step - loss: 0.5040 - mae: 0.8469\n",
      "Epoch 413/500\n",
      "23/23 [==============================] - 2s 66ms/step - loss: 0.5145 - mae: 0.8546\n",
      "Epoch 414/500\n",
      "23/23 [==============================] - 2s 70ms/step - loss: 0.5111 - mae: 0.8614\n",
      "Epoch 415/500\n",
      "23/23 [==============================] - 2s 67ms/step - loss: 0.5402 - mae: 0.8779\n",
      "Epoch 416/500\n",
      "23/23 [==============================] - 2s 67ms/step - loss: 0.5069 - mae: 0.8303\n",
      "Epoch 417/500\n",
      "23/23 [==============================] - 2s 68ms/step - loss: 0.5169 - mae: 0.8550\n",
      "Epoch 418/500\n"
     ]
    },
    {
     "name": "stdout",
     "output_type": "stream",
     "text": [
      "23/23 [==============================] - 2s 67ms/step - loss: 0.5402 - mae: 0.8738\n",
      "Epoch 419/500\n",
      "23/23 [==============================] - 2s 66ms/step - loss: 0.5126 - mae: 0.8304\n",
      "Epoch 420/500\n",
      "23/23 [==============================] - 2s 69ms/step - loss: 0.5400 - mae: 0.8790\n",
      "Epoch 421/500\n",
      "23/23 [==============================] - 2s 68ms/step - loss: 0.5180 - mae: 0.8349\n",
      "Epoch 422/500\n",
      "23/23 [==============================] - 2s 65ms/step - loss: 0.5227 - mae: 0.8486: 0s - loss: 0.5320 - mae\n",
      "Epoch 423/500\n",
      "23/23 [==============================] - 2s 66ms/step - loss: 0.5110 - mae: 0.8324\n",
      "Epoch 424/500\n",
      "23/23 [==============================] - 2s 69ms/step - loss: 0.5085 - mae: 0.8320\n",
      "Epoch 425/500\n",
      "23/23 [==============================] - 2s 65ms/step - loss: 0.5098 - mae: 0.8335\n",
      "Epoch 426/500\n",
      "23/23 [==============================] - 1s 65ms/step - loss: 0.5129 - mae: 0.8266\n",
      "Epoch 427/500\n",
      "23/23 [==============================] - 2s 67ms/step - loss: 0.5268 - mae: 0.8592\n",
      "Epoch 428/500\n",
      "23/23 [==============================] - 2s 66ms/step - loss: 0.5266 - mae: 0.8790\n",
      "Epoch 429/500\n",
      "23/23 [==============================] - 2s 66ms/step - loss: 0.5267 - mae: 0.8343\n",
      "Epoch 430/500\n",
      "23/23 [==============================] - 2s 66ms/step - loss: 0.5194 - mae: 0.8189\n",
      "Epoch 431/500\n",
      "23/23 [==============================] - 2s 69ms/step - loss: 0.5169 - mae: 0.8408\n",
      "Epoch 432/500\n",
      "23/23 [==============================] - 1s 65ms/step - loss: 0.5482 - mae: 0.8867\n",
      "Epoch 433/500\n",
      "23/23 [==============================] - 2s 67ms/step - loss: 0.5132 - mae: 0.8393\n",
      "Epoch 434/500\n",
      "23/23 [==============================] - 2s 67ms/step - loss: 0.5129 - mae: 0.8384\n",
      "Epoch 435/500\n",
      "23/23 [==============================] - 1s 65ms/step - loss: 0.5278 - mae: 0.8695\n",
      "Epoch 436/500\n",
      "23/23 [==============================] - 1s 65ms/step - loss: 0.5914 - mae: 0.9650\n",
      "Epoch 437/500\n",
      "23/23 [==============================] - 2s 66ms/step - loss: 0.5422 - mae: 0.8818\n",
      "Epoch 438/500\n",
      "23/23 [==============================] - 2s 66ms/step - loss: 0.5292 - mae: 0.8704\n",
      "Epoch 439/500\n",
      "23/23 [==============================] - 2s 66ms/step - loss: 0.5279 - mae: 0.8577\n",
      "Epoch 440/500\n",
      "23/23 [==============================] - 2s 66ms/step - loss: 0.5277 - mae: 0.8442\n",
      "Epoch 441/500\n",
      "23/23 [==============================] - 2s 67ms/step - loss: 0.5286 - mae: 0.8489\n",
      "Epoch 442/500\n",
      "23/23 [==============================] - 2s 66ms/step - loss: 0.5222 - mae: 0.8675\n",
      "Epoch 443/500\n",
      "23/23 [==============================] - 2s 66ms/step - loss: 0.5225 - mae: 0.8553\n",
      "Epoch 444/500\n",
      "23/23 [==============================] - 2s 67ms/step - loss: 0.5383 - mae: 0.8688\n",
      "Epoch 445/500\n",
      "23/23 [==============================] - 2s 65ms/step - loss: 0.5760 - mae: 0.9260\n",
      "Epoch 446/500\n",
      "23/23 [==============================] - 1s 65ms/step - loss: 0.5277 - mae: 0.8514\n",
      "Epoch 447/500\n",
      "23/23 [==============================] - 2s 67ms/step - loss: 0.5079 - mae: 0.8202\n",
      "Epoch 448/500\n",
      "23/23 [==============================] - 2s 66ms/step - loss: 0.5375 - mae: 0.8638\n",
      "Epoch 449/500\n",
      "23/23 [==============================] - 2s 66ms/step - loss: 0.5021 - mae: 0.8212\n",
      "Epoch 450/500\n",
      "23/23 [==============================] - 2s 66ms/step - loss: 0.5184 - mae: 0.8503: 0s - loss: 0.5320 - mae\n",
      "Epoch 451/500\n",
      "23/23 [==============================] - 2s 66ms/step - loss: 0.5102 - mae: 0.8370: 0s - loss: 0.5138 - mae: 0.837\n",
      "Epoch 452/500\n",
      "23/23 [==============================] - 1s 65ms/step - loss: 0.5093 - mae: 0.8213\n",
      "Epoch 453/500\n",
      "23/23 [==============================] - 1s 65ms/step - loss: 0.5028 - mae: 0.8244\n",
      "Epoch 454/500\n",
      "23/23 [==============================] - 2s 66ms/step - loss: 0.5219 - mae: 0.8347\n",
      "Epoch 455/500\n",
      "23/23 [==============================] - 2s 67ms/step - loss: 0.5377 - mae: 0.8801\n",
      "Epoch 456/500\n",
      "23/23 [==============================] - 1s 65ms/step - loss: 0.5638 - mae: 0.9222: 0s - loss: 0.5814 - mae: \n",
      "Epoch 457/500\n",
      "23/23 [==============================] - 2s 66ms/step - loss: 0.5183 - mae: 0.8310\n",
      "Epoch 458/500\n",
      "23/23 [==============================] - 2s 66ms/step - loss: 0.5129 - mae: 0.8263\n",
      "Epoch 459/500\n",
      "23/23 [==============================] - 1s 64ms/step - loss: 0.5479 - mae: 0.8757\n",
      "Epoch 460/500\n",
      "23/23 [==============================] - 2s 66ms/step - loss: 0.5039 - mae: 0.8262\n",
      "Epoch 461/500\n",
      "23/23 [==============================] - 1s 65ms/step - loss: 0.5082 - mae: 0.8215\n",
      "Epoch 462/500\n",
      "23/23 [==============================] - 2s 66ms/step - loss: 0.4963 - mae: 0.8205\n",
      "Epoch 463/500\n",
      "23/23 [==============================] - 2s 67ms/step - loss: 0.5149 - mae: 0.8237\n",
      "Epoch 464/500\n",
      "23/23 [==============================] - 1s 65ms/step - loss: 0.5098 - mae: 0.8309\n",
      "Epoch 465/500\n",
      "23/23 [==============================] - 2s 66ms/step - loss: 0.5322 - mae: 0.8764\n",
      "Epoch 466/500\n",
      "23/23 [==============================] - 1s 65ms/step - loss: 0.5250 - mae: 0.8538\n",
      "Epoch 467/500\n",
      "23/23 [==============================] - 2s 66ms/step - loss: 0.5231 - mae: 0.8477\n",
      "Epoch 468/500\n",
      "23/23 [==============================] - 2s 67ms/step - loss: 0.5130 - mae: 0.8328\n",
      "Epoch 469/500\n",
      "23/23 [==============================] - 1s 65ms/step - loss: 0.5062 - mae: 0.8422\n",
      "Epoch 470/500\n",
      "23/23 [==============================] - 2s 67ms/step - loss: 0.5180 - mae: 0.8465\n",
      "Epoch 471/500\n",
      "23/23 [==============================] - 2s 66ms/step - loss: 0.5079 - mae: 0.8216\n",
      "Epoch 472/500\n",
      "23/23 [==============================] - 2s 65ms/step - loss: 0.5389 - mae: 0.8789\n",
      "Epoch 473/500\n",
      "23/23 [==============================] - 2s 66ms/step - loss: 0.5131 - mae: 0.8498\n",
      "Epoch 474/500\n",
      "23/23 [==============================] - 2s 66ms/step - loss: 0.5009 - mae: 0.8373\n",
      "Epoch 475/500\n",
      "23/23 [==============================] - 2s 67ms/step - loss: 0.5397 - mae: 0.8883\n",
      "Epoch 476/500\n",
      "23/23 [==============================] - 2s 65ms/step - loss: 0.5189 - mae: 0.8530: 0s - loss: 0.5256 - mae: 0.8\n",
      "Epoch 477/500\n",
      "23/23 [==============================] - 2s 66ms/step - loss: 0.5062 - mae: 0.8247\n",
      "Epoch 478/500\n",
      "23/23 [==============================] - 1s 65ms/step - loss: 0.5167 - mae: 0.8447\n",
      "Epoch 479/500\n",
      "23/23 [==============================] - 2s 67ms/step - loss: 0.5153 - mae: 0.8290\n",
      "Epoch 480/500\n",
      "23/23 [==============================] - 2s 66ms/step - loss: 0.5737 - mae: 0.9164\n",
      "Epoch 481/500\n",
      "23/23 [==============================] - 2s 69ms/step - loss: 0.5679 - mae: 0.9303\n",
      "Epoch 482/500\n",
      "23/23 [==============================] - 2s 65ms/step - loss: 0.5110 - mae: 0.8386\n",
      "Epoch 483/500\n",
      "23/23 [==============================] - 2s 66ms/step - loss: 0.5010 - mae: 0.8213\n",
      "Epoch 484/500\n",
      "23/23 [==============================] - 2s 66ms/step - loss: 0.5095 - mae: 0.8350\n",
      "Epoch 485/500\n",
      "23/23 [==============================] - 1s 65ms/step - loss: 0.5053 - mae: 0.8228\n",
      "Epoch 486/500\n",
      "23/23 [==============================] - 2s 67ms/step - loss: 0.5008 - mae: 0.8217\n",
      "Epoch 487/500\n",
      "23/23 [==============================] - 2s 65ms/step - loss: 0.5031 - mae: 0.8281\n",
      "Epoch 488/500\n",
      "23/23 [==============================] - 1s 65ms/step - loss: 0.4965 - mae: 0.8246\n",
      "Epoch 489/500\n",
      "23/23 [==============================] - 2s 66ms/step - loss: 0.5117 - mae: 0.8476\n",
      "Epoch 490/500\n",
      "23/23 [==============================] - 2s 66ms/step - loss: 0.5164 - mae: 0.8534\n",
      "Epoch 491/500\n",
      "23/23 [==============================] - 2s 66ms/step - loss: 0.5280 - mae: 0.8645\n",
      "Epoch 492/500\n",
      "23/23 [==============================] - 1s 65ms/step - loss: 0.5177 - mae: 0.8237\n",
      "Epoch 493/500\n",
      "23/23 [==============================] - 2s 67ms/step - loss: 0.5147 - mae: 0.8571\n",
      "Epoch 494/500\n",
      "23/23 [==============================] - 2s 66ms/step - loss: 0.5155 - mae: 0.8297\n",
      "Epoch 495/500\n",
      "23/23 [==============================] - 1s 64ms/step - loss: 0.5077 - mae: 0.8316\n",
      "Epoch 496/500\n",
      "23/23 [==============================] - 2s 67ms/step - loss: 0.5104 - mae: 0.8437\n",
      "Epoch 497/500\n",
      "23/23 [==============================] - 2s 67ms/step - loss: 0.5164 - mae: 0.8582\n",
      "Epoch 498/500\n",
      "23/23 [==============================] - 1s 64ms/step - loss: 0.5082 - mae: 0.8195\n",
      "Epoch 499/500\n",
      "23/23 [==============================] - 2s 67ms/step - loss: 0.5382 - mae: 0.8540\n",
      "Epoch 500/500\n",
      "23/23 [==============================] - 2s 66ms/step - loss: 0.5044 - mae: 0.8222\n"
     ]
    }
   ],
   "source": [
    "tf.keras.backend.clear_session()\n",
    "tf.random.set_seed(51)\n",
    "np.random.seed(51)\n",
    "train_set = windowed_dataset(x_train, window_size=60, batch_size=100, shuffle_buffer=shuffle_buffer_size)\n",
    "model = tf.keras.models.Sequential([\n",
    "  tf.keras.layers.Conv1D(filters=60, kernel_size=5,\n",
    "                      strides=1, padding=\"causal\",\n",
    "                      activation=\"relu\",\n",
    "                      input_shape=[None, 1]),\n",
    "  tf.keras.layers.LSTM(60, return_sequences=True),\n",
    "  tf.keras.layers.LSTM(60, return_sequences=True),\n",
    "  tf.keras.layers.Dense(30, activation=\"relu\"),\n",
    "  tf.keras.layers.Dense(10, activation=\"relu\"),\n",
    "  tf.keras.layers.Dense(1),\n",
    "  tf.keras.layers.Lambda(lambda x: x * 400)\n",
    "])\n",
    "\n",
    "\n",
    "optimizer = tf.keras.optimizers.SGD(lr=1e-5, momentum=0.9)\n",
    "model.compile(loss=tf.keras.losses.Huber(),\n",
    "              optimizer=optimizer,\n",
    "              metrics=[\"mae\"])\n",
    "history = model.fit(train_set,epochs=500)"
   ]
  },
  {
   "cell_type": "code",
   "execution_count": 53,
   "metadata": {},
   "outputs": [],
   "source": [
    "series = np.asarray(series)\n",
    "rnn_forecast = model_forecast(model, series[..., np.newaxis], window_size)\n",
    "rnn_forecast = rnn_forecast[split_time - window_size:-1, -1, 0]"
   ]
  },
  {
   "cell_type": "code",
   "execution_count": 55,
   "metadata": {},
   "outputs": [],
   "source": [
    "def plot_series(time, series, format=\"-\", start=0, end=None):\n",
    "    plt.plot(time[start:end], series[start:end], format)\n",
    "    plt.xlabel(\"Time\")\n",
    "    plt.ylabel(\"Value\")\n",
    "    plt.grid(True)"
   ]
  },
  {
   "cell_type": "code",
   "execution_count": 57,
   "metadata": {},
   "outputs": [
    {
     "data": {
      "image/png": "[encoded data removed]",
      "text/plain": [
       "<Figure size 720x432 with 1 Axes>"
      ]
     },
     "metadata": {
      "needs_background": "light"
     },
     "output_type": "display_data"
    }
   ],
   "source": [
    "plt.figure(figsize=(10, 6))\n",
    "# plot_series(time_valid, x_valid)\n",
    "# plot_series(time_valid, rnn_forecast)\n",
    "\n",
    "plt.plot(x_valid)\n",
    "plt.xticks(range(len(time_valid)), time_valid)\n",
    "plt.xlabel('Time')\n",
    "plt.ylabel('Available stands')\n",
    "\n",
    "plt.plot(rnn_forecast)\n",
    "plt.xticks(range(len(time_valid)), time_valid)\n",
    "plt.xlabel('Time')\n",
    "plt.ylabel('Available stands')\n",
    "\n",
    "plt.show()\n",
    "\n"
   ]
  },
  {
   "cell_type": "code",
   "execution_count": 58,
   "metadata": {},
   "outputs": [
    {
     "data": {
      "text/plain": [
       "0.61282027"
      ]
     },
     "execution_count": 58,
     "metadata": {},
     "output_type": "execute_result"
    }
   ],
   "source": [
    "tf.keras.metrics.mean_absolute_error(x_valid, rnn_forecast).numpy()"
   ]
  },
  {
   "cell_type": "code",
   "execution_count": 59,
   "metadata": {},
   "outputs": [
    {
     "data": {
      "text/plain": [
       "<Figure size 432x288 with 0 Axes>"
      ]
     },
     "execution_count": 59,
     "metadata": {},
     "output_type": "execute_result"
    },
    {
     "data": {
      "image/png": "[encoded data removed]",
      "text/plain": [
       "<Figure size 432x288 with 1 Axes>"
      ]
     },
     "metadata": {
      "needs_background": "light"
     },
     "output_type": "display_data"
    },
    {
     "data": {
      "image/png": "[encoded data removed]",
      "text/plain": [
       "<Figure size 432x288 with 1 Axes>"
      ]
     },
     "metadata": {
      "needs_background": "light"
     },
     "output_type": "display_data"
    },
    {
     "data": {
      "text/plain": [
       "<Figure size 432x288 with 0 Axes>"
      ]
     },
     "metadata": {},
     "output_type": "display_data"
    }
   ],
   "source": [
    "import matplotlib.image  as mpimg\n",
    "import matplotlib.pyplot as plt\n",
    "\n",
    "#-----------------------------------------------------------\n",
    "# Retrieve a list of list results on training and test data\n",
    "# sets for each training epoch\n",
    "#-----------------------------------------------------------\n",
    "loss=history.history['loss']\n",
    "\n",
    "epochs=range(len(loss)) # Get number of epochs\n",
    "\n",
    "\n",
    "#------------------------------------------------\n",
    "# Plot training and validation loss per epoch\n",
    "#------------------------------------------------\n",
    "plt.plot(epochs, loss, 'r')\n",
    "plt.title('Training loss')\n",
    "plt.xlabel(\"Epochs\")\n",
    "plt.ylabel(\"Loss\")\n",
    "plt.legend([\"Loss\"])\n",
    "\n",
    "plt.figure()\n",
    "\n",
    "\n",
    "\n",
    "zoomed_loss = loss[200:]\n",
    "zoomed_epochs = range(200,500)\n",
    "\n",
    "\n",
    "#------------------------------------------------\n",
    "# Plot training and validation loss per epoch\n",
    "#------------------------------------------------\n",
    "plt.plot(zoomed_epochs, zoomed_loss, 'r')\n",
    "plt.title('Training loss')\n",
    "plt.xlabel(\"Epochs\")\n",
    "plt.ylabel(\"Loss\")\n",
    "plt.legend([\"Loss\"])\n",
    "\n",
    "plt.figure()"
   ]
  },
  {
   "cell_type": "markdown",
   "metadata": {},
   "source": [
    "# 4. Feature Engineering"
   ]
  },
  {
   "cell_type": "markdown",
   "metadata": {},
   "source": [
    "## 4.1 new feature set 1"
   ]
  },
  {
   "cell_type": "markdown",
   "metadata": {},
   "source": [
    "## 4.2 new feature set 2 "
   ]
  },
  {
   "cell_type": "markdown",
   "metadata": {},
   "source": [
    "## 4.5 Post processing"
   ]
  },
  {
   "cell_type": "markdown",
   "metadata": {},
   "source": [
    "### 4.5.1 Print data types "
   ]
  },
  {
   "cell_type": "markdown",
   "metadata": {},
   "source": [
    "### 4.5.2 Print discriptive statistics "
   ]
  },
  {
   "cell_type": "markdown",
   "metadata": {},
   "source": [
    "**Print statistics for catagorical data**"
   ]
  },
  {
   "cell_type": "markdown",
   "metadata": {},
   "source": [
    "**Print statistics for continuous data**"
   ]
  },
  {
   "cell_type": "markdown",
   "metadata": {},
   "source": [
    "**Print statistics for datetime data**"
   ]
  },
  {
   "cell_type": "markdown",
   "metadata": {},
   "source": [
    "### 4.5.3 Save preprocessed data into new CSV for further analystics stage "
   ]
  }
 ],
 "metadata": {
  "kernelspec": {
   "display_name": "Python 3",
   "language": "python",
   "name": "python3"
  },
  "language_info": {
   "codemirror_mode": {
    "name": "ipython",
    "version": 3
   },
   "file_extension": ".py",
   "mimetype": "text/x-python",
   "name": "python",
   "nbconvert_exporter": "python",
   "pygments_lexer": "ipython3",
   "version": "3.7.6"
  }
 },
 "nbformat": 4,
 "nbformat_minor": 1
}
