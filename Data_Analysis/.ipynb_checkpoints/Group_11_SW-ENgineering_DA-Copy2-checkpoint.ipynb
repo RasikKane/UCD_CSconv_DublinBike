{
 "cells": [
  {
   "cell_type": "markdown",
   "metadata": {},
   "source": [
    "# DATA VISUALISATION for dublin bikes and dublin weather  "
   ]
  },
  {
   "cell_type": "markdown",
   "metadata": {},
   "source": [
    "# Initial Statements, Setup & File access "
   ]
  },
  {
   "cell_type": "markdown",
   "metadata": {},
   "source": [
    "Words \"Column\", \"Features\", \"Feature vectors\" are used synonymously to indicate a feature of data."
   ]
  },
  {
   "cell_type": "code",
   "execution_count": 1,
   "metadata": {},
   "outputs": [],
   "source": [
    "# Import pandas, numpy, matplotlib, seaborn libraries\n",
    "import pandas as pd\n",
    "import numpy as np\n",
    "import matplotlib.pyplot as plt\n",
    "import matplotlib.patches as mpatches\n",
    "import seaborn as sns\n",
    "from matplotlib.backends.backend_pdf import PdfPages\n",
    "from tabulate import tabulate\n",
    "import datetime\n",
    "import tensorflow as tf\n",
    "\n",
    "# hide ipykernel warnings \n",
    "import warnings\n",
    "warnings.filterwarnings('ignore')\n",
    "\n",
    "%matplotlib inline"
   ]
  },
  {
   "cell_type": "code",
   "execution_count": 2,
   "metadata": {},
   "outputs": [],
   "source": [
    "# read in data from csv file to pandas dataframe.  \n",
    "bikeStatic = pd.read_csv('dBikeS.csv',  keep_default_na=True, sep=',\\s+', delimiter=',', skipinitialspace=True)\n",
    "bikeDynamic = pd.read_csv('dBikeD.csv',  keep_default_na=True, sep=',\\s+', delimiter=',', skipinitialspace=True)\n",
    "weather = pd.read_csv('dWeatherD.csv',  keep_default_na=True, sep=',\\s+', delimiter=',', skipinitialspace=True)"
   ]
  },
  {
   "cell_type": "markdown",
   "metadata": {},
   "source": [
    "# 1. Data Quality Report"
   ]
  },
  {
   "cell_type": "markdown",
   "metadata": {},
   "source": [
    " - **Scope of stage 1**\n",
    "     - Data is not dropped unless for rows are duplicated.\n",
    "     - Data within a feature is manipulated only with mathematical operation. Data is not altered with reference to data in other features.\n",
    "     - Null values are not treated/ replaced with a unique name. They are preserved for stage2 operations."
   ]
  },
  {
   "cell_type": "markdown",
   "metadata": {},
   "source": [
    "## 1.1 Data view and formatting for Dublin bike dynamic data"
   ]
  },
  {
   "cell_type": "markdown",
   "metadata": {},
   "source": [
    "### 1.1.1 Check details about number of data samples and attributes in data"
   ]
  },
  {
   "cell_type": "code",
   "execution_count": 3,
   "metadata": {},
   "outputs": [
    {
     "data": {
      "text/plain": [
       "(369160, 8)"
      ]
     },
     "execution_count": 3,
     "metadata": {},
     "output_type": "execute_result"
    }
   ],
   "source": [
    "bikeDynamic.shape"
   ]
  },
  {
   "cell_type": "markdown",
   "metadata": {},
   "source": [
    "### 1.1.2 List sample head and tail rows of data"
   ]
  },
  {
   "cell_type": "markdown",
   "metadata": {},
   "source": [
    "#### Sample first 5 rows "
   ]
  },
  {
   "cell_type": "code",
   "execution_count": 4,
   "metadata": {},
   "outputs": [
    {
     "data": {
      "text/html": [
       "<div>\n",
       "<style scoped>\n",
       "    .dataframe tbody tr th:only-of-type {\n",
       "        vertical-align: middle;\n",
       "    }\n",
       "\n",
       "    .dataframe tbody tr th {\n",
       "        vertical-align: top;\n",
       "    }\n",
       "\n",
       "    .dataframe thead th {\n",
       "        text-align: right;\n",
       "    }\n",
       "</style>\n",
       "<table border=\"1\" class=\"dataframe\">\n",
       "  <thead>\n",
       "    <tr style=\"text-align: right;\">\n",
       "      <th></th>\n",
       "      <th>id_Entry</th>\n",
       "      <th>number</th>\n",
       "      <th>status</th>\n",
       "      <th>bike_stands</th>\n",
       "      <th>available_bike_stands</th>\n",
       "      <th>available_bikes</th>\n",
       "      <th>last_update</th>\n",
       "      <th>data_entry_timestamp</th>\n",
       "    </tr>\n",
       "  </thead>\n",
       "  <tbody>\n",
       "    <tr>\n",
       "      <th>0</th>\n",
       "      <td>1745</td>\n",
       "      <td>42</td>\n",
       "      <td>OPEN</td>\n",
       "      <td>30</td>\n",
       "      <td>17</td>\n",
       "      <td>13</td>\n",
       "      <td>2020-02-28 14:55:41</td>\n",
       "      <td>2020-02-28 15:00:04</td>\n",
       "    </tr>\n",
       "    <tr>\n",
       "      <th>1</th>\n",
       "      <td>1746</td>\n",
       "      <td>30</td>\n",
       "      <td>OPEN</td>\n",
       "      <td>20</td>\n",
       "      <td>16</td>\n",
       "      <td>4</td>\n",
       "      <td>2020-02-28 14:59:32</td>\n",
       "      <td>2020-02-28 15:00:04</td>\n",
       "    </tr>\n",
       "    <tr>\n",
       "      <th>2</th>\n",
       "      <td>1747</td>\n",
       "      <td>54</td>\n",
       "      <td>OPEN</td>\n",
       "      <td>33</td>\n",
       "      <td>22</td>\n",
       "      <td>9</td>\n",
       "      <td>2020-02-28 14:54:01</td>\n",
       "      <td>2020-02-28 15:00:04</td>\n",
       "    </tr>\n",
       "    <tr>\n",
       "      <th>3</th>\n",
       "      <td>1748</td>\n",
       "      <td>108</td>\n",
       "      <td>OPEN</td>\n",
       "      <td>40</td>\n",
       "      <td>37</td>\n",
       "      <td>3</td>\n",
       "      <td>2020-02-28 14:59:44</td>\n",
       "      <td>2020-02-28 15:00:04</td>\n",
       "    </tr>\n",
       "    <tr>\n",
       "      <th>4</th>\n",
       "      <td>1749</td>\n",
       "      <td>56</td>\n",
       "      <td>OPEN</td>\n",
       "      <td>40</td>\n",
       "      <td>13</td>\n",
       "      <td>27</td>\n",
       "      <td>2020-02-28 14:52:20</td>\n",
       "      <td>2020-02-28 15:00:04</td>\n",
       "    </tr>\n",
       "  </tbody>\n",
       "</table>\n",
       "</div>"
      ],
      "text/plain": [
       "   id_Entry  number status  bike_stands  available_bike_stands  \\\n",
       "0      1745      42   OPEN           30                     17   \n",
       "1      1746      30   OPEN           20                     16   \n",
       "2      1747      54   OPEN           33                     22   \n",
       "3      1748     108   OPEN           40                     37   \n",
       "4      1749      56   OPEN           40                     13   \n",
       "\n",
       "   available_bikes          last_update data_entry_timestamp  \n",
       "0               13  2020-02-28 14:55:41  2020-02-28 15:00:04  \n",
       "1                4  2020-02-28 14:59:32  2020-02-28 15:00:04  \n",
       "2                9  2020-02-28 14:54:01  2020-02-28 15:00:04  \n",
       "3                3  2020-02-28 14:59:44  2020-02-28 15:00:04  \n",
       "4               27  2020-02-28 14:52:20  2020-02-28 15:00:04  "
      ]
     },
     "execution_count": 4,
     "metadata": {},
     "output_type": "execute_result"
    }
   ],
   "source": [
    "bikeDynamic.head()"
   ]
  },
  {
   "cell_type": "markdown",
   "metadata": {},
   "source": [
    "#### Sample last 5 rows "
   ]
  },
  {
   "cell_type": "code",
   "execution_count": 5,
   "metadata": {},
   "outputs": [
    {
     "data": {
      "text/html": [
       "<div>\n",
       "<style scoped>\n",
       "    .dataframe tbody tr th:only-of-type {\n",
       "        vertical-align: middle;\n",
       "    }\n",
       "\n",
       "    .dataframe tbody tr th {\n",
       "        vertical-align: top;\n",
       "    }\n",
       "\n",
       "    .dataframe thead th {\n",
       "        text-align: right;\n",
       "    }\n",
       "</style>\n",
       "<table border=\"1\" class=\"dataframe\">\n",
       "  <thead>\n",
       "    <tr style=\"text-align: right;\">\n",
       "      <th></th>\n",
       "      <th>id_Entry</th>\n",
       "      <th>number</th>\n",
       "      <th>status</th>\n",
       "      <th>bike_stands</th>\n",
       "      <th>available_bike_stands</th>\n",
       "      <th>available_bikes</th>\n",
       "      <th>last_update</th>\n",
       "      <th>data_entry_timestamp</th>\n",
       "    </tr>\n",
       "  </thead>\n",
       "  <tbody>\n",
       "    <tr>\n",
       "      <th>369155</th>\n",
       "      <td>370900</td>\n",
       "      <td>39</td>\n",
       "      <td>OPEN</td>\n",
       "      <td>20</td>\n",
       "      <td>6</td>\n",
       "      <td>14</td>\n",
       "      <td>2020-03-24 11:37:49</td>\n",
       "      <td>2020-03-24 11:40:02</td>\n",
       "    </tr>\n",
       "    <tr>\n",
       "      <th>369156</th>\n",
       "      <td>370901</td>\n",
       "      <td>83</td>\n",
       "      <td>OPEN</td>\n",
       "      <td>40</td>\n",
       "      <td>27</td>\n",
       "      <td>13</td>\n",
       "      <td>2020-03-24 11:35:57</td>\n",
       "      <td>2020-03-24 11:40:02</td>\n",
       "    </tr>\n",
       "    <tr>\n",
       "      <th>369157</th>\n",
       "      <td>370902</td>\n",
       "      <td>92</td>\n",
       "      <td>OPEN</td>\n",
       "      <td>40</td>\n",
       "      <td>25</td>\n",
       "      <td>15</td>\n",
       "      <td>2020-03-24 11:38:08</td>\n",
       "      <td>2020-03-24 11:40:02</td>\n",
       "    </tr>\n",
       "    <tr>\n",
       "      <th>369158</th>\n",
       "      <td>370903</td>\n",
       "      <td>21</td>\n",
       "      <td>OPEN</td>\n",
       "      <td>30</td>\n",
       "      <td>22</td>\n",
       "      <td>8</td>\n",
       "      <td>2020-03-24 11:31:46</td>\n",
       "      <td>2020-03-24 11:40:02</td>\n",
       "    </tr>\n",
       "    <tr>\n",
       "      <th>369159</th>\n",
       "      <td>370904</td>\n",
       "      <td>88</td>\n",
       "      <td>OPEN</td>\n",
       "      <td>30</td>\n",
       "      <td>9</td>\n",
       "      <td>21</td>\n",
       "      <td>2020-03-24 11:35:03</td>\n",
       "      <td>2020-03-24 11:40:02</td>\n",
       "    </tr>\n",
       "  </tbody>\n",
       "</table>\n",
       "</div>"
      ],
      "text/plain": [
       "        id_Entry  number status  bike_stands  available_bike_stands  \\\n",
       "369155    370900      39   OPEN           20                      6   \n",
       "369156    370901      83   OPEN           40                     27   \n",
       "369157    370902      92   OPEN           40                     25   \n",
       "369158    370903      21   OPEN           30                     22   \n",
       "369159    370904      88   OPEN           30                      9   \n",
       "\n",
       "        available_bikes          last_update data_entry_timestamp  \n",
       "369155               14  2020-03-24 11:37:49  2020-03-24 11:40:02  \n",
       "369156               13  2020-03-24 11:35:57  2020-03-24 11:40:02  \n",
       "369157               15  2020-03-24 11:38:08  2020-03-24 11:40:02  \n",
       "369158                8  2020-03-24 11:31:46  2020-03-24 11:40:02  \n",
       "369159               21  2020-03-24 11:35:03  2020-03-24 11:40:02  "
      ]
     },
     "execution_count": 5,
     "metadata": {},
     "output_type": "execute_result"
    }
   ],
   "source": [
    "bikeDynamic.tail()"
   ]
  },
  {
   "cell_type": "markdown",
   "metadata": {},
   "source": [
    "**Results**:\n",
    " - Column \"id_Entry\" is possibly a key column uniquely identifying a station.\n",
    " - No duplicate column pairs are present in lay man observation\n",
    " - Spreadsheet program shows that all values logged in database are normal and nothing unregulated found."
   ]
  },
  {
   "cell_type": "markdown",
   "metadata": {},
   "source": [
    "**Observation on spreadsheet state that results for date 28 February and 24 March are patial. Hence, they are to be dropped for data consistency.** "
   ]
  },
  {
   "cell_type": "code",
   "execution_count": 6,
   "metadata": {},
   "outputs": [],
   "source": [
    "#DATETIME DATA\n",
    "\n",
    "# Select columns containing datetime data\n",
    "continous_date_columns = bikeDynamic[['last_update', 'data_entry_timestamp']].columns\n",
    "\n",
    "# Assign object type datetime to columns enlisted in continous_date_columns\n",
    "for column in continous_date_columns:\n",
    "    bikeDynamic[column] = pd.to_datetime(bikeDynamic[column])\n",
    "    \n",
    "d1 = datetime.datetime.strptime('2020-03-24 11:37:49','%Y-%m-%d %H:%M:%S')\n",
    "d2 = datetime.datetime.strptime('2020-02-28 11:37:49','%Y-%m-%d %H:%M:%S')\n",
    "\n",
    "bikeDynamic = bikeDynamic[(bikeDynamic['data_entry_timestamp'].dt.date != d1.date()) & (bikeDynamic['data_entry_timestamp'].dt.date != d2.date())]"
   ]
  },
  {
   "cell_type": "markdown",
   "metadata": {},
   "source": [
    "### 1.1.3 Convert features to apropriate data types"
   ]
  },
  {
   "cell_type": "markdown",
   "metadata": {},
   "source": [
    "#### 1.1.3.1 Count number of distinct values assumed by data for each feature  "
   ]
  },
  {
   "cell_type": "code",
   "execution_count": 7,
   "metadata": {},
   "outputs": [
    {
     "data": {
      "text/html": [
       "<div>\n",
       "<style scoped>\n",
       "    .dataframe tbody tr th:only-of-type {\n",
       "        vertical-align: middle;\n",
       "    }\n",
       "\n",
       "    .dataframe tbody tr th {\n",
       "        vertical-align: top;\n",
       "    }\n",
       "\n",
       "    .dataframe thead th {\n",
       "        text-align: right;\n",
       "    }\n",
       "</style>\n",
       "<table border=\"1\" class=\"dataframe\">\n",
       "  <thead>\n",
       "    <tr style=\"text-align: right;\">\n",
       "      <th></th>\n",
       "      <th>Features</th>\n",
       "      <th>Instances</th>\n",
       "      <th>Unique Instances</th>\n",
       "      <th>unique instances : Total instances</th>\n",
       "    </tr>\n",
       "  </thead>\n",
       "  <tbody>\n",
       "    <tr>\n",
       "      <th>0</th>\n",
       "      <td>id_Entry</td>\n",
       "      <td>355410</td>\n",
       "      <td>355410</td>\n",
       "      <td>1.000000</td>\n",
       "    </tr>\n",
       "    <tr>\n",
       "      <th>1</th>\n",
       "      <td>number</td>\n",
       "      <td>355410</td>\n",
       "      <td>110</td>\n",
       "      <td>0.000310</td>\n",
       "    </tr>\n",
       "    <tr>\n",
       "      <th>2</th>\n",
       "      <td>status</td>\n",
       "      <td>355410</td>\n",
       "      <td>2</td>\n",
       "      <td>0.000006</td>\n",
       "    </tr>\n",
       "    <tr>\n",
       "      <th>3</th>\n",
       "      <td>bike_stands</td>\n",
       "      <td>355410</td>\n",
       "      <td>17</td>\n",
       "      <td>0.000048</td>\n",
       "    </tr>\n",
       "    <tr>\n",
       "      <th>4</th>\n",
       "      <td>available_bike_stands</td>\n",
       "      <td>355410</td>\n",
       "      <td>41</td>\n",
       "      <td>0.000115</td>\n",
       "    </tr>\n",
       "    <tr>\n",
       "      <th>5</th>\n",
       "      <td>available_bikes</td>\n",
       "      <td>355410</td>\n",
       "      <td>41</td>\n",
       "      <td>0.000115</td>\n",
       "    </tr>\n",
       "    <tr>\n",
       "      <th>6</th>\n",
       "      <td>last_update</td>\n",
       "      <td>355410</td>\n",
       "      <td>300353</td>\n",
       "      <td>0.845089</td>\n",
       "    </tr>\n",
       "    <tr>\n",
       "      <th>7</th>\n",
       "      <td>data_entry_timestamp</td>\n",
       "      <td>355410</td>\n",
       "      <td>3231</td>\n",
       "      <td>0.009091</td>\n",
       "    </tr>\n",
       "  </tbody>\n",
       "</table>\n",
       "</div>"
      ],
      "text/plain": [
       "                Features Instances Unique Instances  \\\n",
       "0               id_Entry    355410           355410   \n",
       "1                 number    355410              110   \n",
       "2                 status    355410                2   \n",
       "3            bike_stands    355410               17   \n",
       "4  available_bike_stands    355410               41   \n",
       "5        available_bikes    355410               41   \n",
       "6            last_update    355410           300353   \n",
       "7   data_entry_timestamp    355410             3231   \n",
       "\n",
       "   unique instances : Total instances  \n",
       "0                            1.000000  \n",
       "1                            0.000310  \n",
       "2                            0.000006  \n",
       "3                            0.000048  \n",
       "4                            0.000115  \n",
       "5                            0.000115  \n",
       "6                            0.845089  \n",
       "7                            0.009091  "
      ]
     },
     "execution_count": 7,
     "metadata": {},
     "output_type": "execute_result"
    }
   ],
   "source": [
    "# Gather information related to identifiers for instacnes, count of instances and count of unique instances for all features. \n",
    "# This information is stored into a csv.  \n",
    "\n",
    "bikeDynamic_count = pd.DataFrame(\n",
    "    [column, str(bikeDynamic[column].count()), str(len(bikeDynamic[column].unique())),\\\n",
    "    round((len(bikeDynamic[column].unique()) / bikeDynamic[column].count()),6)] for column in bikeDynamic.columns.values\\\n",
    "    )\n",
    "bikeDynamic_count.columns = ['Features', 'Instances', 'Unique Instances','unique instances : Total instances']\n",
    "\n",
    "bikeDynamic_count"
   ]
  },
  {
   "cell_type": "markdown",
   "metadata": {},
   "source": [
    "#### 1.1.3.2 Enlist preassigned data types "
   ]
  },
  {
   "cell_type": "code",
   "execution_count": 8,
   "metadata": {},
   "outputs": [
    {
     "name": "stdout",
     "output_type": "stream",
     "text": [
      "Feature                Data Type\n",
      "---------------------  --------------\n",
      "id_Entry               int64\n",
      "number                 int64\n",
      "status                 object\n",
      "bike_stands            int64\n",
      "available_bike_stands  int64\n",
      "available_bikes        int64\n",
      "last_update            datetime64[ns]\n",
      "data_entry_timestamp   datetime64[ns] \n",
      "\n",
      "\n",
      "\n"
     ]
    }
   ],
   "source": [
    "print(tabulate(pd.DataFrame(bikeDynamic.dtypes), headers=[\"Feature\", \"Data Type\"]), \"\\n\\n\\n\")"
   ]
  },
  {
   "cell_type": "markdown",
   "metadata": {},
   "source": [
    "#### 1.1.3.3 Decide data types to be assigned to each feature "
   ]
  },
  {
   "cell_type": "markdown",
   "metadata": {},
   "source": [
    " - id_Entry is primary keey for the dataset.\n",
    " - Examination of CSV as a spreadsheet helps to **substantiate speculation** about actual data types: <br>\n",
    "\n",
    "| Features                  | Data Classification| Subtype    | Discription    |\n",
    "|:------------------------- |:------------------ |:---------- |:-------------- | \n",
    "| id_Entry                  | numeric            | discrete | Primary key for database|\n",
    "| number                    | numeric            | discrete | staion id|\n",
    "| status                    | catagorical        | nominal    | station is operational or closed |\n",
    "| bike_stands               | numeric            | discrete   | total number of stands at station|\n",
    "| available_bike_stands     | numeric            | discrete   | available bikes at station|\n",
    "| available_bikes           | numeric            | discrete   | available parking slots at station|\n",
    "| last_update               | datetime           | discrete   | last update to API serivce server by station|\n",
    "| data_entry_timestamp      | datetime           | discrete   | time of data entry into server; not relevent for analysis|"
   ]
  },
  {
   "cell_type": "markdown",
   "metadata": {},
   "source": [
    "#### 1.1.3.4 Convert to decided data type "
   ]
  },
  {
   "cell_type": "code",
   "execution_count": 9,
   "metadata": {},
   "outputs": [],
   "source": [
    "#CATAGORICAL DATA\n",
    "\n",
    "# Select columns containing categorical data\n",
    "categorical_columns = bikeDynamic[['status']].columns\n",
    "\n",
    "# Assign data type category to columns listed in categorical_columns\n",
    "for column in categorical_columns:\n",
    "    bikeDynamic[column] = bikeDynamic[column].astype('category') "
   ]
  },
  {
   "cell_type": "code",
   "execution_count": 10,
   "metadata": {},
   "outputs": [],
   "source": [
    "#CONTINUOUS DATA\n",
    "\n",
    "# Select columns containing continuous data\n",
    "continous_columns = bikeDynamic[['id_Entry', 'number','bike_stands','available_bike_stands','available_bikes']].columns\n",
    "\n",
    "# Assign data type int64 to columns listed in continuous_columns\n",
    "for column in continous_columns:\n",
    "    bikeDynamic[column] = bikeDynamic[column].astype('int64')"
   ]
  },
  {
   "cell_type": "markdown",
   "metadata": {},
   "source": [
    "#### 1.1.3.5 Varify correct data type casting of features "
   ]
  },
  {
   "cell_type": "code",
   "execution_count": 11,
   "metadata": {},
   "outputs": [
    {
     "name": "stdout",
     "output_type": "stream",
     "text": [
      "Feature                Data Type\n",
      "---------------------  --------------\n",
      "id_Entry               int64\n",
      "number                 int64\n",
      "status                 category\n",
      "bike_stands            int64\n",
      "available_bike_stands  int64\n",
      "available_bikes        int64\n",
      "last_update            datetime64[ns]\n",
      "data_entry_timestamp   datetime64[ns] \n",
      "\n",
      "\n",
      "\n"
     ]
    }
   ],
   "source": [
    "print(tabulate(pd.DataFrame(bikeDynamic.dtypes), headers=[\"Feature\", \"Data Type\"]), \"\\n\\n\\n\")"
   ]
  },
  {
   "cell_type": "markdown",
   "metadata": {},
   "source": [
    "### 1.1.4 Drop duplicates"
   ]
  },
  {
   "cell_type": "code",
   "execution_count": 12,
   "metadata": {},
   "outputs": [
    {
     "name": "stdout",
     "output_type": "stream",
     "text": [
      "Number of duplicate (excluding first) rows in the table is:  0\n",
      "Number of duplicate rows (including first) in the table is: 0\n"
     ]
    }
   ],
   "source": [
    "# Check for duplicate rows\n",
    "#Print the number of duplicate rows, without the original rows that were duplicated\n",
    "\n",
    "# Check for duplicate rows for primary key \"id_Entry\"\n",
    "print('Number of duplicate (excluding first) rows in the table is: ', bikeDynamic.duplicated(subset = \"id_Entry\").sum()) \n",
    "\n",
    "# Use \"keep=False\" to mark all duplicates as true, including the original rows that were duplicated.\n",
    "print('Number of duplicate rows (including first) in the table is:', bikeDynamic[bikeDynamic.duplicated(subset = \"id_Entry\",keep=False)].shape[0])\n"
   ]
  },
  {
   "cell_type": "code",
   "execution_count": 13,
   "metadata": {},
   "outputs": [
    {
     "name": "stdout",
     "output_type": "stream",
     "text": [
      "Number of duplicate (excluding first) columns in the table is:  0\n",
      "Number of duplicate (including first) columns in the table is:  0\n"
     ]
    }
   ],
   "source": [
    "# Check for duplicate columns\n",
    "#First transpose the df so columns become rows, then apply the same check as above\n",
    "# Since cardinality of data is huge and ever increasing; and we just need to see if NO DUPLICATES EXIST; hence subset of database is taken.\n",
    "\n",
    "bikeDynamicT = bikeDynamic.head(1000).T\n",
    "\n",
    "# Check for duplicate columns.\n",
    "print(\"Number of duplicate (excluding first) columns in the table is: \", bikeDynamicT.duplicated().sum())\n",
    "\n",
    "#Print the number of duplicates, including the original columns that were duplicated\n",
    "print(\"Number of duplicate (including first) columns in the table is: \",  bikeDynamicT[bikeDynamicT.duplicated(keep=False)].shape[0])"
   ]
  },
  {
   "cell_type": "markdown",
   "metadata": {},
   "source": [
    "**Result : Duplicate columns (features) do exist**\n",
    " - Rows : Duplicate samples do not exist. id_Entry has (unique values : total values ratio) = 1. Logically, its a primary key for the dataset. Hence, duplicacies are checked with its respect and none are found.\n",
    " - Columns : Duplicate samples do not exist. "
   ]
  },
  {
   "cell_type": "markdown",
   "metadata": {},
   "source": [
    "### 1.1.5 Check constant features"
   ]
  },
  {
   "cell_type": "markdown",
   "metadata": {},
   "source": [
    "#### 1.1.5.1 Catagorical features "
   ]
  },
  {
   "cell_type": "code",
   "execution_count": 14,
   "metadata": {},
   "outputs": [
    {
     "data": {
      "text/html": [
       "<div>\n",
       "<style scoped>\n",
       "    .dataframe tbody tr th:only-of-type {\n",
       "        vertical-align: middle;\n",
       "    }\n",
       "\n",
       "    .dataframe tbody tr th {\n",
       "        vertical-align: top;\n",
       "    }\n",
       "\n",
       "    .dataframe thead th {\n",
       "        text-align: right;\n",
       "    }\n",
       "</style>\n",
       "<table border=\"1\" class=\"dataframe\">\n",
       "  <thead>\n",
       "    <tr style=\"text-align: right;\">\n",
       "      <th></th>\n",
       "      <th>count</th>\n",
       "      <th>unique</th>\n",
       "      <th>top</th>\n",
       "      <th>freq</th>\n",
       "    </tr>\n",
       "  </thead>\n",
       "  <tbody>\n",
       "    <tr>\n",
       "      <th>status</th>\n",
       "      <td>355410</td>\n",
       "      <td>2</td>\n",
       "      <td>OPEN</td>\n",
       "      <td>355066</td>\n",
       "    </tr>\n",
       "  </tbody>\n",
       "</table>\n",
       "</div>"
      ],
      "text/plain": [
       "         count unique   top    freq\n",
       "status  355410      2  OPEN  355066"
      ]
     },
     "execution_count": 14,
     "metadata": {},
     "output_type": "execute_result"
    }
   ],
   "source": [
    "# Print table with categorical statistics\n",
    "bikeDynamic.select_dtypes(['category']).describe().T"
   ]
  },
  {
   "cell_type": "markdown",
   "metadata": {},
   "source": [
    "**Categorical Data** \n",
    "- Reviewing the categorical data below we can see all unique values > 1\n",
    "\n"
   ]
  },
  {
   "cell_type": "markdown",
   "metadata": {},
   "source": [
    "#### 1.1.5.2 Continuous features "
   ]
  },
  {
   "cell_type": "code",
   "execution_count": 15,
   "metadata": {},
   "outputs": [
    {
     "data": {
      "text/html": [
       "<div>\n",
       "<style scoped>\n",
       "    .dataframe tbody tr th:only-of-type {\n",
       "        vertical-align: middle;\n",
       "    }\n",
       "\n",
       "    .dataframe tbody tr th {\n",
       "        vertical-align: top;\n",
       "    }\n",
       "\n",
       "    .dataframe thead th {\n",
       "        text-align: right;\n",
       "    }\n",
       "</style>\n",
       "<table border=\"1\" class=\"dataframe\">\n",
       "  <thead>\n",
       "    <tr style=\"text-align: right;\">\n",
       "      <th></th>\n",
       "      <th>count</th>\n",
       "      <th>mean</th>\n",
       "      <th>std</th>\n",
       "      <th>min</th>\n",
       "      <th>25%</th>\n",
       "      <th>50%</th>\n",
       "      <th>75%</th>\n",
       "      <th>max</th>\n",
       "    </tr>\n",
       "  </thead>\n",
       "  <tbody>\n",
       "    <tr>\n",
       "      <th>id_Entry</th>\n",
       "      <td>355410.0</td>\n",
       "      <td>185389.500000</td>\n",
       "      <td>102598.173924</td>\n",
       "      <td>7685.0</td>\n",
       "      <td>96537.25</td>\n",
       "      <td>185389.5</td>\n",
       "      <td>274241.75</td>\n",
       "      <td>363094.0</td>\n",
       "    </tr>\n",
       "    <tr>\n",
       "      <th>number</th>\n",
       "      <td>355410.0</td>\n",
       "      <td>60.518182</td>\n",
       "      <td>33.767631</td>\n",
       "      <td>2.0</td>\n",
       "      <td>31.00</td>\n",
       "      <td>61.5</td>\n",
       "      <td>90.00</td>\n",
       "      <td>117.0</td>\n",
       "    </tr>\n",
       "    <tr>\n",
       "      <th>bike_stands</th>\n",
       "      <td>355410.0</td>\n",
       "      <td>32.181818</td>\n",
       "      <td>7.650539</td>\n",
       "      <td>16.0</td>\n",
       "      <td>29.00</td>\n",
       "      <td>30.0</td>\n",
       "      <td>40.00</td>\n",
       "      <td>40.0</td>\n",
       "    </tr>\n",
       "    <tr>\n",
       "      <th>available_bike_stands</th>\n",
       "      <td>355410.0</td>\n",
       "      <td>20.249658</td>\n",
       "      <td>10.792020</td>\n",
       "      <td>0.0</td>\n",
       "      <td>12.00</td>\n",
       "      <td>20.0</td>\n",
       "      <td>29.00</td>\n",
       "      <td>40.0</td>\n",
       "    </tr>\n",
       "    <tr>\n",
       "      <th>available_bikes</th>\n",
       "      <td>355410.0</td>\n",
       "      <td>11.842146</td>\n",
       "      <td>9.583294</td>\n",
       "      <td>0.0</td>\n",
       "      <td>4.00</td>\n",
       "      <td>10.0</td>\n",
       "      <td>18.00</td>\n",
       "      <td>40.0</td>\n",
       "    </tr>\n",
       "  </tbody>\n",
       "</table>\n",
       "</div>"
      ],
      "text/plain": [
       "                          count           mean            std     min  \\\n",
       "id_Entry               355410.0  185389.500000  102598.173924  7685.0   \n",
       "number                 355410.0      60.518182      33.767631     2.0   \n",
       "bike_stands            355410.0      32.181818       7.650539    16.0   \n",
       "available_bike_stands  355410.0      20.249658      10.792020     0.0   \n",
       "available_bikes        355410.0      11.842146       9.583294     0.0   \n",
       "\n",
       "                            25%       50%        75%       max  \n",
       "id_Entry               96537.25  185389.5  274241.75  363094.0  \n",
       "number                    31.00      61.5      90.00     117.0  \n",
       "bike_stands               29.00      30.0      40.00      40.0  \n",
       "available_bike_stands     12.00      20.0      29.00      40.0  \n",
       "available_bikes            4.00      10.0      18.00      40.0  "
      ]
     },
     "execution_count": 15,
     "metadata": {},
     "output_type": "execute_result"
    }
   ],
   "source": [
    "# Print table with continuous statistics\n",
    "bikeDynamic.select_dtypes(include=['int64']).describe().T"
   ]
  },
  {
   "cell_type": "markdown",
   "metadata": {},
   "source": [
    "**Continuous Data** \n",
    "- No continuous feature has a non zero standard deviation.  \n",
    "- This implies that feature does not contain a single constant value in all of the rows. Thus in this case, none of the continuous features are constant.\n",
    "- Result - No constant columns"
   ]
  },
  {
   "cell_type": "markdown",
   "metadata": {},
   "source": [
    "#### 1.1.5.3 DateTime features "
   ]
  },
  {
   "cell_type": "code",
   "execution_count": 16,
   "metadata": {},
   "outputs": [
    {
     "data": {
      "text/html": [
       "<div>\n",
       "<style scoped>\n",
       "    .dataframe tbody tr th:only-of-type {\n",
       "        vertical-align: middle;\n",
       "    }\n",
       "\n",
       "    .dataframe tbody tr th {\n",
       "        vertical-align: top;\n",
       "    }\n",
       "\n",
       "    .dataframe thead th {\n",
       "        text-align: right;\n",
       "    }\n",
       "</style>\n",
       "<table border=\"1\" class=\"dataframe\">\n",
       "  <thead>\n",
       "    <tr style=\"text-align: right;\">\n",
       "      <th></th>\n",
       "      <th>count</th>\n",
       "      <th>unique</th>\n",
       "      <th>top</th>\n",
       "      <th>freq</th>\n",
       "      <th>first</th>\n",
       "      <th>last</th>\n",
       "    </tr>\n",
       "  </thead>\n",
       "  <tbody>\n",
       "    <tr>\n",
       "      <th>last_update</th>\n",
       "      <td>355410</td>\n",
       "      <td>300353</td>\n",
       "      <td>2020-03-13 21:14:38</td>\n",
       "      <td>116</td>\n",
       "      <td>2020-02-28 22:57:37</td>\n",
       "      <td>2020-03-23 23:49:05</td>\n",
       "    </tr>\n",
       "    <tr>\n",
       "      <th>data_entry_timestamp</th>\n",
       "      <td>355410</td>\n",
       "      <td>3231</td>\n",
       "      <td>2020-03-19 03:40:02</td>\n",
       "      <td>110</td>\n",
       "      <td>2020-02-29 00:00:06</td>\n",
       "      <td>2020-03-23 23:50:02</td>\n",
       "    </tr>\n",
       "  </tbody>\n",
       "</table>\n",
       "</div>"
      ],
      "text/plain": [
       "                       count  unique                 top freq  \\\n",
       "last_update           355410  300353 2020-03-13 21:14:38  116   \n",
       "data_entry_timestamp  355410    3231 2020-03-19 03:40:02  110   \n",
       "\n",
       "                                   first                last  \n",
       "last_update          2020-02-28 22:57:37 2020-03-23 23:49:05  \n",
       "data_entry_timestamp 2020-02-29 00:00:06 2020-03-23 23:50:02  "
      ]
     },
     "execution_count": 16,
     "metadata": {},
     "output_type": "execute_result"
    }
   ],
   "source": [
    "# Print table with continuous statistics\n",
    "bikeDynamic.select_dtypes(include=['datetime']).describe().T"
   ]
  },
  {
   "cell_type": "markdown",
   "metadata": {},
   "source": [
    "**DateTime Data** \n",
    "- Reviewing the datetime data below we can see all unique values > 1 \n",
    "\n",
    "Though this is not catagorical data, it is valid to say that last_update being same for multiple stations is a likely possibility. So is case for data_entry_timestamp; which represents time of data entry into database by data scraper."
   ]
  },
  {
   "cell_type": "markdown",
   "metadata": {},
   "source": [
    "**Result : No constant Features found in dataset**"
   ]
  },
  {
   "cell_type": "markdown",
   "metadata": {},
   "source": [
    "### 1.1.6 Check for null values in features"
   ]
  },
  {
   "cell_type": "code",
   "execution_count": 17,
   "metadata": {},
   "outputs": [
    {
     "name": "stdout",
     "output_type": "stream",
     "text": [
      "Features             Null instances \n",
      "\n",
      "\n"
     ]
    },
    {
     "data": {
      "text/plain": [
       "id_Entry                 0\n",
       "number                   0\n",
       "status                   0\n",
       "bike_stands              0\n",
       "available_bike_stands    0\n",
       "available_bikes          0\n",
       "last_update              0\n",
       "data_entry_timestamp     0\n",
       "dtype: int64"
      ]
     },
     "execution_count": 17,
     "metadata": {},
     "output_type": "execute_result"
    }
   ],
   "source": [
    "print(\"Features\".ljust(20,\" \"),\"Null instances\",\"\\n\\n\")\n",
    "bikeDynamic.isnull().sum()"
   ]
  },
  {
   "cell_type": "markdown",
   "metadata": {},
   "source": [
    "**Result : No null values found**"
   ]
  },
  {
   "cell_type": "markdown",
   "metadata": {},
   "source": [
    "## 1.2 Data cleansing and discriptive statistics"
   ]
  },
  {
   "cell_type": "markdown",
   "metadata": {},
   "source": [
    "### 1.2.1 Varify cardinality "
   ]
  },
  {
   "cell_type": "markdown",
   "metadata": {},
   "source": [
    "#### 1.2.1.1 Catagorical features "
   ]
  },
  {
   "cell_type": "code",
   "execution_count": 18,
   "metadata": {},
   "outputs": [
    {
     "name": "stdout",
     "output_type": "stream",
     "text": [
      "Feature: status \tCardinality: 2 \n",
      " [OPEN, CLOSED]\n",
      "Categories (2, object): [OPEN, CLOSED] \n",
      "\n",
      "\n"
     ]
    }
   ],
   "source": [
    "# Check for irregular cardinality & permitted values in categorical features.\n",
    "columns = list(bikeDynamic.select_dtypes(['category']).columns.values)\n",
    "for column in columns: \n",
    "    print(\"Feature:\",column,\"\\tCardinality:\",str(len(bikeDynamic[column].unique())),\"\\n\",pd.unique(bikeDynamic[column].ravel()),\"\\n\\n\")"
   ]
  },
  {
   "cell_type": "code",
   "execution_count": 19,
   "metadata": {},
   "outputs": [
    {
     "name": "stdout",
     "output_type": "stream",
     "text": [
      "status   Cardinality:2 \n",
      "----------------------\n",
      "\n",
      "Instance      Number of Instances\n",
      "----------  ---------------------\n",
      "OPEN                       355066\n",
      "CLOSED                        344 \n",
      "\n",
      "\n",
      "\n"
     ]
    }
   ],
   "source": [
    "# For each catagorical feature, display the number of instances each of its values has.\n",
    "columns = list(bikeDynamic.select_dtypes(['category']).columns.values)\n",
    "for column in columns:\n",
    "    featureDetail = column+\"   Cardinality:\"+str(len(bikeDynamic[column].unique()))\n",
    "    print(featureDetail,\"\\n{}\\n\".format('-'*len(str(featureDetail))))\n",
    "    print(tabulate(pd.DataFrame(bikeDynamic[column].value_counts().nlargest(15)), headers=[\"Instance\", \"Number of Instances\"]), \"\\n\\n\\n\")\n"
   ]
  },
  {
   "cell_type": "markdown",
   "metadata": {},
   "source": [
    "**Values of cardinality of catagorical features are regular and within normal consideration.** \n",
    " - Almost stations are 'OPEN'.\n",
    " - Only 0.1% times station entry is 'CLOSED'"
   ]
  },
  {
   "cell_type": "markdown",
   "metadata": {},
   "source": [
    "#### 1.2.1.2 Continuous features "
   ]
  },
  {
   "cell_type": "code",
   "execution_count": 20,
   "metadata": {},
   "outputs": [
    {
     "name": "stdout",
     "output_type": "stream",
     "text": [
      "Feature: id_Entry \tCardinality: 355410 \n",
      " [  7685   7686   7687 ... 363092 363093 363094] \n",
      "\n",
      "\n",
      "\n",
      "Feature: number \tCardinality: 110 \n",
      " [  2   3   4   5   6   7   8   9  10  11  12  13  15  16  17  18  19  21\n",
      "  22  23  24  25  26  27  28  29  30  31  32  33  34  36  37  38  39  40\n",
      "  41  42  43  44  45  47  48  49  50  51  52  53  54  55  56  57  58  59\n",
      "  61  62  63  64  65  66  67  68  69  71  72  73  74  75  76  77  78  79\n",
      "  80  81  82  83  84  85  86  87  88  89  90  91  92  93  94  95  96  97\n",
      "  98  99 100 101 102 103 104 105 106 107 108 109 110 111 112 113 114 115\n",
      " 116 117] \n",
      "\n",
      "\n",
      "\n",
      "Feature: bike_stands \tCardinality: 17 \n",
      " [16 20 21 22 23 24 25 27 29 30 31 32 33 35 36 38 40] \n",
      "\n",
      "\n",
      "\n",
      "Feature: available_bike_stands \tCardinality: 41 \n",
      " [ 0  1  2  3  4  5  6  7  8  9 10 11 12 13 14 15 16 17 18 19 20 21 22 23\n",
      " 24 25 26 27 28 29 30 31 32 33 34 35 36 37 38 39 40] \n",
      "\n",
      "\n",
      "\n",
      "Feature: available_bikes \tCardinality: 41 \n",
      " [ 0  1  2  3  4  5  6  7  8  9 10 11 12 13 14 15 16 17 18 19 20 21 22 23\n",
      " 24 25 26 27 28 29 30 31 32 33 34 35 36 37 38 39 40] \n",
      "\n",
      "\n",
      "\n"
     ]
    }
   ],
   "source": [
    "# Check for irregular cardinality & permitted values in continuous features.\n",
    "columns = list(bikeDynamic.select_dtypes(['int64']).columns.values)\n",
    "for column in columns: \n",
    "    print(\"Feature:\",column,\"\\tCardinality:\",str(len(bikeDynamic[column].unique())),\"\\n\",pd.unique(sorted(bikeDynamic[column].ravel())),\"\\n\\n\\n\")"
   ]
  },
  {
   "cell_type": "code",
   "execution_count": 21,
   "metadata": {
    "scrolled": true
   },
   "outputs": [
    {
     "name": "stdout",
     "output_type": "stream",
     "text": [
      "id_Entry \n",
      "--------\n",
      "\n",
      "  Feature    Number of Instances\n",
      "---------  ---------------------\n",
      "     8188                      1\n",
      "   287449                      1\n",
      "   271057                      1\n",
      "   277202                      1\n",
      "   275155                      1\n",
      "   264916                      1\n",
      "   262869                      1\n",
      "   269014                      1\n",
      "   266967                      1\n",
      "   289496                      1\n",
      "   293594                      1\n",
      "   316111                      1\n",
      "   291547                      1\n",
      "   281308                      1\n",
      "   279261                      1 \n",
      "\n",
      "\n",
      "\n",
      "number \n",
      "------\n",
      "\n",
      "  Feature    Number of Instances\n",
      "---------  ---------------------\n",
      "      117                   3231\n",
      "       45                   3231\n",
      "       33                   3231\n",
      "       34                   3231\n",
      "       36                   3231\n",
      "       37                   3231\n",
      "       38                   3231\n",
      "       39                   3231\n",
      "       40                   3231\n",
      "       41                   3231\n",
      "       42                   3231\n",
      "       43                   3231\n",
      "       44                   3231\n",
      "       47                   3231\n",
      "       31                   3231 \n",
      "\n",
      "\n",
      "\n",
      "bike_stands \n",
      "-----------\n",
      "\n",
      "  Feature    Number of Instances\n",
      "---------  ---------------------\n",
      "       40                 138933\n",
      "       30                  87237\n",
      "       20                  51696\n",
      "       29                  12924\n",
      "       38                   9693\n",
      "       35                   6462\n",
      "       25                   6462\n",
      "       23                   6462\n",
      "       36                   6462\n",
      "       16                   6462\n",
      "       33                   3231\n",
      "       32                   3231\n",
      "       31                   3231\n",
      "       27                   3231\n",
      "       24                   3231 \n",
      "\n",
      "\n",
      "\n",
      "available_bike_stands \n",
      "---------------------\n",
      "\n",
      "  Feature    Number of Instances\n",
      "---------  ---------------------\n",
      "       20                  15713\n",
      "       30                  13632\n",
      "       40                  12793\n",
      "       19                  12684\n",
      "       17                  12199\n",
      "       18                  12105\n",
      "       16                  11880\n",
      "       29                  11317\n",
      "       27                  10815\n",
      "       28                  10763\n",
      "       14                  10048\n",
      "       15                   9963\n",
      "       13                   9763\n",
      "       26                   9756\n",
      "       23                   9735 \n",
      "\n",
      "\n",
      "\n",
      "available_bikes \n",
      "---------------\n",
      "\n",
      "  Feature    Number of Instances\n",
      "---------  ---------------------\n",
      "        0                  36620\n",
      "        1                  17788\n",
      "        2                  16171\n",
      "        3                  14873\n",
      "        4                  14343\n",
      "        9                  14273\n",
      "        6                  14053\n",
      "        7                  13839\n",
      "        8                  13592\n",
      "       10                  13546\n",
      "       11                  13496\n",
      "        5                  13048\n",
      "       12                  12804\n",
      "       13                  11438\n",
      "       14                  11377 \n",
      "\n",
      "\n",
      "\n"
     ]
    }
   ],
   "source": [
    "# For each continuous feature, display the number of instances each of its values has.\n",
    "columns = list(bikeDynamic.select_dtypes(['int64']).columns.values)\n",
    "for column in columns:\n",
    "    print(column,\"\\n{}\\n\".format('-'*len(str(column))))\n",
    "    print(tabulate(pd.DataFrame(bikeDynamic[column].value_counts().nlargest(15)), headers=[\"Feature\", \"Number of Instances\"]), \"\\n\\n\\n\")\n"
   ]
  },
  {
   "cell_type": "markdown",
   "metadata": {},
   "source": [
    "**Values of cardinality of Continuous features are regular and within normal consideration.** \n",
    " - No irregularity is found\n",
    " - Refering to quartile ranges and permissible values, it is evident that for both bike_stands, available_bike_stands and available_bikes features: \n",
    "     - On average, nearly 35% of stands have 0 available bikes at any time\n",
    "     - 70% Bike stands have capacity greater than 29; 39% Bike stands have capcity of 40 bikes"
   ]
  },
  {
   "cell_type": "markdown",
   "metadata": {},
   "source": [
    "#### 1.2.1.3 DateTime features "
   ]
  },
  {
   "cell_type": "code",
   "execution_count": 22,
   "metadata": {},
   "outputs": [
    {
     "name": "stdout",
     "output_type": "stream",
     "text": [
      "Feature: last_update \tCardinality: 300353 \n",
      " ['2020-02-28T22:57:37.000000000' '2020-02-28T23:50:00.000000000'\n",
      " '2020-02-28T23:50:12.000000000' ... '2020-03-23T23:48:59.000000000'\n",
      " '2020-03-23T23:49:02.000000000' '2020-03-23T23:49:05.000000000'] \n",
      "\n",
      "\n",
      "\n",
      "Feature: data_entry_timestamp \tCardinality: 3231 \n",
      " ['2020-02-29T00:00:06.000000000' '2020-02-29T00:10:02.000000000'\n",
      " '2020-02-29T00:20:02.000000000' ... '2020-03-23T23:30:02.000000000'\n",
      " '2020-03-23T23:40:02.000000000' '2020-03-23T23:50:02.000000000'] \n",
      "\n",
      "\n",
      "\n"
     ]
    }
   ],
   "source": [
    "# Check for irregular cardinality & permitted values in datetime features.\n",
    "columns = list(bikeDynamic.select_dtypes(['datetime64']).columns.values)\n",
    "for column in columns: \n",
    "    print(\"Feature:\",column,\"\\tCardinality:\",str(len(bikeDynamic[column].unique())),\"\\n\",pd.unique(sorted(bikeDynamic[column].ravel())),\"\\n\\n\\n\")"
   ]
  },
  {
   "cell_type": "code",
   "execution_count": 23,
   "metadata": {
    "scrolled": true
   },
   "outputs": [
    {
     "name": "stdout",
     "output_type": "stream",
     "text": [
      "last_update \n",
      "-----------\n",
      "\n",
      "Feature                Number of Instances\n",
      "-------------------  ---------------------\n",
      "2020-03-13 21:14:38                    116\n",
      "2020-03-06 19:32:44                     41\n",
      "2020-03-14 04:06:25                     40\n",
      "2020-03-16 03:55:32                     21\n",
      "2020-03-16 19:33:46                     18\n",
      "2020-03-12 15:31:12                     16\n",
      "2020-03-16 03:55:04                     15\n",
      "2020-03-16 03:59:52                     15\n",
      "2020-03-13 06:58:33                     15\n",
      "2020-03-16 03:54:54                     14 \n",
      "\n",
      "\n",
      "\n",
      "data_entry_timestamp \n",
      "--------------------\n",
      "\n",
      "Feature                Number of Instances\n",
      "-------------------  ---------------------\n",
      "2020-03-19 03:40:02                    110\n",
      "2020-03-07 22:30:02                    110\n",
      "2020-03-07 07:30:02                    110\n",
      "2020-03-07 05:00:04                    110\n",
      "2020-03-16 00:00:05                    110\n",
      "2020-03-15 20:20:02                    110\n",
      "2020-03-18 06:40:02                    110\n",
      "2020-03-04 23:50:02                    110\n",
      "2020-03-20 16:00:06                    110\n",
      "2020-03-19 15:10:02                    110 \n",
      "\n",
      "\n",
      "\n"
     ]
    }
   ],
   "source": [
    "# For each datetime feature, display the number of instances each of its values has.\n",
    "columns = list(bikeDynamic.select_dtypes(['datetime64']).columns.values)\n",
    "for column in columns:\n",
    "    print(column,\"\\n{}\\n\".format('-'*len(str(column))))\n",
    "    print(tabulate(pd.DataFrame(bikeDynamic[column].value_counts().nlargest(10)), headers=[\"Feature\", \"Number of Instances\"]), \"\\n\\n\\n\")\n"
   ]
  },
  {
   "cell_type": "markdown",
   "metadata": {},
   "source": [
    "**Values of cardinality of DateTime features are regular and within normal consideration.** \n",
    "- As expected, data_entry_timestamp has fixed number of instances for each entry since data is entered for each station exactly once\n",
    "- last_update feature shows 116 instances for a perticular \"2020-03-13 21:14:38\" which is an eye catcher."
   ]
  },
  {
   "cell_type": "markdown",
   "metadata": {},
   "source": [
    "### 1.2.2 Check logical integrity of data "
   ]
  },
  {
   "cell_type": "markdown",
   "metadata": {},
   "source": [
    "**Data integrity is checked for following cases:**\n",
    " - is \"bike_stands\" $>=$ \"available_bike_stands\" $+$ \"available_bikes\"  [Any other sequence is incorrect]\n",
    " - is \"last_update\" $<=$ \"data_entry_timestamp\" [Any other sequence is incorrect]"
   ]
  },
  {
   "cell_type": "markdown",
   "metadata": {},
   "source": [
    "Date of birth for an animal must always be smaller than or equal to date of intake into shelter."
   ]
  },
  {
   "cell_type": "code",
   "execution_count": 24,
   "metadata": {},
   "outputs": [
    {
     "name": "stdout",
     "output_type": "stream",
     "text": [
      "Number of rows failing the test:  18\n"
     ]
    },
    {
     "data": {
      "text/html": [
       "<div>\n",
       "<style scoped>\n",
       "    .dataframe tbody tr th:only-of-type {\n",
       "        vertical-align: middle;\n",
       "    }\n",
       "\n",
       "    .dataframe tbody tr th {\n",
       "        vertical-align: top;\n",
       "    }\n",
       "\n",
       "    .dataframe thead th {\n",
       "        text-align: right;\n",
       "    }\n",
       "</style>\n",
       "<table border=\"1\" class=\"dataframe\">\n",
       "  <thead>\n",
       "    <tr style=\"text-align: right;\">\n",
       "      <th></th>\n",
       "      <th>available_bike_stands</th>\n",
       "      <th>available_bikes</th>\n",
       "      <th>bike_stands</th>\n",
       "    </tr>\n",
       "  </thead>\n",
       "  <tbody>\n",
       "    <tr>\n",
       "      <th>63885</th>\n",
       "      <td>17</td>\n",
       "      <td>0</td>\n",
       "      <td>16</td>\n",
       "    </tr>\n",
       "    <tr>\n",
       "      <th>248795</th>\n",
       "      <td>16</td>\n",
       "      <td>1</td>\n",
       "      <td>16</td>\n",
       "    </tr>\n",
       "    <tr>\n",
       "      <th>248905</th>\n",
       "      <td>16</td>\n",
       "      <td>1</td>\n",
       "      <td>16</td>\n",
       "    </tr>\n",
       "    <tr>\n",
       "      <th>249125</th>\n",
       "      <td>16</td>\n",
       "      <td>1</td>\n",
       "      <td>16</td>\n",
       "    </tr>\n",
       "    <tr>\n",
       "      <th>249235</th>\n",
       "      <td>16</td>\n",
       "      <td>1</td>\n",
       "      <td>16</td>\n",
       "    </tr>\n",
       "  </tbody>\n",
       "</table>\n",
       "</div>"
      ],
      "text/plain": [
       "        available_bike_stands  available_bikes  bike_stands\n",
       "63885                      17                0           16\n",
       "248795                     16                1           16\n",
       "248905                     16                1           16\n",
       "249125                     16                1           16\n",
       "249235                     16                1           16"
      ]
     },
     "execution_count": 24,
     "metadata": {},
     "output_type": "execute_result"
    }
   ],
   "source": [
    "test_1 = bikeDynamic[[\"available_bike_stands\",\"available_bikes\",\"bike_stands\"]][bikeDynamic[\"available_bike_stands\"].add(bikeDynamic[\"available_bikes\"], axis=0)  >  bikeDynamic[\"bike_stands\"]]\n",
    "print(\"Number of rows failing the test: \", test_1.shape[0])\n",
    "test_1.head(5)"
   ]
  },
  {
   "cell_type": "markdown",
   "metadata": {},
   "source": [
    "Date of birth for an animal must always be smaller than or equal to date of Outcome from shelter."
   ]
  },
  {
   "cell_type": "code",
   "execution_count": 25,
   "metadata": {},
   "outputs": [
    {
     "name": "stdout",
     "output_type": "stream",
     "text": [
      "Number of rows failing the test:  0\n"
     ]
    },
    {
     "data": {
      "text/html": [
       "<div>\n",
       "<style scoped>\n",
       "    .dataframe tbody tr th:only-of-type {\n",
       "        vertical-align: middle;\n",
       "    }\n",
       "\n",
       "    .dataframe tbody tr th {\n",
       "        vertical-align: top;\n",
       "    }\n",
       "\n",
       "    .dataframe thead th {\n",
       "        text-align: right;\n",
       "    }\n",
       "</style>\n",
       "<table border=\"1\" class=\"dataframe\">\n",
       "  <thead>\n",
       "    <tr style=\"text-align: right;\">\n",
       "      <th></th>\n",
       "      <th>last_update</th>\n",
       "      <th>data_entry_timestamp</th>\n",
       "    </tr>\n",
       "  </thead>\n",
       "  <tbody>\n",
       "  </tbody>\n",
       "</table>\n",
       "</div>"
      ],
      "text/plain": [
       "Empty DataFrame\n",
       "Columns: [last_update, data_entry_timestamp]\n",
       "Index: []"
      ]
     },
     "execution_count": 25,
     "metadata": {},
     "output_type": "execute_result"
    }
   ],
   "source": [
    "test_2 = bikeDynamic[[\"last_update\",\"data_entry_timestamp\"]][bikeDynamic[\"data_entry_timestamp\"]  <  bikeDynamic[\"last_update\"]]\n",
    "print(\"Number of rows failing the test: \", test_2.shape[0])\n",
    "test_2.head(5)"
   ]
  },
  {
   "cell_type": "markdown",
   "metadata": {},
   "source": [
    "### 1.2.3  Save discriptive statistics into CSV for data quality report"
   ]
  },
  {
   "cell_type": "markdown",
   "metadata": {},
   "source": [
    "#### 1.2.3.1 Discriptive statistics for Catagorical Data"
   ]
  },
  {
   "cell_type": "code",
   "execution_count": 26,
   "metadata": {},
   "outputs": [
    {
     "data": {
      "text/html": [
       "<div>\n",
       "<style scoped>\n",
       "    .dataframe tbody tr th:only-of-type {\n",
       "        vertical-align: middle;\n",
       "    }\n",
       "\n",
       "    .dataframe tbody tr th {\n",
       "        vertical-align: top;\n",
       "    }\n",
       "\n",
       "    .dataframe thead th {\n",
       "        text-align: right;\n",
       "    }\n",
       "</style>\n",
       "<table border=\"1\" class=\"dataframe\">\n",
       "  <thead>\n",
       "    <tr style=\"text-align: right;\">\n",
       "      <th></th>\n",
       "      <th>count</th>\n",
       "      <th>unique</th>\n",
       "      <th>top</th>\n",
       "      <th>freq</th>\n",
       "    </tr>\n",
       "  </thead>\n",
       "  <tbody>\n",
       "    <tr>\n",
       "      <th>status</th>\n",
       "      <td>355410</td>\n",
       "      <td>2</td>\n",
       "      <td>OPEN</td>\n",
       "      <td>355066</td>\n",
       "    </tr>\n",
       "  </tbody>\n",
       "</table>\n",
       "</div>"
      ],
      "text/plain": [
       "         count unique   top    freq\n",
       "status  355410      2  OPEN  355066"
      ]
     },
     "execution_count": 26,
     "metadata": {},
     "output_type": "execute_result"
    }
   ],
   "source": [
    "# Print table with categorical statistics and preserve in a csv\n",
    "dStat_catagorical = bikeDynamic.select_dtypes(['category']).describe().T\n",
    "dStat_catagorical.to_csv(\"categoricalFeatureDescription.csv\")\n",
    "dStat_catagorical"
   ]
  },
  {
   "cell_type": "markdown",
   "metadata": {},
   "source": [
    "#### 1.2.3.2 Discriptive statistics for Continuous Data"
   ]
  },
  {
   "cell_type": "code",
   "execution_count": 27,
   "metadata": {},
   "outputs": [
    {
     "data": {
      "text/html": [
       "<div>\n",
       "<style scoped>\n",
       "    .dataframe tbody tr th:only-of-type {\n",
       "        vertical-align: middle;\n",
       "    }\n",
       "\n",
       "    .dataframe tbody tr th {\n",
       "        vertical-align: top;\n",
       "    }\n",
       "\n",
       "    .dataframe thead th {\n",
       "        text-align: right;\n",
       "    }\n",
       "</style>\n",
       "<table border=\"1\" class=\"dataframe\">\n",
       "  <thead>\n",
       "    <tr style=\"text-align: right;\">\n",
       "      <th></th>\n",
       "      <th>count</th>\n",
       "      <th>mean</th>\n",
       "      <th>std</th>\n",
       "      <th>min</th>\n",
       "      <th>25%</th>\n",
       "      <th>50%</th>\n",
       "      <th>75%</th>\n",
       "      <th>max</th>\n",
       "    </tr>\n",
       "  </thead>\n",
       "  <tbody>\n",
       "    <tr>\n",
       "      <th>id_Entry</th>\n",
       "      <td>355410.0</td>\n",
       "      <td>185389.500000</td>\n",
       "      <td>102598.173924</td>\n",
       "      <td>7685.0</td>\n",
       "      <td>96537.25</td>\n",
       "      <td>185389.5</td>\n",
       "      <td>274241.75</td>\n",
       "      <td>363094.0</td>\n",
       "    </tr>\n",
       "    <tr>\n",
       "      <th>number</th>\n",
       "      <td>355410.0</td>\n",
       "      <td>60.518182</td>\n",
       "      <td>33.767631</td>\n",
       "      <td>2.0</td>\n",
       "      <td>31.00</td>\n",
       "      <td>61.5</td>\n",
       "      <td>90.00</td>\n",
       "      <td>117.0</td>\n",
       "    </tr>\n",
       "    <tr>\n",
       "      <th>bike_stands</th>\n",
       "      <td>355410.0</td>\n",
       "      <td>32.181818</td>\n",
       "      <td>7.650539</td>\n",
       "      <td>16.0</td>\n",
       "      <td>29.00</td>\n",
       "      <td>30.0</td>\n",
       "      <td>40.00</td>\n",
       "      <td>40.0</td>\n",
       "    </tr>\n",
       "    <tr>\n",
       "      <th>available_bike_stands</th>\n",
       "      <td>355410.0</td>\n",
       "      <td>20.249658</td>\n",
       "      <td>10.792020</td>\n",
       "      <td>0.0</td>\n",
       "      <td>12.00</td>\n",
       "      <td>20.0</td>\n",
       "      <td>29.00</td>\n",
       "      <td>40.0</td>\n",
       "    </tr>\n",
       "    <tr>\n",
       "      <th>available_bikes</th>\n",
       "      <td>355410.0</td>\n",
       "      <td>11.842146</td>\n",
       "      <td>9.583294</td>\n",
       "      <td>0.0</td>\n",
       "      <td>4.00</td>\n",
       "      <td>10.0</td>\n",
       "      <td>18.00</td>\n",
       "      <td>40.0</td>\n",
       "    </tr>\n",
       "  </tbody>\n",
       "</table>\n",
       "</div>"
      ],
      "text/plain": [
       "                          count           mean            std     min  \\\n",
       "id_Entry               355410.0  185389.500000  102598.173924  7685.0   \n",
       "number                 355410.0      60.518182      33.767631     2.0   \n",
       "bike_stands            355410.0      32.181818       7.650539    16.0   \n",
       "available_bike_stands  355410.0      20.249658      10.792020     0.0   \n",
       "available_bikes        355410.0      11.842146       9.583294     0.0   \n",
       "\n",
       "                            25%       50%        75%       max  \n",
       "id_Entry               96537.25  185389.5  274241.75  363094.0  \n",
       "number                    31.00      61.5      90.00     117.0  \n",
       "bike_stands               29.00      30.0      40.00      40.0  \n",
       "available_bike_stands     12.00      20.0      29.00      40.0  \n",
       "available_bikes            4.00      10.0      18.00      40.0  "
      ]
     },
     "execution_count": 27,
     "metadata": {},
     "output_type": "execute_result"
    }
   ],
   "source": [
    "# Print table with continuous statistics and preserve in a csv\n",
    "dStat_continuous = bikeDynamic.select_dtypes(['int64']).describe().T\n",
    "dStat_continuous.to_csv(\"continuousFeatureDescription.csv\")\n",
    "dStat_continuous"
   ]
  },
  {
   "cell_type": "markdown",
   "metadata": {},
   "source": [
    "#### 1.2.3.3 Discriptive statistics for DateTime Data"
   ]
  },
  {
   "cell_type": "markdown",
   "metadata": {},
   "source": [
    "#### 1.2.3.4 Save final CSV from stage 1"
   ]
  },
  {
   "cell_type": "code",
   "execution_count": 28,
   "metadata": {},
   "outputs": [
    {
     "data": {
      "text/html": [
       "<div>\n",
       "<style scoped>\n",
       "    .dataframe tbody tr th:only-of-type {\n",
       "        vertical-align: middle;\n",
       "    }\n",
       "\n",
       "    .dataframe tbody tr th {\n",
       "        vertical-align: top;\n",
       "    }\n",
       "\n",
       "    .dataframe thead th {\n",
       "        text-align: right;\n",
       "    }\n",
       "</style>\n",
       "<table border=\"1\" class=\"dataframe\">\n",
       "  <thead>\n",
       "    <tr style=\"text-align: right;\">\n",
       "      <th></th>\n",
       "      <th>count</th>\n",
       "      <th>unique</th>\n",
       "      <th>top</th>\n",
       "      <th>freq</th>\n",
       "      <th>first</th>\n",
       "      <th>last</th>\n",
       "    </tr>\n",
       "  </thead>\n",
       "  <tbody>\n",
       "    <tr>\n",
       "      <th>last_update</th>\n",
       "      <td>355410</td>\n",
       "      <td>300353</td>\n",
       "      <td>2020-03-13 21:14:38</td>\n",
       "      <td>116</td>\n",
       "      <td>2020-02-28 22:57:37</td>\n",
       "      <td>2020-03-23 23:49:05</td>\n",
       "    </tr>\n",
       "    <tr>\n",
       "      <th>data_entry_timestamp</th>\n",
       "      <td>355410</td>\n",
       "      <td>3231</td>\n",
       "      <td>2020-03-19 03:40:02</td>\n",
       "      <td>110</td>\n",
       "      <td>2020-02-29 00:00:06</td>\n",
       "      <td>2020-03-23 23:50:02</td>\n",
       "    </tr>\n",
       "  </tbody>\n",
       "</table>\n",
       "</div>"
      ],
      "text/plain": [
       "                       count  unique                 top freq  \\\n",
       "last_update           355410  300353 2020-03-13 21:14:38  116   \n",
       "data_entry_timestamp  355410    3231 2020-03-19 03:40:02  110   \n",
       "\n",
       "                                   first                last  \n",
       "last_update          2020-02-28 22:57:37 2020-03-23 23:49:05  \n",
       "data_entry_timestamp 2020-02-29 00:00:06 2020-03-23 23:50:02  "
      ]
     },
     "execution_count": 28,
     "metadata": {},
     "output_type": "execute_result"
    }
   ],
   "source": [
    "# Print table with datetime statistics and preserve in a csv\n",
    "dStat_datetime = bikeDynamic.select_dtypes(['datetime64']).describe().T\n",
    "dStat_datetime.to_csv(\"datetimeFeatureDescription.csv\")\n",
    "dStat_datetime"
   ]
  },
  {
   "cell_type": "markdown",
   "metadata": {},
   "source": [
    "## 1.3 Graphs "
   ]
  },
  {
   "cell_type": "markdown",
   "metadata": {},
   "source": [
    "### 1.3.1 Save Histogram summary sheets for Continuous features into  pdf file"
   ]
  },
  {
   "cell_type": "code",
   "execution_count": 29,
   "metadata": {},
   "outputs": [
    {
     "data": {
      "image/png": "[encoded data removed]",
      "text/plain": [
       "<Figure size 2160x720 with 6 Axes>"
      ]
     },
     "metadata": {
      "needs_background": "light"
     },
     "output_type": "display_data"
    }
   ],
   "source": [
    "# Plot a histogram summary sheet of the continuous features and save in a pdf file\n",
    "columns = list(bikeDynamic.select_dtypes(['int64']).columns.values)\n",
    "bikeDynamic[columns].hist(layout=(2, 3), figsize=(30,10), bins=20)\n",
    "plt.savefig('continuous_histograms_1-1.pdf')"
   ]
  },
  {
   "cell_type": "markdown",
   "metadata": {},
   "source": [
    "### 1.3.2 Save Box plot summary sheets for Continuous features into pdf file"
   ]
  },
  {
   "cell_type": "code",
   "execution_count": 30,
   "metadata": {},
   "outputs": [
    {
     "data": {
      "image/png": "[encoded data removed]",
      "text/plain": [
       "<Figure size 2160x1440 with 6 Axes>"
      ]
     },
     "metadata": {
      "needs_background": "light"
     },
     "output_type": "display_data"
    }
   ],
   "source": [
    "# Plot a histogram summary sheet of the continuous features and save in a pdf file\n",
    "columns = list(bikeDynamic.select_dtypes(['int64']).columns.values)\n",
    "bikeDynamic[columns].plot(kind='box', subplots=True, figsize=(30,20), layout=(2,3), sharex=False, sharey=False)\n",
    "plt.savefig('continuous_box_1-1.pdf')"
   ]
  },
  {
   "cell_type": "markdown",
   "metadata": {},
   "source": [
    "### 1.3.5 Save Bar plot summary sheets for Catagorical features into pdf file"
   ]
  },
  {
   "cell_type": "code",
   "execution_count": 31,
   "metadata": {},
   "outputs": [
    {
     "data": {
      "image/png": "[encoded data removed]",
      "text/plain": [
       "<Figure size 576x576 with 1 Axes>"
      ]
     },
     "metadata": {
      "needs_background": "light"
     },
     "output_type": "display_data"
    }
   ],
   "source": [
    "# Plot bar plots for all the catagorical features and save them in a single PDF file\n",
    "columns = list(bikeDynamic.select_dtypes(['category']).columns.values)\n",
    "with PdfPages('categorical_bar_1-1.pdf') as pp:\n",
    "    for column in columns:\n",
    "        f = bikeDynamic[column].value_counts().plot(kind='bar', figsize=(8,8))\n",
    "        plt.title(column)\n",
    "        pp.savefig(f.get_figure())\n",
    "        plt.show()"
   ]
  },
  {
   "cell_type": "markdown",
   "metadata": {},
   "source": [
    "# 2. Data Quality Plan"
   ]
  },
  {
   "cell_type": "markdown",
   "metadata": {},
   "source": [
    "## 2.1 Data findings  "
   ]
  },
  {
   "cell_type": "markdown",
   "metadata": {},
   "source": [
    "### 2.1.1 Summary of list of issues found in Data Quality Report  "
   ]
  },
  {
   "cell_type": "markdown",
   "metadata": {},
   "source": [
    "- test_1 states that 18 entries have bad data regarding total number of bike stands at a station.\n"
   ]
  },
  {
   "cell_type": "markdown",
   "metadata": {},
   "source": [
    "### 2.1.2 Proposed solutions to rectify identified problems   "
   ]
  },
  {
   "cell_type": "markdown",
   "metadata": {},
   "source": [
    "- Replace feature bike_stands with value '255' which is greater than maximum value for feature [40] "
   ]
  },
  {
   "cell_type": "markdown",
   "metadata": {},
   "source": [
    "## 2.2 Apply solutions to address data quality issues"
   ]
  },
  {
   "cell_type": "markdown",
   "metadata": {},
   "source": [
    "### 2.2.1 DateTime Intake > DateTime Outcome"
   ]
  },
  {
   "cell_type": "code",
   "execution_count": 32,
   "metadata": {},
   "outputs": [
    {
     "name": "stdout",
     "output_type": "stream",
     "text": [
      "Number of rows failing the test:  18\n"
     ]
    },
    {
     "data": {
      "text/html": [
       "<div>\n",
       "<style scoped>\n",
       "    .dataframe tbody tr th:only-of-type {\n",
       "        vertical-align: middle;\n",
       "    }\n",
       "\n",
       "    .dataframe tbody tr th {\n",
       "        vertical-align: top;\n",
       "    }\n",
       "\n",
       "    .dataframe thead th {\n",
       "        text-align: right;\n",
       "    }\n",
       "</style>\n",
       "<table border=\"1\" class=\"dataframe\">\n",
       "  <thead>\n",
       "    <tr style=\"text-align: right;\">\n",
       "      <th></th>\n",
       "      <th>id_Entry</th>\n",
       "      <th>available_bike_stands</th>\n",
       "      <th>available_bikes</th>\n",
       "      <th>bike_stands</th>\n",
       "    </tr>\n",
       "  </thead>\n",
       "  <tbody>\n",
       "    <tr>\n",
       "      <th>63885</th>\n",
       "      <td>65630</td>\n",
       "      <td>17</td>\n",
       "      <td>0</td>\n",
       "      <td>16</td>\n",
       "    </tr>\n",
       "    <tr>\n",
       "      <th>248795</th>\n",
       "      <td>250540</td>\n",
       "      <td>16</td>\n",
       "      <td>1</td>\n",
       "      <td>16</td>\n",
       "    </tr>\n",
       "    <tr>\n",
       "      <th>248905</th>\n",
       "      <td>250650</td>\n",
       "      <td>16</td>\n",
       "      <td>1</td>\n",
       "      <td>16</td>\n",
       "    </tr>\n",
       "    <tr>\n",
       "      <th>249125</th>\n",
       "      <td>250870</td>\n",
       "      <td>16</td>\n",
       "      <td>1</td>\n",
       "      <td>16</td>\n",
       "    </tr>\n",
       "    <tr>\n",
       "      <th>249235</th>\n",
       "      <td>250980</td>\n",
       "      <td>16</td>\n",
       "      <td>1</td>\n",
       "      <td>16</td>\n",
       "    </tr>\n",
       "  </tbody>\n",
       "</table>\n",
       "</div>"
      ],
      "text/plain": [
       "        id_Entry  available_bike_stands  available_bikes  bike_stands\n",
       "63885      65630                     17                0           16\n",
       "248795    250540                     16                1           16\n",
       "248905    250650                     16                1           16\n",
       "249125    250870                     16                1           16\n",
       "249235    250980                     16                1           16"
      ]
     },
     "execution_count": 32,
     "metadata": {},
     "output_type": "execute_result"
    }
   ],
   "source": [
    "dTest = bikeDynamic[[\"id_Entry\",\"available_bike_stands\",\"available_bikes\",\"bike_stands\"]][bikeDynamic[\"available_bike_stands\"].add(bikeDynamic[\"available_bikes\"], axis=0)  >  bikeDynamic[\"bike_stands\"]]\n",
    "print(\"Number of rows failing the test: \", dTest.shape[0])\n",
    "dTest.head(5)"
   ]
  },
  {
   "cell_type": "markdown",
   "metadata": {},
   "source": [
    "**Replacing corresponding entries for feature \"bike_stands\":**"
   ]
  },
  {
   "cell_type": "code",
   "execution_count": 33,
   "metadata": {},
   "outputs": [],
   "source": [
    "dTest_1 = dTest[\"id_Entry\"]\n",
    "\n",
    "for data in dTest_1: \n",
    "    bikeDynamic.loc[(bikeDynamic.id_Entry == data),'bike_stands'] = bikeDynamic.loc[(bikeDynamic.id_Entry == data),'available_bikes'] + bikeDynamic.loc[(bikeDynamic.id_Entry == data),'available_bike_stands']"
   ]
  },
  {
   "cell_type": "code",
   "execution_count": 34,
   "metadata": {},
   "outputs": [
    {
     "name": "stdout",
     "output_type": "stream",
     "text": [
      "Number of rows failing the test:  0\n"
     ]
    },
    {
     "data": {
      "text/html": [
       "<div>\n",
       "<style scoped>\n",
       "    .dataframe tbody tr th:only-of-type {\n",
       "        vertical-align: middle;\n",
       "    }\n",
       "\n",
       "    .dataframe tbody tr th {\n",
       "        vertical-align: top;\n",
       "    }\n",
       "\n",
       "    .dataframe thead th {\n",
       "        text-align: right;\n",
       "    }\n",
       "</style>\n",
       "<table border=\"1\" class=\"dataframe\">\n",
       "  <thead>\n",
       "    <tr style=\"text-align: right;\">\n",
       "      <th></th>\n",
       "      <th>id_Entry</th>\n",
       "      <th>available_bike_stands</th>\n",
       "      <th>available_bikes</th>\n",
       "      <th>bike_stands</th>\n",
       "    </tr>\n",
       "  </thead>\n",
       "  <tbody>\n",
       "  </tbody>\n",
       "</table>\n",
       "</div>"
      ],
      "text/plain": [
       "Empty DataFrame\n",
       "Columns: [id_Entry, available_bike_stands, available_bikes, bike_stands]\n",
       "Index: []"
      ]
     },
     "execution_count": 34,
     "metadata": {},
     "output_type": "execute_result"
    }
   ],
   "source": [
    "dTest = bikeDynamic[[\"id_Entry\",\"available_bike_stands\",\"available_bikes\",\"bike_stands\"]][bikeDynamic[\"available_bike_stands\"].add(bikeDynamic[\"available_bikes\"], axis=0)  >  bikeDynamic[\"bike_stands\"]]\n",
    "print(\"Number of rows failing the test: \", dTest.shape[0])\n",
    "dTest.head(5)"
   ]
  },
  {
   "cell_type": "markdown",
   "metadata": {},
   "source": [
    "## 2.3 Summary of data quality plan"
   ]
  },
  {
   "cell_type": "markdown",
   "metadata": {},
   "source": [
    "\n",
    "\n",
    "| Feature                  | Data Quality issue | Solution Strategy    |\n",
    "|:-------------------------|:------------------ |:---------- | \n",
    "| id_Entry                 | [Primary key]      | Do nothing    |\n",
    "| number                   | Nothing            | Do nothing    |\n",
    "| status                   | Nothing            | Do nothing    |\n",
    "| bike_stands              | Value inconsistancy for 18 entires | increment by 1|\n",
    "| available_bike_stands    | Nothing            | Do nothing    |\n",
    "| available_bikes          | Nothing            | Do nothing    |\n",
    "| last_update              | Nothing            | Do nothing    |\n",
    "| data_entry_timestamp     | Nothing            | Do nothing    |\n"
   ]
  },
  {
   "cell_type": "markdown",
   "metadata": {},
   "source": [
    "## 2.4 Save cleaned data to new CSV "
   ]
  },
  {
   "cell_type": "code",
   "execution_count": 35,
   "metadata": {},
   "outputs": [],
   "source": [
    "bikeDynamic.to_csv('dBikeD_2.4_cleaned.csv', index=False, index_label = True)"
   ]
  },
  {
   "cell_type": "markdown",
   "metadata": {},
   "source": [
    "# 3. Feature Exploration"
   ]
  },
  {
   "cell_type": "markdown",
   "metadata": {},
   "source": [
    "## 3.1 Time series view "
   ]
  },
  {
   "cell_type": "code",
   "execution_count": 36,
   "metadata": {
    "scrolled": true
   },
   "outputs": [],
   "source": [
    "# bikeDynamicTS = bikeDynamic\n",
    "# bikeDynamicTS['date_last_update'] = [d.date() for d in bikeDynamicTS['last_update']]\n",
    "# bikeDynamicTS['time_last_update'] = [d.time() for d in bikeDynamicTS['last_update']]\n",
    "# bikeDynamicTS['day_of_week'] = bikeDynamicTS['last_update'].dt.day_name()\n",
    "# bikeDynamicTS['dayNumber'] = bikeDynamicTS['last_update'].dt.dayofweek\n",
    "# bikeDynamicTS.head()"
   ]
  },
  {
   "cell_type": "code",
   "execution_count": 37,
   "metadata": {
    "scrolled": true
   },
   "outputs": [
    {
     "data": {
      "text/html": [
       "<div>\n",
       "<style scoped>\n",
       "    .dataframe tbody tr th:only-of-type {\n",
       "        vertical-align: middle;\n",
       "    }\n",
       "\n",
       "    .dataframe tbody tr th {\n",
       "        vertical-align: top;\n",
       "    }\n",
       "\n",
       "    .dataframe thead th {\n",
       "        text-align: right;\n",
       "    }\n",
       "</style>\n",
       "<table border=\"1\" class=\"dataframe\">\n",
       "  <thead>\n",
       "    <tr style=\"text-align: right;\">\n",
       "      <th></th>\n",
       "      <th>id_Entry</th>\n",
       "      <th>number</th>\n",
       "      <th>status</th>\n",
       "      <th>bike_stands</th>\n",
       "      <th>available_bike_stands</th>\n",
       "      <th>available_bikes</th>\n",
       "      <th>last_update</th>\n",
       "      <th>data_entry_timestamp</th>\n",
       "      <th>date_last_update</th>\n",
       "      <th>time_last_update</th>\n",
       "      <th>day_of_week</th>\n",
       "      <th>dayNumber</th>\n",
       "    </tr>\n",
       "  </thead>\n",
       "  <tbody>\n",
       "    <tr>\n",
       "      <th>5940</th>\n",
       "      <td>7685</td>\n",
       "      <td>42</td>\n",
       "      <td>OPEN</td>\n",
       "      <td>30</td>\n",
       "      <td>10</td>\n",
       "      <td>20</td>\n",
       "      <td>2020-02-28 23:52:29</td>\n",
       "      <td>2020-02-29 00:00:06</td>\n",
       "      <td>2020-02-29</td>\n",
       "      <td>00:00:06</td>\n",
       "      <td>Friday</td>\n",
       "      <td>4</td>\n",
       "    </tr>\n",
       "    <tr>\n",
       "      <th>5941</th>\n",
       "      <td>7686</td>\n",
       "      <td>30</td>\n",
       "      <td>OPEN</td>\n",
       "      <td>20</td>\n",
       "      <td>20</td>\n",
       "      <td>0</td>\n",
       "      <td>2020-02-28 23:53:40</td>\n",
       "      <td>2020-02-29 00:00:06</td>\n",
       "      <td>2020-02-29</td>\n",
       "      <td>00:00:06</td>\n",
       "      <td>Friday</td>\n",
       "      <td>4</td>\n",
       "    </tr>\n",
       "    <tr>\n",
       "      <th>5942</th>\n",
       "      <td>7687</td>\n",
       "      <td>54</td>\n",
       "      <td>OPEN</td>\n",
       "      <td>33</td>\n",
       "      <td>29</td>\n",
       "      <td>4</td>\n",
       "      <td>2020-02-28 23:54:52</td>\n",
       "      <td>2020-02-29 00:00:06</td>\n",
       "      <td>2020-02-29</td>\n",
       "      <td>00:00:06</td>\n",
       "      <td>Friday</td>\n",
       "      <td>4</td>\n",
       "    </tr>\n",
       "    <tr>\n",
       "      <th>5943</th>\n",
       "      <td>7688</td>\n",
       "      <td>108</td>\n",
       "      <td>OPEN</td>\n",
       "      <td>40</td>\n",
       "      <td>31</td>\n",
       "      <td>9</td>\n",
       "      <td>2020-02-28 22:57:37</td>\n",
       "      <td>2020-02-29 00:00:06</td>\n",
       "      <td>2020-02-29</td>\n",
       "      <td>00:00:06</td>\n",
       "      <td>Friday</td>\n",
       "      <td>4</td>\n",
       "    </tr>\n",
       "    <tr>\n",
       "      <th>5944</th>\n",
       "      <td>7689</td>\n",
       "      <td>56</td>\n",
       "      <td>OPEN</td>\n",
       "      <td>40</td>\n",
       "      <td>37</td>\n",
       "      <td>3</td>\n",
       "      <td>2020-02-28 23:50:26</td>\n",
       "      <td>2020-02-29 00:00:06</td>\n",
       "      <td>2020-02-29</td>\n",
       "      <td>00:00:06</td>\n",
       "      <td>Friday</td>\n",
       "      <td>4</td>\n",
       "    </tr>\n",
       "  </tbody>\n",
       "</table>\n",
       "</div>"
      ],
      "text/plain": [
       "      id_Entry  number status  bike_stands  available_bike_stands  \\\n",
       "5940      7685      42   OPEN           30                     10   \n",
       "5941      7686      30   OPEN           20                     20   \n",
       "5942      7687      54   OPEN           33                     29   \n",
       "5943      7688     108   OPEN           40                     31   \n",
       "5944      7689      56   OPEN           40                     37   \n",
       "\n",
       "      available_bikes         last_update data_entry_timestamp  \\\n",
       "5940               20 2020-02-28 23:52:29  2020-02-29 00:00:06   \n",
       "5941                0 2020-02-28 23:53:40  2020-02-29 00:00:06   \n",
       "5942                4 2020-02-28 23:54:52  2020-02-29 00:00:06   \n",
       "5943                9 2020-02-28 22:57:37  2020-02-29 00:00:06   \n",
       "5944                3 2020-02-28 23:50:26  2020-02-29 00:00:06   \n",
       "\n",
       "     date_last_update time_last_update day_of_week  dayNumber  \n",
       "5940       2020-02-29         00:00:06      Friday          4  \n",
       "5941       2020-02-29         00:00:06      Friday          4  \n",
       "5942       2020-02-29         00:00:06      Friday          4  \n",
       "5943       2020-02-29         00:00:06      Friday          4  \n",
       "5944       2020-02-29         00:00:06      Friday          4  "
      ]
     },
     "execution_count": 37,
     "metadata": {},
     "output_type": "execute_result"
    }
   ],
   "source": [
    "bikeDynamicTS = bikeDynamic\n",
    "bikeDynamicTS['date_last_update'] = [d.date() for d in bikeDynamicTS['data_entry_timestamp']]\n",
    "bikeDynamicTS['time_last_update'] = [d.time() for d in bikeDynamicTS['data_entry_timestamp']]\n",
    "bikeDynamicTS['day_of_week'] = bikeDynamicTS['last_update'].dt.day_name()\n",
    "bikeDynamicTS['dayNumber'] = bikeDynamicTS['last_update'].dt.dayofweek\n",
    "bikeDynamicTS.head()"
   ]
  },
  {
   "cell_type": "code",
   "execution_count": 38,
   "metadata": {},
   "outputs": [],
   "source": [
    "# bikeDynamic.to_csv('dBikeD_3.1_cleaned.csv', index=False, index_label = True)"
   ]
  },
  {
   "cell_type": "code",
   "execution_count": 39,
   "metadata": {},
   "outputs": [],
   "source": [
    "bikeDynamic.to_csv('dBikeD_3.1_1_cleaned.csv', index=False, index_label = True)"
   ]
  },
  {
   "cell_type": "code",
   "execution_count": 40,
   "metadata": {},
   "outputs": [
    {
     "name": "stdout",
     "output_type": "stream",
     "text": [
      "[datetime.date(2020, 2, 29) datetime.date(2020, 3, 1)\n",
      " datetime.date(2020, 3, 2) datetime.date(2020, 3, 3)\n",
      " datetime.date(2020, 3, 4) datetime.date(2020, 3, 5)\n",
      " datetime.date(2020, 3, 6) datetime.date(2020, 3, 7)\n",
      " datetime.date(2020, 3, 8) datetime.date(2020, 3, 9)\n",
      " datetime.date(2020, 3, 10) datetime.date(2020, 3, 11)\n",
      " datetime.date(2020, 3, 12) datetime.date(2020, 3, 13)\n",
      " datetime.date(2020, 3, 14) datetime.date(2020, 3, 15)\n",
      " datetime.date(2020, 3, 16) datetime.date(2020, 3, 17)\n",
      " datetime.date(2020, 3, 18) datetime.date(2020, 3, 19)\n",
      " datetime.date(2020, 3, 20) datetime.date(2020, 3, 21)\n",
      " datetime.date(2020, 3, 22) datetime.date(2020, 3, 23)]\n"
     ]
    }
   ],
   "source": [
    "dates = bikeDynamicTS['date_last_update'].unique()\n",
    "print(dates)\n",
    "# time = []\n",
    "# available_bike_stands = []\n",
    "\n",
    "# for date in dates:\n",
    "#     tempTime = bikeDynamicTS.loc[(bikeDynamicTS.date_last_update == date)]['time_last_update'].values.tolist()\n",
    "#     tempStands = bikeDynamicTS.loc[(bikeDynamicTS.date_last_update == date)]['available_bike_stands'].values.tolist() \n",
    "#     time.append(tempTime)\n",
    "#     available_bike_stands.append(tempStands)"
   ]
  },
  {
   "cell_type": "code",
   "execution_count": 41,
   "metadata": {},
   "outputs": [],
   "source": [
    "stationNumbers = bikeDynamicTS['number'].unique()\n",
    "timeT = []\n",
    "dateD = []\n",
    "available_bike_stands = []\n",
    "\n",
    "for station in stationNumbers:\n",
    "    tempTime = bikeDynamicTS.loc[(bikeDynamicTS.number == station)]['time_last_update'].values.tolist()\n",
    "    tempDate = bikeDynamicTS.loc[(bikeDynamicTS.number == station)]['date_last_update'].values.tolist()\n",
    "    tempStands = bikeDynamicTS.loc[(bikeDynamicTS.number == station)]['available_bike_stands'].values.tolist() \n",
    "    timeT.append(tempTime)\n",
    "    dateD.append(tempDate)\n",
    "    available_bike_stands.append(tempStands)"
   ]
  },
  {
   "cell_type": "markdown",
   "metadata": {},
   "source": [
    "### Bikestand availability for a day"
   ]
  },
  {
   "cell_type": "code",
   "execution_count": 42,
   "metadata": {},
   "outputs": [],
   "source": [
    "# t,s = time[0],available_bike_stands[0]\n",
    "\n",
    "# # split_time = len(t)*0.7\n",
    "# split_time = 10\n",
    "# time_train = t[:split_time]\n",
    "# x_train = s[:split_time]\n",
    "# time_valid = t[split_time:]\n",
    "# x_valid = s[split_time:]\n",
    "\n",
    "# plt.plot(x_train)\n",
    "# plt.xticks(range(len(time_train)), time_train)\n",
    "# plt.xlabel('Available stands')\n",
    "# plt.ylabel('Time')\n",
    "# plt.show()"
   ]
  },
  {
   "cell_type": "code",
   "execution_count": 43,
   "metadata": {},
   "outputs": [],
   "source": [
    "# time = [item for sublist in time for item in tempTime]\n",
    "# available_bike_stands = [item for sublist in available_bike_stands for item in sublist]"
   ]
  },
  {
   "cell_type": "code",
   "execution_count": 44,
   "metadata": {},
   "outputs": [],
   "source": [
    "# # split_time = 10\n",
    "# split_time = len(time)*0.7\n",
    "# time_train = time[:split_time]\n",
    "# x_train = available_bike_stands[:split_time]\n",
    "# time_valid = time[split_time:]\n",
    "# x_valid = available_bike_stands[split_time:]\n",
    "\n",
    "# plt.plot(x_train)\n",
    "# plt.xticks(range(len(time_train)), time_train)\n",
    "# plt.xlabel('Available stands')\n",
    "# plt.ylabel('Time')\n",
    "# plt.show()"
   ]
  },
  {
   "cell_type": "code",
   "execution_count": 45,
   "metadata": {},
   "outputs": [
    {
     "data": {
      "image/png": "[encoded data removed]",
      "text/plain": [
       "<Figure size 432x288 with 1 Axes>"
      ]
     },
     "metadata": {
      "needs_background": "light"
     },
     "output_type": "display_data"
    }
   ],
   "source": [
    "time,date,series = timeT[0],dateD[0],available_bike_stands[0]\n",
    "\n",
    "tLen = len(time)\n",
    "split_time = tLen - int(tLen*0.2) \n",
    "time_train = time[:split_time]\n",
    "x_train = series[:split_time]\n",
    "time_valid = time[split_time:]\n",
    "x_valid = series[split_time:]\n",
    "\n",
    "plt.plot(x_train)\n",
    "# plt.xticks(range(len(time_train)), time_train)\n",
    "plt.xlabel('Time')\n",
    "plt.ylabel('Available stands')\n",
    "plt.show()\n",
    "\n",
    "window_size = 30\n",
    "batch_size = 32\n",
    "shuffle_buffer_size = 1000"
   ]
  },
  {
   "cell_type": "code",
   "execution_count": 46,
   "metadata": {},
   "outputs": [],
   "source": [
    "def windowed_dataset(series, window_size, batch_size, shuffle_buffer):\n",
    "    series = tf.expand_dims(series, axis=-1)\n",
    "    ds = tf.data.Dataset.from_tensor_slices(series)\n",
    "    ds = ds.window(window_size + 1, shift=1, drop_remainder=True)\n",
    "    ds = ds.flat_map(lambda w: w.batch(window_size + 1))\n",
    "    ds = ds.shuffle(shuffle_buffer)\n",
    "    ds = ds.map(lambda w: (w[:-1], w[1:]))\n",
    "    return ds.batch(batch_size).prefetch(1)"
   ]
  },
  {
   "cell_type": "code",
   "execution_count": 47,
   "metadata": {},
   "outputs": [],
   "source": [
    "def model_forecast(model, series, window_size):\n",
    "    ds = tf.data.Dataset.from_tensor_slices(series)\n",
    "    ds = ds.window(window_size, shift=1, drop_remainder=True)\n",
    "    ds = ds.flat_map(lambda w: w.batch(window_size))\n",
    "    ds = ds.batch(32).prefetch(1)\n",
    "    forecast = model.predict(ds)\n",
    "    return forecast"
   ]
  },
  {
   "cell_type": "code",
   "execution_count": 48,
   "metadata": {},
   "outputs": [
    {
     "name": "stdout",
     "output_type": "stream",
     "text": [
      "<PrefetchDataset shapes: ((None, None, 1), (None, None, 1)), types: (tf.int32, tf.int32)>\n",
      "Epoch 1/100\n",
      "10/10 [==============================] - 12s 1s/step - loss: 22.2479 - mae: 22.7209\n",
      "Epoch 2/100\n",
      "10/10 [==============================] - 6s 641ms/step - loss: 21.9788 - mae: 22.4480\n",
      "Epoch 3/100\n",
      "10/10 [==============================] - 7s 652ms/step - loss: 21.5573 - mae: 22.0396\n",
      "Epoch 4/100\n",
      "10/10 [==============================] - 6s 635ms/step - loss: 21.0794 - mae: 21.5582\n",
      "Epoch 5/100\n",
      "10/10 [==============================] - 7s 724ms/step - loss: 20.5298 - mae: 21.0157\n",
      "Epoch 6/100\n",
      "10/10 [==============================] - 8s 764ms/step - loss: 19.9288 - mae: 20.4205\n",
      "Epoch 7/100\n",
      "10/10 [==============================] - 7s 743ms/step - loss: 19.2778 - mae: 19.7744\n",
      "Epoch 8/100\n",
      "10/10 [==============================] - 8s 768ms/step - loss: 18.5705 - mae: 19.0582\n",
      "Epoch 9/100\n",
      "10/10 [==============================] - 8s 760ms/step - loss: 17.7824 - mae: 18.2761\n",
      "Epoch 10/100\n",
      "10/10 [==============================] - 8s 772ms/step - loss: 16.9274 - mae: 17.4209\n",
      "Epoch 11/100\n",
      "10/10 [==============================] - 8s 761ms/step - loss: 15.9826 - mae: 16.4869\n",
      "Epoch 12/100\n",
      "10/10 [==============================] - 8s 756ms/step - loss: 14.9680 - mae: 15.4537\n",
      "Epoch 13/100\n",
      "10/10 [==============================] - 8s 766ms/step - loss: 13.8298 - mae: 14.3376\n",
      "Epoch 14/100\n",
      "10/10 [==============================] - 8s 775ms/step - loss: 12.6184 - mae: 13.1222\n",
      "Epoch 15/100\n",
      "10/10 [==============================] - 8s 780ms/step - loss: 11.3499 - mae: 11.8442\n",
      "Epoch 16/100\n",
      "10/10 [==============================] - 8s 765ms/step - loss: 10.0696 - mae: 10.5724\n",
      "Epoch 17/100\n",
      "10/10 [==============================] - 8s 752ms/step - loss: 8.8622 - mae: 9.3601\n",
      "Epoch 18/100\n",
      "10/10 [==============================] - 8s 790ms/step - loss: 7.8080 - mae: 8.3063\n",
      "Epoch 19/100\n",
      "10/10 [==============================] - 8s 784ms/step - loss: 7.0710 - mae: 7.5582\n",
      "Epoch 20/100\n",
      "10/10 [==============================] - 8s 777ms/step - loss: 6.6236 - mae: 7.1079\n",
      "Epoch 21/100\n",
      "10/10 [==============================] - 8s 773ms/step - loss: 6.2859 - mae: 6.7711\n",
      "Epoch 22/100\n",
      "10/10 [==============================] - 8s 783ms/step - loss: 5.9441 - mae: 6.4275\n",
      "Epoch 23/100\n",
      "10/10 [==============================] - 8s 788ms/step - loss: 5.6165 - mae: 6.0901\n",
      "Epoch 24/100\n",
      "10/10 [==============================] - 8s 802ms/step - loss: 5.3167 - mae: 5.7864\n",
      "Epoch 25/100\n",
      "10/10 [==============================] - 8s 777ms/step - loss: 5.0456 - mae: 5.5050\n",
      "Epoch 26/100\n",
      "10/10 [==============================] - 8s 784ms/step - loss: 4.7943 - mae: 5.2499\n",
      "Epoch 27/100\n",
      "10/10 [==============================] - 8s 783ms/step - loss: 4.5605 - mae: 5.0201\n",
      "Epoch 28/100\n",
      "10/10 [==============================] - 8s 768ms/step - loss: 4.3034 - mae: 4.7655\n",
      "Epoch 29/100\n",
      "10/10 [==============================] - 8s 786ms/step - loss: 3.9113 - mae: 4.3680\n",
      "Epoch 30/100\n",
      "10/10 [==============================] - 8s 793ms/step - loss: 3.6340 - mae: 4.0875\n",
      "Epoch 31/100\n",
      "10/10 [==============================] - 8s 762ms/step - loss: 3.3824 - mae: 3.8349\n",
      "Epoch 32/100\n",
      "10/10 [==============================] - 8s 779ms/step - loss: 3.1587 - mae: 3.6117\n",
      "Epoch 33/100\n",
      "10/10 [==============================] - 8s 771ms/step - loss: 3.0202 - mae: 3.4663\n",
      "Epoch 34/100\n",
      "10/10 [==============================] - 8s 774ms/step - loss: 2.9154 - mae: 3.3607\n",
      "Epoch 35/100\n",
      "10/10 [==============================] - 8s 776ms/step - loss: 2.8045 - mae: 3.2488\n",
      "Epoch 36/100\n",
      "10/10 [==============================] - 8s 781ms/step - loss: 2.7188 - mae: 3.1608\n",
      "Epoch 37/100\n",
      "10/10 [==============================] - 8s 757ms/step - loss: 2.6401 - mae: 3.0842\n",
      "Epoch 38/100\n",
      "10/10 [==============================] - 8s 799ms/step - loss: 2.5736 - mae: 3.0166\n",
      "Epoch 39/100\n",
      "10/10 [==============================] - 8s 801ms/step - loss: 2.5074 - mae: 2.9514\n",
      "Epoch 40/100\n",
      "10/10 [==============================] - 8s 765ms/step - loss: 2.4448 - mae: 2.8902\n",
      "Epoch 41/100\n",
      "10/10 [==============================] - 8s 785ms/step - loss: 2.3804 - mae: 2.8255\n",
      "Epoch 42/100\n",
      "10/10 [==============================] - 8s 781ms/step - loss: 2.3216 - mae: 2.7656\n",
      "Epoch 43/100\n",
      "10/10 [==============================] - 8s 767ms/step - loss: 2.2577 - mae: 2.7005\n",
      "Epoch 44/100\n",
      "10/10 [==============================] - 8s 797ms/step - loss: 2.1953 - mae: 2.6381\n",
      "Epoch 45/100\n",
      "10/10 [==============================] - 8s 790ms/step - loss: 2.1334 - mae: 2.5740\n",
      "Epoch 46/100\n",
      "10/10 [==============================] - 8s 767ms/step - loss: 2.0770 - mae: 2.5155\n",
      "Epoch 47/100\n",
      "10/10 [==============================] - 8s 782ms/step - loss: 2.0327 - mae: 2.4701\n",
      "Epoch 48/100\n",
      "10/10 [==============================] - 8s 769ms/step - loss: 1.9678 - mae: 2.4028\n",
      "Epoch 49/100\n",
      "10/10 [==============================] - 8s 765ms/step - loss: 1.9068 - mae: 2.3400\n",
      "Epoch 50/100\n",
      "10/10 [==============================] - 8s 768ms/step - loss: 1.8535 - mae: 2.2829\n",
      "Epoch 51/100\n",
      "10/10 [==============================] - 7s 748ms/step - loss: 1.8160 - mae: 2.2436\n",
      "Epoch 52/100\n",
      "10/10 [==============================] - 8s 762ms/step - loss: 1.7588 - mae: 2.1852\n",
      "Epoch 53/100\n",
      "10/10 [==============================] - 8s 788ms/step - loss: 1.7135 - mae: 2.1406\n",
      "Epoch 54/100\n",
      "10/10 [==============================] - 8s 782ms/step - loss: 1.6253 - mae: 2.0479\n",
      "Epoch 55/100\n",
      "10/10 [==============================] - 8s 781ms/step - loss: 1.6156 - mae: 2.0394\n",
      "Epoch 56/100\n",
      "10/10 [==============================] - 8s 778ms/step - loss: 1.5686 - mae: 1.9919\n",
      "Epoch 57/100\n",
      "10/10 [==============================] - 8s 785ms/step - loss: 1.5900 - mae: 2.0176\n",
      "Epoch 58/100\n",
      "10/10 [==============================] - 8s 773ms/step - loss: 1.6810 - mae: 2.1149\n",
      "Epoch 59/100\n",
      "10/10 [==============================] - 8s 789ms/step - loss: 1.7107 - mae: 2.1402\n",
      "Epoch 60/100\n",
      "10/10 [==============================] - 8s 784ms/step - loss: 1.8597 - mae: 2.3022\n",
      "Epoch 61/100\n",
      "10/10 [==============================] - 8s 761ms/step - loss: 1.8830 - mae: 2.3332\n",
      "Epoch 62/100\n",
      "10/10 [==============================] - 8s 784ms/step - loss: 2.1289 - mae: 2.5680\n",
      "Epoch 63/100\n",
      "10/10 [==============================] - 8s 790ms/step - loss: 2.7587 - mae: 3.1918\n",
      "Epoch 64/100\n",
      "10/10 [==============================] - 8s 766ms/step - loss: 3.6773 - mae: 4.0989\n",
      "Epoch 65/100\n",
      "10/10 [==============================] - 8s 783ms/step - loss: 2.9481 - mae: 3.4070\n",
      "Epoch 66/100\n",
      "10/10 [==============================] - 8s 786ms/step - loss: 2.6773 - mae: 3.1400\n",
      "Epoch 67/100\n",
      "10/10 [==============================] - 8s 761ms/step - loss: 2.3739 - mae: 2.8293\n",
      "Epoch 68/100\n",
      "10/10 [==============================] - 8s 762ms/step - loss: 2.7160 - mae: 3.1307\n",
      "Epoch 69/100\n",
      "10/10 [==============================] - 8s 777ms/step - loss: 2.9922 - mae: 3.4773\n",
      "Epoch 70/100\n",
      "10/10 [==============================] - 8s 770ms/step - loss: 2.7138 - mae: 3.1760\n",
      "Epoch 71/100\n",
      "10/10 [==============================] - 8s 781ms/step - loss: 3.5960 - mae: 4.0867\n",
      "Epoch 72/100\n",
      "10/10 [==============================] - 8s 780ms/step - loss: 5.9531 - mae: 6.4583\n",
      "Epoch 73/100\n",
      "10/10 [==============================] - 8s 754ms/step - loss: 5.9452 - mae: 6.4450\n",
      "Epoch 74/100\n",
      "10/10 [==============================] - 8s 786ms/step - loss: 3.4847 - mae: 3.9602\n",
      "Epoch 75/100\n",
      "10/10 [==============================] - 8s 800ms/step - loss: 3.7086 - mae: 4.1661\n",
      "Epoch 76/100\n",
      "10/10 [==============================] - 8s 779ms/step - loss: 3.3631 - mae: 3.8319\n",
      "Epoch 77/100\n",
      "10/10 [==============================] - 8s 789ms/step - loss: 6.2811 - mae: 6.7822\n",
      "Epoch 78/100\n",
      "10/10 [==============================] - 8s 768ms/step - loss: 2.7044 - mae: 3.1644\n",
      "Epoch 79/100\n",
      "10/10 [==============================] - 8s 768ms/step - loss: 3.3265 - mae: 3.8111\n",
      "Epoch 80/100\n",
      "10/10 [==============================] - 8s 751ms/step - loss: 3.2500 - mae: 3.7476\n",
      "Epoch 81/100\n",
      "10/10 [==============================] - 8s 798ms/step - loss: 8.0095 - mae: 8.3531\n",
      "Epoch 82/100\n",
      "10/10 [==============================] - 8s 764ms/step - loss: 11.1979 - mae: 11.7525\n",
      "Epoch 83/100\n",
      "10/10 [==============================] - 8s 795ms/step - loss: 10.0848 - mae: 10.5575\n",
      "Epoch 84/100\n"
     ]
    },
    {
     "name": "stdout",
     "output_type": "stream",
     "text": [
      "10/10 [==============================] - 8s 778ms/step - loss: 12.0429 - mae: 12.6047\n",
      "Epoch 85/100\n",
      "10/10 [==============================] - 8s 780ms/step - loss: 12.9255 - mae: 13.4081\n",
      "Epoch 86/100\n",
      "10/10 [==============================] - 8s 786ms/step - loss: 8.6556 - mae: 9.1179\n",
      "Epoch 87/100\n",
      "10/10 [==============================] - 8s 797ms/step - loss: 8.5199 - mae: 9.0815\n",
      "Epoch 88/100\n",
      "10/10 [==============================] - 8s 762ms/step - loss: 22.1389 - mae: 22.4087\n",
      "Epoch 89/100\n",
      "10/10 [==============================] - 8s 768ms/step - loss: 55.6422 - mae: 55.2655\n",
      "Epoch 90/100\n",
      "10/10 [==============================] - 8s 783ms/step - loss: 39.1017 - mae: 39.7977\n",
      "Epoch 91/100\n",
      "10/10 [==============================] - 8s 774ms/step - loss: 26.5417 - mae: 27.3291\n",
      "Epoch 92/100\n",
      "10/10 [==============================] - 8s 800ms/step - loss: 14.3252 - mae: 14.9521\n",
      "Epoch 93/100\n",
      "10/10 [==============================] - 8s 796ms/step - loss: 20.3510 - mae: 20.7971\n",
      "Epoch 94/100\n",
      "10/10 [==============================] - 8s 765ms/step - loss: 39.0951 - mae: 39.8811\n",
      "Epoch 95/100\n",
      "10/10 [==============================] - 8s 788ms/step - loss: 38.9018 - mae: 39.3860\n",
      "Epoch 96/100\n",
      "10/10 [==============================] - 8s 787ms/step - loss: 46.7505 - mae: 47.3009\n",
      "Epoch 97/100\n",
      "10/10 [==============================] - 8s 759ms/step - loss: 52.5798 - mae: 52.8442\n",
      "Epoch 98/100\n",
      "10/10 [==============================] - 8s 784ms/step - loss: 59.2584 - mae: 59.8842\n",
      "Epoch 99/100\n",
      "10/10 [==============================] - 8s 772ms/step - loss: 66.1635 - mae: 66.3765\n",
      "Epoch 100/100\n",
      "10/10 [==============================] - 7s 738ms/step - loss: 74.2307 - mae: 74.8500\n"
     ]
    }
   ],
   "source": [
    "tf.keras.backend.clear_session()\n",
    "tf.random.set_seed(51)\n",
    "np.random.seed(51)\n",
    "window_size = 64\n",
    "batch_size = 256\n",
    "train_set = windowed_dataset(x_train, window_size, batch_size, shuffle_buffer_size)\n",
    "print(train_set)\n",
    "# print(x_train.shape)\n",
    "\n",
    "model = tf.keras.models.Sequential([\n",
    "  tf.keras.layers.Conv1D(filters=32, kernel_size=5,\n",
    "                      strides=1, padding=\"causal\",\n",
    "                      activation=\"relu\",\n",
    "                      input_shape=[None, 1]),\n",
    "  tf.keras.layers.LSTM(64, return_sequences=True),\n",
    "  tf.keras.layers.LSTM(64, return_sequences=True),\n",
    "  tf.keras.layers.Dense(30, activation=\"relu\"),\n",
    "  tf.keras.layers.Dense(10, activation=\"relu\"),\n",
    "  tf.keras.layers.Dense(1),\n",
    "  tf.keras.layers.Lambda(lambda x: x * 400)\n",
    "])\n",
    "\n",
    "lr_schedule = tf.keras.callbacks.LearningRateScheduler(\n",
    "    lambda epoch: 1e-8 * 10**(epoch / 20))\n",
    "optimizer = tf.keras.optimizers.SGD(lr=1e-8, momentum=0.9)\n",
    "model.compile(loss=tf.keras.losses.Huber(),\n",
    "              optimizer=optimizer,\n",
    "              metrics=[\"mae\"])\n",
    "history = model.fit(train_set, epochs=100, callbacks=[lr_schedule])"
   ]
  },
  {
   "cell_type": "code",
   "execution_count": 49,
   "metadata": {},
   "outputs": [
    {
     "data": {
      "text/plain": [
       "[1e-08, 0.0001, 0, 60]"
      ]
     },
     "execution_count": 49,
     "metadata": {},
     "output_type": "execute_result"
    },
    {
     "data": {
      "image/png": "[encoded data removed]",
      "text/plain": [
       "<Figure size 432x288 with 1 Axes>"
      ]
     },
     "metadata": {
      "needs_background": "light"
     },
     "output_type": "display_data"
    }
   ],
   "source": [
    "plt.semilogx(history.history[\"lr\"], history.history[\"loss\"])\n",
    "plt.axis([1e-8, 1e-4, 0, 60])"
   ]
  },
  {
   "cell_type": "code",
   "execution_count": 50,
   "metadata": {},
   "outputs": [
    {
     "name": "stdout",
     "output_type": "stream",
     "text": [
      "Epoch 1/500\n",
      "26/26 [==============================] - 13s 505ms/step - loss: 8.0975 - mae: 8.7344\n",
      "Epoch 2/500\n",
      "26/26 [==============================] - 8s 314ms/step - loss: 2.3172 - mae: 2.7773\n",
      "Epoch 3/500\n",
      "26/26 [==============================] - 9s 329ms/step - loss: 1.4996 - mae: 1.9311\n",
      "Epoch 4/500\n",
      "26/26 [==============================] - 9s 331ms/step - loss: 1.2435 - mae: 1.6476\n",
      "Epoch 5/500\n",
      "26/26 [==============================] - 9s 327ms/step - loss: 1.1545 - mae: 1.5490\n",
      "Epoch 6/500\n",
      "26/26 [==============================] - 9s 332ms/step - loss: 1.0792 - mae: 1.4750\n",
      "Epoch 7/500\n",
      "26/26 [==============================] - 9s 330ms/step - loss: 1.0366 - mae: 1.4310\n",
      "Epoch 8/500\n",
      "26/26 [==============================] - 8s 325ms/step - loss: 1.0116 - mae: 1.4045\n",
      "Epoch 9/500\n",
      "26/26 [==============================] - 8s 326ms/step - loss: 0.9673 - mae: 1.3537\n",
      "Epoch 10/500\n",
      "26/26 [==============================] - 8s 317ms/step - loss: 0.9335 - mae: 1.3158\n",
      "Epoch 11/500\n",
      "26/26 [==============================] - 8s 308ms/step - loss: 0.9071 - mae: 1.2931\n",
      "Epoch 12/500\n",
      "26/26 [==============================] - 9s 328ms/step - loss: 0.8861 - mae: 1.2593\n",
      "Epoch 13/500\n",
      "26/26 [==============================] - 8s 323ms/step - loss: 0.8771 - mae: 1.2597\n",
      "Epoch 14/500\n",
      "26/26 [==============================] - 9s 335ms/step - loss: 0.8455 - mae: 1.2202\n",
      "Epoch 15/500\n",
      "26/26 [==============================] - 9s 330ms/step - loss: 0.8825 - mae: 1.2748\n",
      "Epoch 16/500\n",
      "26/26 [==============================] - 9s 339ms/step - loss: 0.8298 - mae: 1.2060\n",
      "Epoch 17/500\n",
      "26/26 [==============================] - 9s 339ms/step - loss: 0.8098 - mae: 1.1813\n",
      "Epoch 18/500\n",
      "26/26 [==============================] - 9s 335ms/step - loss: 0.7854 - mae: 1.1599\n",
      "Epoch 19/500\n",
      "26/26 [==============================] - 8s 326ms/step - loss: 0.7786 - mae: 1.1462\n",
      "Epoch 20/500\n",
      "26/26 [==============================] - 9s 328ms/step - loss: 0.7766 - mae: 1.1472\n",
      "Epoch 21/500\n",
      "26/26 [==============================] - 9s 333ms/step - loss: 0.7736 - mae: 1.1496\n",
      "Epoch 22/500\n",
      "26/26 [==============================] - 9s 331ms/step - loss: 0.7535 - mae: 1.1225\n",
      "Epoch 23/500\n",
      "26/26 [==============================] - 9s 332ms/step - loss: 0.7489 - mae: 1.1179\n",
      "Epoch 24/500\n",
      "26/26 [==============================] - 9s 336ms/step - loss: 0.7460 - mae: 1.1185\n",
      "Epoch 25/500\n",
      "26/26 [==============================] - 8s 313ms/step - loss: 0.7231 - mae: 1.0923\n",
      "Epoch 26/500\n",
      "26/26 [==============================] - 9s 330ms/step - loss: 0.7325 - mae: 1.0992\n",
      "Epoch 27/500\n",
      "26/26 [==============================] - 9s 334ms/step - loss: 0.8409 - mae: 1.2347\n",
      "Epoch 28/500\n",
      "26/26 [==============================] - 9s 327ms/step - loss: 0.7784 - mae: 1.1659\n",
      "Epoch 29/500\n",
      "26/26 [==============================] - 9s 333ms/step - loss: 0.7343 - mae: 1.1134\n",
      "Epoch 30/500\n",
      "26/26 [==============================] - 8s 316ms/step - loss: 0.7090 - mae: 1.0754\n",
      "Epoch 31/500\n",
      "26/26 [==============================] - 9s 334ms/step - loss: 0.7028 - mae: 1.0735\n",
      "Epoch 32/500\n",
      "26/26 [==============================] - 9s 329ms/step - loss: 0.6932 - mae: 1.0616\n",
      "Epoch 33/500\n",
      "26/26 [==============================] - 9s 327ms/step - loss: 0.7140 - mae: 1.0851\n",
      "Epoch 34/500\n",
      "26/26 [==============================] - 8s 326ms/step - loss: 0.6733 - mae: 1.0351\n",
      "Epoch 35/500\n",
      "26/26 [==============================] - 9s 329ms/step - loss: 0.6595 - mae: 1.0173\n",
      "Epoch 36/500\n",
      "26/26 [==============================] - 9s 330ms/step - loss: 0.6511 - mae: 1.0030\n",
      "Epoch 37/500\n",
      "26/26 [==============================] - 9s 328ms/step - loss: 0.6868 - mae: 1.0569\n",
      "Epoch 38/500\n",
      "26/26 [==============================] - 8s 325ms/step - loss: 0.6586 - mae: 1.0175\n",
      "Epoch 39/500\n",
      "26/26 [==============================] - 8s 317ms/step - loss: 0.6541 - mae: 1.0150\n",
      "Epoch 40/500\n",
      "26/26 [==============================] - 9s 334ms/step - loss: 0.6661 - mae: 1.0300\n",
      "Epoch 41/500\n",
      "26/26 [==============================] - 9s 328ms/step - loss: 0.7190 - mae: 1.1026\n",
      "Epoch 42/500\n",
      "26/26 [==============================] - 9s 330ms/step - loss: 0.6888 - mae: 1.0686\n",
      "Epoch 43/500\n",
      "26/26 [==============================] - 9s 334ms/step - loss: 0.6352 - mae: 0.9937\n",
      "Epoch 44/500\n",
      "26/26 [==============================] - 9s 331ms/step - loss: 0.6389 - mae: 0.9986\n",
      "Epoch 45/500\n",
      "26/26 [==============================] - 8s 319ms/step - loss: 0.6110 - mae: 0.9551\n",
      "Epoch 46/500\n",
      "26/26 [==============================] - 9s 339ms/step - loss: 0.6623 - mae: 1.0330\n",
      "Epoch 47/500\n",
      "26/26 [==============================] - 8s 327ms/step - loss: 0.6740 - mae: 1.0507\n",
      "Epoch 48/500\n",
      "26/26 [==============================] - 9s 335ms/step - loss: 0.6660 - mae: 1.0333\n",
      "Epoch 49/500\n",
      "26/26 [==============================] - 9s 332ms/step - loss: 0.6223 - mae: 0.9730\n",
      "Epoch 50/500\n",
      "26/26 [==============================] - 9s 340ms/step - loss: 0.6237 - mae: 0.9806\n",
      "Epoch 51/500\n",
      "26/26 [==============================] - 8s 314ms/step - loss: 0.6025 - mae: 0.9470\n",
      "Epoch 52/500\n",
      "26/26 [==============================] - 9s 332ms/step - loss: 0.7411 - mae: 1.1103\n",
      "Epoch 53/500\n",
      "26/26 [==============================] - 8s 315ms/step - loss: 0.7241 - mae: 1.1081\n",
      "Epoch 54/500\n",
      "26/26 [==============================] - 9s 332ms/step - loss: 0.6348 - mae: 0.9968\n",
      "Epoch 55/500\n",
      "26/26 [==============================] - 9s 338ms/step - loss: 0.6054 - mae: 0.9538\n",
      "Epoch 56/500\n",
      "26/26 [==============================] - 9s 335ms/step - loss: 0.6143 - mae: 0.9733\n",
      "Epoch 57/500\n",
      "26/26 [==============================] - 9s 331ms/step - loss: 0.6282 - mae: 0.9896\n",
      "Epoch 58/500\n",
      "26/26 [==============================] - 9s 332ms/step - loss: 0.6396 - mae: 1.0094\n",
      "Epoch 59/500\n",
      "26/26 [==============================] - 8s 323ms/step - loss: 0.5831 - mae: 0.9230\n",
      "Epoch 60/500\n",
      "26/26 [==============================] - 9s 336ms/step - loss: 0.5768 - mae: 0.9180\n",
      "Epoch 61/500\n",
      "26/26 [==============================] - 9s 335ms/step - loss: 0.6033 - mae: 0.9631\n",
      "Epoch 62/500\n",
      "26/26 [==============================] - 9s 332ms/step - loss: 0.6232 - mae: 0.9845\n",
      "Epoch 63/500\n",
      "26/26 [==============================] - 9s 331ms/step - loss: 0.5850 - mae: 0.9293\n",
      "Epoch 64/500\n",
      "26/26 [==============================] - 8s 322ms/step - loss: 0.6114 - mae: 0.9740\n",
      "Epoch 65/500\n",
      "26/26 [==============================] - 9s 328ms/step - loss: 0.5655 - mae: 0.9006\n",
      "Epoch 66/500\n",
      "26/26 [==============================] - 9s 328ms/step - loss: 0.6418 - mae: 1.0126\n",
      "Epoch 67/500\n",
      "26/26 [==============================] - 8s 315ms/step - loss: 0.6161 - mae: 0.9779\n",
      "Epoch 68/500\n",
      "26/26 [==============================] - 8s 323ms/step - loss: 0.6179 - mae: 0.9847\n",
      "Epoch 69/500\n",
      "26/26 [==============================] - 9s 331ms/step - loss: 0.6218 - mae: 0.9887\n",
      "Epoch 70/500\n",
      "26/26 [==============================] - 9s 332ms/step - loss: 0.5645 - mae: 0.9013\n",
      "Epoch 71/500\n",
      "26/26 [==============================] - 9s 336ms/step - loss: 0.6003 - mae: 0.9593\n",
      "Epoch 72/500\n",
      "26/26 [==============================] - 9s 328ms/step - loss: 0.6173 - mae: 0.9883\n",
      "Epoch 73/500\n",
      "26/26 [==============================] - 9s 329ms/step - loss: 0.5848 - mae: 0.9370\n",
      "Epoch 74/500\n",
      "26/26 [==============================] - 9s 338ms/step - loss: 0.5989 - mae: 0.9556\n",
      "Epoch 75/500\n",
      "26/26 [==============================] - 9s 335ms/step - loss: 0.5726 - mae: 0.9162\n",
      "Epoch 76/500\n",
      "26/26 [==============================] - 9s 331ms/step - loss: 0.5739 - mae: 0.9200\n",
      "Epoch 77/500\n",
      "26/26 [==============================] - 9s 340ms/step - loss: 0.6242 - mae: 0.9871\n",
      "Epoch 78/500\n",
      "26/26 [==============================] - 8s 327ms/step - loss: 0.5529 - mae: 0.8911\n",
      "Epoch 79/500\n",
      "26/26 [==============================] - 9s 333ms/step - loss: 0.5704 - mae: 0.9148\n",
      "Epoch 80/500\n",
      "26/26 [==============================] - 8s 316ms/step - loss: 0.6281 - mae: 1.0024\n",
      "Epoch 81/500\n",
      "26/26 [==============================] - 8s 317ms/step - loss: 0.5784 - mae: 0.9338\n",
      "Epoch 82/500\n",
      "26/26 [==============================] - 9s 338ms/step - loss: 0.6330 - mae: 0.9964\n",
      "Epoch 83/500\n",
      "26/26 [==============================] - 8s 320ms/step - loss: 0.5802 - mae: 0.9314\n",
      "Epoch 84/500\n",
      "26/26 [==============================] - 8s 322ms/step - loss: 0.5502 - mae: 0.8887\n",
      "Epoch 85/500\n"
     ]
    },
    {
     "name": "stdout",
     "output_type": "stream",
     "text": [
      "26/26 [==============================] - 8s 325ms/step - loss: 0.5789 - mae: 0.9331\n",
      "Epoch 86/500\n",
      "26/26 [==============================] - 9s 329ms/step - loss: 0.5754 - mae: 0.9284\n",
      "Epoch 87/500\n",
      "26/26 [==============================] - 8s 325ms/step - loss: 0.5454 - mae: 0.8787\n",
      "Epoch 88/500\n",
      "26/26 [==============================] - 9s 329ms/step - loss: 0.5569 - mae: 0.8978\n",
      "Epoch 89/500\n",
      "26/26 [==============================] - 9s 334ms/step - loss: 0.5560 - mae: 0.8916\n",
      "Epoch 90/500\n",
      "26/26 [==============================] - 9s 331ms/step - loss: 0.6293 - mae: 1.0023\n",
      "Epoch 91/500\n",
      "26/26 [==============================] - 9s 336ms/step - loss: 0.5418 - mae: 0.8824\n",
      "Epoch 92/500\n",
      "26/26 [==============================] - 9s 329ms/step - loss: 0.6233 - mae: 0.9993\n",
      "Epoch 93/500\n",
      "26/26 [==============================] - 9s 332ms/step - loss: 0.5724 - mae: 0.9258\n",
      "Epoch 94/500\n",
      "26/26 [==============================] - 8s 319ms/step - loss: 0.5971 - mae: 0.9597\n",
      "Epoch 95/500\n",
      "26/26 [==============================] - 8s 313ms/step - loss: 0.5511 - mae: 0.8951\n",
      "Epoch 96/500\n",
      "26/26 [==============================] - 8s 312ms/step - loss: 0.5394 - mae: 0.8773\n",
      "Epoch 97/500\n",
      "26/26 [==============================] - 9s 328ms/step - loss: 0.5495 - mae: 0.8914\n",
      "Epoch 98/500\n",
      "26/26 [==============================] - 9s 328ms/step - loss: 0.5579 - mae: 0.9037\n",
      "Epoch 99/500\n",
      "26/26 [==============================] - 9s 338ms/step - loss: 0.5557 - mae: 0.9013\n",
      "Epoch 100/500\n",
      "26/26 [==============================] - 8s 324ms/step - loss: 0.5849 - mae: 0.9471\n",
      "Epoch 101/500\n",
      "26/26 [==============================] - 9s 328ms/step - loss: 0.5479 - mae: 0.8948\n",
      "Epoch 102/500\n",
      "26/26 [==============================] - 8s 318ms/step - loss: 0.5256 - mae: 0.8534\n",
      "Epoch 103/500\n",
      "26/26 [==============================] - 8s 324ms/step - loss: 0.5416 - mae: 0.8828\n",
      "Epoch 104/500\n",
      "26/26 [==============================] - 11s 421ms/step - loss: 0.5233 - mae: 0.8530\n",
      "Epoch 105/500\n",
      "26/26 [==============================] - 8s 318ms/step - loss: 0.5293 - mae: 0.8596\n",
      "Epoch 106/500\n",
      "26/26 [==============================] - 9s 335ms/step - loss: 0.5383 - mae: 0.8746\n",
      "Epoch 107/500\n",
      "26/26 [==============================] - 9s 329ms/step - loss: 0.5274 - mae: 0.8546\n",
      "Epoch 108/500\n",
      "26/26 [==============================] - 9s 331ms/step - loss: 0.5458 - mae: 0.8883\n",
      "Epoch 109/500\n",
      "26/26 [==============================] - 8s 308ms/step - loss: 0.5552 - mae: 0.9035\n",
      "Epoch 110/500\n",
      "26/26 [==============================] - 8s 320ms/step - loss: 0.5384 - mae: 0.8826\n",
      "Epoch 111/500\n",
      "26/26 [==============================] - 8s 318ms/step - loss: 0.5623 - mae: 0.9190\n",
      "Epoch 112/500\n",
      "26/26 [==============================] - 8s 322ms/step - loss: 0.5347 - mae: 0.8720\n",
      "Epoch 113/500\n",
      "26/26 [==============================] - 9s 332ms/step - loss: 0.5229 - mae: 0.8553\n",
      "Epoch 114/500\n",
      "26/26 [==============================] - 8s 324ms/step - loss: 0.5221 - mae: 0.8461\n",
      "Epoch 115/500\n",
      "26/26 [==============================] - 8s 317ms/step - loss: 0.5319 - mae: 0.8721\n",
      "Epoch 116/500\n",
      "26/26 [==============================] - 8s 314ms/step - loss: 0.5722 - mae: 0.9318\n",
      "Epoch 117/500\n",
      "26/26 [==============================] - 9s 337ms/step - loss: 0.6115 - mae: 0.9809\n",
      "Epoch 118/500\n",
      "26/26 [==============================] - 8s 318ms/step - loss: 0.5892 - mae: 0.9568\n",
      "Epoch 119/500\n",
      "26/26 [==============================] - 9s 335ms/step - loss: 0.5186 - mae: 0.8422\n",
      "Epoch 120/500\n",
      "26/26 [==============================] - 8s 320ms/step - loss: 0.5326 - mae: 0.8685\n",
      "Epoch 121/500\n",
      "26/26 [==============================] - 9s 333ms/step - loss: 0.5376 - mae: 0.8755\n",
      "Epoch 122/500\n",
      "26/26 [==============================] - 8s 325ms/step - loss: 0.5195 - mae: 0.8476\n",
      "Epoch 123/500\n",
      "26/26 [==============================] - 8s 315ms/step - loss: 0.5221 - mae: 0.8530\n",
      "Epoch 124/500\n",
      "26/26 [==============================] - 9s 330ms/step - loss: 0.5349 - mae: 0.8765\n",
      "Epoch 125/500\n",
      "26/26 [==============================] - 8s 326ms/step - loss: 0.5270 - mae: 0.8659\n",
      "Epoch 126/500\n",
      "26/26 [==============================] - 8s 327ms/step - loss: 0.5317 - mae: 0.8659\n",
      "Epoch 127/500\n",
      "26/26 [==============================] - 8s 320ms/step - loss: 0.5343 - mae: 0.8753\n",
      "Epoch 128/500\n",
      "26/26 [==============================] - 9s 330ms/step - loss: 0.5405 - mae: 0.8849\n",
      "Epoch 129/500\n",
      "26/26 [==============================] - 8s 326ms/step - loss: 0.5186 - mae: 0.8486\n",
      "Epoch 130/500\n",
      "26/26 [==============================] - 9s 335ms/step - loss: 0.5447 - mae: 0.8972\n",
      "Epoch 131/500\n",
      "26/26 [==============================] - 9s 329ms/step - loss: 0.5220 - mae: 0.8550\n",
      "Epoch 132/500\n",
      "26/26 [==============================] - 9s 333ms/step - loss: 0.5267 - mae: 0.8669\n",
      "Epoch 133/500\n",
      "26/26 [==============================] - 8s 319ms/step - loss: 0.5210 - mae: 0.8516\n",
      "Epoch 134/500\n",
      "26/26 [==============================] - 8s 320ms/step - loss: 0.5245 - mae: 0.8574\n",
      "Epoch 135/500\n",
      "26/26 [==============================] - 9s 327ms/step - loss: 0.5572 - mae: 0.9163\n",
      "Epoch 136/500\n",
      "26/26 [==============================] - 9s 327ms/step - loss: 0.5394 - mae: 0.8836\n",
      "Epoch 137/500\n",
      "26/26 [==============================] - 8s 317ms/step - loss: 0.5238 - mae: 0.8548\n",
      "Epoch 138/500\n",
      "26/26 [==============================] - 8s 325ms/step - loss: 0.5178 - mae: 0.8468\n",
      "Epoch 139/500\n",
      "26/26 [==============================] - 9s 330ms/step - loss: 0.5411 - mae: 0.8884\n",
      "Epoch 140/500\n",
      "26/26 [==============================] - 8s 317ms/step - loss: 0.5578 - mae: 0.9112\n",
      "Epoch 141/500\n",
      "26/26 [==============================] - 9s 335ms/step - loss: 0.5571 - mae: 0.9142\n",
      "Epoch 142/500\n",
      "26/26 [==============================] - 8s 323ms/step - loss: 0.5159 - mae: 0.8437\n",
      "Epoch 143/500\n",
      "26/26 [==============================] - 8s 323ms/step - loss: 0.5146 - mae: 0.8394\n",
      "Epoch 144/500\n",
      "26/26 [==============================] - 8s 312ms/step - loss: 0.5169 - mae: 0.8492\n",
      "Epoch 145/500\n",
      "26/26 [==============================] - 8s 326ms/step - loss: 0.5134 - mae: 0.8403\n",
      "Epoch 146/500\n",
      "26/26 [==============================] - 8s 325ms/step - loss: 0.5162 - mae: 0.8481\n",
      "Epoch 147/500\n",
      "26/26 [==============================] - 9s 332ms/step - loss: 0.5722 - mae: 0.9423\n",
      "Epoch 148/500\n",
      "26/26 [==============================] - 9s 329ms/step - loss: 0.5230 - mae: 0.8587\n",
      "Epoch 149/500\n",
      "26/26 [==============================] - 8s 323ms/step - loss: 0.5258 - mae: 0.8608\n",
      "Epoch 150/500\n",
      "26/26 [==============================] - 8s 326ms/step - loss: 0.5308 - mae: 0.8690\n",
      "Epoch 151/500\n",
      "26/26 [==============================] - 8s 309ms/step - loss: 0.5117 - mae: 0.8334\n",
      "Epoch 152/500\n",
      "26/26 [==============================] - 8s 312ms/step - loss: 0.5271 - mae: 0.8643\n",
      "Epoch 153/500\n",
      "26/26 [==============================] - 8s 306ms/step - loss: 0.5494 - mae: 0.9008\n",
      "Epoch 154/500\n",
      "26/26 [==============================] - 9s 331ms/step - loss: 0.5238 - mae: 0.8620\n",
      "Epoch 155/500\n",
      "26/26 [==============================] - 9s 333ms/step - loss: 0.5138 - mae: 0.8446\n",
      "Epoch 156/500\n",
      "26/26 [==============================] - 9s 341ms/step - loss: 0.5087 - mae: 0.8335\n",
      "Epoch 157/500\n",
      "26/26 [==============================] - 9s 330ms/step - loss: 0.5081 - mae: 0.8370\n",
      "Epoch 158/500\n",
      "26/26 [==============================] - 9s 329ms/step - loss: 0.5195 - mae: 0.8525\n",
      "Epoch 159/500\n",
      "26/26 [==============================] - 8s 323ms/step - loss: 0.5627 - mae: 0.9237\n",
      "Epoch 160/500\n",
      "26/26 [==============================] - 8s 322ms/step - loss: 0.5126 - mae: 0.8420\n",
      "Epoch 161/500\n",
      "26/26 [==============================] - 9s 332ms/step - loss: 0.5234 - mae: 0.8648\n",
      "Epoch 162/500\n",
      "26/26 [==============================] - 8s 324ms/step - loss: 0.5209 - mae: 0.8620\n",
      "Epoch 163/500\n",
      "26/26 [==============================] - 9s 332ms/step - loss: 0.5344 - mae: 0.8817\n",
      "Epoch 164/500\n",
      "26/26 [==============================] - 8s 320ms/step - loss: 0.5151 - mae: 0.8494\n",
      "Epoch 165/500\n",
      "26/26 [==============================] - 9s 328ms/step - loss: 0.5283 - mae: 0.8678\n",
      "Epoch 166/500\n",
      "26/26 [==============================] - 8s 313ms/step - loss: 0.5340 - mae: 0.8762\n",
      "Epoch 167/500\n",
      "26/26 [==============================] - 8s 322ms/step - loss: 0.5500 - mae: 0.9079\n",
      "Epoch 168/500\n"
     ]
    },
    {
     "name": "stdout",
     "output_type": "stream",
     "text": [
      "26/26 [==============================] - 8s 317ms/step - loss: 0.5196 - mae: 0.8586\n",
      "Epoch 169/500\n",
      "26/26 [==============================] - 8s 319ms/step - loss: 0.5447 - mae: 0.8991\n",
      "Epoch 170/500\n",
      "26/26 [==============================] - 8s 319ms/step - loss: 0.5092 - mae: 0.8422\n",
      "Epoch 171/500\n",
      "26/26 [==============================] - 8s 319ms/step - loss: 0.5141 - mae: 0.8479\n",
      "Epoch 172/500\n",
      "26/26 [==============================] - 8s 320ms/step - loss: 0.4993 - mae: 0.8174\n",
      "Epoch 173/500\n",
      "26/26 [==============================] - 8s 319ms/step - loss: 0.4999 - mae: 0.8189\n",
      "Epoch 174/500\n",
      "26/26 [==============================] - 9s 328ms/step - loss: 0.5307 - mae: 0.8753\n",
      "Epoch 175/500\n",
      "26/26 [==============================] - 8s 325ms/step - loss: 0.5133 - mae: 0.8438\n",
      "Epoch 176/500\n",
      "26/26 [==============================] - 8s 321ms/step - loss: 0.5086 - mae: 0.8311\n",
      "Epoch 177/500\n",
      "26/26 [==============================] - 8s 322ms/step - loss: 0.5050 - mae: 0.8311\n",
      "Epoch 178/500\n",
      "26/26 [==============================] - 8s 321ms/step - loss: 0.5199 - mae: 0.8555\n",
      "Epoch 179/500\n",
      "26/26 [==============================] - 9s 329ms/step - loss: 0.5223 - mae: 0.8638\n",
      "Epoch 180/500\n",
      "26/26 [==============================] - 8s 310ms/step - loss: 0.5058 - mae: 0.8305\n",
      "Epoch 181/500\n",
      "26/26 [==============================] - 8s 322ms/step - loss: 0.5101 - mae: 0.8425\n",
      "Epoch 182/500\n",
      "26/26 [==============================] - 8s 320ms/step - loss: 0.5014 - mae: 0.8241\n",
      "Epoch 183/500\n",
      "26/26 [==============================] - 8s 320ms/step - loss: 0.5099 - mae: 0.8416\n",
      "Epoch 184/500\n",
      "26/26 [==============================] - 8s 321ms/step - loss: 0.5045 - mae: 0.8319\n",
      "Epoch 185/500\n",
      "26/26 [==============================] - 8s 324ms/step - loss: 0.5010 - mae: 0.8188\n",
      "Epoch 186/500\n",
      "26/26 [==============================] - 9s 327ms/step - loss: 0.5174 - mae: 0.8490\n",
      "Epoch 187/500\n",
      "26/26 [==============================] - 8s 313ms/step - loss: 0.5219 - mae: 0.8634\n",
      "Epoch 188/500\n",
      "26/26 [==============================] - 9s 328ms/step - loss: 0.5244 - mae: 0.8659\n",
      "Epoch 189/500\n",
      "26/26 [==============================] - 8s 311ms/step - loss: 0.5174 - mae: 0.8551\n",
      "Epoch 190/500\n",
      "26/26 [==============================] - 9s 329ms/step - loss: 0.5019 - mae: 0.8277\n",
      "Epoch 191/500\n",
      "26/26 [==============================] - 8s 327ms/step - loss: 0.5175 - mae: 0.8557\n",
      "Epoch 192/500\n",
      "26/26 [==============================] - 8s 326ms/step - loss: 0.5371 - mae: 0.8866\n",
      "Epoch 193/500\n",
      "26/26 [==============================] - 8s 322ms/step - loss: 0.5195 - mae: 0.8579\n",
      "Epoch 194/500\n",
      "26/26 [==============================] - 8s 322ms/step - loss: 0.5028 - mae: 0.8258\n",
      "Epoch 195/500\n",
      "26/26 [==============================] - 9s 329ms/step - loss: 0.5092 - mae: 0.8380\n",
      "Epoch 196/500\n",
      "26/26 [==============================] - 8s 324ms/step - loss: 0.5060 - mae: 0.8260\n",
      "Epoch 197/500\n",
      "26/26 [==============================] - 9s 329ms/step - loss: 0.5056 - mae: 0.8346\n",
      "Epoch 198/500\n",
      "26/26 [==============================] - 9s 330ms/step - loss: 0.4981 - mae: 0.8185\n",
      "Epoch 199/500\n",
      "26/26 [==============================] - 9s 329ms/step - loss: 0.5003 - mae: 0.8293\n",
      "Epoch 200/500\n",
      "26/26 [==============================] - 8s 321ms/step - loss: 0.5092 - mae: 0.8412\n",
      "Epoch 201/500\n",
      "26/26 [==============================] - 9s 329ms/step - loss: 0.5178 - mae: 0.8551\n",
      "Epoch 202/500\n",
      "26/26 [==============================] - 8s 327ms/step - loss: 0.4985 - mae: 0.8228\n",
      "Epoch 203/500\n",
      "26/26 [==============================] - 8s 323ms/step - loss: 0.5151 - mae: 0.8504\n",
      "Epoch 204/500\n",
      "26/26 [==============================] - 8s 327ms/step - loss: 0.5439 - mae: 0.9015\n",
      "Epoch 205/500\n",
      "26/26 [==============================] - 8s 322ms/step - loss: 0.5019 - mae: 0.8206\n",
      "Epoch 206/500\n",
      "26/26 [==============================] - 8s 321ms/step - loss: 0.5027 - mae: 0.8320\n",
      "Epoch 207/500\n",
      "26/26 [==============================] - 8s 314ms/step - loss: 0.5357 - mae: 0.8887\n",
      "Epoch 208/500\n",
      "26/26 [==============================] - 8s 313ms/step - loss: 0.4985 - mae: 0.8202\n",
      "Epoch 209/500\n",
      "26/26 [==============================] - 8s 312ms/step - loss: 0.4980 - mae: 0.8241\n",
      "Epoch 210/500\n",
      "26/26 [==============================] - 8s 320ms/step - loss: 0.5098 - mae: 0.8442\n",
      "Epoch 211/500\n",
      "26/26 [==============================] - 8s 323ms/step - loss: 0.5078 - mae: 0.8348\n",
      "Epoch 212/500\n",
      "26/26 [==============================] - 8s 307ms/step - loss: 0.5153 - mae: 0.8534\n",
      "Epoch 213/500\n",
      "26/26 [==============================] - 8s 319ms/step - loss: 0.5128 - mae: 0.8487\n",
      "Epoch 214/500\n",
      "26/26 [==============================] - 8s 297ms/step - loss: 0.5002 - mae: 0.8198\n",
      "Epoch 215/500\n",
      "26/26 [==============================] - 8s 307ms/step - loss: 0.5049 - mae: 0.8321\n",
      "Epoch 216/500\n",
      "26/26 [==============================] - 8s 304ms/step - loss: 0.5339 - mae: 0.8870\n",
      "Epoch 217/500\n",
      "26/26 [==============================] - 8s 296ms/step - loss: 0.5061 - mae: 0.8323\n",
      "Epoch 218/500\n",
      "26/26 [==============================] - 8s 318ms/step - loss: 0.4960 - mae: 0.8191\n",
      "Epoch 219/500\n",
      "26/26 [==============================] - 8s 320ms/step - loss: 0.5010 - mae: 0.8288\n",
      "Epoch 220/500\n",
      "26/26 [==============================] - 8s 319ms/step - loss: 0.5682 - mae: 0.9316\n",
      "Epoch 221/500\n",
      "26/26 [==============================] - 8s 325ms/step - loss: 0.5272 - mae: 0.8718\n",
      "Epoch 222/500\n",
      "26/26 [==============================] - 8s 307ms/step - loss: 0.5124 - mae: 0.8441\n",
      "Epoch 223/500\n",
      "26/26 [==============================] - 8s 296ms/step - loss: 0.4974 - mae: 0.8161\n",
      "Epoch 224/500\n",
      "26/26 [==============================] - 8s 314ms/step - loss: 0.5081 - mae: 0.8416\n",
      "Epoch 225/500\n",
      "26/26 [==============================] - 8s 316ms/step - loss: 0.5018 - mae: 0.8237\n",
      "Epoch 226/500\n",
      "26/26 [==============================] - 9s 328ms/step - loss: 0.4956 - mae: 0.8161\n",
      "Epoch 227/500\n",
      "26/26 [==============================] - 8s 312ms/step - loss: 0.4912 - mae: 0.8069\n",
      "Epoch 228/500\n",
      "26/26 [==============================] - 8s 317ms/step - loss: 0.4905 - mae: 0.8081\n",
      "Epoch 229/500\n",
      "26/26 [==============================] - 8s 308ms/step - loss: 0.4938 - mae: 0.8124\n",
      "Epoch 230/500\n",
      "26/26 [==============================] - 8s 321ms/step - loss: 0.5044 - mae: 0.8325\n",
      "Epoch 231/500\n",
      "26/26 [==============================] - 8s 317ms/step - loss: 0.5023 - mae: 0.8247\n",
      "Epoch 232/500\n",
      "26/26 [==============================] - 8s 323ms/step - loss: 0.5135 - mae: 0.8491\n",
      "Epoch 233/500\n",
      "26/26 [==============================] - 9s 330ms/step - loss: 0.5072 - mae: 0.8359\n",
      "Epoch 234/500\n",
      "26/26 [==============================] - 8s 321ms/step - loss: 0.5147 - mae: 0.8547\n",
      "Epoch 235/500\n",
      "26/26 [==============================] - 8s 324ms/step - loss: 0.5049 - mae: 0.8378\n",
      "Epoch 236/500\n",
      "26/26 [==============================] - 8s 319ms/step - loss: 0.4933 - mae: 0.8070\n",
      "Epoch 237/500\n",
      "26/26 [==============================] - 8s 318ms/step - loss: 0.5016 - mae: 0.8310\n",
      "Epoch 238/500\n",
      "26/26 [==============================] - 8s 314ms/step - loss: 0.5029 - mae: 0.8344\n",
      "Epoch 239/500\n",
      "26/26 [==============================] - 9s 332ms/step - loss: 0.5140 - mae: 0.8522\n",
      "Epoch 240/500\n",
      "26/26 [==============================] - 8s 320ms/step - loss: 0.5084 - mae: 0.8387\n",
      "Epoch 241/500\n",
      "26/26 [==============================] - 8s 309ms/step - loss: 0.4936 - mae: 0.8149\n",
      "Epoch 242/500\n",
      "26/26 [==============================] - 8s 319ms/step - loss: 0.4986 - mae: 0.8238\n",
      "Epoch 243/500\n",
      "26/26 [==============================] - 8s 307ms/step - loss: 0.5020 - mae: 0.8347\n",
      "Epoch 244/500\n",
      "26/26 [==============================] - 8s 313ms/step - loss: 0.4987 - mae: 0.8238\n",
      "Epoch 245/500\n",
      "26/26 [==============================] - 8s 320ms/step - loss: 0.5084 - mae: 0.8357\n",
      "Epoch 246/500\n",
      "26/26 [==============================] - 8s 315ms/step - loss: 0.5229 - mae: 0.8670\n",
      "Epoch 247/500\n",
      "26/26 [==============================] - 8s 307ms/step - loss: 0.5150 - mae: 0.8556\n",
      "Epoch 248/500\n",
      "26/26 [==============================] - 8s 307ms/step - loss: 0.4951 - mae: 0.8156\n",
      "Epoch 249/500\n",
      "26/26 [==============================] - 8s 298ms/step - loss: 0.5152 - mae: 0.8555\n",
      "Epoch 250/500\n",
      "26/26 [==============================] - 8s 310ms/step - loss: 0.5295 - mae: 0.8704\n",
      "Epoch 251/500\n"
     ]
    },
    {
     "name": "stdout",
     "output_type": "stream",
     "text": [
      "26/26 [==============================] - 8s 297ms/step - loss: 0.5056 - mae: 0.8387\n",
      "Epoch 252/500\n",
      "26/26 [==============================] - 8s 311ms/step - loss: 0.5144 - mae: 0.8574\n",
      "Epoch 253/500\n",
      "26/26 [==============================] - 8s 297ms/step - loss: 0.5249 - mae: 0.8690\n",
      "Epoch 254/500\n",
      "26/26 [==============================] - 8s 295ms/step - loss: 0.5162 - mae: 0.8546\n",
      "Epoch 255/500\n",
      "26/26 [==============================] - 8s 312ms/step - loss: 0.4999 - mae: 0.8267\n",
      "Epoch 256/500\n",
      "26/26 [==============================] - 8s 320ms/step - loss: 0.4960 - mae: 0.8179\n",
      "Epoch 257/500\n",
      "26/26 [==============================] - 8s 321ms/step - loss: 0.4903 - mae: 0.8075\n",
      "Epoch 258/500\n",
      "26/26 [==============================] - 8s 317ms/step - loss: 0.5036 - mae: 0.8329\n",
      "Epoch 259/500\n",
      "26/26 [==============================] - 8s 300ms/step - loss: 0.5176 - mae: 0.8595\n",
      "Epoch 260/500\n",
      "26/26 [==============================] - 8s 311ms/step - loss: 0.5022 - mae: 0.8320\n",
      "Epoch 261/500\n",
      "26/26 [==============================] - 8s 317ms/step - loss: 0.5049 - mae: 0.8361\n",
      "Epoch 262/500\n",
      "26/26 [==============================] - 8s 318ms/step - loss: 0.5145 - mae: 0.8576\n",
      "Epoch 263/500\n",
      "26/26 [==============================] - 8s 324ms/step - loss: 0.5019 - mae: 0.8289\n",
      "Epoch 264/500\n",
      "26/26 [==============================] - 8s 318ms/step - loss: 0.5020 - mae: 0.8300\n",
      "Epoch 265/500\n",
      "26/26 [==============================] - 8s 320ms/step - loss: 0.5025 - mae: 0.8334\n",
      "Epoch 266/500\n",
      "26/26 [==============================] - 8s 300ms/step - loss: 0.4966 - mae: 0.8219\n",
      "Epoch 267/500\n",
      "26/26 [==============================] - 8s 302ms/step - loss: 0.4903 - mae: 0.8154\n",
      "Epoch 268/500\n",
      "26/26 [==============================] - 8s 305ms/step - loss: 0.5028 - mae: 0.8324\n",
      "Epoch 269/500\n",
      "26/26 [==============================] - 8s 318ms/step - loss: 0.5045 - mae: 0.8381\n",
      "Epoch 270/500\n",
      "26/26 [==============================] - 9s 329ms/step - loss: 0.4883 - mae: 0.8072\n",
      "Epoch 271/500\n",
      "26/26 [==============================] - 8s 323ms/step - loss: 0.4908 - mae: 0.8118\n",
      "Epoch 272/500\n",
      "26/26 [==============================] - 8s 326ms/step - loss: 0.4950 - mae: 0.8200\n",
      "Epoch 273/500\n",
      "26/26 [==============================] - 8s 322ms/step - loss: 0.4985 - mae: 0.8259\n",
      "Epoch 274/500\n",
      "26/26 [==============================] - 8s 326ms/step - loss: 0.5066 - mae: 0.8335\n",
      "Epoch 275/500\n",
      "26/26 [==============================] - 8s 322ms/step - loss: 0.4944 - mae: 0.8135\n",
      "Epoch 276/500\n",
      "26/26 [==============================] - 8s 320ms/step - loss: 0.4883 - mae: 0.8058\n",
      "Epoch 277/500\n",
      "26/26 [==============================] - 8s 320ms/step - loss: 0.4996 - mae: 0.8277\n",
      "Epoch 278/500\n",
      "26/26 [==============================] - 9s 335ms/step - loss: 0.5101 - mae: 0.8461\n",
      "Epoch 279/500\n",
      "26/26 [==============================] - 8s 325ms/step - loss: 0.5013 - mae: 0.8280\n",
      "Epoch 280/500\n",
      "26/26 [==============================] - 8s 326ms/step - loss: 0.4918 - mae: 0.8138\n",
      "Epoch 281/500\n",
      "26/26 [==============================] - 9s 327ms/step - loss: 0.4929 - mae: 0.8121\n",
      "Epoch 282/500\n",
      "26/26 [==============================] - 8s 321ms/step - loss: 0.5006 - mae: 0.8287\n",
      "Epoch 283/500\n",
      "26/26 [==============================] - 8s 317ms/step - loss: 0.5083 - mae: 0.8436\n",
      "Epoch 284/500\n",
      "26/26 [==============================] - 9s 332ms/step - loss: 0.4845 - mae: 0.8034\n",
      "Epoch 285/500\n",
      "26/26 [==============================] - 8s 326ms/step - loss: 0.4877 - mae: 0.8046\n",
      "Epoch 286/500\n",
      "26/26 [==============================] - 9s 327ms/step - loss: 0.5099 - mae: 0.8455\n",
      "Epoch 287/500\n",
      "26/26 [==============================] - 9s 335ms/step - loss: 0.4868 - mae: 0.7995\n",
      "Epoch 288/500\n",
      "26/26 [==============================] - 9s 347ms/step - loss: 0.4974 - mae: 0.8262\n",
      "Epoch 289/500\n",
      "26/26 [==============================] - 8s 322ms/step - loss: 0.4911 - mae: 0.8066\n",
      "Epoch 290/500\n",
      "26/26 [==============================] - 9s 335ms/step - loss: 0.4886 - mae: 0.8050\n",
      "Epoch 291/500\n",
      "26/26 [==============================] - 8s 325ms/step - loss: 0.4874 - mae: 0.8081\n",
      "Epoch 292/500\n",
      "26/26 [==============================] - 9s 332ms/step - loss: 0.4964 - mae: 0.8206\n",
      "Epoch 293/500\n",
      "26/26 [==============================] - 9s 337ms/step - loss: 0.5022 - mae: 0.8349\n",
      "Epoch 294/500\n",
      "26/26 [==============================] - 9s 334ms/step - loss: 0.5045 - mae: 0.8360\n",
      "Epoch 295/500\n",
      "26/26 [==============================] - 8s 320ms/step - loss: 0.4958 - mae: 0.8206\n",
      "Epoch 296/500\n",
      "26/26 [==============================] - 8s 312ms/step - loss: 0.4910 - mae: 0.8187\n",
      "Epoch 297/500\n",
      "26/26 [==============================] - 8s 325ms/step - loss: 0.4871 - mae: 0.7969\n",
      "Epoch 298/500\n",
      "26/26 [==============================] - 8s 320ms/step - loss: 0.4904 - mae: 0.8111\n",
      "Epoch 299/500\n",
      "26/26 [==============================] - 9s 337ms/step - loss: 0.4922 - mae: 0.8152\n",
      "Epoch 300/500\n",
      "26/26 [==============================] - 9s 327ms/step - loss: 0.5031 - mae: 0.8340\n",
      "Epoch 301/500\n",
      "26/26 [==============================] - 9s 327ms/step - loss: 0.5260 - mae: 0.8801\n",
      "Epoch 302/500\n",
      "26/26 [==============================] - 8s 319ms/step - loss: 0.4965 - mae: 0.8252\n",
      "Epoch 303/500\n",
      "26/26 [==============================] - 8s 323ms/step - loss: 0.4872 - mae: 0.8040\n",
      "Epoch 304/500\n",
      "26/26 [==============================] - 8s 324ms/step - loss: 0.4881 - mae: 0.8070\n",
      "Epoch 305/500\n",
      "26/26 [==============================] - 9s 329ms/step - loss: 0.4873 - mae: 0.8080\n",
      "Epoch 306/500\n",
      "26/26 [==============================] - 9s 335ms/step - loss: 0.4849 - mae: 0.7990\n",
      "Epoch 307/500\n",
      "26/26 [==============================] - 9s 335ms/step - loss: 0.4855 - mae: 0.8019\n",
      "Epoch 308/500\n",
      "26/26 [==============================] - 9s 339ms/step - loss: 0.5008 - mae: 0.8340\n",
      "Epoch 309/500\n",
      "26/26 [==============================] - 9s 335ms/step - loss: 0.4909 - mae: 0.8083\n",
      "Epoch 310/500\n",
      "26/26 [==============================] - 9s 338ms/step - loss: 0.4886 - mae: 0.8055\n",
      "Epoch 311/500\n",
      "26/26 [==============================] - 9s 347ms/step - loss: 0.4967 - mae: 0.8199\n",
      "Epoch 312/500\n",
      "26/26 [==============================] - 9s 335ms/step - loss: 0.4919 - mae: 0.8117\n",
      "Epoch 313/500\n",
      "26/26 [==============================] - 8s 326ms/step - loss: 0.4944 - mae: 0.8144\n",
      "Epoch 314/500\n",
      "26/26 [==============================] - 9s 333ms/step - loss: 0.4940 - mae: 0.8189\n",
      "Epoch 315/500\n",
      "26/26 [==============================] - 9s 329ms/step - loss: 0.4863 - mae: 0.8004\n",
      "Epoch 316/500\n",
      "26/26 [==============================] - 9s 331ms/step - loss: 0.4935 - mae: 0.8200\n",
      "Epoch 317/500\n",
      "26/26 [==============================] - 9s 330ms/step - loss: 0.4958 - mae: 0.8246\n",
      "Epoch 318/500\n",
      "26/26 [==============================] - 9s 334ms/step - loss: 0.4984 - mae: 0.8284\n",
      "Epoch 319/500\n",
      "26/26 [==============================] - 11s 430ms/step - loss: 0.4864 - mae: 0.8037\n",
      "Epoch 320/500\n",
      "26/26 [==============================] - 9s 336ms/step - loss: 0.4847 - mae: 0.8030\n",
      "Epoch 321/500\n",
      "26/26 [==============================] - 9s 331ms/step - loss: 0.4839 - mae: 0.7975\n",
      "Epoch 322/500\n",
      "26/26 [==============================] - 9s 329ms/step - loss: 0.4836 - mae: 0.7964\n",
      "Epoch 323/500\n",
      "26/26 [==============================] - 9s 332ms/step - loss: 0.4830 - mae: 0.7971\n",
      "Epoch 324/500\n",
      "26/26 [==============================] - 9s 334ms/step - loss: 0.4884 - mae: 0.8022\n",
      "Epoch 325/500\n",
      "26/26 [==============================] - 8s 323ms/step - loss: 0.4926 - mae: 0.8124\n",
      "Epoch 326/500\n",
      "26/26 [==============================] - 9s 331ms/step - loss: 0.4926 - mae: 0.8170\n",
      "Epoch 327/500\n",
      "26/26 [==============================] - 9s 327ms/step - loss: 0.4920 - mae: 0.8131\n",
      "Epoch 328/500\n",
      "26/26 [==============================] - 8s 322ms/step - loss: 0.4866 - mae: 0.8057\n",
      "Epoch 329/500\n",
      "26/26 [==============================] - 9s 331ms/step - loss: 0.4881 - mae: 0.8111\n",
      "Epoch 330/500\n",
      "26/26 [==============================] - 9s 328ms/step - loss: 0.4903 - mae: 0.8052\n",
      "Epoch 331/500\n",
      "26/26 [==============================] - 9s 329ms/step - loss: 0.4811 - mae: 0.7950\n",
      "Epoch 332/500\n",
      "26/26 [==============================] - 9s 330ms/step - loss: 0.4923 - mae: 0.8151\n",
      "Epoch 333/500\n",
      "26/26 [==============================] - 9s 350ms/step - loss: 0.5087 - mae: 0.8460\n",
      "Epoch 334/500\n"
     ]
    },
    {
     "name": "stdout",
     "output_type": "stream",
     "text": [
      "26/26 [==============================] - 8s 324ms/step - loss: 0.4900 - mae: 0.8159\n",
      "Epoch 335/500\n",
      "26/26 [==============================] - 8s 325ms/step - loss: 0.4849 - mae: 0.8015\n",
      "Epoch 336/500\n",
      "26/26 [==============================] - 8s 326ms/step - loss: 0.4821 - mae: 0.7972\n",
      "Epoch 337/500\n",
      "26/26 [==============================] - 8s 319ms/step - loss: 0.4823 - mae: 0.7960\n",
      "Epoch 338/500\n",
      "26/26 [==============================] - 9s 330ms/step - loss: 0.4865 - mae: 0.8019\n",
      "Epoch 339/500\n",
      "26/26 [==============================] - 9s 327ms/step - loss: 0.4924 - mae: 0.8172\n",
      "Epoch 340/500\n",
      "26/26 [==============================] - 9s 332ms/step - loss: 0.5276 - mae: 0.8808\n",
      "Epoch 341/500\n",
      "26/26 [==============================] - 8s 326ms/step - loss: 0.5063 - mae: 0.8475\n",
      "Epoch 342/500\n",
      "26/26 [==============================] - 9s 331ms/step - loss: 0.4840 - mae: 0.7959\n",
      "Epoch 343/500\n",
      "26/26 [==============================] - 9s 331ms/step - loss: 0.4823 - mae: 0.7983\n",
      "Epoch 344/500\n",
      "26/26 [==============================] - 9s 334ms/step - loss: 0.4906 - mae: 0.8111\n",
      "Epoch 345/500\n",
      "26/26 [==============================] - 9s 328ms/step - loss: 0.4887 - mae: 0.8099\n",
      "Epoch 346/500\n",
      "26/26 [==============================] - 8s 320ms/step - loss: 0.4833 - mae: 0.7973\n",
      "Epoch 347/500\n",
      "26/26 [==============================] - 8s 322ms/step - loss: 0.4855 - mae: 0.8045\n",
      "Epoch 348/500\n",
      "26/26 [==============================] - 8s 320ms/step - loss: 0.4942 - mae: 0.8217\n",
      "Epoch 349/500\n",
      "26/26 [==============================] - 9s 328ms/step - loss: 0.5000 - mae: 0.8273\n",
      "Epoch 350/500\n",
      "26/26 [==============================] - 9s 332ms/step - loss: 0.4885 - mae: 0.8097\n",
      "Epoch 351/500\n",
      "26/26 [==============================] - 9s 334ms/step - loss: 0.4956 - mae: 0.8268\n",
      "Epoch 352/500\n",
      "26/26 [==============================] - 9s 333ms/step - loss: 0.4855 - mae: 0.8082\n",
      "Epoch 353/500\n",
      "26/26 [==============================] - 9s 330ms/step - loss: 0.4815 - mae: 0.7947\n",
      "Epoch 354/500\n",
      "26/26 [==============================] - 9s 337ms/step - loss: 0.4881 - mae: 0.8107\n",
      "Epoch 355/500\n",
      "26/26 [==============================] - 9s 333ms/step - loss: 0.4876 - mae: 0.8037\n",
      "Epoch 356/500\n",
      "26/26 [==============================] - 9s 328ms/step - loss: 0.5162 - mae: 0.8603\n",
      "Epoch 357/500\n",
      "26/26 [==============================] - 8s 321ms/step - loss: 0.4896 - mae: 0.8085\n",
      "Epoch 358/500\n",
      "26/26 [==============================] - 9s 339ms/step - loss: 0.4830 - mae: 0.7965\n",
      "Epoch 359/500\n",
      "26/26 [==============================] - 8s 325ms/step - loss: 0.4881 - mae: 0.8075\n",
      "Epoch 360/500\n",
      "26/26 [==============================] - 9s 332ms/step - loss: 0.4914 - mae: 0.8191\n",
      "Epoch 361/500\n",
      "26/26 [==============================] - 9s 332ms/step - loss: 0.4853 - mae: 0.7996\n",
      "Epoch 362/500\n",
      "26/26 [==============================] - 9s 329ms/step - loss: 0.4815 - mae: 0.7936\n",
      "Epoch 363/500\n",
      "26/26 [==============================] - 9s 332ms/step - loss: 0.4901 - mae: 0.8152\n",
      "Epoch 364/500\n",
      "26/26 [==============================] - 9s 340ms/step - loss: 0.4814 - mae: 0.7924\n",
      "Epoch 365/500\n",
      "26/26 [==============================] - 8s 325ms/step - loss: 0.4856 - mae: 0.8051\n",
      "Epoch 366/500\n",
      "26/26 [==============================] - 9s 328ms/step - loss: 0.4833 - mae: 0.8014\n",
      "Epoch 367/500\n",
      "26/26 [==============================] - 9s 341ms/step - loss: 0.4832 - mae: 0.7991\n",
      "Epoch 368/500\n",
      "26/26 [==============================] - 9s 333ms/step - loss: 0.4912 - mae: 0.8105\n",
      "Epoch 369/500\n",
      "26/26 [==============================] - 9s 330ms/step - loss: 0.4906 - mae: 0.8146\n",
      "Epoch 370/500\n",
      "26/26 [==============================] - 8s 327ms/step - loss: 0.4984 - mae: 0.8270\n",
      "Epoch 371/500\n",
      "26/26 [==============================] - 9s 336ms/step - loss: 0.4865 - mae: 0.8036\n",
      "Epoch 372/500\n",
      "26/26 [==============================] - 8s 327ms/step - loss: 0.5026 - mae: 0.8366\n",
      "Epoch 373/500\n",
      "26/26 [==============================] - 9s 339ms/step - loss: 0.4959 - mae: 0.8274\n",
      "Epoch 374/500\n",
      "26/26 [==============================] - 9s 331ms/step - loss: 0.4964 - mae: 0.8241\n",
      "Epoch 375/500\n",
      "26/26 [==============================] - 9s 335ms/step - loss: 0.4846 - mae: 0.7977\n",
      "Epoch 376/500\n",
      "26/26 [==============================] - 9s 334ms/step - loss: 0.4796 - mae: 0.7885\n",
      "Epoch 377/500\n",
      "26/26 [==============================] - 9s 336ms/step - loss: 0.4818 - mae: 0.7942\n",
      "Epoch 378/500\n",
      "26/26 [==============================] - 9s 334ms/step - loss: 0.4810 - mae: 0.7901\n",
      "Epoch 379/500\n",
      "26/26 [==============================] - 9s 333ms/step - loss: 0.4823 - mae: 0.7932\n",
      "Epoch 380/500\n",
      "26/26 [==============================] - 9s 334ms/step - loss: 0.4802 - mae: 0.7946\n",
      "Epoch 381/500\n",
      "26/26 [==============================] - 9s 346ms/step - loss: 0.4928 - mae: 0.8174\n",
      "Epoch 382/500\n",
      "26/26 [==============================] - 9s 337ms/step - loss: 0.4924 - mae: 0.8140\n",
      "Epoch 383/500\n",
      "26/26 [==============================] - 9s 338ms/step - loss: 0.4941 - mae: 0.8245\n",
      "Epoch 384/500\n",
      "26/26 [==============================] - 9s 336ms/step - loss: 0.4804 - mae: 0.7945\n",
      "Epoch 385/500\n",
      "26/26 [==============================] - 8s 321ms/step - loss: 0.4814 - mae: 0.7912\n",
      "Epoch 386/500\n",
      "26/26 [==============================] - 9s 334ms/step - loss: 0.4845 - mae: 0.8058\n",
      "Epoch 387/500\n",
      "26/26 [==============================] - 8s 324ms/step - loss: 0.4859 - mae: 0.8033\n",
      "Epoch 388/500\n",
      "26/26 [==============================] - 8s 326ms/step - loss: 0.4831 - mae: 0.8024\n",
      "Epoch 389/500\n",
      "26/26 [==============================] - 9s 334ms/step - loss: 0.4829 - mae: 0.7985\n",
      "Epoch 390/500\n",
      "26/26 [==============================] - 9s 337ms/step - loss: 0.4849 - mae: 0.7962\n",
      "Epoch 391/500\n",
      "26/26 [==============================] - 8s 326ms/step - loss: 0.4873 - mae: 0.8084\n",
      "Epoch 392/500\n",
      "26/26 [==============================] - 9s 340ms/step - loss: 0.4834 - mae: 0.7975\n",
      "Epoch 393/500\n",
      "26/26 [==============================] - 9s 334ms/step - loss: 0.4918 - mae: 0.8122\n",
      "Epoch 394/500\n",
      "26/26 [==============================] - 9s 341ms/step - loss: 0.4864 - mae: 0.8072\n",
      "Epoch 395/500\n",
      "26/26 [==============================] - 9s 331ms/step - loss: 0.5193 - mae: 0.8659\n",
      "Epoch 396/500\n",
      "26/26 [==============================] - 9s 346ms/step - loss: 0.4875 - mae: 0.8070\n",
      "Epoch 397/500\n",
      "26/26 [==============================] - 9s 346ms/step - loss: 0.4878 - mae: 0.8069\n",
      "Epoch 398/500\n",
      "26/26 [==============================] - 9s 343ms/step - loss: 0.4887 - mae: 0.8133\n",
      "Epoch 399/500\n",
      "26/26 [==============================] - 9s 336ms/step - loss: 0.4838 - mae: 0.8043\n",
      "Epoch 400/500\n",
      "26/26 [==============================] - 9s 337ms/step - loss: 0.4830 - mae: 0.8019\n",
      "Epoch 401/500\n",
      "26/26 [==============================] - 9s 331ms/step - loss: 0.4809 - mae: 0.7943\n",
      "Epoch 402/500\n",
      "26/26 [==============================] - 8s 321ms/step - loss: 0.5026 - mae: 0.8342\n",
      "Epoch 403/500\n",
      "26/26 [==============================] - 9s 336ms/step - loss: 0.4987 - mae: 0.8300\n",
      "Epoch 404/500\n",
      "26/26 [==============================] - 9s 329ms/step - loss: 0.4943 - mae: 0.8224\n",
      "Epoch 405/500\n",
      "26/26 [==============================] - 9s 337ms/step - loss: 0.4822 - mae: 0.7956\n",
      "Epoch 406/500\n",
      "26/26 [==============================] - 9s 336ms/step - loss: 0.5000 - mae: 0.8300\n",
      "Epoch 407/500\n",
      "26/26 [==============================] - 9s 332ms/step - loss: 0.4878 - mae: 0.8066\n",
      "Epoch 408/500\n",
      "26/26 [==============================] - 9s 332ms/step - loss: 0.4838 - mae: 0.7989\n",
      "Epoch 409/500\n",
      "26/26 [==============================] - 9s 335ms/step - loss: 0.4956 - mae: 0.8240\n",
      "Epoch 410/500\n",
      "26/26 [==============================] - 9s 335ms/step - loss: 0.4873 - mae: 0.8053\n",
      "Epoch 411/500\n",
      "26/26 [==============================] - 9s 340ms/step - loss: 0.4819 - mae: 0.8006\n",
      "Epoch 412/500\n",
      "26/26 [==============================] - 9s 339ms/step - loss: 0.4815 - mae: 0.7973\n",
      "Epoch 413/500\n",
      "26/26 [==============================] - 9s 353ms/step - loss: 0.4865 - mae: 0.8097\n",
      "Epoch 414/500\n",
      "26/26 [==============================] - 9s 331ms/step - loss: 0.4800 - mae: 0.7943\n",
      "Epoch 415/500\n",
      "26/26 [==============================] - 9s 339ms/step - loss: 0.4894 - mae: 0.8128\n",
      "Epoch 416/500\n",
      "26/26 [==============================] - 9s 335ms/step - loss: 0.4858 - mae: 0.8029\n",
      "Epoch 417/500\n"
     ]
    },
    {
     "name": "stdout",
     "output_type": "stream",
     "text": [
      "26/26 [==============================] - 9s 338ms/step - loss: 0.4796 - mae: 0.7916\n",
      "Epoch 418/500\n",
      "26/26 [==============================] - 9s 345ms/step - loss: 0.4811 - mae: 0.7963\n",
      "Epoch 419/500\n",
      "26/26 [==============================] - 9s 346ms/step - loss: 0.4857 - mae: 0.8069\n",
      "Epoch 420/500\n",
      "26/26 [==============================] - 9s 335ms/step - loss: 0.4961 - mae: 0.8256\n",
      "Epoch 421/500\n",
      "26/26 [==============================] - 9s 337ms/step - loss: 0.4810 - mae: 0.7914\n",
      "Epoch 422/500\n",
      "26/26 [==============================] - 9s 338ms/step - loss: 0.4842 - mae: 0.8037\n",
      "Epoch 423/500\n",
      "26/26 [==============================] - 9s 338ms/step - loss: 0.5013 - mae: 0.8353\n",
      "Epoch 424/500\n",
      "26/26 [==============================] - 9s 338ms/step - loss: 0.5112 - mae: 0.8521\n",
      "Epoch 425/500\n",
      "26/26 [==============================] - 9s 344ms/step - loss: 0.4866 - mae: 0.8069\n",
      "Epoch 426/500\n",
      "26/26 [==============================] - 9s 347ms/step - loss: 0.4854 - mae: 0.8050\n",
      "Epoch 427/500\n",
      "26/26 [==============================] - 9s 334ms/step - loss: 0.4938 - mae: 0.8202\n",
      "Epoch 428/500\n",
      "26/26 [==============================] - 9s 333ms/step - loss: 0.4854 - mae: 0.8051\n",
      "Epoch 429/500\n",
      "26/26 [==============================] - 9s 338ms/step - loss: 0.4860 - mae: 0.8066\n",
      "Epoch 430/500\n",
      "26/26 [==============================] - 9s 337ms/step - loss: 0.4778 - mae: 0.7872\n",
      "Epoch 431/500\n",
      "26/26 [==============================] - 9s 342ms/step - loss: 0.4892 - mae: 0.8126\n",
      "Epoch 432/500\n",
      "26/26 [==============================] - 9s 346ms/step - loss: 0.5396 - mae: 0.8982\n",
      "Epoch 433/500\n",
      "26/26 [==============================] - 9s 346ms/step - loss: 0.4878 - mae: 0.8006\n",
      "Epoch 434/500\n",
      "26/26 [==============================] - 9s 337ms/step - loss: 0.4850 - mae: 0.8041\n",
      "Epoch 435/500\n",
      "26/26 [==============================] - 9s 347ms/step - loss: 0.4852 - mae: 0.8060\n",
      "Epoch 436/500\n",
      "26/26 [==============================] - 9s 335ms/step - loss: 0.4770 - mae: 0.7839\n",
      "Epoch 437/500\n",
      "26/26 [==============================] - 9s 332ms/step - loss: 0.4892 - mae: 0.8152\n",
      "Epoch 438/500\n",
      "26/26 [==============================] - 9s 339ms/step - loss: 0.4838 - mae: 0.8076\n",
      "Epoch 439/500\n",
      "26/26 [==============================] - 9s 338ms/step - loss: 0.4787 - mae: 0.7906\n",
      "Epoch 440/500\n",
      "26/26 [==============================] - 9s 339ms/step - loss: 0.4774 - mae: 0.7886\n",
      "Epoch 441/500\n",
      "26/26 [==============================] - 9s 343ms/step - loss: 0.4826 - mae: 0.7997\n",
      "Epoch 442/500\n",
      "26/26 [==============================] - 9s 337ms/step - loss: 0.4776 - mae: 0.7886\n",
      "Epoch 443/500\n",
      "26/26 [==============================] - 9s 352ms/step - loss: 0.4818 - mae: 0.7977\n",
      "Epoch 444/500\n",
      "26/26 [==============================] - 9s 335ms/step - loss: 0.4873 - mae: 0.8108\n",
      "Epoch 445/500\n",
      "26/26 [==============================] - 9s 334ms/step - loss: 0.4862 - mae: 0.8082\n",
      "Epoch 446/500\n",
      "26/26 [==============================] - 9s 337ms/step - loss: 0.5007 - mae: 0.8343\n",
      "Epoch 447/500\n",
      "26/26 [==============================] - 9s 345ms/step - loss: 0.4791 - mae: 0.7966\n",
      "Epoch 448/500\n",
      "26/26 [==============================] - 9s 338ms/step - loss: 0.4891 - mae: 0.8068\n",
      "Epoch 449/500\n",
      "26/26 [==============================] - 9s 341ms/step - loss: 0.4859 - mae: 0.8056\n",
      "Epoch 450/500\n",
      "26/26 [==============================] - 9s 341ms/step - loss: 0.4922 - mae: 0.8182\n",
      "Epoch 451/500\n",
      "26/26 [==============================] - 9s 340ms/step - loss: 0.4772 - mae: 0.7881\n",
      "Epoch 452/500\n",
      "26/26 [==============================] - 9s 334ms/step - loss: 0.4774 - mae: 0.7893\n",
      "Epoch 453/500\n",
      "26/26 [==============================] - 9s 345ms/step - loss: 0.4789 - mae: 0.7897\n",
      "Epoch 454/500\n",
      "26/26 [==============================] - 9s 335ms/step - loss: 0.4799 - mae: 0.7898\n",
      "Epoch 455/500\n",
      "26/26 [==============================] - 9s 335ms/step - loss: 0.4852 - mae: 0.8109\n",
      "Epoch 456/500\n",
      "26/26 [==============================] - 9s 335ms/step - loss: 0.4777 - mae: 0.7899\n",
      "Epoch 457/500\n",
      "26/26 [==============================] - 9s 338ms/step - loss: 0.4823 - mae: 0.8040\n",
      "Epoch 458/500\n",
      "26/26 [==============================] - 9s 334ms/step - loss: 0.4782 - mae: 0.7882\n",
      "Epoch 459/500\n",
      "26/26 [==============================] - 9s 337ms/step - loss: 0.4883 - mae: 0.8114\n",
      "Epoch 460/500\n",
      "26/26 [==============================] - 9s 329ms/step - loss: 0.4891 - mae: 0.8095\n",
      "Epoch 461/500\n",
      "26/26 [==============================] - 8s 326ms/step - loss: 0.4792 - mae: 0.7943\n",
      "Epoch 462/500\n",
      "26/26 [==============================] - 9s 334ms/step - loss: 0.4828 - mae: 0.7988\n",
      "Epoch 463/500\n",
      "26/26 [==============================] - 9s 329ms/step - loss: 0.4797 - mae: 0.7964\n",
      "Epoch 464/500\n",
      "26/26 [==============================] - 9s 335ms/step - loss: 0.4854 - mae: 0.7967\n",
      "Epoch 465/500\n",
      "26/26 [==============================] - 8s 322ms/step - loss: 0.4818 - mae: 0.7993\n",
      "Epoch 466/500\n",
      "26/26 [==============================] - 8s 324ms/step - loss: 0.4818 - mae: 0.7965\n",
      "Epoch 467/500\n",
      "26/26 [==============================] - 8s 323ms/step - loss: 0.4775 - mae: 0.7883\n",
      "Epoch 468/500\n",
      "26/26 [==============================] - 9s 337ms/step - loss: 0.4808 - mae: 0.7937\n",
      "Epoch 469/500\n",
      "26/26 [==============================] - 9s 329ms/step - loss: 0.4783 - mae: 0.7925\n",
      "Epoch 470/500\n",
      "26/26 [==============================] - 9s 335ms/step - loss: 0.4803 - mae: 0.7980\n",
      "Epoch 471/500\n",
      "26/26 [==============================] - 9s 331ms/step - loss: 0.4882 - mae: 0.8130\n",
      "Epoch 472/500\n",
      "26/26 [==============================] - 8s 322ms/step - loss: 0.4806 - mae: 0.7949\n",
      "Epoch 473/500\n",
      "26/26 [==============================] - 8s 326ms/step - loss: 0.4818 - mae: 0.8001\n",
      "Epoch 474/500\n",
      "26/26 [==============================] - 8s 325ms/step - loss: 0.4832 - mae: 0.8076\n",
      "Epoch 475/500\n",
      "26/26 [==============================] - 9s 328ms/step - loss: 0.4761 - mae: 0.7869\n",
      "Epoch 476/500\n",
      "26/26 [==============================] - 8s 327ms/step - loss: 0.4815 - mae: 0.7970\n",
      "Epoch 477/500\n",
      "26/26 [==============================] - 9s 340ms/step - loss: 0.4881 - mae: 0.8099\n",
      "Epoch 478/500\n",
      "26/26 [==============================] - 8s 326ms/step - loss: 0.4816 - mae: 0.8035\n",
      "Epoch 479/500\n",
      "26/26 [==============================] - 9s 335ms/step - loss: 0.4849 - mae: 0.7977\n",
      "Epoch 480/500\n",
      "26/26 [==============================] - 9s 328ms/step - loss: 0.4822 - mae: 0.7986\n",
      "Epoch 481/500\n",
      "26/26 [==============================] - 9s 328ms/step - loss: 0.4933 - mae: 0.8213\n",
      "Epoch 482/500\n",
      "26/26 [==============================] - 9s 338ms/step - loss: 0.4859 - mae: 0.8037\n",
      "Epoch 483/500\n",
      "26/26 [==============================] - 8s 327ms/step - loss: 0.4778 - mae: 0.7916\n",
      "Epoch 484/500\n",
      "26/26 [==============================] - 9s 328ms/step - loss: 0.4759 - mae: 0.7877\n",
      "Epoch 485/500\n",
      "26/26 [==============================] - 8s 325ms/step - loss: 0.5056 - mae: 0.8462\n",
      "Epoch 486/500\n",
      "26/26 [==============================] - 9s 335ms/step - loss: 0.5004 - mae: 0.8343\n",
      "Epoch 487/500\n",
      "26/26 [==============================] - 9s 333ms/step - loss: 0.4761 - mae: 0.7879\n",
      "Epoch 488/500\n",
      "26/26 [==============================] - 8s 323ms/step - loss: 0.4762 - mae: 0.7882\n",
      "Epoch 489/500\n",
      "26/26 [==============================] - 8s 323ms/step - loss: 0.4759 - mae: 0.7885\n",
      "Epoch 490/500\n",
      "26/26 [==============================] - 9s 334ms/step - loss: 0.4820 - mae: 0.7953\n",
      "Epoch 491/500\n",
      "26/26 [==============================] - 9s 330ms/step - loss: 0.4855 - mae: 0.8085\n",
      "Epoch 492/500\n",
      "26/26 [==============================] - 9s 332ms/step - loss: 0.4812 - mae: 0.7999\n",
      "Epoch 493/500\n",
      "26/26 [==============================] - 9s 340ms/step - loss: 0.4831 - mae: 0.8011\n",
      "Epoch 494/500\n",
      "26/26 [==============================] - 8s 326ms/step - loss: 0.4831 - mae: 0.8038\n",
      "Epoch 495/500\n",
      "26/26 [==============================] - 9s 341ms/step - loss: 0.4744 - mae: 0.7848\n",
      "Epoch 496/500\n",
      "26/26 [==============================] - 9s 329ms/step - loss: 0.5046 - mae: 0.8380\n",
      "Epoch 497/500\n",
      "26/26 [==============================] - 9s 339ms/step - loss: 0.5186 - mae: 0.8596\n",
      "Epoch 498/500\n",
      "26/26 [==============================] - 9s 336ms/step - loss: 0.4974 - mae: 0.8305\n",
      "Epoch 499/500\n",
      "26/26 [==============================] - 9s 327ms/step - loss: 0.4892 - mae: 0.8154\n",
      "Epoch 500/500\n"
     ]
    },
    {
     "name": "stdout",
     "output_type": "stream",
     "text": [
      "26/26 [==============================] - 9s 329ms/step - loss: 0.4811 - mae: 0.7969\n"
     ]
    }
   ],
   "source": [
    "tf.keras.backend.clear_session()\n",
    "tf.random.set_seed(51)\n",
    "np.random.seed(51)\n",
    "train_set = windowed_dataset(x_train, window_size=60, batch_size=100, shuffle_buffer=shuffle_buffer_size)\n",
    "model = tf.keras.models.Sequential([\n",
    "  tf.keras.layers.Conv1D(filters=60, kernel_size=5,\n",
    "                      strides=1, padding=\"causal\",\n",
    "                      activation=\"relu\",\n",
    "                      input_shape=[None, 1]),\n",
    "  tf.keras.layers.LSTM(60, return_sequences=True),\n",
    "  tf.keras.layers.LSTM(60, return_sequences=True),\n",
    "  tf.keras.layers.Dense(30, activation=\"relu\"),\n",
    "  tf.keras.layers.Dense(10, activation=\"relu\"),\n",
    "  tf.keras.layers.Dense(1),\n",
    "  tf.keras.layers.Lambda(lambda x: x * 400)\n",
    "])\n",
    "\n",
    "\n",
    "optimizer = tf.keras.optimizers.SGD(lr=1e-5, momentum=0.9)\n",
    "model.compile(loss=tf.keras.losses.Huber(),\n",
    "              optimizer=optimizer,\n",
    "              metrics=[\"mae\"])\n",
    "history = model.fit(train_set,epochs=500)"
   ]
  },
  {
   "cell_type": "code",
   "execution_count": 51,
   "metadata": {},
   "outputs": [],
   "source": [
    "series = np.asarray(series)\n",
    "rnn_forecast = model_forecast(model, series[..., np.newaxis], window_size)\n",
    "rnn_forecast = rnn_forecast[split_time - window_size:-1, -1, 0]"
   ]
  },
  {
   "cell_type": "code",
   "execution_count": 52,
   "metadata": {},
   "outputs": [],
   "source": [
    "def plot_series(time, series, format=\"-\", start=0, end=None):\n",
    "    plt.plot(time[start:end], series[start:end], format)\n",
    "    plt.xlabel(\"Time\")\n",
    "    plt.ylabel(\"Value\")\n",
    "    plt.grid(True)"
   ]
  },
  {
   "cell_type": "code",
   "execution_count": 53,
   "metadata": {},
   "outputs": [
    {
     "data": {
      "image/png": "[encoded data removed]",
      "text/plain": [
       "<Figure size 720x432 with 1 Axes>"
      ]
     },
     "metadata": {
      "needs_background": "light"
     },
     "output_type": "display_data"
    }
   ],
   "source": [
    "plt.figure(figsize=(10, 6))\n",
    "# plot_series(time_valid, x_valid)\n",
    "# plot_series(time_valid, rnn_forecast)\n",
    "\n",
    "plt.plot(x_valid)\n",
    "plt.xticks(range(len(time_valid)), time_valid)\n",
    "plt.xlabel('Time')\n",
    "plt.ylabel('Available stands')\n",
    "\n",
    "plt.plot(rnn_forecast)\n",
    "plt.xticks(range(len(time_valid)), time_valid)\n",
    "plt.xlabel('Time')\n",
    "plt.ylabel('Available stands')\n",
    "\n",
    "plt.show()\n",
    "\n"
   ]
  },
  {
   "cell_type": "code",
   "execution_count": 54,
   "metadata": {},
   "outputs": [
    {
     "data": {
      "text/plain": [
       "0.6175937"
      ]
     },
     "execution_count": 54,
     "metadata": {},
     "output_type": "execute_result"
    }
   ],
   "source": [
    "tf.keras.metrics.mean_absolute_error(x_valid, rnn_forecast).numpy()"
   ]
  },
  {
   "cell_type": "code",
   "execution_count": 55,
   "metadata": {
    "scrolled": false
   },
   "outputs": [
    {
     "data": {
      "text/plain": [
       "<Figure size 432x288 with 0 Axes>"
      ]
     },
     "execution_count": 55,
     "metadata": {},
     "output_type": "execute_result"
    },
    {
     "data": {
      "image/png": "[encoded data removed]",
      "text/plain": [
       "<Figure size 432x288 with 1 Axes>"
      ]
     },
     "metadata": {
      "needs_background": "light"
     },
     "output_type": "display_data"
    },
    {
     "data": {
      "image/png": "[encoded data removed]",
      "text/plain": [
       "<Figure size 432x288 with 1 Axes>"
      ]
     },
     "metadata": {
      "needs_background": "light"
     },
     "output_type": "display_data"
    },
    {
     "data": {
      "text/plain": [
       "<Figure size 432x288 with 0 Axes>"
      ]
     },
     "metadata": {},
     "output_type": "display_data"
    }
   ],
   "source": [
    "import matplotlib.image  as mpimg\n",
    "import matplotlib.pyplot as plt\n",
    "\n",
    "#-----------------------------------------------------------\n",
    "# Retrieve a list of list results on training and test data\n",
    "# sets for each training epoch\n",
    "#-----------------------------------------------------------\n",
    "loss=history.history['loss']\n",
    "\n",
    "epochs=range(len(loss)) # Get number of epochs\n",
    "\n",
    "\n",
    "#------------------------------------------------\n",
    "# Plot training and validation loss per epoch\n",
    "#------------------------------------------------\n",
    "plt.plot(epochs, loss, 'r')\n",
    "plt.title('Training loss')\n",
    "plt.xlabel(\"Epochs\")\n",
    "plt.ylabel(\"Loss\")\n",
    "plt.legend([\"Loss\"])\n",
    "\n",
    "plt.figure()\n",
    "\n",
    "\n",
    "\n",
    "zoomed_loss = loss[200:]\n",
    "zoomed_epochs = range(200,500)\n",
    "\n",
    "\n",
    "#------------------------------------------------\n",
    "# Plot training and validation loss per epoch\n",
    "#------------------------------------------------\n",
    "plt.plot(zoomed_epochs, zoomed_loss, 'r')\n",
    "plt.title('Training loss')\n",
    "plt.xlabel(\"Epochs\")\n",
    "plt.ylabel(\"Loss\")\n",
    "plt.legend([\"Loss\"])\n",
    "\n",
    "plt.figure()"
   ]
  },
  {
   "cell_type": "code",
   "execution_count": 56,
   "metadata": {},
   "outputs": [
    {
     "name": "stdout",
     "output_type": "stream",
     "text": [
      "Saved model to disk\n"
     ]
    }
   ],
   "source": [
    "# serialize model to JSON\n",
    "model_json = model.to_json()\n",
    "with open(\"model.json\", \"w\") as json_file:\n",
    "    json_file.write(model_json)\n",
    "# serialize weights to HDF5\n",
    "model.save_weights(\"model.h5\")\n",
    "print(\"Saved model to disk\")"
   ]
  },
  {
   "cell_type": "markdown",
   "metadata": {},
   "source": [
    "# 4. Feature Engineering"
   ]
  },
  {
   "cell_type": "markdown",
   "metadata": {},
   "source": [
    "## 4.1 new feature set 1"
   ]
  },
  {
   "cell_type": "markdown",
   "metadata": {},
   "source": [
    "## 4.2 new feature set 2 "
   ]
  },
  {
   "cell_type": "markdown",
   "metadata": {},
   "source": [
    "## 4.5 Post processing"
   ]
  },
  {
   "cell_type": "markdown",
   "metadata": {},
   "source": [
    "### 4.5.1 Print data types "
   ]
  },
  {
   "cell_type": "markdown",
   "metadata": {},
   "source": [
    "### 4.5.2 Print discriptive statistics "
   ]
  },
  {
   "cell_type": "markdown",
   "metadata": {},
   "source": [
    "**Print statistics for catagorical data**"
   ]
  },
  {
   "cell_type": "markdown",
   "metadata": {},
   "source": [
    "**Print statistics for continuous data**"
   ]
  },
  {
   "cell_type": "markdown",
   "metadata": {},
   "source": [
    "**Print statistics for datetime data**"
   ]
  },
  {
   "cell_type": "markdown",
   "metadata": {},
   "source": [
    "### 4.5.3 Save preprocessed data into new CSV for further analystics stage "
   ]
  }
 ],
 "metadata": {
  "kernelspec": {
   "display_name": "Python 3",
   "language": "python",
   "name": "python3"
  },
  "language_info": {
   "codemirror_mode": {
    "name": "ipython",
    "version": 3
   },
   "file_extension": ".py",
   "mimetype": "text/x-python",
   "name": "python",
   "nbconvert_exporter": "python",
   "pygments_lexer": "ipython3",
   "version": "3.7.6"
  }
 },
 "nbformat": 4,
 "nbformat_minor": 1
}
