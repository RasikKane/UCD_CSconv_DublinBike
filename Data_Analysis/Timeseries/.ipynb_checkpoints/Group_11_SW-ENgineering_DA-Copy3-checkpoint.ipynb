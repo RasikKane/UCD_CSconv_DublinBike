{
 "cells": [
  {
   "cell_type": "markdown",
   "metadata": {},
   "source": [
    "# DATA VISUALISATION for dublin bikes and dublin weather  "
   ]
  },
  {
   "cell_type": "markdown",
   "metadata": {},
   "source": [
    "# Initial Statements, Setup & File access "
   ]
  },
  {
   "cell_type": "markdown",
   "metadata": {},
   "source": [
    "Words \"Column\", \"Features\", \"Feature vectors\" are used synonymously to indicate a feature of data."
   ]
  },
  {
   "cell_type": "code",
   "execution_count": 1,
   "metadata": {},
   "outputs": [],
   "source": [
    "# Import pandas, numpy, matplotlib, seaborn libraries\n",
    "import pandas as pd\n",
    "import numpy as np\n",
    "import matplotlib.pyplot as plt\n",
    "import matplotlib.patches as mpatches\n",
    "import seaborn as sns\n",
    "from matplotlib.backends.backend_pdf import PdfPages\n",
    "from tabulate import tabulate\n",
    "import datetime\n",
    "import tensorflow as tf\n",
    "\n",
    "\n",
    "# hide ipykernel warnings \n",
    "import warnings\n",
    "warnings.filterwarnings('ignore')\n",
    "\n",
    "%matplotlib inline"
   ]
  },
  {
   "cell_type": "code",
   "execution_count": 2,
   "metadata": {},
   "outputs": [],
   "source": [
    "# read in data from csv file to pandas dataframe.  \n",
    "bikeStatic = pd.read_csv('dBikeS.csv',  keep_default_na=True, sep=',\\s+', delimiter=',', skipinitialspace=True)\n",
    "bikeDynamic = pd.read_csv('dBikeD.csv',  keep_default_na=True, sep=',\\s+', delimiter=',', skipinitialspace=True)\n",
    "weather = pd.read_csv('dWeatherD.csv',  keep_default_na=True, sep=',\\s+', delimiter=',', skipinitialspace=True)"
   ]
  },
  {
   "cell_type": "markdown",
   "metadata": {},
   "source": [
    "# 1. Data Quality Report"
   ]
  },
  {
   "cell_type": "markdown",
   "metadata": {},
   "source": [
    " - **Scope of stage 1**\n",
    "     - Data is not dropped unless for rows are duplicated.\n",
    "     - Data within a feature is manipulated only with mathematical operation. Data is not altered with reference to data in other features.\n",
    "     - Null values are not treated/ replaced with a unique name. They are preserved for stage2 operations."
   ]
  },
  {
   "cell_type": "markdown",
   "metadata": {},
   "source": [
    "## 1.1 Data view and formatting for Dublin bike dynamic data"
   ]
  },
  {
   "cell_type": "markdown",
   "metadata": {},
   "source": [
    "### 1.1.1 Check details about number of data samples and attributes in data"
   ]
  },
  {
   "cell_type": "code",
   "execution_count": 3,
   "metadata": {},
   "outputs": [
    {
     "data": {
      "text/plain": [
       "(369160, 8)"
      ]
     },
     "execution_count": 3,
     "metadata": {},
     "output_type": "execute_result"
    }
   ],
   "source": [
    "bikeDynamic.shape"
   ]
  },
  {
   "cell_type": "markdown",
   "metadata": {},
   "source": [
    "### 1.1.2 List sample head and tail rows of data"
   ]
  },
  {
   "cell_type": "markdown",
   "metadata": {},
   "source": [
    "#### Sample first 5 rows "
   ]
  },
  {
   "cell_type": "code",
   "execution_count": 4,
   "metadata": {},
   "outputs": [
    {
     "data": {
      "text/html": [
       "<div>\n",
       "<style scoped>\n",
       "    .dataframe tbody tr th:only-of-type {\n",
       "        vertical-align: middle;\n",
       "    }\n",
       "\n",
       "    .dataframe tbody tr th {\n",
       "        vertical-align: top;\n",
       "    }\n",
       "\n",
       "    .dataframe thead th {\n",
       "        text-align: right;\n",
       "    }\n",
       "</style>\n",
       "<table border=\"1\" class=\"dataframe\">\n",
       "  <thead>\n",
       "    <tr style=\"text-align: right;\">\n",
       "      <th></th>\n",
       "      <th>id_Entry</th>\n",
       "      <th>number</th>\n",
       "      <th>status</th>\n",
       "      <th>bike_stands</th>\n",
       "      <th>available_bike_stands</th>\n",
       "      <th>available_bikes</th>\n",
       "      <th>last_update</th>\n",
       "      <th>data_entry_timestamp</th>\n",
       "    </tr>\n",
       "  </thead>\n",
       "  <tbody>\n",
       "    <tr>\n",
       "      <th>0</th>\n",
       "      <td>1745</td>\n",
       "      <td>42</td>\n",
       "      <td>OPEN</td>\n",
       "      <td>30</td>\n",
       "      <td>17</td>\n",
       "      <td>13</td>\n",
       "      <td>2020-02-28 14:55:41</td>\n",
       "      <td>2020-02-28 15:00:04</td>\n",
       "    </tr>\n",
       "    <tr>\n",
       "      <th>1</th>\n",
       "      <td>1746</td>\n",
       "      <td>30</td>\n",
       "      <td>OPEN</td>\n",
       "      <td>20</td>\n",
       "      <td>16</td>\n",
       "      <td>4</td>\n",
       "      <td>2020-02-28 14:59:32</td>\n",
       "      <td>2020-02-28 15:00:04</td>\n",
       "    </tr>\n",
       "    <tr>\n",
       "      <th>2</th>\n",
       "      <td>1747</td>\n",
       "      <td>54</td>\n",
       "      <td>OPEN</td>\n",
       "      <td>33</td>\n",
       "      <td>22</td>\n",
       "      <td>9</td>\n",
       "      <td>2020-02-28 14:54:01</td>\n",
       "      <td>2020-02-28 15:00:04</td>\n",
       "    </tr>\n",
       "    <tr>\n",
       "      <th>3</th>\n",
       "      <td>1748</td>\n",
       "      <td>108</td>\n",
       "      <td>OPEN</td>\n",
       "      <td>40</td>\n",
       "      <td>37</td>\n",
       "      <td>3</td>\n",
       "      <td>2020-02-28 14:59:44</td>\n",
       "      <td>2020-02-28 15:00:04</td>\n",
       "    </tr>\n",
       "    <tr>\n",
       "      <th>4</th>\n",
       "      <td>1749</td>\n",
       "      <td>56</td>\n",
       "      <td>OPEN</td>\n",
       "      <td>40</td>\n",
       "      <td>13</td>\n",
       "      <td>27</td>\n",
       "      <td>2020-02-28 14:52:20</td>\n",
       "      <td>2020-02-28 15:00:04</td>\n",
       "    </tr>\n",
       "  </tbody>\n",
       "</table>\n",
       "</div>"
      ],
      "text/plain": [
       "   id_Entry  number status  bike_stands  available_bike_stands  \\\n",
       "0      1745      42   OPEN           30                     17   \n",
       "1      1746      30   OPEN           20                     16   \n",
       "2      1747      54   OPEN           33                     22   \n",
       "3      1748     108   OPEN           40                     37   \n",
       "4      1749      56   OPEN           40                     13   \n",
       "\n",
       "   available_bikes          last_update data_entry_timestamp  \n",
       "0               13  2020-02-28 14:55:41  2020-02-28 15:00:04  \n",
       "1                4  2020-02-28 14:59:32  2020-02-28 15:00:04  \n",
       "2                9  2020-02-28 14:54:01  2020-02-28 15:00:04  \n",
       "3                3  2020-02-28 14:59:44  2020-02-28 15:00:04  \n",
       "4               27  2020-02-28 14:52:20  2020-02-28 15:00:04  "
      ]
     },
     "execution_count": 4,
     "metadata": {},
     "output_type": "execute_result"
    }
   ],
   "source": [
    "bikeDynamic.head()"
   ]
  },
  {
   "cell_type": "markdown",
   "metadata": {},
   "source": [
    "#### Sample last 5 rows "
   ]
  },
  {
   "cell_type": "code",
   "execution_count": 5,
   "metadata": {},
   "outputs": [
    {
     "data": {
      "text/html": [
       "<div>\n",
       "<style scoped>\n",
       "    .dataframe tbody tr th:only-of-type {\n",
       "        vertical-align: middle;\n",
       "    }\n",
       "\n",
       "    .dataframe tbody tr th {\n",
       "        vertical-align: top;\n",
       "    }\n",
       "\n",
       "    .dataframe thead th {\n",
       "        text-align: right;\n",
       "    }\n",
       "</style>\n",
       "<table border=\"1\" class=\"dataframe\">\n",
       "  <thead>\n",
       "    <tr style=\"text-align: right;\">\n",
       "      <th></th>\n",
       "      <th>id_Entry</th>\n",
       "      <th>number</th>\n",
       "      <th>status</th>\n",
       "      <th>bike_stands</th>\n",
       "      <th>available_bike_stands</th>\n",
       "      <th>available_bikes</th>\n",
       "      <th>last_update</th>\n",
       "      <th>data_entry_timestamp</th>\n",
       "    </tr>\n",
       "  </thead>\n",
       "  <tbody>\n",
       "    <tr>\n",
       "      <th>369155</th>\n",
       "      <td>370900</td>\n",
       "      <td>39</td>\n",
       "      <td>OPEN</td>\n",
       "      <td>20</td>\n",
       "      <td>6</td>\n",
       "      <td>14</td>\n",
       "      <td>2020-03-24 11:37:49</td>\n",
       "      <td>2020-03-24 11:40:02</td>\n",
       "    </tr>\n",
       "    <tr>\n",
       "      <th>369156</th>\n",
       "      <td>370901</td>\n",
       "      <td>83</td>\n",
       "      <td>OPEN</td>\n",
       "      <td>40</td>\n",
       "      <td>27</td>\n",
       "      <td>13</td>\n",
       "      <td>2020-03-24 11:35:57</td>\n",
       "      <td>2020-03-24 11:40:02</td>\n",
       "    </tr>\n",
       "    <tr>\n",
       "      <th>369157</th>\n",
       "      <td>370902</td>\n",
       "      <td>92</td>\n",
       "      <td>OPEN</td>\n",
       "      <td>40</td>\n",
       "      <td>25</td>\n",
       "      <td>15</td>\n",
       "      <td>2020-03-24 11:38:08</td>\n",
       "      <td>2020-03-24 11:40:02</td>\n",
       "    </tr>\n",
       "    <tr>\n",
       "      <th>369158</th>\n",
       "      <td>370903</td>\n",
       "      <td>21</td>\n",
       "      <td>OPEN</td>\n",
       "      <td>30</td>\n",
       "      <td>22</td>\n",
       "      <td>8</td>\n",
       "      <td>2020-03-24 11:31:46</td>\n",
       "      <td>2020-03-24 11:40:02</td>\n",
       "    </tr>\n",
       "    <tr>\n",
       "      <th>369159</th>\n",
       "      <td>370904</td>\n",
       "      <td>88</td>\n",
       "      <td>OPEN</td>\n",
       "      <td>30</td>\n",
       "      <td>9</td>\n",
       "      <td>21</td>\n",
       "      <td>2020-03-24 11:35:03</td>\n",
       "      <td>2020-03-24 11:40:02</td>\n",
       "    </tr>\n",
       "  </tbody>\n",
       "</table>\n",
       "</div>"
      ],
      "text/plain": [
       "        id_Entry  number status  bike_stands  available_bike_stands  \\\n",
       "369155    370900      39   OPEN           20                      6   \n",
       "369156    370901      83   OPEN           40                     27   \n",
       "369157    370902      92   OPEN           40                     25   \n",
       "369158    370903      21   OPEN           30                     22   \n",
       "369159    370904      88   OPEN           30                      9   \n",
       "\n",
       "        available_bikes          last_update data_entry_timestamp  \n",
       "369155               14  2020-03-24 11:37:49  2020-03-24 11:40:02  \n",
       "369156               13  2020-03-24 11:35:57  2020-03-24 11:40:02  \n",
       "369157               15  2020-03-24 11:38:08  2020-03-24 11:40:02  \n",
       "369158                8  2020-03-24 11:31:46  2020-03-24 11:40:02  \n",
       "369159               21  2020-03-24 11:35:03  2020-03-24 11:40:02  "
      ]
     },
     "execution_count": 5,
     "metadata": {},
     "output_type": "execute_result"
    }
   ],
   "source": [
    "bikeDynamic.tail()"
   ]
  },
  {
   "cell_type": "markdown",
   "metadata": {},
   "source": [
    "**Results**:\n",
    " - Column \"id_Entry\" is possibly a key column uniquely identifying a station.\n",
    " - No duplicate column pairs are present in lay man observation\n",
    " - Spreadsheet program shows that all values logged in database are normal and nothing unregulated found."
   ]
  },
  {
   "cell_type": "markdown",
   "metadata": {},
   "source": [
    "**Observation on spreadsheet state that results for date 28 February and 24 March are patial. Hence, they are to be dropped for data consistency.** "
   ]
  },
  {
   "cell_type": "code",
   "execution_count": 6,
   "metadata": {},
   "outputs": [],
   "source": [
    "#DATETIME DATA\n",
    "\n",
    "# Select columns containing datetime data\n",
    "continous_date_columns = bikeDynamic[['last_update', 'data_entry_timestamp']].columns\n",
    "\n",
    "# Assign object type datetime to columns enlisted in continous_date_columns\n",
    "for column in continous_date_columns:\n",
    "    bikeDynamic[column] = pd.to_datetime(bikeDynamic[column])\n",
    "    \n",
    "d1 = datetime.datetime.strptime('2020-03-24 11:37:49','%Y-%m-%d %H:%M:%S')\n",
    "d2 = datetime.datetime.strptime('2020-02-28 11:37:49','%Y-%m-%d %H:%M:%S')\n",
    "\n",
    "bikeDynamic = bikeDynamic[(bikeDynamic['data_entry_timestamp'].dt.date != d1.date()) & (bikeDynamic['data_entry_timestamp'].dt.date != d2.date())]"
   ]
  },
  {
   "cell_type": "markdown",
   "metadata": {},
   "source": [
    "### 1.1.3 Convert features to apropriate data types"
   ]
  },
  {
   "cell_type": "markdown",
   "metadata": {},
   "source": [
    "#### 1.1.3.1 Count number of distinct values assumed by data for each feature  "
   ]
  },
  {
   "cell_type": "code",
   "execution_count": 7,
   "metadata": {},
   "outputs": [
    {
     "data": {
      "text/html": [
       "<div>\n",
       "<style scoped>\n",
       "    .dataframe tbody tr th:only-of-type {\n",
       "        vertical-align: middle;\n",
       "    }\n",
       "\n",
       "    .dataframe tbody tr th {\n",
       "        vertical-align: top;\n",
       "    }\n",
       "\n",
       "    .dataframe thead th {\n",
       "        text-align: right;\n",
       "    }\n",
       "</style>\n",
       "<table border=\"1\" class=\"dataframe\">\n",
       "  <thead>\n",
       "    <tr style=\"text-align: right;\">\n",
       "      <th></th>\n",
       "      <th>Features</th>\n",
       "      <th>Instances</th>\n",
       "      <th>Unique Instances</th>\n",
       "      <th>unique instances : Total instances</th>\n",
       "    </tr>\n",
       "  </thead>\n",
       "  <tbody>\n",
       "    <tr>\n",
       "      <th>0</th>\n",
       "      <td>id_Entry</td>\n",
       "      <td>355410</td>\n",
       "      <td>355410</td>\n",
       "      <td>1.000000</td>\n",
       "    </tr>\n",
       "    <tr>\n",
       "      <th>1</th>\n",
       "      <td>number</td>\n",
       "      <td>355410</td>\n",
       "      <td>110</td>\n",
       "      <td>0.000310</td>\n",
       "    </tr>\n",
       "    <tr>\n",
       "      <th>2</th>\n",
       "      <td>status</td>\n",
       "      <td>355410</td>\n",
       "      <td>2</td>\n",
       "      <td>0.000006</td>\n",
       "    </tr>\n",
       "    <tr>\n",
       "      <th>3</th>\n",
       "      <td>bike_stands</td>\n",
       "      <td>355410</td>\n",
       "      <td>17</td>\n",
       "      <td>0.000048</td>\n",
       "    </tr>\n",
       "    <tr>\n",
       "      <th>4</th>\n",
       "      <td>available_bike_stands</td>\n",
       "      <td>355410</td>\n",
       "      <td>41</td>\n",
       "      <td>0.000115</td>\n",
       "    </tr>\n",
       "    <tr>\n",
       "      <th>5</th>\n",
       "      <td>available_bikes</td>\n",
       "      <td>355410</td>\n",
       "      <td>41</td>\n",
       "      <td>0.000115</td>\n",
       "    </tr>\n",
       "    <tr>\n",
       "      <th>6</th>\n",
       "      <td>last_update</td>\n",
       "      <td>355410</td>\n",
       "      <td>300353</td>\n",
       "      <td>0.845089</td>\n",
       "    </tr>\n",
       "    <tr>\n",
       "      <th>7</th>\n",
       "      <td>data_entry_timestamp</td>\n",
       "      <td>355410</td>\n",
       "      <td>3231</td>\n",
       "      <td>0.009091</td>\n",
       "    </tr>\n",
       "  </tbody>\n",
       "</table>\n",
       "</div>"
      ],
      "text/plain": [
       "                Features Instances Unique Instances  \\\n",
       "0               id_Entry    355410           355410   \n",
       "1                 number    355410              110   \n",
       "2                 status    355410                2   \n",
       "3            bike_stands    355410               17   \n",
       "4  available_bike_stands    355410               41   \n",
       "5        available_bikes    355410               41   \n",
       "6            last_update    355410           300353   \n",
       "7   data_entry_timestamp    355410             3231   \n",
       "\n",
       "   unique instances : Total instances  \n",
       "0                            1.000000  \n",
       "1                            0.000310  \n",
       "2                            0.000006  \n",
       "3                            0.000048  \n",
       "4                            0.000115  \n",
       "5                            0.000115  \n",
       "6                            0.845089  \n",
       "7                            0.009091  "
      ]
     },
     "execution_count": 7,
     "metadata": {},
     "output_type": "execute_result"
    }
   ],
   "source": [
    "# Gather information related to identifiers for instacnes, count of instances and count of unique instances for all features. \n",
    "# This information is stored into a csv.  \n",
    "\n",
    "bikeDynamic_count = pd.DataFrame(\n",
    "    [column, str(bikeDynamic[column].count()), str(len(bikeDynamic[column].unique())),\\\n",
    "    round((len(bikeDynamic[column].unique()) / bikeDynamic[column].count()),6)] for column in bikeDynamic.columns.values\\\n",
    "    )\n",
    "bikeDynamic_count.columns = ['Features', 'Instances', 'Unique Instances','unique instances : Total instances']\n",
    "\n",
    "bikeDynamic_count"
   ]
  },
  {
   "cell_type": "markdown",
   "metadata": {},
   "source": [
    "#### 1.1.3.2 Enlist preassigned data types "
   ]
  },
  {
   "cell_type": "code",
   "execution_count": 8,
   "metadata": {},
   "outputs": [
    {
     "name": "stdout",
     "output_type": "stream",
     "text": [
      "Feature                Data Type\n",
      "---------------------  --------------\n",
      "id_Entry               int64\n",
      "number                 int64\n",
      "status                 object\n",
      "bike_stands            int64\n",
      "available_bike_stands  int64\n",
      "available_bikes        int64\n",
      "last_update            datetime64[ns]\n",
      "data_entry_timestamp   datetime64[ns] \n",
      "\n",
      "\n",
      "\n"
     ]
    }
   ],
   "source": [
    "print(tabulate(pd.DataFrame(bikeDynamic.dtypes), headers=[\"Feature\", \"Data Type\"]), \"\\n\\n\\n\")"
   ]
  },
  {
   "cell_type": "markdown",
   "metadata": {},
   "source": [
    "#### 1.1.3.3 Decide data types to be assigned to each feature "
   ]
  },
  {
   "cell_type": "markdown",
   "metadata": {},
   "source": [
    " - id_Entry is primary keey for the dataset.\n",
    " - Examination of CSV as a spreadsheet helps to **substantiate speculation** about actual data types: <br>\n",
    "\n",
    "| Features                  | Data Classification| Subtype    | Discription    |\n",
    "|:------------------------- |:------------------ |:---------- |:-------------- | \n",
    "| id_Entry                  | numeric            | discrete | Primary key for database|\n",
    "| number                    | numeric            | discrete | staion id|\n",
    "| status                    | catagorical        | nominal    | station is operational or closed |\n",
    "| bike_stands               | numeric            | discrete   | total number of stands at station|\n",
    "| available_bike_stands     | numeric            | discrete   | available bikes at station|\n",
    "| available_bikes           | numeric            | discrete   | available parking slots at station|\n",
    "| last_update               | datetime           | discrete   | last update to API serivce server by station|\n",
    "| data_entry_timestamp      | datetime           | discrete   | time of data entry into server; not relevent for analysis|"
   ]
  },
  {
   "cell_type": "markdown",
   "metadata": {},
   "source": [
    "#### 1.1.3.4 Convert to decided data type "
   ]
  },
  {
   "cell_type": "code",
   "execution_count": 9,
   "metadata": {},
   "outputs": [],
   "source": [
    "#CATAGORICAL DATA\n",
    "\n",
    "# Select columns containing categorical data\n",
    "categorical_columns = bikeDynamic[['status']].columns\n",
    "\n",
    "# Assign data type category to columns listed in categorical_columns\n",
    "for column in categorical_columns:\n",
    "    bikeDynamic[column] = bikeDynamic[column].astype('category') "
   ]
  },
  {
   "cell_type": "code",
   "execution_count": 10,
   "metadata": {},
   "outputs": [],
   "source": [
    "#CONTINUOUS DATA\n",
    "\n",
    "# Select columns containing continuous data\n",
    "continous_columns = bikeDynamic[['id_Entry', 'number','bike_stands','available_bike_stands','available_bikes']].columns\n",
    "\n",
    "# Assign data type int64 to columns listed in continuous_columns\n",
    "for column in continous_columns:\n",
    "    bikeDynamic[column] = bikeDynamic[column].astype('int64')"
   ]
  },
  {
   "cell_type": "markdown",
   "metadata": {},
   "source": [
    "#### 1.1.3.5 Varify correct data type casting of features "
   ]
  },
  {
   "cell_type": "code",
   "execution_count": 11,
   "metadata": {},
   "outputs": [
    {
     "name": "stdout",
     "output_type": "stream",
     "text": [
      "Feature                Data Type\n",
      "---------------------  --------------\n",
      "id_Entry               int64\n",
      "number                 int64\n",
      "status                 category\n",
      "bike_stands            int64\n",
      "available_bike_stands  int64\n",
      "available_bikes        int64\n",
      "last_update            datetime64[ns]\n",
      "data_entry_timestamp   datetime64[ns] \n",
      "\n",
      "\n",
      "\n"
     ]
    }
   ],
   "source": [
    "print(tabulate(pd.DataFrame(bikeDynamic.dtypes), headers=[\"Feature\", \"Data Type\"]), \"\\n\\n\\n\")"
   ]
  },
  {
   "cell_type": "markdown",
   "metadata": {},
   "source": [
    "### 1.1.4 Drop duplicates"
   ]
  },
  {
   "cell_type": "code",
   "execution_count": 12,
   "metadata": {},
   "outputs": [
    {
     "name": "stdout",
     "output_type": "stream",
     "text": [
      "Number of duplicate (excluding first) rows in the table is:  0\n",
      "Number of duplicate rows (including first) in the table is: 0\n"
     ]
    }
   ],
   "source": [
    "# Check for duplicate rows\n",
    "#Print the number of duplicate rows, without the original rows that were duplicated\n",
    "\n",
    "# Check for duplicate rows for primary key \"id_Entry\"\n",
    "print('Number of duplicate (excluding first) rows in the table is: ', bikeDynamic.duplicated(subset = \"id_Entry\").sum()) \n",
    "\n",
    "# Use \"keep=False\" to mark all duplicates as true, including the original rows that were duplicated.\n",
    "print('Number of duplicate rows (including first) in the table is:', bikeDynamic[bikeDynamic.duplicated(subset = \"id_Entry\",keep=False)].shape[0])\n"
   ]
  },
  {
   "cell_type": "code",
   "execution_count": 13,
   "metadata": {},
   "outputs": [
    {
     "name": "stdout",
     "output_type": "stream",
     "text": [
      "Number of duplicate (excluding first) columns in the table is:  0\n",
      "Number of duplicate (including first) columns in the table is:  0\n"
     ]
    }
   ],
   "source": [
    "# Check for duplicate columns\n",
    "#First transpose the df so columns become rows, then apply the same check as above\n",
    "# Since cardinality of data is huge and ever increasing; and we just need to see if NO DUPLICATES EXIST; hence subset of database is taken.\n",
    "\n",
    "bikeDynamicT = bikeDynamic.head(1000).T\n",
    "\n",
    "# Check for duplicate columns.\n",
    "print(\"Number of duplicate (excluding first) columns in the table is: \", bikeDynamicT.duplicated().sum())\n",
    "\n",
    "#Print the number of duplicates, including the original columns that were duplicated\n",
    "print(\"Number of duplicate (including first) columns in the table is: \",  bikeDynamicT[bikeDynamicT.duplicated(keep=False)].shape[0])"
   ]
  },
  {
   "cell_type": "markdown",
   "metadata": {},
   "source": [
    "**Result : Duplicate columns (features) do exist**\n",
    " - Rows : Duplicate samples do not exist. id_Entry has (unique values : total values ratio) = 1. Logically, its a primary key for the dataset. Hence, duplicacies are checked with its respect and none are found.\n",
    " - Columns : Duplicate samples do not exist. "
   ]
  },
  {
   "cell_type": "markdown",
   "metadata": {},
   "source": [
    "### 1.1.5 Check constant features"
   ]
  },
  {
   "cell_type": "markdown",
   "metadata": {},
   "source": [
    "#### 1.1.5.1 Catagorical features "
   ]
  },
  {
   "cell_type": "code",
   "execution_count": 14,
   "metadata": {},
   "outputs": [
    {
     "data": {
      "text/html": [
       "<div>\n",
       "<style scoped>\n",
       "    .dataframe tbody tr th:only-of-type {\n",
       "        vertical-align: middle;\n",
       "    }\n",
       "\n",
       "    .dataframe tbody tr th {\n",
       "        vertical-align: top;\n",
       "    }\n",
       "\n",
       "    .dataframe thead th {\n",
       "        text-align: right;\n",
       "    }\n",
       "</style>\n",
       "<table border=\"1\" class=\"dataframe\">\n",
       "  <thead>\n",
       "    <tr style=\"text-align: right;\">\n",
       "      <th></th>\n",
       "      <th>count</th>\n",
       "      <th>unique</th>\n",
       "      <th>top</th>\n",
       "      <th>freq</th>\n",
       "    </tr>\n",
       "  </thead>\n",
       "  <tbody>\n",
       "    <tr>\n",
       "      <th>status</th>\n",
       "      <td>355410</td>\n",
       "      <td>2</td>\n",
       "      <td>OPEN</td>\n",
       "      <td>355066</td>\n",
       "    </tr>\n",
       "  </tbody>\n",
       "</table>\n",
       "</div>"
      ],
      "text/plain": [
       "         count unique   top    freq\n",
       "status  355410      2  OPEN  355066"
      ]
     },
     "execution_count": 14,
     "metadata": {},
     "output_type": "execute_result"
    }
   ],
   "source": [
    "# Print table with categorical statistics\n",
    "bikeDynamic.select_dtypes(['category']).describe().T"
   ]
  },
  {
   "cell_type": "markdown",
   "metadata": {},
   "source": [
    "**Categorical Data** \n",
    "- Reviewing the categorical data below we can see all unique values > 1\n",
    "\n"
   ]
  },
  {
   "cell_type": "markdown",
   "metadata": {},
   "source": [
    "#### 1.1.5.2 Continuous features "
   ]
  },
  {
   "cell_type": "code",
   "execution_count": 15,
   "metadata": {},
   "outputs": [
    {
     "data": {
      "text/html": [
       "<div>\n",
       "<style scoped>\n",
       "    .dataframe tbody tr th:only-of-type {\n",
       "        vertical-align: middle;\n",
       "    }\n",
       "\n",
       "    .dataframe tbody tr th {\n",
       "        vertical-align: top;\n",
       "    }\n",
       "\n",
       "    .dataframe thead th {\n",
       "        text-align: right;\n",
       "    }\n",
       "</style>\n",
       "<table border=\"1\" class=\"dataframe\">\n",
       "  <thead>\n",
       "    <tr style=\"text-align: right;\">\n",
       "      <th></th>\n",
       "      <th>count</th>\n",
       "      <th>mean</th>\n",
       "      <th>std</th>\n",
       "      <th>min</th>\n",
       "      <th>25%</th>\n",
       "      <th>50%</th>\n",
       "      <th>75%</th>\n",
       "      <th>max</th>\n",
       "    </tr>\n",
       "  </thead>\n",
       "  <tbody>\n",
       "    <tr>\n",
       "      <th>id_Entry</th>\n",
       "      <td>355410.0</td>\n",
       "      <td>185389.500000</td>\n",
       "      <td>102598.173924</td>\n",
       "      <td>7685.0</td>\n",
       "      <td>96537.25</td>\n",
       "      <td>185389.5</td>\n",
       "      <td>274241.75</td>\n",
       "      <td>363094.0</td>\n",
       "    </tr>\n",
       "    <tr>\n",
       "      <th>number</th>\n",
       "      <td>355410.0</td>\n",
       "      <td>60.518182</td>\n",
       "      <td>33.767631</td>\n",
       "      <td>2.0</td>\n",
       "      <td>31.00</td>\n",
       "      <td>61.5</td>\n",
       "      <td>90.00</td>\n",
       "      <td>117.0</td>\n",
       "    </tr>\n",
       "    <tr>\n",
       "      <th>bike_stands</th>\n",
       "      <td>355410.0</td>\n",
       "      <td>32.181818</td>\n",
       "      <td>7.650539</td>\n",
       "      <td>16.0</td>\n",
       "      <td>29.00</td>\n",
       "      <td>30.0</td>\n",
       "      <td>40.00</td>\n",
       "      <td>40.0</td>\n",
       "    </tr>\n",
       "    <tr>\n",
       "      <th>available_bike_stands</th>\n",
       "      <td>355410.0</td>\n",
       "      <td>20.249658</td>\n",
       "      <td>10.792020</td>\n",
       "      <td>0.0</td>\n",
       "      <td>12.00</td>\n",
       "      <td>20.0</td>\n",
       "      <td>29.00</td>\n",
       "      <td>40.0</td>\n",
       "    </tr>\n",
       "    <tr>\n",
       "      <th>available_bikes</th>\n",
       "      <td>355410.0</td>\n",
       "      <td>11.842146</td>\n",
       "      <td>9.583294</td>\n",
       "      <td>0.0</td>\n",
       "      <td>4.00</td>\n",
       "      <td>10.0</td>\n",
       "      <td>18.00</td>\n",
       "      <td>40.0</td>\n",
       "    </tr>\n",
       "  </tbody>\n",
       "</table>\n",
       "</div>"
      ],
      "text/plain": [
       "                          count           mean            std     min  \\\n",
       "id_Entry               355410.0  185389.500000  102598.173924  7685.0   \n",
       "number                 355410.0      60.518182      33.767631     2.0   \n",
       "bike_stands            355410.0      32.181818       7.650539    16.0   \n",
       "available_bike_stands  355410.0      20.249658      10.792020     0.0   \n",
       "available_bikes        355410.0      11.842146       9.583294     0.0   \n",
       "\n",
       "                            25%       50%        75%       max  \n",
       "id_Entry               96537.25  185389.5  274241.75  363094.0  \n",
       "number                    31.00      61.5      90.00     117.0  \n",
       "bike_stands               29.00      30.0      40.00      40.0  \n",
       "available_bike_stands     12.00      20.0      29.00      40.0  \n",
       "available_bikes            4.00      10.0      18.00      40.0  "
      ]
     },
     "execution_count": 15,
     "metadata": {},
     "output_type": "execute_result"
    }
   ],
   "source": [
    "# Print table with continuous statistics\n",
    "bikeDynamic.select_dtypes(include=['int64']).describe().T"
   ]
  },
  {
   "cell_type": "markdown",
   "metadata": {},
   "source": [
    "**Continuous Data** \n",
    "- No continuous feature has a non zero standard deviation.  \n",
    "- This implies that feature does not contain a single constant value in all of the rows. Thus in this case, none of the continuous features are constant.\n",
    "- Result - No constant columns"
   ]
  },
  {
   "cell_type": "markdown",
   "metadata": {},
   "source": [
    "#### 1.1.5.3 DateTime features "
   ]
  },
  {
   "cell_type": "code",
   "execution_count": 16,
   "metadata": {},
   "outputs": [
    {
     "data": {
      "text/html": [
       "<div>\n",
       "<style scoped>\n",
       "    .dataframe tbody tr th:only-of-type {\n",
       "        vertical-align: middle;\n",
       "    }\n",
       "\n",
       "    .dataframe tbody tr th {\n",
       "        vertical-align: top;\n",
       "    }\n",
       "\n",
       "    .dataframe thead th {\n",
       "        text-align: right;\n",
       "    }\n",
       "</style>\n",
       "<table border=\"1\" class=\"dataframe\">\n",
       "  <thead>\n",
       "    <tr style=\"text-align: right;\">\n",
       "      <th></th>\n",
       "      <th>count</th>\n",
       "      <th>unique</th>\n",
       "      <th>top</th>\n",
       "      <th>freq</th>\n",
       "      <th>first</th>\n",
       "      <th>last</th>\n",
       "    </tr>\n",
       "  </thead>\n",
       "  <tbody>\n",
       "    <tr>\n",
       "      <th>last_update</th>\n",
       "      <td>355410</td>\n",
       "      <td>300353</td>\n",
       "      <td>2020-03-13 21:14:38</td>\n",
       "      <td>116</td>\n",
       "      <td>2020-02-28 22:57:37</td>\n",
       "      <td>2020-03-23 23:49:05</td>\n",
       "    </tr>\n",
       "    <tr>\n",
       "      <th>data_entry_timestamp</th>\n",
       "      <td>355410</td>\n",
       "      <td>3231</td>\n",
       "      <td>2020-03-19 03:40:02</td>\n",
       "      <td>110</td>\n",
       "      <td>2020-02-29 00:00:06</td>\n",
       "      <td>2020-03-23 23:50:02</td>\n",
       "    </tr>\n",
       "  </tbody>\n",
       "</table>\n",
       "</div>"
      ],
      "text/plain": [
       "                       count  unique                 top freq  \\\n",
       "last_update           355410  300353 2020-03-13 21:14:38  116   \n",
       "data_entry_timestamp  355410    3231 2020-03-19 03:40:02  110   \n",
       "\n",
       "                                   first                last  \n",
       "last_update          2020-02-28 22:57:37 2020-03-23 23:49:05  \n",
       "data_entry_timestamp 2020-02-29 00:00:06 2020-03-23 23:50:02  "
      ]
     },
     "execution_count": 16,
     "metadata": {},
     "output_type": "execute_result"
    }
   ],
   "source": [
    "# Print table with continuous statistics\n",
    "bikeDynamic.select_dtypes(include=['datetime']).describe().T"
   ]
  },
  {
   "cell_type": "markdown",
   "metadata": {},
   "source": [
    "**DateTime Data** \n",
    "- Reviewing the datetime data below we can see all unique values > 1 \n",
    "\n",
    "Though this is not catagorical data, it is valid to say that last_update being same for multiple stations is a likely possibility. So is case for data_entry_timestamp; which represents time of data entry into database by data scraper."
   ]
  },
  {
   "cell_type": "markdown",
   "metadata": {},
   "source": [
    "**Result : No constant Features found in dataset**"
   ]
  },
  {
   "cell_type": "markdown",
   "metadata": {},
   "source": [
    "### 1.1.6 Check for null values in features"
   ]
  },
  {
   "cell_type": "code",
   "execution_count": 17,
   "metadata": {},
   "outputs": [
    {
     "name": "stdout",
     "output_type": "stream",
     "text": [
      "Features             Null instances \n",
      "\n",
      "\n"
     ]
    },
    {
     "data": {
      "text/plain": [
       "id_Entry                 0\n",
       "number                   0\n",
       "status                   0\n",
       "bike_stands              0\n",
       "available_bike_stands    0\n",
       "available_bikes          0\n",
       "last_update              0\n",
       "data_entry_timestamp     0\n",
       "dtype: int64"
      ]
     },
     "execution_count": 17,
     "metadata": {},
     "output_type": "execute_result"
    }
   ],
   "source": [
    "print(\"Features\".ljust(20,\" \"),\"Null instances\",\"\\n\\n\")\n",
    "bikeDynamic.isnull().sum()"
   ]
  },
  {
   "cell_type": "markdown",
   "metadata": {},
   "source": [
    "**Result : No null values found**"
   ]
  },
  {
   "cell_type": "markdown",
   "metadata": {},
   "source": [
    "## 1.2 Data cleansing and discriptive statistics"
   ]
  },
  {
   "cell_type": "markdown",
   "metadata": {},
   "source": [
    "### 1.2.1 Varify cardinality "
   ]
  },
  {
   "cell_type": "markdown",
   "metadata": {},
   "source": [
    "#### 1.2.1.1 Catagorical features "
   ]
  },
  {
   "cell_type": "code",
   "execution_count": 18,
   "metadata": {},
   "outputs": [
    {
     "name": "stdout",
     "output_type": "stream",
     "text": [
      "Feature: status \tCardinality: 2 \n",
      " [OPEN, CLOSED]\n",
      "Categories (2, object): [OPEN, CLOSED] \n",
      "\n",
      "\n"
     ]
    }
   ],
   "source": [
    "# Check for irregular cardinality & permitted values in categorical features.\n",
    "columns = list(bikeDynamic.select_dtypes(['category']).columns.values)\n",
    "for column in columns: \n",
    "    print(\"Feature:\",column,\"\\tCardinality:\",str(len(bikeDynamic[column].unique())),\"\\n\",pd.unique(bikeDynamic[column].ravel()),\"\\n\\n\")"
   ]
  },
  {
   "cell_type": "code",
   "execution_count": 19,
   "metadata": {},
   "outputs": [
    {
     "name": "stdout",
     "output_type": "stream",
     "text": [
      "status   Cardinality:2 \n",
      "----------------------\n",
      "\n",
      "Instance      Number of Instances\n",
      "----------  ---------------------\n",
      "OPEN                       355066\n",
      "CLOSED                        344 \n",
      "\n",
      "\n",
      "\n"
     ]
    }
   ],
   "source": [
    "# For each catagorical feature, display the number of instances each of its values has.\n",
    "columns = list(bikeDynamic.select_dtypes(['category']).columns.values)\n",
    "for column in columns:\n",
    "    featureDetail = column+\"   Cardinality:\"+str(len(bikeDynamic[column].unique()))\n",
    "    print(featureDetail,\"\\n{}\\n\".format('-'*len(str(featureDetail))))\n",
    "    print(tabulate(pd.DataFrame(bikeDynamic[column].value_counts().nlargest(15)), headers=[\"Instance\", \"Number of Instances\"]), \"\\n\\n\\n\")\n"
   ]
  },
  {
   "cell_type": "markdown",
   "metadata": {},
   "source": [
    "**Values of cardinality of catagorical features are regular and within normal consideration.** \n",
    " - Almost stations are 'OPEN'.\n",
    " - Only 0.1% times station entry is 'CLOSED'"
   ]
  },
  {
   "cell_type": "markdown",
   "metadata": {},
   "source": [
    "#### 1.2.1.2 Continuous features "
   ]
  },
  {
   "cell_type": "code",
   "execution_count": 20,
   "metadata": {},
   "outputs": [
    {
     "name": "stdout",
     "output_type": "stream",
     "text": [
      "Feature: id_Entry \tCardinality: 355410 \n",
      " [  7685   7686   7687 ... 363092 363093 363094] \n",
      "\n",
      "\n",
      "\n",
      "Feature: number \tCardinality: 110 \n",
      " [  2   3   4   5   6   7   8   9  10  11  12  13  15  16  17  18  19  21\n",
      "  22  23  24  25  26  27  28  29  30  31  32  33  34  36  37  38  39  40\n",
      "  41  42  43  44  45  47  48  49  50  51  52  53  54  55  56  57  58  59\n",
      "  61  62  63  64  65  66  67  68  69  71  72  73  74  75  76  77  78  79\n",
      "  80  81  82  83  84  85  86  87  88  89  90  91  92  93  94  95  96  97\n",
      "  98  99 100 101 102 103 104 105 106 107 108 109 110 111 112 113 114 115\n",
      " 116 117] \n",
      "\n",
      "\n",
      "\n",
      "Feature: bike_stands \tCardinality: 17 \n",
      " [16 20 21 22 23 24 25 27 29 30 31 32 33 35 36 38 40] \n",
      "\n",
      "\n",
      "\n",
      "Feature: available_bike_stands \tCardinality: 41 \n",
      " [ 0  1  2  3  4  5  6  7  8  9 10 11 12 13 14 15 16 17 18 19 20 21 22 23\n",
      " 24 25 26 27 28 29 30 31 32 33 34 35 36 37 38 39 40] \n",
      "\n",
      "\n",
      "\n",
      "Feature: available_bikes \tCardinality: 41 \n",
      " [ 0  1  2  3  4  5  6  7  8  9 10 11 12 13 14 15 16 17 18 19 20 21 22 23\n",
      " 24 25 26 27 28 29 30 31 32 33 34 35 36 37 38 39 40] \n",
      "\n",
      "\n",
      "\n"
     ]
    }
   ],
   "source": [
    "# Check for irregular cardinality & permitted values in continuous features.\n",
    "columns = list(bikeDynamic.select_dtypes(['int64']).columns.values)\n",
    "for column in columns: \n",
    "    print(\"Feature:\",column,\"\\tCardinality:\",str(len(bikeDynamic[column].unique())),\"\\n\",pd.unique(sorted(bikeDynamic[column].ravel())),\"\\n\\n\\n\")"
   ]
  },
  {
   "cell_type": "code",
   "execution_count": 21,
   "metadata": {
    "scrolled": true
   },
   "outputs": [
    {
     "name": "stdout",
     "output_type": "stream",
     "text": [
      "id_Entry \n",
      "--------\n",
      "\n",
      "  Feature    Number of Instances\n",
      "---------  ---------------------\n",
      "     8188                      1\n",
      "   287449                      1\n",
      "   271057                      1\n",
      "   277202                      1\n",
      "   275155                      1\n",
      "   264916                      1\n",
      "   262869                      1\n",
      "   269014                      1\n",
      "   266967                      1\n",
      "   289496                      1\n",
      "   293594                      1\n",
      "   316111                      1\n",
      "   291547                      1\n",
      "   281308                      1\n",
      "   279261                      1 \n",
      "\n",
      "\n",
      "\n",
      "number \n",
      "------\n",
      "\n",
      "  Feature    Number of Instances\n",
      "---------  ---------------------\n",
      "      117                   3231\n",
      "       45                   3231\n",
      "       33                   3231\n",
      "       34                   3231\n",
      "       36                   3231\n",
      "       37                   3231\n",
      "       38                   3231\n",
      "       39                   3231\n",
      "       40                   3231\n",
      "       41                   3231\n",
      "       42                   3231\n",
      "       43                   3231\n",
      "       44                   3231\n",
      "       47                   3231\n",
      "       31                   3231 \n",
      "\n",
      "\n",
      "\n",
      "bike_stands \n",
      "-----------\n",
      "\n",
      "  Feature    Number of Instances\n",
      "---------  ---------------------\n",
      "       40                 138933\n",
      "       30                  87237\n",
      "       20                  51696\n",
      "       29                  12924\n",
      "       38                   9693\n",
      "       35                   6462\n",
      "       25                   6462\n",
      "       23                   6462\n",
      "       36                   6462\n",
      "       16                   6462\n",
      "       33                   3231\n",
      "       32                   3231\n",
      "       31                   3231\n",
      "       27                   3231\n",
      "       24                   3231 \n",
      "\n",
      "\n",
      "\n",
      "available_bike_stands \n",
      "---------------------\n",
      "\n",
      "  Feature    Number of Instances\n",
      "---------  ---------------------\n",
      "       20                  15713\n",
      "       30                  13632\n",
      "       40                  12793\n",
      "       19                  12684\n",
      "       17                  12199\n",
      "       18                  12105\n",
      "       16                  11880\n",
      "       29                  11317\n",
      "       27                  10815\n",
      "       28                  10763\n",
      "       14                  10048\n",
      "       15                   9963\n",
      "       13                   9763\n",
      "       26                   9756\n",
      "       23                   9735 \n",
      "\n",
      "\n",
      "\n",
      "available_bikes \n",
      "---------------\n",
      "\n",
      "  Feature    Number of Instances\n",
      "---------  ---------------------\n",
      "        0                  36620\n",
      "        1                  17788\n",
      "        2                  16171\n",
      "        3                  14873\n",
      "        4                  14343\n",
      "        9                  14273\n",
      "        6                  14053\n",
      "        7                  13839\n",
      "        8                  13592\n",
      "       10                  13546\n",
      "       11                  13496\n",
      "        5                  13048\n",
      "       12                  12804\n",
      "       13                  11438\n",
      "       14                  11377 \n",
      "\n",
      "\n",
      "\n"
     ]
    }
   ],
   "source": [
    "# For each continuous feature, display the number of instances each of its values has.\n",
    "columns = list(bikeDynamic.select_dtypes(['int64']).columns.values)\n",
    "for column in columns:\n",
    "    print(column,\"\\n{}\\n\".format('-'*len(str(column))))\n",
    "    print(tabulate(pd.DataFrame(bikeDynamic[column].value_counts().nlargest(15)), headers=[\"Feature\", \"Number of Instances\"]), \"\\n\\n\\n\")\n"
   ]
  },
  {
   "cell_type": "markdown",
   "metadata": {},
   "source": [
    "**Values of cardinality of Continuous features are regular and within normal consideration.** \n",
    " - No irregularity is found\n",
    " - Refering to quartile ranges and permissible values, it is evident that for both bike_stands, available_bike_stands and available_bikes features: \n",
    "     - On average, nearly 35% of stands have 0 available bikes at any time\n",
    "     - 70% Bike stands have capacity greater than 29; 39% Bike stands have capcity of 40 bikes"
   ]
  },
  {
   "cell_type": "markdown",
   "metadata": {},
   "source": [
    "#### 1.2.1.3 DateTime features "
   ]
  },
  {
   "cell_type": "code",
   "execution_count": 22,
   "metadata": {},
   "outputs": [
    {
     "name": "stdout",
     "output_type": "stream",
     "text": [
      "Feature: last_update \tCardinality: 300353 \n",
      " ['2020-02-28T22:57:37.000000000' '2020-02-28T23:50:00.000000000'\n",
      " '2020-02-28T23:50:12.000000000' ... '2020-03-23T23:48:59.000000000'\n",
      " '2020-03-23T23:49:02.000000000' '2020-03-23T23:49:05.000000000'] \n",
      "\n",
      "\n",
      "\n",
      "Feature: data_entry_timestamp \tCardinality: 3231 \n",
      " ['2020-02-29T00:00:06.000000000' '2020-02-29T00:10:02.000000000'\n",
      " '2020-02-29T00:20:02.000000000' ... '2020-03-23T23:30:02.000000000'\n",
      " '2020-03-23T23:40:02.000000000' '2020-03-23T23:50:02.000000000'] \n",
      "\n",
      "\n",
      "\n"
     ]
    }
   ],
   "source": [
    "# Check for irregular cardinality & permitted values in datetime features.\n",
    "columns = list(bikeDynamic.select_dtypes(['datetime64']).columns.values)\n",
    "for column in columns: \n",
    "    print(\"Feature:\",column,\"\\tCardinality:\",str(len(bikeDynamic[column].unique())),\"\\n\",pd.unique(sorted(bikeDynamic[column].ravel())),\"\\n\\n\\n\")"
   ]
  },
  {
   "cell_type": "code",
   "execution_count": 23,
   "metadata": {
    "scrolled": true
   },
   "outputs": [
    {
     "name": "stdout",
     "output_type": "stream",
     "text": [
      "last_update \n",
      "-----------\n",
      "\n",
      "Feature                Number of Instances\n",
      "-------------------  ---------------------\n",
      "2020-03-13 21:14:38                    116\n",
      "2020-03-06 19:32:44                     41\n",
      "2020-03-14 04:06:25                     40\n",
      "2020-03-16 03:55:32                     21\n",
      "2020-03-16 19:33:46                     18\n",
      "2020-03-12 15:31:12                     16\n",
      "2020-03-16 03:55:04                     15\n",
      "2020-03-16 03:59:52                     15\n",
      "2020-03-13 06:58:33                     15\n",
      "2020-03-16 03:54:54                     14 \n",
      "\n",
      "\n",
      "\n",
      "data_entry_timestamp \n",
      "--------------------\n",
      "\n",
      "Feature                Number of Instances\n",
      "-------------------  ---------------------\n",
      "2020-03-19 03:40:02                    110\n",
      "2020-03-07 22:30:02                    110\n",
      "2020-03-07 07:30:02                    110\n",
      "2020-03-07 05:00:04                    110\n",
      "2020-03-16 00:00:05                    110\n",
      "2020-03-15 20:20:02                    110\n",
      "2020-03-18 06:40:02                    110\n",
      "2020-03-04 23:50:02                    110\n",
      "2020-03-20 16:00:06                    110\n",
      "2020-03-19 15:10:02                    110 \n",
      "\n",
      "\n",
      "\n"
     ]
    }
   ],
   "source": [
    "# For each datetime feature, display the number of instances each of its values has.\n",
    "columns = list(bikeDynamic.select_dtypes(['datetime64']).columns.values)\n",
    "for column in columns:\n",
    "    print(column,\"\\n{}\\n\".format('-'*len(str(column))))\n",
    "    print(tabulate(pd.DataFrame(bikeDynamic[column].value_counts().nlargest(10)), headers=[\"Feature\", \"Number of Instances\"]), \"\\n\\n\\n\")\n"
   ]
  },
  {
   "cell_type": "markdown",
   "metadata": {},
   "source": [
    "**Values of cardinality of DateTime features are regular and within normal consideration.** \n",
    "- As expected, data_entry_timestamp has fixed number of instances for each entry since data is entered for each station exactly once\n",
    "- last_update feature shows 116 instances for a perticular \"2020-03-13 21:14:38\" which is an eye catcher."
   ]
  },
  {
   "cell_type": "markdown",
   "metadata": {},
   "source": [
    "### 1.2.2 Check logical integrity of data "
   ]
  },
  {
   "cell_type": "markdown",
   "metadata": {},
   "source": [
    "**Data integrity is checked for following cases:**\n",
    " - is \"bike_stands\" $>=$ \"available_bike_stands\" $+$ \"available_bikes\"  [Any other sequence is incorrect]\n",
    " - is \"last_update\" $<=$ \"data_entry_timestamp\" [Any other sequence is incorrect]"
   ]
  },
  {
   "cell_type": "markdown",
   "metadata": {},
   "source": [
    "Date of birth for an animal must always be smaller than or equal to date of intake into shelter."
   ]
  },
  {
   "cell_type": "code",
   "execution_count": 24,
   "metadata": {},
   "outputs": [
    {
     "name": "stdout",
     "output_type": "stream",
     "text": [
      "Number of rows failing the test:  18\n"
     ]
    },
    {
     "data": {
      "text/html": [
       "<div>\n",
       "<style scoped>\n",
       "    .dataframe tbody tr th:only-of-type {\n",
       "        vertical-align: middle;\n",
       "    }\n",
       "\n",
       "    .dataframe tbody tr th {\n",
       "        vertical-align: top;\n",
       "    }\n",
       "\n",
       "    .dataframe thead th {\n",
       "        text-align: right;\n",
       "    }\n",
       "</style>\n",
       "<table border=\"1\" class=\"dataframe\">\n",
       "  <thead>\n",
       "    <tr style=\"text-align: right;\">\n",
       "      <th></th>\n",
       "      <th>available_bike_stands</th>\n",
       "      <th>available_bikes</th>\n",
       "      <th>bike_stands</th>\n",
       "    </tr>\n",
       "  </thead>\n",
       "  <tbody>\n",
       "    <tr>\n",
       "      <th>63885</th>\n",
       "      <td>17</td>\n",
       "      <td>0</td>\n",
       "      <td>16</td>\n",
       "    </tr>\n",
       "    <tr>\n",
       "      <th>248795</th>\n",
       "      <td>16</td>\n",
       "      <td>1</td>\n",
       "      <td>16</td>\n",
       "    </tr>\n",
       "    <tr>\n",
       "      <th>248905</th>\n",
       "      <td>16</td>\n",
       "      <td>1</td>\n",
       "      <td>16</td>\n",
       "    </tr>\n",
       "    <tr>\n",
       "      <th>249125</th>\n",
       "      <td>16</td>\n",
       "      <td>1</td>\n",
       "      <td>16</td>\n",
       "    </tr>\n",
       "    <tr>\n",
       "      <th>249235</th>\n",
       "      <td>16</td>\n",
       "      <td>1</td>\n",
       "      <td>16</td>\n",
       "    </tr>\n",
       "  </tbody>\n",
       "</table>\n",
       "</div>"
      ],
      "text/plain": [
       "        available_bike_stands  available_bikes  bike_stands\n",
       "63885                      17                0           16\n",
       "248795                     16                1           16\n",
       "248905                     16                1           16\n",
       "249125                     16                1           16\n",
       "249235                     16                1           16"
      ]
     },
     "execution_count": 24,
     "metadata": {},
     "output_type": "execute_result"
    }
   ],
   "source": [
    "test_1 = bikeDynamic[[\"available_bike_stands\",\"available_bikes\",\"bike_stands\"]][bikeDynamic[\"available_bike_stands\"].add(bikeDynamic[\"available_bikes\"], axis=0)  >  bikeDynamic[\"bike_stands\"]]\n",
    "print(\"Number of rows failing the test: \", test_1.shape[0])\n",
    "test_1.head(5)"
   ]
  },
  {
   "cell_type": "markdown",
   "metadata": {},
   "source": [
    "Date of birth for an animal must always be smaller than or equal to date of Outcome from shelter."
   ]
  },
  {
   "cell_type": "code",
   "execution_count": 25,
   "metadata": {},
   "outputs": [
    {
     "name": "stdout",
     "output_type": "stream",
     "text": [
      "Number of rows failing the test:  0\n"
     ]
    },
    {
     "data": {
      "text/html": [
       "<div>\n",
       "<style scoped>\n",
       "    .dataframe tbody tr th:only-of-type {\n",
       "        vertical-align: middle;\n",
       "    }\n",
       "\n",
       "    .dataframe tbody tr th {\n",
       "        vertical-align: top;\n",
       "    }\n",
       "\n",
       "    .dataframe thead th {\n",
       "        text-align: right;\n",
       "    }\n",
       "</style>\n",
       "<table border=\"1\" class=\"dataframe\">\n",
       "  <thead>\n",
       "    <tr style=\"text-align: right;\">\n",
       "      <th></th>\n",
       "      <th>last_update</th>\n",
       "      <th>data_entry_timestamp</th>\n",
       "    </tr>\n",
       "  </thead>\n",
       "  <tbody>\n",
       "  </tbody>\n",
       "</table>\n",
       "</div>"
      ],
      "text/plain": [
       "Empty DataFrame\n",
       "Columns: [last_update, data_entry_timestamp]\n",
       "Index: []"
      ]
     },
     "execution_count": 25,
     "metadata": {},
     "output_type": "execute_result"
    }
   ],
   "source": [
    "test_2 = bikeDynamic[[\"last_update\",\"data_entry_timestamp\"]][bikeDynamic[\"data_entry_timestamp\"]  <  bikeDynamic[\"last_update\"]]\n",
    "print(\"Number of rows failing the test: \", test_2.shape[0])\n",
    "test_2.head(5)"
   ]
  },
  {
   "cell_type": "markdown",
   "metadata": {},
   "source": [
    "### 1.2.3  Save discriptive statistics into CSV for data quality report"
   ]
  },
  {
   "cell_type": "markdown",
   "metadata": {},
   "source": [
    "#### 1.2.3.1 Discriptive statistics for Catagorical Data"
   ]
  },
  {
   "cell_type": "code",
   "execution_count": 26,
   "metadata": {},
   "outputs": [
    {
     "data": {
      "text/html": [
       "<div>\n",
       "<style scoped>\n",
       "    .dataframe tbody tr th:only-of-type {\n",
       "        vertical-align: middle;\n",
       "    }\n",
       "\n",
       "    .dataframe tbody tr th {\n",
       "        vertical-align: top;\n",
       "    }\n",
       "\n",
       "    .dataframe thead th {\n",
       "        text-align: right;\n",
       "    }\n",
       "</style>\n",
       "<table border=\"1\" class=\"dataframe\">\n",
       "  <thead>\n",
       "    <tr style=\"text-align: right;\">\n",
       "      <th></th>\n",
       "      <th>count</th>\n",
       "      <th>unique</th>\n",
       "      <th>top</th>\n",
       "      <th>freq</th>\n",
       "    </tr>\n",
       "  </thead>\n",
       "  <tbody>\n",
       "    <tr>\n",
       "      <th>status</th>\n",
       "      <td>355410</td>\n",
       "      <td>2</td>\n",
       "      <td>OPEN</td>\n",
       "      <td>355066</td>\n",
       "    </tr>\n",
       "  </tbody>\n",
       "</table>\n",
       "</div>"
      ],
      "text/plain": [
       "         count unique   top    freq\n",
       "status  355410      2  OPEN  355066"
      ]
     },
     "execution_count": 26,
     "metadata": {},
     "output_type": "execute_result"
    }
   ],
   "source": [
    "# Print table with categorical statistics and preserve in a csv\n",
    "dStat_catagorical = bikeDynamic.select_dtypes(['category']).describe().T\n",
    "dStat_catagorical.to_csv(\"categoricalFeatureDescription.csv\")\n",
    "dStat_catagorical"
   ]
  },
  {
   "cell_type": "markdown",
   "metadata": {},
   "source": [
    "#### 1.2.3.2 Discriptive statistics for Continuous Data"
   ]
  },
  {
   "cell_type": "code",
   "execution_count": 27,
   "metadata": {},
   "outputs": [
    {
     "data": {
      "text/html": [
       "<div>\n",
       "<style scoped>\n",
       "    .dataframe tbody tr th:only-of-type {\n",
       "        vertical-align: middle;\n",
       "    }\n",
       "\n",
       "    .dataframe tbody tr th {\n",
       "        vertical-align: top;\n",
       "    }\n",
       "\n",
       "    .dataframe thead th {\n",
       "        text-align: right;\n",
       "    }\n",
       "</style>\n",
       "<table border=\"1\" class=\"dataframe\">\n",
       "  <thead>\n",
       "    <tr style=\"text-align: right;\">\n",
       "      <th></th>\n",
       "      <th>count</th>\n",
       "      <th>mean</th>\n",
       "      <th>std</th>\n",
       "      <th>min</th>\n",
       "      <th>25%</th>\n",
       "      <th>50%</th>\n",
       "      <th>75%</th>\n",
       "      <th>max</th>\n",
       "    </tr>\n",
       "  </thead>\n",
       "  <tbody>\n",
       "    <tr>\n",
       "      <th>id_Entry</th>\n",
       "      <td>355410.0</td>\n",
       "      <td>185389.500000</td>\n",
       "      <td>102598.173924</td>\n",
       "      <td>7685.0</td>\n",
       "      <td>96537.25</td>\n",
       "      <td>185389.5</td>\n",
       "      <td>274241.75</td>\n",
       "      <td>363094.0</td>\n",
       "    </tr>\n",
       "    <tr>\n",
       "      <th>number</th>\n",
       "      <td>355410.0</td>\n",
       "      <td>60.518182</td>\n",
       "      <td>33.767631</td>\n",
       "      <td>2.0</td>\n",
       "      <td>31.00</td>\n",
       "      <td>61.5</td>\n",
       "      <td>90.00</td>\n",
       "      <td>117.0</td>\n",
       "    </tr>\n",
       "    <tr>\n",
       "      <th>bike_stands</th>\n",
       "      <td>355410.0</td>\n",
       "      <td>32.181818</td>\n",
       "      <td>7.650539</td>\n",
       "      <td>16.0</td>\n",
       "      <td>29.00</td>\n",
       "      <td>30.0</td>\n",
       "      <td>40.00</td>\n",
       "      <td>40.0</td>\n",
       "    </tr>\n",
       "    <tr>\n",
       "      <th>available_bike_stands</th>\n",
       "      <td>355410.0</td>\n",
       "      <td>20.249658</td>\n",
       "      <td>10.792020</td>\n",
       "      <td>0.0</td>\n",
       "      <td>12.00</td>\n",
       "      <td>20.0</td>\n",
       "      <td>29.00</td>\n",
       "      <td>40.0</td>\n",
       "    </tr>\n",
       "    <tr>\n",
       "      <th>available_bikes</th>\n",
       "      <td>355410.0</td>\n",
       "      <td>11.842146</td>\n",
       "      <td>9.583294</td>\n",
       "      <td>0.0</td>\n",
       "      <td>4.00</td>\n",
       "      <td>10.0</td>\n",
       "      <td>18.00</td>\n",
       "      <td>40.0</td>\n",
       "    </tr>\n",
       "  </tbody>\n",
       "</table>\n",
       "</div>"
      ],
      "text/plain": [
       "                          count           mean            std     min  \\\n",
       "id_Entry               355410.0  185389.500000  102598.173924  7685.0   \n",
       "number                 355410.0      60.518182      33.767631     2.0   \n",
       "bike_stands            355410.0      32.181818       7.650539    16.0   \n",
       "available_bike_stands  355410.0      20.249658      10.792020     0.0   \n",
       "available_bikes        355410.0      11.842146       9.583294     0.0   \n",
       "\n",
       "                            25%       50%        75%       max  \n",
       "id_Entry               96537.25  185389.5  274241.75  363094.0  \n",
       "number                    31.00      61.5      90.00     117.0  \n",
       "bike_stands               29.00      30.0      40.00      40.0  \n",
       "available_bike_stands     12.00      20.0      29.00      40.0  \n",
       "available_bikes            4.00      10.0      18.00      40.0  "
      ]
     },
     "execution_count": 27,
     "metadata": {},
     "output_type": "execute_result"
    }
   ],
   "source": [
    "# Print table with continuous statistics and preserve in a csv\n",
    "dStat_continuous = bikeDynamic.select_dtypes(['int64']).describe().T\n",
    "dStat_continuous.to_csv(\"continuousFeatureDescription.csv\")\n",
    "dStat_continuous"
   ]
  },
  {
   "cell_type": "markdown",
   "metadata": {},
   "source": [
    "#### 1.2.3.3 Discriptive statistics for DateTime Data"
   ]
  },
  {
   "cell_type": "markdown",
   "metadata": {},
   "source": [
    "#### 1.2.3.4 Save final CSV from stage 1"
   ]
  },
  {
   "cell_type": "code",
   "execution_count": 28,
   "metadata": {},
   "outputs": [
    {
     "data": {
      "text/html": [
       "<div>\n",
       "<style scoped>\n",
       "    .dataframe tbody tr th:only-of-type {\n",
       "        vertical-align: middle;\n",
       "    }\n",
       "\n",
       "    .dataframe tbody tr th {\n",
       "        vertical-align: top;\n",
       "    }\n",
       "\n",
       "    .dataframe thead th {\n",
       "        text-align: right;\n",
       "    }\n",
       "</style>\n",
       "<table border=\"1\" class=\"dataframe\">\n",
       "  <thead>\n",
       "    <tr style=\"text-align: right;\">\n",
       "      <th></th>\n",
       "      <th>count</th>\n",
       "      <th>unique</th>\n",
       "      <th>top</th>\n",
       "      <th>freq</th>\n",
       "      <th>first</th>\n",
       "      <th>last</th>\n",
       "    </tr>\n",
       "  </thead>\n",
       "  <tbody>\n",
       "    <tr>\n",
       "      <th>last_update</th>\n",
       "      <td>355410</td>\n",
       "      <td>300353</td>\n",
       "      <td>2020-03-13 21:14:38</td>\n",
       "      <td>116</td>\n",
       "      <td>2020-02-28 22:57:37</td>\n",
       "      <td>2020-03-23 23:49:05</td>\n",
       "    </tr>\n",
       "    <tr>\n",
       "      <th>data_entry_timestamp</th>\n",
       "      <td>355410</td>\n",
       "      <td>3231</td>\n",
       "      <td>2020-03-19 03:40:02</td>\n",
       "      <td>110</td>\n",
       "      <td>2020-02-29 00:00:06</td>\n",
       "      <td>2020-03-23 23:50:02</td>\n",
       "    </tr>\n",
       "  </tbody>\n",
       "</table>\n",
       "</div>"
      ],
      "text/plain": [
       "                       count  unique                 top freq  \\\n",
       "last_update           355410  300353 2020-03-13 21:14:38  116   \n",
       "data_entry_timestamp  355410    3231 2020-03-19 03:40:02  110   \n",
       "\n",
       "                                   first                last  \n",
       "last_update          2020-02-28 22:57:37 2020-03-23 23:49:05  \n",
       "data_entry_timestamp 2020-02-29 00:00:06 2020-03-23 23:50:02  "
      ]
     },
     "execution_count": 28,
     "metadata": {},
     "output_type": "execute_result"
    }
   ],
   "source": [
    "# Print table with datetime statistics and preserve in a csv\n",
    "dStat_datetime = bikeDynamic.select_dtypes(['datetime64']).describe().T\n",
    "dStat_datetime.to_csv(\"datetimeFeatureDescription.csv\")\n",
    "dStat_datetime"
   ]
  },
  {
   "cell_type": "markdown",
   "metadata": {},
   "source": [
    "## 1.3 Graphs "
   ]
  },
  {
   "cell_type": "markdown",
   "metadata": {},
   "source": [
    "### 1.3.1 Save Histogram summary sheets for Continuous features into  pdf file"
   ]
  },
  {
   "cell_type": "code",
   "execution_count": 29,
   "metadata": {},
   "outputs": [
    {
     "data": {
      "image/png": "[encoded data removed]",
      "text/plain": [
       "<Figure size 2160x720 with 6 Axes>"
      ]
     },
     "metadata": {
      "needs_background": "light"
     },
     "output_type": "display_data"
    }
   ],
   "source": [
    "# Plot a histogram summary sheet of the continuous features and save in a pdf file\n",
    "columns = list(bikeDynamic.select_dtypes(['int64']).columns.values)\n",
    "bikeDynamic[columns].hist(layout=(2, 3), figsize=(30,10), bins=20)\n",
    "plt.savefig('continuous_histograms_1-1.pdf')"
   ]
  },
  {
   "cell_type": "markdown",
   "metadata": {},
   "source": [
    "### 1.3.2 Save Box plot summary sheets for Continuous features into pdf file"
   ]
  },
  {
   "cell_type": "code",
   "execution_count": 30,
   "metadata": {},
   "outputs": [
    {
     "data": {
      "image/png": "[encoded data removed]",
      "text/plain": [
       "<Figure size 2160x1440 with 6 Axes>"
      ]
     },
     "metadata": {
      "needs_background": "light"
     },
     "output_type": "display_data"
    }
   ],
   "source": [
    "# Plot a histogram summary sheet of the continuous features and save in a pdf file\n",
    "columns = list(bikeDynamic.select_dtypes(['int64']).columns.values)\n",
    "bikeDynamic[columns].plot(kind='box', subplots=True, figsize=(30,20), layout=(2,3), sharex=False, sharey=False)\n",
    "plt.savefig('continuous_box_1-1.pdf')"
   ]
  },
  {
   "cell_type": "markdown",
   "metadata": {},
   "source": [
    "### 1.3.5 Save Bar plot summary sheets for Catagorical features into pdf file"
   ]
  },
  {
   "cell_type": "code",
   "execution_count": 31,
   "metadata": {},
   "outputs": [
    {
     "data": {
      "image/png": "[encoded data removed]",
      "text/plain": [
       "<Figure size 576x576 with 1 Axes>"
      ]
     },
     "metadata": {
      "needs_background": "light"
     },
     "output_type": "display_data"
    }
   ],
   "source": [
    "# Plot bar plots for all the catagorical features and save them in a single PDF file\n",
    "columns = list(bikeDynamic.select_dtypes(['category']).columns.values)\n",
    "with PdfPages('categorical_bar_1-1.pdf') as pp:\n",
    "    for column in columns:\n",
    "        f = bikeDynamic[column].value_counts().plot(kind='bar', figsize=(8,8))\n",
    "        plt.title(column)\n",
    "        pp.savefig(f.get_figure())\n",
    "        plt.show()"
   ]
  },
  {
   "cell_type": "markdown",
   "metadata": {},
   "source": [
    "# 2. Data Quality Plan"
   ]
  },
  {
   "cell_type": "markdown",
   "metadata": {},
   "source": [
    "## 2.1 Data findings  "
   ]
  },
  {
   "cell_type": "markdown",
   "metadata": {},
   "source": [
    "### 2.1.1 Summary of list of issues found in Data Quality Report  "
   ]
  },
  {
   "cell_type": "markdown",
   "metadata": {},
   "source": [
    "- test_1 states that 18 entries have bad data regarding total number of bike stands at a station.\n"
   ]
  },
  {
   "cell_type": "markdown",
   "metadata": {},
   "source": [
    "### 2.1.2 Proposed solutions to rectify identified problems   "
   ]
  },
  {
   "cell_type": "markdown",
   "metadata": {},
   "source": [
    "- Replace feature bike_stands with value '255' which is greater than maximum value for feature [40] "
   ]
  },
  {
   "cell_type": "markdown",
   "metadata": {},
   "source": [
    "## 2.2 Apply solutions to address data quality issues"
   ]
  },
  {
   "cell_type": "markdown",
   "metadata": {},
   "source": [
    "### 2.2.1 DateTime Intake > DateTime Outcome"
   ]
  },
  {
   "cell_type": "code",
   "execution_count": 32,
   "metadata": {},
   "outputs": [
    {
     "name": "stdout",
     "output_type": "stream",
     "text": [
      "Number of rows failing the test:  18\n"
     ]
    },
    {
     "data": {
      "text/html": [
       "<div>\n",
       "<style scoped>\n",
       "    .dataframe tbody tr th:only-of-type {\n",
       "        vertical-align: middle;\n",
       "    }\n",
       "\n",
       "    .dataframe tbody tr th {\n",
       "        vertical-align: top;\n",
       "    }\n",
       "\n",
       "    .dataframe thead th {\n",
       "        text-align: right;\n",
       "    }\n",
       "</style>\n",
       "<table border=\"1\" class=\"dataframe\">\n",
       "  <thead>\n",
       "    <tr style=\"text-align: right;\">\n",
       "      <th></th>\n",
       "      <th>id_Entry</th>\n",
       "      <th>available_bike_stands</th>\n",
       "      <th>available_bikes</th>\n",
       "      <th>bike_stands</th>\n",
       "    </tr>\n",
       "  </thead>\n",
       "  <tbody>\n",
       "    <tr>\n",
       "      <th>63885</th>\n",
       "      <td>65630</td>\n",
       "      <td>17</td>\n",
       "      <td>0</td>\n",
       "      <td>16</td>\n",
       "    </tr>\n",
       "    <tr>\n",
       "      <th>248795</th>\n",
       "      <td>250540</td>\n",
       "      <td>16</td>\n",
       "      <td>1</td>\n",
       "      <td>16</td>\n",
       "    </tr>\n",
       "    <tr>\n",
       "      <th>248905</th>\n",
       "      <td>250650</td>\n",
       "      <td>16</td>\n",
       "      <td>1</td>\n",
       "      <td>16</td>\n",
       "    </tr>\n",
       "    <tr>\n",
       "      <th>249125</th>\n",
       "      <td>250870</td>\n",
       "      <td>16</td>\n",
       "      <td>1</td>\n",
       "      <td>16</td>\n",
       "    </tr>\n",
       "    <tr>\n",
       "      <th>249235</th>\n",
       "      <td>250980</td>\n",
       "      <td>16</td>\n",
       "      <td>1</td>\n",
       "      <td>16</td>\n",
       "    </tr>\n",
       "  </tbody>\n",
       "</table>\n",
       "</div>"
      ],
      "text/plain": [
       "        id_Entry  available_bike_stands  available_bikes  bike_stands\n",
       "63885      65630                     17                0           16\n",
       "248795    250540                     16                1           16\n",
       "248905    250650                     16                1           16\n",
       "249125    250870                     16                1           16\n",
       "249235    250980                     16                1           16"
      ]
     },
     "execution_count": 32,
     "metadata": {},
     "output_type": "execute_result"
    }
   ],
   "source": [
    "dTest = bikeDynamic[[\"id_Entry\",\"available_bike_stands\",\"available_bikes\",\"bike_stands\"]][bikeDynamic[\"available_bike_stands\"].add(bikeDynamic[\"available_bikes\"], axis=0)  >  bikeDynamic[\"bike_stands\"]]\n",
    "print(\"Number of rows failing the test: \", dTest.shape[0])\n",
    "dTest.head(5)"
   ]
  },
  {
   "cell_type": "markdown",
   "metadata": {},
   "source": [
    "**Replacing corresponding entries for feature \"bike_stands\":**"
   ]
  },
  {
   "cell_type": "code",
   "execution_count": 33,
   "metadata": {},
   "outputs": [],
   "source": [
    "dTest_1 = dTest[\"id_Entry\"]\n",
    "\n",
    "for data in dTest_1: \n",
    "    bikeDynamic.loc[(bikeDynamic.id_Entry == data),'bike_stands'] = bikeDynamic.loc[(bikeDynamic.id_Entry == data),'available_bikes'] + bikeDynamic.loc[(bikeDynamic.id_Entry == data),'available_bike_stands']"
   ]
  },
  {
   "cell_type": "code",
   "execution_count": 34,
   "metadata": {},
   "outputs": [
    {
     "name": "stdout",
     "output_type": "stream",
     "text": [
      "Number of rows failing the test:  0\n"
     ]
    },
    {
     "data": {
      "text/html": [
       "<div>\n",
       "<style scoped>\n",
       "    .dataframe tbody tr th:only-of-type {\n",
       "        vertical-align: middle;\n",
       "    }\n",
       "\n",
       "    .dataframe tbody tr th {\n",
       "        vertical-align: top;\n",
       "    }\n",
       "\n",
       "    .dataframe thead th {\n",
       "        text-align: right;\n",
       "    }\n",
       "</style>\n",
       "<table border=\"1\" class=\"dataframe\">\n",
       "  <thead>\n",
       "    <tr style=\"text-align: right;\">\n",
       "      <th></th>\n",
       "      <th>id_Entry</th>\n",
       "      <th>available_bike_stands</th>\n",
       "      <th>available_bikes</th>\n",
       "      <th>bike_stands</th>\n",
       "    </tr>\n",
       "  </thead>\n",
       "  <tbody>\n",
       "  </tbody>\n",
       "</table>\n",
       "</div>"
      ],
      "text/plain": [
       "Empty DataFrame\n",
       "Columns: [id_Entry, available_bike_stands, available_bikes, bike_stands]\n",
       "Index: []"
      ]
     },
     "execution_count": 34,
     "metadata": {},
     "output_type": "execute_result"
    }
   ],
   "source": [
    "dTest = bikeDynamic[[\"id_Entry\",\"available_bike_stands\",\"available_bikes\",\"bike_stands\"]][bikeDynamic[\"available_bike_stands\"].add(bikeDynamic[\"available_bikes\"], axis=0)  >  bikeDynamic[\"bike_stands\"]]\n",
    "print(\"Number of rows failing the test: \", dTest.shape[0])\n",
    "dTest.head(5)"
   ]
  },
  {
   "cell_type": "markdown",
   "metadata": {},
   "source": [
    "## 2.3 Summary of data quality plan"
   ]
  },
  {
   "cell_type": "markdown",
   "metadata": {},
   "source": [
    "\n",
    "\n",
    "| Feature                  | Data Quality issue | Solution Strategy    |\n",
    "|:-------------------------|:------------------ |:---------- | \n",
    "| id_Entry                 | [Primary key]      | Do nothing    |\n",
    "| number                   | Nothing            | Do nothing    |\n",
    "| status                   | Nothing            | Do nothing    |\n",
    "| bike_stands              | Value inconsistancy for 18 entires | increment by 1|\n",
    "| available_bike_stands    | Nothing            | Do nothing    |\n",
    "| available_bikes          | Nothing            | Do nothing    |\n",
    "| last_update              | Nothing            | Do nothing    |\n",
    "| data_entry_timestamp     | Nothing            | Do nothing    |\n"
   ]
  },
  {
   "cell_type": "markdown",
   "metadata": {},
   "source": [
    "## 2.4 Save cleaned data to new CSV "
   ]
  },
  {
   "cell_type": "code",
   "execution_count": 35,
   "metadata": {},
   "outputs": [],
   "source": [
    "bikeDynamic.to_csv('dBikeD_2.4_cleaned.csv', index=False, index_label = True)"
   ]
  },
  {
   "cell_type": "markdown",
   "metadata": {},
   "source": [
    "# 3. Feature Exploration"
   ]
  },
  {
   "cell_type": "markdown",
   "metadata": {},
   "source": [
    "## 3.1 Time series view "
   ]
  },
  {
   "cell_type": "code",
   "execution_count": 36,
   "metadata": {
    "scrolled": true
   },
   "outputs": [],
   "source": [
    "# bikeDynamicTS = bikeDynamic\n",
    "# bikeDynamicTS['date_last_update'] = [d.date() for d in bikeDynamicTS['last_update']]\n",
    "# bikeDynamicTS['time_last_update'] = [d.time() for d in bikeDynamicTS['last_update']]\n",
    "# bikeDynamicTS['day_of_week'] = bikeDynamicTS['last_update'].dt.day_name()\n",
    "# bikeDynamicTS['dayNumber'] = bikeDynamicTS['last_update'].dt.dayofweek\n",
    "# bikeDynamicTS.head()"
   ]
  },
  {
   "cell_type": "code",
   "execution_count": 37,
   "metadata": {
    "scrolled": true
   },
   "outputs": [
    {
     "data": {
      "text/html": [
       "<div>\n",
       "<style scoped>\n",
       "    .dataframe tbody tr th:only-of-type {\n",
       "        vertical-align: middle;\n",
       "    }\n",
       "\n",
       "    .dataframe tbody tr th {\n",
       "        vertical-align: top;\n",
       "    }\n",
       "\n",
       "    .dataframe thead th {\n",
       "        text-align: right;\n",
       "    }\n",
       "</style>\n",
       "<table border=\"1\" class=\"dataframe\">\n",
       "  <thead>\n",
       "    <tr style=\"text-align: right;\">\n",
       "      <th></th>\n",
       "      <th>id_Entry</th>\n",
       "      <th>number</th>\n",
       "      <th>status</th>\n",
       "      <th>bike_stands</th>\n",
       "      <th>available_bike_stands</th>\n",
       "      <th>available_bikes</th>\n",
       "      <th>last_update</th>\n",
       "      <th>data_entry_timestamp</th>\n",
       "      <th>date_UTC</th>\n",
       "      <th>dayNumber</th>\n",
       "    </tr>\n",
       "  </thead>\n",
       "  <tbody>\n",
       "    <tr>\n",
       "      <th>5940</th>\n",
       "      <td>7685</td>\n",
       "      <td>42</td>\n",
       "      <td>OPEN</td>\n",
       "      <td>30</td>\n",
       "      <td>10</td>\n",
       "      <td>20</td>\n",
       "      <td>2020-02-28 23:52:29</td>\n",
       "      <td>2020-02-29 00:00:06</td>\n",
       "      <td>1.582934e+09</td>\n",
       "      <td>5</td>\n",
       "    </tr>\n",
       "    <tr>\n",
       "      <th>5941</th>\n",
       "      <td>7686</td>\n",
       "      <td>30</td>\n",
       "      <td>OPEN</td>\n",
       "      <td>20</td>\n",
       "      <td>20</td>\n",
       "      <td>0</td>\n",
       "      <td>2020-02-28 23:53:40</td>\n",
       "      <td>2020-02-29 00:00:06</td>\n",
       "      <td>1.582934e+09</td>\n",
       "      <td>5</td>\n",
       "    </tr>\n",
       "    <tr>\n",
       "      <th>5942</th>\n",
       "      <td>7687</td>\n",
       "      <td>54</td>\n",
       "      <td>OPEN</td>\n",
       "      <td>33</td>\n",
       "      <td>29</td>\n",
       "      <td>4</td>\n",
       "      <td>2020-02-28 23:54:52</td>\n",
       "      <td>2020-02-29 00:00:06</td>\n",
       "      <td>1.582934e+09</td>\n",
       "      <td>5</td>\n",
       "    </tr>\n",
       "    <tr>\n",
       "      <th>5943</th>\n",
       "      <td>7688</td>\n",
       "      <td>108</td>\n",
       "      <td>OPEN</td>\n",
       "      <td>40</td>\n",
       "      <td>31</td>\n",
       "      <td>9</td>\n",
       "      <td>2020-02-28 22:57:37</td>\n",
       "      <td>2020-02-29 00:00:06</td>\n",
       "      <td>1.582934e+09</td>\n",
       "      <td>5</td>\n",
       "    </tr>\n",
       "    <tr>\n",
       "      <th>5944</th>\n",
       "      <td>7689</td>\n",
       "      <td>56</td>\n",
       "      <td>OPEN</td>\n",
       "      <td>40</td>\n",
       "      <td>37</td>\n",
       "      <td>3</td>\n",
       "      <td>2020-02-28 23:50:26</td>\n",
       "      <td>2020-02-29 00:00:06</td>\n",
       "      <td>1.582934e+09</td>\n",
       "      <td>5</td>\n",
       "    </tr>\n",
       "  </tbody>\n",
       "</table>\n",
       "</div>"
      ],
      "text/plain": [
       "      id_Entry  number status  bike_stands  available_bike_stands  \\\n",
       "5940      7685      42   OPEN           30                     10   \n",
       "5941      7686      30   OPEN           20                     20   \n",
       "5942      7687      54   OPEN           33                     29   \n",
       "5943      7688     108   OPEN           40                     31   \n",
       "5944      7689      56   OPEN           40                     37   \n",
       "\n",
       "      available_bikes         last_update data_entry_timestamp      date_UTC  \\\n",
       "5940               20 2020-02-28 23:52:29  2020-02-29 00:00:06  1.582934e+09   \n",
       "5941                0 2020-02-28 23:53:40  2020-02-29 00:00:06  1.582934e+09   \n",
       "5942                4 2020-02-28 23:54:52  2020-02-29 00:00:06  1.582934e+09   \n",
       "5943                9 2020-02-28 22:57:37  2020-02-29 00:00:06  1.582934e+09   \n",
       "5944                3 2020-02-28 23:50:26  2020-02-29 00:00:06  1.582934e+09   \n",
       "\n",
       "      dayNumber  \n",
       "5940          5  \n",
       "5941          5  \n",
       "5942          5  \n",
       "5943          5  \n",
       "5944          5  "
      ]
     },
     "execution_count": 37,
     "metadata": {},
     "output_type": "execute_result"
    }
   ],
   "source": [
    "bikeDynamicTS = bikeDynamic\n",
    "bikeDynamicTS['date_UTC'] = [datetime.datetime.timestamp(d) for d in bikeDynamicTS['data_entry_timestamp']]\n",
    "bikeDynamicTS['dayNumber'] = bikeDynamicTS['data_entry_timestamp'].dt.dayofweek\n",
    "bikeDynamicTS.head()"
   ]
  },
  {
   "cell_type": "code",
   "execution_count": 38,
   "metadata": {},
   "outputs": [],
   "source": [
    "# bikeDynamic.to_csv('dBikeD_3.1_cleaned.csv', index=False, index_label = True)"
   ]
  },
  {
   "cell_type": "code",
   "execution_count": 39,
   "metadata": {},
   "outputs": [],
   "source": [
    "bikeDynamic.to_csv('dBikeD_3.1_1_cleaned.csv', index=False, index_label = True)"
   ]
  },
  {
   "cell_type": "code",
   "execution_count": 40,
   "metadata": {},
   "outputs": [
    {
     "name": "stdout",
     "output_type": "stream",
     "text": [
      "[datetime.datetime(2020, 2, 29, 0, 0, 6), datetime.datetime(2020, 2, 29, 0, 10, 2), datetime.datetime(2020, 2, 29, 0, 20, 2), datetime.datetime(2020, 2, 29, 0, 30, 2), datetime.datetime(2020, 2, 29, 0, 40, 1), datetime.datetime(2020, 2, 29, 0, 50, 2), datetime.datetime(2020, 3, 1, 1, 50, 1), datetime.datetime(2020, 3, 1, 2, 0, 4), datetime.datetime(2020, 3, 1, 2, 10, 2), datetime.datetime(2020, 3, 1, 2, 20, 2), datetime.datetime(2020, 3, 1, 2, 30, 2), datetime.datetime(2020, 3, 1, 2, 40, 2), datetime.datetime(2020, 3, 1, 2, 50, 2), datetime.datetime(2020, 3, 1, 3, 0, 3), datetime.datetime(2020, 3, 1, 3, 10, 2), datetime.datetime(2020, 3, 1, 3, 20, 2), datetime.datetime(2020, 3, 1, 3, 30, 2), datetime.datetime(2020, 3, 1, 3, 40, 2), datetime.datetime(2020, 3, 1, 3, 50, 26), datetime.datetime(2020, 3, 1, 4, 0, 6), datetime.datetime(2020, 3, 1, 4, 10, 2), datetime.datetime(2020, 3, 1, 4, 20, 2), datetime.datetime(2020, 3, 1, 4, 30, 2), datetime.datetime(2020, 3, 1, 4, 40, 2), datetime.datetime(2020, 3, 1, 4, 50, 2), datetime.datetime(2020, 3, 1, 5, 0, 4), datetime.datetime(2020, 3, 1, 5, 10, 2), datetime.datetime(2020, 3, 1, 5, 20, 2), datetime.datetime(2020, 3, 1, 5, 30, 2), datetime.datetime(2020, 3, 1, 5, 40, 2), datetime.datetime(2020, 3, 1, 5, 50, 2), datetime.datetime(2020, 3, 1, 6, 0, 6), datetime.datetime(2020, 3, 1, 6, 10, 2), datetime.datetime(2020, 3, 1, 6, 20, 2), datetime.datetime(2020, 3, 1, 6, 30, 2), datetime.datetime(2020, 3, 1, 6, 40, 2), datetime.datetime(2020, 3, 1, 6, 50, 1), datetime.datetime(2020, 3, 1, 7, 0, 3), datetime.datetime(2020, 3, 1, 7, 10, 2), datetime.datetime(2020, 3, 1, 7, 20, 1), datetime.datetime(2020, 3, 1, 7, 30, 2), datetime.datetime(2020, 3, 1, 7, 40, 2), datetime.datetime(2020, 3, 1, 7, 50, 2), datetime.datetime(2020, 3, 1, 8, 0, 5), datetime.datetime(2020, 3, 1, 8, 10, 2), datetime.datetime(2020, 3, 1, 8, 20, 2), datetime.datetime(2020, 3, 1, 8, 30, 2), datetime.datetime(2020, 3, 1, 8, 40, 2), datetime.datetime(2020, 3, 1, 8, 50, 2), datetime.datetime(2020, 3, 1, 9, 0, 3), datetime.datetime(2020, 3, 1, 9, 10, 2), datetime.datetime(2020, 3, 1, 9, 20, 2), datetime.datetime(2020, 3, 1, 9, 30, 2), datetime.datetime(2020, 3, 1, 9, 40, 2), datetime.datetime(2020, 3, 1, 9, 50, 2), datetime.datetime(2020, 3, 1, 10, 0, 4), datetime.datetime(2020, 3, 1, 10, 10, 2), datetime.datetime(2020, 3, 1, 10, 20, 2), datetime.datetime(2020, 3, 1, 10, 30, 2), datetime.datetime(2020, 3, 1, 10, 40, 2), datetime.datetime(2020, 3, 1, 10, 50, 1), datetime.datetime(2020, 3, 1, 11, 0, 4), datetime.datetime(2020, 3, 1, 11, 10, 2), datetime.datetime(2020, 3, 1, 11, 20, 2), datetime.datetime(2020, 3, 1, 11, 30, 2), datetime.datetime(2020, 3, 1, 11, 40, 2), datetime.datetime(2020, 3, 1, 11, 50, 2), datetime.datetime(2020, 3, 1, 12, 0, 5), datetime.datetime(2020, 3, 1, 12, 10, 2), datetime.datetime(2020, 3, 1, 12, 20, 1), datetime.datetime(2020, 3, 1, 12, 30, 2), datetime.datetime(2020, 3, 1, 12, 40, 2), datetime.datetime(2020, 3, 1, 12, 50, 2), datetime.datetime(2020, 3, 1, 13, 0, 5), datetime.datetime(2020, 3, 1, 13, 10, 2), datetime.datetime(2020, 3, 1, 13, 20, 2), datetime.datetime(2020, 3, 1, 13, 30, 2), datetime.datetime(2020, 3, 1, 13, 40, 2), datetime.datetime(2020, 3, 1, 13, 50, 2), datetime.datetime(2020, 3, 1, 14, 0, 3), datetime.datetime(2020, 3, 1, 14, 10, 2), datetime.datetime(2020, 3, 1, 14, 20, 2), datetime.datetime(2020, 3, 1, 14, 30, 2), datetime.datetime(2020, 3, 1, 14, 40, 2), datetime.datetime(2020, 3, 1, 14, 50, 2), datetime.datetime(2020, 3, 1, 15, 0, 4), datetime.datetime(2020, 3, 1, 15, 10, 2), datetime.datetime(2020, 3, 1, 15, 20, 2), datetime.datetime(2020, 3, 1, 15, 30, 2), datetime.datetime(2020, 3, 1, 15, 40, 1), datetime.datetime(2020, 3, 1, 15, 50, 1), datetime.datetime(2020, 3, 1, 16, 0, 4), datetime.datetime(2020, 3, 1, 16, 10, 2), datetime.datetime(2020, 3, 1, 16, 20, 2), datetime.datetime(2020, 3, 1, 16, 30, 2), datetime.datetime(2020, 3, 1, 16, 40, 2), datetime.datetime(2020, 3, 1, 16, 50, 1), datetime.datetime(2020, 3, 1, 17, 0, 3), datetime.datetime(2020, 3, 1, 17, 10, 2), datetime.datetime(2020, 3, 1, 17, 20, 2), datetime.datetime(2020, 3, 1, 17, 30, 2), datetime.datetime(2020, 3, 1, 17, 40, 2), datetime.datetime(2020, 3, 1, 17, 50, 2), datetime.datetime(2020, 3, 1, 18, 0, 5), datetime.datetime(2020, 3, 1, 18, 10, 2), datetime.datetime(2020, 3, 1, 18, 20, 2), datetime.datetime(2020, 3, 1, 18, 30, 2), datetime.datetime(2020, 3, 1, 18, 40, 2), datetime.datetime(2020, 3, 1, 18, 50, 2), datetime.datetime(2020, 3, 1, 19, 0, 28), datetime.datetime(2020, 3, 1, 19, 10, 2), datetime.datetime(2020, 3, 1, 19, 20, 1), datetime.datetime(2020, 3, 1, 19, 30, 2), datetime.datetime(2020, 3, 1, 19, 40, 2), datetime.datetime(2020, 3, 1, 19, 50, 2), datetime.datetime(2020, 3, 1, 20, 0, 5), datetime.datetime(2020, 3, 1, 20, 10, 2), datetime.datetime(2020, 3, 1, 20, 20, 1), datetime.datetime(2020, 3, 1, 20, 30, 2), datetime.datetime(2020, 3, 1, 20, 40, 1), datetime.datetime(2020, 3, 1, 20, 50, 1), datetime.datetime(2020, 3, 1, 21, 0, 4), datetime.datetime(2020, 3, 1, 21, 10, 27), datetime.datetime(2020, 3, 1, 21, 20, 2), datetime.datetime(2020, 3, 1, 21, 30, 2), datetime.datetime(2020, 3, 1, 21, 40, 2), datetime.datetime(2020, 3, 1, 21, 50, 2), datetime.datetime(2020, 3, 1, 22, 0, 5), datetime.datetime(2020, 3, 1, 22, 10, 2), datetime.datetime(2020, 3, 1, 22, 20, 2), datetime.datetime(2020, 3, 1, 22, 30, 2), datetime.datetime(2020, 3, 1, 22, 40, 1), datetime.datetime(2020, 3, 1, 22, 50, 2), datetime.datetime(2020, 3, 1, 23, 0, 4), datetime.datetime(2020, 3, 1, 23, 10, 2), datetime.datetime(2020, 3, 1, 23, 20, 2), datetime.datetime(2020, 3, 1, 23, 30, 2), datetime.datetime(2020, 3, 1, 23, 40, 2), datetime.datetime(2020, 3, 1, 23, 50, 2), datetime.datetime(2020, 3, 2, 0, 0, 7), datetime.datetime(2020, 3, 2, 0, 10, 2), datetime.datetime(2020, 3, 2, 0, 20, 2), datetime.datetime(2020, 3, 2, 0, 30, 2), datetime.datetime(2020, 3, 2, 0, 40, 2), datetime.datetime(2020, 3, 2, 0, 50, 4), datetime.datetime(2020, 3, 2, 1, 0, 4), datetime.datetime(2020, 3, 2, 1, 10, 2), datetime.datetime(2020, 3, 2, 1, 20, 2), datetime.datetime(2020, 3, 2, 1, 30, 2), datetime.datetime(2020, 3, 2, 1, 40, 2), datetime.datetime(2020, 3, 2, 1, 50, 2), datetime.datetime(2020, 3, 2, 2, 0, 5), datetime.datetime(2020, 3, 2, 2, 10, 2), datetime.datetime(2020, 3, 2, 2, 20, 2), datetime.datetime(2020, 3, 2, 2, 30, 2), datetime.datetime(2020, 3, 2, 2, 40, 2), datetime.datetime(2020, 3, 2, 2, 50, 2), datetime.datetime(2020, 3, 2, 3, 0, 4), datetime.datetime(2020, 3, 2, 3, 10, 2), datetime.datetime(2020, 3, 2, 3, 20, 2), datetime.datetime(2020, 3, 2, 3, 30, 2), datetime.datetime(2020, 3, 2, 3, 40, 2), datetime.datetime(2020, 3, 2, 3, 50, 2), datetime.datetime(2020, 3, 2, 4, 0, 4), datetime.datetime(2020, 3, 2, 4, 10, 2), datetime.datetime(2020, 3, 2, 4, 20, 2), datetime.datetime(2020, 3, 2, 4, 30, 2), datetime.datetime(2020, 3, 2, 4, 40, 2), datetime.datetime(2020, 3, 2, 4, 50, 2), datetime.datetime(2020, 3, 2, 5, 0, 5), datetime.datetime(2020, 3, 2, 5, 10, 2), datetime.datetime(2020, 3, 2, 5, 20, 2), datetime.datetime(2020, 3, 2, 5, 30, 2), datetime.datetime(2020, 3, 2, 5, 40, 2), datetime.datetime(2020, 3, 2, 5, 50, 2), datetime.datetime(2020, 3, 2, 6, 0, 6), datetime.datetime(2020, 3, 2, 6, 10, 2), datetime.datetime(2020, 3, 2, 6, 20, 2), datetime.datetime(2020, 3, 2, 6, 30, 2), datetime.datetime(2020, 3, 2, 6, 40, 27), datetime.datetime(2020, 3, 2, 6, 50, 2), datetime.datetime(2020, 3, 2, 7, 0, 4), datetime.datetime(2020, 3, 2, 7, 10, 2), datetime.datetime(2020, 3, 2, 7, 20, 2), datetime.datetime(2020, 3, 2, 7, 30, 2), datetime.datetime(2020, 3, 2, 7, 40, 2), datetime.datetime(2020, 3, 2, 7, 50, 2), datetime.datetime(2020, 3, 2, 8, 0, 4), datetime.datetime(2020, 3, 2, 8, 10, 2), datetime.datetime(2020, 3, 2, 8, 20, 2), datetime.datetime(2020, 3, 2, 8, 30, 2), datetime.datetime(2020, 3, 2, 8, 40, 2), datetime.datetime(2020, 3, 2, 8, 50, 2), datetime.datetime(2020, 3, 2, 9, 0, 5), datetime.datetime(2020, 3, 2, 9, 10, 2), datetime.datetime(2020, 3, 2, 9, 20, 2), datetime.datetime(2020, 3, 2, 9, 30, 2), datetime.datetime(2020, 3, 2, 9, 40, 2), datetime.datetime(2020, 3, 2, 9, 50, 2), datetime.datetime(2020, 3, 2, 10, 0, 4), datetime.datetime(2020, 3, 2, 10, 10, 2), datetime.datetime(2020, 3, 2, 10, 20, 2), datetime.datetime(2020, 3, 2, 10, 30, 2), datetime.datetime(2020, 3, 2, 10, 40, 1), datetime.datetime(2020, 3, 2, 10, 50, 2), datetime.datetime(2020, 3, 2, 11, 0, 4), datetime.datetime(2020, 3, 2, 11, 10, 2), datetime.datetime(2020, 3, 2, 11, 20, 2), datetime.datetime(2020, 3, 2, 11, 30, 2), datetime.datetime(2020, 3, 2, 11, 40, 2), datetime.datetime(2020, 3, 2, 11, 50, 2), datetime.datetime(2020, 3, 2, 12, 0, 4), datetime.datetime(2020, 3, 2, 12, 10, 2), datetime.datetime(2020, 3, 2, 12, 20, 2), datetime.datetime(2020, 3, 2, 12, 30, 2), datetime.datetime(2020, 3, 2, 12, 40, 2), datetime.datetime(2020, 3, 2, 12, 50, 2), datetime.datetime(2020, 3, 2, 13, 0, 4), datetime.datetime(2020, 3, 2, 13, 10, 2), datetime.datetime(2020, 3, 2, 13, 20, 2), datetime.datetime(2020, 3, 2, 13, 30, 2), datetime.datetime(2020, 3, 2, 13, 40, 2), datetime.datetime(2020, 3, 2, 13, 50, 2), datetime.datetime(2020, 3, 2, 14, 0, 4), datetime.datetime(2020, 3, 2, 14, 10, 2), datetime.datetime(2020, 3, 2, 14, 20, 2), datetime.datetime(2020, 3, 2, 14, 30, 2), datetime.datetime(2020, 3, 2, 14, 40, 2), datetime.datetime(2020, 3, 2, 14, 50, 2), datetime.datetime(2020, 3, 2, 15, 0, 4), datetime.datetime(2020, 3, 2, 15, 10, 2), datetime.datetime(2020, 3, 2, 15, 20, 2), datetime.datetime(2020, 3, 2, 15, 30, 2), datetime.datetime(2020, 3, 2, 15, 40, 2), datetime.datetime(2020, 3, 2, 15, 50, 2), datetime.datetime(2020, 3, 2, 16, 0, 4), datetime.datetime(2020, 3, 2, 16, 10, 2), datetime.datetime(2020, 3, 2, 16, 20, 1), datetime.datetime(2020, 3, 2, 16, 30, 2), datetime.datetime(2020, 3, 2, 16, 40, 2), datetime.datetime(2020, 3, 2, 16, 50, 2), datetime.datetime(2020, 3, 2, 17, 0, 5), datetime.datetime(2020, 3, 2, 17, 10, 2), datetime.datetime(2020, 3, 2, 17, 20, 2), datetime.datetime(2020, 3, 2, 17, 30, 2), datetime.datetime(2020, 3, 2, 17, 40, 2), datetime.datetime(2020, 3, 2, 17, 50, 2), datetime.datetime(2020, 3, 2, 18, 0, 3), datetime.datetime(2020, 3, 2, 18, 10, 2), datetime.datetime(2020, 3, 2, 18, 20, 2), datetime.datetime(2020, 3, 2, 18, 30, 2), datetime.datetime(2020, 3, 2, 18, 40, 2), datetime.datetime(2020, 3, 2, 18, 50, 2), datetime.datetime(2020, 3, 2, 19, 0, 4), datetime.datetime(2020, 3, 2, 19, 10, 2), datetime.datetime(2020, 3, 2, 19, 20, 2), datetime.datetime(2020, 3, 2, 19, 30, 2), datetime.datetime(2020, 3, 2, 19, 40, 27), datetime.datetime(2020, 3, 2, 19, 50, 2), datetime.datetime(2020, 3, 2, 20, 0, 4), datetime.datetime(2020, 3, 2, 20, 10, 2), datetime.datetime(2020, 3, 2, 20, 20, 2), datetime.datetime(2020, 3, 2, 20, 30, 2), datetime.datetime(2020, 3, 2, 20, 40, 2), datetime.datetime(2020, 3, 2, 20, 50, 2), datetime.datetime(2020, 3, 2, 21, 0, 5), datetime.datetime(2020, 3, 2, 21, 10, 2), datetime.datetime(2020, 3, 2, 21, 20, 2), datetime.datetime(2020, 3, 2, 21, 30, 2), datetime.datetime(2020, 3, 2, 21, 40, 2), datetime.datetime(2020, 3, 2, 21, 50, 1), datetime.datetime(2020, 3, 2, 22, 0, 3), datetime.datetime(2020, 3, 2, 22, 10, 2), datetime.datetime(2020, 3, 2, 22, 20, 2), datetime.datetime(2020, 3, 2, 22, 30, 2), datetime.datetime(2020, 3, 2, 22, 40, 2), datetime.datetime(2020, 3, 2, 22, 50, 2), datetime.datetime(2020, 3, 2, 23, 0, 5), datetime.datetime(2020, 3, 2, 23, 10, 2), datetime.datetime(2020, 3, 2, 23, 20, 2), datetime.datetime(2020, 3, 2, 23, 30, 2), datetime.datetime(2020, 3, 2, 23, 40, 2), datetime.datetime(2020, 3, 2, 23, 50, 1), datetime.datetime(2020, 3, 3, 0, 0, 26), datetime.datetime(2020, 3, 3, 0, 10, 2), datetime.datetime(2020, 3, 3, 0, 20, 2), datetime.datetime(2020, 3, 3, 0, 30, 2), datetime.datetime(2020, 3, 3, 0, 40, 2), datetime.datetime(2020, 3, 3, 0, 50, 29), datetime.datetime(2020, 3, 3, 1, 0, 4), datetime.datetime(2020, 3, 3, 1, 10, 2), datetime.datetime(2020, 3, 3, 1, 20, 2), datetime.datetime(2020, 3, 3, 1, 30, 2), datetime.datetime(2020, 3, 3, 1, 40, 2), datetime.datetime(2020, 3, 3, 1, 50, 2), datetime.datetime(2020, 3, 3, 2, 0, 5), datetime.datetime(2020, 3, 3, 2, 10, 2), datetime.datetime(2020, 3, 3, 2, 20, 2), datetime.datetime(2020, 3, 3, 2, 30, 2), datetime.datetime(2020, 3, 3, 2, 40, 2), datetime.datetime(2020, 3, 3, 2, 50, 2), datetime.datetime(2020, 3, 3, 3, 0, 4), datetime.datetime(2020, 3, 3, 3, 10, 2), datetime.datetime(2020, 3, 3, 3, 20, 2), datetime.datetime(2020, 3, 3, 3, 30, 2), datetime.datetime(2020, 3, 3, 3, 40, 2), datetime.datetime(2020, 3, 3, 3, 50, 2), datetime.datetime(2020, 3, 3, 4, 0, 3), datetime.datetime(2020, 3, 3, 4, 10, 2), datetime.datetime(2020, 3, 3, 4, 20, 2), datetime.datetime(2020, 3, 3, 4, 30, 2), datetime.datetime(2020, 3, 3, 4, 40, 2), datetime.datetime(2020, 3, 3, 4, 50, 2), datetime.datetime(2020, 3, 3, 5, 0, 4), datetime.datetime(2020, 3, 3, 5, 10, 2), datetime.datetime(2020, 3, 3, 5, 20, 2), datetime.datetime(2020, 3, 3, 5, 30, 2), datetime.datetime(2020, 3, 3, 5, 40, 2), datetime.datetime(2020, 3, 3, 5, 50, 2), datetime.datetime(2020, 3, 3, 6, 0, 3), datetime.datetime(2020, 3, 3, 6, 10, 2), datetime.datetime(2020, 3, 3, 6, 20, 2), datetime.datetime(2020, 3, 3, 6, 30, 2), datetime.datetime(2020, 3, 3, 6, 40, 2), datetime.datetime(2020, 3, 3, 6, 50, 2), datetime.datetime(2020, 3, 3, 7, 0, 5), datetime.datetime(2020, 3, 3, 7, 10, 2), datetime.datetime(2020, 3, 3, 7, 20, 2), datetime.datetime(2020, 3, 3, 7, 30, 2), datetime.datetime(2020, 3, 3, 7, 40, 2), datetime.datetime(2020, 3, 3, 7, 50, 2), datetime.datetime(2020, 3, 3, 8, 0, 4), datetime.datetime(2020, 3, 3, 8, 10, 2), datetime.datetime(2020, 3, 3, 8, 20, 2), datetime.datetime(2020, 3, 3, 8, 30, 2), datetime.datetime(2020, 3, 3, 8, 40, 2), datetime.datetime(2020, 3, 3, 8, 50, 2), datetime.datetime(2020, 3, 3, 9, 0, 5), datetime.datetime(2020, 3, 3, 9, 10, 2), datetime.datetime(2020, 3, 3, 9, 20, 2), datetime.datetime(2020, 3, 3, 9, 30, 2), datetime.datetime(2020, 3, 3, 9, 40, 1), datetime.datetime(2020, 3, 3, 9, 50, 1), datetime.datetime(2020, 3, 3, 10, 0, 4), datetime.datetime(2020, 3, 3, 10, 10, 2), datetime.datetime(2020, 3, 3, 10, 20, 2), datetime.datetime(2020, 3, 3, 10, 30, 2), datetime.datetime(2020, 3, 3, 10, 40, 2), datetime.datetime(2020, 3, 3, 10, 50, 2), datetime.datetime(2020, 3, 3, 11, 0, 4), datetime.datetime(2020, 3, 3, 11, 10, 2), datetime.datetime(2020, 3, 3, 11, 20, 2), datetime.datetime(2020, 3, 3, 11, 30, 2), datetime.datetime(2020, 3, 3, 11, 40, 2), datetime.datetime(2020, 3, 3, 11, 50, 2), datetime.datetime(2020, 3, 3, 12, 0, 6), datetime.datetime(2020, 3, 3, 12, 10, 2), datetime.datetime(2020, 3, 3, 12, 20, 2), datetime.datetime(2020, 3, 3, 12, 30, 2), datetime.datetime(2020, 3, 3, 12, 40, 2), datetime.datetime(2020, 3, 3, 12, 50, 2), datetime.datetime(2020, 3, 3, 13, 0, 4), datetime.datetime(2020, 3, 3, 13, 10, 2), datetime.datetime(2020, 3, 3, 13, 20, 1), datetime.datetime(2020, 3, 3, 13, 30, 2), datetime.datetime(2020, 3, 3, 13, 40, 1), datetime.datetime(2020, 3, 3, 13, 50, 2), datetime.datetime(2020, 3, 3, 14, 0, 3), datetime.datetime(2020, 3, 3, 14, 10, 2), datetime.datetime(2020, 3, 3, 14, 20, 3), datetime.datetime(2020, 3, 3, 14, 30, 2), datetime.datetime(2020, 3, 3, 14, 40, 2), datetime.datetime(2020, 3, 3, 14, 50, 2), datetime.datetime(2020, 3, 3, 15, 0, 4), datetime.datetime(2020, 3, 3, 15, 10, 2), datetime.datetime(2020, 3, 3, 15, 20, 1), datetime.datetime(2020, 3, 3, 15, 30, 2), datetime.datetime(2020, 3, 3, 15, 40, 2), datetime.datetime(2020, 3, 3, 15, 50, 1), datetime.datetime(2020, 3, 3, 16, 0, 4), datetime.datetime(2020, 3, 3, 16, 10, 1), datetime.datetime(2020, 3, 3, 16, 20, 2), datetime.datetime(2020, 3, 3, 16, 30, 2), datetime.datetime(2020, 3, 3, 16, 40, 2), datetime.datetime(2020, 3, 3, 16, 50, 2), datetime.datetime(2020, 3, 3, 17, 0, 28), datetime.datetime(2020, 3, 3, 17, 10, 2), datetime.datetime(2020, 3, 3, 17, 20, 2), datetime.datetime(2020, 3, 3, 17, 30, 2), datetime.datetime(2020, 3, 3, 17, 40, 2), datetime.datetime(2020, 3, 3, 17, 50, 2), datetime.datetime(2020, 3, 3, 18, 0, 4), datetime.datetime(2020, 3, 3, 18, 10, 2), datetime.datetime(2020, 3, 3, 18, 20, 2), datetime.datetime(2020, 3, 3, 18, 30, 2), datetime.datetime(2020, 3, 3, 18, 40, 1), datetime.datetime(2020, 3, 3, 18, 50, 1), datetime.datetime(2020, 3, 3, 19, 0, 3), datetime.datetime(2020, 3, 3, 19, 10, 2), datetime.datetime(2020, 3, 3, 19, 20, 2), datetime.datetime(2020, 3, 3, 19, 30, 2), datetime.datetime(2020, 3, 3, 19, 40, 1), datetime.datetime(2020, 3, 3, 19, 50, 2), datetime.datetime(2020, 3, 3, 20, 0, 4), datetime.datetime(2020, 3, 3, 20, 10, 2), datetime.datetime(2020, 3, 3, 20, 20, 2), datetime.datetime(2020, 3, 3, 20, 30, 2), datetime.datetime(2020, 3, 3, 20, 40, 2), datetime.datetime(2020, 3, 3, 20, 50, 2), datetime.datetime(2020, 3, 3, 21, 0, 5), datetime.datetime(2020, 3, 3, 21, 10, 2), datetime.datetime(2020, 3, 3, 21, 20, 2), datetime.datetime(2020, 3, 3, 21, 30, 2), datetime.datetime(2020, 3, 3, 21, 40, 2), datetime.datetime(2020, 3, 3, 21, 50, 2), datetime.datetime(2020, 3, 3, 22, 0, 5), datetime.datetime(2020, 3, 3, 22, 10, 2), datetime.datetime(2020, 3, 3, 22, 20, 2), datetime.datetime(2020, 3, 3, 22, 30, 2), datetime.datetime(2020, 3, 3, 22, 40, 2), datetime.datetime(2020, 3, 3, 22, 50, 2), datetime.datetime(2020, 3, 3, 23, 0, 5), datetime.datetime(2020, 3, 3, 23, 10, 2), datetime.datetime(2020, 3, 3, 23, 20, 2), datetime.datetime(2020, 3, 3, 23, 30, 2), datetime.datetime(2020, 3, 3, 23, 40, 2), datetime.datetime(2020, 3, 3, 23, 50, 1), datetime.datetime(2020, 3, 4, 0, 0, 4), datetime.datetime(2020, 3, 4, 0, 10, 2), datetime.datetime(2020, 3, 4, 0, 20, 2), datetime.datetime(2020, 3, 4, 0, 30, 2), datetime.datetime(2020, 3, 4, 0, 40, 2), datetime.datetime(2020, 3, 4, 0, 50, 3), datetime.datetime(2020, 3, 4, 1, 0, 4), datetime.datetime(2020, 3, 4, 1, 10, 2), datetime.datetime(2020, 3, 4, 1, 20, 2), datetime.datetime(2020, 3, 4, 1, 30, 2), datetime.datetime(2020, 3, 4, 1, 40, 1), datetime.datetime(2020, 3, 4, 1, 50, 2), datetime.datetime(2020, 3, 4, 2, 0, 4), datetime.datetime(2020, 3, 4, 2, 10, 2), datetime.datetime(2020, 3, 4, 2, 20, 2), datetime.datetime(2020, 3, 4, 2, 30, 2), datetime.datetime(2020, 3, 4, 2, 40, 2), datetime.datetime(2020, 3, 4, 2, 50, 2), datetime.datetime(2020, 3, 4, 3, 0, 5), datetime.datetime(2020, 3, 4, 3, 10, 2), datetime.datetime(2020, 3, 4, 3, 20, 2), datetime.datetime(2020, 3, 4, 3, 30, 2), datetime.datetime(2020, 3, 4, 3, 40, 2), datetime.datetime(2020, 3, 4, 3, 50, 2), datetime.datetime(2020, 3, 4, 4, 0, 5), datetime.datetime(2020, 3, 4, 4, 10, 2), datetime.datetime(2020, 3, 4, 4, 20, 2), datetime.datetime(2020, 3, 4, 4, 30, 2), datetime.datetime(2020, 3, 4, 4, 40, 2), datetime.datetime(2020, 3, 4, 4, 50, 2), datetime.datetime(2020, 3, 4, 5, 0, 4), datetime.datetime(2020, 3, 4, 5, 10, 2), datetime.datetime(2020, 3, 4, 5, 20, 2), datetime.datetime(2020, 3, 4, 5, 30, 2), datetime.datetime(2020, 3, 4, 5, 40, 1), datetime.datetime(2020, 3, 4, 5, 50, 2), datetime.datetime(2020, 3, 4, 6, 0, 3), datetime.datetime(2020, 3, 4, 6, 10, 2), datetime.datetime(2020, 3, 4, 6, 20, 2), datetime.datetime(2020, 3, 4, 6, 30, 2), datetime.datetime(2020, 3, 4, 6, 40, 1), datetime.datetime(2020, 3, 4, 6, 50, 26), datetime.datetime(2020, 3, 4, 7, 0, 4), datetime.datetime(2020, 3, 4, 7, 10, 2), datetime.datetime(2020, 3, 4, 7, 20, 2), datetime.datetime(2020, 3, 4, 7, 30, 2), datetime.datetime(2020, 3, 4, 7, 40, 2), datetime.datetime(2020, 3, 4, 7, 50, 2), datetime.datetime(2020, 3, 4, 8, 0, 5), datetime.datetime(2020, 3, 4, 8, 10, 2), datetime.datetime(2020, 3, 4, 8, 20, 2), datetime.datetime(2020, 3, 4, 8, 30, 2), datetime.datetime(2020, 3, 4, 8, 40, 2), datetime.datetime(2020, 3, 4, 8, 50, 2), datetime.datetime(2020, 3, 4, 9, 0, 4), datetime.datetime(2020, 3, 4, 9, 10, 1), datetime.datetime(2020, 3, 4, 9, 20, 2), datetime.datetime(2020, 3, 4, 9, 30, 2), datetime.datetime(2020, 3, 4, 9, 40, 2), datetime.datetime(2020, 3, 4, 9, 50, 2), datetime.datetime(2020, 3, 4, 10, 0, 6), datetime.datetime(2020, 3, 4, 10, 10, 2), datetime.datetime(2020, 3, 4, 10, 20, 1), datetime.datetime(2020, 3, 4, 10, 30, 2), datetime.datetime(2020, 3, 4, 10, 40, 2), datetime.datetime(2020, 3, 4, 10, 50, 2), datetime.datetime(2020, 3, 4, 11, 0, 3), datetime.datetime(2020, 3, 4, 11, 10, 26), datetime.datetime(2020, 3, 4, 11, 20, 1), datetime.datetime(2020, 3, 4, 11, 30, 2), datetime.datetime(2020, 3, 4, 11, 40, 2), datetime.datetime(2020, 3, 4, 11, 50, 1), datetime.datetime(2020, 3, 4, 12, 0, 3), datetime.datetime(2020, 3, 4, 12, 10, 2), datetime.datetime(2020, 3, 4, 12, 20, 2), datetime.datetime(2020, 3, 4, 12, 30, 2), datetime.datetime(2020, 3, 4, 12, 40, 2), datetime.datetime(2020, 3, 4, 12, 50, 1), datetime.datetime(2020, 3, 4, 13, 0, 4), datetime.datetime(2020, 3, 4, 13, 10, 2), datetime.datetime(2020, 3, 4, 13, 20, 2), datetime.datetime(2020, 3, 4, 13, 30, 2), datetime.datetime(2020, 3, 4, 13, 40, 2), datetime.datetime(2020, 3, 4, 13, 50, 2), datetime.datetime(2020, 3, 4, 14, 0, 5), datetime.datetime(2020, 3, 4, 14, 10, 2), datetime.datetime(2020, 3, 4, 14, 20, 2), datetime.datetime(2020, 3, 4, 14, 30, 2), datetime.datetime(2020, 3, 4, 14, 40, 2), datetime.datetime(2020, 3, 4, 14, 50, 1), datetime.datetime(2020, 3, 4, 15, 0, 4), datetime.datetime(2020, 3, 4, 15, 10, 2), datetime.datetime(2020, 3, 4, 15, 20, 2), datetime.datetime(2020, 3, 4, 15, 30, 26), datetime.datetime(2020, 3, 4, 15, 40, 1), datetime.datetime(2020, 3, 4, 15, 50, 2), datetime.datetime(2020, 3, 4, 16, 0, 5), datetime.datetime(2020, 3, 4, 16, 10, 2), datetime.datetime(2020, 3, 4, 16, 20, 2), datetime.datetime(2020, 3, 4, 16, 30, 2), datetime.datetime(2020, 3, 4, 16, 40, 2), datetime.datetime(2020, 3, 4, 16, 50, 2), datetime.datetime(2020, 3, 4, 17, 0, 4), datetime.datetime(2020, 3, 4, 17, 10, 2), datetime.datetime(2020, 3, 4, 17, 20, 2), datetime.datetime(2020, 3, 4, 17, 30, 2), datetime.datetime(2020, 3, 4, 17, 40, 2), datetime.datetime(2020, 3, 4, 17, 50, 2), datetime.datetime(2020, 3, 4, 18, 0, 4), datetime.datetime(2020, 3, 4, 18, 10, 2), datetime.datetime(2020, 3, 4, 18, 20, 2), datetime.datetime(2020, 3, 4, 18, 30, 2), datetime.datetime(2020, 3, 4, 18, 40, 1), datetime.datetime(2020, 3, 4, 18, 50, 1), datetime.datetime(2020, 3, 4, 19, 0, 3), datetime.datetime(2020, 3, 4, 19, 10, 2), datetime.datetime(2020, 3, 4, 19, 20, 2), datetime.datetime(2020, 3, 4, 19, 30, 2), datetime.datetime(2020, 3, 4, 19, 40, 2), datetime.datetime(2020, 3, 4, 19, 50, 2), datetime.datetime(2020, 3, 4, 20, 0, 5), datetime.datetime(2020, 3, 4, 20, 10, 2), datetime.datetime(2020, 3, 4, 20, 20, 2), datetime.datetime(2020, 3, 4, 20, 30, 2), datetime.datetime(2020, 3, 4, 20, 40, 2), datetime.datetime(2020, 3, 4, 20, 50, 2), datetime.datetime(2020, 3, 4, 21, 0, 4), datetime.datetime(2020, 3, 4, 21, 10, 2), datetime.datetime(2020, 3, 4, 21, 20, 2), datetime.datetime(2020, 3, 4, 21, 30, 2), datetime.datetime(2020, 3, 4, 21, 40, 2), datetime.datetime(2020, 3, 4, 21, 50, 2), datetime.datetime(2020, 3, 4, 22, 0, 3), datetime.datetime(2020, 3, 4, 22, 10, 2), datetime.datetime(2020, 3, 4, 22, 20, 2), datetime.datetime(2020, 3, 4, 22, 30, 2), datetime.datetime(2020, 3, 4, 22, 40, 2), datetime.datetime(2020, 3, 4, 22, 50, 2), datetime.datetime(2020, 3, 4, 23, 0, 4), datetime.datetime(2020, 3, 4, 23, 10, 2), datetime.datetime(2020, 3, 4, 23, 20, 2), datetime.datetime(2020, 3, 4, 23, 30, 2), datetime.datetime(2020, 3, 4, 23, 40, 1), datetime.datetime(2020, 3, 4, 23, 50, 2), datetime.datetime(2020, 3, 5, 0, 0, 3), datetime.datetime(2020, 3, 5, 0, 10, 2), datetime.datetime(2020, 3, 5, 0, 20, 2), datetime.datetime(2020, 3, 5, 0, 30, 2), datetime.datetime(2020, 3, 5, 0, 40, 2), datetime.datetime(2020, 3, 5, 0, 50, 3), datetime.datetime(2020, 3, 5, 1, 0, 6), datetime.datetime(2020, 3, 5, 1, 10, 2), datetime.datetime(2020, 3, 5, 1, 20, 2), datetime.datetime(2020, 3, 5, 1, 30, 2), datetime.datetime(2020, 3, 5, 1, 40, 2), datetime.datetime(2020, 3, 5, 1, 50, 2), datetime.datetime(2020, 3, 5, 2, 0, 5), datetime.datetime(2020, 3, 5, 2, 10, 2), datetime.datetime(2020, 3, 5, 2, 20, 2), datetime.datetime(2020, 3, 5, 2, 30, 2), datetime.datetime(2020, 3, 5, 2, 40, 2), datetime.datetime(2020, 3, 5, 2, 50, 2), datetime.datetime(2020, 3, 5, 3, 0, 5), datetime.datetime(2020, 3, 5, 3, 10, 2), datetime.datetime(2020, 3, 5, 3, 20, 2), datetime.datetime(2020, 3, 5, 3, 30, 2), datetime.datetime(2020, 3, 5, 3, 40, 2), datetime.datetime(2020, 3, 5, 3, 50, 2), datetime.datetime(2020, 3, 5, 4, 0, 3), datetime.datetime(2020, 3, 5, 4, 10, 2), datetime.datetime(2020, 3, 5, 4, 20, 2), datetime.datetime(2020, 3, 5, 4, 30, 2), datetime.datetime(2020, 3, 5, 4, 40, 2), datetime.datetime(2020, 3, 5, 4, 50, 2), datetime.datetime(2020, 3, 5, 5, 0, 4), datetime.datetime(2020, 3, 5, 5, 10, 2), datetime.datetime(2020, 3, 5, 5, 20, 1), datetime.datetime(2020, 3, 5, 5, 30, 2), datetime.datetime(2020, 3, 5, 5, 40, 1), datetime.datetime(2020, 3, 5, 5, 50, 2), datetime.datetime(2020, 3, 5, 6, 0, 4), datetime.datetime(2020, 3, 5, 6, 10, 2), datetime.datetime(2020, 3, 5, 6, 20, 2), datetime.datetime(2020, 3, 5, 6, 30, 2), datetime.datetime(2020, 3, 5, 6, 40, 2), datetime.datetime(2020, 3, 5, 6, 50, 2), datetime.datetime(2020, 3, 5, 7, 0, 5), datetime.datetime(2020, 3, 5, 7, 10, 2), datetime.datetime(2020, 3, 5, 7, 20, 2), datetime.datetime(2020, 3, 5, 7, 30, 2), datetime.datetime(2020, 3, 5, 7, 40, 2), datetime.datetime(2020, 3, 5, 7, 50, 2), datetime.datetime(2020, 3, 5, 8, 0, 6), datetime.datetime(2020, 3, 5, 8, 10, 2), datetime.datetime(2020, 3, 5, 8, 20, 2), datetime.datetime(2020, 3, 5, 8, 30, 2), datetime.datetime(2020, 3, 5, 8, 40, 2), datetime.datetime(2020, 3, 5, 8, 50, 2), datetime.datetime(2020, 3, 5, 9, 0, 7), datetime.datetime(2020, 3, 5, 9, 10, 2), datetime.datetime(2020, 3, 5, 9, 20, 2), datetime.datetime(2020, 3, 5, 9, 30, 2), datetime.datetime(2020, 3, 5, 9, 40, 1), datetime.datetime(2020, 3, 5, 9, 50, 2), datetime.datetime(2020, 3, 5, 10, 0, 6), datetime.datetime(2020, 3, 5, 10, 10, 1), datetime.datetime(2020, 3, 5, 10, 20, 2), datetime.datetime(2020, 3, 5, 10, 30, 2), datetime.datetime(2020, 3, 5, 10, 40, 2), datetime.datetime(2020, 3, 5, 10, 50, 2), datetime.datetime(2020, 3, 5, 11, 0, 4), datetime.datetime(2020, 3, 5, 11, 10, 2), datetime.datetime(2020, 3, 5, 11, 20, 2), datetime.datetime(2020, 3, 5, 11, 30, 2), datetime.datetime(2020, 3, 5, 11, 40, 2), datetime.datetime(2020, 3, 5, 11, 50, 1), datetime.datetime(2020, 3, 5, 12, 0, 3), datetime.datetime(2020, 3, 5, 12, 10, 2), datetime.datetime(2020, 3, 5, 12, 20, 2), datetime.datetime(2020, 3, 5, 12, 30, 2), datetime.datetime(2020, 3, 5, 12, 40, 2), datetime.datetime(2020, 3, 5, 12, 50, 1), datetime.datetime(2020, 3, 5, 13, 0, 4), datetime.datetime(2020, 3, 5, 13, 10, 2), datetime.datetime(2020, 3, 5, 13, 20, 2), datetime.datetime(2020, 3, 5, 13, 30, 2), datetime.datetime(2020, 3, 5, 13, 40, 2), datetime.datetime(2020, 3, 5, 13, 50, 2), datetime.datetime(2020, 3, 5, 14, 0, 6), datetime.datetime(2020, 3, 5, 14, 10, 2), datetime.datetime(2020, 3, 5, 14, 20, 1), datetime.datetime(2020, 3, 5, 14, 30, 2), datetime.datetime(2020, 3, 5, 14, 40, 2), datetime.datetime(2020, 3, 5, 14, 50, 2), datetime.datetime(2020, 3, 5, 15, 0, 3), datetime.datetime(2020, 3, 5, 15, 10, 2), datetime.datetime(2020, 3, 5, 15, 20, 2), datetime.datetime(2020, 3, 5, 15, 30, 2), datetime.datetime(2020, 3, 5, 15, 40, 2), datetime.datetime(2020, 3, 5, 15, 50, 2), datetime.datetime(2020, 3, 5, 16, 0, 3), datetime.datetime(2020, 3, 5, 16, 10, 2), datetime.datetime(2020, 3, 5, 16, 20, 2), datetime.datetime(2020, 3, 5, 16, 30, 2), datetime.datetime(2020, 3, 5, 16, 40, 2), datetime.datetime(2020, 3, 5, 16, 50, 2), datetime.datetime(2020, 3, 5, 17, 0, 5), datetime.datetime(2020, 3, 5, 17, 10, 2), datetime.datetime(2020, 3, 5, 17, 20, 2), datetime.datetime(2020, 3, 5, 17, 30, 2), datetime.datetime(2020, 3, 5, 17, 40, 2), datetime.datetime(2020, 3, 5, 17, 50, 2), datetime.datetime(2020, 3, 5, 18, 0, 4), datetime.datetime(2020, 3, 5, 18, 10, 2), datetime.datetime(2020, 3, 5, 18, 20, 2), datetime.datetime(2020, 3, 5, 18, 30, 2), datetime.datetime(2020, 3, 5, 18, 40, 2), datetime.datetime(2020, 3, 5, 18, 50, 2), datetime.datetime(2020, 3, 5, 19, 0, 4), datetime.datetime(2020, 3, 5, 19, 10, 2), datetime.datetime(2020, 3, 5, 19, 20, 2), datetime.datetime(2020, 3, 5, 19, 30, 2), datetime.datetime(2020, 3, 5, 19, 40, 2), datetime.datetime(2020, 3, 5, 19, 50, 2), datetime.datetime(2020, 3, 5, 20, 0, 3), datetime.datetime(2020, 3, 5, 20, 10, 2), datetime.datetime(2020, 3, 5, 20, 20, 1), datetime.datetime(2020, 3, 5, 20, 30, 2), datetime.datetime(2020, 3, 5, 20, 40, 2), datetime.datetime(2020, 3, 5, 20, 50, 2), datetime.datetime(2020, 3, 5, 21, 0, 4), datetime.datetime(2020, 3, 5, 21, 10, 2), datetime.datetime(2020, 3, 5, 21, 20, 2), datetime.datetime(2020, 3, 5, 21, 30, 2), datetime.datetime(2020, 3, 5, 21, 40, 1), datetime.datetime(2020, 3, 5, 21, 50, 2), datetime.datetime(2020, 3, 5, 22, 0, 3), datetime.datetime(2020, 3, 5, 22, 10, 2), datetime.datetime(2020, 3, 5, 22, 20, 2), datetime.datetime(2020, 3, 5, 22, 30, 2), datetime.datetime(2020, 3, 5, 22, 40, 1), datetime.datetime(2020, 3, 5, 22, 50, 2), datetime.datetime(2020, 3, 5, 23, 0, 4), datetime.datetime(2020, 3, 5, 23, 10, 2), datetime.datetime(2020, 3, 5, 23, 20, 2), datetime.datetime(2020, 3, 5, 23, 30, 2), datetime.datetime(2020, 3, 5, 23, 40, 2), datetime.datetime(2020, 3, 5, 23, 50, 2), datetime.datetime(2020, 3, 6, 0, 0, 4), datetime.datetime(2020, 3, 6, 0, 10, 2), datetime.datetime(2020, 3, 6, 0, 20, 1), datetime.datetime(2020, 3, 6, 0, 30, 2), datetime.datetime(2020, 3, 6, 0, 40, 2), datetime.datetime(2020, 3, 6, 0, 50, 28), datetime.datetime(2020, 3, 6, 1, 0, 6), datetime.datetime(2020, 3, 6, 1, 10, 2), datetime.datetime(2020, 3, 6, 1, 20, 2), datetime.datetime(2020, 3, 6, 1, 30, 2), datetime.datetime(2020, 3, 6, 1, 40, 2), datetime.datetime(2020, 3, 6, 1, 50, 2), datetime.datetime(2020, 3, 6, 2, 0, 5), datetime.datetime(2020, 3, 6, 2, 10, 2), datetime.datetime(2020, 3, 6, 2, 20, 2), datetime.datetime(2020, 3, 6, 2, 30, 2), datetime.datetime(2020, 3, 6, 2, 40, 2), datetime.datetime(2020, 3, 6, 2, 50, 2), datetime.datetime(2020, 3, 6, 3, 0, 5), datetime.datetime(2020, 3, 6, 3, 10, 2), datetime.datetime(2020, 3, 6, 3, 20, 2), datetime.datetime(2020, 3, 6, 3, 30, 2), datetime.datetime(2020, 3, 6, 3, 40, 1), datetime.datetime(2020, 3, 6, 3, 50, 26), datetime.datetime(2020, 3, 6, 4, 0, 3), datetime.datetime(2020, 3, 6, 4, 10, 2), datetime.datetime(2020, 3, 6, 4, 20, 2), datetime.datetime(2020, 3, 6, 4, 30, 2), datetime.datetime(2020, 3, 6, 4, 40, 2), datetime.datetime(2020, 3, 6, 4, 50, 2), datetime.datetime(2020, 3, 6, 5, 0, 6), datetime.datetime(2020, 3, 6, 5, 10, 2), datetime.datetime(2020, 3, 6, 5, 20, 2), datetime.datetime(2020, 3, 6, 5, 30, 2), datetime.datetime(2020, 3, 6, 5, 40, 3), datetime.datetime(2020, 3, 6, 5, 50, 2), datetime.datetime(2020, 3, 6, 6, 0, 5), datetime.datetime(2020, 3, 6, 6, 10, 2), datetime.datetime(2020, 3, 6, 6, 20, 2), datetime.datetime(2020, 3, 6, 6, 30, 2), datetime.datetime(2020, 3, 6, 6, 40, 2), datetime.datetime(2020, 3, 6, 6, 50, 2), datetime.datetime(2020, 3, 6, 7, 0, 4), datetime.datetime(2020, 3, 6, 7, 10, 2), datetime.datetime(2020, 3, 6, 7, 20, 1), datetime.datetime(2020, 3, 6, 7, 30, 2), datetime.datetime(2020, 3, 6, 7, 40, 2), datetime.datetime(2020, 3, 6, 7, 50, 2), datetime.datetime(2020, 3, 6, 8, 0, 5), datetime.datetime(2020, 3, 6, 8, 10, 2), datetime.datetime(2020, 3, 6, 8, 20, 2), datetime.datetime(2020, 3, 6, 8, 30, 2), datetime.datetime(2020, 3, 6, 8, 40, 2), datetime.datetime(2020, 3, 6, 8, 50, 2), datetime.datetime(2020, 3, 6, 9, 0, 4), datetime.datetime(2020, 3, 6, 9, 10, 2), datetime.datetime(2020, 3, 6, 9, 20, 2), datetime.datetime(2020, 3, 6, 9, 30, 2), datetime.datetime(2020, 3, 6, 9, 40, 2), datetime.datetime(2020, 3, 6, 9, 50, 2), datetime.datetime(2020, 3, 6, 10, 0, 3), datetime.datetime(2020, 3, 6, 10, 10, 2), datetime.datetime(2020, 3, 6, 10, 20, 1), datetime.datetime(2020, 3, 6, 10, 30, 2), datetime.datetime(2020, 3, 6, 10, 40, 2), datetime.datetime(2020, 3, 6, 10, 50, 2), datetime.datetime(2020, 3, 6, 11, 0, 5), datetime.datetime(2020, 3, 6, 11, 10, 2), datetime.datetime(2020, 3, 6, 11, 20, 2), datetime.datetime(2020, 3, 6, 11, 30, 2), datetime.datetime(2020, 3, 6, 11, 40, 2), datetime.datetime(2020, 3, 6, 11, 50, 2), datetime.datetime(2020, 3, 6, 12, 0, 4), datetime.datetime(2020, 3, 6, 12, 10, 2), datetime.datetime(2020, 3, 6, 12, 20, 2), datetime.datetime(2020, 3, 6, 12, 30, 27), datetime.datetime(2020, 3, 6, 12, 40, 2), datetime.datetime(2020, 3, 6, 12, 50, 2), datetime.datetime(2020, 3, 6, 13, 0, 4), datetime.datetime(2020, 3, 6, 13, 10, 2), datetime.datetime(2020, 3, 6, 13, 20, 2), datetime.datetime(2020, 3, 6, 13, 30, 2), datetime.datetime(2020, 3, 6, 13, 40, 2), datetime.datetime(2020, 3, 6, 13, 50, 2), datetime.datetime(2020, 3, 6, 14, 0, 5), datetime.datetime(2020, 3, 6, 14, 10, 2), datetime.datetime(2020, 3, 6, 14, 20, 2), datetime.datetime(2020, 3, 6, 14, 30, 2), datetime.datetime(2020, 3, 6, 14, 40, 2), datetime.datetime(2020, 3, 6, 14, 50, 2), datetime.datetime(2020, 3, 6, 15, 0, 4), datetime.datetime(2020, 3, 6, 15, 10, 2), datetime.datetime(2020, 3, 6, 15, 20, 2), datetime.datetime(2020, 3, 6, 15, 30, 4), datetime.datetime(2020, 3, 6, 15, 40, 2), datetime.datetime(2020, 3, 6, 15, 50, 2), datetime.datetime(2020, 3, 6, 16, 0, 6), datetime.datetime(2020, 3, 6, 16, 10, 2), datetime.datetime(2020, 3, 6, 16, 20, 2), datetime.datetime(2020, 3, 6, 16, 30, 2), datetime.datetime(2020, 3, 6, 16, 40, 2), datetime.datetime(2020, 3, 6, 16, 50, 26), datetime.datetime(2020, 3, 6, 17, 0, 3), datetime.datetime(2020, 3, 6, 17, 10, 2), datetime.datetime(2020, 3, 6, 17, 20, 2), datetime.datetime(2020, 3, 6, 17, 30, 2), datetime.datetime(2020, 3, 6, 17, 40, 2), datetime.datetime(2020, 3, 6, 17, 50, 1), datetime.datetime(2020, 3, 6, 18, 0, 3), datetime.datetime(2020, 3, 6, 18, 10, 2), datetime.datetime(2020, 3, 6, 18, 20, 2), datetime.datetime(2020, 3, 6, 18, 30, 2), datetime.datetime(2020, 3, 6, 18, 40, 2), datetime.datetime(2020, 3, 6, 18, 50, 2), datetime.datetime(2020, 3, 6, 19, 0, 4), datetime.datetime(2020, 3, 6, 19, 10, 2), datetime.datetime(2020, 3, 6, 19, 20, 2), datetime.datetime(2020, 3, 6, 19, 30, 2), datetime.datetime(2020, 3, 6, 19, 40, 1), datetime.datetime(2020, 3, 6, 19, 50, 1), datetime.datetime(2020, 3, 6, 20, 0, 4), datetime.datetime(2020, 3, 6, 20, 10, 2), datetime.datetime(2020, 3, 6, 20, 20, 2), datetime.datetime(2020, 3, 6, 20, 30, 2), datetime.datetime(2020, 3, 6, 20, 40, 2), datetime.datetime(2020, 3, 6, 20, 50, 1), datetime.datetime(2020, 3, 6, 21, 0, 3), datetime.datetime(2020, 3, 6, 21, 10, 27), datetime.datetime(2020, 3, 6, 21, 20, 2), datetime.datetime(2020, 3, 6, 21, 30, 2), datetime.datetime(2020, 3, 6, 21, 40, 2), datetime.datetime(2020, 3, 6, 21, 50, 2), datetime.datetime(2020, 3, 6, 22, 0, 4), datetime.datetime(2020, 3, 6, 22, 10, 2), datetime.datetime(2020, 3, 6, 22, 20, 1), datetime.datetime(2020, 3, 6, 22, 30, 2), datetime.datetime(2020, 3, 6, 22, 40, 2), datetime.datetime(2020, 3, 6, 22, 50, 2), datetime.datetime(2020, 3, 6, 23, 0, 5), datetime.datetime(2020, 3, 6, 23, 10, 2), datetime.datetime(2020, 3, 6, 23, 20, 2), datetime.datetime(2020, 3, 6, 23, 30, 2), datetime.datetime(2020, 3, 6, 23, 40, 2), datetime.datetime(2020, 3, 6, 23, 50, 2), datetime.datetime(2020, 3, 7, 0, 0, 5), datetime.datetime(2020, 3, 7, 0, 10, 1), datetime.datetime(2020, 3, 7, 0, 20, 2), datetime.datetime(2020, 3, 7, 0, 30, 2), datetime.datetime(2020, 3, 7, 0, 40, 2), datetime.datetime(2020, 3, 7, 0, 50, 4), datetime.datetime(2020, 3, 7, 1, 0, 4), datetime.datetime(2020, 3, 7, 1, 10, 2), datetime.datetime(2020, 3, 7, 1, 20, 2), datetime.datetime(2020, 3, 7, 1, 30, 2), datetime.datetime(2020, 3, 7, 1, 40, 2), datetime.datetime(2020, 3, 7, 1, 50, 2), datetime.datetime(2020, 3, 7, 2, 0, 6), datetime.datetime(2020, 3, 7, 2, 10, 2), datetime.datetime(2020, 3, 7, 2, 20, 2), datetime.datetime(2020, 3, 7, 2, 30, 2), datetime.datetime(2020, 3, 7, 2, 40, 1), datetime.datetime(2020, 3, 7, 2, 50, 1), datetime.datetime(2020, 3, 7, 3, 0, 4), datetime.datetime(2020, 3, 7, 3, 10, 2), datetime.datetime(2020, 3, 7, 3, 20, 2), datetime.datetime(2020, 3, 7, 3, 30, 2), datetime.datetime(2020, 3, 7, 3, 40, 2), datetime.datetime(2020, 3, 7, 3, 50, 2), datetime.datetime(2020, 3, 7, 4, 0, 4), datetime.datetime(2020, 3, 7, 4, 10, 2), datetime.datetime(2020, 3, 7, 4, 20, 2), datetime.datetime(2020, 3, 7, 4, 30, 2), datetime.datetime(2020, 3, 7, 4, 40, 2), datetime.datetime(2020, 3, 7, 4, 50, 2), datetime.datetime(2020, 3, 7, 5, 0, 4), datetime.datetime(2020, 3, 7, 5, 10, 2), datetime.datetime(2020, 3, 7, 5, 20, 2), datetime.datetime(2020, 3, 7, 5, 30, 2), datetime.datetime(2020, 3, 7, 5, 40, 2), datetime.datetime(2020, 3, 7, 5, 50, 2), datetime.datetime(2020, 3, 7, 6, 0, 4), datetime.datetime(2020, 3, 7, 6, 10, 2), datetime.datetime(2020, 3, 7, 6, 20, 2), datetime.datetime(2020, 3, 7, 6, 30, 2), datetime.datetime(2020, 3, 7, 6, 40, 2), datetime.datetime(2020, 3, 7, 6, 50, 2), datetime.datetime(2020, 3, 7, 7, 0, 5), datetime.datetime(2020, 3, 7, 7, 10, 2), datetime.datetime(2020, 3, 7, 7, 20, 2), datetime.datetime(2020, 3, 7, 7, 30, 2), datetime.datetime(2020, 3, 7, 7, 40, 1), datetime.datetime(2020, 3, 7, 7, 50, 2), datetime.datetime(2020, 3, 7, 8, 0, 4), datetime.datetime(2020, 3, 7, 8, 10, 2), datetime.datetime(2020, 3, 7, 8, 20, 2), datetime.datetime(2020, 3, 7, 8, 30, 2), datetime.datetime(2020, 3, 7, 8, 40, 2), datetime.datetime(2020, 3, 7, 8, 50, 2), datetime.datetime(2020, 3, 7, 9, 0, 5), datetime.datetime(2020, 3, 7, 9, 10, 2), datetime.datetime(2020, 3, 7, 9, 20, 2), datetime.datetime(2020, 3, 7, 9, 30, 2), datetime.datetime(2020, 3, 7, 9, 40, 2), datetime.datetime(2020, 3, 7, 9, 50, 2), datetime.datetime(2020, 3, 7, 10, 0, 4), datetime.datetime(2020, 3, 7, 10, 10, 2), datetime.datetime(2020, 3, 7, 10, 20, 2), datetime.datetime(2020, 3, 7, 10, 30, 2), datetime.datetime(2020, 3, 7, 10, 40, 1), datetime.datetime(2020, 3, 7, 10, 50, 1), datetime.datetime(2020, 3, 7, 11, 0, 3), datetime.datetime(2020, 3, 7, 11, 10, 2), datetime.datetime(2020, 3, 7, 11, 20, 2), datetime.datetime(2020, 3, 7, 11, 30, 2), datetime.datetime(2020, 3, 7, 11, 40, 1), datetime.datetime(2020, 3, 7, 11, 50, 2), datetime.datetime(2020, 3, 7, 12, 0, 4), datetime.datetime(2020, 3, 7, 12, 10, 2), datetime.datetime(2020, 3, 7, 12, 20, 2), datetime.datetime(2020, 3, 7, 12, 30, 2), datetime.datetime(2020, 3, 7, 12, 40, 2), datetime.datetime(2020, 3, 7, 12, 50, 2), datetime.datetime(2020, 3, 7, 13, 0, 3), datetime.datetime(2020, 3, 7, 13, 10, 2), datetime.datetime(2020, 3, 7, 13, 20, 2), datetime.datetime(2020, 3, 7, 13, 30, 2), datetime.datetime(2020, 3, 7, 13, 40, 2), datetime.datetime(2020, 3, 7, 13, 50, 2), datetime.datetime(2020, 3, 7, 14, 0, 4), datetime.datetime(2020, 3, 7, 14, 10, 2), datetime.datetime(2020, 3, 7, 14, 20, 2), datetime.datetime(2020, 3, 7, 14, 30, 2), datetime.datetime(2020, 3, 7, 14, 40, 2), datetime.datetime(2020, 3, 7, 14, 50, 2), datetime.datetime(2020, 3, 7, 15, 0, 4), datetime.datetime(2020, 3, 7, 15, 10, 1), datetime.datetime(2020, 3, 7, 15, 20, 2), datetime.datetime(2020, 3, 7, 15, 30, 2), datetime.datetime(2020, 3, 7, 15, 40, 2), datetime.datetime(2020, 3, 7, 15, 50, 2), datetime.datetime(2020, 3, 7, 16, 0, 4), datetime.datetime(2020, 3, 7, 16, 10, 2), datetime.datetime(2020, 3, 7, 16, 20, 2), datetime.datetime(2020, 3, 7, 16, 30, 2), datetime.datetime(2020, 3, 7, 16, 40, 2), datetime.datetime(2020, 3, 7, 16, 50, 2), datetime.datetime(2020, 3, 7, 17, 0, 4), datetime.datetime(2020, 3, 7, 17, 10, 2), datetime.datetime(2020, 3, 7, 17, 20, 2), datetime.datetime(2020, 3, 7, 17, 30, 2), datetime.datetime(2020, 3, 7, 17, 40, 2), datetime.datetime(2020, 3, 7, 17, 50, 2), datetime.datetime(2020, 3, 7, 18, 0, 6), datetime.datetime(2020, 3, 7, 18, 10, 1), datetime.datetime(2020, 3, 7, 18, 20, 2), datetime.datetime(2020, 3, 7, 18, 30, 2), datetime.datetime(2020, 3, 7, 18, 40, 2), datetime.datetime(2020, 3, 7, 18, 50, 2), datetime.datetime(2020, 3, 7, 19, 0, 4), datetime.datetime(2020, 3, 7, 19, 10, 2), datetime.datetime(2020, 3, 7, 19, 20, 2), datetime.datetime(2020, 3, 7, 19, 30, 2), datetime.datetime(2020, 3, 7, 19, 40, 2), datetime.datetime(2020, 3, 7, 19, 50, 2), datetime.datetime(2020, 3, 7, 20, 0, 5), datetime.datetime(2020, 3, 7, 20, 10, 2), datetime.datetime(2020, 3, 7, 20, 20, 2), datetime.datetime(2020, 3, 7, 20, 30, 2), datetime.datetime(2020, 3, 7, 20, 40, 2), datetime.datetime(2020, 3, 7, 20, 50, 2), datetime.datetime(2020, 3, 7, 21, 0, 3), datetime.datetime(2020, 3, 7, 21, 10, 2), datetime.datetime(2020, 3, 7, 21, 20, 2), datetime.datetime(2020, 3, 7, 21, 30, 2), datetime.datetime(2020, 3, 7, 21, 40, 2), datetime.datetime(2020, 3, 7, 21, 50, 2), datetime.datetime(2020, 3, 7, 22, 0, 4), datetime.datetime(2020, 3, 7, 22, 10, 2), datetime.datetime(2020, 3, 7, 22, 20, 2), datetime.datetime(2020, 3, 7, 22, 30, 2), datetime.datetime(2020, 3, 7, 22, 40, 2), datetime.datetime(2020, 3, 7, 22, 50, 1), datetime.datetime(2020, 3, 7, 23, 0, 3), datetime.datetime(2020, 3, 7, 23, 10, 2), datetime.datetime(2020, 3, 7, 23, 20, 2), datetime.datetime(2020, 3, 7, 23, 30, 2), datetime.datetime(2020, 3, 7, 23, 40, 2), datetime.datetime(2020, 3, 7, 23, 50, 2), datetime.datetime(2020, 3, 8, 0, 0, 3), datetime.datetime(2020, 3, 8, 0, 10, 2), datetime.datetime(2020, 3, 8, 0, 20, 2), datetime.datetime(2020, 3, 8, 0, 30, 2), datetime.datetime(2020, 3, 8, 0, 40, 2), datetime.datetime(2020, 3, 8, 0, 50, 4), datetime.datetime(2020, 3, 8, 1, 0, 4), datetime.datetime(2020, 3, 8, 1, 10, 2), datetime.datetime(2020, 3, 8, 1, 20, 2), datetime.datetime(2020, 3, 8, 1, 30, 2), datetime.datetime(2020, 3, 8, 1, 40, 2), datetime.datetime(2020, 3, 8, 1, 50, 2), datetime.datetime(2020, 3, 8, 2, 0, 3), datetime.datetime(2020, 3, 8, 2, 10, 2), datetime.datetime(2020, 3, 8, 2, 20, 2), datetime.datetime(2020, 3, 8, 2, 30, 2), datetime.datetime(2020, 3, 8, 2, 40, 2), datetime.datetime(2020, 3, 8, 2, 50, 2), datetime.datetime(2020, 3, 8, 3, 0, 5), datetime.datetime(2020, 3, 8, 3, 10, 2), datetime.datetime(2020, 3, 8, 3, 20, 2), datetime.datetime(2020, 3, 8, 3, 30, 2), datetime.datetime(2020, 3, 8, 3, 40, 2), datetime.datetime(2020, 3, 8, 3, 50, 2), datetime.datetime(2020, 3, 8, 4, 0, 6), datetime.datetime(2020, 3, 8, 4, 10, 2), datetime.datetime(2020, 3, 8, 4, 20, 2), datetime.datetime(2020, 3, 8, 4, 30, 2), datetime.datetime(2020, 3, 8, 4, 40, 1), datetime.datetime(2020, 3, 8, 4, 50, 2), datetime.datetime(2020, 3, 8, 5, 0, 4), datetime.datetime(2020, 3, 8, 5, 10, 2), datetime.datetime(2020, 3, 8, 5, 20, 2), datetime.datetime(2020, 3, 8, 5, 30, 2), datetime.datetime(2020, 3, 8, 5, 40, 2), datetime.datetime(2020, 3, 8, 5, 50, 2), datetime.datetime(2020, 3, 8, 6, 0, 6), datetime.datetime(2020, 3, 8, 6, 10, 2), datetime.datetime(2020, 3, 8, 6, 20, 2), datetime.datetime(2020, 3, 8, 6, 30, 2), datetime.datetime(2020, 3, 8, 6, 40, 2), datetime.datetime(2020, 3, 8, 6, 50, 2), datetime.datetime(2020, 3, 8, 7, 0, 4), datetime.datetime(2020, 3, 8, 7, 10, 2), datetime.datetime(2020, 3, 8, 7, 20, 2), datetime.datetime(2020, 3, 8, 7, 30, 2), datetime.datetime(2020, 3, 8, 7, 40, 2), datetime.datetime(2020, 3, 8, 7, 50, 2), datetime.datetime(2020, 3, 8, 8, 0, 4), datetime.datetime(2020, 3, 8, 8, 10, 2), datetime.datetime(2020, 3, 8, 8, 20, 2), datetime.datetime(2020, 3, 8, 8, 30, 2), datetime.datetime(2020, 3, 8, 8, 40, 2), datetime.datetime(2020, 3, 8, 8, 50, 2), datetime.datetime(2020, 3, 8, 9, 0, 6), datetime.datetime(2020, 3, 8, 9, 10, 2), datetime.datetime(2020, 3, 8, 9, 20, 2), datetime.datetime(2020, 3, 8, 9, 30, 2), datetime.datetime(2020, 3, 8, 9, 40, 2), datetime.datetime(2020, 3, 8, 9, 50, 2), datetime.datetime(2020, 3, 8, 10, 0, 5), datetime.datetime(2020, 3, 8, 10, 10, 2), datetime.datetime(2020, 3, 8, 10, 20, 2), datetime.datetime(2020, 3, 8, 10, 30, 2), datetime.datetime(2020, 3, 8, 10, 40, 2), datetime.datetime(2020, 3, 8, 10, 50, 2), datetime.datetime(2020, 3, 8, 11, 0, 4), datetime.datetime(2020, 3, 8, 11, 10, 2), datetime.datetime(2020, 3, 8, 11, 20, 2), datetime.datetime(2020, 3, 8, 11, 30, 2), datetime.datetime(2020, 3, 8, 11, 40, 2), datetime.datetime(2020, 3, 8, 11, 50, 2), datetime.datetime(2020, 3, 8, 12, 0, 4), datetime.datetime(2020, 3, 8, 12, 10, 2), datetime.datetime(2020, 3, 8, 12, 20, 2), datetime.datetime(2020, 3, 8, 12, 30, 2), datetime.datetime(2020, 3, 8, 12, 40, 2), datetime.datetime(2020, 3, 8, 12, 50, 1), datetime.datetime(2020, 3, 8, 13, 0, 3), datetime.datetime(2020, 3, 8, 13, 10, 2), datetime.datetime(2020, 3, 8, 13, 20, 2), datetime.datetime(2020, 3, 8, 13, 30, 2), datetime.datetime(2020, 3, 8, 13, 40, 2), datetime.datetime(2020, 3, 8, 13, 50, 2), datetime.datetime(2020, 3, 8, 14, 0, 3), datetime.datetime(2020, 3, 8, 14, 10, 2), datetime.datetime(2020, 3, 8, 14, 20, 2), datetime.datetime(2020, 3, 8, 14, 30, 2), datetime.datetime(2020, 3, 8, 14, 40, 2), datetime.datetime(2020, 3, 8, 14, 50, 2), datetime.datetime(2020, 3, 8, 15, 0, 5), datetime.datetime(2020, 3, 8, 15, 10, 2), datetime.datetime(2020, 3, 8, 15, 20, 2), datetime.datetime(2020, 3, 8, 15, 30, 2), datetime.datetime(2020, 3, 8, 15, 40, 2), datetime.datetime(2020, 3, 8, 15, 50, 1), datetime.datetime(2020, 3, 8, 16, 0, 4), datetime.datetime(2020, 3, 8, 16, 10, 2), datetime.datetime(2020, 3, 8, 16, 20, 2), datetime.datetime(2020, 3, 8, 16, 30, 2), datetime.datetime(2020, 3, 8, 16, 40, 2), datetime.datetime(2020, 3, 8, 16, 50, 2), datetime.datetime(2020, 3, 8, 17, 0, 5), datetime.datetime(2020, 3, 8, 17, 10, 2), datetime.datetime(2020, 3, 8, 17, 20, 2), datetime.datetime(2020, 3, 8, 17, 30, 2), datetime.datetime(2020, 3, 8, 17, 40, 2), datetime.datetime(2020, 3, 8, 17, 50, 2), datetime.datetime(2020, 3, 8, 18, 0, 4), datetime.datetime(2020, 3, 8, 18, 10, 2), datetime.datetime(2020, 3, 8, 18, 20, 2), datetime.datetime(2020, 3, 8, 18, 30, 2), datetime.datetime(2020, 3, 8, 18, 40, 2), datetime.datetime(2020, 3, 8, 18, 50, 1), datetime.datetime(2020, 3, 8, 19, 0, 3), datetime.datetime(2020, 3, 8, 19, 10, 2), datetime.datetime(2020, 3, 8, 19, 20, 2), datetime.datetime(2020, 3, 8, 19, 30, 2), datetime.datetime(2020, 3, 8, 19, 40, 1), datetime.datetime(2020, 3, 8, 19, 50, 2), datetime.datetime(2020, 3, 8, 20, 0, 4), datetime.datetime(2020, 3, 8, 20, 10, 2), datetime.datetime(2020, 3, 8, 20, 20, 2), datetime.datetime(2020, 3, 8, 20, 30, 2), datetime.datetime(2020, 3, 8, 20, 40, 2), datetime.datetime(2020, 3, 8, 20, 50, 2), datetime.datetime(2020, 3, 8, 21, 0, 4), datetime.datetime(2020, 3, 8, 21, 10, 2), datetime.datetime(2020, 3, 8, 21, 20, 2), datetime.datetime(2020, 3, 8, 21, 30, 2), datetime.datetime(2020, 3, 8, 21, 40, 1), datetime.datetime(2020, 3, 8, 21, 50, 2), datetime.datetime(2020, 3, 8, 22, 0, 4), datetime.datetime(2020, 3, 8, 22, 10, 2), datetime.datetime(2020, 3, 8, 22, 20, 2), datetime.datetime(2020, 3, 8, 22, 30, 2), datetime.datetime(2020, 3, 8, 22, 40, 2), datetime.datetime(2020, 3, 8, 22, 50, 2), datetime.datetime(2020, 3, 8, 23, 0, 6), datetime.datetime(2020, 3, 8, 23, 10, 2), datetime.datetime(2020, 3, 8, 23, 20, 1), datetime.datetime(2020, 3, 8, 23, 30, 2), datetime.datetime(2020, 3, 8, 23, 40, 2), datetime.datetime(2020, 3, 8, 23, 50, 2), datetime.datetime(2020, 3, 9, 0, 0, 4), datetime.datetime(2020, 3, 9, 0, 10, 2), datetime.datetime(2020, 3, 9, 0, 20, 2), datetime.datetime(2020, 3, 9, 0, 30, 2), datetime.datetime(2020, 3, 9, 0, 40, 2), datetime.datetime(2020, 3, 9, 0, 50, 1), datetime.datetime(2020, 3, 9, 1, 0, 3), datetime.datetime(2020, 3, 9, 1, 10, 2), datetime.datetime(2020, 3, 9, 1, 20, 2), datetime.datetime(2020, 3, 9, 1, 30, 2), datetime.datetime(2020, 3, 9, 1, 40, 2), datetime.datetime(2020, 3, 9, 1, 50, 2), datetime.datetime(2020, 3, 9, 2, 0, 4), datetime.datetime(2020, 3, 9, 2, 10, 2), datetime.datetime(2020, 3, 9, 2, 20, 2), datetime.datetime(2020, 3, 9, 2, 30, 2), datetime.datetime(2020, 3, 9, 2, 40, 2), datetime.datetime(2020, 3, 9, 2, 50, 2), datetime.datetime(2020, 3, 9, 3, 0, 4), datetime.datetime(2020, 3, 9, 3, 10, 2), datetime.datetime(2020, 3, 9, 3, 20, 2), datetime.datetime(2020, 3, 9, 3, 30, 3), datetime.datetime(2020, 3, 9, 3, 40, 2), datetime.datetime(2020, 3, 9, 3, 50, 2), datetime.datetime(2020, 3, 9, 4, 0, 5), datetime.datetime(2020, 3, 9, 4, 10, 2), datetime.datetime(2020, 3, 9, 4, 20, 2), datetime.datetime(2020, 3, 9, 4, 30, 2), datetime.datetime(2020, 3, 9, 4, 40, 2), datetime.datetime(2020, 3, 9, 4, 50, 1), datetime.datetime(2020, 3, 9, 5, 0, 3), datetime.datetime(2020, 3, 9, 5, 10, 2), datetime.datetime(2020, 3, 9, 5, 20, 2), datetime.datetime(2020, 3, 9, 5, 30, 2), datetime.datetime(2020, 3, 9, 5, 40, 2), datetime.datetime(2020, 3, 9, 5, 50, 2), datetime.datetime(2020, 3, 9, 6, 0, 6), datetime.datetime(2020, 3, 9, 6, 10, 2), datetime.datetime(2020, 3, 9, 6, 20, 2), datetime.datetime(2020, 3, 9, 6, 30, 2), datetime.datetime(2020, 3, 9, 6, 40, 2), datetime.datetime(2020, 3, 9, 6, 50, 2), datetime.datetime(2020, 3, 9, 7, 0, 5), datetime.datetime(2020, 3, 9, 7, 10, 2), datetime.datetime(2020, 3, 9, 7, 20, 1), datetime.datetime(2020, 3, 9, 7, 30, 2), datetime.datetime(2020, 3, 9, 7, 40, 2), datetime.datetime(2020, 3, 9, 7, 50, 2), datetime.datetime(2020, 3, 9, 8, 0, 4), datetime.datetime(2020, 3, 9, 8, 10, 2), datetime.datetime(2020, 3, 9, 8, 20, 2), datetime.datetime(2020, 3, 9, 8, 30, 2), datetime.datetime(2020, 3, 9, 8, 40, 1), datetime.datetime(2020, 3, 9, 8, 50, 2), datetime.datetime(2020, 3, 9, 9, 0, 4), datetime.datetime(2020, 3, 9, 9, 10, 2), datetime.datetime(2020, 3, 9, 9, 20, 2), datetime.datetime(2020, 3, 9, 9, 30, 2), datetime.datetime(2020, 3, 9, 9, 40, 2), datetime.datetime(2020, 3, 9, 9, 50, 2), datetime.datetime(2020, 3, 9, 10, 0, 5), datetime.datetime(2020, 3, 9, 10, 10, 2), datetime.datetime(2020, 3, 9, 10, 20, 2), datetime.datetime(2020, 3, 9, 10, 30, 2), datetime.datetime(2020, 3, 9, 10, 40, 2), datetime.datetime(2020, 3, 9, 10, 50, 2), datetime.datetime(2020, 3, 9, 11, 0, 5), datetime.datetime(2020, 3, 9, 11, 10, 2), datetime.datetime(2020, 3, 9, 11, 20, 2), datetime.datetime(2020, 3, 9, 11, 30, 2), datetime.datetime(2020, 3, 9, 11, 40, 1), datetime.datetime(2020, 3, 9, 11, 50, 2), datetime.datetime(2020, 3, 9, 12, 0, 4), datetime.datetime(2020, 3, 9, 12, 10, 2), datetime.datetime(2020, 3, 9, 12, 20, 1), datetime.datetime(2020, 3, 9, 12, 30, 2), datetime.datetime(2020, 3, 9, 12, 40, 2), datetime.datetime(2020, 3, 9, 12, 50, 2), datetime.datetime(2020, 3, 9, 13, 0, 5), datetime.datetime(2020, 3, 9, 13, 10, 2), datetime.datetime(2020, 3, 9, 13, 20, 2), datetime.datetime(2020, 3, 9, 13, 30, 2), datetime.datetime(2020, 3, 9, 13, 40, 2), datetime.datetime(2020, 3, 9, 13, 50, 2), datetime.datetime(2020, 3, 9, 14, 0, 5), datetime.datetime(2020, 3, 9, 14, 10, 2), datetime.datetime(2020, 3, 9, 14, 20, 2), datetime.datetime(2020, 3, 9, 14, 30, 2), datetime.datetime(2020, 3, 9, 14, 40, 2), datetime.datetime(2020, 3, 9, 14, 50, 2), datetime.datetime(2020, 3, 9, 15, 0, 4), datetime.datetime(2020, 3, 9, 15, 10, 2), datetime.datetime(2020, 3, 9, 15, 20, 2), datetime.datetime(2020, 3, 9, 15, 30, 2), datetime.datetime(2020, 3, 9, 15, 40, 2), datetime.datetime(2020, 3, 9, 15, 50, 2), datetime.datetime(2020, 3, 9, 16, 0, 4), datetime.datetime(2020, 3, 9, 16, 10, 2), datetime.datetime(2020, 3, 9, 16, 20, 2), datetime.datetime(2020, 3, 9, 16, 30, 2), datetime.datetime(2020, 3, 9, 16, 40, 2), datetime.datetime(2020, 3, 9, 16, 50, 2), datetime.datetime(2020, 3, 9, 17, 0, 4), datetime.datetime(2020, 3, 9, 17, 10, 2), datetime.datetime(2020, 3, 9, 17, 20, 2), datetime.datetime(2020, 3, 9, 17, 30, 2), datetime.datetime(2020, 3, 9, 17, 40, 2), datetime.datetime(2020, 3, 9, 17, 50, 1), datetime.datetime(2020, 3, 9, 18, 0, 4), datetime.datetime(2020, 3, 9, 18, 10, 2), datetime.datetime(2020, 3, 9, 18, 20, 2), datetime.datetime(2020, 3, 9, 18, 30, 2), datetime.datetime(2020, 3, 9, 18, 40, 2), datetime.datetime(2020, 3, 9, 18, 50, 2), datetime.datetime(2020, 3, 9, 19, 0, 6), datetime.datetime(2020, 3, 9, 19, 10, 2), datetime.datetime(2020, 3, 9, 19, 20, 2), datetime.datetime(2020, 3, 9, 19, 30, 2), datetime.datetime(2020, 3, 9, 19, 40, 2), datetime.datetime(2020, 3, 9, 19, 50, 1), datetime.datetime(2020, 3, 9, 20, 0, 4), datetime.datetime(2020, 3, 9, 20, 10, 1), datetime.datetime(2020, 3, 9, 20, 20, 2), datetime.datetime(2020, 3, 9, 20, 30, 2), datetime.datetime(2020, 3, 9, 20, 40, 2), datetime.datetime(2020, 3, 9, 20, 50, 2), datetime.datetime(2020, 3, 9, 21, 0, 6), datetime.datetime(2020, 3, 9, 21, 10, 2), datetime.datetime(2020, 3, 9, 21, 20, 2), datetime.datetime(2020, 3, 9, 21, 30, 2), datetime.datetime(2020, 3, 9, 21, 40, 2), datetime.datetime(2020, 3, 9, 21, 50, 2), datetime.datetime(2020, 3, 9, 22, 0, 6), datetime.datetime(2020, 3, 9, 22, 10, 2), datetime.datetime(2020, 3, 9, 22, 20, 2), datetime.datetime(2020, 3, 9, 22, 30, 2), datetime.datetime(2020, 3, 9, 22, 40, 2), datetime.datetime(2020, 3, 9, 22, 50, 2), datetime.datetime(2020, 3, 9, 23, 0, 5), datetime.datetime(2020, 3, 9, 23, 10, 2), datetime.datetime(2020, 3, 9, 23, 20, 2), datetime.datetime(2020, 3, 9, 23, 30, 2), datetime.datetime(2020, 3, 9, 23, 40, 2), datetime.datetime(2020, 3, 9, 23, 50, 2), datetime.datetime(2020, 3, 10, 0, 0, 6), datetime.datetime(2020, 3, 10, 0, 10, 2), datetime.datetime(2020, 3, 10, 0, 20, 2), datetime.datetime(2020, 3, 10, 0, 30, 2), datetime.datetime(2020, 3, 10, 0, 40, 2), datetime.datetime(2020, 3, 10, 0, 50, 3), datetime.datetime(2020, 3, 10, 1, 0, 3), datetime.datetime(2020, 3, 10, 1, 10, 2), datetime.datetime(2020, 3, 10, 1, 20, 2), datetime.datetime(2020, 3, 10, 1, 30, 2), datetime.datetime(2020, 3, 10, 1, 40, 2), datetime.datetime(2020, 3, 10, 1, 50, 1), datetime.datetime(2020, 3, 10, 2, 0, 3), datetime.datetime(2020, 3, 10, 2, 10, 2), datetime.datetime(2020, 3, 10, 2, 20, 2), datetime.datetime(2020, 3, 10, 2, 30, 2), datetime.datetime(2020, 3, 10, 2, 40, 2), datetime.datetime(2020, 3, 10, 2, 50, 2), datetime.datetime(2020, 3, 10, 3, 0, 28), datetime.datetime(2020, 3, 10, 3, 10, 1), datetime.datetime(2020, 3, 10, 3, 20, 2), datetime.datetime(2020, 3, 10, 3, 30, 2), datetime.datetime(2020, 3, 10, 3, 40, 2), datetime.datetime(2020, 3, 10, 3, 50, 2), datetime.datetime(2020, 3, 10, 4, 0, 4), datetime.datetime(2020, 3, 10, 4, 10, 2), datetime.datetime(2020, 3, 10, 4, 20, 1), datetime.datetime(2020, 3, 10, 4, 30, 2), datetime.datetime(2020, 3, 10, 4, 40, 2), datetime.datetime(2020, 3, 10, 4, 50, 2), datetime.datetime(2020, 3, 10, 5, 0, 5), datetime.datetime(2020, 3, 10, 5, 10, 2), datetime.datetime(2020, 3, 10, 5, 20, 2), datetime.datetime(2020, 3, 10, 5, 30, 2), datetime.datetime(2020, 3, 10, 5, 40, 2), datetime.datetime(2020, 3, 10, 5, 50, 2), datetime.datetime(2020, 3, 10, 6, 0, 4), datetime.datetime(2020, 3, 10, 6, 10, 2), datetime.datetime(2020, 3, 10, 6, 20, 2), datetime.datetime(2020, 3, 10, 6, 30, 2), datetime.datetime(2020, 3, 10, 6, 40, 2), datetime.datetime(2020, 3, 10, 6, 50, 1), datetime.datetime(2020, 3, 10, 7, 0, 3), datetime.datetime(2020, 3, 10, 7, 10, 2), datetime.datetime(2020, 3, 10, 7, 20, 2), datetime.datetime(2020, 3, 10, 7, 30, 2), datetime.datetime(2020, 3, 10, 7, 40, 2), datetime.datetime(2020, 3, 10, 7, 50, 2), datetime.datetime(2020, 3, 10, 8, 0, 5), datetime.datetime(2020, 3, 10, 8, 10, 2), datetime.datetime(2020, 3, 10, 8, 20, 2), datetime.datetime(2020, 3, 10, 8, 30, 2), datetime.datetime(2020, 3, 10, 8, 40, 1), datetime.datetime(2020, 3, 10, 8, 50, 2), datetime.datetime(2020, 3, 10, 9, 0, 4), datetime.datetime(2020, 3, 10, 9, 10, 1), datetime.datetime(2020, 3, 10, 9, 20, 2), datetime.datetime(2020, 3, 10, 9, 30, 2), datetime.datetime(2020, 3, 10, 9, 40, 2), datetime.datetime(2020, 3, 10, 9, 50, 2), datetime.datetime(2020, 3, 10, 10, 0, 4), datetime.datetime(2020, 3, 10, 10, 10, 2), datetime.datetime(2020, 3, 10, 10, 20, 2), datetime.datetime(2020, 3, 10, 10, 30, 2), datetime.datetime(2020, 3, 10, 10, 40, 1), datetime.datetime(2020, 3, 10, 10, 50, 2), datetime.datetime(2020, 3, 10, 11, 0, 3), datetime.datetime(2020, 3, 10, 11, 10, 2), datetime.datetime(2020, 3, 10, 11, 20, 2), datetime.datetime(2020, 3, 10, 11, 30, 2), datetime.datetime(2020, 3, 10, 11, 40, 2), datetime.datetime(2020, 3, 10, 11, 50, 2), datetime.datetime(2020, 3, 10, 12, 0, 6), datetime.datetime(2020, 3, 10, 12, 10, 2), datetime.datetime(2020, 3, 10, 12, 20, 2), datetime.datetime(2020, 3, 10, 12, 30, 2), datetime.datetime(2020, 3, 10, 12, 40, 2), datetime.datetime(2020, 3, 10, 12, 50, 2), datetime.datetime(2020, 3, 10, 13, 0, 5), datetime.datetime(2020, 3, 10, 13, 10, 2), datetime.datetime(2020, 3, 10, 13, 20, 2), datetime.datetime(2020, 3, 10, 13, 30, 2), datetime.datetime(2020, 3, 10, 13, 40, 2), datetime.datetime(2020, 3, 10, 13, 50, 2), datetime.datetime(2020, 3, 10, 14, 0, 4), datetime.datetime(2020, 3, 10, 14, 10, 2), datetime.datetime(2020, 3, 10, 14, 20, 2), datetime.datetime(2020, 3, 10, 14, 30, 2), datetime.datetime(2020, 3, 10, 14, 40, 2), datetime.datetime(2020, 3, 10, 14, 50, 2), datetime.datetime(2020, 3, 10, 15, 0, 4), datetime.datetime(2020, 3, 10, 15, 10, 2), datetime.datetime(2020, 3, 10, 15, 20, 2), datetime.datetime(2020, 3, 10, 15, 30, 27), datetime.datetime(2020, 3, 10, 15, 40, 2), datetime.datetime(2020, 3, 10, 15, 50, 2), datetime.datetime(2020, 3, 10, 16, 0, 5), datetime.datetime(2020, 3, 10, 16, 10, 2), datetime.datetime(2020, 3, 10, 16, 20, 2), datetime.datetime(2020, 3, 10, 16, 30, 2), datetime.datetime(2020, 3, 10, 16, 40, 1), datetime.datetime(2020, 3, 10, 16, 50, 2), datetime.datetime(2020, 3, 10, 17, 0, 4), datetime.datetime(2020, 3, 10, 17, 10, 2), datetime.datetime(2020, 3, 10, 17, 20, 2), datetime.datetime(2020, 3, 10, 17, 30, 2), datetime.datetime(2020, 3, 10, 17, 40, 27), datetime.datetime(2020, 3, 10, 17, 50, 2), datetime.datetime(2020, 3, 10, 18, 0, 4), datetime.datetime(2020, 3, 10, 18, 10, 2), datetime.datetime(2020, 3, 10, 18, 20, 2), datetime.datetime(2020, 3, 10, 18, 30, 2), datetime.datetime(2020, 3, 10, 18, 40, 2), datetime.datetime(2020, 3, 10, 18, 50, 2), datetime.datetime(2020, 3, 10, 19, 0, 6), datetime.datetime(2020, 3, 10, 19, 10, 2), datetime.datetime(2020, 3, 10, 19, 20, 2), datetime.datetime(2020, 3, 10, 19, 30, 2), datetime.datetime(2020, 3, 10, 19, 40, 2), datetime.datetime(2020, 3, 10, 19, 50, 1), datetime.datetime(2020, 3, 10, 20, 0, 4), datetime.datetime(2020, 3, 10, 20, 10, 2), datetime.datetime(2020, 3, 10, 20, 20, 2), datetime.datetime(2020, 3, 10, 20, 30, 2), datetime.datetime(2020, 3, 10, 20, 40, 2), datetime.datetime(2020, 3, 10, 20, 50, 2), datetime.datetime(2020, 3, 10, 21, 0, 3), datetime.datetime(2020, 3, 10, 21, 10, 2), datetime.datetime(2020, 3, 10, 21, 20, 2), datetime.datetime(2020, 3, 10, 21, 30, 2), datetime.datetime(2020, 3, 10, 21, 40, 2), datetime.datetime(2020, 3, 10, 21, 50, 2), datetime.datetime(2020, 3, 10, 22, 0, 5), datetime.datetime(2020, 3, 10, 22, 10, 2), datetime.datetime(2020, 3, 10, 22, 20, 2), datetime.datetime(2020, 3, 10, 22, 30, 2), datetime.datetime(2020, 3, 10, 22, 40, 2), datetime.datetime(2020, 3, 10, 22, 50, 2), datetime.datetime(2020, 3, 10, 23, 0, 4), datetime.datetime(2020, 3, 10, 23, 10, 2), datetime.datetime(2020, 3, 10, 23, 20, 2), datetime.datetime(2020, 3, 10, 23, 30, 2), datetime.datetime(2020, 3, 10, 23, 40, 2), datetime.datetime(2020, 3, 10, 23, 50, 2), datetime.datetime(2020, 3, 11, 0, 0, 5), datetime.datetime(2020, 3, 11, 0, 10, 2), datetime.datetime(2020, 3, 11, 0, 20, 2), datetime.datetime(2020, 3, 11, 0, 30, 2), datetime.datetime(2020, 3, 11, 0, 40, 2), datetime.datetime(2020, 3, 11, 0, 50, 4), datetime.datetime(2020, 3, 11, 1, 0, 5), datetime.datetime(2020, 3, 11, 1, 10, 2), datetime.datetime(2020, 3, 11, 1, 20, 2), datetime.datetime(2020, 3, 11, 1, 30, 2), datetime.datetime(2020, 3, 11, 1, 40, 2), datetime.datetime(2020, 3, 11, 1, 50, 2), datetime.datetime(2020, 3, 11, 2, 0, 4), datetime.datetime(2020, 3, 11, 2, 10, 2), datetime.datetime(2020, 3, 11, 2, 20, 2), datetime.datetime(2020, 3, 11, 2, 30, 2), datetime.datetime(2020, 3, 11, 2, 40, 2), datetime.datetime(2020, 3, 11, 2, 50, 2), datetime.datetime(2020, 3, 11, 3, 0, 6), datetime.datetime(2020, 3, 11, 3, 10, 2), datetime.datetime(2020, 3, 11, 3, 20, 2), datetime.datetime(2020, 3, 11, 3, 30, 2), datetime.datetime(2020, 3, 11, 3, 40, 2), datetime.datetime(2020, 3, 11, 3, 50, 2), datetime.datetime(2020, 3, 11, 4, 0, 4), datetime.datetime(2020, 3, 11, 4, 10, 2), datetime.datetime(2020, 3, 11, 4, 20, 2), datetime.datetime(2020, 3, 11, 4, 30, 27), datetime.datetime(2020, 3, 11, 4, 40, 2), datetime.datetime(2020, 3, 11, 4, 50, 2), datetime.datetime(2020, 3, 11, 5, 0, 4), datetime.datetime(2020, 3, 11, 5, 10, 2), datetime.datetime(2020, 3, 11, 5, 20, 1), datetime.datetime(2020, 3, 11, 5, 30, 2), datetime.datetime(2020, 3, 11, 5, 40, 2), datetime.datetime(2020, 3, 11, 5, 50, 2), datetime.datetime(2020, 3, 11, 6, 0, 6), datetime.datetime(2020, 3, 11, 6, 10, 2), datetime.datetime(2020, 3, 11, 6, 20, 2), datetime.datetime(2020, 3, 11, 6, 30, 2), datetime.datetime(2020, 3, 11, 6, 40, 2), datetime.datetime(2020, 3, 11, 6, 50, 2), datetime.datetime(2020, 3, 11, 7, 0, 5), datetime.datetime(2020, 3, 11, 7, 10, 2), datetime.datetime(2020, 3, 11, 7, 20, 2), datetime.datetime(2020, 3, 11, 7, 30, 2), datetime.datetime(2020, 3, 11, 7, 40, 2), datetime.datetime(2020, 3, 11, 7, 50, 2), datetime.datetime(2020, 3, 11, 8, 0, 5), datetime.datetime(2020, 3, 11, 8, 10, 2), datetime.datetime(2020, 3, 11, 8, 20, 2), datetime.datetime(2020, 3, 11, 8, 30, 2), datetime.datetime(2020, 3, 11, 8, 40, 2), datetime.datetime(2020, 3, 11, 8, 50, 27), datetime.datetime(2020, 3, 11, 9, 0, 4), datetime.datetime(2020, 3, 11, 9, 10, 2), datetime.datetime(2020, 3, 11, 9, 20, 2), datetime.datetime(2020, 3, 11, 9, 30, 2), datetime.datetime(2020, 3, 11, 9, 40, 2), datetime.datetime(2020, 3, 11, 9, 50, 2), datetime.datetime(2020, 3, 11, 10, 0, 4), datetime.datetime(2020, 3, 11, 10, 10, 2), datetime.datetime(2020, 3, 11, 10, 20, 2), datetime.datetime(2020, 3, 11, 10, 30, 2), datetime.datetime(2020, 3, 11, 10, 40, 2), datetime.datetime(2020, 3, 11, 10, 50, 2), datetime.datetime(2020, 3, 11, 11, 0, 4), datetime.datetime(2020, 3, 11, 11, 10, 2), datetime.datetime(2020, 3, 11, 11, 20, 2), datetime.datetime(2020, 3, 11, 11, 30, 2), datetime.datetime(2020, 3, 11, 11, 40, 2), datetime.datetime(2020, 3, 11, 11, 50, 2), datetime.datetime(2020, 3, 11, 12, 0, 4), datetime.datetime(2020, 3, 11, 12, 10, 2), datetime.datetime(2020, 3, 11, 12, 20, 2), datetime.datetime(2020, 3, 11, 12, 30, 2), datetime.datetime(2020, 3, 11, 12, 40, 2), datetime.datetime(2020, 3, 11, 12, 50, 2), datetime.datetime(2020, 3, 11, 13, 0, 6), datetime.datetime(2020, 3, 11, 13, 10, 27), datetime.datetime(2020, 3, 11, 13, 20, 2), datetime.datetime(2020, 3, 11, 13, 30, 2), datetime.datetime(2020, 3, 11, 13, 40, 2), datetime.datetime(2020, 3, 11, 13, 50, 2), datetime.datetime(2020, 3, 11, 14, 0, 6), datetime.datetime(2020, 3, 11, 14, 10, 2), datetime.datetime(2020, 3, 11, 14, 20, 2), datetime.datetime(2020, 3, 11, 14, 30, 2), datetime.datetime(2020, 3, 11, 14, 40, 2), datetime.datetime(2020, 3, 11, 14, 50, 2), datetime.datetime(2020, 3, 11, 15, 0, 3), datetime.datetime(2020, 3, 11, 15, 10, 2), datetime.datetime(2020, 3, 11, 15, 20, 2), datetime.datetime(2020, 3, 11, 15, 30, 2), datetime.datetime(2020, 3, 11, 15, 40, 2), datetime.datetime(2020, 3, 11, 15, 50, 2), datetime.datetime(2020, 3, 11, 16, 0, 4), datetime.datetime(2020, 3, 11, 16, 10, 2), datetime.datetime(2020, 3, 11, 16, 20, 2), datetime.datetime(2020, 3, 11, 16, 30, 2), datetime.datetime(2020, 3, 11, 16, 40, 2), datetime.datetime(2020, 3, 11, 16, 50, 2), datetime.datetime(2020, 3, 11, 17, 0, 4), datetime.datetime(2020, 3, 11, 17, 10, 2), datetime.datetime(2020, 3, 11, 17, 20, 2), datetime.datetime(2020, 3, 11, 17, 30, 2), datetime.datetime(2020, 3, 11, 17, 40, 2), datetime.datetime(2020, 3, 11, 17, 50, 2), datetime.datetime(2020, 3, 11, 18, 0, 4), datetime.datetime(2020, 3, 11, 18, 10, 2), datetime.datetime(2020, 3, 11, 18, 20, 2), datetime.datetime(2020, 3, 11, 18, 30, 2), datetime.datetime(2020, 3, 11, 18, 40, 1), datetime.datetime(2020, 3, 11, 18, 50, 1), datetime.datetime(2020, 3, 11, 19, 0, 4), datetime.datetime(2020, 3, 11, 19, 10, 2), datetime.datetime(2020, 3, 11, 19, 20, 2), datetime.datetime(2020, 3, 11, 19, 30, 2), datetime.datetime(2020, 3, 11, 19, 40, 2), datetime.datetime(2020, 3, 11, 19, 50, 1), datetime.datetime(2020, 3, 11, 20, 0, 3), datetime.datetime(2020, 3, 11, 20, 10, 2), datetime.datetime(2020, 3, 11, 20, 20, 2), datetime.datetime(2020, 3, 11, 20, 30, 2), datetime.datetime(2020, 3, 11, 20, 40, 2), datetime.datetime(2020, 3, 11, 20, 50, 2), datetime.datetime(2020, 3, 11, 21, 0, 3), datetime.datetime(2020, 3, 11, 21, 10, 2), datetime.datetime(2020, 3, 11, 21, 20, 1), datetime.datetime(2020, 3, 11, 21, 30, 2), datetime.datetime(2020, 3, 11, 21, 40, 2), datetime.datetime(2020, 3, 11, 21, 50, 2), datetime.datetime(2020, 3, 11, 22, 0, 4), datetime.datetime(2020, 3, 11, 22, 10, 2), datetime.datetime(2020, 3, 11, 22, 20, 2), datetime.datetime(2020, 3, 11, 22, 30, 2), datetime.datetime(2020, 3, 11, 22, 40, 2), datetime.datetime(2020, 3, 11, 22, 50, 2), datetime.datetime(2020, 3, 11, 23, 0, 4), datetime.datetime(2020, 3, 11, 23, 10, 2), datetime.datetime(2020, 3, 11, 23, 20, 2), datetime.datetime(2020, 3, 11, 23, 30, 2), datetime.datetime(2020, 3, 11, 23, 40, 2), datetime.datetime(2020, 3, 11, 23, 50, 2), datetime.datetime(2020, 3, 12, 0, 0, 5), datetime.datetime(2020, 3, 12, 0, 10, 2), datetime.datetime(2020, 3, 12, 0, 20, 2), datetime.datetime(2020, 3, 12, 0, 30, 2), datetime.datetime(2020, 3, 12, 0, 40, 2), datetime.datetime(2020, 3, 12, 0, 50, 2), datetime.datetime(2020, 3, 12, 1, 0, 4), datetime.datetime(2020, 3, 12, 1, 10, 2), datetime.datetime(2020, 3, 12, 1, 20, 1), datetime.datetime(2020, 3, 12, 1, 30, 2), datetime.datetime(2020, 3, 12, 1, 40, 2), datetime.datetime(2020, 3, 12, 1, 50, 2), datetime.datetime(2020, 3, 12, 2, 0, 5), datetime.datetime(2020, 3, 12, 2, 10, 2), datetime.datetime(2020, 3, 12, 2, 20, 2), datetime.datetime(2020, 3, 12, 2, 30, 2), datetime.datetime(2020, 3, 12, 2, 40, 1), datetime.datetime(2020, 3, 12, 2, 50, 2), datetime.datetime(2020, 3, 12, 3, 0, 4), datetime.datetime(2020, 3, 12, 3, 10, 2), datetime.datetime(2020, 3, 12, 3, 20, 2), datetime.datetime(2020, 3, 12, 3, 30, 2), datetime.datetime(2020, 3, 12, 3, 40, 2), datetime.datetime(2020, 3, 12, 3, 50, 2), datetime.datetime(2020, 3, 12, 4, 0, 6), datetime.datetime(2020, 3, 12, 4, 10, 27), datetime.datetime(2020, 3, 12, 4, 20, 2), datetime.datetime(2020, 3, 12, 4, 30, 2), datetime.datetime(2020, 3, 12, 4, 40, 2), datetime.datetime(2020, 3, 12, 4, 50, 2), datetime.datetime(2020, 3, 12, 5, 0, 4), datetime.datetime(2020, 3, 12, 5, 10, 2), datetime.datetime(2020, 3, 12, 5, 20, 2), datetime.datetime(2020, 3, 12, 5, 30, 2), datetime.datetime(2020, 3, 12, 5, 40, 2), datetime.datetime(2020, 3, 12, 5, 50, 2), datetime.datetime(2020, 3, 12, 6, 0, 4), datetime.datetime(2020, 3, 12, 6, 10, 2), datetime.datetime(2020, 3, 12, 6, 20, 2), datetime.datetime(2020, 3, 12, 6, 30, 2), datetime.datetime(2020, 3, 12, 6, 40, 2), datetime.datetime(2020, 3, 12, 6, 50, 2), datetime.datetime(2020, 3, 12, 7, 0, 5), datetime.datetime(2020, 3, 12, 7, 10, 2), datetime.datetime(2020, 3, 12, 7, 20, 2), datetime.datetime(2020, 3, 12, 7, 30, 1), datetime.datetime(2020, 3, 12, 7, 40, 2), datetime.datetime(2020, 3, 12, 7, 50, 2), datetime.datetime(2020, 3, 12, 8, 0, 6), datetime.datetime(2020, 3, 12, 8, 10, 2), datetime.datetime(2020, 3, 12, 8, 20, 2), datetime.datetime(2020, 3, 12, 8, 30, 2), datetime.datetime(2020, 3, 12, 8, 40, 2), datetime.datetime(2020, 3, 12, 8, 50, 2), datetime.datetime(2020, 3, 12, 9, 0, 5), datetime.datetime(2020, 3, 12, 9, 10, 2), datetime.datetime(2020, 3, 12, 9, 20, 2), datetime.datetime(2020, 3, 12, 9, 30, 2), datetime.datetime(2020, 3, 12, 9, 40, 2), datetime.datetime(2020, 3, 12, 9, 50, 2), datetime.datetime(2020, 3, 12, 10, 0, 4), datetime.datetime(2020, 3, 12, 10, 10, 2), datetime.datetime(2020, 3, 12, 10, 20, 2), datetime.datetime(2020, 3, 12, 10, 30, 2), datetime.datetime(2020, 3, 12, 10, 40, 1), datetime.datetime(2020, 3, 12, 10, 50, 2), datetime.datetime(2020, 3, 12, 11, 0, 4), datetime.datetime(2020, 3, 12, 11, 10, 2), datetime.datetime(2020, 3, 12, 11, 20, 2), datetime.datetime(2020, 3, 12, 11, 30, 2), datetime.datetime(2020, 3, 12, 11, 40, 1), datetime.datetime(2020, 3, 12, 11, 50, 2), datetime.datetime(2020, 3, 12, 12, 0, 4), datetime.datetime(2020, 3, 12, 12, 10, 2), datetime.datetime(2020, 3, 12, 12, 20, 2), datetime.datetime(2020, 3, 12, 12, 30, 2), datetime.datetime(2020, 3, 12, 12, 40, 1), datetime.datetime(2020, 3, 12, 12, 50, 2), datetime.datetime(2020, 3, 12, 13, 0, 4), datetime.datetime(2020, 3, 12, 13, 10, 2), datetime.datetime(2020, 3, 12, 13, 20, 2), datetime.datetime(2020, 3, 12, 13, 30, 2), datetime.datetime(2020, 3, 12, 13, 40, 2), datetime.datetime(2020, 3, 12, 13, 50, 2), datetime.datetime(2020, 3, 12, 14, 0, 4), datetime.datetime(2020, 3, 12, 14, 10, 2), datetime.datetime(2020, 3, 12, 14, 20, 2), datetime.datetime(2020, 3, 12, 14, 30, 2), datetime.datetime(2020, 3, 12, 14, 40, 2), datetime.datetime(2020, 3, 12, 14, 50, 2), datetime.datetime(2020, 3, 12, 15, 0, 5), datetime.datetime(2020, 3, 12, 15, 10, 2), datetime.datetime(2020, 3, 12, 15, 20, 2), datetime.datetime(2020, 3, 12, 15, 30, 2), datetime.datetime(2020, 3, 12, 15, 40, 1), datetime.datetime(2020, 3, 12, 15, 50, 2), datetime.datetime(2020, 3, 12, 16, 0, 4), datetime.datetime(2020, 3, 12, 16, 10, 2), datetime.datetime(2020, 3, 12, 16, 20, 2), datetime.datetime(2020, 3, 12, 16, 30, 2), datetime.datetime(2020, 3, 12, 16, 40, 2), datetime.datetime(2020, 3, 12, 16, 50, 1), datetime.datetime(2020, 3, 12, 17, 0, 3), datetime.datetime(2020, 3, 12, 17, 10, 1), datetime.datetime(2020, 3, 12, 17, 20, 2), datetime.datetime(2020, 3, 12, 17, 30, 2), datetime.datetime(2020, 3, 12, 17, 40, 2), datetime.datetime(2020, 3, 12, 17, 50, 2), datetime.datetime(2020, 3, 12, 18, 0, 4), datetime.datetime(2020, 3, 12, 18, 10, 2), datetime.datetime(2020, 3, 12, 18, 20, 2), datetime.datetime(2020, 3, 12, 18, 30, 2), datetime.datetime(2020, 3, 12, 18, 40, 2), datetime.datetime(2020, 3, 12, 18, 50, 2), datetime.datetime(2020, 3, 12, 19, 0, 6), datetime.datetime(2020, 3, 12, 19, 10, 2), datetime.datetime(2020, 3, 12, 19, 20, 2), datetime.datetime(2020, 3, 12, 19, 30, 2), datetime.datetime(2020, 3, 12, 19, 40, 2), datetime.datetime(2020, 3, 12, 19, 50, 2), datetime.datetime(2020, 3, 12, 20, 0, 4), datetime.datetime(2020, 3, 12, 20, 10, 2), datetime.datetime(2020, 3, 12, 20, 20, 2), datetime.datetime(2020, 3, 12, 20, 30, 2), datetime.datetime(2020, 3, 12, 20, 40, 1), datetime.datetime(2020, 3, 12, 20, 50, 2), datetime.datetime(2020, 3, 12, 21, 0, 4), datetime.datetime(2020, 3, 12, 21, 10, 2), datetime.datetime(2020, 3, 12, 21, 20, 2), datetime.datetime(2020, 3, 12, 21, 30, 2), datetime.datetime(2020, 3, 12, 21, 40, 2), datetime.datetime(2020, 3, 12, 21, 50, 2), datetime.datetime(2020, 3, 12, 22, 0, 4), datetime.datetime(2020, 3, 12, 22, 10, 2), datetime.datetime(2020, 3, 12, 22, 20, 2), datetime.datetime(2020, 3, 12, 22, 30, 2), datetime.datetime(2020, 3, 12, 22, 40, 2), datetime.datetime(2020, 3, 12, 22, 50, 2), datetime.datetime(2020, 3, 12, 23, 0, 4), datetime.datetime(2020, 3, 12, 23, 10, 2), datetime.datetime(2020, 3, 12, 23, 20, 2), datetime.datetime(2020, 3, 12, 23, 30, 2), datetime.datetime(2020, 3, 12, 23, 40, 1), datetime.datetime(2020, 3, 12, 23, 50, 2), datetime.datetime(2020, 3, 13, 0, 0, 4), datetime.datetime(2020, 3, 13, 0, 10, 2), datetime.datetime(2020, 3, 13, 0, 20, 2), datetime.datetime(2020, 3, 13, 0, 30, 2), datetime.datetime(2020, 3, 13, 0, 40, 2), datetime.datetime(2020, 3, 13, 0, 50, 4), datetime.datetime(2020, 3, 13, 1, 0, 3), datetime.datetime(2020, 3, 13, 1, 10, 2), datetime.datetime(2020, 3, 13, 1, 20, 2), datetime.datetime(2020, 3, 13, 1, 30, 2), datetime.datetime(2020, 3, 13, 1, 40, 2), datetime.datetime(2020, 3, 13, 1, 50, 1), datetime.datetime(2020, 3, 13, 2, 0, 4), datetime.datetime(2020, 3, 13, 2, 10, 2), datetime.datetime(2020, 3, 13, 2, 20, 2), datetime.datetime(2020, 3, 13, 2, 30, 2), datetime.datetime(2020, 3, 13, 2, 40, 1), datetime.datetime(2020, 3, 13, 2, 50, 2), datetime.datetime(2020, 3, 13, 3, 0, 3), datetime.datetime(2020, 3, 13, 3, 10, 2), datetime.datetime(2020, 3, 13, 3, 20, 2), datetime.datetime(2020, 3, 13, 3, 30, 2), datetime.datetime(2020, 3, 13, 3, 40, 2), datetime.datetime(2020, 3, 13, 3, 50, 1), datetime.datetime(2020, 3, 13, 4, 0, 27), datetime.datetime(2020, 3, 13, 4, 10, 2), datetime.datetime(2020, 3, 13, 4, 20, 2), datetime.datetime(2020, 3, 13, 4, 30, 2), datetime.datetime(2020, 3, 13, 4, 40, 2), datetime.datetime(2020, 3, 13, 4, 50, 2), datetime.datetime(2020, 3, 13, 5, 0, 4), datetime.datetime(2020, 3, 13, 5, 10, 2), datetime.datetime(2020, 3, 13, 5, 20, 2), datetime.datetime(2020, 3, 13, 5, 30, 2), datetime.datetime(2020, 3, 13, 5, 40, 1), datetime.datetime(2020, 3, 13, 5, 50, 2), datetime.datetime(2020, 3, 13, 6, 0, 4), datetime.datetime(2020, 3, 13, 6, 10, 2), datetime.datetime(2020, 3, 13, 6, 20, 2), datetime.datetime(2020, 3, 13, 6, 30, 2), datetime.datetime(2020, 3, 13, 6, 40, 2), datetime.datetime(2020, 3, 13, 6, 50, 2), datetime.datetime(2020, 3, 13, 7, 0, 4), datetime.datetime(2020, 3, 13, 7, 10, 2), datetime.datetime(2020, 3, 13, 7, 20, 2), datetime.datetime(2020, 3, 13, 7, 30, 2), datetime.datetime(2020, 3, 13, 7, 40, 2), datetime.datetime(2020, 3, 13, 7, 50, 2), datetime.datetime(2020, 3, 13, 8, 0, 5), datetime.datetime(2020, 3, 13, 8, 10, 2), datetime.datetime(2020, 3, 13, 8, 20, 2), datetime.datetime(2020, 3, 13, 8, 30, 2), datetime.datetime(2020, 3, 13, 8, 40, 2), datetime.datetime(2020, 3, 13, 8, 50, 2), datetime.datetime(2020, 3, 13, 9, 0, 3), datetime.datetime(2020, 3, 13, 9, 10, 2), datetime.datetime(2020, 3, 13, 9, 20, 2), datetime.datetime(2020, 3, 13, 9, 30, 2), datetime.datetime(2020, 3, 13, 9, 40, 2), datetime.datetime(2020, 3, 13, 9, 50, 2), datetime.datetime(2020, 3, 13, 10, 0, 3), datetime.datetime(2020, 3, 13, 10, 10, 2), datetime.datetime(2020, 3, 13, 10, 20, 2), datetime.datetime(2020, 3, 13, 10, 30, 2), datetime.datetime(2020, 3, 13, 10, 40, 2), datetime.datetime(2020, 3, 13, 10, 50, 2), datetime.datetime(2020, 3, 13, 11, 0, 4), datetime.datetime(2020, 3, 13, 11, 10, 2), datetime.datetime(2020, 3, 13, 11, 20, 2), datetime.datetime(2020, 3, 13, 11, 30, 2), datetime.datetime(2020, 3, 13, 11, 40, 1), datetime.datetime(2020, 3, 13, 11, 50, 2), datetime.datetime(2020, 3, 13, 12, 0, 4), datetime.datetime(2020, 3, 13, 12, 10, 2), datetime.datetime(2020, 3, 13, 12, 20, 2), datetime.datetime(2020, 3, 13, 12, 30, 2), datetime.datetime(2020, 3, 13, 12, 40, 2), datetime.datetime(2020, 3, 13, 12, 50, 2), datetime.datetime(2020, 3, 13, 13, 0, 5), datetime.datetime(2020, 3, 13, 13, 10, 2), datetime.datetime(2020, 3, 13, 13, 20, 2), datetime.datetime(2020, 3, 13, 13, 30, 2), datetime.datetime(2020, 3, 13, 13, 40, 2), datetime.datetime(2020, 3, 13, 13, 50, 2), datetime.datetime(2020, 3, 13, 14, 0, 5), datetime.datetime(2020, 3, 13, 14, 10, 2), datetime.datetime(2020, 3, 13, 14, 20, 2), datetime.datetime(2020, 3, 13, 14, 30, 2), datetime.datetime(2020, 3, 13, 14, 40, 1), datetime.datetime(2020, 3, 13, 14, 50, 2), datetime.datetime(2020, 3, 13, 15, 0, 4), datetime.datetime(2020, 3, 13, 15, 10, 2), datetime.datetime(2020, 3, 13, 15, 20, 2), datetime.datetime(2020, 3, 13, 15, 30, 2), datetime.datetime(2020, 3, 13, 15, 40, 2), datetime.datetime(2020, 3, 13, 15, 50, 2), datetime.datetime(2020, 3, 13, 16, 0, 6), datetime.datetime(2020, 3, 13, 16, 10, 2), datetime.datetime(2020, 3, 13, 16, 20, 2), datetime.datetime(2020, 3, 13, 16, 30, 2), datetime.datetime(2020, 3, 13, 16, 40, 2), datetime.datetime(2020, 3, 13, 16, 50, 2), datetime.datetime(2020, 3, 13, 17, 0, 28), datetime.datetime(2020, 3, 13, 17, 10, 2), datetime.datetime(2020, 3, 13, 17, 20, 2), datetime.datetime(2020, 3, 13, 17, 30, 2), datetime.datetime(2020, 3, 13, 17, 40, 2), datetime.datetime(2020, 3, 13, 17, 50, 1), datetime.datetime(2020, 3, 13, 18, 0, 4), datetime.datetime(2020, 3, 13, 18, 10, 1), datetime.datetime(2020, 3, 13, 18, 20, 2), datetime.datetime(2020, 3, 13, 18, 30, 2), datetime.datetime(2020, 3, 13, 18, 40, 2), datetime.datetime(2020, 3, 13, 18, 50, 2), datetime.datetime(2020, 3, 13, 19, 0, 4), datetime.datetime(2020, 3, 13, 19, 10, 2), datetime.datetime(2020, 3, 13, 19, 20, 2), datetime.datetime(2020, 3, 13, 19, 30, 2), datetime.datetime(2020, 3, 13, 19, 40, 2), datetime.datetime(2020, 3, 13, 19, 50, 2), datetime.datetime(2020, 3, 13, 20, 0, 4), datetime.datetime(2020, 3, 13, 20, 10, 2), datetime.datetime(2020, 3, 13, 20, 20, 2), datetime.datetime(2020, 3, 13, 20, 30, 2), datetime.datetime(2020, 3, 13, 20, 40, 2), datetime.datetime(2020, 3, 13, 20, 50, 2), datetime.datetime(2020, 3, 13, 21, 0, 5), datetime.datetime(2020, 3, 13, 21, 10, 2), datetime.datetime(2020, 3, 13, 21, 20, 2), datetime.datetime(2020, 3, 13, 21, 30, 2), datetime.datetime(2020, 3, 13, 21, 40, 2), datetime.datetime(2020, 3, 13, 21, 50, 1), datetime.datetime(2020, 3, 13, 22, 0, 3), datetime.datetime(2020, 3, 13, 22, 10, 2), datetime.datetime(2020, 3, 13, 22, 20, 2), datetime.datetime(2020, 3, 13, 22, 30, 2), datetime.datetime(2020, 3, 13, 22, 40, 2), datetime.datetime(2020, 3, 13, 22, 50, 2), datetime.datetime(2020, 3, 13, 23, 0, 5), datetime.datetime(2020, 3, 13, 23, 10, 2), datetime.datetime(2020, 3, 13, 23, 20, 2), datetime.datetime(2020, 3, 13, 23, 30, 2), datetime.datetime(2020, 3, 13, 23, 40, 1), datetime.datetime(2020, 3, 13, 23, 50, 2), datetime.datetime(2020, 3, 14, 0, 0, 4), datetime.datetime(2020, 3, 14, 0, 10, 2), datetime.datetime(2020, 3, 14, 0, 20, 2), datetime.datetime(2020, 3, 14, 0, 30, 2), datetime.datetime(2020, 3, 14, 0, 40, 2), datetime.datetime(2020, 3, 14, 0, 50, 4), datetime.datetime(2020, 3, 14, 1, 0, 5), datetime.datetime(2020, 3, 14, 1, 10, 2), datetime.datetime(2020, 3, 14, 1, 20, 1), datetime.datetime(2020, 3, 14, 1, 30, 2), datetime.datetime(2020, 3, 14, 1, 40, 2), datetime.datetime(2020, 3, 14, 1, 50, 2), datetime.datetime(2020, 3, 14, 2, 0, 5), datetime.datetime(2020, 3, 14, 2, 10, 2), datetime.datetime(2020, 3, 14, 2, 20, 2), datetime.datetime(2020, 3, 14, 2, 30, 2), datetime.datetime(2020, 3, 14, 2, 40, 2), datetime.datetime(2020, 3, 14, 2, 50, 2), datetime.datetime(2020, 3, 14, 3, 0, 5), datetime.datetime(2020, 3, 14, 3, 10, 2), datetime.datetime(2020, 3, 14, 3, 20, 2), datetime.datetime(2020, 3, 14, 3, 30, 2), datetime.datetime(2020, 3, 14, 3, 40, 2), datetime.datetime(2020, 3, 14, 3, 50, 2), datetime.datetime(2020, 3, 14, 4, 0, 4), datetime.datetime(2020, 3, 14, 4, 10, 2), datetime.datetime(2020, 3, 14, 4, 20, 1), datetime.datetime(2020, 3, 14, 4, 30, 2), datetime.datetime(2020, 3, 14, 4, 40, 2), datetime.datetime(2020, 3, 14, 4, 50, 2), datetime.datetime(2020, 3, 14, 5, 0, 3), datetime.datetime(2020, 3, 14, 5, 10, 2), datetime.datetime(2020, 3, 14, 5, 20, 2), datetime.datetime(2020, 3, 14, 5, 30, 2), datetime.datetime(2020, 3, 14, 5, 40, 2), datetime.datetime(2020, 3, 14, 5, 50, 2), datetime.datetime(2020, 3, 14, 6, 0, 4), datetime.datetime(2020, 3, 14, 6, 10, 2), datetime.datetime(2020, 3, 14, 6, 20, 2), datetime.datetime(2020, 3, 14, 6, 30, 2), datetime.datetime(2020, 3, 14, 6, 40, 2), datetime.datetime(2020, 3, 14, 6, 50, 2), datetime.datetime(2020, 3, 14, 7, 0, 4), datetime.datetime(2020, 3, 14, 7, 10, 2), datetime.datetime(2020, 3, 14, 7, 20, 2), datetime.datetime(2020, 3, 14, 7, 30, 2), datetime.datetime(2020, 3, 14, 7, 40, 2), datetime.datetime(2020, 3, 14, 7, 50, 2), datetime.datetime(2020, 3, 14, 8, 0, 4), datetime.datetime(2020, 3, 14, 8, 10, 2), datetime.datetime(2020, 3, 14, 8, 20, 2), datetime.datetime(2020, 3, 14, 8, 30, 2), datetime.datetime(2020, 3, 14, 8, 40, 26), datetime.datetime(2020, 3, 14, 8, 50, 2), datetime.datetime(2020, 3, 14, 9, 0, 3), datetime.datetime(2020, 3, 14, 9, 10, 2), datetime.datetime(2020, 3, 14, 9, 20, 2), datetime.datetime(2020, 3, 14, 9, 30, 2), datetime.datetime(2020, 3, 14, 9, 40, 2), datetime.datetime(2020, 3, 14, 9, 50, 2), datetime.datetime(2020, 3, 14, 10, 0, 4), datetime.datetime(2020, 3, 14, 10, 10, 2), datetime.datetime(2020, 3, 14, 10, 20, 2), datetime.datetime(2020, 3, 14, 10, 30, 2), datetime.datetime(2020, 3, 14, 10, 40, 2), datetime.datetime(2020, 3, 14, 10, 50, 2), datetime.datetime(2020, 3, 14, 11, 0, 4), datetime.datetime(2020, 3, 14, 11, 10, 2), datetime.datetime(2020, 3, 14, 11, 20, 2), datetime.datetime(2020, 3, 14, 11, 30, 2), datetime.datetime(2020, 3, 14, 11, 40, 2), datetime.datetime(2020, 3, 14, 11, 50, 2), datetime.datetime(2020, 3, 14, 12, 0, 3), datetime.datetime(2020, 3, 14, 12, 10, 1), datetime.datetime(2020, 3, 14, 12, 20, 2), datetime.datetime(2020, 3, 14, 12, 30, 2), datetime.datetime(2020, 3, 14, 12, 40, 2), datetime.datetime(2020, 3, 14, 12, 50, 2), datetime.datetime(2020, 3, 14, 13, 0, 5), datetime.datetime(2020, 3, 14, 13, 10, 2), datetime.datetime(2020, 3, 14, 13, 20, 2), datetime.datetime(2020, 3, 14, 13, 30, 2), datetime.datetime(2020, 3, 14, 13, 40, 2), datetime.datetime(2020, 3, 14, 13, 50, 2), datetime.datetime(2020, 3, 14, 14, 0, 6), datetime.datetime(2020, 3, 14, 14, 10, 2), datetime.datetime(2020, 3, 14, 14, 20, 2), datetime.datetime(2020, 3, 14, 14, 30, 2), datetime.datetime(2020, 3, 14, 14, 40, 2), datetime.datetime(2020, 3, 14, 14, 50, 2), datetime.datetime(2020, 3, 14, 15, 0, 3), datetime.datetime(2020, 3, 14, 15, 10, 2), datetime.datetime(2020, 3, 14, 15, 20, 2), datetime.datetime(2020, 3, 14, 15, 30, 2), datetime.datetime(2020, 3, 14, 15, 40, 2), datetime.datetime(2020, 3, 14, 15, 50, 2), datetime.datetime(2020, 3, 14, 16, 0, 4), datetime.datetime(2020, 3, 14, 16, 10, 2), datetime.datetime(2020, 3, 14, 16, 20, 2), datetime.datetime(2020, 3, 14, 16, 30, 2), datetime.datetime(2020, 3, 14, 16, 40, 2), datetime.datetime(2020, 3, 14, 16, 50, 1), datetime.datetime(2020, 3, 14, 17, 0, 4), datetime.datetime(2020, 3, 14, 17, 10, 2), datetime.datetime(2020, 3, 14, 17, 20, 2), datetime.datetime(2020, 3, 14, 17, 30, 2), datetime.datetime(2020, 3, 14, 17, 40, 2), datetime.datetime(2020, 3, 14, 17, 50, 2), datetime.datetime(2020, 3, 14, 18, 0, 6), datetime.datetime(2020, 3, 14, 18, 10, 2), datetime.datetime(2020, 3, 14, 18, 20, 1), datetime.datetime(2020, 3, 14, 18, 30, 2), datetime.datetime(2020, 3, 14, 18, 40, 2), datetime.datetime(2020, 3, 14, 18, 50, 2), datetime.datetime(2020, 3, 14, 19, 0, 5), datetime.datetime(2020, 3, 14, 19, 10, 2), datetime.datetime(2020, 3, 14, 19, 20, 2), datetime.datetime(2020, 3, 14, 19, 30, 2), datetime.datetime(2020, 3, 14, 19, 40, 2), datetime.datetime(2020, 3, 14, 19, 50, 1), datetime.datetime(2020, 3, 14, 20, 0, 4), datetime.datetime(2020, 3, 14, 20, 10, 2), datetime.datetime(2020, 3, 14, 20, 20, 2), datetime.datetime(2020, 3, 14, 20, 30, 2), datetime.datetime(2020, 3, 14, 20, 40, 2), datetime.datetime(2020, 3, 14, 20, 50, 2), datetime.datetime(2020, 3, 14, 21, 0, 5), datetime.datetime(2020, 3, 14, 21, 10, 2), datetime.datetime(2020, 3, 14, 21, 20, 2), datetime.datetime(2020, 3, 14, 21, 30, 2), datetime.datetime(2020, 3, 14, 21, 40, 2), datetime.datetime(2020, 3, 14, 21, 50, 2), datetime.datetime(2020, 3, 14, 22, 0, 5), datetime.datetime(2020, 3, 14, 22, 10, 2), datetime.datetime(2020, 3, 14, 22, 20, 2), datetime.datetime(2020, 3, 14, 22, 30, 2), datetime.datetime(2020, 3, 14, 22, 40, 2), datetime.datetime(2020, 3, 14, 22, 50, 2), datetime.datetime(2020, 3, 14, 23, 0, 6), datetime.datetime(2020, 3, 14, 23, 10, 2), datetime.datetime(2020, 3, 14, 23, 20, 2), datetime.datetime(2020, 3, 14, 23, 30, 2), datetime.datetime(2020, 3, 14, 23, 40, 2), datetime.datetime(2020, 3, 14, 23, 50, 27), datetime.datetime(2020, 3, 15, 0, 0, 4), datetime.datetime(2020, 3, 15, 0, 10, 2), datetime.datetime(2020, 3, 15, 0, 20, 1), datetime.datetime(2020, 3, 15, 0, 30, 2), datetime.datetime(2020, 3, 15, 0, 40, 2), datetime.datetime(2020, 3, 15, 0, 50, 2), datetime.datetime(2020, 3, 15, 1, 0, 4), datetime.datetime(2020, 3, 15, 1, 10, 2), datetime.datetime(2020, 3, 15, 1, 20, 2), datetime.datetime(2020, 3, 15, 1, 30, 2), datetime.datetime(2020, 3, 15, 1, 40, 2), datetime.datetime(2020, 3, 15, 1, 50, 2), datetime.datetime(2020, 3, 15, 2, 0, 6), datetime.datetime(2020, 3, 15, 2, 10, 2), datetime.datetime(2020, 3, 15, 2, 20, 2), datetime.datetime(2020, 3, 15, 2, 30, 2), datetime.datetime(2020, 3, 15, 2, 40, 2), datetime.datetime(2020, 3, 15, 2, 50, 2), datetime.datetime(2020, 3, 15, 3, 0, 4), datetime.datetime(2020, 3, 15, 3, 10, 2), datetime.datetime(2020, 3, 15, 3, 20, 2), datetime.datetime(2020, 3, 15, 3, 30, 2), datetime.datetime(2020, 3, 15, 3, 40, 2), datetime.datetime(2020, 3, 15, 3, 50, 2), datetime.datetime(2020, 3, 15, 4, 0, 5), datetime.datetime(2020, 3, 15, 4, 10, 2), datetime.datetime(2020, 3, 15, 4, 20, 2), datetime.datetime(2020, 3, 15, 4, 30, 2), datetime.datetime(2020, 3, 15, 4, 40, 2), datetime.datetime(2020, 3, 15, 4, 50, 2), datetime.datetime(2020, 3, 15, 5, 0, 4), datetime.datetime(2020, 3, 15, 5, 10, 2), datetime.datetime(2020, 3, 15, 5, 20, 1), datetime.datetime(2020, 3, 15, 5, 30, 2), datetime.datetime(2020, 3, 15, 5, 40, 2), datetime.datetime(2020, 3, 15, 5, 50, 2), datetime.datetime(2020, 3, 15, 6, 0, 3), datetime.datetime(2020, 3, 15, 6, 10, 2), datetime.datetime(2020, 3, 15, 6, 20, 2), datetime.datetime(2020, 3, 15, 6, 30, 2), datetime.datetime(2020, 3, 15, 6, 40, 2), datetime.datetime(2020, 3, 15, 6, 50, 2), datetime.datetime(2020, 3, 15, 7, 0, 5), datetime.datetime(2020, 3, 15, 7, 10, 2), datetime.datetime(2020, 3, 15, 7, 20, 2), datetime.datetime(2020, 3, 15, 7, 30, 2), datetime.datetime(2020, 3, 15, 7, 40, 2), datetime.datetime(2020, 3, 15, 7, 50, 2), datetime.datetime(2020, 3, 15, 8, 0, 6), datetime.datetime(2020, 3, 15, 8, 10, 2), datetime.datetime(2020, 3, 15, 8, 20, 2), datetime.datetime(2020, 3, 15, 8, 30, 2), datetime.datetime(2020, 3, 15, 8, 40, 2), datetime.datetime(2020, 3, 15, 8, 50, 1), datetime.datetime(2020, 3, 15, 9, 0, 4), datetime.datetime(2020, 3, 15, 9, 10, 2), datetime.datetime(2020, 3, 15, 9, 20, 2), datetime.datetime(2020, 3, 15, 9, 30, 2), datetime.datetime(2020, 3, 15, 9, 40, 1), datetime.datetime(2020, 3, 15, 9, 50, 2), datetime.datetime(2020, 3, 15, 10, 0, 4), datetime.datetime(2020, 3, 15, 10, 10, 2), datetime.datetime(2020, 3, 15, 10, 20, 2), datetime.datetime(2020, 3, 15, 10, 30, 2), datetime.datetime(2020, 3, 15, 10, 40, 2), datetime.datetime(2020, 3, 15, 10, 50, 1), datetime.datetime(2020, 3, 15, 11, 0, 3), datetime.datetime(2020, 3, 15, 11, 10, 2), datetime.datetime(2020, 3, 15, 11, 20, 2), datetime.datetime(2020, 3, 15, 11, 30, 2), datetime.datetime(2020, 3, 15, 11, 40, 1), datetime.datetime(2020, 3, 15, 11, 50, 2), datetime.datetime(2020, 3, 15, 12, 0, 4), datetime.datetime(2020, 3, 15, 12, 10, 2), datetime.datetime(2020, 3, 15, 12, 20, 2), datetime.datetime(2020, 3, 15, 12, 30, 2), datetime.datetime(2020, 3, 15, 12, 40, 2), datetime.datetime(2020, 3, 15, 12, 50, 2), datetime.datetime(2020, 3, 15, 13, 0, 4), datetime.datetime(2020, 3, 15, 13, 10, 2), datetime.datetime(2020, 3, 15, 13, 20, 2), datetime.datetime(2020, 3, 15, 13, 30, 2), datetime.datetime(2020, 3, 15, 13, 40, 2), datetime.datetime(2020, 3, 15, 13, 50, 2), datetime.datetime(2020, 3, 15, 14, 0, 5), datetime.datetime(2020, 3, 15, 14, 10, 2), datetime.datetime(2020, 3, 15, 14, 20, 1), datetime.datetime(2020, 3, 15, 14, 30, 2), datetime.datetime(2020, 3, 15, 14, 40, 2), datetime.datetime(2020, 3, 15, 14, 50, 2), datetime.datetime(2020, 3, 15, 15, 0, 6), datetime.datetime(2020, 3, 15, 15, 10, 2), datetime.datetime(2020, 3, 15, 15, 20, 2), datetime.datetime(2020, 3, 15, 15, 30, 2), datetime.datetime(2020, 3, 15, 15, 40, 2), datetime.datetime(2020, 3, 15, 15, 50, 2), datetime.datetime(2020, 3, 15, 16, 0, 4), datetime.datetime(2020, 3, 15, 16, 10, 2), datetime.datetime(2020, 3, 15, 16, 20, 2), datetime.datetime(2020, 3, 15, 16, 30, 2), datetime.datetime(2020, 3, 15, 16, 40, 2), datetime.datetime(2020, 3, 15, 16, 50, 2), datetime.datetime(2020, 3, 15, 17, 0, 4), datetime.datetime(2020, 3, 15, 17, 10, 2), datetime.datetime(2020, 3, 15, 17, 20, 2), datetime.datetime(2020, 3, 15, 17, 30, 2), datetime.datetime(2020, 3, 15, 17, 40, 2), datetime.datetime(2020, 3, 15, 17, 50, 1), datetime.datetime(2020, 3, 15, 18, 0, 4), datetime.datetime(2020, 3, 15, 18, 10, 2), datetime.datetime(2020, 3, 15, 18, 20, 2), datetime.datetime(2020, 3, 15, 18, 30, 2), datetime.datetime(2020, 3, 15, 18, 40, 2), datetime.datetime(2020, 3, 15, 18, 50, 2), datetime.datetime(2020, 3, 15, 19, 0, 5), datetime.datetime(2020, 3, 15, 19, 10, 2), datetime.datetime(2020, 3, 15, 19, 20, 2), datetime.datetime(2020, 3, 15, 19, 30, 2), datetime.datetime(2020, 3, 15, 19, 40, 2), datetime.datetime(2020, 3, 15, 19, 50, 2), datetime.datetime(2020, 3, 15, 20, 0, 6), datetime.datetime(2020, 3, 15, 20, 10, 2), datetime.datetime(2020, 3, 15, 20, 20, 2), datetime.datetime(2020, 3, 15, 20, 30, 2), datetime.datetime(2020, 3, 15, 20, 40, 2), datetime.datetime(2020, 3, 15, 20, 50, 2), datetime.datetime(2020, 3, 15, 21, 0, 4), datetime.datetime(2020, 3, 15, 21, 10, 2), datetime.datetime(2020, 3, 15, 21, 20, 2), datetime.datetime(2020, 3, 15, 21, 30, 2), datetime.datetime(2020, 3, 15, 21, 40, 2), datetime.datetime(2020, 3, 15, 21, 50, 2), datetime.datetime(2020, 3, 15, 22, 0, 4), datetime.datetime(2020, 3, 15, 22, 10, 2), datetime.datetime(2020, 3, 15, 22, 20, 2), datetime.datetime(2020, 3, 15, 22, 30, 2), datetime.datetime(2020, 3, 15, 22, 40, 2), datetime.datetime(2020, 3, 15, 22, 50, 2), datetime.datetime(2020, 3, 15, 23, 0, 4), datetime.datetime(2020, 3, 15, 23, 10, 2), datetime.datetime(2020, 3, 15, 23, 20, 2), datetime.datetime(2020, 3, 15, 23, 30, 2), datetime.datetime(2020, 3, 15, 23, 40, 2), datetime.datetime(2020, 3, 15, 23, 50, 2), datetime.datetime(2020, 3, 16, 0, 0, 5), datetime.datetime(2020, 3, 16, 0, 10, 1), datetime.datetime(2020, 3, 16, 0, 20, 2), datetime.datetime(2020, 3, 16, 0, 30, 2), datetime.datetime(2020, 3, 16, 0, 40, 1), datetime.datetime(2020, 3, 16, 0, 50, 1), datetime.datetime(2020, 3, 16, 1, 0, 3), datetime.datetime(2020, 3, 16, 1, 10, 2), datetime.datetime(2020, 3, 16, 1, 20, 1), datetime.datetime(2020, 3, 16, 1, 30, 2), datetime.datetime(2020, 3, 16, 1, 40, 2), datetime.datetime(2020, 3, 16, 1, 50, 2), datetime.datetime(2020, 3, 16, 2, 0, 5), datetime.datetime(2020, 3, 16, 2, 10, 2), datetime.datetime(2020, 3, 16, 2, 20, 2), datetime.datetime(2020, 3, 16, 2, 30, 2), datetime.datetime(2020, 3, 16, 2, 40, 2), datetime.datetime(2020, 3, 16, 2, 50, 2), datetime.datetime(2020, 3, 16, 3, 0, 5), datetime.datetime(2020, 3, 16, 3, 10, 2), datetime.datetime(2020, 3, 16, 3, 20, 2), datetime.datetime(2020, 3, 16, 3, 30, 2), datetime.datetime(2020, 3, 16, 3, 40, 2), datetime.datetime(2020, 3, 16, 3, 50, 2), datetime.datetime(2020, 3, 16, 4, 0, 27), datetime.datetime(2020, 3, 16, 4, 10, 2), datetime.datetime(2020, 3, 16, 4, 20, 2), datetime.datetime(2020, 3, 16, 4, 30, 2), datetime.datetime(2020, 3, 16, 4, 40, 2), datetime.datetime(2020, 3, 16, 4, 50, 1), datetime.datetime(2020, 3, 16, 5, 0, 3), datetime.datetime(2020, 3, 16, 8, 20, 1), datetime.datetime(2020, 3, 16, 8, 40, 1), datetime.datetime(2020, 3, 16, 8, 50, 2), datetime.datetime(2020, 3, 16, 9, 0, 4), datetime.datetime(2020, 3, 16, 9, 10, 2), datetime.datetime(2020, 3, 16, 9, 20, 2), datetime.datetime(2020, 3, 16, 9, 30, 2), datetime.datetime(2020, 3, 16, 9, 40, 2), datetime.datetime(2020, 3, 16, 9, 50, 2), datetime.datetime(2020, 3, 16, 10, 0, 4), datetime.datetime(2020, 3, 16, 10, 10, 2), datetime.datetime(2020, 3, 16, 10, 20, 2), datetime.datetime(2020, 3, 16, 10, 30, 2), datetime.datetime(2020, 3, 16, 10, 40, 2), datetime.datetime(2020, 3, 16, 10, 50, 2), datetime.datetime(2020, 3, 16, 11, 0, 3), datetime.datetime(2020, 3, 16, 11, 10, 2), datetime.datetime(2020, 3, 16, 11, 20, 2), datetime.datetime(2020, 3, 16, 11, 30, 2), datetime.datetime(2020, 3, 16, 11, 40, 2), datetime.datetime(2020, 3, 16, 11, 50, 2), datetime.datetime(2020, 3, 16, 12, 0, 4), datetime.datetime(2020, 3, 16, 12, 10, 2), datetime.datetime(2020, 3, 16, 12, 20, 2), datetime.datetime(2020, 3, 16, 12, 30, 2), datetime.datetime(2020, 3, 16, 12, 40, 2), datetime.datetime(2020, 3, 16, 12, 50, 2), datetime.datetime(2020, 3, 16, 13, 0, 6), datetime.datetime(2020, 3, 16, 13, 10, 2), datetime.datetime(2020, 3, 16, 13, 20, 1), datetime.datetime(2020, 3, 16, 13, 30, 2), datetime.datetime(2020, 3, 16, 13, 40, 2), datetime.datetime(2020, 3, 16, 13, 50, 2), datetime.datetime(2020, 3, 16, 14, 0, 5), datetime.datetime(2020, 3, 16, 14, 10, 2), datetime.datetime(2020, 3, 16, 14, 20, 2), datetime.datetime(2020, 3, 16, 14, 30, 2), datetime.datetime(2020, 3, 16, 14, 40, 2), datetime.datetime(2020, 3, 16, 14, 50, 2), datetime.datetime(2020, 3, 16, 15, 0, 4), datetime.datetime(2020, 3, 16, 15, 10, 2), datetime.datetime(2020, 3, 16, 15, 20, 2), datetime.datetime(2020, 3, 16, 15, 30, 2), datetime.datetime(2020, 3, 16, 15, 40, 2), datetime.datetime(2020, 3, 16, 15, 50, 1), datetime.datetime(2020, 3, 16, 16, 0, 4), datetime.datetime(2020, 3, 16, 16, 10, 2), datetime.datetime(2020, 3, 16, 16, 20, 2), datetime.datetime(2020, 3, 16, 16, 30, 2), datetime.datetime(2020, 3, 16, 16, 40, 2), datetime.datetime(2020, 3, 16, 16, 50, 2), datetime.datetime(2020, 3, 16, 17, 0, 5), datetime.datetime(2020, 3, 16, 17, 10, 2), datetime.datetime(2020, 3, 16, 17, 20, 2), datetime.datetime(2020, 3, 16, 17, 30, 2), datetime.datetime(2020, 3, 16, 17, 40, 2), datetime.datetime(2020, 3, 16, 17, 50, 2), datetime.datetime(2020, 3, 16, 18, 0, 3), datetime.datetime(2020, 3, 16, 18, 10, 2), datetime.datetime(2020, 3, 16, 18, 20, 2), datetime.datetime(2020, 3, 16, 18, 30, 2), datetime.datetime(2020, 3, 16, 18, 40, 1), datetime.datetime(2020, 3, 16, 18, 50, 2), datetime.datetime(2020, 3, 16, 19, 0, 5), datetime.datetime(2020, 3, 16, 19, 10, 2), datetime.datetime(2020, 3, 16, 19, 20, 2), datetime.datetime(2020, 3, 16, 19, 30, 2), datetime.datetime(2020, 3, 16, 19, 40, 2), datetime.datetime(2020, 3, 16, 19, 50, 2), datetime.datetime(2020, 3, 16, 20, 0, 5), datetime.datetime(2020, 3, 16, 20, 10, 2), datetime.datetime(2020, 3, 16, 20, 20, 2), datetime.datetime(2020, 3, 16, 20, 30, 2), datetime.datetime(2020, 3, 17, 6, 0, 4), datetime.datetime(2020, 3, 17, 6, 10, 2), datetime.datetime(2020, 3, 17, 6, 20, 2), datetime.datetime(2020, 3, 17, 6, 30, 2), datetime.datetime(2020, 3, 17, 6, 40, 2), datetime.datetime(2020, 3, 17, 6, 50, 2), datetime.datetime(2020, 3, 17, 7, 0, 27), datetime.datetime(2020, 3, 17, 7, 10, 2), datetime.datetime(2020, 3, 17, 7, 20, 2), datetime.datetime(2020, 3, 17, 7, 30, 2), datetime.datetime(2020, 3, 17, 7, 40, 2), datetime.datetime(2020, 3, 17, 7, 50, 1), datetime.datetime(2020, 3, 17, 8, 0, 4), datetime.datetime(2020, 3, 17, 8, 10, 2), datetime.datetime(2020, 3, 17, 8, 20, 2), datetime.datetime(2020, 3, 17, 8, 30, 2), datetime.datetime(2020, 3, 17, 8, 40, 2), datetime.datetime(2020, 3, 17, 8, 50, 2), datetime.datetime(2020, 3, 17, 9, 0, 5), datetime.datetime(2020, 3, 17, 9, 10, 27), datetime.datetime(2020, 3, 17, 9, 20, 1), datetime.datetime(2020, 3, 17, 9, 30, 2), datetime.datetime(2020, 3, 17, 9, 40, 2), datetime.datetime(2020, 3, 17, 9, 50, 2), datetime.datetime(2020, 3, 17, 10, 0, 5), datetime.datetime(2020, 3, 17, 10, 10, 2), datetime.datetime(2020, 3, 17, 10, 20, 2), datetime.datetime(2020, 3, 17, 10, 30, 2), datetime.datetime(2020, 3, 17, 10, 40, 2), datetime.datetime(2020, 3, 17, 10, 50, 2), datetime.datetime(2020, 3, 17, 11, 0, 6), datetime.datetime(2020, 3, 17, 11, 10, 2), datetime.datetime(2020, 3, 17, 11, 20, 2), datetime.datetime(2020, 3, 17, 11, 30, 2), datetime.datetime(2020, 3, 17, 11, 40, 2), datetime.datetime(2020, 3, 17, 11, 50, 2), datetime.datetime(2020, 3, 17, 12, 0, 6), datetime.datetime(2020, 3, 17, 12, 10, 2), datetime.datetime(2020, 3, 17, 12, 20, 2), datetime.datetime(2020, 3, 17, 12, 30, 2), datetime.datetime(2020, 3, 17, 12, 40, 2), datetime.datetime(2020, 3, 17, 12, 50, 2), datetime.datetime(2020, 3, 17, 13, 0, 4), datetime.datetime(2020, 3, 17, 13, 10, 2), datetime.datetime(2020, 3, 17, 13, 20, 2), datetime.datetime(2020, 3, 17, 13, 30, 2), datetime.datetime(2020, 3, 17, 13, 40, 2), datetime.datetime(2020, 3, 17, 13, 50, 2), datetime.datetime(2020, 3, 17, 14, 0, 3), datetime.datetime(2020, 3, 17, 14, 10, 2), datetime.datetime(2020, 3, 17, 14, 20, 2), datetime.datetime(2020, 3, 17, 14, 30, 2), datetime.datetime(2020, 3, 17, 14, 40, 2), datetime.datetime(2020, 3, 17, 14, 50, 2), datetime.datetime(2020, 3, 17, 15, 0, 4), datetime.datetime(2020, 3, 17, 15, 10, 2), datetime.datetime(2020, 3, 17, 15, 20, 1), datetime.datetime(2020, 3, 17, 15, 30, 2), datetime.datetime(2020, 3, 17, 15, 40, 27), datetime.datetime(2020, 3, 17, 15, 50, 2), datetime.datetime(2020, 3, 17, 16, 0, 5), datetime.datetime(2020, 3, 17, 16, 10, 2), datetime.datetime(2020, 3, 17, 16, 20, 2), datetime.datetime(2020, 3, 17, 16, 30, 2), datetime.datetime(2020, 3, 17, 16, 40, 2), datetime.datetime(2020, 3, 17, 16, 50, 2), datetime.datetime(2020, 3, 17, 17, 0, 4), datetime.datetime(2020, 3, 17, 17, 10, 1), datetime.datetime(2020, 3, 17, 17, 20, 2), datetime.datetime(2020, 3, 17, 17, 30, 2), datetime.datetime(2020, 3, 17, 17, 40, 2), datetime.datetime(2020, 3, 17, 17, 50, 1), datetime.datetime(2020, 3, 17, 18, 0, 4), datetime.datetime(2020, 3, 17, 18, 10, 2), datetime.datetime(2020, 3, 17, 18, 20, 1), datetime.datetime(2020, 3, 17, 18, 30, 2), datetime.datetime(2020, 3, 17, 18, 40, 2), datetime.datetime(2020, 3, 17, 18, 50, 2), datetime.datetime(2020, 3, 17, 19, 0, 5), datetime.datetime(2020, 3, 17, 19, 10, 2), datetime.datetime(2020, 3, 17, 19, 20, 2), datetime.datetime(2020, 3, 17, 19, 30, 2), datetime.datetime(2020, 3, 17, 19, 40, 1), datetime.datetime(2020, 3, 17, 19, 50, 2), datetime.datetime(2020, 3, 17, 20, 0, 4), datetime.datetime(2020, 3, 17, 20, 10, 2), datetime.datetime(2020, 3, 17, 20, 20, 2), datetime.datetime(2020, 3, 17, 20, 30, 2), datetime.datetime(2020, 3, 17, 20, 40, 2), datetime.datetime(2020, 3, 17, 20, 50, 2), datetime.datetime(2020, 3, 17, 21, 0, 3), datetime.datetime(2020, 3, 17, 21, 10, 2), datetime.datetime(2020, 3, 17, 21, 20, 2), datetime.datetime(2020, 3, 17, 21, 30, 2), datetime.datetime(2020, 3, 17, 21, 40, 1), datetime.datetime(2020, 3, 17, 21, 50, 2), datetime.datetime(2020, 3, 17, 22, 0, 3), datetime.datetime(2020, 3, 17, 22, 10, 2), datetime.datetime(2020, 3, 17, 22, 20, 2), datetime.datetime(2020, 3, 17, 22, 30, 2), datetime.datetime(2020, 3, 17, 22, 40, 2), datetime.datetime(2020, 3, 17, 22, 50, 2), datetime.datetime(2020, 3, 17, 23, 0, 5), datetime.datetime(2020, 3, 17, 23, 10, 2), datetime.datetime(2020, 3, 17, 23, 20, 2), datetime.datetime(2020, 3, 17, 23, 30, 2), datetime.datetime(2020, 3, 17, 23, 40, 1), datetime.datetime(2020, 3, 17, 23, 50, 2), datetime.datetime(2020, 3, 18, 0, 0, 4), datetime.datetime(2020, 3, 18, 0, 10, 2), datetime.datetime(2020, 3, 18, 0, 20, 1), datetime.datetime(2020, 3, 18, 0, 30, 2), datetime.datetime(2020, 3, 18, 0, 40, 2), datetime.datetime(2020, 3, 18, 0, 50, 4), datetime.datetime(2020, 3, 18, 1, 0, 4), datetime.datetime(2020, 3, 18, 1, 10, 2), datetime.datetime(2020, 3, 18, 1, 20, 2), datetime.datetime(2020, 3, 18, 1, 30, 2), datetime.datetime(2020, 3, 18, 1, 40, 2), datetime.datetime(2020, 3, 18, 1, 50, 2), datetime.datetime(2020, 3, 18, 2, 0, 4), datetime.datetime(2020, 3, 18, 2, 10, 2), datetime.datetime(2020, 3, 18, 2, 20, 2), datetime.datetime(2020, 3, 18, 2, 30, 2), datetime.datetime(2020, 3, 18, 2, 40, 2), datetime.datetime(2020, 3, 18, 2, 50, 1), datetime.datetime(2020, 3, 18, 3, 0, 4), datetime.datetime(2020, 3, 18, 3, 10, 2), datetime.datetime(2020, 3, 18, 3, 20, 2), datetime.datetime(2020, 3, 18, 3, 30, 2), datetime.datetime(2020, 3, 18, 3, 40, 2), datetime.datetime(2020, 3, 18, 3, 50, 2), datetime.datetime(2020, 3, 18, 4, 0, 3), datetime.datetime(2020, 3, 18, 4, 10, 2), datetime.datetime(2020, 3, 18, 4, 20, 2), datetime.datetime(2020, 3, 18, 4, 30, 2), datetime.datetime(2020, 3, 18, 4, 40, 2), datetime.datetime(2020, 3, 18, 4, 50, 2), datetime.datetime(2020, 3, 18, 5, 0, 6), datetime.datetime(2020, 3, 18, 5, 10, 2), datetime.datetime(2020, 3, 18, 5, 20, 2), datetime.datetime(2020, 3, 18, 5, 30, 2), datetime.datetime(2020, 3, 18, 5, 40, 2), datetime.datetime(2020, 3, 18, 5, 50, 1), datetime.datetime(2020, 3, 18, 6, 0, 4), datetime.datetime(2020, 3, 18, 6, 10, 2), datetime.datetime(2020, 3, 18, 6, 20, 2), datetime.datetime(2020, 3, 18, 6, 30, 2), datetime.datetime(2020, 3, 18, 6, 40, 2), datetime.datetime(2020, 3, 18, 6, 50, 1), datetime.datetime(2020, 3, 18, 7, 0, 3), datetime.datetime(2020, 3, 18, 7, 10, 2), datetime.datetime(2020, 3, 18, 7, 20, 2), datetime.datetime(2020, 3, 18, 7, 30, 2), datetime.datetime(2020, 3, 18, 7, 40, 1), datetime.datetime(2020, 3, 18, 7, 50, 2), datetime.datetime(2020, 3, 18, 8, 0, 4), datetime.datetime(2020, 3, 18, 8, 10, 2), datetime.datetime(2020, 3, 18, 8, 20, 1), datetime.datetime(2020, 3, 18, 8, 30, 2), datetime.datetime(2020, 3, 18, 8, 40, 2), datetime.datetime(2020, 3, 18, 8, 50, 1), datetime.datetime(2020, 3, 18, 9, 0, 4), datetime.datetime(2020, 3, 18, 9, 10, 2), datetime.datetime(2020, 3, 18, 9, 20, 2), datetime.datetime(2020, 3, 18, 9, 30, 2), datetime.datetime(2020, 3, 18, 9, 40, 2), datetime.datetime(2020, 3, 18, 9, 50, 2), datetime.datetime(2020, 3, 18, 10, 0, 6), datetime.datetime(2020, 3, 18, 10, 10, 2), datetime.datetime(2020, 3, 18, 10, 20, 2), datetime.datetime(2020, 3, 18, 10, 30, 2), datetime.datetime(2020, 3, 18, 10, 40, 2), datetime.datetime(2020, 3, 18, 10, 50, 2), datetime.datetime(2020, 3, 18, 11, 0, 6), datetime.datetime(2020, 3, 18, 11, 10, 2), datetime.datetime(2020, 3, 18, 11, 20, 2), datetime.datetime(2020, 3, 18, 11, 30, 2), datetime.datetime(2020, 3, 18, 11, 40, 2), datetime.datetime(2020, 3, 18, 11, 50, 2), datetime.datetime(2020, 3, 18, 12, 0, 5), datetime.datetime(2020, 3, 18, 12, 10, 2), datetime.datetime(2020, 3, 18, 12, 20, 2), datetime.datetime(2020, 3, 18, 12, 30, 2), datetime.datetime(2020, 3, 18, 12, 40, 2), datetime.datetime(2020, 3, 18, 12, 50, 1), datetime.datetime(2020, 3, 18, 13, 0, 3), datetime.datetime(2020, 3, 18, 13, 10, 2), datetime.datetime(2020, 3, 18, 13, 20, 2), datetime.datetime(2020, 3, 18, 13, 30, 2), datetime.datetime(2020, 3, 18, 13, 40, 2), datetime.datetime(2020, 3, 18, 13, 50, 2), datetime.datetime(2020, 3, 18, 14, 0, 4), datetime.datetime(2020, 3, 18, 14, 10, 2), datetime.datetime(2020, 3, 18, 14, 20, 2), datetime.datetime(2020, 3, 18, 14, 30, 2), datetime.datetime(2020, 3, 18, 14, 40, 2), datetime.datetime(2020, 3, 18, 14, 50, 2), datetime.datetime(2020, 3, 18, 15, 0, 5), datetime.datetime(2020, 3, 18, 15, 10, 2), datetime.datetime(2020, 3, 18, 15, 20, 2), datetime.datetime(2020, 3, 18, 15, 30, 2), datetime.datetime(2020, 3, 18, 15, 40, 2), datetime.datetime(2020, 3, 18, 15, 50, 2), datetime.datetime(2020, 3, 18, 16, 0, 4), datetime.datetime(2020, 3, 18, 16, 10, 2), datetime.datetime(2020, 3, 18, 16, 20, 2), datetime.datetime(2020, 3, 18, 16, 30, 2), datetime.datetime(2020, 3, 18, 16, 40, 2), datetime.datetime(2020, 3, 18, 16, 50, 2), datetime.datetime(2020, 3, 18, 17, 0, 3), datetime.datetime(2020, 3, 18, 17, 10, 2), datetime.datetime(2020, 3, 18, 17, 20, 2), datetime.datetime(2020, 3, 18, 17, 30, 2), datetime.datetime(2020, 3, 18, 17, 40, 2), datetime.datetime(2020, 3, 18, 17, 50, 2), datetime.datetime(2020, 3, 18, 18, 0, 4), datetime.datetime(2020, 3, 18, 18, 10, 2), datetime.datetime(2020, 3, 18, 18, 20, 2), datetime.datetime(2020, 3, 18, 18, 30, 2), datetime.datetime(2020, 3, 18, 18, 40, 2), datetime.datetime(2020, 3, 18, 18, 50, 2), datetime.datetime(2020, 3, 18, 19, 0, 5), datetime.datetime(2020, 3, 18, 19, 10, 2), datetime.datetime(2020, 3, 18, 19, 20, 2), datetime.datetime(2020, 3, 18, 19, 30, 2), datetime.datetime(2020, 3, 18, 19, 40, 2), datetime.datetime(2020, 3, 18, 19, 50, 2), datetime.datetime(2020, 3, 18, 20, 0, 5), datetime.datetime(2020, 3, 18, 20, 10, 2), datetime.datetime(2020, 3, 18, 20, 20, 2), datetime.datetime(2020, 3, 18, 20, 30, 2), datetime.datetime(2020, 3, 18, 20, 40, 2), datetime.datetime(2020, 3, 18, 20, 50, 1), datetime.datetime(2020, 3, 18, 21, 0, 4), datetime.datetime(2020, 3, 18, 21, 10, 2), datetime.datetime(2020, 3, 18, 21, 20, 2), datetime.datetime(2020, 3, 18, 21, 30, 2), datetime.datetime(2020, 3, 18, 21, 40, 2), datetime.datetime(2020, 3, 18, 21, 50, 2), datetime.datetime(2020, 3, 18, 22, 0, 5), datetime.datetime(2020, 3, 18, 22, 10, 2), datetime.datetime(2020, 3, 18, 22, 20, 2), datetime.datetime(2020, 3, 18, 22, 30, 2), datetime.datetime(2020, 3, 18, 22, 40, 2), datetime.datetime(2020, 3, 18, 22, 50, 2), datetime.datetime(2020, 3, 18, 23, 0, 7), datetime.datetime(2020, 3, 18, 23, 10, 2), datetime.datetime(2020, 3, 18, 23, 20, 2), datetime.datetime(2020, 3, 18, 23, 30, 2), datetime.datetime(2020, 3, 18, 23, 40, 2), datetime.datetime(2020, 3, 18, 23, 50, 2), datetime.datetime(2020, 3, 19, 0, 0, 4), datetime.datetime(2020, 3, 19, 0, 10, 2), datetime.datetime(2020, 3, 19, 0, 20, 1), datetime.datetime(2020, 3, 19, 0, 30, 2), datetime.datetime(2020, 3, 19, 0, 40, 2), datetime.datetime(2020, 3, 19, 0, 50, 29), datetime.datetime(2020, 3, 19, 1, 0, 4), datetime.datetime(2020, 3, 19, 1, 10, 2), datetime.datetime(2020, 3, 19, 1, 20, 2), datetime.datetime(2020, 3, 19, 1, 30, 2), datetime.datetime(2020, 3, 19, 1, 40, 2), datetime.datetime(2020, 3, 19, 1, 50, 2), datetime.datetime(2020, 3, 19, 2, 0, 4), datetime.datetime(2020, 3, 19, 2, 10, 2), datetime.datetime(2020, 3, 19, 2, 20, 2), datetime.datetime(2020, 3, 19, 2, 30, 2), datetime.datetime(2020, 3, 19, 2, 40, 2), datetime.datetime(2020, 3, 19, 2, 50, 2), datetime.datetime(2020, 3, 19, 3, 0, 4), datetime.datetime(2020, 3, 19, 3, 10, 2), datetime.datetime(2020, 3, 19, 3, 20, 2), datetime.datetime(2020, 3, 19, 3, 30, 2), datetime.datetime(2020, 3, 19, 3, 40, 2), datetime.datetime(2020, 3, 19, 3, 50, 1), datetime.datetime(2020, 3, 19, 4, 0, 4), datetime.datetime(2020, 3, 19, 4, 10, 2), datetime.datetime(2020, 3, 19, 4, 20, 2), datetime.datetime(2020, 3, 19, 4, 30, 2), datetime.datetime(2020, 3, 19, 4, 40, 2), datetime.datetime(2020, 3, 19, 4, 50, 2), datetime.datetime(2020, 3, 19, 5, 0, 4), datetime.datetime(2020, 3, 19, 5, 10, 2), datetime.datetime(2020, 3, 19, 5, 20, 2), datetime.datetime(2020, 3, 19, 5, 30, 27), datetime.datetime(2020, 3, 19, 5, 40, 2), datetime.datetime(2020, 3, 19, 5, 50, 2), datetime.datetime(2020, 3, 19, 6, 0, 4), datetime.datetime(2020, 3, 19, 6, 10, 2), datetime.datetime(2020, 3, 19, 6, 20, 2), datetime.datetime(2020, 3, 19, 6, 30, 2), datetime.datetime(2020, 3, 19, 6, 40, 2), datetime.datetime(2020, 3, 19, 6, 50, 2), datetime.datetime(2020, 3, 19, 7, 0, 6), datetime.datetime(2020, 3, 19, 7, 10, 1), datetime.datetime(2020, 3, 19, 7, 20, 2), datetime.datetime(2020, 3, 19, 7, 30, 2), datetime.datetime(2020, 3, 19, 7, 40, 2), datetime.datetime(2020, 3, 19, 7, 50, 2), datetime.datetime(2020, 3, 19, 8, 0, 3), datetime.datetime(2020, 3, 19, 8, 10, 2), datetime.datetime(2020, 3, 19, 8, 20, 2), datetime.datetime(2020, 3, 19, 8, 30, 2), datetime.datetime(2020, 3, 19, 8, 40, 2), datetime.datetime(2020, 3, 19, 8, 50, 2), datetime.datetime(2020, 3, 19, 9, 0, 3), datetime.datetime(2020, 3, 19, 9, 10, 2), datetime.datetime(2020, 3, 19, 9, 20, 2), datetime.datetime(2020, 3, 19, 9, 30, 2), datetime.datetime(2020, 3, 19, 9, 40, 2), datetime.datetime(2020, 3, 19, 9, 50, 2), datetime.datetime(2020, 3, 19, 10, 0, 4), datetime.datetime(2020, 3, 19, 10, 10, 2), datetime.datetime(2020, 3, 19, 10, 20, 2), datetime.datetime(2020, 3, 19, 10, 30, 2), datetime.datetime(2020, 3, 19, 10, 40, 2), datetime.datetime(2020, 3, 19, 10, 50, 2), datetime.datetime(2020, 3, 19, 11, 0, 4), datetime.datetime(2020, 3, 19, 11, 10, 2), datetime.datetime(2020, 3, 19, 11, 20, 2), datetime.datetime(2020, 3, 19, 11, 30, 2), datetime.datetime(2020, 3, 19, 11, 40, 2), datetime.datetime(2020, 3, 19, 11, 50, 2), datetime.datetime(2020, 3, 19, 12, 0, 27), datetime.datetime(2020, 3, 19, 12, 10, 2), datetime.datetime(2020, 3, 19, 12, 20, 2), datetime.datetime(2020, 3, 19, 12, 30, 2), datetime.datetime(2020, 3, 19, 12, 40, 2), datetime.datetime(2020, 3, 19, 12, 50, 2), datetime.datetime(2020, 3, 19, 13, 0, 4), datetime.datetime(2020, 3, 19, 13, 10, 2), datetime.datetime(2020, 3, 19, 13, 20, 2), datetime.datetime(2020, 3, 19, 13, 30, 2), datetime.datetime(2020, 3, 19, 13, 40, 2), datetime.datetime(2020, 3, 19, 13, 50, 2), datetime.datetime(2020, 3, 19, 14, 0, 5), datetime.datetime(2020, 3, 19, 14, 10, 2), datetime.datetime(2020, 3, 19, 14, 20, 2), datetime.datetime(2020, 3, 19, 14, 30, 2), datetime.datetime(2020, 3, 19, 14, 40, 1), datetime.datetime(2020, 3, 19, 14, 50, 2), datetime.datetime(2020, 3, 19, 15, 0, 4), datetime.datetime(2020, 3, 19, 15, 10, 2), datetime.datetime(2020, 3, 19, 15, 20, 2), datetime.datetime(2020, 3, 19, 15, 30, 2), datetime.datetime(2020, 3, 19, 15, 40, 2), datetime.datetime(2020, 3, 19, 15, 50, 2), datetime.datetime(2020, 3, 19, 16, 0, 4), datetime.datetime(2020, 3, 19, 16, 10, 2), datetime.datetime(2020, 3, 19, 16, 20, 2), datetime.datetime(2020, 3, 19, 16, 30, 2), datetime.datetime(2020, 3, 19, 16, 40, 2), datetime.datetime(2020, 3, 19, 16, 50, 2), datetime.datetime(2020, 3, 19, 17, 0, 3), datetime.datetime(2020, 3, 19, 17, 10, 2), datetime.datetime(2020, 3, 19, 17, 20, 2), datetime.datetime(2020, 3, 19, 17, 30, 2), datetime.datetime(2020, 3, 19, 17, 40, 2), datetime.datetime(2020, 3, 19, 17, 50, 2), datetime.datetime(2020, 3, 19, 18, 0, 4), datetime.datetime(2020, 3, 19, 18, 10, 2), datetime.datetime(2020, 3, 19, 18, 20, 2), datetime.datetime(2020, 3, 19, 18, 30, 26), datetime.datetime(2020, 3, 19, 18, 40, 1), datetime.datetime(2020, 3, 19, 18, 50, 2), datetime.datetime(2020, 3, 19, 19, 0, 5), datetime.datetime(2020, 3, 19, 19, 10, 2), datetime.datetime(2020, 3, 19, 19, 20, 2), datetime.datetime(2020, 3, 19, 19, 30, 2), datetime.datetime(2020, 3, 19, 19, 40, 1), datetime.datetime(2020, 3, 19, 19, 50, 2), datetime.datetime(2020, 3, 19, 20, 0, 4), datetime.datetime(2020, 3, 19, 20, 10, 2), datetime.datetime(2020, 3, 19, 20, 20, 2), datetime.datetime(2020, 3, 19, 20, 30, 2), datetime.datetime(2020, 3, 19, 20, 40, 2), datetime.datetime(2020, 3, 19, 20, 50, 2), datetime.datetime(2020, 3, 19, 21, 0, 4), datetime.datetime(2020, 3, 19, 21, 10, 2), datetime.datetime(2020, 3, 19, 21, 20, 2), datetime.datetime(2020, 3, 19, 21, 30, 2), datetime.datetime(2020, 3, 19, 21, 40, 2), datetime.datetime(2020, 3, 19, 21, 50, 2), datetime.datetime(2020, 3, 19, 22, 0, 3), datetime.datetime(2020, 3, 19, 22, 10, 2), datetime.datetime(2020, 3, 19, 22, 20, 2), datetime.datetime(2020, 3, 19, 22, 30, 2), datetime.datetime(2020, 3, 19, 22, 40, 2), datetime.datetime(2020, 3, 19, 22, 50, 27), datetime.datetime(2020, 3, 19, 23, 0, 4), datetime.datetime(2020, 3, 19, 23, 10, 2), datetime.datetime(2020, 3, 19, 23, 20, 2), datetime.datetime(2020, 3, 19, 23, 30, 2), datetime.datetime(2020, 3, 19, 23, 40, 2), datetime.datetime(2020, 3, 19, 23, 50, 2), datetime.datetime(2020, 3, 20, 0, 0, 5), datetime.datetime(2020, 3, 20, 0, 10, 13), datetime.datetime(2020, 3, 20, 0, 20, 2), datetime.datetime(2020, 3, 20, 0, 30, 2), datetime.datetime(2020, 3, 20, 0, 40, 2), datetime.datetime(2020, 3, 20, 0, 50, 2), datetime.datetime(2020, 3, 20, 1, 0, 6), datetime.datetime(2020, 3, 20, 1, 10, 2), datetime.datetime(2020, 3, 20, 1, 20, 2), datetime.datetime(2020, 3, 20, 1, 30, 2), datetime.datetime(2020, 3, 20, 1, 40, 2), datetime.datetime(2020, 3, 20, 1, 50, 2), datetime.datetime(2020, 3, 20, 2, 0, 4), datetime.datetime(2020, 3, 20, 2, 10, 2), datetime.datetime(2020, 3, 20, 2, 20, 2), datetime.datetime(2020, 3, 20, 2, 30, 2), datetime.datetime(2020, 3, 20, 2, 40, 2), datetime.datetime(2020, 3, 20, 2, 50, 2), datetime.datetime(2020, 3, 20, 3, 0, 6), datetime.datetime(2020, 3, 20, 3, 10, 2), datetime.datetime(2020, 3, 20, 3, 20, 1), datetime.datetime(2020, 3, 20, 3, 30, 2), datetime.datetime(2020, 3, 20, 3, 40, 2), datetime.datetime(2020, 3, 20, 3, 50, 2), datetime.datetime(2020, 3, 20, 4, 0, 4), datetime.datetime(2020, 3, 20, 4, 10, 2), datetime.datetime(2020, 3, 20, 4, 20, 2), datetime.datetime(2020, 3, 20, 4, 30, 2), datetime.datetime(2020, 3, 20, 4, 40, 2), datetime.datetime(2020, 3, 20, 4, 50, 2), datetime.datetime(2020, 3, 20, 5, 0, 5), datetime.datetime(2020, 3, 20, 5, 10, 2), datetime.datetime(2020, 3, 20, 5, 20, 2), datetime.datetime(2020, 3, 20, 5, 30, 2), datetime.datetime(2020, 3, 20, 5, 40, 2), datetime.datetime(2020, 3, 20, 5, 50, 2), datetime.datetime(2020, 3, 20, 6, 0, 5), datetime.datetime(2020, 3, 20, 6, 10, 2), datetime.datetime(2020, 3, 20, 6, 20, 2), datetime.datetime(2020, 3, 20, 6, 30, 2), datetime.datetime(2020, 3, 20, 6, 40, 2), datetime.datetime(2020, 3, 20, 6, 50, 2), datetime.datetime(2020, 3, 20, 7, 0, 4), datetime.datetime(2020, 3, 20, 7, 10, 2), datetime.datetime(2020, 3, 20, 7, 20, 2), datetime.datetime(2020, 3, 20, 7, 30, 2), datetime.datetime(2020, 3, 20, 7, 40, 2), datetime.datetime(2020, 3, 20, 7, 50, 2), datetime.datetime(2020, 3, 20, 8, 0, 6), datetime.datetime(2020, 3, 20, 8, 10, 2), datetime.datetime(2020, 3, 20, 8, 20, 2), datetime.datetime(2020, 3, 20, 8, 30, 2), datetime.datetime(2020, 3, 20, 8, 40, 2), datetime.datetime(2020, 3, 20, 8, 50, 2), datetime.datetime(2020, 3, 20, 9, 0, 4), datetime.datetime(2020, 3, 20, 9, 10, 2), datetime.datetime(2020, 3, 20, 9, 20, 2), datetime.datetime(2020, 3, 20, 9, 30, 4), datetime.datetime(2020, 3, 20, 9, 40, 2), datetime.datetime(2020, 3, 20, 9, 50, 2), datetime.datetime(2020, 3, 20, 10, 0, 7), datetime.datetime(2020, 3, 20, 10, 10, 2), datetime.datetime(2020, 3, 20, 10, 20, 2), datetime.datetime(2020, 3, 20, 10, 30, 2), datetime.datetime(2020, 3, 20, 10, 40, 2), datetime.datetime(2020, 3, 20, 10, 50, 2), datetime.datetime(2020, 3, 20, 11, 0, 4), datetime.datetime(2020, 3, 20, 11, 10, 2), datetime.datetime(2020, 3, 20, 11, 20, 1), datetime.datetime(2020, 3, 20, 11, 30, 2), datetime.datetime(2020, 3, 20, 11, 40, 2), datetime.datetime(2020, 3, 20, 11, 50, 1), datetime.datetime(2020, 3, 20, 12, 0, 4), datetime.datetime(2020, 3, 20, 12, 10, 2), datetime.datetime(2020, 3, 20, 12, 20, 2), datetime.datetime(2020, 3, 20, 12, 30, 2), datetime.datetime(2020, 3, 20, 12, 40, 2), datetime.datetime(2020, 3, 20, 12, 50, 2), datetime.datetime(2020, 3, 20, 13, 0, 5), datetime.datetime(2020, 3, 20, 13, 10, 2), datetime.datetime(2020, 3, 20, 13, 20, 2), datetime.datetime(2020, 3, 20, 13, 30, 2), datetime.datetime(2020, 3, 20, 13, 40, 2), datetime.datetime(2020, 3, 20, 13, 50, 2), datetime.datetime(2020, 3, 20, 14, 0, 5), datetime.datetime(2020, 3, 20, 14, 10, 2), datetime.datetime(2020, 3, 20, 14, 20, 2), datetime.datetime(2020, 3, 20, 14, 30, 3), datetime.datetime(2020, 3, 20, 14, 40, 2), datetime.datetime(2020, 3, 20, 14, 50, 2), datetime.datetime(2020, 3, 20, 15, 0, 7), datetime.datetime(2020, 3, 20, 15, 10, 2), datetime.datetime(2020, 3, 20, 15, 20, 2), datetime.datetime(2020, 3, 20, 15, 30, 26), datetime.datetime(2020, 3, 20, 15, 40, 1), datetime.datetime(2020, 3, 20, 15, 50, 2), datetime.datetime(2020, 3, 20, 16, 0, 6), datetime.datetime(2020, 3, 20, 16, 10, 2), datetime.datetime(2020, 3, 20, 16, 20, 2), datetime.datetime(2020, 3, 20, 16, 30, 2), datetime.datetime(2020, 3, 20, 16, 40, 2), datetime.datetime(2020, 3, 20, 16, 50, 2), datetime.datetime(2020, 3, 20, 17, 0, 6), datetime.datetime(2020, 3, 20, 17, 10, 2), datetime.datetime(2020, 3, 20, 17, 20, 1), datetime.datetime(2020, 3, 20, 17, 30, 2), datetime.datetime(2020, 3, 20, 17, 40, 2), datetime.datetime(2020, 3, 20, 17, 50, 2), datetime.datetime(2020, 3, 20, 18, 0, 5), datetime.datetime(2020, 3, 20, 18, 10, 1), datetime.datetime(2020, 3, 20, 18, 20, 2), datetime.datetime(2020, 3, 20, 18, 30, 2), datetime.datetime(2020, 3, 20, 18, 40, 2), datetime.datetime(2020, 3, 20, 18, 50, 2), datetime.datetime(2020, 3, 20, 19, 0, 5), datetime.datetime(2020, 3, 20, 19, 10, 2), datetime.datetime(2020, 3, 20, 19, 20, 2), datetime.datetime(2020, 3, 20, 19, 30, 2), datetime.datetime(2020, 3, 20, 19, 40, 2), datetime.datetime(2020, 3, 20, 19, 50, 1), datetime.datetime(2020, 3, 20, 20, 0, 4), datetime.datetime(2020, 3, 20, 20, 10, 2), datetime.datetime(2020, 3, 20, 20, 20, 2), datetime.datetime(2020, 3, 20, 20, 30, 2), datetime.datetime(2020, 3, 20, 20, 40, 2), datetime.datetime(2020, 3, 20, 20, 50, 2), datetime.datetime(2020, 3, 20, 21, 0, 5), datetime.datetime(2020, 3, 20, 21, 10, 2), datetime.datetime(2020, 3, 20, 21, 20, 2), datetime.datetime(2020, 3, 20, 21, 30, 2), datetime.datetime(2020, 3, 20, 21, 40, 2), datetime.datetime(2020, 3, 20, 21, 50, 2), datetime.datetime(2020, 3, 20, 22, 0, 27), datetime.datetime(2020, 3, 20, 22, 10, 2), datetime.datetime(2020, 3, 20, 22, 20, 1), datetime.datetime(2020, 3, 20, 22, 30, 2), datetime.datetime(2020, 3, 20, 22, 40, 2), datetime.datetime(2020, 3, 20, 22, 50, 2), datetime.datetime(2020, 3, 20, 23, 0, 5), datetime.datetime(2020, 3, 20, 23, 10, 2), datetime.datetime(2020, 3, 20, 23, 20, 2), datetime.datetime(2020, 3, 20, 23, 30, 2), datetime.datetime(2020, 3, 20, 23, 40, 2), datetime.datetime(2020, 3, 20, 23, 50, 1), datetime.datetime(2020, 3, 21, 0, 0, 4), datetime.datetime(2020, 3, 21, 0, 10, 2), datetime.datetime(2020, 3, 21, 0, 20, 2), datetime.datetime(2020, 3, 21, 0, 30, 2), datetime.datetime(2020, 3, 21, 0, 40, 1), datetime.datetime(2020, 3, 21, 0, 50, 2), datetime.datetime(2020, 3, 21, 1, 0, 4), datetime.datetime(2020, 3, 21, 1, 10, 2), datetime.datetime(2020, 3, 21, 1, 20, 2), datetime.datetime(2020, 3, 21, 1, 30, 2), datetime.datetime(2020, 3, 21, 1, 40, 2), datetime.datetime(2020, 3, 21, 1, 50, 2), datetime.datetime(2020, 3, 21, 2, 0, 4), datetime.datetime(2020, 3, 21, 2, 10, 2), datetime.datetime(2020, 3, 21, 2, 20, 2), datetime.datetime(2020, 3, 21, 2, 30, 2), datetime.datetime(2020, 3, 21, 2, 40, 2), datetime.datetime(2020, 3, 21, 2, 50, 1), datetime.datetime(2020, 3, 21, 3, 0, 4), datetime.datetime(2020, 3, 21, 3, 10, 2), datetime.datetime(2020, 3, 21, 3, 20, 2), datetime.datetime(2020, 3, 21, 3, 30, 2), datetime.datetime(2020, 3, 21, 3, 40, 2), datetime.datetime(2020, 3, 21, 3, 50, 2), datetime.datetime(2020, 3, 21, 4, 0, 4), datetime.datetime(2020, 3, 21, 4, 10, 2), datetime.datetime(2020, 3, 21, 4, 20, 2), datetime.datetime(2020, 3, 21, 4, 30, 2), datetime.datetime(2020, 3, 21, 4, 40, 2), datetime.datetime(2020, 3, 21, 4, 50, 2), datetime.datetime(2020, 3, 21, 5, 0, 5), datetime.datetime(2020, 3, 21, 5, 10, 2), datetime.datetime(2020, 3, 21, 5, 20, 2), datetime.datetime(2020, 3, 21, 5, 30, 2), datetime.datetime(2020, 3, 21, 5, 40, 2), datetime.datetime(2020, 3, 21, 5, 50, 2), datetime.datetime(2020, 3, 21, 6, 0, 5), datetime.datetime(2020, 3, 21, 6, 10, 1), datetime.datetime(2020, 3, 21, 6, 20, 2), datetime.datetime(2020, 3, 21, 6, 30, 2), datetime.datetime(2020, 3, 21, 6, 40, 2), datetime.datetime(2020, 3, 21, 6, 50, 2), datetime.datetime(2020, 3, 21, 7, 0, 5), datetime.datetime(2020, 3, 21, 7, 10, 2), datetime.datetime(2020, 3, 21, 7, 20, 2), datetime.datetime(2020, 3, 21, 7, 30, 2), datetime.datetime(2020, 3, 21, 7, 40, 2), datetime.datetime(2020, 3, 21, 7, 50, 1), datetime.datetime(2020, 3, 21, 8, 0, 4), datetime.datetime(2020, 3, 21, 8, 10, 2), datetime.datetime(2020, 3, 21, 8, 20, 1), datetime.datetime(2020, 3, 21, 8, 30, 2), datetime.datetime(2020, 3, 21, 8, 40, 2), datetime.datetime(2020, 3, 21, 8, 50, 2), datetime.datetime(2020, 3, 21, 9, 0, 5), datetime.datetime(2020, 3, 21, 9, 10, 2), datetime.datetime(2020, 3, 21, 9, 20, 2), datetime.datetime(2020, 3, 21, 9, 30, 2), datetime.datetime(2020, 3, 21, 9, 40, 2), datetime.datetime(2020, 3, 21, 9, 50, 2), datetime.datetime(2020, 3, 21, 10, 0, 4), datetime.datetime(2020, 3, 21, 10, 10, 2), datetime.datetime(2020, 3, 21, 10, 20, 2), datetime.datetime(2020, 3, 21, 10, 30, 2), datetime.datetime(2020, 3, 21, 10, 40, 2), datetime.datetime(2020, 3, 21, 10, 50, 2), datetime.datetime(2020, 3, 21, 11, 0, 4), datetime.datetime(2020, 3, 21, 11, 10, 2), datetime.datetime(2020, 3, 21, 11, 20, 2), datetime.datetime(2020, 3, 21, 11, 30, 2), datetime.datetime(2020, 3, 21, 11, 40, 1), datetime.datetime(2020, 3, 21, 11, 50, 2), datetime.datetime(2020, 3, 21, 12, 0, 6), datetime.datetime(2020, 3, 21, 12, 10, 2), datetime.datetime(2020, 3, 21, 12, 20, 2), datetime.datetime(2020, 3, 21, 12, 30, 2), datetime.datetime(2020, 3, 21, 12, 40, 2), datetime.datetime(2020, 3, 21, 12, 50, 2), datetime.datetime(2020, 3, 21, 13, 0, 4), datetime.datetime(2020, 3, 21, 13, 10, 2), datetime.datetime(2020, 3, 21, 13, 20, 2), datetime.datetime(2020, 3, 21, 13, 30, 2), datetime.datetime(2020, 3, 21, 13, 40, 2), datetime.datetime(2020, 3, 21, 13, 50, 2), datetime.datetime(2020, 3, 21, 14, 0, 5), datetime.datetime(2020, 3, 21, 14, 10, 2), datetime.datetime(2020, 3, 21, 14, 20, 2), datetime.datetime(2020, 3, 21, 14, 30, 2), datetime.datetime(2020, 3, 21, 14, 40, 1), datetime.datetime(2020, 3, 21, 14, 50, 2), datetime.datetime(2020, 3, 21, 15, 0, 4), datetime.datetime(2020, 3, 21, 15, 10, 2), datetime.datetime(2020, 3, 21, 15, 20, 2), datetime.datetime(2020, 3, 21, 15, 30, 2), datetime.datetime(2020, 3, 21, 15, 40, 2), datetime.datetime(2020, 3, 21, 15, 50, 2), datetime.datetime(2020, 3, 21, 16, 0, 4), datetime.datetime(2020, 3, 21, 16, 10, 2), datetime.datetime(2020, 3, 21, 16, 20, 2), datetime.datetime(2020, 3, 21, 16, 30, 2), datetime.datetime(2020, 3, 21, 16, 40, 2), datetime.datetime(2020, 3, 21, 16, 50, 2), datetime.datetime(2020, 3, 21, 17, 0, 5), datetime.datetime(2020, 3, 21, 17, 10, 2), datetime.datetime(2020, 3, 21, 17, 20, 2), datetime.datetime(2020, 3, 21, 17, 30, 2), datetime.datetime(2020, 3, 21, 17, 40, 2), datetime.datetime(2020, 3, 21, 17, 50, 2), datetime.datetime(2020, 3, 21, 18, 0, 5), datetime.datetime(2020, 3, 21, 18, 10, 2), datetime.datetime(2020, 3, 21, 18, 20, 2), datetime.datetime(2020, 3, 21, 18, 30, 2), datetime.datetime(2020, 3, 21, 18, 40, 2), datetime.datetime(2020, 3, 21, 18, 50, 2), datetime.datetime(2020, 3, 21, 19, 0, 5), datetime.datetime(2020, 3, 21, 19, 10, 2), datetime.datetime(2020, 3, 21, 19, 20, 2), datetime.datetime(2020, 3, 21, 19, 30, 2), datetime.datetime(2020, 3, 21, 19, 40, 2), datetime.datetime(2020, 3, 21, 19, 50, 2), datetime.datetime(2020, 3, 21, 20, 0, 5), datetime.datetime(2020, 3, 21, 20, 10, 2), datetime.datetime(2020, 3, 21, 20, 20, 2), datetime.datetime(2020, 3, 21, 20, 30, 2), datetime.datetime(2020, 3, 21, 20, 40, 1), datetime.datetime(2020, 3, 21, 20, 50, 2), datetime.datetime(2020, 3, 21, 21, 0, 4), datetime.datetime(2020, 3, 21, 21, 10, 2), datetime.datetime(2020, 3, 21, 21, 20, 2), datetime.datetime(2020, 3, 21, 21, 30, 2), datetime.datetime(2020, 3, 21, 21, 40, 1), datetime.datetime(2020, 3, 21, 21, 50, 2), datetime.datetime(2020, 3, 21, 22, 0, 4), datetime.datetime(2020, 3, 21, 22, 10, 2), datetime.datetime(2020, 3, 21, 22, 20, 2), datetime.datetime(2020, 3, 21, 22, 30, 2), datetime.datetime(2020, 3, 21, 22, 40, 2), datetime.datetime(2020, 3, 21, 22, 50, 2), datetime.datetime(2020, 3, 21, 23, 0, 4), datetime.datetime(2020, 3, 21, 23, 10, 2), datetime.datetime(2020, 3, 21, 23, 20, 2), datetime.datetime(2020, 3, 21, 23, 30, 2), datetime.datetime(2020, 3, 21, 23, 40, 2), datetime.datetime(2020, 3, 21, 23, 50, 2), datetime.datetime(2020, 3, 22, 0, 0, 5), datetime.datetime(2020, 3, 22, 0, 10, 2), datetime.datetime(2020, 3, 22, 0, 20, 2), datetime.datetime(2020, 3, 22, 0, 30, 2), datetime.datetime(2020, 3, 22, 0, 40, 1), datetime.datetime(2020, 3, 22, 0, 50, 2), datetime.datetime(2020, 3, 22, 1, 0, 4), datetime.datetime(2020, 3, 22, 1, 10, 2), datetime.datetime(2020, 3, 22, 1, 20, 2), datetime.datetime(2020, 3, 22, 1, 30, 2), datetime.datetime(2020, 3, 22, 1, 40, 2), datetime.datetime(2020, 3, 22, 1, 50, 1), datetime.datetime(2020, 3, 22, 2, 0, 3), datetime.datetime(2020, 3, 22, 2, 10, 2), datetime.datetime(2020, 3, 22, 2, 20, 2), datetime.datetime(2020, 3, 22, 2, 30, 2), datetime.datetime(2020, 3, 22, 2, 40, 2), datetime.datetime(2020, 3, 22, 2, 50, 2), datetime.datetime(2020, 3, 22, 3, 0, 6), datetime.datetime(2020, 3, 22, 3, 10, 2), datetime.datetime(2020, 3, 22, 3, 20, 2), datetime.datetime(2020, 3, 22, 3, 30, 2), datetime.datetime(2020, 3, 22, 3, 40, 2), datetime.datetime(2020, 3, 22, 3, 50, 2), datetime.datetime(2020, 3, 22, 4, 0, 5), datetime.datetime(2020, 3, 22, 4, 10, 2), datetime.datetime(2020, 3, 22, 4, 20, 2), datetime.datetime(2020, 3, 22, 4, 30, 2), datetime.datetime(2020, 3, 22, 4, 40, 1), datetime.datetime(2020, 3, 22, 4, 50, 26), datetime.datetime(2020, 3, 22, 5, 0, 4), datetime.datetime(2020, 3, 22, 5, 10, 2), datetime.datetime(2020, 3, 22, 5, 20, 2), datetime.datetime(2020, 3, 22, 5, 30, 2), datetime.datetime(2020, 3, 22, 5, 40, 1), datetime.datetime(2020, 3, 22, 5, 50, 2), datetime.datetime(2020, 3, 22, 6, 0, 4), datetime.datetime(2020, 3, 22, 6, 10, 2), datetime.datetime(2020, 3, 22, 6, 20, 2), datetime.datetime(2020, 3, 22, 6, 30, 2), datetime.datetime(2020, 3, 22, 6, 40, 2), datetime.datetime(2020, 3, 22, 6, 50, 2), datetime.datetime(2020, 3, 22, 7, 0, 4), datetime.datetime(2020, 3, 22, 7, 10, 2), datetime.datetime(2020, 3, 22, 7, 20, 1), datetime.datetime(2020, 3, 22, 7, 30, 2), datetime.datetime(2020, 3, 22, 7, 40, 2), datetime.datetime(2020, 3, 22, 7, 50, 2), datetime.datetime(2020, 3, 22, 8, 0, 5), datetime.datetime(2020, 3, 22, 8, 10, 2), datetime.datetime(2020, 3, 22, 8, 20, 2), datetime.datetime(2020, 3, 22, 8, 30, 2), datetime.datetime(2020, 3, 22, 8, 40, 1), datetime.datetime(2020, 3, 22, 8, 50, 1), datetime.datetime(2020, 3, 22, 9, 0, 3), datetime.datetime(2020, 3, 22, 9, 10, 27), datetime.datetime(2020, 3, 22, 9, 20, 2), datetime.datetime(2020, 3, 22, 9, 30, 2), datetime.datetime(2020, 3, 22, 9, 40, 2), datetime.datetime(2020, 3, 22, 9, 50, 1), datetime.datetime(2020, 3, 22, 10, 0, 4), datetime.datetime(2020, 3, 22, 10, 10, 2), datetime.datetime(2020, 3, 22, 10, 20, 2), datetime.datetime(2020, 3, 22, 10, 30, 2), datetime.datetime(2020, 3, 22, 10, 40, 2), datetime.datetime(2020, 3, 22, 10, 50, 2), datetime.datetime(2020, 3, 22, 11, 0, 5), datetime.datetime(2020, 3, 22, 11, 10, 2), datetime.datetime(2020, 3, 22, 11, 20, 2), datetime.datetime(2020, 3, 22, 11, 30, 2), datetime.datetime(2020, 3, 22, 11, 40, 1), datetime.datetime(2020, 3, 22, 11, 50, 1), datetime.datetime(2020, 3, 22, 12, 0, 3), datetime.datetime(2020, 3, 22, 12, 10, 2), datetime.datetime(2020, 3, 22, 12, 20, 1), datetime.datetime(2020, 3, 22, 12, 30, 2), datetime.datetime(2020, 3, 22, 12, 40, 2), datetime.datetime(2020, 3, 22, 12, 50, 2), datetime.datetime(2020, 3, 22, 13, 0, 3), datetime.datetime(2020, 3, 22, 13, 10, 2), datetime.datetime(2020, 3, 22, 13, 20, 2), datetime.datetime(2020, 3, 22, 13, 30, 2), datetime.datetime(2020, 3, 22, 13, 40, 2), datetime.datetime(2020, 3, 22, 13, 50, 2), datetime.datetime(2020, 3, 22, 14, 0, 4), datetime.datetime(2020, 3, 22, 14, 10, 2), datetime.datetime(2020, 3, 22, 14, 20, 2), datetime.datetime(2020, 3, 22, 14, 30, 2), datetime.datetime(2020, 3, 22, 14, 40, 1), datetime.datetime(2020, 3, 22, 14, 50, 2), datetime.datetime(2020, 3, 22, 15, 0, 5), datetime.datetime(2020, 3, 22, 15, 10, 2), datetime.datetime(2020, 3, 22, 15, 20, 1), datetime.datetime(2020, 3, 22, 15, 30, 2), datetime.datetime(2020, 3, 22, 15, 40, 2), datetime.datetime(2020, 3, 22, 15, 50, 2), datetime.datetime(2020, 3, 22, 16, 0, 5), datetime.datetime(2020, 3, 22, 16, 10, 2), datetime.datetime(2020, 3, 22, 16, 20, 2), datetime.datetime(2020, 3, 22, 16, 30, 2), datetime.datetime(2020, 3, 22, 16, 40, 2), datetime.datetime(2020, 3, 22, 16, 50, 2), datetime.datetime(2020, 3, 22, 17, 0, 3), datetime.datetime(2020, 3, 22, 17, 10, 2), datetime.datetime(2020, 3, 22, 17, 20, 2), datetime.datetime(2020, 3, 22, 17, 30, 2), datetime.datetime(2020, 3, 22, 17, 40, 2), datetime.datetime(2020, 3, 22, 17, 50, 2), datetime.datetime(2020, 3, 22, 18, 0, 4), datetime.datetime(2020, 3, 22, 18, 10, 2), datetime.datetime(2020, 3, 22, 18, 20, 2), datetime.datetime(2020, 3, 22, 18, 30, 2), datetime.datetime(2020, 3, 22, 18, 40, 2), datetime.datetime(2020, 3, 22, 18, 50, 2), datetime.datetime(2020, 3, 22, 19, 0, 4), datetime.datetime(2020, 3, 22, 19, 10, 2), datetime.datetime(2020, 3, 22, 19, 20, 2), datetime.datetime(2020, 3, 22, 19, 30, 2), datetime.datetime(2020, 3, 22, 19, 40, 2), datetime.datetime(2020, 3, 22, 19, 50, 2), datetime.datetime(2020, 3, 22, 20, 0, 5), datetime.datetime(2020, 3, 22, 20, 10, 2), datetime.datetime(2020, 3, 22, 20, 20, 2), datetime.datetime(2020, 3, 22, 20, 30, 2), datetime.datetime(2020, 3, 22, 20, 40, 2), datetime.datetime(2020, 3, 22, 20, 50, 2), datetime.datetime(2020, 3, 22, 21, 0, 6), datetime.datetime(2020, 3, 22, 21, 10, 1), datetime.datetime(2020, 3, 22, 21, 20, 2), datetime.datetime(2020, 3, 22, 21, 30, 2), datetime.datetime(2020, 3, 22, 21, 40, 2), datetime.datetime(2020, 3, 22, 21, 50, 2), datetime.datetime(2020, 3, 22, 22, 0, 5), datetime.datetime(2020, 3, 22, 22, 10, 2), datetime.datetime(2020, 3, 22, 22, 20, 2), datetime.datetime(2020, 3, 22, 22, 30, 2), datetime.datetime(2020, 3, 22, 22, 40, 2), datetime.datetime(2020, 3, 22, 22, 50, 2), datetime.datetime(2020, 3, 22, 23, 0, 6), datetime.datetime(2020, 3, 22, 23, 10, 2), datetime.datetime(2020, 3, 22, 23, 20, 2), datetime.datetime(2020, 3, 22, 23, 30, 2), datetime.datetime(2020, 3, 22, 23, 40, 1), datetime.datetime(2020, 3, 22, 23, 50, 2), datetime.datetime(2020, 3, 23, 0, 0, 4), datetime.datetime(2020, 3, 23, 0, 10, 2), datetime.datetime(2020, 3, 23, 0, 20, 2), datetime.datetime(2020, 3, 23, 0, 30, 2), datetime.datetime(2020, 3, 23, 0, 40, 2), datetime.datetime(2020, 3, 23, 0, 50, 2), datetime.datetime(2020, 3, 23, 1, 0, 5), datetime.datetime(2020, 3, 23, 1, 10, 2), datetime.datetime(2020, 3, 23, 1, 20, 2), datetime.datetime(2020, 3, 23, 1, 30, 2), datetime.datetime(2020, 3, 23, 1, 40, 2), datetime.datetime(2020, 3, 23, 1, 50, 1), datetime.datetime(2020, 3, 23, 2, 0, 4), datetime.datetime(2020, 3, 23, 2, 10, 2), datetime.datetime(2020, 3, 23, 2, 20, 2), datetime.datetime(2020, 3, 23, 2, 30, 2), datetime.datetime(2020, 3, 23, 2, 40, 2), datetime.datetime(2020, 3, 23, 2, 50, 2), datetime.datetime(2020, 3, 23, 3, 0, 28), datetime.datetime(2020, 3, 23, 3, 10, 2), datetime.datetime(2020, 3, 23, 3, 20, 2), datetime.datetime(2020, 3, 23, 3, 30, 2), datetime.datetime(2020, 3, 23, 3, 40, 2), datetime.datetime(2020, 3, 23, 3, 50, 2), datetime.datetime(2020, 3, 23, 4, 0, 4), datetime.datetime(2020, 3, 23, 4, 10, 2), datetime.datetime(2020, 3, 23, 4, 20, 2), datetime.datetime(2020, 3, 23, 4, 30, 2), datetime.datetime(2020, 3, 23, 4, 40, 2), datetime.datetime(2020, 3, 23, 4, 50, 2), datetime.datetime(2020, 3, 23, 5, 0, 3), datetime.datetime(2020, 3, 23, 5, 10, 2), datetime.datetime(2020, 3, 23, 5, 20, 2), datetime.datetime(2020, 3, 23, 5, 30, 2), datetime.datetime(2020, 3, 23, 5, 40, 2), datetime.datetime(2020, 3, 23, 5, 50, 1), datetime.datetime(2020, 3, 23, 6, 0, 3), datetime.datetime(2020, 3, 23, 6, 10, 2), datetime.datetime(2020, 3, 23, 6, 20, 2), datetime.datetime(2020, 3, 23, 6, 30, 2), datetime.datetime(2020, 3, 23, 6, 40, 2), datetime.datetime(2020, 3, 23, 6, 50, 2), datetime.datetime(2020, 3, 23, 7, 0, 6), datetime.datetime(2020, 3, 23, 7, 10, 2), datetime.datetime(2020, 3, 23, 7, 20, 2), datetime.datetime(2020, 3, 23, 7, 30, 2), datetime.datetime(2020, 3, 23, 7, 40, 2), datetime.datetime(2020, 3, 23, 7, 50, 2), datetime.datetime(2020, 3, 23, 8, 0, 5), datetime.datetime(2020, 3, 23, 8, 10, 2), datetime.datetime(2020, 3, 23, 8, 20, 2), datetime.datetime(2020, 3, 23, 8, 30, 2), datetime.datetime(2020, 3, 23, 8, 40, 2), datetime.datetime(2020, 3, 23, 8, 50, 1), datetime.datetime(2020, 3, 23, 9, 0, 4), datetime.datetime(2020, 3, 23, 9, 10, 2), datetime.datetime(2020, 3, 23, 9, 20, 2), datetime.datetime(2020, 3, 23, 9, 30, 2), datetime.datetime(2020, 3, 23, 9, 40, 2), datetime.datetime(2020, 3, 23, 9, 50, 2), datetime.datetime(2020, 3, 23, 10, 0, 5), datetime.datetime(2020, 3, 23, 10, 10, 2), datetime.datetime(2020, 3, 23, 10, 20, 2), datetime.datetime(2020, 3, 23, 10, 30, 2), datetime.datetime(2020, 3, 23, 10, 40, 2), datetime.datetime(2020, 3, 23, 10, 50, 2), datetime.datetime(2020, 3, 23, 11, 0, 6), datetime.datetime(2020, 3, 23, 11, 10, 2), datetime.datetime(2020, 3, 23, 11, 20, 2), datetime.datetime(2020, 3, 23, 11, 30, 2), datetime.datetime(2020, 3, 23, 11, 40, 2), datetime.datetime(2020, 3, 23, 11, 50, 2), datetime.datetime(2020, 3, 23, 12, 0, 5), datetime.datetime(2020, 3, 23, 12, 10, 1), datetime.datetime(2020, 3, 23, 12, 20, 2), datetime.datetime(2020, 3, 23, 12, 30, 2), datetime.datetime(2020, 3, 23, 12, 40, 2), datetime.datetime(2020, 3, 23, 12, 50, 2), datetime.datetime(2020, 3, 23, 13, 0, 3), datetime.datetime(2020, 3, 23, 13, 10, 2), datetime.datetime(2020, 3, 23, 13, 20, 2), datetime.datetime(2020, 3, 23, 13, 30, 2), datetime.datetime(2020, 3, 23, 13, 40, 1), datetime.datetime(2020, 3, 23, 13, 50, 2), datetime.datetime(2020, 3, 23, 14, 0, 4), datetime.datetime(2020, 3, 23, 14, 10, 2), datetime.datetime(2020, 3, 23, 14, 20, 2), datetime.datetime(2020, 3, 23, 14, 30, 2), datetime.datetime(2020, 3, 23, 14, 40, 2), datetime.datetime(2020, 3, 23, 14, 50, 2), datetime.datetime(2020, 3, 23, 15, 0, 3), datetime.datetime(2020, 3, 23, 15, 10, 2), datetime.datetime(2020, 3, 23, 15, 20, 2), datetime.datetime(2020, 3, 23, 15, 30, 2), datetime.datetime(2020, 3, 23, 15, 40, 2), datetime.datetime(2020, 3, 23, 15, 50, 2), datetime.datetime(2020, 3, 23, 16, 0, 4), datetime.datetime(2020, 3, 23, 16, 10, 2), datetime.datetime(2020, 3, 23, 16, 20, 2), datetime.datetime(2020, 3, 23, 16, 30, 2), datetime.datetime(2020, 3, 23, 16, 40, 2), datetime.datetime(2020, 3, 23, 16, 50, 2), datetime.datetime(2020, 3, 23, 17, 0, 6), datetime.datetime(2020, 3, 23, 17, 10, 2), datetime.datetime(2020, 3, 23, 17, 20, 2), datetime.datetime(2020, 3, 23, 17, 30, 2), datetime.datetime(2020, 3, 23, 17, 40, 2), datetime.datetime(2020, 3, 23, 17, 50, 2), datetime.datetime(2020, 3, 23, 18, 0, 4), datetime.datetime(2020, 3, 23, 18, 10, 2), datetime.datetime(2020, 3, 23, 18, 20, 2), datetime.datetime(2020, 3, 23, 18, 30, 2), datetime.datetime(2020, 3, 23, 18, 40, 2), datetime.datetime(2020, 3, 23, 18, 50, 2), datetime.datetime(2020, 3, 23, 19, 0, 5), datetime.datetime(2020, 3, 23, 19, 10, 2), datetime.datetime(2020, 3, 23, 19, 20, 2), datetime.datetime(2020, 3, 23, 19, 30, 2), datetime.datetime(2020, 3, 23, 19, 40, 2), datetime.datetime(2020, 3, 23, 19, 50, 1), datetime.datetime(2020, 3, 23, 20, 0, 3), datetime.datetime(2020, 3, 23, 20, 10, 2), datetime.datetime(2020, 3, 23, 20, 20, 2), datetime.datetime(2020, 3, 23, 20, 30, 2), datetime.datetime(2020, 3, 23, 20, 40, 2), datetime.datetime(2020, 3, 23, 20, 50, 1), datetime.datetime(2020, 3, 23, 21, 0, 4), datetime.datetime(2020, 3, 23, 21, 10, 2), datetime.datetime(2020, 3, 23, 21, 20, 1), datetime.datetime(2020, 3, 23, 21, 30, 2), datetime.datetime(2020, 3, 23, 21, 40, 2), datetime.datetime(2020, 3, 23, 21, 50, 2), datetime.datetime(2020, 3, 23, 22, 0, 4), datetime.datetime(2020, 3, 23, 22, 10, 2), datetime.datetime(2020, 3, 23, 22, 20, 2), datetime.datetime(2020, 3, 23, 22, 30, 2), datetime.datetime(2020, 3, 23, 22, 40, 1), datetime.datetime(2020, 3, 23, 22, 50, 2), datetime.datetime(2020, 3, 23, 23, 0, 4), datetime.datetime(2020, 3, 23, 23, 10, 1), datetime.datetime(2020, 3, 23, 23, 20, 2), datetime.datetime(2020, 3, 23, 23, 30, 2), datetime.datetime(2020, 3, 23, 23, 40, 2), datetime.datetime(2020, 3, 23, 23, 50, 2)]\n"
     ]
    }
   ],
   "source": [
    "dates = [datetime.datetime.fromtimestamp(timestamp) for timestamp in bikeDynamicTS['date_UTC'].unique()]\n",
    "print(dates)\n",
    "# time = []\n",
    "# available_bike_stands = []\n",
    "\n",
    "# for date in dates:\n",
    "#     tempTime = bikeDynamicTS.loc[(bikeDynamicTS.date_last_update == date)]['time_last_update'].values.tolist()\n",
    "#     tempStands = bikeDynamicTS.loc[(bikeDynamicTS.date_last_update == date)]['available_bike_stands'].values.tolist() \n",
    "#     time.append(tempTime)\n",
    "#     available_bike_stands.append(tempStands)"
   ]
  },
  {
   "cell_type": "code",
   "execution_count": 41,
   "metadata": {},
   "outputs": [
    {
     "name": "stdout",
     "output_type": "stream",
     "text": [
      "[1582934406.0, 1582935002.0, 1582935602.0, 1582936202.0, 1582936801.0, 1582937402.0, 1583027401.0, 1583028004.0, 1583028602.0, 1583029202.0, 1583029802.0, 1583030402.0, 1583031002.0, 1583031603.0, 1583032202.0, 1583032802.0, 1583033402.0, 1583034002.0, 1583034626.0, 1583035206.0, 1583035802.0, 1583036402.0, 1583037002.0, 1583037602.0, 1583038202.0, 1583038804.0, 1583039402.0, 1583040002.0, 1583040602.0, 1583041202.0, 1583041802.0, 1583042406.0, 1583043002.0, 1583043602.0, 1583044202.0, 1583044802.0, 1583045401.0, 1583046003.0, 1583046602.0, 1583047201.0, 1583047802.0, 1583048402.0, 1583049002.0, 1583049605.0, 1583050202.0, 1583050802.0, 1583051402.0, 1583052002.0, 1583052602.0, 1583053203.0, 1583053802.0, 1583054402.0, 1583055002.0, 1583055602.0, 1583056202.0, 1583056804.0, 1583057402.0, 1583058002.0, 1583058602.0, 1583059202.0, 1583059801.0, 1583060404.0, 1583061002.0, 1583061602.0, 1583062202.0, 1583062802.0, 1583063402.0, 1583064005.0, 1583064602.0, 1583065201.0, 1583065802.0, 1583066402.0, 1583067002.0, 1583067605.0, 1583068202.0, 1583068802.0, 1583069402.0, 1583070002.0, 1583070602.0, 1583071203.0, 1583071802.0, 1583072402.0, 1583073002.0, 1583073602.0, 1583074202.0, 1583074804.0, 1583075402.0, 1583076002.0, 1583076602.0, 1583077201.0, 1583077801.0, 1583078404.0, 1583079002.0, 1583079602.0, 1583080202.0, 1583080802.0, 1583081401.0, 1583082003.0, 1583082602.0, 1583083202.0, 1583083802.0, 1583084402.0, 1583085002.0, 1583085605.0, 1583086202.0, 1583086802.0, 1583087402.0, 1583088002.0, 1583088602.0, 1583089228.0, 1583089802.0, 1583090401.0, 1583091002.0, 1583091602.0, 1583092202.0, 1583092805.0, 1583093402.0, 1583094001.0, 1583094602.0, 1583095201.0, 1583095801.0, 1583096404.0, 1583097027.0, 1583097602.0, 1583098202.0, 1583098802.0, 1583099402.0, 1583100005.0, 1583100602.0, 1583101202.0, 1583101802.0, 1583102401.0, 1583103002.0, 1583103604.0, 1583104202.0, 1583104802.0, 1583105402.0, 1583106002.0, 1583106602.0, 1583107207.0, 1583107802.0, 1583108402.0, 1583109002.0, 1583109602.0, 1583110204.0, 1583110804.0, 1583111402.0, 1583112002.0, 1583112602.0, 1583113202.0, 1583113802.0, 1583114405.0, 1583115002.0, 1583115602.0, 1583116202.0, 1583116802.0, 1583117402.0, 1583118004.0, 1583118602.0, 1583119202.0, 1583119802.0, 1583120402.0, 1583121002.0, 1583121604.0, 1583122202.0, 1583122802.0, 1583123402.0, 1583124002.0, 1583124602.0, 1583125205.0, 1583125802.0, 1583126402.0, 1583127002.0, 1583127602.0, 1583128202.0, 1583128806.0, 1583129402.0, 1583130002.0, 1583130602.0, 1583131227.0, 1583131802.0, 1583132404.0, 1583133002.0, 1583133602.0, 1583134202.0, 1583134802.0, 1583135402.0, 1583136004.0, 1583136602.0, 1583137202.0, 1583137802.0, 1583138402.0, 1583139002.0, 1583139605.0, 1583140202.0, 1583140802.0, 1583141402.0, 1583142002.0, 1583142602.0, 1583143204.0, 1583143802.0, 1583144402.0, 1583145002.0, 1583145601.0, 1583146202.0, 1583146804.0, 1583147402.0, 1583148002.0, 1583148602.0, 1583149202.0, 1583149802.0, 1583150404.0, 1583151002.0, 1583151602.0, 1583152202.0, 1583152802.0, 1583153402.0, 1583154004.0, 1583154602.0, 1583155202.0, 1583155802.0, 1583156402.0, 1583157002.0, 1583157604.0, 1583158202.0, 1583158802.0, 1583159402.0, 1583160002.0, 1583160602.0, 1583161204.0, 1583161802.0, 1583162402.0, 1583163002.0, 1583163602.0, 1583164202.0, 1583164804.0, 1583165402.0, 1583166001.0, 1583166602.0, 1583167202.0, 1583167802.0, 1583168405.0, 1583169002.0, 1583169602.0, 1583170202.0, 1583170802.0, 1583171402.0, 1583172003.0, 1583172602.0, 1583173202.0, 1583173802.0, 1583174402.0, 1583175002.0, 1583175604.0, 1583176202.0, 1583176802.0, 1583177402.0, 1583178027.0, 1583178602.0, 1583179204.0, 1583179802.0, 1583180402.0, 1583181002.0, 1583181602.0, 1583182202.0, 1583182805.0, 1583183402.0, 1583184002.0, 1583184602.0, 1583185202.0, 1583185801.0, 1583186403.0, 1583187002.0, 1583187602.0, 1583188202.0, 1583188802.0, 1583189402.0, 1583190005.0, 1583190602.0, 1583191202.0, 1583191802.0, 1583192402.0, 1583193001.0, 1583193626.0, 1583194202.0, 1583194802.0, 1583195402.0, 1583196002.0, 1583196629.0, 1583197204.0, 1583197802.0, 1583198402.0, 1583199002.0, 1583199602.0, 1583200202.0, 1583200805.0, 1583201402.0, 1583202002.0, 1583202602.0, 1583203202.0, 1583203802.0, 1583204404.0, 1583205002.0, 1583205602.0, 1583206202.0, 1583206802.0, 1583207402.0, 1583208003.0, 1583208602.0, 1583209202.0, 1583209802.0, 1583210402.0, 1583211002.0, 1583211604.0, 1583212202.0, 1583212802.0, 1583213402.0, 1583214002.0, 1583214602.0, 1583215203.0, 1583215802.0, 1583216402.0, 1583217002.0, 1583217602.0, 1583218202.0, 1583218805.0, 1583219402.0, 1583220002.0, 1583220602.0, 1583221202.0, 1583221802.0, 1583222404.0, 1583223002.0, 1583223602.0, 1583224202.0, 1583224802.0, 1583225402.0, 1583226005.0, 1583226602.0, 1583227202.0, 1583227802.0, 1583228401.0, 1583229001.0, 1583229604.0, 1583230202.0, 1583230802.0, 1583231402.0, 1583232002.0, 1583232602.0, 1583233204.0, 1583233802.0, 1583234402.0, 1583235002.0, 1583235602.0, 1583236202.0, 1583236806.0, 1583237402.0, 1583238002.0, 1583238602.0, 1583239202.0, 1583239802.0, 1583240404.0, 1583241002.0, 1583241601.0, 1583242202.0, 1583242801.0, 1583243402.0, 1583244003.0, 1583244602.0, 1583245203.0, 1583245802.0, 1583246402.0, 1583247002.0, 1583247604.0, 1583248202.0, 1583248801.0, 1583249402.0, 1583250002.0, 1583250601.0, 1583251204.0, 1583251801.0, 1583252402.0, 1583253002.0, 1583253602.0, 1583254202.0, 1583254828.0, 1583255402.0, 1583256002.0, 1583256602.0, 1583257202.0, 1583257802.0, 1583258404.0, 1583259002.0, 1583259602.0, 1583260202.0, 1583260801.0, 1583261401.0, 1583262003.0, 1583262602.0, 1583263202.0, 1583263802.0, 1583264401.0, 1583265002.0, 1583265604.0, 1583266202.0, 1583266802.0, 1583267402.0, 1583268002.0, 1583268602.0, 1583269205.0, 1583269802.0, 1583270402.0, 1583271002.0, 1583271602.0, 1583272202.0, 1583272805.0, 1583273402.0, 1583274002.0, 1583274602.0, 1583275202.0, 1583275802.0, 1583276405.0, 1583277002.0, 1583277602.0, 1583278202.0, 1583278802.0, 1583279401.0, 1583280004.0, 1583280602.0, 1583281202.0, 1583281802.0, 1583282402.0, 1583283003.0, 1583283604.0, 1583284202.0, 1583284802.0, 1583285402.0, 1583286001.0, 1583286602.0, 1583287204.0, 1583287802.0, 1583288402.0, 1583289002.0, 1583289602.0, 1583290202.0, 1583290805.0, 1583291402.0, 1583292002.0, 1583292602.0, 1583293202.0, 1583293802.0, 1583294405.0, 1583295002.0, 1583295602.0, 1583296202.0, 1583296802.0, 1583297402.0, 1583298004.0, 1583298602.0, 1583299202.0, 1583299802.0, 1583300401.0, 1583301002.0, 1583301603.0, 1583302202.0, 1583302802.0, 1583303402.0, 1583304001.0, 1583304626.0, 1583305204.0, 1583305802.0, 1583306402.0, 1583307002.0, 1583307602.0, 1583308202.0, 1583308805.0, 1583309402.0, 1583310002.0, 1583310602.0, 1583311202.0, 1583311802.0, 1583312404.0, 1583313001.0, 1583313602.0, 1583314202.0, 1583314802.0, 1583315402.0, 1583316006.0, 1583316602.0, 1583317201.0, 1583317802.0, 1583318402.0, 1583319002.0, 1583319603.0, 1583320226.0, 1583320801.0, 1583321402.0, 1583322002.0, 1583322601.0, 1583323203.0, 1583323802.0, 1583324402.0, 1583325002.0, 1583325602.0, 1583326201.0, 1583326804.0, 1583327402.0, 1583328002.0, 1583328602.0, 1583329202.0, 1583329802.0, 1583330405.0, 1583331002.0, 1583331602.0, 1583332202.0, 1583332802.0, 1583333401.0, 1583334004.0, 1583334602.0, 1583335202.0, 1583335826.0, 1583336401.0, 1583337002.0, 1583337605.0, 1583338202.0, 1583338802.0, 1583339402.0, 1583340002.0, 1583340602.0, 1583341204.0, 1583341802.0, 1583342402.0, 1583343002.0, 1583343602.0, 1583344202.0, 1583344804.0, 1583345402.0, 1583346002.0, 1583346602.0, 1583347201.0, 1583347801.0, 1583348403.0, 1583349002.0, 1583349602.0, 1583350202.0, 1583350802.0, 1583351402.0, 1583352005.0, 1583352602.0, 1583353202.0, 1583353802.0, 1583354402.0, 1583355002.0, 1583355604.0, 1583356202.0, 1583356802.0, 1583357402.0, 1583358002.0, 1583358602.0, 1583359203.0, 1583359802.0, 1583360402.0, 1583361002.0, 1583361602.0, 1583362202.0, 1583362804.0, 1583363402.0, 1583364002.0, 1583364602.0, 1583365201.0, 1583365802.0, 1583366403.0, 1583367002.0, 1583367602.0, 1583368202.0, 1583368802.0, 1583369403.0, 1583370006.0, 1583370602.0, 1583371202.0, 1583371802.0, 1583372402.0, 1583373002.0, 1583373605.0, 1583374202.0, 1583374802.0, 1583375402.0, 1583376002.0, 1583376602.0, 1583377205.0, 1583377802.0, 1583378402.0, 1583379002.0, 1583379602.0, 1583380202.0, 1583380803.0, 1583381402.0, 1583382002.0, 1583382602.0, 1583383202.0, 1583383802.0, 1583384404.0, 1583385002.0, 1583385601.0, 1583386202.0, 1583386801.0, 1583387402.0, 1583388004.0, 1583388602.0, 1583389202.0, 1583389802.0, 1583390402.0, 1583391002.0, 1583391605.0, 1583392202.0, 1583392802.0, 1583393402.0, 1583394002.0, 1583394602.0, 1583395206.0, 1583395802.0, 1583396402.0, 1583397002.0, 1583397602.0, 1583398202.0, 1583398807.0, 1583399402.0, 1583400002.0, 1583400602.0, 1583401201.0, 1583401802.0, 1583402406.0, 1583403001.0, 1583403602.0, 1583404202.0, 1583404802.0, 1583405402.0, 1583406004.0, 1583406602.0, 1583407202.0, 1583407802.0, 1583408402.0, 1583409001.0, 1583409603.0, 1583410202.0, 1583410802.0, 1583411402.0, 1583412002.0, 1583412601.0, 1583413204.0, 1583413802.0, 1583414402.0, 1583415002.0, 1583415602.0, 1583416202.0, 1583416806.0, 1583417402.0, 1583418001.0, 1583418602.0, 1583419202.0, 1583419802.0, 1583420403.0, 1583421002.0, 1583421602.0, 1583422202.0, 1583422802.0, 1583423402.0, 1583424003.0, 1583424602.0, 1583425202.0, 1583425802.0, 1583426402.0, 1583427002.0, 1583427605.0, 1583428202.0, 1583428802.0, 1583429402.0, 1583430002.0, 1583430602.0, 1583431204.0, 1583431802.0, 1583432402.0, 1583433002.0, 1583433602.0, 1583434202.0, 1583434804.0, 1583435402.0, 1583436002.0, 1583436602.0, 1583437202.0, 1583437802.0, 1583438403.0, 1583439002.0, 1583439601.0, 1583440202.0, 1583440802.0, 1583441402.0, 1583442004.0, 1583442602.0, 1583443202.0, 1583443802.0, 1583444401.0, 1583445002.0, 1583445603.0, 1583446202.0, 1583446802.0, 1583447402.0, 1583448001.0, 1583448602.0, 1583449204.0, 1583449802.0, 1583450402.0, 1583451002.0, 1583451602.0, 1583452202.0, 1583452804.0, 1583453402.0, 1583454001.0, 1583454602.0, 1583455202.0, 1583455828.0, 1583456406.0, 1583457002.0, 1583457602.0, 1583458202.0, 1583458802.0, 1583459402.0, 1583460005.0, 1583460602.0, 1583461202.0, 1583461802.0, 1583462402.0, 1583463002.0, 1583463605.0, 1583464202.0, 1583464802.0, 1583465402.0, 1583466001.0, 1583466626.0, 1583467203.0, 1583467802.0, 1583468402.0, 1583469002.0, 1583469602.0, 1583470202.0, 1583470806.0, 1583471402.0, 1583472002.0, 1583472602.0, 1583473203.0, 1583473802.0, 1583474405.0, 1583475002.0, 1583475602.0, 1583476202.0, 1583476802.0, 1583477402.0, 1583478004.0, 1583478602.0, 1583479201.0, 1583479802.0, 1583480402.0, 1583481002.0, 1583481605.0, 1583482202.0, 1583482802.0, 1583483402.0, 1583484002.0, 1583484602.0, 1583485204.0, 1583485802.0, 1583486402.0, 1583487002.0, 1583487602.0, 1583488202.0, 1583488803.0, 1583489402.0, 1583490001.0, 1583490602.0, 1583491202.0, 1583491802.0, 1583492405.0, 1583493002.0, 1583493602.0, 1583494202.0, 1583494802.0, 1583495402.0, 1583496004.0, 1583496602.0, 1583497202.0, 1583497827.0, 1583498402.0, 1583499002.0, 1583499604.0, 1583500202.0, 1583500802.0, 1583501402.0, 1583502002.0, 1583502602.0, 1583503205.0, 1583503802.0, 1583504402.0, 1583505002.0, 1583505602.0, 1583506202.0, 1583506804.0, 1583507402.0, 1583508002.0, 1583508604.0, 1583509202.0, 1583509802.0, 1583510406.0, 1583511002.0, 1583511602.0, 1583512202.0, 1583512802.0, 1583513426.0, 1583514003.0, 1583514602.0, 1583515202.0, 1583515802.0, 1583516402.0, 1583517001.0, 1583517603.0, 1583518202.0, 1583518802.0, 1583519402.0, 1583520002.0, 1583520602.0, 1583521204.0, 1583521802.0, 1583522402.0, 1583523002.0, 1583523601.0, 1583524201.0, 1583524804.0, 1583525402.0, 1583526002.0, 1583526602.0, 1583527202.0, 1583527801.0, 1583528403.0, 1583529027.0, 1583529602.0, 1583530202.0, 1583530802.0, 1583531402.0, 1583532004.0, 1583532602.0, 1583533201.0, 1583533802.0, 1583534402.0, 1583535002.0, 1583535605.0, 1583536202.0, 1583536802.0, 1583537402.0, 1583538002.0, 1583538602.0, 1583539205.0, 1583539801.0, 1583540402.0, 1583541002.0, 1583541602.0, 1583542204.0, 1583542804.0, 1583543402.0, 1583544002.0, 1583544602.0, 1583545202.0, 1583545802.0, 1583546406.0, 1583547002.0, 1583547602.0, 1583548202.0, 1583548801.0, 1583549401.0, 1583550004.0, 1583550602.0, 1583551202.0, 1583551802.0, 1583552402.0, 1583553002.0, 1583553604.0, 1583554202.0, 1583554802.0, 1583555402.0, 1583556002.0, 1583556602.0, 1583557204.0, 1583557802.0, 1583558402.0, 1583559002.0, 1583559602.0, 1583560202.0, 1583560804.0, 1583561402.0, 1583562002.0, 1583562602.0, 1583563202.0, 1583563802.0, 1583564405.0, 1583565002.0, 1583565602.0, 1583566202.0, 1583566801.0, 1583567402.0, 1583568004.0, 1583568602.0, 1583569202.0, 1583569802.0, 1583570402.0, 1583571002.0, 1583571605.0, 1583572202.0, 1583572802.0, 1583573402.0, 1583574002.0, 1583574602.0, 1583575204.0, 1583575802.0, 1583576402.0, 1583577002.0, 1583577601.0, 1583578201.0, 1583578803.0, 1583579402.0, 1583580002.0, 1583580602.0, 1583581201.0, 1583581802.0, 1583582404.0, 1583583002.0, 1583583602.0, 1583584202.0, 1583584802.0, 1583585402.0, 1583586003.0, 1583586602.0, 1583587202.0, 1583587802.0, 1583588402.0, 1583589002.0, 1583589604.0, 1583590202.0, 1583590802.0, 1583591402.0, 1583592002.0, 1583592602.0, 1583593204.0, 1583593801.0, 1583594402.0, 1583595002.0, 1583595602.0, 1583596202.0, 1583596804.0, 1583597402.0, 1583598002.0, 1583598602.0, 1583599202.0, 1583599802.0, 1583600404.0, 1583601002.0, 1583601602.0, 1583602202.0, 1583602802.0, 1583603402.0, 1583604006.0, 1583604601.0, 1583605202.0, 1583605802.0, 1583606402.0, 1583607002.0, 1583607604.0, 1583608202.0, 1583608802.0, 1583609402.0, 1583610002.0, 1583610602.0, 1583611205.0, 1583611802.0, 1583612402.0, 1583613002.0, 1583613602.0, 1583614202.0, 1583614803.0, 1583615402.0, 1583616002.0, 1583616602.0, 1583617202.0, 1583617802.0, 1583618404.0, 1583619002.0, 1583619602.0, 1583620202.0, 1583620802.0, 1583621401.0, 1583622003.0, 1583622602.0, 1583623202.0, 1583623802.0, 1583624402.0, 1583625002.0, 1583625603.0, 1583626202.0, 1583626802.0, 1583627402.0, 1583628002.0, 1583628604.0, 1583629204.0, 1583629802.0, 1583630402.0, 1583631002.0, 1583631602.0, 1583632202.0, 1583632803.0, 1583633402.0, 1583634002.0, 1583634602.0, 1583635202.0, 1583635802.0, 1583636405.0, 1583637002.0, 1583637602.0, 1583638202.0, 1583638802.0, 1583639402.0, 1583640006.0, 1583640602.0, 1583641202.0, 1583641802.0, 1583642401.0, 1583643002.0, 1583643604.0, 1583644202.0, 1583644802.0, 1583645402.0, 1583646002.0, 1583646602.0, 1583647206.0, 1583647802.0, 1583648402.0, 1583649002.0, 1583649602.0, 1583650202.0, 1583650804.0, 1583651402.0, 1583652002.0, 1583652602.0, 1583653202.0, 1583653802.0, 1583654404.0, 1583655002.0, 1583655602.0, 1583656202.0, 1583656802.0, 1583657402.0, 1583658006.0, 1583658602.0, 1583659202.0, 1583659802.0, 1583660402.0, 1583661002.0, 1583661605.0, 1583662202.0, 1583662802.0, 1583663402.0, 1583664002.0, 1583664602.0, 1583665204.0, 1583665802.0, 1583666402.0, 1583667002.0, 1583667602.0, 1583668202.0, 1583668804.0, 1583669402.0, 1583670002.0, 1583670602.0, 1583671202.0, 1583671801.0, 1583672403.0, 1583673002.0, 1583673602.0, 1583674202.0, 1583674802.0, 1583675402.0, 1583676003.0, 1583676602.0, 1583677202.0, 1583677802.0, 1583678402.0, 1583679002.0, 1583679605.0, 1583680202.0, 1583680802.0, 1583681402.0, 1583682002.0, 1583682601.0, 1583683204.0, 1583683802.0, 1583684402.0, 1583685002.0, 1583685602.0, 1583686202.0, 1583686805.0, 1583687402.0, 1583688002.0, 1583688602.0, 1583689202.0, 1583689802.0, 1583690404.0, 1583691002.0, 1583691602.0, 1583692202.0, 1583692802.0, 1583693401.0, 1583694003.0, 1583694602.0, 1583695202.0, 1583695802.0, 1583696401.0, 1583697002.0, 1583697604.0, 1583698202.0, 1583698802.0, 1583699402.0, 1583700002.0, 1583700602.0, 1583701204.0, 1583701802.0, 1583702402.0, 1583703002.0, 1583703601.0, 1583704202.0, 1583704804.0, 1583705402.0, 1583706002.0, 1583706602.0, 1583707202.0, 1583707802.0, 1583708406.0, 1583709002.0, 1583709601.0, 1583710202.0, 1583710802.0, 1583711402.0, 1583712004.0, 1583712602.0, 1583713202.0, 1583713802.0, 1583714402.0, 1583715001.0, 1583715603.0, 1583716202.0, 1583716802.0, 1583717402.0, 1583718002.0, 1583718602.0, 1583719204.0, 1583719802.0, 1583720402.0, 1583721002.0, 1583721602.0, 1583722202.0, 1583722804.0, 1583723402.0, 1583724002.0, 1583724603.0, 1583725202.0, 1583725802.0, 1583726405.0, 1583727002.0, 1583727602.0, 1583728202.0, 1583728802.0, 1583729401.0, 1583730003.0, 1583730602.0, 1583731202.0, 1583731802.0, 1583732402.0, 1583733002.0, 1583733606.0, 1583734202.0, 1583734802.0, 1583735402.0, 1583736002.0, 1583736602.0, 1583737205.0, 1583737802.0, 1583738401.0, 1583739002.0, 1583739602.0, 1583740202.0, 1583740804.0, 1583741402.0, 1583742002.0, 1583742602.0, 1583743201.0, 1583743802.0, 1583744404.0, 1583745002.0, 1583745602.0, 1583746202.0, 1583746802.0, 1583747402.0, 1583748005.0, 1583748602.0, 1583749202.0, 1583749802.0, 1583750402.0, 1583751002.0, 1583751605.0, 1583752202.0, 1583752802.0, 1583753402.0, 1583754001.0, 1583754602.0, 1583755204.0, 1583755802.0, 1583756401.0, 1583757002.0, 1583757602.0, 1583758202.0, 1583758805.0, 1583759402.0, 1583760002.0, 1583760602.0, 1583761202.0, 1583761802.0, 1583762405.0, 1583763002.0, 1583763602.0, 1583764202.0, 1583764802.0, 1583765402.0, 1583766004.0, 1583766602.0, 1583767202.0, 1583767802.0, 1583768402.0, 1583769002.0, 1583769604.0, 1583770202.0, 1583770802.0, 1583771402.0, 1583772002.0, 1583772602.0, 1583773204.0, 1583773802.0, 1583774402.0, 1583775002.0, 1583775602.0, 1583776201.0, 1583776804.0, 1583777402.0, 1583778002.0, 1583778602.0, 1583779202.0, 1583779802.0, 1583780406.0, 1583781002.0, 1583781602.0, 1583782202.0, 1583782802.0, 1583783401.0, 1583784004.0, 1583784601.0, 1583785202.0, 1583785802.0, 1583786402.0, 1583787002.0, 1583787606.0, 1583788202.0, 1583788802.0, 1583789402.0, 1583790002.0, 1583790602.0, 1583791206.0, 1583791802.0, 1583792402.0, 1583793002.0, 1583793602.0, 1583794202.0, 1583794805.0, 1583795402.0, 1583796002.0, 1583796602.0, 1583797202.0, 1583797802.0, 1583798406.0, 1583799002.0, 1583799602.0, 1583800202.0, 1583800802.0, 1583801403.0, 1583802003.0, 1583802602.0, 1583803202.0, 1583803802.0, 1583804402.0, 1583805001.0, 1583805603.0, 1583806202.0, 1583806802.0, 1583807402.0, 1583808002.0, 1583808602.0, 1583809228.0, 1583809801.0, 1583810402.0, 1583811002.0, 1583811602.0, 1583812202.0, 1583812804.0, 1583813402.0, 1583814001.0, 1583814602.0, 1583815202.0, 1583815802.0, 1583816405.0, 1583817002.0, 1583817602.0, 1583818202.0, 1583818802.0, 1583819402.0, 1583820004.0, 1583820602.0, 1583821202.0, 1583821802.0, 1583822402.0, 1583823001.0, 1583823603.0, 1583824202.0, 1583824802.0, 1583825402.0, 1583826002.0, 1583826602.0, 1583827205.0, 1583827802.0, 1583828402.0, 1583829002.0, 1583829601.0, 1583830202.0, 1583830804.0, 1583831401.0, 1583832002.0, 1583832602.0, 1583833202.0, 1583833802.0, 1583834404.0, 1583835002.0, 1583835602.0, 1583836202.0, 1583836801.0, 1583837402.0, 1583838003.0, 1583838602.0, 1583839202.0, 1583839802.0, 1583840402.0, 1583841002.0, 1583841606.0, 1583842202.0, 1583842802.0, 1583843402.0, 1583844002.0, 1583844602.0, 1583845205.0, 1583845802.0, 1583846402.0, 1583847002.0, 1583847602.0, 1583848202.0, 1583848804.0, 1583849402.0, 1583850002.0, 1583850602.0, 1583851202.0, 1583851802.0, 1583852404.0, 1583853002.0, 1583853602.0, 1583854227.0, 1583854802.0, 1583855402.0, 1583856005.0, 1583856602.0, 1583857202.0, 1583857802.0, 1583858401.0, 1583859002.0, 1583859604.0, 1583860202.0, 1583860802.0, 1583861402.0, 1583862027.0, 1583862602.0, 1583863204.0, 1583863802.0, 1583864402.0, 1583865002.0, 1583865602.0, 1583866202.0, 1583866806.0, 1583867402.0, 1583868002.0, 1583868602.0, 1583869202.0, 1583869801.0, 1583870404.0, 1583871002.0, 1583871602.0, 1583872202.0, 1583872802.0, 1583873402.0, 1583874003.0, 1583874602.0, 1583875202.0, 1583875802.0, 1583876402.0, 1583877002.0, 1583877605.0, 1583878202.0, 1583878802.0, 1583879402.0, 1583880002.0, 1583880602.0, 1583881204.0, 1583881802.0, 1583882402.0, 1583883002.0, 1583883602.0, 1583884202.0, 1583884805.0, 1583885402.0, 1583886002.0, 1583886602.0, 1583887202.0, 1583887804.0, 1583888405.0, 1583889002.0, 1583889602.0, 1583890202.0, 1583890802.0, 1583891402.0, 1583892004.0, 1583892602.0, 1583893202.0, 1583893802.0, 1583894402.0, 1583895002.0, 1583895606.0, 1583896202.0, 1583896802.0, 1583897402.0, 1583898002.0, 1583898602.0, 1583899204.0, 1583899802.0, 1583900402.0, 1583901027.0, 1583901602.0, 1583902202.0, 1583902804.0, 1583903402.0, 1583904001.0, 1583904602.0, 1583905202.0, 1583905802.0, 1583906406.0, 1583907002.0, 1583907602.0, 1583908202.0, 1583908802.0, 1583909402.0, 1583910005.0, 1583910602.0, 1583911202.0, 1583911802.0, 1583912402.0, 1583913002.0, 1583913605.0, 1583914202.0, 1583914802.0, 1583915402.0, 1583916002.0, 1583916627.0, 1583917204.0, 1583917802.0, 1583918402.0, 1583919002.0, 1583919602.0, 1583920202.0, 1583920804.0, 1583921402.0, 1583922002.0, 1583922602.0, 1583923202.0, 1583923802.0, 1583924404.0, 1583925002.0, 1583925602.0, 1583926202.0, 1583926802.0, 1583927402.0, 1583928004.0, 1583928602.0, 1583929202.0, 1583929802.0, 1583930402.0, 1583931002.0, 1583931606.0, 1583932227.0, 1583932802.0, 1583933402.0, 1583934002.0, 1583934602.0, 1583935206.0, 1583935802.0, 1583936402.0, 1583937002.0, 1583937602.0, 1583938202.0, 1583938803.0, 1583939402.0, 1583940002.0, 1583940602.0, 1583941202.0, 1583941802.0, 1583942404.0, 1583943002.0, 1583943602.0, 1583944202.0, 1583944802.0, 1583945402.0, 1583946004.0, 1583946602.0, 1583947202.0, 1583947802.0, 1583948402.0, 1583949002.0, 1583949604.0, 1583950202.0, 1583950802.0, 1583951402.0, 1583952001.0, 1583952601.0, 1583953204.0, 1583953802.0, 1583954402.0, 1583955002.0, 1583955602.0, 1583956201.0, 1583956803.0, 1583957402.0, 1583958002.0, 1583958602.0, 1583959202.0, 1583959802.0, 1583960403.0, 1583961002.0, 1583961601.0, 1583962202.0, 1583962802.0, 1583963402.0, 1583964004.0, 1583964602.0, 1583965202.0, 1583965802.0, 1583966402.0, 1583967002.0, 1583967604.0, 1583968202.0, 1583968802.0, 1583969402.0, 1583970002.0, 1583970602.0, 1583971205.0, 1583971802.0, 1583972402.0, 1583973002.0, 1583973602.0, 1583974202.0, 1583974804.0, 1583975402.0, 1583976001.0, 1583976602.0, 1583977202.0, 1583977802.0, 1583978405.0, 1583979002.0, 1583979602.0, 1583980202.0, 1583980801.0, 1583981402.0, 1583982004.0, 1583982602.0, 1583983202.0, 1583983802.0, 1583984402.0, 1583985002.0, 1583985606.0, 1583986227.0, 1583986802.0, 1583987402.0, 1583988002.0, 1583988602.0, 1583989204.0, 1583989802.0, 1583990402.0, 1583991002.0, 1583991602.0, 1583992202.0, 1583992804.0, 1583993402.0, 1583994002.0, 1583994602.0, 1583995202.0, 1583995802.0, 1583996405.0, 1583997002.0, 1583997602.0, 1583998201.0, 1583998802.0, 1583999402.0, 1584000006.0, 1584000602.0, 1584001202.0, 1584001802.0, 1584002402.0, 1584003002.0, 1584003605.0, 1584004202.0, 1584004802.0, 1584005402.0, 1584006002.0, 1584006602.0, 1584007204.0, 1584007802.0, 1584008402.0, 1584009002.0, 1584009601.0, 1584010202.0, 1584010804.0, 1584011402.0, 1584012002.0, 1584012602.0, 1584013201.0, 1584013802.0, 1584014404.0, 1584015002.0, 1584015602.0, 1584016202.0, 1584016801.0, 1584017402.0, 1584018004.0, 1584018602.0, 1584019202.0, 1584019802.0, 1584020402.0, 1584021002.0, 1584021604.0, 1584022202.0, 1584022802.0, 1584023402.0, 1584024002.0, 1584024602.0, 1584025205.0, 1584025802.0, 1584026402.0, 1584027002.0, 1584027601.0, 1584028202.0, 1584028804.0, 1584029402.0, 1584030002.0, 1584030602.0, 1584031202.0, 1584031801.0, 1584032403.0, 1584033001.0, 1584033602.0, 1584034202.0, 1584034802.0, 1584035402.0, 1584036004.0, 1584036602.0, 1584037202.0, 1584037802.0, 1584038402.0, 1584039002.0, 1584039606.0, 1584040202.0, 1584040802.0, 1584041402.0, 1584042002.0, 1584042602.0, 1584043204.0, 1584043802.0, 1584044402.0, 1584045002.0, 1584045601.0, 1584046202.0, 1584046804.0, 1584047402.0, 1584048002.0, 1584048602.0, 1584049202.0, 1584049802.0, 1584050404.0, 1584051002.0, 1584051602.0, 1584052202.0, 1584052802.0, 1584053402.0, 1584054004.0, 1584054602.0, 1584055202.0, 1584055802.0, 1584056401.0, 1584057002.0, 1584057604.0, 1584058202.0, 1584058802.0, 1584059402.0, 1584060002.0, 1584060604.0, 1584061203.0, 1584061802.0, 1584062402.0, 1584063002.0, 1584063602.0, 1584064201.0, 1584064804.0, 1584065402.0, 1584066002.0, 1584066602.0, 1584067201.0, 1584067802.0, 1584068403.0, 1584069002.0, 1584069602.0, 1584070202.0, 1584070802.0, 1584071401.0, 1584072027.0, 1584072602.0, 1584073202.0, 1584073802.0, 1584074402.0, 1584075002.0, 1584075604.0, 1584076202.0, 1584076802.0, 1584077402.0, 1584078001.0, 1584078602.0, 1584079204.0, 1584079802.0, 1584080402.0, 1584081002.0, 1584081602.0, 1584082202.0, 1584082804.0, 1584083402.0, 1584084002.0, 1584084602.0, 1584085202.0, 1584085802.0, 1584086405.0, 1584087002.0, 1584087602.0, 1584088202.0, 1584088802.0, 1584089402.0, 1584090003.0, 1584090602.0, 1584091202.0, 1584091802.0, 1584092402.0, 1584093002.0, 1584093603.0, 1584094202.0, 1584094802.0, 1584095402.0, 1584096002.0, 1584096602.0, 1584097204.0, 1584097802.0, 1584098402.0, 1584099002.0, 1584099601.0, 1584100202.0, 1584100804.0, 1584101402.0, 1584102002.0, 1584102602.0, 1584103202.0, 1584103802.0, 1584104405.0, 1584105002.0, 1584105602.0, 1584106202.0, 1584106802.0, 1584107402.0, 1584108005.0, 1584108602.0, 1584109202.0, 1584109802.0, 1584110401.0, 1584111002.0, 1584111604.0, 1584112202.0, 1584112802.0, 1584113402.0, 1584114002.0, 1584114602.0, 1584115206.0, 1584115802.0, 1584116402.0, 1584117002.0, 1584117602.0, 1584118202.0, 1584118828.0, 1584119402.0, 1584120002.0, 1584120602.0, 1584121202.0, 1584121801.0, 1584122404.0, 1584123001.0, 1584123602.0, 1584124202.0, 1584124802.0, 1584125402.0, 1584126004.0, 1584126602.0, 1584127202.0, 1584127802.0, 1584128402.0, 1584129002.0, 1584129604.0, 1584130202.0, 1584130802.0, 1584131402.0, 1584132002.0, 1584132602.0, 1584133205.0, 1584133802.0, 1584134402.0, 1584135002.0, 1584135602.0, 1584136201.0, 1584136803.0, 1584137402.0, 1584138002.0, 1584138602.0, 1584139202.0, 1584139802.0, 1584140405.0, 1584141002.0, 1584141602.0, 1584142202.0, 1584142801.0, 1584143402.0, 1584144004.0, 1584144602.0, 1584145202.0, 1584145802.0, 1584146402.0, 1584147004.0, 1584147605.0, 1584148202.0, 1584148801.0, 1584149402.0, 1584150002.0, 1584150602.0, 1584151205.0, 1584151802.0, 1584152402.0, 1584153002.0, 1584153602.0, 1584154202.0, 1584154805.0, 1584155402.0, 1584156002.0, 1584156602.0, 1584157202.0, 1584157802.0, 1584158404.0, 1584159002.0, 1584159601.0, 1584160202.0, 1584160802.0, 1584161402.0, 1584162003.0, 1584162602.0, 1584163202.0, 1584163802.0, 1584164402.0, 1584165002.0, 1584165604.0, 1584166202.0, 1584166802.0, 1584167402.0, 1584168002.0, 1584168602.0, 1584169204.0, 1584169802.0, 1584170402.0, 1584171002.0, 1584171602.0, 1584172202.0, 1584172804.0, 1584173402.0, 1584174002.0, 1584174602.0, 1584175226.0, 1584175802.0, 1584176403.0, 1584177002.0, 1584177602.0, 1584178202.0, 1584178802.0, 1584179402.0, 1584180004.0, 1584180602.0, 1584181202.0, 1584181802.0, 1584182402.0, 1584183002.0, 1584183604.0, 1584184202.0, 1584184802.0, 1584185402.0, 1584186002.0, 1584186602.0, 1584187203.0, 1584187801.0, 1584188402.0, 1584189002.0, 1584189602.0, 1584190202.0, 1584190805.0, 1584191402.0, 1584192002.0, 1584192602.0, 1584193202.0, 1584193802.0, 1584194406.0, 1584195002.0, 1584195602.0, 1584196202.0, 1584196802.0, 1584197402.0, 1584198003.0, 1584198602.0, 1584199202.0, 1584199802.0, 1584200402.0, 1584201002.0, 1584201604.0, 1584202202.0, 1584202802.0, 1584203402.0, 1584204002.0, 1584204601.0, 1584205204.0, 1584205802.0, 1584206402.0, 1584207002.0, 1584207602.0, 1584208202.0, 1584208806.0, 1584209402.0, 1584210001.0, 1584210602.0, 1584211202.0, 1584211802.0, 1584212405.0, 1584213002.0, 1584213602.0, 1584214202.0, 1584214802.0, 1584215401.0, 1584216004.0, 1584216602.0, 1584217202.0, 1584217802.0, 1584218402.0, 1584219002.0, 1584219605.0, 1584220202.0, 1584220802.0, 1584221402.0, 1584222002.0, 1584222602.0, 1584223205.0, 1584223802.0, 1584224402.0, 1584225002.0, 1584225602.0, 1584226202.0, 1584226806.0, 1584227402.0, 1584228002.0, 1584228602.0, 1584229202.0, 1584229827.0, 1584230404.0, 1584231002.0, 1584231601.0, 1584232202.0, 1584232802.0, 1584233402.0, 1584234004.0, 1584234602.0, 1584235202.0, 1584235802.0, 1584236402.0, 1584237002.0, 1584237606.0, 1584238202.0, 1584238802.0, 1584239402.0, 1584240002.0, 1584240602.0, 1584241204.0, 1584241802.0, 1584242402.0, 1584243002.0, 1584243602.0, 1584244202.0, 1584244805.0, 1584245402.0, 1584246002.0, 1584246602.0, 1584247202.0, 1584247802.0, 1584248404.0, 1584249002.0, 1584249601.0, 1584250202.0, 1584250802.0, 1584251402.0, 1584252003.0, 1584252602.0, 1584253202.0, 1584253802.0, 1584254402.0, 1584255002.0, 1584255605.0, 1584256202.0, 1584256802.0, 1584257402.0, 1584258002.0, 1584258602.0, 1584259206.0, 1584259802.0, 1584260402.0, 1584261002.0, 1584261602.0, 1584262201.0, 1584262804.0, 1584263402.0, 1584264002.0, 1584264602.0, 1584265201.0, 1584265802.0, 1584266404.0, 1584267002.0, 1584267602.0, 1584268202.0, 1584268802.0, 1584269401.0, 1584270003.0, 1584270602.0, 1584271202.0, 1584271802.0, 1584272401.0, 1584273002.0, 1584273604.0, 1584274202.0, 1584274802.0, 1584275402.0, 1584276002.0, 1584276602.0, 1584277204.0, 1584277802.0, 1584278402.0, 1584279002.0, 1584279602.0, 1584280202.0, 1584280805.0, 1584281402.0, 1584282001.0, 1584282602.0, 1584283202.0, 1584283802.0, 1584284406.0, 1584285002.0, 1584285602.0, 1584286202.0, 1584286802.0, 1584287402.0, 1584288004.0, 1584288602.0, 1584289202.0, 1584289802.0, 1584290402.0, 1584291002.0, 1584291604.0, 1584292202.0, 1584292802.0, 1584293402.0, 1584294002.0, 1584294601.0, 1584295204.0, 1584295802.0, 1584296402.0, 1584297002.0, 1584297602.0, 1584298202.0, 1584298805.0, 1584299402.0, 1584300002.0, 1584300602.0, 1584301202.0, 1584301802.0, 1584302406.0, 1584303002.0, 1584303602.0, 1584304202.0, 1584304802.0, 1584305402.0, 1584306004.0, 1584306602.0, 1584307202.0, 1584307802.0, 1584308402.0, 1584309002.0, 1584309604.0, 1584310202.0, 1584310802.0, 1584311402.0, 1584312002.0, 1584312602.0, 1584313204.0, 1584313802.0, 1584314402.0, 1584315002.0, 1584315602.0, 1584316202.0, 1584316805.0, 1584317401.0, 1584318002.0, 1584318602.0, 1584319201.0, 1584319801.0, 1584320403.0, 1584321002.0, 1584321601.0, 1584322202.0, 1584322802.0, 1584323402.0, 1584324005.0, 1584324602.0, 1584325202.0, 1584325802.0, 1584326402.0, 1584327002.0, 1584327605.0, 1584328202.0, 1584328802.0, 1584329402.0, 1584330002.0, 1584330602.0, 1584331227.0, 1584331802.0, 1584332402.0, 1584333002.0, 1584333602.0, 1584334201.0, 1584334803.0, 1584346801.0, 1584348001.0, 1584348602.0, 1584349204.0, 1584349802.0, 1584350402.0, 1584351002.0, 1584351602.0, 1584352202.0, 1584352804.0, 1584353402.0, 1584354002.0, 1584354602.0, 1584355202.0, 1584355802.0, 1584356403.0, 1584357002.0, 1584357602.0, 1584358202.0, 1584358802.0, 1584359402.0, 1584360004.0, 1584360602.0, 1584361202.0, 1584361802.0, 1584362402.0, 1584363002.0, 1584363606.0, 1584364202.0, 1584364801.0, 1584365402.0, 1584366002.0, 1584366602.0, 1584367205.0, 1584367802.0, 1584368402.0, 1584369002.0, 1584369602.0, 1584370202.0, 1584370804.0, 1584371402.0, 1584372002.0, 1584372602.0, 1584373202.0, 1584373801.0, 1584374404.0, 1584375002.0, 1584375602.0, 1584376202.0, 1584376802.0, 1584377402.0, 1584378005.0, 1584378602.0, 1584379202.0, 1584379802.0, 1584380402.0, 1584381002.0, 1584381603.0, 1584382202.0, 1584382802.0, 1584383402.0, 1584384001.0, 1584384602.0, 1584385205.0, 1584385802.0, 1584386402.0, 1584387002.0, 1584387602.0, 1584388202.0, 1584388805.0, 1584389402.0, 1584390002.0, 1584390602.0, 1584424804.0, 1584425402.0, 1584426002.0, 1584426602.0, 1584427202.0, 1584427802.0, 1584428427.0, 1584429002.0, 1584429602.0, 1584430202.0, 1584430802.0, 1584431401.0, 1584432004.0, 1584432602.0, 1584433202.0, 1584433802.0, 1584434402.0, 1584435002.0, 1584435605.0, 1584436227.0, 1584436801.0, 1584437402.0, 1584438002.0, 1584438602.0, 1584439205.0, 1584439802.0, 1584440402.0, 1584441002.0, 1584441602.0, 1584442202.0, 1584442806.0, 1584443402.0, 1584444002.0, 1584444602.0, 1584445202.0, 1584445802.0, 1584446406.0, 1584447002.0, 1584447602.0, 1584448202.0, 1584448802.0, 1584449402.0, 1584450004.0, 1584450602.0, 1584451202.0, 1584451802.0, 1584452402.0, 1584453002.0, 1584453603.0, 1584454202.0, 1584454802.0, 1584455402.0, 1584456002.0, 1584456602.0, 1584457204.0, 1584457802.0, 1584458401.0, 1584459002.0, 1584459627.0, 1584460202.0, 1584460805.0, 1584461402.0, 1584462002.0, 1584462602.0, 1584463202.0, 1584463802.0, 1584464404.0, 1584465001.0, 1584465602.0, 1584466202.0, 1584466802.0, 1584467401.0, 1584468004.0, 1584468602.0, 1584469201.0, 1584469802.0, 1584470402.0, 1584471002.0, 1584471605.0, 1584472202.0, 1584472802.0, 1584473402.0, 1584474001.0, 1584474602.0, 1584475204.0, 1584475802.0, 1584476402.0, 1584477002.0, 1584477602.0, 1584478202.0, 1584478803.0, 1584479402.0, 1584480002.0, 1584480602.0, 1584481201.0, 1584481802.0, 1584482403.0, 1584483002.0, 1584483602.0, 1584484202.0, 1584484802.0, 1584485402.0, 1584486005.0, 1584486602.0, 1584487202.0, 1584487802.0, 1584488401.0, 1584489002.0, 1584489604.0, 1584490202.0, 1584490801.0, 1584491402.0, 1584492002.0, 1584492604.0, 1584493204.0, 1584493802.0, 1584494402.0, 1584495002.0, 1584495602.0, 1584496202.0, 1584496804.0, 1584497402.0, 1584498002.0, 1584498602.0, 1584499202.0, 1584499801.0, 1584500404.0, 1584501002.0, 1584501602.0, 1584502202.0, 1584502802.0, 1584503402.0, 1584504003.0, 1584504602.0, 1584505202.0, 1584505802.0, 1584506402.0, 1584507002.0, 1584507606.0, 1584508202.0, 1584508802.0, 1584509402.0, 1584510002.0, 1584510601.0, 1584511204.0, 1584511802.0, 1584512402.0, 1584513002.0, 1584513602.0, 1584514201.0, 1584514803.0, 1584515402.0, 1584516002.0, 1584516602.0, 1584517201.0, 1584517802.0, 1584518404.0, 1584519002.0, 1584519601.0, 1584520202.0, 1584520802.0, 1584521401.0, 1584522004.0, 1584522602.0, 1584523202.0, 1584523802.0, 1584524402.0, 1584525002.0, 1584525606.0, 1584526202.0, 1584526802.0, 1584527402.0, 1584528002.0, 1584528602.0, 1584529206.0, 1584529802.0, 1584530402.0, 1584531002.0, 1584531602.0, 1584532202.0, 1584532805.0, 1584533402.0, 1584534002.0, 1584534602.0, 1584535202.0, 1584535801.0, 1584536403.0, 1584537002.0, 1584537602.0, 1584538202.0, 1584538802.0, 1584539402.0, 1584540004.0, 1584540602.0, 1584541202.0, 1584541802.0, 1584542402.0, 1584543002.0, 1584543605.0, 1584544202.0, 1584544802.0, 1584545402.0, 1584546002.0, 1584546602.0, 1584547204.0, 1584547802.0, 1584548402.0, 1584549002.0, 1584549602.0, 1584550202.0, 1584550803.0, 1584551402.0, 1584552002.0, 1584552602.0, 1584553202.0, 1584553802.0, 1584554404.0, 1584555002.0, 1584555602.0, 1584556202.0, 1584556802.0, 1584557402.0, 1584558005.0, 1584558602.0, 1584559202.0, 1584559802.0, 1584560402.0, 1584561002.0, 1584561605.0, 1584562202.0, 1584562802.0, 1584563402.0, 1584564002.0, 1584564601.0, 1584565204.0, 1584565802.0, 1584566402.0, 1584567002.0, 1584567602.0, 1584568202.0, 1584568805.0, 1584569402.0, 1584570002.0, 1584570602.0, 1584571202.0, 1584571802.0, 1584572407.0, 1584573002.0, 1584573602.0, 1584574202.0, 1584574802.0, 1584575402.0, 1584576004.0, 1584576602.0, 1584577201.0, 1584577802.0, 1584578402.0, 1584579029.0, 1584579604.0, 1584580202.0, 1584580802.0, 1584581402.0, 1584582002.0, 1584582602.0, 1584583204.0, 1584583802.0, 1584584402.0, 1584585002.0, 1584585602.0, 1584586202.0, 1584586804.0, 1584587402.0, 1584588002.0, 1584588602.0, 1584589202.0, 1584589801.0, 1584590404.0, 1584591002.0, 1584591602.0, 1584592202.0, 1584592802.0, 1584593402.0, 1584594004.0, 1584594602.0, 1584595202.0, 1584595827.0, 1584596402.0, 1584597002.0, 1584597604.0, 1584598202.0, 1584598802.0, 1584599402.0, 1584600002.0, 1584600602.0, 1584601206.0, 1584601801.0, 1584602402.0, 1584603002.0, 1584603602.0, 1584604202.0, 1584604803.0, 1584605402.0, 1584606002.0, 1584606602.0, 1584607202.0, 1584607802.0, 1584608403.0, 1584609002.0, 1584609602.0, 1584610202.0, 1584610802.0, 1584611402.0, 1584612004.0, 1584612602.0, 1584613202.0, 1584613802.0, 1584614402.0, 1584615002.0, 1584615604.0, 1584616202.0, 1584616802.0, 1584617402.0, 1584618002.0, 1584618602.0, 1584619227.0, 1584619802.0, 1584620402.0, 1584621002.0, 1584621602.0, 1584622202.0, 1584622804.0, 1584623402.0, 1584624002.0, 1584624602.0, 1584625202.0, 1584625802.0, 1584626405.0, 1584627002.0, 1584627602.0, 1584628202.0, 1584628801.0, 1584629402.0, 1584630004.0, 1584630602.0, 1584631202.0, 1584631802.0, 1584632402.0, 1584633002.0, 1584633604.0, 1584634202.0, 1584634802.0, 1584635402.0, 1584636002.0, 1584636602.0, 1584637203.0, 1584637802.0, 1584638402.0, 1584639002.0, 1584639602.0, 1584640202.0, 1584640804.0, 1584641402.0, 1584642002.0, 1584642626.0, 1584643201.0, 1584643802.0, 1584644405.0, 1584645002.0, 1584645602.0, 1584646202.0, 1584646801.0, 1584647402.0, 1584648004.0, 1584648602.0, 1584649202.0, 1584649802.0, 1584650402.0, 1584651002.0, 1584651604.0, 1584652202.0, 1584652802.0, 1584653402.0, 1584654002.0, 1584654602.0, 1584655203.0, 1584655802.0, 1584656402.0, 1584657002.0, 1584657602.0, 1584658227.0, 1584658804.0, 1584659402.0, 1584660002.0, 1584660602.0, 1584661202.0, 1584661802.0, 1584662405.0, 1584663013.0, 1584663602.0, 1584664202.0, 1584664802.0, 1584665402.0, 1584666006.0, 1584666602.0, 1584667202.0, 1584667802.0, 1584668402.0, 1584669002.0, 1584669604.0, 1584670202.0, 1584670802.0, 1584671402.0, 1584672002.0, 1584672602.0, 1584673206.0, 1584673802.0, 1584674401.0, 1584675002.0, 1584675602.0, 1584676202.0, 1584676804.0, 1584677402.0, 1584678002.0, 1584678602.0, 1584679202.0, 1584679802.0, 1584680405.0, 1584681002.0, 1584681602.0, 1584682202.0, 1584682802.0, 1584683402.0, 1584684005.0, 1584684602.0, 1584685202.0, 1584685802.0, 1584686402.0, 1584687002.0, 1584687604.0, 1584688202.0, 1584688802.0, 1584689402.0, 1584690002.0, 1584690602.0, 1584691206.0, 1584691802.0, 1584692402.0, 1584693002.0, 1584693602.0, 1584694202.0, 1584694804.0, 1584695402.0, 1584696002.0, 1584696604.0, 1584697202.0, 1584697802.0, 1584698407.0, 1584699002.0, 1584699602.0, 1584700202.0, 1584700802.0, 1584701402.0, 1584702004.0, 1584702602.0, 1584703201.0, 1584703802.0, 1584704402.0, 1584705001.0, 1584705604.0, 1584706202.0, 1584706802.0, 1584707402.0, 1584708002.0, 1584708602.0, 1584709205.0, 1584709802.0, 1584710402.0, 1584711002.0, 1584711602.0, 1584712202.0, 1584712805.0, 1584713402.0, 1584714002.0, 1584714603.0, 1584715202.0, 1584715802.0, 1584716407.0, 1584717002.0, 1584717602.0, 1584718226.0, 1584718801.0, 1584719402.0, 1584720006.0, 1584720602.0, 1584721202.0, 1584721802.0, 1584722402.0, 1584723002.0, 1584723606.0, 1584724202.0, 1584724801.0, 1584725402.0, 1584726002.0, 1584726602.0, 1584727205.0, 1584727801.0, 1584728402.0, 1584729002.0, 1584729602.0, 1584730202.0, 1584730805.0, 1584731402.0, 1584732002.0, 1584732602.0, 1584733202.0, 1584733801.0, 1584734404.0, 1584735002.0, 1584735602.0, 1584736202.0, 1584736802.0, 1584737402.0, 1584738005.0, 1584738602.0, 1584739202.0, 1584739802.0, 1584740402.0, 1584741002.0, 1584741627.0, 1584742202.0, 1584742801.0, 1584743402.0, 1584744002.0, 1584744602.0, 1584745205.0, 1584745802.0, 1584746402.0, 1584747002.0, 1584747602.0, 1584748201.0, 1584748804.0, 1584749402.0, 1584750002.0, 1584750602.0, 1584751201.0, 1584751802.0, 1584752404.0, 1584753002.0, 1584753602.0, 1584754202.0, 1584754802.0, 1584755402.0, 1584756004.0, 1584756602.0, 1584757202.0, 1584757802.0, 1584758402.0, 1584759001.0, 1584759604.0, 1584760202.0, 1584760802.0, 1584761402.0, 1584762002.0, 1584762602.0, 1584763204.0, 1584763802.0, 1584764402.0, 1584765002.0, 1584765602.0, 1584766202.0, 1584766805.0, 1584767402.0, 1584768002.0, 1584768602.0, 1584769202.0, 1584769802.0, 1584770405.0, 1584771001.0, 1584771602.0, 1584772202.0, 1584772802.0, 1584773402.0, 1584774005.0, 1584774602.0, 1584775202.0, 1584775802.0, 1584776402.0, 1584777001.0, 1584777604.0, 1584778202.0, 1584778801.0, 1584779402.0, 1584780002.0, 1584780602.0, 1584781205.0, 1584781802.0, 1584782402.0, 1584783002.0, 1584783602.0, 1584784202.0, 1584784804.0, 1584785402.0, 1584786002.0, 1584786602.0, 1584787202.0, 1584787802.0, 1584788404.0, 1584789002.0, 1584789602.0, 1584790202.0, 1584790801.0, 1584791402.0, 1584792006.0, 1584792602.0, 1584793202.0, 1584793802.0, 1584794402.0, 1584795002.0, 1584795604.0, 1584796202.0, 1584796802.0, 1584797402.0, 1584798002.0, 1584798602.0, 1584799205.0, 1584799802.0, 1584800402.0, 1584801002.0, 1584801601.0, 1584802202.0, 1584802804.0, 1584803402.0, 1584804002.0, 1584804602.0, 1584805202.0, 1584805802.0, 1584806404.0, 1584807002.0, 1584807602.0, 1584808202.0, 1584808802.0, 1584809402.0, 1584810005.0, 1584810602.0, 1584811202.0, 1584811802.0, 1584812402.0, 1584813002.0, 1584813605.0, 1584814202.0, 1584814802.0, 1584815402.0, 1584816002.0, 1584816602.0, 1584817205.0, 1584817802.0, 1584818402.0, 1584819002.0, 1584819602.0, 1584820202.0, 1584820805.0, 1584821402.0, 1584822002.0, 1584822602.0, 1584823201.0, 1584823802.0, 1584824404.0, 1584825002.0, 1584825602.0, 1584826202.0, 1584826801.0, 1584827402.0, 1584828004.0, 1584828602.0, 1584829202.0, 1584829802.0, 1584830402.0, 1584831002.0, 1584831604.0, 1584832202.0, 1584832802.0, 1584833402.0, 1584834002.0, 1584834602.0, 1584835205.0, 1584835802.0, 1584836402.0, 1584837002.0, 1584837601.0, 1584838202.0, 1584838804.0, 1584839402.0, 1584840002.0, 1584840602.0, 1584841202.0, 1584841801.0, 1584842403.0, 1584843002.0, 1584843602.0, 1584844202.0, 1584844802.0, 1584845402.0, 1584846006.0, 1584846602.0, 1584847202.0, 1584847802.0, 1584848402.0, 1584849002.0, 1584849605.0, 1584850202.0, 1584850802.0, 1584851402.0, 1584852001.0, 1584852626.0, 1584853204.0, 1584853802.0, 1584854402.0, 1584855002.0, 1584855601.0, 1584856202.0, 1584856804.0, 1584857402.0, 1584858002.0, 1584858602.0, 1584859202.0, 1584859802.0, 1584860404.0, 1584861002.0, 1584861601.0, 1584862202.0, 1584862802.0, 1584863402.0, 1584864005.0, 1584864602.0, 1584865202.0, 1584865802.0, 1584866401.0, 1584867001.0, 1584867603.0, 1584868227.0, 1584868802.0, 1584869402.0, 1584870002.0, 1584870601.0, 1584871204.0, 1584871802.0, 1584872402.0, 1584873002.0, 1584873602.0, 1584874202.0, 1584874805.0, 1584875402.0, 1584876002.0, 1584876602.0, 1584877201.0, 1584877801.0, 1584878403.0, 1584879002.0, 1584879601.0, 1584880202.0, 1584880802.0, 1584881402.0, 1584882003.0, 1584882602.0, 1584883202.0, 1584883802.0, 1584884402.0, 1584885002.0, 1584885604.0, 1584886202.0, 1584886802.0, 1584887402.0, 1584888001.0, 1584888602.0, 1584889205.0, 1584889802.0, 1584890401.0, 1584891002.0, 1584891602.0, 1584892202.0, 1584892805.0, 1584893402.0, 1584894002.0, 1584894602.0, 1584895202.0, 1584895802.0, 1584896403.0, 1584897002.0, 1584897602.0, 1584898202.0, 1584898802.0, 1584899402.0, 1584900004.0, 1584900602.0, 1584901202.0, 1584901802.0, 1584902402.0, 1584903002.0, 1584903604.0, 1584904202.0, 1584904802.0, 1584905402.0, 1584906002.0, 1584906602.0, 1584907205.0, 1584907802.0, 1584908402.0, 1584909002.0, 1584909602.0, 1584910202.0, 1584910806.0, 1584911401.0, 1584912002.0, 1584912602.0, 1584913202.0, 1584913802.0, 1584914405.0, 1584915002.0, 1584915602.0, 1584916202.0, 1584916802.0, 1584917402.0, 1584918006.0, 1584918602.0, 1584919202.0, 1584919802.0, 1584920401.0, 1584921002.0, 1584921604.0, 1584922202.0, 1584922802.0, 1584923402.0, 1584924002.0, 1584924602.0, 1584925205.0, 1584925802.0, 1584926402.0, 1584927002.0, 1584927602.0, 1584928201.0, 1584928804.0, 1584929402.0, 1584930002.0, 1584930602.0, 1584931202.0, 1584931802.0, 1584932428.0, 1584933002.0, 1584933602.0, 1584934202.0, 1584934802.0, 1584935402.0, 1584936004.0, 1584936602.0, 1584937202.0, 1584937802.0, 1584938402.0, 1584939002.0, 1584939603.0, 1584940202.0, 1584940802.0, 1584941402.0, 1584942002.0, 1584942601.0, 1584943203.0, 1584943802.0, 1584944402.0, 1584945002.0, 1584945602.0, 1584946202.0, 1584946806.0, 1584947402.0, 1584948002.0, 1584948602.0, 1584949202.0, 1584949802.0, 1584950405.0, 1584951002.0, 1584951602.0, 1584952202.0, 1584952802.0, 1584953401.0, 1584954004.0, 1584954602.0, 1584955202.0, 1584955802.0, 1584956402.0, 1584957002.0, 1584957605.0, 1584958202.0, 1584958802.0, 1584959402.0, 1584960002.0, 1584960602.0, 1584961206.0, 1584961802.0, 1584962402.0, 1584963002.0, 1584963602.0, 1584964202.0, 1584964805.0, 1584965401.0, 1584966002.0, 1584966602.0, 1584967202.0, 1584967802.0, 1584968403.0, 1584969002.0, 1584969602.0, 1584970202.0, 1584970801.0, 1584971402.0, 1584972004.0, 1584972602.0, 1584973202.0, 1584973802.0, 1584974402.0, 1584975002.0, 1584975603.0, 1584976202.0, 1584976802.0, 1584977402.0, 1584978002.0, 1584978602.0, 1584979204.0, 1584979802.0, 1584980402.0, 1584981002.0, 1584981602.0, 1584982202.0, 1584982806.0, 1584983402.0, 1584984002.0, 1584984602.0, 1584985202.0, 1584985802.0, 1584986404.0, 1584987002.0, 1584987602.0, 1584988202.0, 1584988802.0, 1584989402.0, 1584990005.0, 1584990602.0, 1584991202.0, 1584991802.0, 1584992402.0, 1584993001.0, 1584993603.0, 1584994202.0, 1584994802.0, 1584995402.0, 1584996002.0, 1584996601.0, 1584997204.0, 1584997802.0, 1584998401.0, 1584999002.0, 1584999602.0, 1585000202.0, 1585000804.0, 1585001402.0, 1585002002.0, 1585002602.0, 1585003201.0, 1585003802.0, 1585004404.0, 1585005001.0, 1585005602.0, 1585006202.0, 1585006802.0, 1585007402.0] [10, 9, 9, 10, 9, 9, 0, 0, 0, 0, 0, 0, 0, 0, 0, 0, 0, 0, 0, 0, 0, 0, 0, 0, 0, 0, 0, 0, 0, 0, 0, 0, 0, 0, 0, 0, 0, 0, 0, 2, 2, 1, 1, 0, 0, 1, 0, 0, 0, 0, 0, 2, 1, 2, 3, 4, 4, 3, 3, 2, 2, 3, 0, 1, 1, 3, 3, 3, 4, 3, 3, 3, 4, 3, 1, 2, 0, 0, 0, 0, 0, 0, 1, 1, 1, 0, 1, 1, 2, 4, 4, 6, 6, 7, 6, 5, 5, 5, 5, 5, 5, 6, 5, 3, 1, 1, 1, 2, 2, 3, 1, 0, 4, 6, 6, 7, 5, 4, 3, 3, 4, 3, 2, 1, 1, 0, 0, 0, 0, 0, 0, 1, 2, 2, 2, 1, 1, 1, 1, 1, 1, 1, 1, 1, 1, 1, 1, 1, 1, 1, 1, 1, 1, 1, 1, 1, 1, 1, 1, 1, 1, 1, 1, 1, 1, 1, 1, 1, 1, 1, 1, 2, 3, 5, 5, 5, 3, 3, 5, 5, 8, 9, 13, 14, 17, 19, 22, 21, 21, 20, 20, 26, 25, 28, 28, 27, 22, 22, 21, 24, 25, 24, 25, 25, 27, 28, 29, 30, 29, 30, 29, 28, 28, 28, 29, 29, 28, 29, 28, 29, 28, 28, 28, 27, 27, 26, 25, 26, 25, 26, 26, 26, 25, 24, 23, 23, 24, 23, 24, 24, 24, 24, 24, 27, 18, 18, 10, 7, 5, 1, 0, 0, 0, 0, 0, 0, 1, 3, 4, 4, 4, 1, 0, 0, 1, 1, 1, 0, 0, 0, 1, 0, 1, 1, 0, 0, 0, 0, 1, 0, 0, 0, 0, 0, 0, 0, 0, 0, 0, 0, 0, 0, 0, 0, 0, 0, 0, 0, 0, 0, 0, 0, 0, 0, 0, 0, 0, 0, 0, 0, 0, 0, 0, 0, 0, 1, 2, 3, 4, 5, 6, 5, 5, 6, 11, 12, 13, 15, 17, 19, 24, 28, 28, 24, 29, 29, 30, 30, 30, 28, 29, 28, 29, 30, 29, 29, 30, 29, 29, 25, 25, 29, 28, 27, 25, 25, 27, 28, 27, 28, 29, 30, 30, 30, 29, 29, 28, 26, 25, 27, 28, 30, 28, 27, 28, 28, 27, 27, 28, 30, 30, 26, 28, 26, 26, 26, 26, 27, 26, 23, 22, 20, 18, 16, 17, 15, 12, 8, 5, 4, 4, 6, 4, 0, 0, 0, 0, 1, 3, 5, 1, 3, 2, 0, 0, 0, 0, 0, 1, 1, 1, 2, 1, 1, 1, 0, 1, 0, 0, 0, 0, 0, 0, 0, 0, 0, 0, 0, 0, 0, 0, 0, 0, 0, 0, 0, 0, 0, 0, 0, 0, 0, 0, 0, 0, 0, 0, 0, 0, 1, 2, 3, 5, 4, 2, 2, 2, 2, 9, 13, 15, 16, 17, 19, 22, 24, 22, 24, 20, 24, 22, 23, 23, 25, 24, 24, 25, 25, 26, 27, 27, 28, 30, 29, 30, 30, 30, 30, 30, 30, 30, 29, 29, 29, 30, 29, 29, 27, 26, 25, 25, 25, 25, 24, 24, 25, 25, 24, 23, 22, 21, 22, 22, 19, 21, 21, 18, 18, 21, 23, 20, 20, 19, 17, 10, 9, 10, 8, 10, 6, 2, 6, 6, 8, 1, 1, 4, 2, 0, 0, 0, 1, 2, 2, 3, 3, 6, 6, 3, 3, 4, 4, 3, 4, 4, 7, 8, 8, 6, 6, 6, 6, 5, 4, 4, 3, 3, 3, 3, 3, 3, 3, 3, 3, 3, 3, 3, 3, 3, 3, 3, 3, 3, 3, 3, 3, 3, 3, 3, 3, 3, 3, 4, 5, 6, 7, 7, 7, 7, 7, 5, 8, 10, 13, 15, 19, 19, 18, 21, 24, 24, 23, 24, 27, 30, 30, 28, 27, 27, 28, 28, 28, 28, 27, 27, 26, 28, 30, 29, 30, 30, 30, 29, 29, 29, 29, 30, 30, 28, 29, 30, 30, 30, 29, 29, 29, 30, 27, 28, 25, 24, 24, 24, 22, 21, 21, 22, 22, 22, 22, 21, 21, 25, 21, 22, 20, 16, 14, 10, 9, 4, 2, 1, 4, 5, 0, 0, 1, 0, 0, 2, 6, 6, 5, 4, 1, 0, 0, 0, 0, 1, 1, 2, 0, 1, 1, 1, 2, 3, 3, 4, 3, 1, 0, 0, 0, 0, 0, 0, 0, 0, 0, 0, 0, 0, 0, 0, 0, 0, 0, 0, 0, 0, 0, 0, 0, 0, 0, 0, 0, 0, 0, 0, 0, 0, 0, 0, 1, 3, 2, 2, 2, 2, 2, 3, 4, 6, 10, 10, 13, 12, 14, 19, 18, 21, 23, 23, 26, 25, 26, 25, 25, 22, 21, 21, 26, 26, 27, 29, 29, 29, 30, 29, 30, 30, 30, 28, 28, 28, 30, 30, 30, 30, 30, 30, 30, 29, 27, 27, 30, 28, 28, 26, 24, 26, 25, 25, 25, 27, 25, 25, 25, 21, 19, 22, 21, 22, 24, 27, 28, 24, 24, 24, 16, 16, 12, 7, 7, 5, 3, 2, 0, 1, 0, 0, 0, 2, 3, 3, 2, 3, 3, 1, 1, 1, 2, 1, 3, 2, 1, 2, 3, 6, 7, 7, 7, 7, 6, 6, 6, 6, 7, 7, 7, 7, 7, 7, 7, 7, 7, 7, 7, 7, 7, 7, 7, 7, 7, 7, 7, 7, 7, 7, 7, 7, 7, 7, 7, 7, 7, 7, 7, 8, 8, 8, 8, 7, 7, 7, 8, 9, 10, 9, 10, 11, 11, 11, 10, 9, 9, 8, 8, 8, 8, 7, 7, 7, 8, 10, 8, 7, 8, 10, 11, 11, 8, 8, 8, 7, 7, 8, 8, 5, 8, 5, 5, 6, 4, 5, 4, 7, 7, 7, 9, 8, 9, 9, 10, 8, 2, 2, 3, 7, 6, 6, 0, 0, 1, 2, 4, 2, 4, 3, 3, 4, 1, 4, 5, 4, 3, 2, 2, 4, 3, 2, 3, 3, 3, 1, 0, 0, 0, 0, 0, 4, 4, 4, 4, 4, 5, 4, 3, 2, 2, 2, 3, 5, 5, 6, 4, 4, 4, 3, 2, 3, 3, 5, 5, 5, 5, 5, 5, 5, 5, 5, 5, 5, 5, 5, 5, 5, 5, 5, 5, 5, 5, 5, 5, 5, 5, 5, 5, 5, 5, 5, 5, 4, 4, 4, 4, 4, 4, 4, 4, 4, 4, 4, 6, 7, 6, 3, 2, 0, 0, 0, 0, 0, 0, 1, 2, 2, 3, 2, 2, 3, 3, 3, 1, 2, 3, 6, 6, 7, 7, 7, 7, 6, 5, 7, 10, 10, 8, 7, 7, 8, 8, 7, 7, 7, 7, 9, 10, 8, 13, 14, 15, 14, 14, 14, 14, 12, 12, 11, 11, 11, 12, 9, 9, 9, 9, 9, 8, 7, 8, 5, 4, 4, 5, 2, 0, 1, 1, 2, 3, 2, 1, 1, 0, 0, 1, 1, 1, 0, 0, 0, 0, 0, 0, 0, 0, 1, 1, 1, 2, 2, 1, 1, 1, 0, 0, 0, 0, 0, 0, 0, 0, 0, 0, 0, 0, 0, 0, 0, 0, 0, 0, 0, 0, 0, 0, 0, 0, 0, 0, 0, 0, 0, 0, 0, 1, 1, 0, 0, 0, 0, 1, 1, 2, 4, 8, 10, 10, 10, 12, 13, 16, 21, 24, 26, 30, 30, 30, 30, 29, 28, 27, 26, 25, 26, 26, 26, 27, 30, 29, 30, 30, 29, 29, 28, 28, 28, 28, 27, 27, 27, 30, 30, 30, 30, 30, 30, 30, 30, 29, 28, 28, 27, 26, 26, 25, 25, 26, 27, 27, 26, 26, 27, 26, 26, 28, 30, 29, 26, 26, 21, 18, 18, 16, 12, 10, 11, 12, 12, 13, 12, 12, 12, 11, 11, 8, 8, 11, 10, 9, 8, 9, 10, 11, 11, 10, 10, 9, 8, 8, 7, 9, 9, 9, 8, 8, 7, 7, 7, 6, 6, 6, 6, 6, 6, 6, 6, 6, 6, 6, 6, 6, 6, 6, 6, 6, 6, 6, 6, 6, 6, 6, 6, 6, 6, 6, 6, 6, 7, 8, 8, 8, 8, 7, 7, 8, 8, 9, 10, 12, 12, 13, 16, 19, 20, 21, 21, 24, 28, 21, 27, 29, 26, 28, 30, 28, 30, 29, 29, 28, 28, 28, 28, 30, 30, 30, 30, 30, 29, 28, 30, 30, 29, 29, 27, 26, 26, 26, 25, 24, 24, 23, 24, 26, 26, 28, 28, 26, 27, 26, 25, 24, 23, 23, 23, 24, 24, 23, 21, 22, 23, 16, 13, 14, 12, 7, 6, 6, 7, 7, 5, 0, 0, 0, 2, 0, 1, 1, 1, 0, 0, 1, 1, 0, 0, 1, 0, 2, 2, 1, 0, 0, 1, 1, 0, 0, 0, 0, 0, 1, 1, 1, 1, 2, 0, 0, 0, 0, 0, 0, 0, 0, 0, 0, 0, 0, 0, 0, 0, 0, 0, 0, 0, 0, 0, 0, 0, 0, 0, 0, 0, 0, 0, 1, 1, 1, 1, 0, 0, 1, 0, 2, 7, 8, 11, 16, 15, 16, 21, 22, 24, 27, 30, 29, 30, 27, 29, 27, 25, 25, 28, 29, 27, 27, 27, 26, 28, 27, 28, 27, 27, 27, 30, 30, 30, 30, 29, 29, 28, 30, 30, 30, 30, 29, 29, 28, 27, 25, 24, 23, 24, 21, 21, 21, 20, 20, 19, 19, 20, 20, 17, 17, 16, 18, 18, 17, 15, 12, 10, 7, 5, 8, 6, 9, 5, 5, 5, 5, 5, 4, 2, 2, 2, 2, 2, 2, 1, 1, 1, 1, 1, 0, 0, 0, 0, 0, 1, 1, 1, 1, 1, 1, 1, 1, 1, 1, 1, 1, 1, 1, 1, 1, 1, 1, 1, 1, 1, 1, 1, 1, 1, 1, 1, 1, 1, 1, 1, 1, 1, 1, 1, 1, 1, 1, 1, 1, 1, 2, 2, 2, 2, 2, 1, 1, 1, 1, 3, 4, 7, 11, 14, 16, 19, 21, 20, 23, 21, 26, 27, 28, 29, 29, 26, 27, 28, 27, 28, 28, 28, 28, 30, 30, 30, 30, 29, 29, 27, 27, 27, 28, 28, 29, 30, 30, 30, 30, 29, 28, 29, 28, 27, 25, 25, 23, 21, 21, 22, 21, 21, 20, 20, 20, 20, 19, 19, 19, 21, 25, 30, 28, 27, 27, 25, 26, 24, 22, 20, 20, 20, 18, 17, 17, 14, 13, 14, 15, 15, 15, 11, 11, 11, 11, 12, 12, 12, 12, 13, 13, 13, 13, 14, 12, 12, 12, 12, 12, 11, 11, 11, 11, 11, 11, 11, 11, 11, 11, 11, 11, 11, 11, 11, 11, 11, 11, 11, 11, 11, 11, 11, 11, 11, 11, 11, 11, 11, 11, 11, 11, 11, 11, 11, 12, 12, 12, 12, 12, 10, 10, 11, 12, 14, 16, 16, 17, 17, 17, 19, 23, 21, 19, 19, 19, 20, 20, 19, 18, 18, 18, 18, 17, 16, 15, 15, 15, 14, 14, 15, 18, 17, 15, 15, 17, 14, 15, 13, 13, 13, 13, 14, 15, 14, 15, 14, 13, 12, 12, 14, 13, 13, 14, 14, 13, 12, 12, 14, 14, 14, 14, 14, 15, 15, 14, 13, 10, 10, 10, 10, 10, 8, 6, 3, 3, 1, 2, 2, 2, 1, 1, 3, 5, 4, 4, 2, 4, 3, 4, 4, 5, 5, 4, 4, 4, 4, 4, 4, 4, 6, 4, 5, 5, 5, 6, 6, 5, 5, 5, 5, 4, 4, 4, 4, 4, 4, 4, 4, 4, 4, 4, 4, 4, 4, 4, 4, 4, 4, 4, 4, 4, 4, 4, 4, 4, 4, 4, 4, 4, 5, 5, 5, 4, 4, 4, 4, 3, 3, 4, 4, 6, 5, 5, 6, 4, 3, 3, 3, 2, 1, 0, 2, 4, 5, 9, 10, 9, 7, 8, 8, 5, 4, 4, 3, 2, 4, 1, 1, 2, 0, 1, 1, 0, 0, 0, 2, 2, 3, 3, 3, 5, 7, 7, 9, 12, 12, 14, 14, 14, 13, 9, 9, 8, 7, 7, 6, 6, 6, 3, 4, 5, 7, 7, 6, 8, 9, 7, 7, 8, 9, 10, 13, 12, 12, 12, 12, 12, 12, 12, 11, 9, 9, 10, 10, 10, 10, 10, 10, 10, 10, 11, 11, 11, 11, 10, 10, 9, 9, 9, 9, 8, 8, 8, 10, 10, 10, 10, 10, 10, 10, 10, 10, 10, 10, 10, 10, 10, 10, 10, 10, 10, 10, 10, 10, 10, 10, 10, 10, 10, 10, 10, 10, 10, 10, 10, 10, 10, 9, 9, 9, 9, 9, 8, 9, 9, 9, 8, 8, 9, 9, 8, 8, 8, 8, 7, 6, 6, 5, 5, 7, 7, 7, 8, 9, 8, 8, 8, 9, 10, 13, 12, 12, 11, 11, 11, 12, 12, 12, 12, 10, 11, 12, 10, 9, 12, 13, 11, 10, 9, 11, 12, 11, 11, 12, 14, 11, 11, 10, 13, 11, 11, 11, 10, 10, 10, 8, 8, 9, 9, 7, 6, 4, 4, 4, 5, 5, 8, 8, 8, 7, 5, 6, 5, 6, 6, 6, 7, 7, 7, 8, 8, 8, 8, 8, 8, 9, 10, 10, 10, 8, 8, 9, 9, 9, 9, 9, 9, 9, 9, 9, 9, 9, 9, 9, 9, 9, 9, 9, 9, 9, 9, 9, 9, 9, 9, 9, 9, 9, 9, 9, 9, 9, 9, 9, 9, 9, 13, 12, 13, 13, 14, 15, 13, 13, 14, 14, 13, 13, 12, 12, 11, 14, 15, 14, 18, 18, 19, 18, 17, 17, 17, 16, 16, 16, 17, 16, 18, 17, 19, 16, 17, 17, 17, 17, 16, 14, 14, 13, 13, 14, 14, 16, 16, 15, 15, 15, 16, 17, 18, 16, 17, 18, 17, 14, 11, 11, 11, 12, 12, 12, 11, 9, 9, 9, 9, 9, 9, 9, 9, 9, 9, 9, 9, 9, 8, 8, 9, 10, 10, 10, 9, 9, 9, 9, 8, 8, 7, 7, 7, 8, 9, 8, 8, 6, 6, 6, 4, 4, 4, 4, 4, 4, 4, 3, 3, 5, 6, 6, 6, 6, 6, 6, 7, 7, 8, 9, 8, 8, 8, 7, 7, 7, 7, 9, 10, 10, 11, 11, 11, 10, 11, 11, 10, 7, 6, 4, 3, 3, 2, 1, 0, 0, 1, 1, 1, 0, 0, 0, 0, 0, 0, 0, 0, 0, 0, 0, 0, 0, 0, 1, 1, 3, 3, 3, 3, 1, 1, 1, 1, 0, 0, 0, 0, 0, 0, 0, 0, 0, 0, 0, 0, 0, 0, 0, 0, 0, 0, 0, 0, 0, 0, 0, 0, 0, 0, 0, 0, 0, 0, 0, 0, 0, 0, 0, 0, 0, 0, 0, 0, 0, 0, 0, 0, 0, 0, 0, 1, 2, 3, 2, 2, 3, 2, 2, 3, 4, 4, 4, 5, 5, 5, 4, 4, 4, 4, 5, 6, 6, 7, 7, 6, 5, 4, 3, 2, 3, 3, 2, 2, 2, 0, 0, 2, 2, 2, 2, 3, 4, 9, 9, 9, 8, 8, 6, 8, 9, 9, 10, 9, 9, 9, 9, 10, 10, 10, 10, 10, 11, 10, 9, 11, 18, 18, 18, 18, 18, 18, 19, 18, 17, 15, 14, 14, 15, 15, 15, 14, 12, 12, 11, 11, 10, 10, 10, 8, 6, 6, 6, 7, 7, 6, 6, 6, 7, 8, 8, 8, 8, 8, 8, 8, 8, 8, 8, 8, 8, 8, 8, 8, 8, 8, 8, 8, 8, 8, 8, 8, 8, 8, 8, 8, 8, 8, 8, 8, 8, 8, 8, 8, 8, 8, 8, 8, 8, 8, 8, 8, 8, 8, 7, 7, 8, 9, 9, 9, 9, 9, 8, 8, 9, 11, 11, 11, 10, 10, 10, 11, 11, 10, 9, 10, 9, 9, 10, 9, 10, 10, 10, 10, 10, 10, 8, 8, 9, 10, 11, 10, 11, 11, 10, 11, 11, 9, 8, 4, 4, 5, 4, 4, 3, 2, 2, 2, 3, 3, 3, 5, 11, 11, 10, 11, 11, 11, 11, 10, 7, 6, 4, 3, 0, 1, 0, 0, 10, 10, 10, 10, 13, 13, 13, 10, 10, 10, 10, 10, 8, 9, 8, 8, 7, 7, 7, 7, 6, 6, 6, 7, 7, 8, 8, 7, 7, 7, 7, 7, 7, 7, 7, 8, 8, 8, 8, 8, 8, 8, 8, 8, 8, 8, 8, 8, 8, 8, 8, 8, 8, 8, 8, 8, 8, 8, 8, 8, 8, 8, 8, 8, 8, 8, 8, 8, 8, 8, 8, 8, 8, 9, 9, 11, 12, 11, 10, 10, 11, 11, 11, 13, 14, 14, 14, 14, 14, 16, 16, 13, 13, 14, 14, 13, 13, 15, 16, 17, 17, 17, 16, 16, 16, 16, 15, 15, 14, 12, 12, 13, 14, 14, 14, 13, 12, 11, 9, 9, 8, 6, 6, 4, 5, 5, 4, 4, 4, 4, 4, 5, 5, 4, 4, 4, 3, 3, 2, 4, 4, 3, 2, 2, 0, 0, 0, 1, 1, 0, 0, 1, 1, 1, 0, 1, 1, 2, 2, 2, 1, 1, 11, 11, 11, 11, 11, 11, 11, 12, 12, 12, 12, 11, 11, 11, 11, 11, 11, 12, 12, 12, 12, 12, 12, 12, 12, 12, 12, 12, 12, 12, 12, 12, 12, 12, 12, 12, 12, 12, 12, 12, 12, 12, 12, 12, 12, 12, 12, 12, 12, 12, 12, 12, 12, 12, 12, 13, 13, 14, 14, 13, 13, 13, 13, 12, 12, 11, 11, 11, 11, 11, 12, 15, 15, 13, 13, 15, 15, 15, 15, 13, 13, 14, 14, 14, 12, 12, 12, 12, 12, 12, 12, 14, 13, 13, 12, 10, 13, 13, 13, 11, 11, 11, 11, 13, 15, 15, 15, 15, 14, 14, 11, 11, 12, 11, 11, 10, 10, 10, 12, 12, 14, 16, 15, 14, 14, 16, 15, 14, 14, 14, 14, 14, 13, 13, 13, 13, 14, 13, 13, 12, 12, 12, 12, 12, 12, 12, 12, 12, 13, 13, 14, 14, 14, 14, 14, 13, 13, 13, 13, 13, 13, 13, 13, 13, 13, 13, 13, 13, 13, 13, 13, 13, 13, 13, 13, 13, 13, 13, 13, 13, 13, 13, 13, 13, 13, 13, 13, 13, 13, 13, 13, 13, 13, 13, 13, 13, 13, 13, 13, 12, 11, 12, 12, 12, 13, 13, 13, 12, 12, 12, 12, 11, 11, 11, 11, 11, 11, 11, 13, 16, 16, 15, 15, 14, 17, 16, 16, 17, 17, 17, 18, 18, 17, 17, 17, 18, 17, 18, 20, 23, 23, 20, 22, 23, 23, 25, 25, 27, 28, 29, 27, 24, 23, 23, 23, 23, 24, 24, 24, 22, 21, 19, 20, 17, 16, 16, 16, 16, 15, 15, 14, 15, 14, 14, 14, 14, 14, 13, 13, 13, 13, 13, 13, 13, 13, 13, 13, 13, 13, 12, 12, 13, 13, 12, 12, 12, 12, 12, 12, 12, 12, 12, 12, 12, 12, 12, 12, 12, 12, 12, 12, 12, 12, 12, 12, 12, 12, 12, 12, 12, 12, 12, 12, 12, 12, 12, 12, 12, 12, 12, 12, 12, 12, 12, 12, 12, 13, 13, 13, 13, 12, 13, 14, 12, 13, 14, 15, 15, 14, 14, 14, 15, 15, 15, 16, 16, 17, 17, 16, 15, 15, 15, 14, 14, 14, 14, 15, 15, 15, 15, 15, 15, 14, 14, 14, 14, 14, 15, 15, 13, 13, 13, 13, 14, 14, 14, 14, 13, 13, 13, 13, 14, 14, 15, 15, 16, 14, 15, 13, 11, 11, 9, 7, 6, 7, 8, 7, 5, 5, 5, 2, 2, 3, 1, 3, 4, 4, 4, 5, 3, 3, 3, 3, 3, 3, 3, 3, 3, 3, 3, 2, 2, 2, 2, 8, 8, 8, 8, 8, 8, 8, 8, 8, 8, 8]\n"
     ]
    }
   ],
   "source": [
    "stationNumbers = bikeDynamicTS['number'].unique()\n",
    "timeT = []\n",
    "available_bike_stands = []\n",
    "\n",
    "for station in stationNumbers:\n",
    "    tempTime = bikeDynamicTS.loc[(bikeDynamicTS.number == station)]['date_UTC'].values.tolist()\n",
    "    tempStands = bikeDynamicTS.loc[(bikeDynamicTS.number == station)]['available_bike_stands'].values.tolist() \n",
    "    timeT.append(tempTime)\n",
    "    available_bike_stands.append(tempStands)\n",
    "\n",
    "print(timeT[0],available_bike_stands[0])"
   ]
  },
  {
   "cell_type": "markdown",
   "metadata": {},
   "source": [
    "### Bikestand availability for a day"
   ]
  },
  {
   "cell_type": "code",
   "execution_count": 42,
   "metadata": {},
   "outputs": [],
   "source": [
    "# t,s = time[0],available_bike_stands[0]\n",
    "\n",
    "# # split_time = len(t)*0.7\n",
    "# split_time = 10\n",
    "# time_train = t[:split_time]\n",
    "# x_train = s[:split_time]\n",
    "# time_valid = t[split_time:]\n",
    "# x_valid = s[split_time:]\n",
    "\n",
    "# plt.plot(x_train)\n",
    "# plt.xticks(range(len(time_train)), time_train)\n",
    "# plt.xlabel('Available stands')\n",
    "# plt.ylabel('Time')\n",
    "# plt.show()"
   ]
  },
  {
   "cell_type": "code",
   "execution_count": 43,
   "metadata": {},
   "outputs": [],
   "source": [
    "# time = [item for sublist in time for item in tempTime]\n",
    "# available_bike_stands = [item for sublist in available_bike_stands for item in sublist]"
   ]
  },
  {
   "cell_type": "code",
   "execution_count": 44,
   "metadata": {},
   "outputs": [],
   "source": [
    "# # split_time = 10\n",
    "# split_time = len(time)*0.7\n",
    "# time_train = time[:split_time]\n",
    "# x_train = available_bike_stands[:split_time]\n",
    "# time_valid = time[split_time:]\n",
    "# x_valid = available_bike_stands[split_time:]\n",
    "\n",
    "# plt.plot(x_train)\n",
    "# plt.xticks(range(len(time_train)), time_train)\n",
    "# plt.xlabel('Available stands')\n",
    "# plt.ylabel('Time')\n",
    "# plt.show()"
   ]
  },
  {
   "cell_type": "code",
   "execution_count": 45,
   "metadata": {},
   "outputs": [
    {
     "data": {
      "image/png": "[encoded data removed]",
      "text/plain": [
       "<Figure size 432x288 with 1 Axes>"
      ]
     },
     "metadata": {
      "needs_background": "light"
     },
     "output_type": "display_data"
    }
   ],
   "source": [
    "time,series = timeT[0],available_bike_stands[0]\n",
    "\n",
    "tLen = len(time)\n",
    "split_time = tLen - int(tLen*0.2) \n",
    "time_train = time[:split_time]\n",
    "x_train = series[:split_time]\n",
    "time_valid = time[split_time:]\n",
    "x_valid = series[split_time:]\n",
    "\n",
    "plt.plot(time_train, x_train)\n",
    "# plt.xticks(range(len(time_train)), time_train)\n",
    "plt.xlabel('Time')\n",
    "plt.ylabel('Available stands')\n",
    "plt.show()\n",
    "\n",
    "window_size = 30\n",
    "batch_size = 32\n",
    "shuffle_buffer_size = 1000"
   ]
  },
  {
   "cell_type": "code",
   "execution_count": 46,
   "metadata": {},
   "outputs": [],
   "source": [
    "def windowed_dataset(series, window_size, batch_size, shuffle_buffer):\n",
    "    series = tf.expand_dims(series, axis=-1)\n",
    "    ds = tf.data.Dataset.from_tensor_slices(series)\n",
    "    ds = ds.window(window_size + 1, shift=1, drop_remainder=True)\n",
    "    ds = ds.flat_map(lambda w: w.batch(window_size + 1))\n",
    "    ds = ds.shuffle(shuffle_buffer)\n",
    "    ds = ds.map(lambda w: (w[:-1], w[1:]))\n",
    "    return ds.batch(batch_size).prefetch(1)"
   ]
  },
  {
   "cell_type": "code",
   "execution_count": 47,
   "metadata": {},
   "outputs": [],
   "source": [
    "def model_forecast(model, series, window_size):\n",
    "    ds = tf.data.Dataset.from_tensor_slices(series)\n",
    "    ds = ds.window(window_size, shift=1, drop_remainder=True)\n",
    "    ds = ds.flat_map(lambda w: w.batch(window_size))\n",
    "    ds = ds.batch(32).prefetch(1)\n",
    "    forecast = model.predict(ds)\n",
    "    return forecast"
   ]
  },
  {
   "cell_type": "code",
   "execution_count": 48,
   "metadata": {},
   "outputs": [],
   "source": [
    "# tf.keras.backend.clear_session()\n",
    "# tf.random.set_seed(51)\n",
    "# np.random.seed(51)\n",
    "# window_size = 64\n",
    "# batch_size = 256\n",
    "# train_set = windowed_dataset(x_train, window_size, batch_size, shuffle_buffer_size)\n",
    "# print(train_set)\n",
    "# # print(x_train.shape)\n",
    "\n",
    "# model = tf.keras.models.Sequential([\n",
    "#   tf.keras.layers.Conv1D(filters=32, kernel_size=5,\n",
    "#                       strides=1, padding=\"causal\",\n",
    "#                       activation=\"relu\",\n",
    "#                       input_shape=[None, 1]),\n",
    "#   tf.keras.layers.LSTM(64, return_sequences=True),\n",
    "#   tf.keras.layers.LSTM(64, return_sequences=True),\n",
    "#   tf.keras.layers.Dense(30, activation=\"relu\"),\n",
    "#   tf.keras.layers.Dense(10, activation=\"relu\"),\n",
    "#   tf.keras.layers.Dense(1),\n",
    "#   tf.keras.layers.Lambda(lambda x: x * 400)\n",
    "# ])\n",
    "\n",
    "# lr_schedule = tf.keras.callbacks.LearningRateScheduler(\n",
    "#     lambda epoch: 1e-8 * 10**(epoch / 20))\n",
    "# optimizer = tf.keras.optimizers.SGD(lr=1e-8, momentum=0.9)\n",
    "# model.compile(loss=tf.keras.losses.Huber(),\n",
    "#               optimizer=optimizer,\n",
    "#               metrics=[\"mae\"])\n",
    "# history = model.fit(train_set, epochs=100, callbacks=[lr_schedule])"
   ]
  },
  {
   "cell_type": "code",
   "execution_count": 49,
   "metadata": {},
   "outputs": [],
   "source": [
    "# plt.semilogx(history.history[\"lr\"], history.history[\"loss\"])\n",
    "# plt.axis([1e-8, 1e-4, 0, 60])"
   ]
  },
  {
   "cell_type": "code",
   "execution_count": 50,
   "metadata": {},
   "outputs": [
    {
     "name": "stdout",
     "output_type": "stream",
     "text": [
      "Epoch 1/150\n",
      "26/26 [==============================] - 2s 88ms/step - loss: 10.2887 - mae: 10.8553\n",
      "Epoch 2/150\n",
      "26/26 [==============================] - 1s 23ms/step - loss: 3.1384 - mae: 3.6088\n",
      "Epoch 3/150\n",
      "26/26 [==============================] - 1s 22ms/step - loss: 2.2388 - mae: 2.6825\n",
      "Epoch 4/150\n",
      "26/26 [==============================] - 1s 22ms/step - loss: 1.9057 - mae: 2.3398\n",
      "Epoch 5/150\n",
      "26/26 [==============================] - 1s 22ms/step - loss: 1.7339 - mae: 2.1562\n",
      "Epoch 6/150\n",
      "26/26 [==============================] - 1s 23ms/step - loss: 1.6007 - mae: 2.0108\n",
      "Epoch 7/150\n",
      "26/26 [==============================] - 1s 22ms/step - loss: 1.5075 - mae: 1.9267\n",
      "Epoch 8/150\n",
      "26/26 [==============================] - 1s 22ms/step - loss: 1.4087 - mae: 1.8221\n",
      "Epoch 9/150\n",
      "26/26 [==============================] - 1s 22ms/step - loss: 1.3426 - mae: 1.7530\n",
      "Epoch 10/150\n",
      "26/26 [==============================] - 1s 24ms/step - loss: 1.2910 - mae: 1.7021\n",
      "Epoch 11/150\n",
      "26/26 [==============================] - 1s 23ms/step - loss: 1.2292 - mae: 1.6335\n",
      "Epoch 12/150\n",
      "26/26 [==============================] - 1s 23ms/step - loss: 1.1836 - mae: 1.5842\n",
      "Epoch 13/150\n",
      "26/26 [==============================] - 1s 23ms/step - loss: 1.1405 - mae: 1.5436\n",
      "Epoch 14/150\n",
      "26/26 [==============================] - 1s 22ms/step - loss: 1.1067 - mae: 1.5031\n",
      "Epoch 15/150\n",
      "26/26 [==============================] - 1s 22ms/step - loss: 1.0825 - mae: 1.4769\n",
      "Epoch 16/150\n",
      "26/26 [==============================] - 1s 22ms/step - loss: 1.0852 - mae: 1.4863\n",
      "Epoch 17/150\n",
      "26/26 [==============================] - 1s 22ms/step - loss: 1.0385 - mae: 1.4326\n",
      "Epoch 18/150\n",
      "26/26 [==============================] - 1s 23ms/step - loss: 1.0205 - mae: 1.4095\n",
      "Epoch 19/150\n",
      "26/26 [==============================] - 1s 24ms/step - loss: 1.0076 - mae: 1.3984\n",
      "Epoch 20/150\n",
      "26/26 [==============================] - 1s 22ms/step - loss: 1.0035 - mae: 1.3955\n",
      "Epoch 21/150\n",
      "26/26 [==============================] - 1s 27ms/step - loss: 0.9787 - mae: 1.3678\n",
      "Epoch 22/150\n",
      "26/26 [==============================] - 1s 25ms/step - loss: 0.9853 - mae: 1.3761\n",
      "Epoch 23/150\n",
      "26/26 [==============================] - 1s 23ms/step - loss: 0.9614 - mae: 1.3509\n",
      "Epoch 24/150\n",
      "26/26 [==============================] - 1s 22ms/step - loss: 0.9562 - mae: 1.3435\n",
      "Epoch 25/150\n",
      "26/26 [==============================] - 1s 24ms/step - loss: 0.9544 - mae: 1.3432\n",
      "Epoch 26/150\n",
      "26/26 [==============================] - 1s 22ms/step - loss: 0.9576 - mae: 1.3493\n",
      "Epoch 27/150\n",
      "26/26 [==============================] - 1s 25ms/step - loss: 1.1278 - mae: 1.5468\n",
      "Epoch 28/150\n",
      "26/26 [==============================] - 1s 22ms/step - loss: 0.9359 - mae: 1.3221\n",
      "Epoch 29/150\n",
      "26/26 [==============================] - 1s 23ms/step - loss: 0.9082 - mae: 1.2906: 0s - loss: 0.9842 - mae: 1\n",
      "Epoch 30/150\n",
      "26/26 [==============================] - 1s 22ms/step - loss: 0.8976 - mae: 1.2768\n",
      "Epoch 31/150\n",
      "26/26 [==============================] - 1s 22ms/step - loss: 0.9024 - mae: 1.2873\n",
      "Epoch 32/150\n",
      "26/26 [==============================] - 1s 22ms/step - loss: 0.9163 - mae: 1.3059\n",
      "Epoch 33/150\n",
      "26/26 [==============================] - 1s 22ms/step - loss: 0.8884 - mae: 1.2689\n",
      "Epoch 34/150\n",
      "26/26 [==============================] - 1s 22ms/step - loss: 0.8745 - mae: 1.2524\n",
      "Epoch 35/150\n",
      "26/26 [==============================] - 1s 22ms/step - loss: 0.8699 - mae: 1.2462\n",
      "Epoch 36/150\n",
      "26/26 [==============================] - 1s 25ms/step - loss: 0.8750 - mae: 1.2580\n",
      "Epoch 37/150\n",
      "26/26 [==============================] - 1s 22ms/step - loss: 0.8732 - mae: 1.2548\n",
      "Epoch 38/150\n",
      "26/26 [==============================] - 1s 23ms/step - loss: 0.8535 - mae: 1.2323\n",
      "Epoch 39/150\n",
      "26/26 [==============================] - 1s 22ms/step - loss: 0.8421 - mae: 1.2199\n",
      "Epoch 40/150\n",
      "26/26 [==============================] - 1s 23ms/step - loss: 0.8328 - mae: 1.2047\n",
      "Epoch 41/150\n",
      "26/26 [==============================] - 1s 22ms/step - loss: 0.8608 - mae: 1.2431\n",
      "Epoch 42/150\n",
      "26/26 [==============================] - 1s 22ms/step - loss: 0.8491 - mae: 1.2302\n",
      "Epoch 43/150\n",
      "26/26 [==============================] - 1s 23ms/step - loss: 0.8202 - mae: 1.1934\n",
      "Epoch 44/150\n",
      "26/26 [==============================] - 1s 22ms/step - loss: 0.8340 - mae: 1.2115\n",
      "Epoch 45/150\n",
      "26/26 [==============================] - 1s 25ms/step - loss: 0.8175 - mae: 1.1887\n",
      "Epoch 46/150\n",
      "26/26 [==============================] - 1s 22ms/step - loss: 0.8351 - mae: 1.2117\n",
      "Epoch 47/150\n",
      "26/26 [==============================] - 1s 22ms/step - loss: 0.8000 - mae: 1.1699\n",
      "Epoch 48/150\n",
      "26/26 [==============================] - 1s 22ms/step - loss: 0.8023 - mae: 1.1720\n",
      "Epoch 49/150\n",
      "26/26 [==============================] - 1s 22ms/step - loss: 0.8089 - mae: 1.1834\n",
      "Epoch 50/150\n",
      "26/26 [==============================] - 1s 22ms/step - loss: 0.7948 - mae: 1.1675\n",
      "Epoch 51/150\n",
      "26/26 [==============================] - 1s 22ms/step - loss: 0.7885 - mae: 1.1586\n",
      "Epoch 52/150\n",
      "26/26 [==============================] - 1s 22ms/step - loss: 0.7916 - mae: 1.1620\n",
      "Epoch 53/150\n",
      "26/26 [==============================] - 1s 22ms/step - loss: 0.8056 - mae: 1.1824\n",
      "Epoch 54/150\n",
      "26/26 [==============================] - 1s 24ms/step - loss: 0.7891 - mae: 1.1631\n",
      "Epoch 55/150\n",
      "26/26 [==============================] - 1s 22ms/step - loss: 0.7674 - mae: 1.1339\n",
      "Epoch 56/150\n",
      "26/26 [==============================] - 1s 22ms/step - loss: 0.7677 - mae: 1.1316\n",
      "Epoch 57/150\n",
      "26/26 [==============================] - 1s 22ms/step - loss: 0.7637 - mae: 1.1284\n",
      "Epoch 58/150\n",
      "26/26 [==============================] - 1s 22ms/step - loss: 0.7658 - mae: 1.1349\n",
      "Epoch 59/150\n",
      "26/26 [==============================] - 1s 22ms/step - loss: 0.7671 - mae: 1.1397\n",
      "Epoch 60/150\n",
      "26/26 [==============================] - 1s 22ms/step - loss: 0.7649 - mae: 1.1369\n",
      "Epoch 61/150\n",
      "26/26 [==============================] - 1s 22ms/step - loss: 0.7541 - mae: 1.1199\n",
      "Epoch 62/150\n",
      "26/26 [==============================] - 1s 22ms/step - loss: 0.7539 - mae: 1.1200\n",
      "Epoch 63/150\n",
      "26/26 [==============================] - 1s 24ms/step - loss: 0.7481 - mae: 1.1152\n",
      "Epoch 64/150\n",
      "26/26 [==============================] - 1s 22ms/step - loss: 0.7436 - mae: 1.1102\n",
      "Epoch 65/150\n",
      "26/26 [==============================] - 1s 22ms/step - loss: 0.7401 - mae: 1.1019\n",
      "Epoch 66/150\n",
      "26/26 [==============================] - 1s 22ms/step - loss: 0.7349 - mae: 1.1004\n",
      "Epoch 67/150\n",
      "26/26 [==============================] - 1s 22ms/step - loss: 0.7309 - mae: 1.0927\n",
      "Epoch 68/150\n",
      "26/26 [==============================] - 1s 21ms/step - loss: 0.7273 - mae: 1.0882\n",
      "Epoch 69/150\n",
      "26/26 [==============================] - 1s 22ms/step - loss: 0.7698 - mae: 1.1469\n",
      "Epoch 70/150\n",
      "26/26 [==============================] - 1s 22ms/step - loss: 0.7272 - mae: 1.0880\n",
      "Epoch 71/150\n",
      "26/26 [==============================] - 1s 22ms/step - loss: 0.7222 - mae: 1.0826\n",
      "Epoch 72/150\n",
      "26/26 [==============================] - 1s 24ms/step - loss: 0.7232 - mae: 1.0893\n",
      "Epoch 73/150\n",
      "26/26 [==============================] - 1s 21ms/step - loss: 0.7144 - mae: 1.0745\n",
      "Epoch 74/150\n",
      "26/26 [==============================] - 1s 22ms/step - loss: 0.7161 - mae: 1.0771\n",
      "Epoch 75/150\n",
      "26/26 [==============================] - 1s 22ms/step - loss: 0.7097 - mae: 1.0698\n",
      "Epoch 76/150\n",
      "26/26 [==============================] - 1s 22ms/step - loss: 0.7158 - mae: 1.0795\n",
      "Epoch 77/150\n",
      "26/26 [==============================] - 1s 21ms/step - loss: 0.7249 - mae: 1.0937\n",
      "Epoch 78/150\n",
      "26/26 [==============================] - 1s 22ms/step - loss: 0.7173 - mae: 1.0843\n",
      "Epoch 79/150\n",
      "26/26 [==============================] - 1s 22ms/step - loss: 0.7011 - mae: 1.0612\n",
      "Epoch 80/150\n",
      "26/26 [==============================] - 1s 22ms/step - loss: 0.7095 - mae: 1.0730\n",
      "Epoch 81/150\n",
      "26/26 [==============================] - 1s 23ms/step - loss: 0.6989 - mae: 1.0559\n",
      "Epoch 82/150\n",
      "26/26 [==============================] - 1s 22ms/step - loss: 0.6912 - mae: 1.0485\n",
      "Epoch 83/150\n",
      "26/26 [==============================] - 1s 22ms/step - loss: 0.7007 - mae: 1.0614\n",
      "Epoch 84/150\n",
      "26/26 [==============================] - 1s 21ms/step - loss: 0.6892 - mae: 1.0462\n",
      "Epoch 85/150\n",
      "26/26 [==============================] - 1s 22ms/step - loss: 0.6957 - mae: 1.0561\n",
      "Epoch 86/150\n"
     ]
    },
    {
     "name": "stdout",
     "output_type": "stream",
     "text": [
      "26/26 [==============================] - 1s 22ms/step - loss: 0.6814 - mae: 1.0359\n",
      "Epoch 87/150\n",
      "26/26 [==============================] - 1s 22ms/step - loss: 0.6831 - mae: 1.0385\n",
      "Epoch 88/150\n",
      "26/26 [==============================] - 1s 21ms/step - loss: 0.6896 - mae: 1.0509\n",
      "Epoch 89/150\n",
      "26/26 [==============================] - 1s 22ms/step - loss: 0.6856 - mae: 1.0452\n",
      "Epoch 90/150\n",
      "26/26 [==============================] - 1s 22ms/step - loss: 0.6825 - mae: 1.0396\n",
      "Epoch 91/150\n",
      "26/26 [==============================] - 1s 23ms/step - loss: 0.6802 - mae: 1.0358\n",
      "Epoch 92/150\n",
      "26/26 [==============================] - 1s 21ms/step - loss: 0.6911 - mae: 1.0511\n",
      "Epoch 93/150\n",
      "26/26 [==============================] - 1s 22ms/step - loss: 0.6994 - mae: 1.0628\n",
      "Epoch 94/150\n",
      "26/26 [==============================] - 1s 22ms/step - loss: 0.6678 - mae: 1.0208\n",
      "Epoch 95/150\n",
      "26/26 [==============================] - 1s 22ms/step - loss: 0.6652 - mae: 1.0162\n",
      "Epoch 96/150\n",
      "26/26 [==============================] - 1s 22ms/step - loss: 0.6683 - mae: 1.0213\n",
      "Epoch 97/150\n",
      "26/26 [==============================] - 1s 22ms/step - loss: 0.6652 - mae: 1.0169\n",
      "Epoch 98/150\n",
      "26/26 [==============================] - 1s 22ms/step - loss: 0.6794 - mae: 1.0394\n",
      "Epoch 99/150\n",
      "26/26 [==============================] - 1s 22ms/step - loss: 0.6780 - mae: 1.0357\n",
      "Epoch 100/150\n",
      "26/26 [==============================] - 1s 24ms/step - loss: 0.6625 - mae: 1.0144\n",
      "Epoch 101/150\n",
      "26/26 [==============================] - 1s 21ms/step - loss: 0.6906 - mae: 1.0572\n",
      "Epoch 102/150\n",
      "26/26 [==============================] - 1s 22ms/step - loss: 0.6775 - mae: 1.0380\n",
      "Epoch 103/150\n",
      "26/26 [==============================] - 1s 21ms/step - loss: 0.6636 - mae: 1.0181\n",
      "Epoch 104/150\n",
      "26/26 [==============================] - 1s 22ms/step - loss: 0.6538 - mae: 1.0080\n",
      "Epoch 105/150\n",
      "26/26 [==============================] - 1s 21ms/step - loss: 0.6577 - mae: 1.0072\n",
      "Epoch 106/150\n",
      "26/26 [==============================] - 1s 22ms/step - loss: 0.6729 - mae: 1.0326\n",
      "Epoch 107/150\n",
      "26/26 [==============================] - 1s 21ms/step - loss: 0.6689 - mae: 1.0279\n",
      "Epoch 108/150\n",
      "26/26 [==============================] - 1s 21ms/step - loss: 0.6546 - mae: 1.0072\n",
      "Epoch 109/150\n",
      "26/26 [==============================] - 1s 23ms/step - loss: 0.6521 - mae: 1.0004\n",
      "Epoch 110/150\n",
      "26/26 [==============================] - 1s 21ms/step - loss: 0.6578 - mae: 1.0151\n",
      "Epoch 111/150\n",
      "26/26 [==============================] - 1s 22ms/step - loss: 0.6549 - mae: 1.0100\n",
      "Epoch 112/150\n",
      "26/26 [==============================] - 1s 21ms/step - loss: 0.6447 - mae: 0.9970\n",
      "Epoch 113/150\n",
      "26/26 [==============================] - 1s 22ms/step - loss: 0.6554 - mae: 1.0117\n",
      "Epoch 114/150\n",
      "26/26 [==============================] - 1s 22ms/step - loss: 0.6857 - mae: 1.0569\n",
      "Epoch 115/150\n",
      "26/26 [==============================] - 1s 22ms/step - loss: 0.6486 - mae: 0.9998\n",
      "Epoch 116/150\n",
      "26/26 [==============================] - 1s 21ms/step - loss: 0.6444 - mae: 0.9939\n",
      "Epoch 117/150\n",
      "26/26 [==============================] - 1s 22ms/step - loss: 0.6384 - mae: 0.9857\n",
      "Epoch 118/150\n",
      "26/26 [==============================] - 1s 23ms/step - loss: 0.6575 - mae: 1.0184\n",
      "Epoch 119/150\n",
      "26/26 [==============================] - 1s 22ms/step - loss: 0.6394 - mae: 0.9897\n",
      "Epoch 120/150\n",
      "26/26 [==============================] - 1s 22ms/step - loss: 0.6365 - mae: 0.9847\n",
      "Epoch 121/150\n",
      "26/26 [==============================] - 1s 21ms/step - loss: 0.6350 - mae: 0.9839\n",
      "Epoch 122/150\n",
      "26/26 [==============================] - 1s 22ms/step - loss: 0.6390 - mae: 0.9896\n",
      "Epoch 123/150\n",
      "26/26 [==============================] - 1s 21ms/step - loss: 0.6395 - mae: 0.9888\n",
      "Epoch 124/150\n",
      "26/26 [==============================] - 1s 22ms/step - loss: 0.6403 - mae: 0.9901\n",
      "Epoch 125/150\n",
      "26/26 [==============================] - 1s 21ms/step - loss: 0.6299 - mae: 0.9755\n",
      "Epoch 126/150\n",
      "26/26 [==============================] - 1s 22ms/step - loss: 0.6353 - mae: 0.9851\n",
      "Epoch 127/150\n",
      "26/26 [==============================] - 1s 23ms/step - loss: 0.6269 - mae: 0.9723\n",
      "Epoch 128/150\n",
      "26/26 [==============================] - 1s 22ms/step - loss: 0.6319 - mae: 0.9788\n",
      "Epoch 129/150\n",
      "26/26 [==============================] - 1s 22ms/step - loss: 0.6302 - mae: 0.9788\n",
      "Epoch 130/150\n",
      "26/26 [==============================] - 1s 22ms/step - loss: 0.6303 - mae: 0.9818\n",
      "Epoch 131/150\n",
      "26/26 [==============================] - 1s 22ms/step - loss: 0.6432 - mae: 0.9978\n",
      "Epoch 132/150\n",
      "26/26 [==============================] - 1s 22ms/step - loss: 0.6264 - mae: 0.9717\n",
      "Epoch 133/150\n",
      "26/26 [==============================] - 1s 22ms/step - loss: 0.6217 - mae: 0.9688\n",
      "Epoch 134/150\n",
      "26/26 [==============================] - 1s 21ms/step - loss: 0.6285 - mae: 0.9771\n",
      "Epoch 135/150\n",
      "26/26 [==============================] - 1s 22ms/step - loss: 0.6220 - mae: 0.9679\n",
      "Epoch 136/150\n",
      "26/26 [==============================] - 1s 22ms/step - loss: 0.6236 - mae: 0.9691\n",
      "Epoch 137/150\n",
      "26/26 [==============================] - 1s 23ms/step - loss: 0.6224 - mae: 0.9660\n",
      "Epoch 138/150\n",
      "26/26 [==============================] - 1s 21ms/step - loss: 0.6302 - mae: 0.9835\n",
      "Epoch 139/150\n",
      "26/26 [==============================] - 1s 22ms/step - loss: 0.6205 - mae: 0.9631\n",
      "Epoch 140/150\n",
      "26/26 [==============================] - 1s 21ms/step - loss: 0.6253 - mae: 0.9713\n",
      "Epoch 141/150\n",
      "26/26 [==============================] - 1s 22ms/step - loss: 0.6187 - mae: 0.9621\n",
      "Epoch 142/150\n",
      "26/26 [==============================] - 1s 22ms/step - loss: 0.6229 - mae: 0.9740\n",
      "Epoch 143/150\n",
      "26/26 [==============================] - 1s 22ms/step - loss: 0.6154 - mae: 0.9573\n",
      "Epoch 144/150\n",
      "26/26 [==============================] - 1s 22ms/step - loss: 0.6280 - mae: 0.9786\n",
      "Epoch 145/150\n",
      "26/26 [==============================] - 1s 22ms/step - loss: 0.6192 - mae: 0.9657\n",
      "Epoch 146/150\n",
      "26/26 [==============================] - 1s 23ms/step - loss: 0.6169 - mae: 0.9651\n",
      "Epoch 147/150\n",
      "26/26 [==============================] - 1s 21ms/step - loss: 0.6225 - mae: 0.9715\n",
      "Epoch 148/150\n",
      "26/26 [==============================] - 1s 22ms/step - loss: 0.6136 - mae: 0.9573\n",
      "Epoch 149/150\n",
      "26/26 [==============================] - 1s 22ms/step - loss: 0.6124 - mae: 0.9562\n",
      "Epoch 150/150\n",
      "26/26 [==============================] - 1s 22ms/step - loss: 0.6170 - mae: 0.9638\n"
     ]
    }
   ],
   "source": [
    "tf.keras.backend.clear_session()\n",
    "tf.random.set_seed(51)\n",
    "np.random.seed(51)\n",
    "train_set = windowed_dataset(x_train, window_size=30, batch_size=100, shuffle_buffer=shuffle_buffer_size)\n",
    "model = tf.keras.models.Sequential([\n",
    "  tf.keras.layers.Conv1D(filters=30, kernel_size=5,\n",
    "                      strides=1, padding=\"causal\",\n",
    "                      activation=\"relu\",\n",
    "                      input_shape=[None, 1]),\n",
    "  tf.keras.layers.LSTM(30, return_sequences=True),\n",
    "  tf.keras.layers.LSTM(30, return_sequences=True),\n",
    "  tf.keras.layers.Dense(30, activation=\"relu\"),\n",
    "  tf.keras.layers.Dense(10, activation=\"relu\"),\n",
    "  tf.keras.layers.Dense(1),\n",
    "  tf.keras.layers.Lambda(lambda x: x * 400)\n",
    "])\n",
    "\n",
    "\n",
    "optimizer = tf.keras.optimizers.SGD(lr=1e-5, momentum=0.9)\n",
    "model.compile(loss=tf.keras.losses.Huber(),\n",
    "              optimizer=optimizer,\n",
    "              metrics=[\"mae\"])\n",
    "history = model.fit(train_set,epochs=150)"
   ]
  },
  {
   "cell_type": "code",
   "execution_count": 51,
   "metadata": {},
   "outputs": [],
   "source": [
    "series = np.asarray(series)\n",
    "rnn_forecast = model_forecast(model, series[..., np.newaxis], window_size)\n",
    "rnn_forecast = rnn_forecast[split_time - window_size:-1, -1, 0]"
   ]
  },
  {
   "cell_type": "code",
   "execution_count": 52,
   "metadata": {},
   "outputs": [],
   "source": [
    "def plot_series(time, series, format=\"-\", start=0, end=None):\n",
    "    plt.plot(time[start:end], series[start:end], format)\n",
    "    plt.xlabel(\"Time\")\n",
    "    plt.ylabel(\"Value\")\n",
    "    plt.grid(True)"
   ]
  },
  {
   "cell_type": "code",
   "execution_count": 53,
   "metadata": {},
   "outputs": [
    {
     "data": {
      "image/png": "[encoded data removed]",
      "text/plain": [
       "<Figure size 720x432 with 1 Axes>"
      ]
     },
     "metadata": {
      "needs_background": "light"
     },
     "output_type": "display_data"
    }
   ],
   "source": [
    "plt.figure(figsize=(10, 6))\n",
    "# plot_series(time_valid, x_valid)\n",
    "# plot_series(time_valid, rnn_forecast)\n",
    "\n",
    "plt.plot(x_valid)\n",
    "plt.xticks(range(len(time_valid)), time_valid)\n",
    "plt.xlabel('Time')\n",
    "plt.ylabel('Available stands')\n",
    "\n",
    "plt.plot(rnn_forecast)\n",
    "plt.xticks(range(len(time_valid)), time_valid)\n",
    "plt.xlabel('Time')\n",
    "plt.ylabel('Available stands')\n",
    "\n",
    "plt.show()\n",
    "\n"
   ]
  },
  {
   "cell_type": "code",
   "execution_count": 54,
   "metadata": {},
   "outputs": [
    {
     "data": {
      "text/plain": [
       "0.8108871"
      ]
     },
     "execution_count": 54,
     "metadata": {},
     "output_type": "execute_result"
    }
   ],
   "source": [
    "tf.keras.metrics.mean_absolute_error(x_valid, rnn_forecast).numpy()"
   ]
  },
  {
   "cell_type": "code",
   "execution_count": 55,
   "metadata": {
    "scrolled": false
   },
   "outputs": [
    {
     "data": {
      "text/plain": [
       "<Figure size 432x288 with 0 Axes>"
      ]
     },
     "execution_count": 55,
     "metadata": {},
     "output_type": "execute_result"
    },
    {
     "data": {
      "image/png": "[encoded data removed]",
      "text/plain": [
       "<Figure size 432x288 with 1 Axes>"
      ]
     },
     "metadata": {
      "needs_background": "light"
     },
     "output_type": "display_data"
    },
    {
     "data": {
      "image/png": "[encoded data removed]",
      "text/plain": [
       "<Figure size 432x288 with 1 Axes>"
      ]
     },
     "metadata": {
      "needs_background": "light"
     },
     "output_type": "display_data"
    },
    {
     "data": {
      "text/plain": [
       "<Figure size 432x288 with 0 Axes>"
      ]
     },
     "metadata": {},
     "output_type": "display_data"
    }
   ],
   "source": [
    "import matplotlib.image  as mpimg\n",
    "import matplotlib.pyplot as plt\n",
    "\n",
    "#-----------------------------------------------------------\n",
    "# Retrieve a list of list results on training and test data\n",
    "# sets for each training epoch\n",
    "#-----------------------------------------------------------\n",
    "loss=history.history['loss']\n",
    "\n",
    "epochs=range(len(loss)) # Get number of epochs\n",
    "\n",
    "\n",
    "#------------------------------------------------\n",
    "# Plot training and validation loss per epoch\n",
    "#------------------------------------------------\n",
    "plt.plot(epochs, loss, 'r')\n",
    "plt.title('Training loss')\n",
    "plt.xlabel(\"Epochs\")\n",
    "plt.ylabel(\"Loss\")\n",
    "plt.legend([\"Loss\"])\n",
    "\n",
    "plt.figure()\n",
    "\n",
    "\n",
    "\n",
    "zoomed_loss = loss[200:]\n",
    "zoomed_epochs = range(200,len(zoomed_loss)+200)\n",
    "\n",
    "\n",
    "#------------------------------------------------\n",
    "# Plot training and validation loss per epoch\n",
    "#------------------------------------------------\n",
    "plt.plot(zoomed_epochs, zoomed_loss, 'r')\n",
    "plt.title('Training loss')\n",
    "plt.xlabel(\"Epochs\")\n",
    "plt.ylabel(\"Loss\")\n",
    "plt.legend([\"Loss\"])\n",
    "\n",
    "plt.figure()"
   ]
  },
  {
   "cell_type": "code",
   "execution_count": 56,
   "metadata": {},
   "outputs": [
    {
     "name": "stdout",
     "output_type": "stream",
     "text": [
      "Saved model to disk\n"
     ]
    }
   ],
   "source": [
    "# serialize model to JSON\n",
    "model_json = model.to_json()\n",
    "with open(\"model.json\", \"w\") as json_file:\n",
    "    json_file.write(model_json)\n",
    "# serialize weights to HDF5\n",
    "model.save_weights(\"model.h5\")\n",
    "print(\"Saved model to disk\")b"
   ]
  },
  {
   "cell_type": "code",
   "execution_count": null,
   "metadata": {},
   "outputs": [],
   "source": [
    "UsrInput = [stnNumberSrc,stnNumberDest, time{}] -----> 6.24\n",
    "\n",
    "UsrOutputSrc = [{atcualTime = 6.20 atcualBikes = time = [6-6.30,6.30-7,7-7.30,....5 hrs], noBike = [] },{}]\n",
    "UsrOutputDest = [atcualTime = 6.20 atcualBikesStand = time = [6-6.30,6.30-7,7-7.30,....5 hrs], noatcualBikesStand =[]]"
   ]
  },
  {
   "cell_type": "markdown",
   "metadata": {},
   "source": [
    "# 4. Feature Engineering"
   ]
  },
  {
   "cell_type": "markdown",
   "metadata": {},
   "source": [
    "## 4.1 new feature set 1"
   ]
  },
  {
   "cell_type": "markdown",
   "metadata": {},
   "source": [
    "## 4.2 new feature set 2 "
   ]
  },
  {
   "cell_type": "markdown",
   "metadata": {},
   "source": [
    "## 4.5 Post processing"
   ]
  },
  {
   "cell_type": "markdown",
   "metadata": {},
   "source": [
    "### 4.5.1 Print data types "
   ]
  },
  {
   "cell_type": "markdown",
   "metadata": {},
   "source": [
    "### 4.5.2 Print discriptive statistics "
   ]
  },
  {
   "cell_type": "markdown",
   "metadata": {},
   "source": [
    "**Print statistics for catagorical data**"
   ]
  },
  {
   "cell_type": "markdown",
   "metadata": {},
   "source": [
    "**Print statistics for continuous data**"
   ]
  },
  {
   "cell_type": "markdown",
   "metadata": {},
   "source": [
    "**Print statistics for datetime data**"
   ]
  },
  {
   "cell_type": "markdown",
   "metadata": {},
   "source": [
    "### 4.5.3 Save preprocessed data into new CSV for further analystics stage "
   ]
  }
 ],
 "metadata": {
  "kernelspec": {
   "display_name": "Python 3",
   "language": "python",
   "name": "python3"
  },
  "language_info": {
   "codemirror_mode": {
    "name": "ipython",
    "version": 3
   },
   "file_extension": ".py",
   "mimetype": "text/x-python",
   "name": "python",
   "nbconvert_exporter": "python",
   "pygments_lexer": "ipython3",
   "version": "3.7.4"
  }
 },
 "nbformat": 4,
 "nbformat_minor": 1
}
